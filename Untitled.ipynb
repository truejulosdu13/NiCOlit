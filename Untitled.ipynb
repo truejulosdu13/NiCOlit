{
 "cells": [
  {
   "cell_type": "code",
   "execution_count": 1,
   "id": "ba45a02c",
   "metadata": {},
   "outputs": [],
   "source": [
    "import numpy as np\n",
    "import pandas as pd\n",
    "from rdkit import Chem\n",
    "from rdkit.Chem import Draw\n",
    "from rdkit.Chem import AllChem\n",
    "from rdkit import RDLogger\n",
    "RDLogger.DisableLog('rdApp.*') \n",
    "\n",
    "df = pd.read_csv('Data_test09032021.csv', sep = ',')"
   ]
  },
  {
   "cell_type": "code",
   "execution_count": 2,
   "id": "184c1170",
   "metadata": {},
   "outputs": [],
   "source": [
    "# this file generates the inputs for pyscf optimisations from the desire molecules"
   ]
  },
  {
   "cell_type": "code",
   "execution_count": 4,
   "id": "e11acdf7",
   "metadata": {},
   "outputs": [],
   "source": [
    "# generation of inputs files for the reactants"
   ]
  },
  {
   "cell_type": "code",
   "execution_count": 8,
   "id": "1205bed3",
   "metadata": {},
   "outputs": [],
   "source": [
    "react = df[\"Reactant Smile (C-O)\"]\n",
    "unik_react = []"
   ]
  },
  {
   "cell_type": "code",
   "execution_count": 9,
   "id": "003af1aa",
   "metadata": {},
   "outputs": [],
   "source": [
    "for i in react:\n",
    "    j = Chem.MolToSmiles(Chem.MolFromSmiles(i))\n",
    "    if j not in unik_react:\n",
    "        unik_react.append(j)"
   ]
  },
  {
   "cell_type": "code",
   "execution_count": 10,
   "id": "d37b2363",
   "metadata": {},
   "outputs": [
    {
     "data": {
      "text/plain": [
       "393"
      ]
     },
     "execution_count": 10,
     "metadata": {},
     "output_type": "execute_result"
    }
   ],
   "source": [
    "len(unik_react)"
   ]
  },
  {
   "cell_type": "code",
   "execution_count": 11,
   "id": "3b35dc09",
   "metadata": {},
   "outputs": [
    {
     "ename": "ModuleNotFoundError",
     "evalue": "No module named 'pyscf'",
     "output_type": "error",
     "traceback": [
      "\u001b[0;31m---------------------------------------------------------------------------\u001b[0m",
      "\u001b[0;31mModuleNotFoundError\u001b[0m                       Traceback (most recent call last)",
      "\u001b[0;32m<ipython-input-11-7e4f92906771>\u001b[0m in \u001b[0;36m<module>\u001b[0;34m\u001b[0m\n\u001b[0;32m----> 1\u001b[0;31m \u001b[0;32mfrom\u001b[0m \u001b[0mpyscf\u001b[0m \u001b[0;32mimport\u001b[0m \u001b[0mgto\u001b[0m\u001b[0;34m,\u001b[0m \u001b[0mdft\u001b[0m\u001b[0;34m,\u001b[0m \u001b[0mlo\u001b[0m\u001b[0;34m\u001b[0m\u001b[0;34m\u001b[0m\u001b[0m\n\u001b[0m\u001b[1;32m      2\u001b[0m \u001b[0;34m\u001b[0m\u001b[0m\n\u001b[1;32m      3\u001b[0m \u001b[0;31m# util functions :\u001b[0m\u001b[0;34m\u001b[0m\u001b[0;34m\u001b[0m\u001b[0;34m\u001b[0m\u001b[0m\n\u001b[1;32m      4\u001b[0m \u001b[0;32mdef\u001b[0m \u001b[0matoms_from_xyz\u001b[0m\u001b[0;34m(\u001b[0m\u001b[0mxyz\u001b[0m\u001b[0;34m)\u001b[0m\u001b[0;34m:\u001b[0m\u001b[0;34m\u001b[0m\u001b[0;34m\u001b[0m\u001b[0m\n\u001b[1;32m      5\u001b[0m     \u001b[0mL\u001b[0m \u001b[0;34m=\u001b[0m \u001b[0mxyz\u001b[0m\u001b[0;34m.\u001b[0m\u001b[0msplit\u001b[0m\u001b[0;34m(\u001b[0m\u001b[0;34m'\\n'\u001b[0m\u001b[0;34m)\u001b[0m\u001b[0;34m\u001b[0m\u001b[0;34m\u001b[0m\u001b[0m\n",
      "\u001b[0;31mModuleNotFoundError\u001b[0m: No module named 'pyscf'"
     ]
    }
   ],
   "source": [
    "from pyscf import gto, dft, lo\n",
    "\n",
    "# util functions :\n",
    "def atoms_from_xyz(xyz):\n",
    "    L = xyz.split('\\n')\n",
    "    L = L[2:-1]\n",
    "    atoms = []\n",
    "    for i in L:\n",
    "        ats = i.split(' ')\n",
    "        while '' in ats:     \n",
    "            ats.pop(ats.index(''))\n",
    "        at_def = [ats[0]]\n",
    "        at_coord = (float(ats[1]), float(ats[2]), float(ats[3]))\n",
    "        at_def.append(at_coord)\n",
    "        atoms.append(at_def)\n",
    "    return atoms\n",
    "\n",
    "def pyscf_input_from_smiles(smi):\n",
    "    m = Chem.MolFromSmiles(smi)\n",
    "    m2 = Chem.AddHs(m)\n",
    "    AllChem.EmbedMolecule(m2)\n",
    "    # rdkiyt mean filed optimization (add ref)\n",
    "    AllChem.MMFFOptimizeMolecule(m2)\n",
    "    xyz = Chem.MolToXYZBlock(m2)\n",
    "    return atoms_from_xyz(xyz)\n",
    "\n",
    "def verify_charge_and_spin(mol):\n",
    "    val = True\n",
    "    if mol.charge !=0 or mol.spin !=0:\n",
    "        print(\"Problem in molecule definition !\")\n",
    "        val = False\n",
    "    if mol.natm == 0:\n",
    "        print(\"XYZ has not been read\")\n",
    "        val = False\n",
    "    return val"
   ]
  },
  {
   "cell_type": "code",
   "execution_count": null,
   "id": "27e5f0c1",
   "metadata": {},
   "outputs": [],
   "source": []
  }
 ],
 "metadata": {
  "kernelspec": {
   "display_name": "Python 3",
   "language": "python",
   "name": "python3"
  },
  "language_info": {
   "codemirror_mode": {
    "name": "ipython",
    "version": 3
   },
   "file_extension": ".py",
   "mimetype": "text/x-python",
   "name": "python",
   "nbconvert_exporter": "python",
   "pygments_lexer": "ipython3",
   "version": "3.9.5"
  }
 },
 "nbformat": 4,
 "nbformat_minor": 5
}
