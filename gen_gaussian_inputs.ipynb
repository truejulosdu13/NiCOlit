{
 "cells": [
  {
   "cell_type": "code",
   "execution_count": 1,
   "id": "8e22689c",
   "metadata": {},
   "outputs": [],
   "source": [
    "import numpy as np\n",
    "import os\n",
    "import pandas as pd\n",
    "from rdkit import Chem\n",
    "from rdkit.Chem import Draw\n",
    "from rdkit.Chem import AllChem\n",
    "from rdkit import RDLogger\n",
    "RDLogger.DisableLog('rdApp.*') \n",
    "\n",
    "df = pd.read_csv('Data_test09032021.csv', sep = ',')"
   ]
  },
  {
   "cell_type": "code",
   "execution_count": 2,
   "id": "e0d10ce2",
   "metadata": {},
   "outputs": [],
   "source": [
    "# this file generates the inputs for pyscf optimisations from the desire molecules"
   ]
  },
  {
   "cell_type": "code",
   "execution_count": 3,
   "id": "96d642d6",
   "metadata": {},
   "outputs": [],
   "source": [
    "# generation of inputs files for the reactants"
   ]
  },
  {
   "cell_type": "code",
   "execution_count": 4,
   "id": "296bb43c",
   "metadata": {},
   "outputs": [],
   "source": [
    "react = df[\"Reactant Smile (C-O)\"]\n",
    "unik_react = []"
   ]
  },
  {
   "cell_type": "code",
   "execution_count": 5,
   "id": "c0c0e892",
   "metadata": {},
   "outputs": [],
   "source": [
    "for i in react:\n",
    "    j = Chem.MolToSmiles(Chem.MolFromSmiles(i))\n",
    "    if j not in unik_react:\n",
    "        unik_react.append(j)"
   ]
  },
  {
   "cell_type": "code",
   "execution_count": 6,
   "id": "373d66a7",
   "metadata": {
    "scrolled": true
   },
   "outputs": [
    {
     "data": {
      "text/plain": [
       "393"
      ]
     },
     "execution_count": 6,
     "metadata": {},
     "output_type": "execute_result"
    }
   ],
   "source": [
    "len(unik_react)"
   ]
  },
  {
   "cell_type": "code",
   "execution_count": 38,
   "id": "3ca72f91",
   "metadata": {},
   "outputs": [],
   "source": [
    "def gen_inp(smi, i, func, basis, path):\n",
    "    m = Chem.MolFromSmiles(smi)\n",
    "    m2 = Chem.AddHs(m)\n",
    "    AllChem.EmbedMolecule(m2)\n",
    "    # rdkiyt mean filed optimization (add ref)\n",
    "    AllChem.MMFFOptimizeMolecule(m2)\n",
    "    xyz = Chem.MolToXYZBlock(m2)\n",
    "    with open(\"{}mol_inp{}.com\".format(path, f\"{i:03}\"), 'w') as f:\n",
    "        f.write('%chk=opt.chk\\n%mem=2gb\\n%nproc=1\\n')\n",
    "        f.write(\"#p {} {} opt scf(xqc,tight)\\n\\nopt calculation\\n\\n\".format(func, basis))\n",
    "        f.write(\"0 1\\n\")\n",
    "        f.write(xyz[4:])\n",
    "        f.write('\\n')\n",
    "    with open(\"{}do\".format(path), 'w') as f2:\n",
    "        f2.write('#! /bin/bash\\n#SBATCH -J runG09\\n#SBATCH --ntasks=1\\n')\n",
    "        f2.write('#SBATCH --time=1000:00:00\\n')       \n",
    "        f2.write(\"#SBATCH --output mol_{}.out\\n\".format(f\"{i:03}\"))\n",
    "        f2.write(\"#SBATCH --mail-type=ALL\\n\")\n",
    "        f2.write(\"#SBATCH --mail-user=jules.schleinitz@ens.fr\\n\\n\")\n",
    "        f2.write(\"#########################################################\\n\\n\")\n",
    "        f2.write(\"module purge\\nmodule load gaussian\\n\\n\")\n",
    "        f2.write(\"source ${g09root}/g09.profile\\n\\n\")\n",
    "        f2.write(\"g09 mol_inp{}\\n\".format(f\"{i:03}\"))\n"
   ]
  },
  {
   "cell_type": "code",
   "execution_count": 39,
   "id": "532929b2",
   "metadata": {},
   "outputs": [],
   "source": [
    "for i, smi in enumerate(unik_react):\n",
    "    os.mkdir(\"inputs/{}\".format(f\"{i:03}\"), mode=0o777 )\n",
    "    gen_inp(smi, i, 'b3lyp', '6-31G*', \"inputs/{}/\".format(f\"{i:03}\"))"
   ]
  },
  {
   "cell_type": "code",
   "execution_count": 41,
   "id": "58b2301d",
   "metadata": {},
   "outputs": [
    {
     "data": {
      "text/plain": [
       "6.324555320336758e-06"
      ]
     },
     "execution_count": 41,
     "metadata": {},
     "output_type": "execute_result"
    }
   ],
   "source": [
    "2*10**(-5.5)"
   ]
  },
  {
   "cell_type": "code",
   "execution_count": 48,
   "id": "c4efc3e2",
   "metadata": {},
   "outputs": [
    {
     "data": {
      "text/plain": [
       "3.5080175174552166"
      ]
     },
     "execution_count": 48,
     "metadata": {},
     "output_type": "execute_result"
    }
   ],
   "source": [
    "F = 96485\n",
    "cfc = 6.2/(9.5*186.04)*10**3\n",
    "Dfc = 0.44*10**(-9)\n",
    "cfc"
   ]
  },
  {
   "cell_type": "code",
   "execution_count": null,
   "id": "936406f2",
   "metadata": {},
   "outputs": [],
   "source": []
  },
  {
   "cell_type": "code",
   "execution_count": 50,
   "id": "afb6c567",
   "metadata": {},
   "outputs": [],
   "source": [
    "S = 131*10**(-6)/(0.4463*F*cfc*np.sqrt(F*Dfc/(8.314*298)))"
   ]
  },
  {
   "cell_type": "code",
   "execution_count": 53,
   "id": "3124a822",
   "metadata": {},
   "outputs": [
    {
     "data": {
      "text/plain": [
       "28.251862480055838"
      ]
     },
     "execution_count": 53,
     "metadata": {},
     "output_type": "execute_result"
    }
   ],
   "source": [
    "b = 1.8*10**(-5)\n",
    "DNi = 1.08*10**(-10)\n",
    "cNi = 0.17\n",
    "n = (b/(F*S*cNi))*np.sqrt(np.pi/DNi)\n",
    "n"
   ]
  },
  {
   "cell_type": "code",
   "execution_count": null,
   "id": "2b0e67f6",
   "metadata": {},
   "outputs": [],
   "source": []
  }
 ],
 "metadata": {
  "kernelspec": {
   "display_name": "Python 3",
   "language": "python",
   "name": "python3"
  },
  "language_info": {
   "codemirror_mode": {
    "name": "ipython",
    "version": 3
   },
   "file_extension": ".py",
   "mimetype": "text/x-python",
   "name": "python",
   "nbconvert_exporter": "python",
   "pygments_lexer": "ipython3",
   "version": "3.9.5"
  }
 },
 "nbformat": 4,
 "nbformat_minor": 5
}
