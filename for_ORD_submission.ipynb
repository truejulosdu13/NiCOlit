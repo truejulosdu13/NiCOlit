{
 "cells": [
  {
   "cell_type": "code",
   "execution_count": 1,
   "metadata": {},
   "outputs": [],
   "source": [
    "import pandas as pd\n",
    "import numpy as np\n",
    "from rdkit import Chem"
   ]
  },
  {
   "cell_type": "code",
   "execution_count": 2,
   "metadata": {},
   "outputs": [],
   "source": [
    "df = pd.read_csv(\"data/NiCOlit.csv\")"
   ]
  },
  {
   "cell_type": "code",
   "execution_count": 14,
   "metadata": {},
   "outputs": [],
   "source": [
    "# remove reviews\n",
    "df2 = df.loc[df.review == \"Research_Article\"]\n",
    "\n",
    "# convert time and temperature\n",
    "from descriptors.dft_featurisation import temperatures, times\n",
    "T = temperatures(df2)\n",
    "t = times(df2)\n",
    "\n",
    "df3 = df2.copy()\n",
    "df3['time_h'] = t\n",
    "df3['temperature'] = T\n",
    "\n",
    "# convert catalysts into SMILES\n",
    "from descriptors.dictionnaries import dict_smiles_catalysts\n",
    "dict_smiles_catalysts.update({0 : ''})\n",
    "df3.catalyst_precursor = df2.catalyst_precursor.fillna(0)\n",
    "smi_cat = [dict_smiles_catalysts[cat] for cat in df3.catalyst_precursor]\n",
    "df3['smi_catalyst_precursor'] = smi_cat\n",
    "\n",
    "# convert solvent into SMILES\n",
    "from descriptors.dictionnaries import dict_solvants\n",
    "df3['smi_solvent'] = [dict_solvants[sol] for sol in df3.solvent]\n",
    "\n",
    "# convert ligand into SMILES\n",
    "from descriptors.dictionnaries import dict_ligand\n",
    "dict_ligand.update({0 : ''})\n",
    "df3.effective_ligand = df2.effective_ligand.fillna(0)\n",
    "df3['smi_effective_ligand'] = [dict_ligand[lig] for lig in df3.effective_ligand]\n",
    "\n",
    "# process yields\n",
    "from descriptors.dft_featurisation import process_yield\n",
    "iso_y = [process_yield(y) for y in df3.isolated_yield]\n",
    "ana_y = [process_yield(y) for y in df3.analytical_yield]\n",
    "Y = []\n",
    "for i, y in enumerate(iso_y):\n",
    "    if y is not None:\n",
    "        Y.append(y)\n",
    "    else:\n",
    "        Y.append(ana_y[i])\n",
    "        \n",
    "df3['yield'] = Y"
   ]
  },
  {
   "cell_type": "code",
   "execution_count": 15,
   "metadata": {},
   "outputs": [
    {
     "data": {
      "text/plain": [
       "Index(['substrate', 'coupling_partner', 'effective_coupling_partner',\n",
       "       'solvent', 'time', 'temperature', 'catalyst_precursor', 'reagents',\n",
       "       'effective_reagents', 'effective_reagents_covalent', 'reductant',\n",
       "       'ligand', 'effective_ligand', 'product', 'analytical_yield',\n",
       "       'isolated_yield', 'coupling_partner_class', 'DOI', 'origin',\n",
       "       'eq_substrate', 'eq_coupling_partner', 'eq_catalyst', 'eq_ligand',\n",
       "       'eq_reagent', '2_steps', 'scheme_table', 'review', 'Mechanism',\n",
       "       'time_h', 'smi_catalyst_precursor', 'smi_solvent',\n",
       "       'smi_effective_ligand', 'yield'],\n",
       "      dtype='object')"
      ]
     },
     "execution_count": 15,
     "metadata": {},
     "output_type": "execute_result"
    }
   ],
   "source": [
    "df3.columns"
   ]
  },
  {
   "cell_type": "code",
   "execution_count": 16,
   "metadata": {},
   "outputs": [],
   "source": [
    "list_cols = ['substrate', 'eq_substrate', \n",
    "             'effective_coupling_partner', 'eq_coupling_partner',\n",
    "             'smi_catalyst_precursor', 'eq_catalyst', \n",
    "             'smi_solvent', \n",
    "             'effective_reagents', 'eq_reagent', \n",
    "             'smi_effective_ligand', 'eq_ligand',\n",
    "             'temperature',\n",
    "             'time_h',\n",
    "             'product', 'yield'\n",
    "            ]\n",
    "df_ord = df3[list_cols]"
   ]
  },
  {
   "cell_type": "code",
   "execution_count": 18,
   "metadata": {},
   "outputs": [],
   "source": [
    "df_ord.to_csv(\"data/ORD/NiCOlit_for_ORD.csv\")"
   ]
  },
  {
   "cell_type": "code",
   "execution_count": null,
   "metadata": {},
   "outputs": [],
   "source": []
  }
 ],
 "metadata": {
  "kernelspec": {
   "display_name": "Python 3 (ipykernel)",
   "language": "python",
   "name": "python3"
  },
  "language_info": {
   "codemirror_mode": {
    "name": "ipython",
    "version": 3
   },
   "file_extension": ".py",
   "mimetype": "text/x-python",
   "name": "python",
   "nbconvert_exporter": "python",
   "pygments_lexer": "ipython3",
   "version": "3.9.7"
  }
 },
 "nbformat": 4,
 "nbformat_minor": 4
}
