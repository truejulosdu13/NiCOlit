{
 "cells": [
  {
   "cell_type": "code",
   "execution_count": 1,
   "id": "7d3e6475",
   "metadata": {},
   "outputs": [],
   "source": [
    "import sys\n",
    "sys.path.append('../')\n",
    "import pandas as pd\n",
    "import numpy as np\n",
    "from rdkit import Chem \n",
    "\n",
    "from rdkit import RDLogger\n",
    "RDLogger.logger().setLevel(RDLogger.CRITICAL)\n",
    "\n",
    "import dft_descriptors.prepocessing as pp\n",
    "import dft_descriptors.featurisation as ft"
   ]
  },
  {
   "cell_type": "code",
   "execution_count": 2,
   "id": "c896c38b",
   "metadata": {},
   "outputs": [],
   "source": [
    "df = pd.read_csv(\"../data_csv/Data_test11042021.csv\", sep = ',')"
   ]
  },
  {
   "cell_type": "code",
   "execution_count": 3,
   "id": "aafa5c55",
   "metadata": {},
   "outputs": [],
   "source": [
    "df2 = pp.preprocess(df)"
   ]
  },
  {
   "cell_type": "code",
   "execution_count": 4,
   "id": "5d09f603",
   "metadata": {},
   "outputs": [
    {
     "name": "stdout",
     "output_type": "stream",
     "text": [
      "NoLigand\n"
     ]
    },
    {
     "data": {
      "text/plain": [
       "(array([['111.0', '-95.0', '2.38', ..., 'C', 'C', 'C'],\n",
       "        ['111.0', '-95.0', '2.38', ..., 'C', 'C', 'C'],\n",
       "        ['111.0', '-95.0', '2.38', ..., 'C', 'C', 'C'],\n",
       "        ...,\n",
       "        ['111.0', '-95.0', '2.38', ..., 'C', 'C', 'C'],\n",
       "        ['111.0', '-95.0', '2.38', ..., 'C', 'C', 'C'],\n",
       "        ['111.0', '-95.0', '2.38', ..., 'C', 'C', 'C']], dtype='<U33'),\n",
       " array([ 73.,  62.,  62., ..., 100., 100., 100.]),\n",
       " array(['https://doi.org/10.1002/chem.201603436',\n",
       "        'https://doi.org/10.1002/chem.201603436',\n",
       "        'https://doi.org/10.1002/chem.201603436', ..., 'Thèse', 'Thèse',\n",
       "        'Thèse'], dtype='<U46'),\n",
       " array(['Murahashi', 'Murahashi', 'Murahashi', ..., 'Suzuki', 'Suzuki',\n",
       "        'Suzuki'], dtype='<U17'),\n",
       " array(['optimisation', 'optimisation', 'optimisation', ..., 'scope',\n",
       "        'scope', 'scope'], dtype='<U12'))"
      ]
     },
     "execution_count": 4,
     "metadata": {},
     "output_type": "execute_result"
    }
   ],
   "source": [
    "ft.process_dataframe_dft(df2)"
   ]
  },
  {
   "cell_type": "code",
   "execution_count": 15,
   "id": "7e68189a",
   "metadata": {},
   "outputs": [
    {
     "data": {
      "text/html": [
       "<div>\n",
       "<style scoped>\n",
       "    .dataframe tbody tr th:only-of-type {\n",
       "        vertical-align: middle;\n",
       "    }\n",
       "\n",
       "    .dataframe tbody tr th {\n",
       "        vertical-align: top;\n",
       "    }\n",
       "\n",
       "    .dataframe thead th {\n",
       "        text-align: right;\n",
       "    }\n",
       "</style>\n",
       "<table border=\"1\" class=\"dataframe\">\n",
       "  <thead>\n",
       "    <tr style=\"text-align: right;\">\n",
       "      <th></th>\n",
       "      <th>Index</th>\n",
       "      <th>Reactant Smile (C-O)</th>\n",
       "      <th>A-X</th>\n",
       "      <th>A-X effectif</th>\n",
       "      <th>Solvent</th>\n",
       "      <th>Time</th>\n",
       "      <th>Temperature</th>\n",
       "      <th>Precurseur Nickel</th>\n",
       "      <th>Base/additifs</th>\n",
       "      <th>Base/additif après correction effective</th>\n",
       "      <th>...</th>\n",
       "      <th>Notes : qu'est ce qui ne rentres pas dans le tableau</th>\n",
       "      <th>eq CO</th>\n",
       "      <th>eq A-X</th>\n",
       "      <th>eq Ni</th>\n",
       "      <th>eq Lig (lig + prec)</th>\n",
       "      <th>eq B (si reducteur pas pris en c0mpte)</th>\n",
       "      <th>2 Steps</th>\n",
       "      <th>Notes bis : modifications</th>\n",
       "      <th>Unnamed: 28</th>\n",
       "      <th>Unnamed: 29</th>\n",
       "    </tr>\n",
       "  </thead>\n",
       "  <tbody>\n",
       "  </tbody>\n",
       "</table>\n",
       "<p>0 rows × 30 columns</p>\n",
       "</div>"
      ],
      "text/plain": [
       "Empty DataFrame\n",
       "Columns: [Index, Reactant Smile (C-O), A-X, A-X effectif, Solvent, Time, Temperature, Precurseur Nickel, Base/additifs, Base/additif après correction effective, Ligand, Ligand effectif, Product, GC/NMR Yield, Isolated Yield, A-X type, Mechanism, Unnamed: 17, DOI, type of data (Optimisation or scope), Notes : qu'est ce qui ne rentres pas dans le tableau, eq CO, eq A-X, eq Ni, eq Lig (lig + prec), eq B (si reducteur pas pris en c0mpte), 2 Steps, Notes bis : modifications, Unnamed: 28, Unnamed: 29]\n",
       "Index: []\n",
       "\n",
       "[0 rows x 30 columns]"
      ]
     },
     "execution_count": 15,
     "metadata": {},
     "output_type": "execute_result"
    }
   ],
   "source": [
    "df2[df2[\"Ligand effectif\"] == \"[C]1N(C23CC4CC(CC(C4)C2)C3)C=CN1C12CC3CC(CC(C3)C1)C2\"]"
   ]
  },
  {
   "cell_type": "code",
   "execution_count": null,
   "id": "f2160bc3",
   "metadata": {},
   "outputs": [],
   "source": [
    "ligs = pd.read_csv(\"../data_csv/ligand_dft.csv\", sep = ',', index_col=0)\n",
    "ligs.index.to_list()\n",
    "canon_rdkit = []\n",
    "for smi in ligs.index.to_list():\n",
    "    try:\n",
    "        canon_rdkit.append(Chem.CanonSmiles(smi))\n",
    "    except:\n",
    "        canon_rdkit.append(smi)\n",
    "        print(smi)\n",
    "ligs[\"can_rdkit\"] = canon_rdkit\n",
    "ligs.set_index(\"can_rdkit\", inplace=True)\n",
    "ligands = [ligs.loc[ligand].to_list() for ligand in df2[\"Ligand effectif\"]]"
   ]
  },
  {
   "cell_type": "code",
   "execution_count": null,
   "id": "cdd00500",
   "metadata": {},
   "outputs": [],
   "source": [
    "solv = pd.read_csv(\"../data_csv/solvents.csv\", sep = ',', index_col=0)\n",
    "solv.loc[\"toluene\"].to_list()"
   ]
  },
  {
   "cell_type": "code",
   "execution_count": null,
   "id": "d266c9b0",
   "metadata": {
    "scrolled": true
   },
   "outputs": [],
   "source": [
    "AX = pd.read_csv(\"../data_csv/AX_dft.csv\", sep = ',', index_col=0)\n",
    "canon_rdkit = [Chem.CanonSmiles(smi_co) for smi_co in AX.index.to_list() ]\n",
    "AX[\"can_rdkit\"] = canon_rdkit\n",
    "AX.set_index(\"can_rdkit\", inplace=True)\n",
    "AXs = [list(AX.loc[ax]) for ax in df2[\"A-X effectif\"]]"
   ]
  },
  {
   "cell_type": "code",
   "execution_count": null,
   "id": "69b53ef4",
   "metadata": {},
   "outputs": [],
   "source": [
    "substrates = [list(substrate.loc[sub]) for sub in df2[\"Reactant Smile (C-O)\"]]"
   ]
  },
  {
   "cell_type": "code",
   "execution_count": null,
   "id": "df83b895",
   "metadata": {},
   "outputs": [],
   "source": [
    "substrates"
   ]
  },
  {
   "cell_type": "code",
   "execution_count": null,
   "id": "308fa04f",
   "metadata": {},
   "outputs": [],
   "source": [
    "mols = []\n",
    "for smi in ligs.index:\n",
    "    mols.append(Chem.MolFromSmiles(smi))\n",
    "Chem.Draw.MolsToGridImage(mols, subImgSize=(400, 400), maxMols = 200)"
   ]
  },
  {
   "cell_type": "code",
   "execution_count": null,
   "id": "064b079b",
   "metadata": {},
   "outputs": [],
   "source": []
  },
  {
   "cell_type": "code",
   "execution_count": null,
   "id": "7a49c55b",
   "metadata": {},
   "outputs": [],
   "source": []
  },
  {
   "cell_type": "code",
   "execution_count": null,
   "id": "981cda17",
   "metadata": {},
   "outputs": [],
   "source": []
  },
  {
   "cell_type": "code",
   "execution_count": null,
   "id": "3312650a",
   "metadata": {},
   "outputs": [],
   "source": []
  },
  {
   "cell_type": "code",
   "execution_count": null,
   "id": "88a6b56c",
   "metadata": {},
   "outputs": [],
   "source": []
  },
  {
   "cell_type": "code",
   "execution_count": null,
   "id": "5361610d",
   "metadata": {},
   "outputs": [],
   "source": []
  },
  {
   "cell_type": "code",
   "execution_count": null,
   "id": "0820892c",
   "metadata": {},
   "outputs": [],
   "source": [
    "def process_dataframe_dft(df):\n",
    "    # physico-chemical description of solvents\n",
    "    solv = pd.read_csv(\"../data_csv/solvents.csv\", sep = ',', index_col=0)\n",
    "    solvents = [solv.loc[solvent].to_list() for solvent in df[\"Solvent\"]]\n",
    "    \n",
    "    # dft description of ligands \n",
    "    # issue : what should we put for nan ? \n",
    "    ligs = pd.read_csv(\"../data_csv/ligand_dft.csv\", sep = ',', index_col=0)\n",
    "    ligs.index.to_list()\n",
    "    canon_rdkit = []\n",
    "    for smi in ligs.index.to_list():\n",
    "        try:\n",
    "            canon_rdkit.append(Chem.CanonSmiles(smi))\n",
    "        except:\n",
    "            canon_rdkit.append(smi)\n",
    "            print(smi)\n",
    "    ligs[\"can_rdkit\"] = canon_rdkit\n",
    "    ligs.set_index(\"can_rdkit\", inplace=True)\n",
    "    ligands = [ligs.loc[ligand].to_list() for ligand in df2[\"Ligand effectif\"]]\n",
    "    \n",
    "    # dft description for suubstrates\n",
    "    substrate = pd.read_csv(\"../data_csv/substrate_dft.csv\", sep = ',', index_col=0)\n",
    "    canon_rdkit = [Chem.CanonSmiles(smi_co) for smi_co in substrate.index.to_list() ]\n",
    "    substrate[\"can_rdkit\"] = canon_rdkit\n",
    "    substrate.set_index(\"can_rdkit\", inplace=True)\n",
    "    substrates = [list(substrate.loc[sub]) for sub in df2[\"Reactant Smile (C-O)\"]]\n",
    "    \n",
    "    # dft description for AX\n",
    "    AX = pd.read_csv(\"../data_csv/AX_dft.csv\", sep = ',', index_col=0)\n",
    "    canon_rdkit = [Chem.CanonSmiles(smi_co) for smi_co in AX.index.to_list() ]\n",
    "    AX[\"can_rdkit\"] = canon_rdkit\n",
    "    AX.set_index(\"can_rdkit\", inplace=True)\n",
    "    AXs = [list(AX.loc[ax]) for ax in df2[\"A-X effectif\"]]\n",
    "    \n",
    "    \n",
    "    precursors = one_hot_encoding(np.array([precursor_mapping(precursor) for precursor in df[\"Precurseur Nickel\"]]).reshape(-1, 1))\n",
    "    additives = one_hot_encoding(np.array([additives_mapping(precursor) for precursor in df[\"Base/additif après correction effective\"]]).reshape(-1, 1))\n",
    "    \n",
    "    X = []\n",
    "    yields = []\n",
    "    DOIs = []\n",
    "    mechanisms = []\n",
    "    origins = []\n",
    "    \n",
    "    for i, row in df.iterrows():\n",
    "        yield_isolated = process_yield(row[\"Isolated Yield\"])\n",
    "        yield_gc = process_yield(row['GC/NMR Yield'])\n",
    "        # If both yields are known, we keep the isolated yield\n",
    "        if yield_gc:\n",
    "            y = yield_gc\n",
    "        if yield_isolated:\n",
    "            y = yield_isolated\n",
    "        feature_vector = np.concatenate((solvents[i], ligands[i], precursors[i], additives[i], substrates[i], ))\n",
    "        X.append(feature_vector)\n",
    "        yields.append(y)\n",
    "        DOIs.append(row[\"DOI\"])\n",
    "        mechanisms.append(row[\"Mechanism\"])\n",
    "        origins.append(origin_mapping(row[\"type of data (optimisation table or scope)\"]))\n",
    "    \n",
    "    return np.array(X), np.array(yields), np.array(DOIs), np.array(mechanisms), np.array(origins)"
   ]
  },
  {
   "cell_type": "code",
   "execution_count": null,
   "id": "0939b10d",
   "metadata": {},
   "outputs": [],
   "source": [
    "from rdkit.Chem import AllChem, Draw\n",
    "from rdkit.Chem.Draw import rdMolDraw2D\n",
    "from IPython.display import SVG, display\n",
    "from rdkit.Chem.Draw import IPythonConsole\n",
    "\n",
    "# def visualisation d'une réaction en fonction de son \"index\"\n",
    "def vis_rxn(index, df):\n",
    "    ax = Chem.MolFromSmiles(df[df[\"Index\"]==index][\"A-X effectif\"].to_list()[0])\n",
    "    ax = Chem.MolToSmarts(ax)\n",
    "    try:\n",
    "        lig = Chem.MolFromSmiles(pp.dict_ligand[df[df[\"Index\"]==index]['Ligand effectif'].to_list()])\n",
    "        lig = Chem.MolToSmarts(lig)\n",
    "    except:\n",
    "        lig = Chem.MolToSmarts(Chem.MolFromSmiles(''))\n",
    "\n",
    "    try:\n",
    "        prec = Chem.MolFromSmiles(df[df[\"Index\"]==index]['Precurseur Nickel'].to_list()[0])\n",
    "        prec = Chem.MolToSmarts(prec)\n",
    "    except:\n",
    "        prec = Chem.MolToSmarts(Chem.MolFromSmiles('')) \n",
    "\n",
    "    reactant = Chem.MolFromSmiles(df[df[\"Index\"]==index]['Reactant Smile (C-O)'].to_list()[0])\n",
    "    reactant = Chem.MolToSmarts(reactant)\n",
    "    product = Chem.MolFromSmiles(df[df[\"Index\"]==index]['Product'].to_list()[0])\n",
    "    product = Chem.MolToSmarts(product)\n",
    "    reaction = reactant + '.' + ax + '>' + lig + prec + '>' + product\n",
    "\n",
    "    # Pictet-Spengler rxn\n",
    "    rxn = AllChem.ReactionFromSmarts(reaction)\n",
    "    return rxn\n",
    "\n",
    "def rxn_byDOI(DOI, df):\n",
    "    df = df[df[\"DOI\"] == DOI]\n",
    "    indexes = df[\"Index\"].to_list()\n",
    "    for index in indexes:\n",
    "        rxn = vis_rxn(index, df)\n",
    "        Y = []\n",
    "        Y.append(df[df[\"Index\"] == index][\"GC/NMR Yield\"].to_list())\n",
    "        Y.append(df[df[\"Index\"] == index][\"Isolated Yield\"].to_list())\n",
    "        d = Draw.MolDraw2DSVG(900, 300)\n",
    "        d.DrawReaction(rxn)\n",
    "        d.FinishDrawing()  \n",
    "        svg = d.GetDrawingText()\n",
    "        svg2 = svg.replace('svg:','')\n",
    "        svg3 = SVG(svg2)\n",
    "        display(svg3)\n",
    "        print(index, Y)\n",
    "        \n",
    "\n",
    "def rxn_unique_byDOI(DOI, df):\n",
    "    df = df[df[\"DOI\"] == DOI]\n",
    "    df = df[df.duplicated(subset= ['Reactant Smile (C-O)', 'A-X effectif', 'Product'],  keep = 'first') == False]\n",
    "    indexes = df[\"Index\"].to_list()\n",
    "    for index in indexes:\n",
    "        rxn = vis_rxn(index, df)\n",
    "        Y = []\n",
    "        Y.append(df[df[\"Index\"] == index][\"GC/NMR Yield\"].to_list())\n",
    "        Y.append(df[df[\"Index\"] == index][\"Isolated Yield\"].to_list())\n",
    "        d = Draw.MolDraw2DSVG(900, 300)\n",
    "        d.DrawReaction(rxn)\n",
    "        d.FinishDrawing()  \n",
    "        svg = d.GetDrawingText()\n",
    "        svg2 = svg.replace('svg:','')\n",
    "        svg3 = SVG(svg2)\n",
    "        display(svg3)\n",
    "        print(index, Y)"
   ]
  },
  {
   "cell_type": "code",
   "execution_count": null,
   "id": "85e3d894",
   "metadata": {},
   "outputs": [],
   "source": [
    "dois = np.unique(df2[\"DOI\"])\n",
    "len(dois)"
   ]
  },
  {
   "cell_type": "code",
   "execution_count": null,
   "id": "e0d5f299",
   "metadata": {},
   "outputs": [],
   "source": [
    "def remove_double_couplings(df):\n",
    "    double_couplings = []\n",
    "    for idx in range(len(df)):\n",
    "        try:\n",
    "            r = Chem.MolFromSmiles(df.iloc[idx][\"Reactant Smile (C-O)\"])\n",
    "            p = Chem.MolFromSmiles(df.iloc[idx][\"Product\"])\n",
    "            r = Chem.rdmolops.AddHs(r)\n",
    "            p = Chem.rdmolops.AddHs(p)\n",
    "            mols = [r, p]\n",
    "            res = rdFMCS.FindMCS(mols) \n",
    "            patt = Chem.MolFromSmarts(res.smartsString)\n",
    "            rm = AllChem.DeleteSubstructs(r,patt)\n",
    "            smi = Chem.MolToSmiles(rm)\n",
    "            if '.' in smi:  \n",
    "                double_couplings.append((idx, Chem.MolToSmiles(r), Chem.MolToSmiles(p)))\n",
    "        except:\n",
    "            print(df.iloc[idx].to_list())\n",
    "            \n",
    "    return double_couplings"
   ]
  }
 ],
 "metadata": {
  "kernelspec": {
   "display_name": "Python 3 (ipykernel)",
   "language": "python",
   "name": "python3"
  },
  "language_info": {
   "codemirror_mode": {
    "name": "ipython",
    "version": 3
   },
   "file_extension": ".py",
   "mimetype": "text/x-python",
   "name": "python",
   "nbconvert_exporter": "python",
   "pygments_lexer": "ipython3",
   "version": "3.9.7"
  }
 },
 "nbformat": 4,
 "nbformat_minor": 5
}
