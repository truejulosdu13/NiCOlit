{
 "cells": [
  {
   "cell_type": "code",
   "execution_count": 2,
   "id": "7d3e6475",
   "metadata": {},
   "outputs": [],
   "source": [
    "import sys\n",
    "sys.path.append('../')\n",
    "import pandas as pd\n",
    "import numpy as np\n",
    "from rdkit import Chem \n",
    "from rdkit.Chem import rdFMCS\n",
    "\n",
    "from rdkit import RDLogger\n",
    "RDLogger.logger().setLevel(RDLogger.CRITICAL)\n",
    "\n",
    "from rdkit.Chem import AllChem, Draw\n",
    "from rdkit.Chem.Draw import rdMolDraw2D\n",
    "from IPython.display import SVG, display\n",
    "from rdkit.Chem.Draw import IPythonConsole\n",
    "\n",
    "from dft_descriptors import numbering_CO as nb\n",
    "from dft_descriptors import prepocessing as pp\n"
   ]
  },
  {
   "cell_type": "code",
   "execution_count": 78,
   "id": "f8a094f3",
   "metadata": {},
   "outputs": [],
   "source": [
    "double_coupling = ['']\n",
    "\n",
    "def preprocess(df):\n",
    "    # remove lines with nan substrate\n",
    "    df = df[df[\"Reactant Smile (C-O)\"].isna() == False]\n",
    "    \n",
    "    # remove reviews from dataframe:\n",
    "    df = df[df[\"Mechanism\"] != 'Review']\n",
    "    \n",
    "    # remove the doi : 'https://doi.org/10.1021/acs.orglett.5b03151' because it is a double reaction for dimerisation\n",
    "    df = df[df[\"DOI\"] != 'https://doi.org/10.1021/acs.orglett.5b03151']\n",
    "    \n",
    "    # 'https://doi.org/10.1021/acs.orglett.6b03861' ? intramoleculaire oxydative addition ?\n",
    "    \n",
    "    # remove the double steps reactions \n",
    "    df = df[df[\"2 Steps\"] != \"Yes\"]\n",
    "    \n",
    "    # check smiles validity\n",
    "    # Canon CO\n",
    "    co_can = [Chem.CanonSmiles(smi) for smi in df[\"Reactant Smile (C-O)\"]]\n",
    "    # Canon AX\n",
    "    ax_can = [Chem.CanonSmiles(smi) for smi in df[\"A-X effectif\"]]\n",
    "    # Canon Lig\n",
    "    lig_can = []\n",
    "    for lig in df[\"Ligand effectif\"]:\n",
    "        try:\n",
    "            lig_can.append(Chem.CanonSmiles(pp.dict_ligand[lig]))\n",
    "        except:\n",
    "            lig_can.append(lig)\n",
    "            \n",
    "    # Canon Base\n",
    "    add_can = pp.smiles_additifs(df[\"Base/additif après correction effective\"])\n",
    "            \n",
    "    # Canon_df\n",
    "    df[\"Reactant Smile (C-O)\"] = co_can\n",
    "    df[\"A-X effectif\"] = ax_can\n",
    "    df[\"Ligand effectif\"] = lig_can\n",
    "    df[\"Base/additif après correction effective\"] = add_can\n",
    "    \n",
    "    return df"
   ]
  },
  {
   "cell_type": "code",
   "execution_count": 11,
   "id": "c896c38b",
   "metadata": {},
   "outputs": [],
   "source": [
    "df = pd.read_csv(\"../data_csv/Data_test11032021.csv\")\n",
    "df2 = pp.preprocess(df)"
   ]
  },
  {
   "cell_type": "code",
   "execution_count": 12,
   "id": "8a394bb4",
   "metadata": {},
   "outputs": [
    {
     "data": {
      "text/plain": [
       "Index(['Index', 'Reactant Smile (C-O)', 'A-X', 'A-X effectif', 'Solvent',\n",
       "       'Time', 'Temperature', 'Precurseur Nickel', 'Base/additifs',\n",
       "       'Base/additif après correction effective', 'Ligand', 'Ligand effectif',\n",
       "       'Product', 'GC/NMR Yield', 'Isolated Yield', 'A-X type', 'Mechanism',\n",
       "       'Unnamed: 17', 'DOI', 'type of data (Optimisation or scope)',\n",
       "       'Notes : qu'est ce qui ne rentres pas dans le tableau', 'eq CO',\n",
       "       'eq A-X', 'eq Ni', 'eq Lig (lig + prec)',\n",
       "       'eq B (si reducteur pas pris en c0mpte)', '2 Steps',\n",
       "       'Notes bis : modifications', 'Unnamed: 28', 'Unnamed: 29'],\n",
       "      dtype='object')"
      ]
     },
     "execution_count": 12,
     "metadata": {},
     "output_type": "execute_result"
    }
   ],
   "source": [
    "df2.columns"
   ]
  },
  {
   "cell_type": "code",
   "execution_count": 7,
   "id": "910b0142",
   "metadata": {},
   "outputs": [
    {
     "data": {
      "image/png": "[encoded data removed]",
      "text/plain": [
       "<rdkit.Chem.rdchem.Mol at 0x11fc130a0>"
      ]
     },
     "execution_count": 7,
     "metadata": {},
     "output_type": "execute_result"
    }
   ],
   "source": [
    "Chem.CanonSmiles\\"
   ]
  },
  {
   "cell_type": "code",
   "execution_count": 85,
   "id": "0939b10d",
   "metadata": {},
   "outputs": [],
   "source": [
    "# def visualisation d'une réaction en fonction de son \"index\"\n",
    "def vis_rxn(index, df):\n",
    "    ax = Chem.MolFromSmiles(df[df[\"Index\"]==index][\"A-X effectif\"].to_list()[0])\n",
    "    ax = Chem.MolToSmarts(ax)\n",
    "    try:\n",
    "        lig = Chem.MolFromSmiles(pp.dict_ligand[df[df[\"Index\"]==index]['Ligand effectif'].to_list()])\n",
    "        lig = Chem.MolToSmarts(lig)\n",
    "    except:\n",
    "        lig = Chem.MolToSmarts(Chem.MolFromSmiles(''))\n",
    "\n",
    "    try:\n",
    "        prec = Chem.MolFromSmiles(df[df[\"Index\"]==index]['Precurseur Nickel'].to_list()[0])\n",
    "        prec = Chem.MolToSmarts(prec)\n",
    "    except:\n",
    "        prec = Chem.MolToSmarts(Chem.MolFromSmiles('')) \n",
    "\n",
    "    reactant = Chem.MolFromSmiles(df[df[\"Index\"]==index]['Reactant Smile (C-O)'].to_list()[0])\n",
    "    reactant = Chem.MolToSmarts(reactant)\n",
    "    product = Chem.MolFromSmiles(df[df[\"Index\"]==index]['Product'].to_list()[0])\n",
    "    product = Chem.MolToSmarts(product)\n",
    "    reaction = reactant + '.' + ax + '>' + lig + prec + '>' + product\n",
    "\n",
    "    # Pictet-Spengler rxn\n",
    "    rxn = AllChem.ReactionFromSmarts(reaction)\n",
    "    return rxn\n",
    "\n",
    "def rxn_byDOI(DOI, df):\n",
    "    df = df[df[\"DOI\"] == DOI]\n",
    "    indexes = df[\"Index\"].to_list()\n",
    "    for index in indexes:\n",
    "        rxn = vis_rxn(index, df)\n",
    "        Y = []\n",
    "        Y.append(df[df[\"Index\"] == index][\"GC/NMR Yield\"].to_list())\n",
    "        Y.append(df[df[\"Index\"] == index][\"Isolated Yield\"].to_list())\n",
    "        d = Draw.MolDraw2DSVG(900, 300)\n",
    "        d.DrawReaction(rxn)\n",
    "        d.FinishDrawing()  \n",
    "        svg = d.GetDrawingText()\n",
    "        svg2 = svg.replace('svg:','')\n",
    "        svg3 = SVG(svg2)\n",
    "        display(svg3)\n",
    "        print(index, Y)\n",
    "        \n",
    "\n",
    "def rxn_unique_byDOI(DOI, df):\n",
    "    df = df[df[\"DOI\"] == DOI]\n",
    "    df = df[df.duplicated(subset= ['Reactant Smile (C-O)', 'A-X effectif', 'Product'],  keep = 'first') == False]\n",
    "    indexes = df[\"Index\"].to_list()\n",
    "    for index in indexes:\n",
    "        rxn = vis_rxn(index, df)\n",
    "        Y = []\n",
    "        Y.append(df[df[\"Index\"] == index][\"GC/NMR Yield\"].to_list())\n",
    "        Y.append(df[df[\"Index\"] == index][\"Isolated Yield\"].to_list())\n",
    "        d = Draw.MolDraw2DSVG(900, 300)\n",
    "        d.DrawReaction(rxn)\n",
    "        d.FinishDrawing()  \n",
    "        svg = d.GetDrawingText()\n",
    "        svg2 = svg.replace('svg:','')\n",
    "        svg3 = SVG(svg2)\n",
    "        display(svg3)\n",
    "        print(index, Y)"
   ]
  },
  {
   "cell_type": "code",
   "execution_count": 86,
   "id": "85e3d894",
   "metadata": {},
   "outputs": [
    {
     "data": {
      "text/plain": [
       "39"
      ]
     },
     "execution_count": 86,
     "metadata": {},
     "output_type": "execute_result"
    }
   ],
   "source": [
    "dois = np.unique(df2[\"DOI\"])\n",
    "len(dois)"
   ]
  },
  {
   "cell_type": "code",
   "execution_count": null,
   "id": "e0d5f299",
   "metadata": {},
   "outputs": [],
   "source": [
    "def remove_double_couplings(df):\n",
    "    double_couplings = []\n",
    "    for idx in range(len(df)):\n",
    "        try:\n",
    "            r = Chem.MolFromSmiles(df.iloc[idx][\"Reactant Smile (C-O)\"])\n",
    "            p = Chem.MolFromSmiles(df.iloc[idx][\"Product\"])\n",
    "            r = Chem.rdmolops.AddHs(r)\n",
    "            p = Chem.rdmolops.AddHs(p)\n",
    "            mols = [r, p]\n",
    "            res = rdFMCS.FindMCS(mols) \n",
    "            patt = Chem.MolFromSmarts(res.smartsString)\n",
    "            rm = AllChem.DeleteSubstructs(r,patt)\n",
    "            smi = Chem.MolToSmiles(rm)\n",
    "            if '.' in smi:  \n",
    "                double_couplings.append((idx, Chem.MolToSmiles(r), Chem.MolToSmiles(p)))\n",
    "        except:\n",
    "            print(df.iloc[idx].to_list())\n",
    "            \n",
    "    return double_couplings"
   ]
  }
 ],
 "metadata": {
  "kernelspec": {
   "display_name": "Python 3 (ipykernel)",
   "language": "python",
   "name": "python3"
  },
  "language_info": {
   "codemirror_mode": {
    "name": "ipython",
    "version": 3
   },
   "file_extension": ".py",
   "mimetype": "text/x-python",
   "name": "python",
   "nbconvert_exporter": "python",
   "pygments_lexer": "ipython3",
   "version": "3.9.7"
  }
 },
 "nbformat": 4,
 "nbformat_minor": 5
}
