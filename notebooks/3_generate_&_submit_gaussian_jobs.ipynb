{
 "cells": [
  {
   "cell_type": "markdown",
   "id": "e47a90ce",
   "metadata": {},
   "source": [
    "# Import packages"
   ]
  },
  {
   "cell_type": "code",
   "execution_count": 1,
   "id": "f3eeafd6",
   "metadata": {},
   "outputs": [],
   "source": [
    "import pandas as pd\n",
    "import sys\n",
    "sys.path.append('../')\n",
    "\n",
    "from aqc_utils.molecule import molecule\n",
    "from aqc_utils.slurm_manager import slurm_manager\n",
    "from aqc_utils.helper_classes import slurm_status\n",
    "from dft_descriptors import prepocessing as pp\n",
    "import logging\n",
    "logging.basicConfig(level=logging.INFO)"
   ]
  },
  {
   "cell_type": "markdown",
   "id": "fd294cc9",
   "metadata": {},
   "source": [
    "# Initialize the slurm manager\n",
    "\n",
    "Slurm manager is going to manage what jobs you have currently running, or created. It caches your information, so you can kill the notebook, turn-off your computer, go on vacation, and pick it up later. It will remember which jobs you haven't retrieved from the cluster, etc.\n",
    "\n",
    "Note: it won't ask you for login unless you execute a method that requires remote access"
   ]
  },
  {
   "cell_type": "code",
   "execution_count": 2,
   "id": "10c3185a",
   "metadata": {},
   "outputs": [
    {
     "name": "stderr",
     "output_type": "stream",
     "text": [
      "INFO:aqc_utils.slurm_manager:Creating connection to hermite.chimie.ens.fr as jschleinitz\n",
      "INFO:paramiko.transport:Connected (version 2.0, client OpenSSH_8.2p1)\n",
      "INFO:paramiko.transport:Authentication (password) successful!\n",
      "INFO:aqc_utils.slurm_manager:Connected to hermite.chimie.ens.fr as jschleinitz is True.\n"
     ]
    }
   ],
   "source": [
    "sm=slurm_manager(user='jschleinitz', host='hermite.chimie.ens.fr')\n",
    "sm.connect()"
   ]
  },
  {
   "cell_type": "markdown",
   "id": "09c521c0",
   "metadata": {},
   "source": [
    "# Provide smiles string(s)\n",
    "and copy into them into my_smiles variable. It's a list of strings (a Python list can be of any size), the smiles are extracted for the csv resulting form the step 2 numbering the molecules."
   ]
  },
  {
   "cell_type": "code",
   "execution_count": 6,
   "id": "7b28b022",
   "metadata": {},
   "outputs": [],
   "source": [
    "react_nb = pd.read_csv(\"../data_csv/Data_test11032021.csv\", sep=',')\n",
    "react_nb = pp.preprocess(react_nb)"
   ]
  },
  {
   "cell_type": "code",
   "execution_count": 31,
   "id": "e787fcdc",
   "metadata": {},
   "outputs": [],
   "source": [
    "smiles = ['CC(C)C[Al](CC(C)C)c1ccc(F)cc1',\n",
    " 'CC1(C)COB(c2cccc(C(F)(F)F)c2)OC1',\n",
    " 'CCCCc1ccc(B2OB(c3ccc(CCCC)cc3)OB(c3ccc(CCCC)cc3)O2)cc1',\n",
    " 'COc1cc(OC)cc([Al](CC(C)C)CC(C)C)c1',\n",
    " 'COc1cccc(B(O)O)c1',\n",
    " 'Cc1cc(C)c([Mg]Br)c(C)c1',\n",
    " 'Cc1ccc([Mg]I)cc1',\n",
    " 'Cc1cccc(C)c1[Al](CC(C)C)CC(C)C',\n",
    " 'Cc1ccccc1B1OCC(C)(C)CO1',\n",
    " '[Li][Zn]([Li])(C)(C)(C)c1ccc(C(=O)N(C(C)C)C(C)C)cc1',\n",
    " '[Li]c1ccc(O[Si](C)(C)C(C)(C)C)cc1',\n",
    " 'c1ccc([B-](c2ccccc2)(c2ccccc2)c2ccccc2)cc1']"
   ]
  },
  {
   "cell_type": "markdown",
   "id": "9c3ebf25",
   "metadata": {},
   "source": [
    "# Initialize the molecules and generate conformations\n",
    "We will use some for loops to loop over the smiles, only one conformation will be taken for each molecules in this work"
   ]
  },
  {
   "cell_type": "code",
   "execution_count": 32,
   "id": "225806f5",
   "metadata": {},
   "outputs": [
    {
     "name": "stderr",
     "output_type": "stream",
     "text": [
      "INFO:aqc_utils.molecule:Initializing molecule with canonical smiles: CC(C[Al](c1ccc(cc1)F)CC(C)C)C\n",
      "INFO:aqc_utils.molecule:Creating initial geometry with option 'best'.\n",
      "INFO:aqc_utils.molecule:Initial geometry created successfully.\n",
      "INFO:aqc_utils.molecule:Initializing molecule with canonical smiles: CC1(C)COB(OC1)c1cccc(c1)C(F)(F)F\n",
      "INFO:aqc_utils.molecule:Creating initial geometry with option 'best'.\n",
      "INFO:aqc_utils.molecule:Initial geometry created successfully.\n",
      "INFO:aqc_utils.molecule:Initializing molecule with canonical smiles: CCCCc1ccc(cc1)b1ob(ob(o1)c1ccc(cc1)CCCC)c1ccc(cc1)CCCC\n",
      "INFO:aqc_utils.molecule:Creating initial geometry with option 'best'.\n",
      "==============================\n",
      "*** Open Babel Error  in SMARTSError\n",
      "  SMARTS Error:\n",
      "o1[bH]o[bH]o[bH]1\n",
      "   ^\n",
      "\n",
      "INFO:aqc_utils.molecule:Initial geometry created successfully.\n",
      "INFO:aqc_utils.molecule:Initializing molecule with canonical smiles: COc1cc(OC)cc(c1)[Al](CC(C)C)CC(C)C\n",
      "INFO:aqc_utils.molecule:Creating initial geometry with option 'best'.\n",
      "INFO:aqc_utils.molecule:Initial geometry created successfully.\n",
      "INFO:aqc_utils.molecule:Initializing molecule with canonical smiles: COc1cccc(c1)B(O)O\n",
      "INFO:aqc_utils.molecule:Creating initial geometry with option 'best'.\n",
      "INFO:aqc_utils.molecule:Initial geometry created successfully.\n",
      "INFO:aqc_utils.molecule:Initializing molecule with canonical smiles: Br[Mg]c1c(C)cc(cc1C)C\n",
      "INFO:aqc_utils.molecule:Creating initial geometry with option 'best'.\n",
      "INFO:aqc_utils.molecule:Initial geometry created successfully.\n",
      "INFO:aqc_utils.molecule:Initializing molecule with canonical smiles: I[Mg]c1ccc(cc1)C\n",
      "INFO:aqc_utils.molecule:Creating initial geometry with option 'best'.\n",
      "INFO:aqc_utils.molecule:Initial geometry created successfully.\n",
      "INFO:aqc_utils.molecule:Initializing molecule with canonical smiles: CC(C[Al](c1c(C)cccc1C)CC(C)C)C\n",
      "INFO:aqc_utils.molecule:Creating initial geometry with option 'best'.\n",
      "INFO:aqc_utils.molecule:Initial geometry created successfully.\n",
      "INFO:aqc_utils.molecule:Initializing molecule with canonical smiles: Cc1ccccc1B1OCC(CO1)(C)C\n",
      "INFO:aqc_utils.molecule:Creating initial geometry with option 'best'.\n",
      "INFO:aqc_utils.molecule:Initial geometry created successfully.\n",
      "INFO:aqc_utils.molecule:Initializing molecule with canonical smiles: CC(N(C(=O)c1ccc(cc1)[Zn](C)(C)(C)([Li])[Li])C(C)C)C\n",
      "INFO:aqc_utils.molecule:Creating initial geometry with option 'best'.\n",
      "INFO:aqc_utils.molecule:Initial geometry created successfully.\n",
      "INFO:aqc_utils.molecule:Initializing molecule with canonical smiles: CC([Si](Oc1ccc(cc1)[Li])(C)C)(C)C\n",
      "INFO:aqc_utils.molecule:Creating initial geometry with option 'best'.\n",
      "INFO:aqc_utils.molecule:Initial geometry created successfully.\n",
      "INFO:aqc_utils.molecule:Initializing molecule with canonical smiles: c1ccc(cc1)[B-](c1ccccc1)(c1ccccc1)c1ccccc1\n",
      "INFO:aqc_utils.molecule:Creating initial geometry with option 'best'.\n",
      "INFO:aqc_utils.molecule:Initial geometry created successfully.\n"
     ]
    }
   ],
   "source": [
    "mols = []\n",
    "for smile in smiles:\n",
    "    mols.append(molecule(smile, max_num_conformers=1))"
   ]
  },
  {
   "cell_type": "markdown",
   "id": "a702571b",
   "metadata": {},
   "source": [
    "###### Draw some molecules"
   ]
  },
  {
   "cell_type": "code",
   "execution_count": 33,
   "id": "0ccbf815",
   "metadata": {},
   "outputs": [],
   "source": [
    "#mols[0].draw(0)"
   ]
  },
  {
   "cell_type": "markdown",
   "id": "100f5719",
   "metadata": {},
   "source": [
    "# Create gaussian job for each conformation"
   ]
  },
  {
   "cell_type": "code",
   "execution_count": 34,
   "id": "4d7c91a6",
   "metadata": {},
   "outputs": [
    {
     "name": "stderr",
     "output_type": "stream",
     "text": [
      "INFO:aqc_utils.gaussian_input_generator:Generating Gaussian input files for 1 conformations.\n"
     ]
    },
    {
     "name": "stdout",
     "output_type": "stream",
     "text": [
      "C14H22AlF_ab46_conf_0\n"
     ]
    },
    {
     "name": "stderr",
     "output_type": "stream",
     "text": [
      "INFO:aqc_utils.gaussian_input_generator:Generating Gaussian input files for 1 conformations.\n"
     ]
    },
    {
     "name": "stdout",
     "output_type": "stream",
     "text": [
      "C12H14BF3O2_716d_conf_0\n"
     ]
    },
    {
     "name": "stderr",
     "output_type": "stream",
     "text": [
      "WARNING:aqc_utils.slurm_manager:Molecule CCCCc1ccc(cc1)b1ob(ob(o1)c1ccc(cc1)CCCC)c1ccc(cc1)CCCC already exists with the same Gaussian config with tags ['JS_substrate']. Not creating jobs.\n",
      "INFO:aqc_utils.gaussian_input_generator:Generating Gaussian input files for 1 conformations.\n"
     ]
    },
    {
     "name": "stdout",
     "output_type": "stream",
     "text": [
      "C16H27AlO2_089a_conf_0\n"
     ]
    },
    {
     "name": "stderr",
     "output_type": "stream",
     "text": [
      "INFO:aqc_utils.gaussian_input_generator:Generating Gaussian input files for 1 conformations.\n"
     ]
    },
    {
     "name": "stdout",
     "output_type": "stream",
     "text": [
      "C7H9BO3_aded_conf_0\n"
     ]
    },
    {
     "name": "stderr",
     "output_type": "stream",
     "text": [
      "WARNING:aqc_utils.slurm_manager:Molecule Br[Mg]c1c(C)cc(cc1C)C already exists with the same Gaussian config with tags ['JS_substrate']. Not creating jobs.\n",
      "WARNING:aqc_utils.slurm_manager:Molecule I[Mg]c1ccc(cc1)C already exists with the same Gaussian config with tags ['JS_substrate']. Not creating jobs.\n",
      "INFO:aqc_utils.gaussian_input_generator:Generating Gaussian input files for 1 conformations.\n"
     ]
    },
    {
     "name": "stdout",
     "output_type": "stream",
     "text": [
      "C16H27Al_5c4f_conf_0\n"
     ]
    },
    {
     "name": "stderr",
     "output_type": "stream",
     "text": [
      "INFO:aqc_utils.gaussian_input_generator:Generating Gaussian input files for 1 conformations.\n"
     ]
    },
    {
     "name": "stdout",
     "output_type": "stream",
     "text": [
      "C12H17BO2_04cd_conf_0\n"
     ]
    },
    {
     "name": "stderr",
     "output_type": "stream",
     "text": [
      "WARNING:aqc_utils.slurm_manager:Molecule CC(N(C(=O)c1ccc(cc1)[Zn](C)(C)(C)([Li])[Li])C(C)C)C already exists with the same Gaussian config with tags ['JS_substrate']. Not creating jobs.\n",
      "INFO:aqc_utils.gaussian_input_generator:Generating Gaussian input files for 1 conformations.\n"
     ]
    },
    {
     "name": "stdout",
     "output_type": "stream",
     "text": [
      "C12H19LiOSi_9440_conf_0\n"
     ]
    },
    {
     "name": "stderr",
     "output_type": "stream",
     "text": [
      "INFO:aqc_utils.gaussian_input_generator:Generating Gaussian input files for 1 conformations.\n"
     ]
    },
    {
     "name": "stdout",
     "output_type": "stream",
     "text": [
      "C24H20B-_85dd_conf_0\n"
     ]
    }
   ],
   "source": [
    "for mol in mols:\n",
    "    sm.create_jobs_for_molecule(mol, workflow_type=\"equilibrium\")"
   ]
  },
  {
   "cell_type": "code",
   "execution_count": 35,
   "id": "c2aa4b1c",
   "metadata": {
    "scrolled": false
   },
   "outputs": [
    {
     "data": {
      "text/html": [
       "<div>\n",
       "<style scoped>\n",
       "    .dataframe tbody tr th:only-of-type {\n",
       "        vertical-align: middle;\n",
       "    }\n",
       "\n",
       "    .dataframe tbody tr th {\n",
       "        vertical-align: top;\n",
       "    }\n",
       "\n",
       "    .dataframe thead th {\n",
       "        text-align: right;\n",
       "    }\n",
       "</style>\n",
       "<table border=\"1\" class=\"dataframe\">\n",
       "  <thead>\n",
       "    <tr style=\"text-align: right;\">\n",
       "      <th>status</th>\n",
       "      <th>created</th>\n",
       "      <th>done</th>\n",
       "      <th>failed</th>\n",
       "      <th>incomplete</th>\n",
       "      <th>submitted</th>\n",
       "      <th>uploaded</th>\n",
       "    </tr>\n",
       "    <tr>\n",
       "      <th>can</th>\n",
       "      <th></th>\n",
       "      <th></th>\n",
       "      <th></th>\n",
       "      <th></th>\n",
       "      <th></th>\n",
       "      <th></th>\n",
       "    </tr>\n",
       "  </thead>\n",
       "  <tbody>\n",
       "    <tr>\n",
       "      <th>BrB(Br)Br</th>\n",
       "      <td>0</td>\n",
       "      <td>0</td>\n",
       "      <td>0</td>\n",
       "      <td>0</td>\n",
       "      <td>0</td>\n",
       "      <td>1</td>\n",
       "    </tr>\n",
       "    <tr>\n",
       "      <th>Br[Mg]C1CCCCC1</th>\n",
       "      <td>0</td>\n",
       "      <td>0</td>\n",
       "      <td>0</td>\n",
       "      <td>0</td>\n",
       "      <td>0</td>\n",
       "      <td>1</td>\n",
       "    </tr>\n",
       "    <tr>\n",
       "      <th>Br[Mg]Cc1ccccc1</th>\n",
       "      <td>0</td>\n",
       "      <td>0</td>\n",
       "      <td>0</td>\n",
       "      <td>0</td>\n",
       "      <td>0</td>\n",
       "      <td>1</td>\n",
       "    </tr>\n",
       "    <tr>\n",
       "      <th>Br[Mg]c1c(C)cc(cc1C)C</th>\n",
       "      <td>0</td>\n",
       "      <td>0</td>\n",
       "      <td>0</td>\n",
       "      <td>1</td>\n",
       "      <td>0</td>\n",
       "      <td>0</td>\n",
       "    </tr>\n",
       "    <tr>\n",
       "      <th>C(Oc1ccccc1)Oc1ccccc1</th>\n",
       "      <td>0</td>\n",
       "      <td>0</td>\n",
       "      <td>1</td>\n",
       "      <td>0</td>\n",
       "      <td>0</td>\n",
       "      <td>0</td>\n",
       "    </tr>\n",
       "    <tr>\n",
       "      <th>...</th>\n",
       "      <td>...</td>\n",
       "      <td>...</td>\n",
       "      <td>...</td>\n",
       "      <td>...</td>\n",
       "      <td>...</td>\n",
       "      <td>...</td>\n",
       "    </tr>\n",
       "    <tr>\n",
       "      <th>c1ccc(cc1)c1ccc2c(c1)c1cc(ccc1o2)c1ccccc1</th>\n",
       "      <td>0</td>\n",
       "      <td>0</td>\n",
       "      <td>0</td>\n",
       "      <td>0</td>\n",
       "      <td>1</td>\n",
       "      <td>0</td>\n",
       "    </tr>\n",
       "    <tr>\n",
       "      <th>c1ccc2c(c1)OCC2</th>\n",
       "      <td>0</td>\n",
       "      <td>0</td>\n",
       "      <td>0</td>\n",
       "      <td>0</td>\n",
       "      <td>1</td>\n",
       "      <td>0</td>\n",
       "    </tr>\n",
       "    <tr>\n",
       "      <th>c1ccc2c(c1)cc1c(c2)oc2c1cc1ccccc1c2</th>\n",
       "      <td>0</td>\n",
       "      <td>0</td>\n",
       "      <td>0</td>\n",
       "      <td>0</td>\n",
       "      <td>1</td>\n",
       "      <td>0</td>\n",
       "    </tr>\n",
       "    <tr>\n",
       "      <th>c1ccc2c(c1)ccc1c2c2c(o1)ccc1c2cccc1</th>\n",
       "      <td>0</td>\n",
       "      <td>0</td>\n",
       "      <td>0</td>\n",
       "      <td>0</td>\n",
       "      <td>1</td>\n",
       "      <td>0</td>\n",
       "    </tr>\n",
       "    <tr>\n",
       "      <th>c1ccc2c(c1)oc1c2cccc1</th>\n",
       "      <td>0</td>\n",
       "      <td>0</td>\n",
       "      <td>0</td>\n",
       "      <td>0</td>\n",
       "      <td>1</td>\n",
       "      <td>0</td>\n",
       "    </tr>\n",
       "  </tbody>\n",
       "</table>\n",
       "<p>482 rows × 6 columns</p>\n",
       "</div>"
      ],
      "text/plain": [
       "status                                     created  done  failed  incomplete  \\\n",
       "can                                                                            \n",
       "BrB(Br)Br                                        0     0       0           0   \n",
       "Br[Mg]C1CCCCC1                                   0     0       0           0   \n",
       "Br[Mg]Cc1ccccc1                                  0     0       0           0   \n",
       "Br[Mg]c1c(C)cc(cc1C)C                            0     0       0           1   \n",
       "C(Oc1ccccc1)Oc1ccccc1                            0     0       1           0   \n",
       "...                                            ...   ...     ...         ...   \n",
       "c1ccc(cc1)c1ccc2c(c1)c1cc(ccc1o2)c1ccccc1        0     0       0           0   \n",
       "c1ccc2c(c1)OCC2                                  0     0       0           0   \n",
       "c1ccc2c(c1)cc1c(c2)oc2c1cc1ccccc1c2              0     0       0           0   \n",
       "c1ccc2c(c1)ccc1c2c2c(o1)ccc1c2cccc1              0     0       0           0   \n",
       "c1ccc2c(c1)oc1c2cccc1                            0     0       0           0   \n",
       "\n",
       "status                                     submitted  uploaded  \n",
       "can                                                             \n",
       "BrB(Br)Br                                          0         1  \n",
       "Br[Mg]C1CCCCC1                                     0         1  \n",
       "Br[Mg]Cc1ccccc1                                    0         1  \n",
       "Br[Mg]c1c(C)cc(cc1C)C                              0         0  \n",
       "C(Oc1ccccc1)Oc1ccccc1                              0         0  \n",
       "...                                              ...       ...  \n",
       "c1ccc(cc1)c1ccc2c(c1)c1cc(ccc1o2)c1ccccc1          1         0  \n",
       "c1ccc2c(c1)OCC2                                    1         0  \n",
       "c1ccc2c(c1)cc1c(c2)oc2c1cc1ccccc1c2                1         0  \n",
       "c1ccc2c(c1)ccc1c2c2c(o1)ccc1c2cccc1                1         0  \n",
       "c1ccc2c(c1)oc1c2cccc1                              1         0  \n",
       "\n",
       "[482 rows x 6 columns]"
      ]
     },
     "execution_count": 35,
     "metadata": {},
     "output_type": "execute_result"
    }
   ],
   "source": [
    "sm.get_job_stats(split_by_can=True)"
   ]
  },
  {
   "cell_type": "code",
   "execution_count": 36,
   "id": "1637eca0",
   "metadata": {},
   "outputs": [
    {
     "name": "stderr",
     "output_type": "stream",
     "text": [
      "INFO:aqc_utils.slurm_manager:Submitting 8 jobs.\n"
     ]
    },
    {
     "name": "stdout",
     "output_type": "stream",
     "text": [
      "Submitted batch job 10516\n"
     ]
    },
    {
     "name": "stderr",
     "output_type": "stream",
     "text": [
      "INFO:aqc_utils.slurm_manager:Submitted job 030f04201553bde44535b2a7f4ba59ec, job_id: 10516.\n"
     ]
    },
    {
     "name": "stdout",
     "output_type": "stream",
     "text": [
      "Submitted batch job 10517\n"
     ]
    },
    {
     "name": "stderr",
     "output_type": "stream",
     "text": [
      "INFO:aqc_utils.slurm_manager:Submitted job a5ce46004c4c2a827417bf168feceb32, job_id: 10517.\n"
     ]
    },
    {
     "name": "stdout",
     "output_type": "stream",
     "text": [
      "Submitted batch job 10518\n"
     ]
    },
    {
     "name": "stderr",
     "output_type": "stream",
     "text": [
      "INFO:aqc_utils.slurm_manager:Submitted job e0abb3de85cd3f39bc7bd248cc282776, job_id: 10518.\n"
     ]
    },
    {
     "name": "stdout",
     "output_type": "stream",
     "text": [
      "Submitted batch job 10519\n"
     ]
    },
    {
     "name": "stderr",
     "output_type": "stream",
     "text": [
      "INFO:aqc_utils.slurm_manager:Submitted job 4872c56783a2b03cf13d839dfc5723b5, job_id: 10519.\n"
     ]
    },
    {
     "name": "stdout",
     "output_type": "stream",
     "text": [
      "Submitted batch job 10520\n"
     ]
    },
    {
     "name": "stderr",
     "output_type": "stream",
     "text": [
      "INFO:aqc_utils.slurm_manager:Submitted job a1876912b62c2e6c20b884863a86e122, job_id: 10520.\n"
     ]
    },
    {
     "name": "stdout",
     "output_type": "stream",
     "text": [
      "Submitted batch job 10521\n"
     ]
    },
    {
     "name": "stderr",
     "output_type": "stream",
     "text": [
      "INFO:aqc_utils.slurm_manager:Submitted job 2cfd56c0df13d0866159d84e8a22b237, job_id: 10521.\n"
     ]
    },
    {
     "name": "stdout",
     "output_type": "stream",
     "text": [
      "Submitted batch job 10522\n"
     ]
    },
    {
     "name": "stderr",
     "output_type": "stream",
     "text": [
      "INFO:aqc_utils.slurm_manager:Submitted job ba5cea3b2d8de77db6fe5cc01146d17e, job_id: 10522.\n"
     ]
    },
    {
     "name": "stdout",
     "output_type": "stream",
     "text": [
      "Submitted batch job 10523\n"
     ]
    },
    {
     "name": "stderr",
     "output_type": "stream",
     "text": [
      "INFO:aqc_utils.slurm_manager:Submitted job a8975eeeddfee31f1e138984080a4968, job_id: 10523.\n"
     ]
    }
   ],
   "source": [
    "sm.submit_jobs()"
   ]
  },
  {
   "cell_type": "code",
   "execution_count": 37,
   "id": "be5c852a",
   "metadata": {
    "scrolled": true
   },
   "outputs": [
    {
     "data": {
      "text/html": [
       "<div>\n",
       "<style scoped>\n",
       "    .dataframe tbody tr th:only-of-type {\n",
       "        vertical-align: middle;\n",
       "    }\n",
       "\n",
       "    .dataframe tbody tr th {\n",
       "        vertical-align: top;\n",
       "    }\n",
       "\n",
       "    .dataframe thead th {\n",
       "        text-align: right;\n",
       "    }\n",
       "</style>\n",
       "<table border=\"1\" class=\"dataframe\">\n",
       "  <thead>\n",
       "    <tr style=\"text-align: right;\">\n",
       "      <th></th>\n",
       "      <th>RUNNING</th>\n",
       "    </tr>\n",
       "  </thead>\n",
       "  <tbody>\n",
       "    <tr>\n",
       "      <th>jobs</th>\n",
       "      <td>19</td>\n",
       "    </tr>\n",
       "  </tbody>\n",
       "</table>\n",
       "</div>"
      ],
      "text/plain": [
       "      RUNNING\n",
       "jobs       19"
      ]
     },
     "execution_count": 37,
     "metadata": {},
     "output_type": "execute_result"
    }
   ],
   "source": [
    "sm.squeue()"
   ]
  },
  {
   "cell_type": "code",
   "execution_count": 92,
   "id": "c4493bc4",
   "metadata": {},
   "outputs": [
    {
     "name": "stdout",
     "output_type": "stream",
     "text": [
      "C20H28O2_1cb0_conf_0\n"
     ]
    }
   ],
   "source": [
    "for job in sm.get_jobs():\n",
    "    if str(sm.get_jobs()[job].status) == 'slurm_status.done':\n",
    "        print(sm.get_jobs()[job].base_name)"
   ]
  },
  {
   "cell_type": "code",
   "execution_count": 93,
   "id": "4df0fbf2",
   "metadata": {},
   "outputs": [
    {
     "data": {
      "text/plain": [
       "'447581cd9c6bf05e9ba87c3a578b7d6d'"
      ]
     },
     "execution_count": 93,
     "metadata": {},
     "output_type": "execute_result"
    }
   ],
   "source": [
    "job"
   ]
  },
  {
   "cell_type": "code",
   "execution_count": 94,
   "id": "bd444e53",
   "metadata": {},
   "outputs": [],
   "source": [
    "job_all = sm.get_jobs()[job]"
   ]
  },
  {
   "cell_type": "code",
   "execution_count": 95,
   "id": "a7e26a8c",
   "metadata": {},
   "outputs": [
    {
     "data": {
      "text/html": [
       "<div>\n",
       "<style scoped>\n",
       "    .dataframe tbody tr th:only-of-type {\n",
       "        vertical-align: middle;\n",
       "    }\n",
       "\n",
       "    .dataframe tbody tr th {\n",
       "        vertical-align: top;\n",
       "    }\n",
       "\n",
       "    .dataframe thead th {\n",
       "        text-align: right;\n",
       "    }\n",
       "</style>\n",
       "<table border=\"1\" class=\"dataframe\">\n",
       "  <thead>\n",
       "    <tr style=\"text-align: right;\">\n",
       "      <th>status</th>\n",
       "      <th>done</th>\n",
       "      <th>failed</th>\n",
       "      <th>incomplete</th>\n",
       "      <th>submitted</th>\n",
       "      <th>uploaded</th>\n",
       "    </tr>\n",
       "  </thead>\n",
       "  <tbody>\n",
       "    <tr>\n",
       "      <th>jobs</th>\n",
       "      <td>1</td>\n",
       "      <td>343</td>\n",
       "      <td>3</td>\n",
       "      <td>5</td>\n",
       "      <td>93</td>\n",
       "    </tr>\n",
       "  </tbody>\n",
       "</table>\n",
       "</div>"
      ],
      "text/plain": [
       "status  done  failed  incomplete  submitted  uploaded\n",
       "jobs       1     343           3          5        93"
      ]
     },
     "execution_count": 95,
     "metadata": {},
     "output_type": "execute_result"
    }
   ],
   "source": [
    "sm.get_job_stats()"
   ]
  },
  {
   "cell_type": "code",
   "execution_count": 87,
   "id": "da42bc52",
   "metadata": {},
   "outputs": [
    {
     "data": {
      "text/plain": [
       "'slurm_status.created'"
      ]
     },
     "execution_count": 87,
     "metadata": {},
     "output_type": "execute_result"
    }
   ],
   "source": [
    "str(job_all.status)"
   ]
  },
  {
   "cell_type": "code",
   "execution_count": 88,
   "id": "63f47dfe",
   "metadata": {},
   "outputs": [
    {
     "data": {
      "text/plain": [
       "'C12H13NO2_b9f2_conf_0'"
      ]
     },
     "execution_count": 88,
     "metadata": {},
     "output_type": "execute_result"
    }
   ],
   "source": [
    "job_all.base_name"
   ]
  }
 ],
 "metadata": {
  "kernelspec": {
   "display_name": "Python 3 (ipykernel)",
   "language": "python",
   "name": "python3"
  },
  "language_info": {
   "codemirror_mode": {
    "name": "ipython",
    "version": 3
   },
   "file_extension": ".py",
   "mimetype": "text/x-python",
   "name": "python",
   "nbconvert_exporter": "python",
   "pygments_lexer": "ipython3",
   "version": "3.9.7"
  }
 },
 "nbformat": 4,
 "nbformat_minor": 5
}
