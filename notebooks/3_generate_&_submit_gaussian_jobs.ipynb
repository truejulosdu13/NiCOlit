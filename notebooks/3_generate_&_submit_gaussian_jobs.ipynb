{
 "cells": [
  {
   "cell_type": "markdown",
   "id": "e47a90ce",
   "metadata": {},
   "source": [
    "# Import packages"
   ]
  },
  {
   "cell_type": "code",
   "execution_count": 13,
   "id": "f3eeafd6",
   "metadata": {},
   "outputs": [],
   "source": [
    "import pandas as pd\n",
    "import sys\n",
    "sys.path.append('../')\n",
    "\n",
    "from aqc_utils.molecule import molecule\n",
    "from aqc_utils.slurm_manager import slurm_manager\n",
    "from aqc_utils.helper_classes import slurm_status\n",
    "from dft_descriptors import prepocessing as pp\n",
    "import logging\n",
    "logging.basicConfig(level=logging.INFO)"
   ]
  },
  {
   "cell_type": "markdown",
   "id": "fd294cc9",
   "metadata": {},
   "source": [
    "# Initialize the slurm manager\n",
    "\n",
    "Slurm manager is going to manage what jobs you have currently running, or created. It caches your information, so you can kill the notebook, turn-off your computer, go on vacation, and pick it up later. It will remember which jobs you haven't retrieved from the cluster, etc.\n",
    "\n",
    "Note: it won't ask you for login unless you execute a method that requires remote access"
   ]
  },
  {
   "cell_type": "code",
   "execution_count": 14,
   "id": "10c3185a",
   "metadata": {},
   "outputs": [
    {
     "name": "stderr",
     "output_type": "stream",
     "text": [
      "INFO:aqc_utils.slurm_manager:Creating connection to hermite.chimie.ens.fr as jschleinitz\n"
     ]
    },
    {
     "ename": "TimeoutError",
     "evalue": "[Errno 60] Operation timed out",
     "output_type": "error",
     "traceback": [
      "\u001b[0;31m---------------------------------------------------------------------------\u001b[0m",
      "\u001b[0;31mTimeoutError\u001b[0m                              Traceback (most recent call last)",
      "\u001b[0;32m/var/folders/c8/7pbzw0r912n01vr9fgdmzhx00000gn/T/ipykernel_49910/3351753457.py\u001b[0m in \u001b[0;36m<module>\u001b[0;34m\u001b[0m\n\u001b[1;32m      1\u001b[0m \u001b[0msm\u001b[0m\u001b[0;34m=\u001b[0m\u001b[0mslurm_manager\u001b[0m\u001b[0;34m(\u001b[0m\u001b[0muser\u001b[0m\u001b[0;34m=\u001b[0m\u001b[0;34m'jschleinitz'\u001b[0m\u001b[0;34m,\u001b[0m \u001b[0mhost\u001b[0m\u001b[0;34m=\u001b[0m\u001b[0;34m'hermite.chimie.ens.fr'\u001b[0m\u001b[0;34m)\u001b[0m\u001b[0;34m\u001b[0m\u001b[0;34m\u001b[0m\u001b[0m\n\u001b[0;32m----> 2\u001b[0;31m \u001b[0msm\u001b[0m\u001b[0;34m.\u001b[0m\u001b[0mconnect\u001b[0m\u001b[0;34m(\u001b[0m\u001b[0;34m)\u001b[0m\u001b[0;34m\u001b[0m\u001b[0;34m\u001b[0m\u001b[0m\n\u001b[0m",
      "\u001b[0;32m~/Desktop/These/Projet_stage_M1_Max/Code/SM_DFT/DFT_for_SM/notebooks/../aqc_utils/slurm_manager.py\u001b[0m in \u001b[0;36mconnect\u001b[0;34m(self)\u001b[0m\n\u001b[1;32m     61\u001b[0m             \u001b[0mcreate_new_connection\u001b[0m \u001b[0;34m=\u001b[0m \u001b[0;32mTrue\u001b[0m\u001b[0;34m\u001b[0m\u001b[0;34m\u001b[0m\u001b[0m\n\u001b[1;32m     62\u001b[0m         \u001b[0;32mif\u001b[0m \u001b[0mcreate_new_connection\u001b[0m\u001b[0;34m:\u001b[0m\u001b[0;34m\u001b[0m\u001b[0;34m\u001b[0m\u001b[0m\n\u001b[0;32m---> 63\u001b[0;31m             \u001b[0mself\u001b[0m\u001b[0;34m.\u001b[0m\u001b[0mconnection\u001b[0m \u001b[0;34m=\u001b[0m \u001b[0mssh_connect\u001b[0m\u001b[0;34m(\u001b[0m\u001b[0mself\u001b[0m\u001b[0;34m.\u001b[0m\u001b[0mhost\u001b[0m\u001b[0;34m,\u001b[0m \u001b[0mself\u001b[0m\u001b[0;34m.\u001b[0m\u001b[0muser\u001b[0m\u001b[0;34m)\u001b[0m\u001b[0;34m\u001b[0m\u001b[0;34m\u001b[0m\u001b[0m\n\u001b[0m\u001b[1;32m     64\u001b[0m             \u001b[0mself\u001b[0m\u001b[0;34m.\u001b[0m\u001b[0mconnection\u001b[0m\u001b[0;34m.\u001b[0m\u001b[0mrun\u001b[0m\u001b[0;34m(\u001b[0m\u001b[0;34mf\"mkdir -p {self.remote_dir}\"\u001b[0m\u001b[0;34m)\u001b[0m\u001b[0;34m\u001b[0m\u001b[0;34m\u001b[0m\u001b[0m\n\u001b[1;32m     65\u001b[0m             \u001b[0mlogger\u001b[0m\u001b[0;34m.\u001b[0m\u001b[0minfo\u001b[0m\u001b[0;34m(\u001b[0m\u001b[0;34mf\"Connected to {self.host} as {self.user} is {self.connection.is_connected}.\"\u001b[0m\u001b[0;34m)\u001b[0m\u001b[0;34m\u001b[0m\u001b[0;34m\u001b[0m\u001b[0m\n",
      "\u001b[0;32m~/Desktop/These/Projet_stage_M1_Max/Code/SM_DFT/DFT_for_SM/notebooks/../aqc_utils/helper_functions.py\u001b[0m in \u001b[0;36mssh_connect\u001b[0;34m(host, user)\u001b[0m\n\u001b[1;32m     53\u001b[0m     \u001b[0mclient\u001b[0m \u001b[0;34m=\u001b[0m \u001b[0mparamiko\u001b[0m\u001b[0;34m.\u001b[0m\u001b[0mSSHClient\u001b[0m\u001b[0;34m(\u001b[0m\u001b[0;34m)\u001b[0m\u001b[0;34m\u001b[0m\u001b[0;34m\u001b[0m\u001b[0m\n\u001b[1;32m     54\u001b[0m     \u001b[0mclient\u001b[0m\u001b[0;34m.\u001b[0m\u001b[0mset_missing_host_key_policy\u001b[0m\u001b[0;34m(\u001b[0m\u001b[0mparamiko\u001b[0m\u001b[0;34m.\u001b[0m\u001b[0mAutoAddPolicy\u001b[0m\u001b[0;34m(\u001b[0m\u001b[0;34m)\u001b[0m\u001b[0;34m)\u001b[0m\u001b[0;34m\u001b[0m\u001b[0;34m\u001b[0m\u001b[0m\n\u001b[0;32m---> 55\u001b[0;31m     \u001b[0mclient\u001b[0m\u001b[0;34m.\u001b[0m\u001b[0mconnect\u001b[0m\u001b[0;34m(\u001b[0m\u001b[0mhost\u001b[0m\u001b[0;34m,\u001b[0m \u001b[0mport\u001b[0m\u001b[0;34m,\u001b[0m \u001b[0muser\u001b[0m\u001b[0;34m,\u001b[0m \u001b[0mpassword\u001b[0m\u001b[0;34m)\u001b[0m\u001b[0;34m\u001b[0m\u001b[0;34m\u001b[0m\u001b[0m\n\u001b[0m\u001b[1;32m     56\u001b[0m \u001b[0;34m\u001b[0m\u001b[0m\n\u001b[1;32m     57\u001b[0m     \u001b[0mc\u001b[0m \u001b[0;34m=\u001b[0m \u001b[0mfabric\u001b[0m\u001b[0;34m.\u001b[0m\u001b[0mConnection\u001b[0m\u001b[0;34m(\u001b[0m\u001b[0mhost\u001b[0m\u001b[0;34m)\u001b[0m\u001b[0;34m\u001b[0m\u001b[0;34m\u001b[0m\u001b[0m\n",
      "\u001b[0;32m/usr/local/anaconda3/envs/dft_for_sm/lib/python3.9/site-packages/paramiko/client.py\u001b[0m in \u001b[0;36mconnect\u001b[0;34m(self, hostname, port, username, password, pkey, key_filename, timeout, allow_agent, look_for_keys, compress, sock, gss_auth, gss_kex, gss_deleg_creds, gss_host, banner_timeout, auth_timeout, gss_trust_dns, passphrase, disabled_algorithms)\u001b[0m\n\u001b[1;32m    347\u001b[0m                         \u001b[0;32mexcept\u001b[0m\u001b[0;34m:\u001b[0m\u001b[0;34m\u001b[0m\u001b[0;34m\u001b[0m\u001b[0m\n\u001b[1;32m    348\u001b[0m                             \u001b[0;32mpass\u001b[0m\u001b[0;34m\u001b[0m\u001b[0;34m\u001b[0m\u001b[0m\n\u001b[0;32m--> 349\u001b[0;31m                     \u001b[0mretry_on_signal\u001b[0m\u001b[0;34m(\u001b[0m\u001b[0;32mlambda\u001b[0m\u001b[0;34m:\u001b[0m \u001b[0msock\u001b[0m\u001b[0;34m.\u001b[0m\u001b[0mconnect\u001b[0m\u001b[0;34m(\u001b[0m\u001b[0maddr\u001b[0m\u001b[0;34m)\u001b[0m\u001b[0;34m)\u001b[0m\u001b[0;34m\u001b[0m\u001b[0;34m\u001b[0m\u001b[0m\n\u001b[0m\u001b[1;32m    350\u001b[0m                     \u001b[0;31m# Break out of the loop on success\u001b[0m\u001b[0;34m\u001b[0m\u001b[0;34m\u001b[0m\u001b[0m\n\u001b[1;32m    351\u001b[0m                     \u001b[0;32mbreak\u001b[0m\u001b[0;34m\u001b[0m\u001b[0;34m\u001b[0m\u001b[0m\n",
      "\u001b[0;32m/usr/local/anaconda3/envs/dft_for_sm/lib/python3.9/site-packages/paramiko/util.py\u001b[0m in \u001b[0;36mretry_on_signal\u001b[0;34m(function)\u001b[0m\n\u001b[1;32m    281\u001b[0m     \u001b[0;32mwhile\u001b[0m \u001b[0;32mTrue\u001b[0m\u001b[0;34m:\u001b[0m\u001b[0;34m\u001b[0m\u001b[0;34m\u001b[0m\u001b[0m\n\u001b[1;32m    282\u001b[0m         \u001b[0;32mtry\u001b[0m\u001b[0;34m:\u001b[0m\u001b[0;34m\u001b[0m\u001b[0;34m\u001b[0m\u001b[0m\n\u001b[0;32m--> 283\u001b[0;31m             \u001b[0;32mreturn\u001b[0m \u001b[0mfunction\u001b[0m\u001b[0;34m(\u001b[0m\u001b[0;34m)\u001b[0m\u001b[0;34m\u001b[0m\u001b[0;34m\u001b[0m\u001b[0m\n\u001b[0m\u001b[1;32m    284\u001b[0m         \u001b[0;32mexcept\u001b[0m \u001b[0mEnvironmentError\u001b[0m \u001b[0;32mas\u001b[0m \u001b[0me\u001b[0m\u001b[0;34m:\u001b[0m\u001b[0;34m\u001b[0m\u001b[0;34m\u001b[0m\u001b[0m\n\u001b[1;32m    285\u001b[0m             \u001b[0;32mif\u001b[0m \u001b[0me\u001b[0m\u001b[0;34m.\u001b[0m\u001b[0merrno\u001b[0m \u001b[0;34m!=\u001b[0m \u001b[0merrno\u001b[0m\u001b[0;34m.\u001b[0m\u001b[0mEINTR\u001b[0m\u001b[0;34m:\u001b[0m\u001b[0;34m\u001b[0m\u001b[0;34m\u001b[0m\u001b[0m\n",
      "\u001b[0;32m/usr/local/anaconda3/envs/dft_for_sm/lib/python3.9/site-packages/paramiko/client.py\u001b[0m in \u001b[0;36m<lambda>\u001b[0;34m()\u001b[0m\n\u001b[1;32m    347\u001b[0m                         \u001b[0;32mexcept\u001b[0m\u001b[0;34m:\u001b[0m\u001b[0;34m\u001b[0m\u001b[0;34m\u001b[0m\u001b[0m\n\u001b[1;32m    348\u001b[0m                             \u001b[0;32mpass\u001b[0m\u001b[0;34m\u001b[0m\u001b[0;34m\u001b[0m\u001b[0m\n\u001b[0;32m--> 349\u001b[0;31m                     \u001b[0mretry_on_signal\u001b[0m\u001b[0;34m(\u001b[0m\u001b[0;32mlambda\u001b[0m\u001b[0;34m:\u001b[0m \u001b[0msock\u001b[0m\u001b[0;34m.\u001b[0m\u001b[0mconnect\u001b[0m\u001b[0;34m(\u001b[0m\u001b[0maddr\u001b[0m\u001b[0;34m)\u001b[0m\u001b[0;34m)\u001b[0m\u001b[0;34m\u001b[0m\u001b[0;34m\u001b[0m\u001b[0m\n\u001b[0m\u001b[1;32m    350\u001b[0m                     \u001b[0;31m# Break out of the loop on success\u001b[0m\u001b[0;34m\u001b[0m\u001b[0;34m\u001b[0m\u001b[0m\n\u001b[1;32m    351\u001b[0m                     \u001b[0;32mbreak\u001b[0m\u001b[0;34m\u001b[0m\u001b[0;34m\u001b[0m\u001b[0m\n",
      "\u001b[0;31mTimeoutError\u001b[0m: [Errno 60] Operation timed out"
     ]
    }
   ],
   "source": [
    "sm=slurm_manager(user='jschleinitz', host='hermite.chimie.ens.fr')\n",
    "sm.connect()"
   ]
  },
  {
   "cell_type": "markdown",
   "id": "09c521c0",
   "metadata": {},
   "source": [
    "# Provide smiles string(s)\n",
    "and copy into them into my_smiles variable. It's a list of strings (a Python list can be of any size), the smiles are extracted for the csv resulting form the step 2 numbering the molecules."
   ]
  },
  {
   "cell_type": "code",
   "execution_count": 3,
   "id": "7b28b022",
   "metadata": {},
   "outputs": [],
   "source": [
    "react_nb = pd.read_csv(\"../data_csv/Data_test10222021.csv\", sep=',')\n",
    "import numpy as np\n",
    "from rdkit import Chem\n",
    "df = pd.read_csv('../data_csv/Data_test10222021.csv', sep = ',')\n",
    "df = df[df['Ligand effectif'].notna()]"
   ]
  },
  {
   "cell_type": "code",
   "execution_count": 5,
   "id": "e787fcdc",
   "metadata": {},
   "outputs": [
    {
     "data": {
      "text/plain": [
       "['CC(C)(C)N1[C]N(C(C)(C)C)C=C1',\n",
       " 'CC(C)(C)N1[C]N(C(C)(C)C)CC1',\n",
       " 'CC(C)(C)N1[C]N(CN2[C]N(C(C)(C)C)C=C2)C=C1',\n",
       " 'CC(C)N1[C]N(C(C)C)C=C1',\n",
       " 'CC(C)N1[C]N(CN2[C]N(C(C)C)C=C2)C=C1',\n",
       " 'CC(C)c1cccc(C(C)C)c1N1[C]N(c2c(C(C)C)cccc2C(C)C)C=C1',\n",
       " 'CC(C)c1cccc(C(C)C)c1N1[C]N(c2c(C(C)C)cccc2C(C)C)CC1',\n",
       " 'CC1=C(C)N(c2c(C(C)C)cccc2C(C)C)[C]N1c1c(C(C)C)cccc1C(C)C',\n",
       " 'CCCCN1[C]N(c2cccc(N3[C]N(CCCC)c4ccccc43)n2)c2ccccc21',\n",
       " 'CN1[C]N(CN2[C]N(C)C=C2)C=C1',\n",
       " 'Cc1cc(C)c(N2[C]N(c3c(C)cc(C)cc3C)C=C2)c(C)c1',\n",
       " 'Cc1cc(C)c(N2[C]N(c3c(C)cc(C)cc3C)CC2)c(C)c1',\n",
       " '[C]1N(C23CC4CC(CC(C4)C2)C3)C=CN1C12CC3CC(CC(C3)C1)C2',\n",
       " '[C]1N(C2C3CC4CC(C3)CC2C4)C=CN1C1C2CC3CC(C2)CC1C3',\n",
       " '[C]1N(C2CCCCC2)C=CN1C1CCCCC1',\n",
       " '[C]1N(CN2[C]N(C3CCCCC3)C=C2)C=CN1C1CCCCC1']"
      ]
     },
     "execution_count": 5,
     "metadata": {},
     "output_type": "execute_result"
    }
   ],
   "source": [
    "unik_lig = [pp.dict_ligand[i] for i in np.unique(df[\"Ligand effectif\"])]\n",
    "can_unik_lig = np.unique([Chem.CanonSmiles(smi) for smi in unik_lig])\n",
    "my_smiles = can_unik_lig\n",
    "can_unik_lig\n",
    "# determine if ligand is NHC, Phosphine, Diphosphine or other\n",
    "def lig_type(list_lig):\n",
    "    lig_type = []\n",
    "    for smi in list_lig:\n",
    "        m = Chem.MolFromSmiles(smi)\n",
    "        if m.HasSubstructMatch(Chem.MolFromSmiles('N[C]N')):\n",
    "            typ = 'NHC'\n",
    "            if m.HasSubstructMatch(Chem.MolFromSmiles('P')):\n",
    "                typ = 'mixed'\n",
    "        elif m.HasSubstructMatch(Chem.MolFromSmiles('P')):\n",
    "            typ = 'Phos'\n",
    "            if len(m.GetSubstructMatches(Chem.MolFromSmiles('P'))) == 2:\n",
    "                typ = 'DiPhos'\n",
    "                if len(m.GetSubstructMatches(Chem.MolFromSmiles('P'))) > 2:\n",
    "                    typ = 'mixed Phos'\n",
    "        else:\n",
    "            typ = 'other'\n",
    "        lig_type.append(typ)\n",
    "    return lig_type\n",
    "nhc = [can_unik_lig[i] for i in range(len(can_unik_lig)) if lig_type(can_unik_lig)[i] == 'NHC']\n",
    "nhc"
   ]
  },
  {
   "cell_type": "markdown",
   "id": "9c3ebf25",
   "metadata": {},
   "source": [
    "# Initialize the molecules and generate conformations\n",
    "We will use some for loops to loop over the smiles, only one conformation will be taken for each molecules in this work"
   ]
  },
  {
   "cell_type": "code",
   "execution_count": 6,
   "id": "225806f5",
   "metadata": {},
   "outputs": [
    {
     "name": "stderr",
     "output_type": "stream",
     "text": [
      "INFO:aqc_utils.molecule:Initializing molecule with canonical smiles: CC(N1C=CN([C]1)C(C)(C)C)(C)C\n",
      "INFO:aqc_utils.molecule:Creating initial geometry with option 'best'.\n",
      "INFO:aqc_utils.molecule:Initial geometry created successfully.\n",
      "INFO:aqc_utils.molecule:Initializing molecule with canonical smiles: CC(N1CCN([C]1)C(C)(C)C)(C)C\n",
      "INFO:aqc_utils.molecule:Creating initial geometry with option 'best'.\n",
      "INFO:aqc_utils.molecule:Initial geometry created successfully.\n",
      "INFO:aqc_utils.molecule:Initializing molecule with canonical smiles: CC(N1C=CN([C]1)CN1C=CN([C]1)C(C)(C)C)(C)C\n",
      "INFO:aqc_utils.molecule:Creating initial geometry with option 'best'.\n",
      "INFO:aqc_utils.molecule:Initial geometry created successfully.\n",
      "INFO:aqc_utils.molecule:Initializing molecule with canonical smiles: CC(N1C=CN([C]1)C(C)C)C\n",
      "INFO:aqc_utils.molecule:Creating initial geometry with option 'best'.\n",
      "INFO:aqc_utils.molecule:Initial geometry created successfully.\n",
      "INFO:aqc_utils.molecule:Initializing molecule with canonical smiles: CC(N1C=CN([C]1)CN1C=CN([C]1)C(C)C)C\n",
      "INFO:aqc_utils.molecule:Creating initial geometry with option 'best'.\n",
      "INFO:aqc_utils.molecule:Initial geometry created successfully.\n",
      "INFO:aqc_utils.molecule:Initializing molecule with canonical smiles: CC(c1cccc(c1N1C=CN([C]1)c1c(cccc1C(C)C)C(C)C)C(C)C)C\n",
      "INFO:aqc_utils.molecule:Creating initial geometry with option 'best'.\n",
      "INFO:aqc_utils.molecule:Initial geometry created successfully.\n",
      "INFO:aqc_utils.molecule:Initializing molecule with canonical smiles: CC(c1cccc(c1N1CCN([C]1)c1c(cccc1C(C)C)C(C)C)C(C)C)C\n",
      "INFO:aqc_utils.molecule:Creating initial geometry with option 'best'.\n",
      "INFO:aqc_utils.molecule:Initial geometry created successfully.\n",
      "INFO:aqc_utils.molecule:Initializing molecule with canonical smiles: CC(c1cccc(c1N1[C]N(C(=C1C)C)c1c(cccc1C(C)C)C(C)C)C(C)C)C\n",
      "INFO:aqc_utils.molecule:Creating initial geometry with option 'best'.\n",
      "INFO:aqc_utils.molecule:Initial geometry created successfully.\n",
      "INFO:aqc_utils.molecule:Initializing molecule with canonical smiles: CCCCN1[C]N(c2c1cccc2)c1cccc(n1)N1[C]N(c2c1cccc2)CCCC\n",
      "INFO:aqc_utils.molecule:Creating initial geometry with option 'best'.\n",
      "INFO:aqc_utils.molecule:Initial geometry created successfully.\n",
      "INFO:aqc_utils.molecule:Initializing molecule with canonical smiles: CN1C=CN([C]1)CN1C=CN([C]1)C\n",
      "INFO:aqc_utils.molecule:Creating initial geometry with option 'best'.\n",
      "INFO:aqc_utils.molecule:Initial geometry created successfully.\n",
      "INFO:aqc_utils.molecule:Initializing molecule with canonical smiles: Cc1cc(C)cc(c1N1C=CN([C]1)c1c(C)cc(cc1C)C)C\n",
      "INFO:aqc_utils.molecule:Creating initial geometry with option 'best'.\n",
      "INFO:aqc_utils.molecule:Initial geometry created successfully.\n",
      "INFO:aqc_utils.molecule:Initializing molecule with canonical smiles: Cc1cc(C)cc(c1N1CCN([C]1)c1c(C)cc(cc1C)C)C\n",
      "INFO:aqc_utils.molecule:Creating initial geometry with option 'best'.\n",
      "INFO:aqc_utils.molecule:Initial geometry created successfully.\n",
      "INFO:aqc_utils.molecule:Initializing molecule with canonical smiles: C1C2CC3CC1CC(C2)(C3)N1C=CN([C]1)C12CC3CC(C2)CC(C1)C3\n",
      "INFO:aqc_utils.molecule:Creating initial geometry with option 'best'.\n",
      "INFO:aqc_utils.molecule:Initial geometry created successfully.\n",
      "INFO:aqc_utils.molecule:Initializing molecule with canonical smiles: C1C2CC3C(C1CC(C2)C3)N1C=CN([C]1)C1C2CC3CC1CC(C2)C3\n",
      "INFO:aqc_utils.molecule:Creating initial geometry with option 'best'.\n",
      "INFO:aqc_utils.molecule:Initial geometry created successfully.\n",
      "INFO:aqc_utils.molecule:Initializing molecule with canonical smiles: C1CCC(CC1)N1C=CN([C]1)C1CCCCC1\n",
      "INFO:aqc_utils.molecule:Creating initial geometry with option 'best'.\n",
      "INFO:aqc_utils.molecule:Initial geometry created successfully.\n",
      "INFO:aqc_utils.molecule:Initializing molecule with canonical smiles: C1CCC(CC1)N1C=CN([C]1)CN1C=CN([C]1)C1CCCCC1\n",
      "INFO:aqc_utils.molecule:Creating initial geometry with option 'best'.\n",
      "INFO:aqc_utils.molecule:Initial geometry created successfully.\n"
     ]
    }
   ],
   "source": [
    "mols = []\n",
    "for smile in nhc:\n",
    "    mols.append(molecule(smile, max_num_conformers=1))"
   ]
  },
  {
   "cell_type": "markdown",
   "id": "a702571b",
   "metadata": {},
   "source": [
    "###### Draw some molecules"
   ]
  },
  {
   "cell_type": "code",
   "execution_count": 8,
   "id": "0ccbf815",
   "metadata": {},
   "outputs": [],
   "source": [
    "#mols[0].draw(2)"
   ]
  },
  {
   "cell_type": "markdown",
   "id": "100f5719",
   "metadata": {},
   "source": [
    "# Create gaussian job for each conformation"
   ]
  },
  {
   "cell_type": "code",
   "execution_count": 9,
   "id": "4d7c91a6",
   "metadata": {},
   "outputs": [
    {
     "name": "stderr",
     "output_type": "stream",
     "text": [
      "INFO:aqc_utils.gaussian_input_generator:Generating Gaussian input files for 1 conformations.\n"
     ]
    },
    {
     "name": "stdout",
     "output_type": "stream",
     "text": [
      "C11H20N2_7540_conf_0\n"
     ]
    },
    {
     "name": "stderr",
     "output_type": "stream",
     "text": [
      "INFO:aqc_utils.gaussian_input_generator:Generating Gaussian input files for 1 conformations.\n"
     ]
    },
    {
     "name": "stdout",
     "output_type": "stream",
     "text": [
      "C11H22N2_c5d7_conf_0\n"
     ]
    },
    {
     "name": "stderr",
     "output_type": "stream",
     "text": [
      "INFO:aqc_utils.gaussian_input_generator:Generating Gaussian input files for 1 conformations.\n"
     ]
    },
    {
     "name": "stdout",
     "output_type": "stream",
     "text": [
      "C15H24N4_d8ab_conf_0\n"
     ]
    },
    {
     "name": "stderr",
     "output_type": "stream",
     "text": [
      "INFO:aqc_utils.gaussian_input_generator:Generating Gaussian input files for 1 conformations.\n"
     ]
    },
    {
     "name": "stdout",
     "output_type": "stream",
     "text": [
      "C9H16N2_f1bc_conf_0\n"
     ]
    },
    {
     "name": "stderr",
     "output_type": "stream",
     "text": [
      "INFO:aqc_utils.gaussian_input_generator:Generating Gaussian input files for 1 conformations.\n"
     ]
    },
    {
     "name": "stdout",
     "output_type": "stream",
     "text": [
      "C13H20N4_d015_conf_0\n"
     ]
    },
    {
     "name": "stderr",
     "output_type": "stream",
     "text": [
      "INFO:aqc_utils.gaussian_input_generator:Generating Gaussian input files for 1 conformations.\n"
     ]
    },
    {
     "name": "stdout",
     "output_type": "stream",
     "text": [
      "C27H36N2_f6db_conf_0\n"
     ]
    },
    {
     "name": "stderr",
     "output_type": "stream",
     "text": [
      "INFO:aqc_utils.gaussian_input_generator:Generating Gaussian input files for 1 conformations.\n"
     ]
    },
    {
     "name": "stdout",
     "output_type": "stream",
     "text": [
      "C27H38N2_e63a_conf_0\n"
     ]
    },
    {
     "name": "stderr",
     "output_type": "stream",
     "text": [
      "INFO:aqc_utils.gaussian_input_generator:Generating Gaussian input files for 1 conformations.\n"
     ]
    },
    {
     "name": "stdout",
     "output_type": "stream",
     "text": [
      "C29H40N2_5bcb_conf_0\n"
     ]
    },
    {
     "name": "stderr",
     "output_type": "stream",
     "text": [
      "INFO:aqc_utils.gaussian_input_generator:Generating Gaussian input files for 1 conformations.\n"
     ]
    },
    {
     "name": "stdout",
     "output_type": "stream",
     "text": [
      "C27H29N5_6719_conf_0\n"
     ]
    },
    {
     "name": "stderr",
     "output_type": "stream",
     "text": [
      "INFO:aqc_utils.gaussian_input_generator:Generating Gaussian input files for 1 conformations.\n"
     ]
    },
    {
     "name": "stdout",
     "output_type": "stream",
     "text": [
      "C9H12N4_5e30_conf_0\n"
     ]
    },
    {
     "name": "stderr",
     "output_type": "stream",
     "text": [
      "INFO:aqc_utils.gaussian_input_generator:Generating Gaussian input files for 1 conformations.\n"
     ]
    },
    {
     "name": "stdout",
     "output_type": "stream",
     "text": [
      "C21H24N2_9610_conf_0\n"
     ]
    },
    {
     "name": "stderr",
     "output_type": "stream",
     "text": [
      "INFO:aqc_utils.gaussian_input_generator:Generating Gaussian input files for 1 conformations.\n"
     ]
    },
    {
     "name": "stdout",
     "output_type": "stream",
     "text": [
      "C21H26N2_292b_conf_0\n"
     ]
    },
    {
     "name": "stderr",
     "output_type": "stream",
     "text": [
      "INFO:aqc_utils.gaussian_input_generator:Generating Gaussian input files for 1 conformations.\n"
     ]
    },
    {
     "name": "stdout",
     "output_type": "stream",
     "text": [
      "C23H32N2_8c59_conf_0\n"
     ]
    },
    {
     "name": "stderr",
     "output_type": "stream",
     "text": [
      "INFO:aqc_utils.gaussian_input_generator:Generating Gaussian input files for 1 conformations.\n"
     ]
    },
    {
     "name": "stdout",
     "output_type": "stream",
     "text": [
      "C23H32N2_7ca4_conf_0\n"
     ]
    },
    {
     "name": "stderr",
     "output_type": "stream",
     "text": [
      "INFO:aqc_utils.gaussian_input_generator:Generating Gaussian input files for 1 conformations.\n"
     ]
    },
    {
     "name": "stdout",
     "output_type": "stream",
     "text": [
      "C15H24N2_9a3b_conf_0\n"
     ]
    },
    {
     "name": "stderr",
     "output_type": "stream",
     "text": [
      "INFO:aqc_utils.gaussian_input_generator:Generating Gaussian input files for 1 conformations.\n"
     ]
    },
    {
     "name": "stdout",
     "output_type": "stream",
     "text": [
      "C19H28N4_583c_conf_0\n"
     ]
    }
   ],
   "source": [
    "for mol in mols:\n",
    "    sm.create_jobs_for_molecule(mol, workflow_type=\"equilibrium\")"
   ]
  },
  {
   "cell_type": "code",
   "execution_count": 10,
   "id": "c2aa4b1c",
   "metadata": {
    "scrolled": false
   },
   "outputs": [
    {
     "data": {
      "text/html": [
       "<div>\n",
       "<style scoped>\n",
       "    .dataframe tbody tr th:only-of-type {\n",
       "        vertical-align: middle;\n",
       "    }\n",
       "\n",
       "    .dataframe tbody tr th {\n",
       "        vertical-align: top;\n",
       "    }\n",
       "\n",
       "    .dataframe thead th {\n",
       "        text-align: right;\n",
       "    }\n",
       "</style>\n",
       "<table border=\"1\" class=\"dataframe\">\n",
       "  <thead>\n",
       "    <tr style=\"text-align: right;\">\n",
       "      <th>status</th>\n",
       "      <th>created</th>\n",
       "      <th>done</th>\n",
       "      <th>failed</th>\n",
       "      <th>incomplete</th>\n",
       "      <th>uploaded</th>\n",
       "    </tr>\n",
       "    <tr>\n",
       "      <th>can</th>\n",
       "      <th></th>\n",
       "      <th></th>\n",
       "      <th></th>\n",
       "      <th></th>\n",
       "      <th></th>\n",
       "    </tr>\n",
       "  </thead>\n",
       "  <tbody>\n",
       "    <tr>\n",
       "      <th>BrB(Br)Br</th>\n",
       "      <td>0</td>\n",
       "      <td>0</td>\n",
       "      <td>0</td>\n",
       "      <td>0</td>\n",
       "      <td>1</td>\n",
       "    </tr>\n",
       "    <tr>\n",
       "      <th>Br[Mg]C1CCCCC1</th>\n",
       "      <td>0</td>\n",
       "      <td>0</td>\n",
       "      <td>0</td>\n",
       "      <td>0</td>\n",
       "      <td>1</td>\n",
       "    </tr>\n",
       "    <tr>\n",
       "      <th>Br[Mg]Cc1ccccc1</th>\n",
       "      <td>0</td>\n",
       "      <td>0</td>\n",
       "      <td>0</td>\n",
       "      <td>0</td>\n",
       "      <td>1</td>\n",
       "    </tr>\n",
       "    <tr>\n",
       "      <th>Br[Mg]c1c(C)cc(cc1C)C</th>\n",
       "      <td>0</td>\n",
       "      <td>0</td>\n",
       "      <td>0</td>\n",
       "      <td>1</td>\n",
       "      <td>0</td>\n",
       "    </tr>\n",
       "    <tr>\n",
       "      <th>C(Oc1ccccc1)Oc1ccccc1</th>\n",
       "      <td>0</td>\n",
       "      <td>0</td>\n",
       "      <td>1</td>\n",
       "      <td>0</td>\n",
       "      <td>0</td>\n",
       "    </tr>\n",
       "    <tr>\n",
       "      <th>...</th>\n",
       "      <td>...</td>\n",
       "      <td>...</td>\n",
       "      <td>...</td>\n",
       "      <td>...</td>\n",
       "      <td>...</td>\n",
       "    </tr>\n",
       "    <tr>\n",
       "      <th>[Rb+]</th>\n",
       "      <td>0</td>\n",
       "      <td>0</td>\n",
       "      <td>0</td>\n",
       "      <td>0</td>\n",
       "      <td>1</td>\n",
       "    </tr>\n",
       "    <tr>\n",
       "      <th>[Sr+2]</th>\n",
       "      <td>0</td>\n",
       "      <td>0</td>\n",
       "      <td>0</td>\n",
       "      <td>0</td>\n",
       "      <td>1</td>\n",
       "    </tr>\n",
       "    <tr>\n",
       "      <th>[Y+3]</th>\n",
       "      <td>0</td>\n",
       "      <td>0</td>\n",
       "      <td>0</td>\n",
       "      <td>0</td>\n",
       "      <td>1</td>\n",
       "    </tr>\n",
       "    <tr>\n",
       "      <th>[Zn+2]</th>\n",
       "      <td>0</td>\n",
       "      <td>0</td>\n",
       "      <td>0</td>\n",
       "      <td>0</td>\n",
       "      <td>1</td>\n",
       "    </tr>\n",
       "    <tr>\n",
       "      <th>[Zn]</th>\n",
       "      <td>0</td>\n",
       "      <td>0</td>\n",
       "      <td>0</td>\n",
       "      <td>0</td>\n",
       "      <td>1</td>\n",
       "    </tr>\n",
       "  </tbody>\n",
       "</table>\n",
       "<p>439 rows × 5 columns</p>\n",
       "</div>"
      ],
      "text/plain": [
       "status                 created  done  failed  incomplete  uploaded\n",
       "can                                                               \n",
       "BrB(Br)Br                    0     0       0           0         1\n",
       "Br[Mg]C1CCCCC1               0     0       0           0         1\n",
       "Br[Mg]Cc1ccccc1              0     0       0           0         1\n",
       "Br[Mg]c1c(C)cc(cc1C)C        0     0       0           1         0\n",
       "C(Oc1ccccc1)Oc1ccccc1        0     0       1           0         0\n",
       "...                        ...   ...     ...         ...       ...\n",
       "[Rb+]                        0     0       0           0         1\n",
       "[Sr+2]                       0     0       0           0         1\n",
       "[Y+3]                        0     0       0           0         1\n",
       "[Zn+2]                       0     0       0           0         1\n",
       "[Zn]                         0     0       0           0         1\n",
       "\n",
       "[439 rows x 5 columns]"
      ]
     },
     "execution_count": 10,
     "metadata": {},
     "output_type": "execute_result"
    }
   ],
   "source": [
    "sm.get_job_stats(split_by_can=True)"
   ]
  },
  {
   "cell_type": "code",
   "execution_count": 11,
   "id": "1637eca0",
   "metadata": {},
   "outputs": [
    {
     "name": "stderr",
     "output_type": "stream",
     "text": [
      "INFO:aqc_utils.slurm_manager:Submitting 16 jobs.\n",
      "INFO:paramiko.transport.sftp:[chan 1] Opened sftp connection (server version 3)\n"
     ]
    },
    {
     "name": "stdout",
     "output_type": "stream",
     "text": [
      "Submitted batch job 10441\n"
     ]
    },
    {
     "name": "stderr",
     "output_type": "stream",
     "text": [
      "INFO:aqc_utils.slurm_manager:Submitted job 8d4e225e7fae1fe2e931f937179a6105, job_id: 10441.\n"
     ]
    },
    {
     "name": "stdout",
     "output_type": "stream",
     "text": [
      "Submitted batch job 10442\n"
     ]
    },
    {
     "name": "stderr",
     "output_type": "stream",
     "text": [
      "INFO:aqc_utils.slurm_manager:Submitted job a324cf6d41d1ad5cd07f7eeae4d94a63, job_id: 10442.\n"
     ]
    },
    {
     "name": "stdout",
     "output_type": "stream",
     "text": [
      "Submitted batch job 10443\n"
     ]
    },
    {
     "name": "stderr",
     "output_type": "stream",
     "text": [
      "INFO:aqc_utils.slurm_manager:Submitted job 39eec1408f0050f1bac703efbbc040cf, job_id: 10443.\n"
     ]
    },
    {
     "name": "stdout",
     "output_type": "stream",
     "text": [
      "Submitted batch job 10444\n"
     ]
    },
    {
     "name": "stderr",
     "output_type": "stream",
     "text": [
      "INFO:aqc_utils.slurm_manager:Submitted job caacf1247263356851d81ab15f7e1793, job_id: 10444.\n"
     ]
    },
    {
     "name": "stdout",
     "output_type": "stream",
     "text": [
      "Submitted batch job 10445\n"
     ]
    },
    {
     "name": "stderr",
     "output_type": "stream",
     "text": [
      "INFO:aqc_utils.slurm_manager:Submitted job b28a2c771d285f793ba6e1f107c1a586, job_id: 10445.\n"
     ]
    },
    {
     "name": "stdout",
     "output_type": "stream",
     "text": [
      "Submitted batch job 10446\n"
     ]
    },
    {
     "name": "stderr",
     "output_type": "stream",
     "text": [
      "INFO:aqc_utils.slurm_manager:Submitted job 1eb8f29c2bb54d781d311bcbc5b88312, job_id: 10446.\n"
     ]
    },
    {
     "name": "stdout",
     "output_type": "stream",
     "text": [
      "Submitted batch job 10447\n"
     ]
    },
    {
     "name": "stderr",
     "output_type": "stream",
     "text": [
      "INFO:aqc_utils.slurm_manager:Submitted job d24cabcb47f6c9b707cb71cef5d06535, job_id: 10447.\n"
     ]
    },
    {
     "name": "stdout",
     "output_type": "stream",
     "text": [
      "Submitted batch job 10448\n"
     ]
    },
    {
     "name": "stderr",
     "output_type": "stream",
     "text": [
      "INFO:aqc_utils.slurm_manager:Submitted job 2a0961e6c5fcf408f853b3f99dc633ae, job_id: 10448.\n"
     ]
    },
    {
     "name": "stdout",
     "output_type": "stream",
     "text": [
      "Submitted batch job 10449\n"
     ]
    },
    {
     "name": "stderr",
     "output_type": "stream",
     "text": [
      "INFO:aqc_utils.slurm_manager:Submitted job b21ab56ec07ce9e5c8aac708d5ae29a9, job_id: 10449.\n"
     ]
    },
    {
     "name": "stdout",
     "output_type": "stream",
     "text": [
      "Submitted batch job 10450\n"
     ]
    },
    {
     "name": "stderr",
     "output_type": "stream",
     "text": [
      "INFO:aqc_utils.slurm_manager:Submitted job 2c1100b9e425aa2c578f799fc6b6e79a, job_id: 10450.\n"
     ]
    },
    {
     "name": "stdout",
     "output_type": "stream",
     "text": [
      "Submitted batch job 10451\n"
     ]
    },
    {
     "name": "stderr",
     "output_type": "stream",
     "text": [
      "INFO:aqc_utils.slurm_manager:Submitted job c06cb9c84b5701853b5c718a115ccc3e, job_id: 10451.\n"
     ]
    },
    {
     "name": "stdout",
     "output_type": "stream",
     "text": [
      "Submitted batch job 10452\n"
     ]
    },
    {
     "name": "stderr",
     "output_type": "stream",
     "text": [
      "INFO:aqc_utils.slurm_manager:Submitted job 378a0542c01860c0aff514f63a694fa8, job_id: 10452.\n"
     ]
    },
    {
     "name": "stdout",
     "output_type": "stream",
     "text": [
      "Submitted batch job 10453\n"
     ]
    },
    {
     "name": "stderr",
     "output_type": "stream",
     "text": [
      "INFO:aqc_utils.slurm_manager:Submitted job 727183d7c5254b56c9b6c88a3cb4166e, job_id: 10453.\n"
     ]
    },
    {
     "name": "stdout",
     "output_type": "stream",
     "text": [
      "Submitted batch job 10454\n"
     ]
    },
    {
     "name": "stderr",
     "output_type": "stream",
     "text": [
      "INFO:aqc_utils.slurm_manager:Submitted job 29dc634d0401b34e44b7a572b609ae6f, job_id: 10454.\n"
     ]
    },
    {
     "name": "stdout",
     "output_type": "stream",
     "text": [
      "Submitted batch job 10455\n"
     ]
    },
    {
     "name": "stderr",
     "output_type": "stream",
     "text": [
      "INFO:aqc_utils.slurm_manager:Submitted job 725198f8f67b773b9e7244c05a33838b, job_id: 10455.\n"
     ]
    },
    {
     "name": "stdout",
     "output_type": "stream",
     "text": [
      "Submitted batch job 10456\n"
     ]
    },
    {
     "name": "stderr",
     "output_type": "stream",
     "text": [
      "INFO:aqc_utils.slurm_manager:Submitted job f599b9d8ba83ca2ca87ef376c8ea95dc, job_id: 10456.\n"
     ]
    }
   ],
   "source": [
    "sm.submit_jobs()"
   ]
  },
  {
   "cell_type": "code",
   "execution_count": 12,
   "id": "be5c852a",
   "metadata": {
    "scrolled": true
   },
   "outputs": [
    {
     "data": {
      "text/html": [
       "<div>\n",
       "<style scoped>\n",
       "    .dataframe tbody tr th:only-of-type {\n",
       "        vertical-align: middle;\n",
       "    }\n",
       "\n",
       "    .dataframe tbody tr th {\n",
       "        vertical-align: top;\n",
       "    }\n",
       "\n",
       "    .dataframe thead th {\n",
       "        text-align: right;\n",
       "    }\n",
       "</style>\n",
       "<table border=\"1\" class=\"dataframe\">\n",
       "  <thead>\n",
       "    <tr style=\"text-align: right;\">\n",
       "      <th></th>\n",
       "      <th>RUNNING</th>\n",
       "    </tr>\n",
       "  </thead>\n",
       "  <tbody>\n",
       "    <tr>\n",
       "      <th>jobs</th>\n",
       "      <td>16</td>\n",
       "    </tr>\n",
       "  </tbody>\n",
       "</table>\n",
       "</div>"
      ],
      "text/plain": [
       "      RUNNING\n",
       "jobs       16"
      ]
     },
     "execution_count": 12,
     "metadata": {},
     "output_type": "execute_result"
    }
   ],
   "source": [
    "sm.squeue()"
   ]
  },
  {
   "cell_type": "code",
   "execution_count": 90,
   "id": "c4493bc4",
   "metadata": {},
   "outputs": [
    {
     "name": "stdout",
     "output_type": "stream",
     "text": [
      "C14H18OSi_95fa_conf_0\n",
      "C11H10O2_d7c7_conf_0\n",
      "C11H10O_9eb4_conf_0\n",
      "C11H17NO_9080_conf_0\n",
      "C11H17NO_d167_conf_0\n",
      "C10H11NO_10ad_conf_0\n",
      "C12H12O_d53c_conf_0\n",
      "C13H14O_eb43_conf_0\n"
     ]
    }
   ],
   "source": [
    "for job in sm.get_jobs():\n",
    "    if str(sm.get_jobs()[job].status) == 'slurm_status.done':\n",
    "        print(sm.get_jobs()[job].base_name)"
   ]
  },
  {
   "cell_type": "code",
   "execution_count": 84,
   "id": "4df0fbf2",
   "metadata": {},
   "outputs": [
    {
     "data": {
      "text/plain": [
       "'6625625ec8945f514e3c68c6d47152bb'"
      ]
     },
     "execution_count": 84,
     "metadata": {},
     "output_type": "execute_result"
    }
   ],
   "source": [
    "job"
   ]
  },
  {
   "cell_type": "code",
   "execution_count": 85,
   "id": "bd444e53",
   "metadata": {},
   "outputs": [],
   "source": [
    "job_all = sm.get_jobs()[job]"
   ]
  },
  {
   "cell_type": "code",
   "execution_count": 33,
   "id": "a7e26a8c",
   "metadata": {},
   "outputs": [
    {
     "data": {
      "text/html": [
       "<div>\n",
       "<style scoped>\n",
       "    .dataframe tbody tr th:only-of-type {\n",
       "        vertical-align: middle;\n",
       "    }\n",
       "\n",
       "    .dataframe tbody tr th {\n",
       "        vertical-align: top;\n",
       "    }\n",
       "\n",
       "    .dataframe thead th {\n",
       "        text-align: right;\n",
       "    }\n",
       "</style>\n",
       "<table border=\"1\" class=\"dataframe\">\n",
       "  <thead>\n",
       "    <tr style=\"text-align: right;\">\n",
       "      <th>status</th>\n",
       "      <th>done</th>\n",
       "      <th>failed</th>\n",
       "      <th>incomplete</th>\n",
       "      <th>uploaded</th>\n",
       "    </tr>\n",
       "  </thead>\n",
       "  <tbody>\n",
       "    <tr>\n",
       "      <th>jobs</th>\n",
       "      <td>1</td>\n",
       "      <td>338</td>\n",
       "      <td>1</td>\n",
       "      <td>19</td>\n",
       "    </tr>\n",
       "  </tbody>\n",
       "</table>\n",
       "</div>"
      ],
      "text/plain": [
       "status  done  failed  incomplete  uploaded\n",
       "jobs       1     338           1        19"
      ]
     },
     "execution_count": 33,
     "metadata": {},
     "output_type": "execute_result"
    }
   ],
   "source": [
    "sm.get_job_stats()"
   ]
  },
  {
   "cell_type": "code",
   "execution_count": 87,
   "id": "da42bc52",
   "metadata": {},
   "outputs": [
    {
     "data": {
      "text/plain": [
       "'slurm_status.created'"
      ]
     },
     "execution_count": 87,
     "metadata": {},
     "output_type": "execute_result"
    }
   ],
   "source": [
    "str(job_all.status)"
   ]
  },
  {
   "cell_type": "code",
   "execution_count": 88,
   "id": "63f47dfe",
   "metadata": {},
   "outputs": [
    {
     "data": {
      "text/plain": [
       "'C12H13NO2_b9f2_conf_0'"
      ]
     },
     "execution_count": 88,
     "metadata": {},
     "output_type": "execute_result"
    }
   ],
   "source": [
    "job_all.base_name"
   ]
  }
 ],
 "metadata": {
  "kernelspec": {
   "display_name": "Python 3 (ipykernel)",
   "language": "python",
   "name": "python3"
  },
  "language_info": {
   "codemirror_mode": {
    "name": "ipython",
    "version": 3
   },
   "file_extension": ".py",
   "mimetype": "text/x-python",
   "name": "python",
   "nbconvert_exporter": "python",
   "pygments_lexer": "ipython3",
   "version": "3.9.7"
  }
 },
 "nbformat": 4,
 "nbformat_minor": 5
}
