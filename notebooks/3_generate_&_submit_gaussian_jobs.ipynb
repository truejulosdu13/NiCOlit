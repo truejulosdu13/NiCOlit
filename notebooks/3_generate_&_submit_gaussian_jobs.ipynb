{
 "cells": [
  {
   "cell_type": "markdown",
   "id": "e47a90ce",
   "metadata": {},
   "source": [
    "# Import packages"
   ]
  },
  {
   "cell_type": "code",
   "execution_count": 1,
   "id": "f3eeafd6",
   "metadata": {},
   "outputs": [],
   "source": [
    "import pandas as pd\n",
    "import sys\n",
    "sys.path.append('../')\n",
    "\n",
    "from aqc_utils.molecule import molecule\n",
    "from aqc_utils.slurm_manager import slurm_manager\n",
    "from aqc_utils.helper_classes import slurm_status\n",
    "\n",
    "import logging\n",
    "logging.basicConfig(level=logging.INFO)"
   ]
  },
  {
   "cell_type": "markdown",
   "id": "fd294cc9",
   "metadata": {},
   "source": [
    "# Initialize the slurm manager\n",
    "\n",
    "Slurm manager is going to manage what jobs you have currently running, or created. It caches your information, so you can kill the notebook, turn-off your computer, go on vacation, and pick it up later. It will remember which jobs you haven't retrieved from the cluster, etc.\n",
    "\n",
    "Note: it won't ask you for login unless you execute a method that requires remote access"
   ]
  },
  {
   "cell_type": "code",
   "execution_count": 2,
   "id": "10c3185a",
   "metadata": {},
   "outputs": [
    {
     "name": "stderr",
     "output_type": "stream",
     "text": [
      "INFO:aqc_utils.slurm_manager:Creating connection to hermite.chimie.ens.fr as jschleinitz\n",
      "INFO:paramiko.transport:Connected (version 2.0, client OpenSSH_8.2p1)\n",
      "INFO:paramiko.transport:Authentication (password) successful!\n",
      "INFO:aqc_utils.slurm_manager:Connected to hermite.chimie.ens.fr as jschleinitz is True.\n"
     ]
    }
   ],
   "source": [
    "sm=slurm_manager(user='jschleinitz', host='hermite.chimie.ens.fr')\n",
    "sm.connect()"
   ]
  },
  {
   "cell_type": "markdown",
   "id": "09c521c0",
   "metadata": {},
   "source": [
    "# Provide smiles string(s)\n",
    "and copy into them into my_smiles variable. It's a list of strings (a Python list can be of any size), the smiles are extracted for the csv resulting form the step 2 numbering the molecules."
   ]
  },
  {
   "cell_type": "code",
   "execution_count": 3,
   "id": "7b28b022",
   "metadata": {},
   "outputs": [],
   "source": [
    "react_nb = pd.read_csv(\"../data_csv/Data_test09032021.csv\", sep=',')\n",
    "import numpy as np\n",
    "from rdkit import Chem"
   ]
  },
  {
   "cell_type": "code",
   "execution_count": 4,
   "id": "e787fcdc",
   "metadata": {},
   "outputs": [
    {
     "name": "stderr",
     "output_type": "stream",
     "text": [
      "RDKit ERROR: [19:24:21] SMILES Parse Error: syntax error while parsing: c1ccccc1[Mg]Br.[Sc+++].CC(C)(C)S(=O)(=O)[O-].CC(C)(C)S(=O)(=O)[O-].CC(C)(C)S(=O)(=O)[O-]\n",
      "[19:24:21] SMILES Parse Error: syntax error while parsing: c1ccccc1[Mg]Br.[Sc+++].CC(C)(C)S(=O)(=O)[O-].CC(C)(C)S(=O)(=O)[O-].CC(C)(C)S(=O)(=O)[O-]\n",
      "RDKit ERROR: [19:24:21] SMILES Parse Error: Failed parsing SMILES 'c1ccccc1[Mg]Br.[Sc+++].CC(C)(C)S(=O)(=O)[O-].CC(C)(C)S(=O)(=O)[O-].CC(C)(C)S(=O)(=O)[O-]' for input: 'c1ccccc1[Mg]Br.[Sc+++].CC(C)(C)S(=O)(=O)[O-].CC(C)(C)S(=O)(=O)[O-].CC(C)(C)S(=O)(=O)[O-]'\n",
      "RDKit ERROR: [19:24:21] SMILES Parse Error: syntax error while parsing: c1ccccc1[Mg]Br.[Ti++++].CC(C)[O-].CC(C)[O-].CC(C)[O-].CC(C)[O-]\n",
      "RDKit ERROR: [19:24:21] SMILES Parse Error: Failed parsing SMILES 'c1ccccc1[Mg]Br.[Ti++++].CC(C)[O-].CC(C)[O-].CC(C)[O-].CC(C)[O-]' for input: 'c1ccccc1[Mg]Br.[Ti++++].CC(C)[O-].CC(C)[O-].CC(C)[O-].CC(C)[O-]'\n",
      "RDKit ERROR: [19:24:21] SMILES Parse Error: syntax error while parsing: c1ccccc1[Mg]Br.[Al+++].[Cl-].[Cl-].[Cl-]\n",
      "RDKit ERROR: [19:24:21] SMILES Parse Error: Failed parsing SMILES 'c1ccccc1[Mg]Br.[Al+++].[Cl-].[Cl-].[Cl-]' for input: 'c1ccccc1[Mg]Br.[Al+++].[Cl-].[Cl-].[Cl-]'\n",
      "[19:24:21] SMILES Parse Error: Failed parsing SMILES 'c1ccccc1[Mg]Br.[Sc+++].CC(C)(C)S(=O)(=O)[O-].CC(C)(C)S(=O)(=O)[O-].CC(C)(C)S(=O)(=O)[O-]' for input: 'c1ccccc1[Mg]Br.[Sc+++].CC(C)(C)S(=O)(=O)[O-].CC(C)(C)S(=O)(=O)[O-].CC(C)(C)S(=O)(=O)[O-]'\n",
      "[19:24:21] SMILES Parse Error: syntax error while parsing: c1ccccc1[Mg]Br.[Ti++++].CC(C)[O-].CC(C)[O-].CC(C)[O-].CC(C)[O-]\n",
      "[19:24:21] SMILES Parse Error: Failed parsing SMILES 'c1ccccc1[Mg]Br.[Ti++++].CC(C)[O-].CC(C)[O-].CC(C)[O-].CC(C)[O-]' for input: 'c1ccccc1[Mg]Br.[Ti++++].CC(C)[O-].CC(C)[O-].CC(C)[O-].CC(C)[O-]'\n",
      "[19:24:21] SMILES Parse Error: syntax error while parsing: c1ccccc1[Mg]Br.[Al+++].[Cl-].[Cl-].[Cl-]\n",
      "[19:24:21] SMILES Parse Error: Failed parsing SMILES 'c1ccccc1[Mg]Br.[Al+++].[Cl-].[Cl-].[Cl-]' for input: 'c1ccccc1[Mg]Br.[Al+++].[Cl-].[Cl-].[Cl-]'\n",
      "RDKit ERROR: [19:24:21] SMILES Parse Error: syntax error while parsing: [Fe+++].[F-].[F-].[F-]\n",
      "RDKit ERROR: [19:24:21] SMILES Parse Error: Failed parsing SMILES '[Fe+++].[F-].[F-].[F-]' for input: '[Fe+++].[F-].[F-].[F-]'\n",
      "[19:24:21] SMILES Parse Error: syntax error while parsing: [Fe+++].[F-].[F-].[F-]\n",
      "[19:24:21] SMILES Parse Error: Failed parsing SMILES '[Fe+++].[F-].[F-].[F-]' for input: '[Fe+++].[F-].[F-].[F-]'\n",
      "RDKit ERROR: [19:24:21] non-ring atom 0 marked aromatic\n",
      "[19:24:21] non-ring atom 0 marked aromatic\n"
     ]
    },
    {
     "data": {
      "text/plain": [
       "['[Li]C',\n",
       " 'O=C([O-])[O-]',\n",
       " '[K+]',\n",
       " '[Cs+]',\n",
       " 'CC(C)(C)[O-]',\n",
       " 'O',\n",
       " 'O=P([O-])([O-])[O-]',\n",
       " 'Cc1ccccc1[Mg]Br',\n",
       " '[Cl-]',\n",
       " '[Li+]',\n",
       " 'Br[Mg]c1ccccc1',\n",
       " '[Mg+2]',\n",
       " 'C[Mg]Br',\n",
       " 'CC[Mg]Br',\n",
       " 'Br[Mg]C1CCCCC1',\n",
       " 'Br[Mg]Cc1ccccc1',\n",
       " 'Cc1ccc([Mg]Br)cc1',\n",
       " 'C[Mg]I',\n",
       " 'CC1(C)CCCC(C)(C)N1[O-]',\n",
       " 'C=C(c1ccccc1)c1ccccc1',\n",
       " 'Cc1cccc(C)c1[Mg]Br',\n",
       " 'Cc1cc(C)c([Mg]Br)c(C)c1',\n",
       " 'Cl[Mg]c1ccccc1',\n",
       " '[O-]',\n",
       " '[Na+]',\n",
       " '[F-]',\n",
       " '[Mn]',\n",
       " '[Zn]',\n",
       " 'O=P([O-])(O)O',\n",
       " '[I-]',\n",
       " 'C[Si](C)(C)Cl',\n",
       " '[Zn+2]',\n",
       " 'CC[N+](CC)(CC)CC',\n",
       " 'Oc1ccccc1',\n",
       " 'CCN(CC)CC',\n",
       " 'CC(C)(C)C(=O)O',\n",
       " '[O-]C([O-])O',\n",
       " '[Rb+]',\n",
       " 'CC(C)(C)C(=O)[O-]',\n",
       " '[Ag+]',\n",
       " '[Cu+2]',\n",
       " 'CCCC[N+](CCCC)(CCCC)CCCC',\n",
       " '[Br-]',\n",
       " 'O=S(=O)([O-])[O-]',\n",
       " '[Cu+]',\n",
       " 'Cc1ccccc1',\n",
       " 'O=S(=O)([O-])C(F)(F)F',\n",
       " '[Al]',\n",
       " 'O=P([O-])([O-])O',\n",
       " 'CC(=O)[O-]',\n",
       " 'C1CCC2=NCCCN2CC1',\n",
       " 'C[Al](C)C',\n",
       " '[Sr+2]',\n",
       " 'CCC[N+](CCC)(CCC)CCC',\n",
       " 'C[N+](C)(C)C',\n",
       " 'CCOCC',\n",
       " 'C1=CCCC=CCC1',\n",
       " 'CC[O-]',\n",
       " 'CC1(C)OB(c2ccccc2)OC1(C)C',\n",
       " '[O-]P([O-])[O-]',\n",
       " 'CC(C)(C)O[Al-](OC(C)(C)C)OC(C)(C)C',\n",
       " 'Cl[Al](Cl)Cl',\n",
       " 'FB(F)F',\n",
       " 'BrB(Br)Br',\n",
       " '[Y+3]',\n",
       " '[Al+3]',\n",
       " 'CCB(CC)CC',\n",
       " 'COB(OC)OC',\n",
       " 'CC(C)(C)O[Zr](OC(C)(C)C)(OC(C)(C)C)OC(C)(C)C',\n",
       " 'CC(C)[O-]',\n",
       " 'CC(=O)O',\n",
       " '[Ag]',\n",
       " 'Cl[Zr](Cl)(Cl)Cl',\n",
       " '[Li]Cl',\n",
       " 'CC(C)(C)O[Al](OC(C)(C)C)OC(C)(C)C']"
      ]
     },
     "execution_count": 4,
     "metadata": {},
     "output_type": "execute_result"
    }
   ],
   "source": [
    "my_smiles = list(react_nb[\"Base/additif après correction effective\"])\n",
    "unik_smi = []\n",
    "for smi in my_smiles:\n",
    "    try:\n",
    "        smi_can = Chem.MolToSmiles(Chem.MolFromSmiles(smi))\n",
    "        L = smi_can.split('.')\n",
    "        for sub_smi in L:\n",
    "            sub_smi_can = Chem.MolToSmiles(Chem.MolFromSmiles(sub_smi))\n",
    "            if sub_smi_can not in unik_smi:\n",
    "                unik_smi.append(sub_smi_can)\n",
    "    except:\n",
    "        pass\n",
    "unik_smi"
   ]
  },
  {
   "cell_type": "markdown",
   "id": "9c3ebf25",
   "metadata": {},
   "source": [
    "# Initialize the molecules and generate conformations\n",
    "We will use some for loops to loop over the smiles, only one conformation will be taken for each molecules in this work"
   ]
  },
  {
   "cell_type": "code",
   "execution_count": 5,
   "id": "225806f5",
   "metadata": {},
   "outputs": [
    {
     "name": "stderr",
     "output_type": "stream",
     "text": [
      "INFO:aqc_utils.molecule:Initializing molecule with canonical smiles: [Li]C\n",
      "INFO:aqc_utils.molecule:Creating initial geometry with option 'best'.\n",
      "INFO:aqc_utils.molecule:Initial geometry created successfully.\n",
      "INFO:aqc_utils.molecule:Initializing molecule with canonical smiles: [O-]C(=O)[O-]\n",
      "INFO:aqc_utils.molecule:Creating initial geometry with option 'best'.\n",
      "INFO:aqc_utils.molecule:Initial geometry created successfully.\n",
      "INFO:aqc_utils.molecule:Initializing molecule with canonical smiles: [K+]\n",
      "INFO:aqc_utils.molecule:Creating initial geometry with option 'best'.\n",
      "INFO:aqc_utils.molecule:Initial geometry created successfully.\n",
      "INFO:aqc_utils.molecule:Initializing molecule with canonical smiles: [Cs+]\n",
      "INFO:aqc_utils.molecule:Creating initial geometry with option 'best'.\n",
      "INFO:aqc_utils.molecule:Initial geometry created successfully.\n",
      "INFO:aqc_utils.molecule:Initializing molecule with canonical smiles: [O-]C(C)(C)C\n",
      "INFO:aqc_utils.molecule:Creating initial geometry with option 'best'.\n",
      "INFO:aqc_utils.molecule:Initial geometry created successfully.\n",
      "INFO:aqc_utils.molecule:Initializing molecule with canonical smiles: O\n",
      "INFO:aqc_utils.molecule:Creating initial geometry with option 'best'.\n",
      "INFO:aqc_utils.molecule:Initial geometry created successfully.\n",
      "INFO:aqc_utils.molecule:Initializing molecule with canonical smiles: [O-]P(=O)([O-])[O-]\n",
      "INFO:aqc_utils.molecule:Creating initial geometry with option 'best'.\n",
      "INFO:aqc_utils.molecule:Initial geometry created successfully.\n",
      "INFO:aqc_utils.molecule:Initializing molecule with canonical smiles: Br[Mg]c1ccccc1C\n",
      "INFO:aqc_utils.molecule:Creating initial geometry with option 'best'.\n",
      "INFO:aqc_utils.molecule:Initial geometry created successfully.\n",
      "INFO:aqc_utils.molecule:Initializing molecule with canonical smiles: [Cl-]\n",
      "INFO:aqc_utils.molecule:Creating initial geometry with option 'best'.\n",
      "INFO:aqc_utils.molecule:Initial geometry created successfully.\n",
      "INFO:aqc_utils.molecule:Initializing molecule with canonical smiles: [Li+]\n",
      "INFO:aqc_utils.molecule:Creating initial geometry with option 'best'.\n",
      "INFO:aqc_utils.molecule:Initial geometry created successfully.\n",
      "INFO:aqc_utils.molecule:Initializing molecule with canonical smiles: Br[Mg]c1ccccc1\n",
      "INFO:aqc_utils.molecule:Creating initial geometry with option 'best'.\n",
      "INFO:aqc_utils.molecule:Initial geometry created successfully.\n",
      "INFO:aqc_utils.molecule:Initializing molecule with canonical smiles: [Mg+2]\n",
      "INFO:aqc_utils.molecule:Creating initial geometry with option 'best'.\n",
      "INFO:aqc_utils.molecule:Initial geometry created successfully.\n",
      "INFO:aqc_utils.molecule:Initializing molecule with canonical smiles: C[Mg]Br\n",
      "INFO:aqc_utils.molecule:Creating initial geometry with option 'best'.\n",
      "INFO:aqc_utils.molecule:Initial geometry created successfully.\n",
      "INFO:aqc_utils.molecule:Initializing molecule with canonical smiles: CC[Mg]Br\n",
      "INFO:aqc_utils.molecule:Creating initial geometry with option 'best'.\n",
      "INFO:aqc_utils.molecule:Initial geometry created successfully.\n",
      "INFO:aqc_utils.molecule:Initializing molecule with canonical smiles: Br[Mg]C1CCCCC1\n",
      "INFO:aqc_utils.molecule:Creating initial geometry with option 'best'.\n",
      "INFO:aqc_utils.molecule:Initial geometry created successfully.\n",
      "INFO:aqc_utils.molecule:Initializing molecule with canonical smiles: Br[Mg]Cc1ccccc1\n",
      "INFO:aqc_utils.molecule:Creating initial geometry with option 'best'.\n",
      "INFO:aqc_utils.molecule:Initial geometry created successfully.\n",
      "INFO:aqc_utils.molecule:Initializing molecule with canonical smiles: Br[Mg]c1ccc(cc1)C\n",
      "INFO:aqc_utils.molecule:Creating initial geometry with option 'best'.\n",
      "INFO:aqc_utils.molecule:Initial geometry created successfully.\n",
      "INFO:aqc_utils.molecule:Initializing molecule with canonical smiles: C[Mg]I\n",
      "INFO:aqc_utils.molecule:Creating initial geometry with option 'best'.\n",
      "INFO:aqc_utils.molecule:Initial geometry created successfully.\n",
      "INFO:aqc_utils.molecule:Initializing molecule with canonical smiles: [O-]N1C(C)(C)CCCC1(C)C\n",
      "INFO:aqc_utils.molecule:Creating initial geometry with option 'best'.\n",
      "INFO:aqc_utils.molecule:Initial geometry created successfully.\n",
      "INFO:aqc_utils.molecule:Initializing molecule with canonical smiles: C=C(c1ccccc1)c1ccccc1\n",
      "INFO:aqc_utils.molecule:Creating initial geometry with option 'best'.\n",
      "INFO:aqc_utils.molecule:Initial geometry created successfully.\n",
      "INFO:aqc_utils.molecule:Initializing molecule with canonical smiles: Br[Mg]c1c(C)cccc1C\n",
      "INFO:aqc_utils.molecule:Creating initial geometry with option 'best'.\n",
      "INFO:aqc_utils.molecule:Initial geometry created successfully.\n",
      "INFO:aqc_utils.molecule:Initializing molecule with canonical smiles: Br[Mg]c1c(C)cc(cc1C)C\n",
      "INFO:aqc_utils.molecule:Creating initial geometry with option 'best'.\n",
      "INFO:aqc_utils.molecule:Initial geometry created successfully.\n",
      "INFO:aqc_utils.molecule:Initializing molecule with canonical smiles: Cl[Mg]c1ccccc1\n",
      "INFO:aqc_utils.molecule:Creating initial geometry with option 'best'.\n",
      "INFO:aqc_utils.molecule:Initial geometry created successfully.\n",
      "INFO:aqc_utils.molecule:Initializing molecule with canonical smiles: [O-]\n",
      "INFO:aqc_utils.molecule:Creating initial geometry with option 'best'.\n",
      "INFO:aqc_utils.molecule:Initial geometry created successfully.\n",
      "INFO:aqc_utils.molecule:Initializing molecule with canonical smiles: [Na+]\n",
      "INFO:aqc_utils.molecule:Creating initial geometry with option 'best'.\n",
      "INFO:aqc_utils.molecule:Initial geometry created successfully.\n",
      "INFO:aqc_utils.molecule:Initializing molecule with canonical smiles: [F-]\n",
      "INFO:aqc_utils.molecule:Creating initial geometry with option 'best'.\n",
      "INFO:aqc_utils.molecule:Initial geometry created successfully.\n",
      "INFO:aqc_utils.molecule:Initializing molecule with canonical smiles: [Mn]\n",
      "INFO:aqc_utils.molecule:Creating initial geometry with option 'best'.\n",
      "INFO:aqc_utils.molecule:Initial geometry created successfully.\n",
      "INFO:aqc_utils.molecule:Initializing molecule with canonical smiles: [Zn]\n",
      "INFO:aqc_utils.molecule:Creating initial geometry with option 'best'.\n",
      "INFO:aqc_utils.molecule:Initial geometry created successfully.\n",
      "INFO:aqc_utils.molecule:Initializing molecule with canonical smiles: [O-]P(=O)(O)O\n",
      "INFO:aqc_utils.molecule:Creating initial geometry with option 'best'.\n",
      "INFO:aqc_utils.molecule:Initial geometry created successfully.\n",
      "INFO:aqc_utils.molecule:Initializing molecule with canonical smiles: [I-]\n",
      "INFO:aqc_utils.molecule:Creating initial geometry with option 'best'.\n",
      "INFO:aqc_utils.molecule:Initial geometry created successfully.\n",
      "INFO:aqc_utils.molecule:Initializing molecule with canonical smiles: C[Si](Cl)(C)C\n",
      "INFO:aqc_utils.molecule:Creating initial geometry with option 'best'.\n",
      "INFO:aqc_utils.molecule:Initial geometry created successfully.\n",
      "INFO:aqc_utils.molecule:Initializing molecule with canonical smiles: [Zn+2]\n",
      "INFO:aqc_utils.molecule:Creating initial geometry with option 'best'.\n",
      "INFO:aqc_utils.molecule:Initial geometry created successfully.\n",
      "INFO:aqc_utils.molecule:Initializing molecule with canonical smiles: CC[N+](CC)(CC)CC\n",
      "INFO:aqc_utils.molecule:Creating initial geometry with option 'best'.\n",
      "INFO:aqc_utils.molecule:Initial geometry created successfully.\n",
      "INFO:aqc_utils.molecule:Initializing molecule with canonical smiles: Oc1ccccc1\n",
      "INFO:aqc_utils.molecule:Creating initial geometry with option 'best'.\n",
      "INFO:aqc_utils.molecule:Initial geometry created successfully.\n",
      "INFO:aqc_utils.molecule:Initializing molecule with canonical smiles: CCN(CC)CC\n",
      "INFO:aqc_utils.molecule:Creating initial geometry with option 'best'.\n",
      "INFO:aqc_utils.molecule:Initial geometry created successfully.\n",
      "INFO:aqc_utils.molecule:Initializing molecule with canonical smiles: OC(=O)C(C)(C)C\n",
      "INFO:aqc_utils.molecule:Creating initial geometry with option 'best'.\n",
      "INFO:aqc_utils.molecule:Initial geometry created successfully.\n",
      "INFO:aqc_utils.molecule:Initializing molecule with canonical smiles: [O-]C(O)[O-]\n",
      "INFO:aqc_utils.molecule:Creating initial geometry with option 'best'.\n",
      "INFO:aqc_utils.molecule:Initial geometry created successfully.\n",
      "INFO:aqc_utils.molecule:Initializing molecule with canonical smiles: [Rb+]\n",
      "INFO:aqc_utils.molecule:Creating initial geometry with option 'best'.\n",
      "INFO:aqc_utils.molecule:Initial geometry created successfully.\n",
      "INFO:aqc_utils.molecule:Initializing molecule with canonical smiles: [O-]C(=O)C(C)(C)C\n",
      "INFO:aqc_utils.molecule:Creating initial geometry with option 'best'.\n"
     ]
    },
    {
     "name": "stderr",
     "output_type": "stream",
     "text": [
      "INFO:aqc_utils.molecule:Initial geometry created successfully.\n",
      "INFO:aqc_utils.molecule:Initializing molecule with canonical smiles: [Ag+]\n",
      "INFO:aqc_utils.molecule:Creating initial geometry with option 'best'.\n",
      "INFO:aqc_utils.molecule:Initial geometry created successfully.\n",
      "INFO:aqc_utils.molecule:Initializing molecule with canonical smiles: [Cu+2]\n",
      "INFO:aqc_utils.molecule:Creating initial geometry with option 'best'.\n",
      "INFO:aqc_utils.molecule:Initial geometry created successfully.\n",
      "INFO:aqc_utils.molecule:Initializing molecule with canonical smiles: CCCC[N+](CCCC)(CCCC)CCCC\n",
      "INFO:aqc_utils.molecule:Creating initial geometry with option 'best'.\n",
      "INFO:aqc_utils.molecule:Initial geometry created successfully.\n",
      "INFO:aqc_utils.molecule:Initializing molecule with canonical smiles: [Br-]\n",
      "INFO:aqc_utils.molecule:Creating initial geometry with option 'best'.\n",
      "INFO:aqc_utils.molecule:Initial geometry created successfully.\n",
      "INFO:aqc_utils.molecule:Initializing molecule with canonical smiles: [O-]S(=O)(=O)[O-]\n",
      "INFO:aqc_utils.molecule:Creating initial geometry with option 'best'.\n",
      "INFO:aqc_utils.molecule:Initial geometry created successfully.\n",
      "INFO:aqc_utils.molecule:Initializing molecule with canonical smiles: [Cu+]\n",
      "INFO:aqc_utils.molecule:Creating initial geometry with option 'best'.\n",
      "INFO:aqc_utils.molecule:Initial geometry created successfully.\n",
      "INFO:aqc_utils.molecule:Initializing molecule with canonical smiles: Cc1ccccc1\n",
      "INFO:aqc_utils.molecule:Creating initial geometry with option 'best'.\n",
      "INFO:aqc_utils.molecule:Initial geometry created successfully.\n",
      "INFO:aqc_utils.molecule:Initializing molecule with canonical smiles: FC(S(=O)(=O)[O-])(F)F\n",
      "INFO:aqc_utils.molecule:Creating initial geometry with option 'best'.\n",
      "INFO:aqc_utils.molecule:Initial geometry created successfully.\n",
      "INFO:aqc_utils.molecule:Initializing molecule with canonical smiles: [Al]\n",
      "INFO:aqc_utils.molecule:Creating initial geometry with option 'best'.\n",
      "INFO:aqc_utils.molecule:Initial geometry created successfully.\n",
      "INFO:aqc_utils.molecule:Initializing molecule with canonical smiles: [O-]P(=O)(O)[O-]\n",
      "INFO:aqc_utils.molecule:Creating initial geometry with option 'best'.\n",
      "INFO:aqc_utils.molecule:Initial geometry created successfully.\n",
      "INFO:aqc_utils.molecule:Initializing molecule with canonical smiles: [O-]C(=O)C\n",
      "INFO:aqc_utils.molecule:Creating initial geometry with option 'best'.\n",
      "INFO:aqc_utils.molecule:Initial geometry created successfully.\n",
      "INFO:aqc_utils.molecule:Initializing molecule with canonical smiles: C1CCN2C(=NCCC2)CC1\n",
      "INFO:aqc_utils.molecule:Creating initial geometry with option 'best'.\n",
      "INFO:aqc_utils.molecule:Initial geometry created successfully.\n",
      "INFO:aqc_utils.molecule:Initializing molecule with canonical smiles: C[Al](C)C\n",
      "INFO:aqc_utils.molecule:Creating initial geometry with option 'best'.\n",
      "INFO:aqc_utils.molecule:Initial geometry created successfully.\n",
      "INFO:aqc_utils.molecule:Initializing molecule with canonical smiles: [Sr+2]\n",
      "INFO:aqc_utils.molecule:Creating initial geometry with option 'best'.\n",
      "INFO:aqc_utils.molecule:Initial geometry created successfully.\n",
      "INFO:aqc_utils.molecule:Initializing molecule with canonical smiles: CCC[N+](CCC)(CCC)CCC\n",
      "INFO:aqc_utils.molecule:Creating initial geometry with option 'best'.\n",
      "INFO:aqc_utils.molecule:Initial geometry created successfully.\n",
      "INFO:aqc_utils.molecule:Initializing molecule with canonical smiles: C[N+](C)(C)C\n",
      "INFO:aqc_utils.molecule:Creating initial geometry with option 'best'.\n",
      "INFO:aqc_utils.molecule:Initial geometry created successfully.\n",
      "INFO:aqc_utils.molecule:Initializing molecule with canonical smiles: CCOCC\n",
      "INFO:aqc_utils.molecule:Creating initial geometry with option 'best'.\n",
      "INFO:aqc_utils.molecule:Initial geometry created successfully.\n",
      "INFO:aqc_utils.molecule:Initializing molecule with canonical smiles: C1CC=CCCC=C1\n",
      "INFO:aqc_utils.molecule:Creating initial geometry with option 'best'.\n",
      "INFO:aqc_utils.molecule:Initial geometry created successfully.\n",
      "INFO:aqc_utils.molecule:Initializing molecule with canonical smiles: [O-]CC\n",
      "INFO:aqc_utils.molecule:Creating initial geometry with option 'best'.\n",
      "INFO:aqc_utils.molecule:Initial geometry created successfully.\n",
      "INFO:aqc_utils.molecule:Initializing molecule with canonical smiles: CC1(C)OB(OC1(C)C)c1ccccc1\n",
      "INFO:aqc_utils.molecule:Creating initial geometry with option 'best'.\n",
      "INFO:aqc_utils.molecule:Initial geometry created successfully.\n",
      "INFO:aqc_utils.molecule:Initializing molecule with canonical smiles: [O-]P([O-])[O-]\n",
      "INFO:aqc_utils.molecule:Creating initial geometry with option 'best'.\n",
      "INFO:aqc_utils.molecule:Initial geometry created successfully.\n",
      "INFO:aqc_utils.molecule:Initializing molecule with canonical smiles: CC(O[Al-](OC(C)(C)C)OC(C)(C)C)(C)C\n",
      "INFO:aqc_utils.molecule:Creating initial geometry with option 'best'.\n",
      "INFO:aqc_utils.molecule:Initial geometry created successfully.\n",
      "INFO:aqc_utils.molecule:Initializing molecule with canonical smiles: Cl[Al](Cl)Cl\n",
      "INFO:aqc_utils.molecule:Creating initial geometry with option 'best'.\n",
      "INFO:aqc_utils.molecule:Initial geometry created successfully.\n",
      "INFO:aqc_utils.molecule:Initializing molecule with canonical smiles: FB(F)F\n",
      "INFO:aqc_utils.molecule:Creating initial geometry with option 'best'.\n",
      "INFO:aqc_utils.molecule:Initial geometry created successfully.\n",
      "INFO:aqc_utils.molecule:Initializing molecule with canonical smiles: BrB(Br)Br\n",
      "INFO:aqc_utils.molecule:Creating initial geometry with option 'best'.\n",
      "INFO:aqc_utils.molecule:Initial geometry created successfully.\n",
      "INFO:aqc_utils.molecule:Initializing molecule with canonical smiles: [Y+3]\n",
      "INFO:aqc_utils.molecule:Creating initial geometry with option 'best'.\n",
      "INFO:aqc_utils.molecule:Initial geometry created successfully.\n",
      "INFO:aqc_utils.molecule:Initializing molecule with canonical smiles: [Al+3]\n",
      "INFO:aqc_utils.molecule:Creating initial geometry with option 'best'.\n",
      "INFO:aqc_utils.molecule:Initial geometry created successfully.\n",
      "INFO:aqc_utils.molecule:Initializing molecule with canonical smiles: CCB(CC)CC\n",
      "INFO:aqc_utils.molecule:Creating initial geometry with option 'best'.\n",
      "INFO:aqc_utils.molecule:Initial geometry created successfully.\n",
      "INFO:aqc_utils.molecule:Initializing molecule with canonical smiles: COB(OC)OC\n",
      "INFO:aqc_utils.molecule:Creating initial geometry with option 'best'.\n",
      "INFO:aqc_utils.molecule:Initial geometry created successfully.\n",
      "INFO:aqc_utils.molecule:Initializing molecule with canonical smiles: CC(O[Zr](OC(C)(C)C)(OC(C)(C)C)OC(C)(C)C)(C)C\n",
      "INFO:aqc_utils.molecule:Creating initial geometry with option 'best'.\n",
      "INFO:aqc_utils.molecule:Initial geometry created successfully.\n",
      "INFO:aqc_utils.molecule:Initializing molecule with canonical smiles: [O-]C(C)C\n",
      "INFO:aqc_utils.molecule:Creating initial geometry with option 'best'.\n",
      "INFO:aqc_utils.molecule:Initial geometry created successfully.\n",
      "INFO:aqc_utils.molecule:Initializing molecule with canonical smiles: CC(=O)O\n",
      "INFO:aqc_utils.molecule:Creating initial geometry with option 'best'.\n",
      "INFO:aqc_utils.molecule:Initial geometry created successfully.\n",
      "INFO:aqc_utils.molecule:Initializing molecule with canonical smiles: [Ag]\n",
      "INFO:aqc_utils.molecule:Creating initial geometry with option 'best'.\n",
      "INFO:aqc_utils.molecule:Initial geometry created successfully.\n",
      "INFO:aqc_utils.molecule:Initializing molecule with canonical smiles: Cl[Zr](Cl)(Cl)Cl\n",
      "INFO:aqc_utils.molecule:Creating initial geometry with option 'best'.\n",
      "INFO:aqc_utils.molecule:Initial geometry created successfully.\n",
      "INFO:aqc_utils.molecule:Initializing molecule with canonical smiles: [Li]Cl\n",
      "INFO:aqc_utils.molecule:Creating initial geometry with option 'best'.\n",
      "INFO:aqc_utils.molecule:Initial geometry created successfully.\n",
      "INFO:aqc_utils.molecule:Initializing molecule with canonical smiles: CC(O[Al](OC(C)(C)C)OC(C)(C)C)(C)C\n",
      "INFO:aqc_utils.molecule:Creating initial geometry with option 'best'.\n",
      "INFO:aqc_utils.molecule:Initial geometry created successfully.\n"
     ]
    }
   ],
   "source": [
    "mols = []\n",
    "for smile in unik_smi:\n",
    "    mols.append(molecule(smile, max_num_conformers=1))"
   ]
  },
  {
   "cell_type": "markdown",
   "id": "a702571b",
   "metadata": {},
   "source": [
    "###### Draw some molecules"
   ]
  },
  {
   "cell_type": "code",
   "execution_count": 6,
   "id": "0ccbf815",
   "metadata": {},
   "outputs": [],
   "source": [
    "#mols[0].draw(2)"
   ]
  },
  {
   "cell_type": "markdown",
   "id": "100f5719",
   "metadata": {},
   "source": [
    "# Create gaussian job for each conformation"
   ]
  },
  {
   "cell_type": "code",
   "execution_count": 7,
   "id": "4d7c91a6",
   "metadata": {},
   "outputs": [
    {
     "name": "stderr",
     "output_type": "stream",
     "text": [
      "WARNING:aqc_utils.slurm_manager:Molecule [Li]C already exists with the same Gaussian config with tags ['JS_substrate']. Not creating jobs.\n",
      "INFO:aqc_utils.gaussian_input_generator:Generating Gaussian input files for 1 conformations.\n"
     ]
    },
    {
     "name": "stdout",
     "output_type": "stream",
     "text": [
      "CO3--_f128_conf_0\n"
     ]
    },
    {
     "name": "stderr",
     "output_type": "stream",
     "text": [
      "INFO:aqc_utils.gaussian_input_generator:Generating Gaussian input files for 1 conformations.\n"
     ]
    },
    {
     "name": "stdout",
     "output_type": "stream",
     "text": [
      "K+_6b55_conf_0\n"
     ]
    },
    {
     "name": "stderr",
     "output_type": "stream",
     "text": [
      "INFO:aqc_utils.gaussian_input_generator:Generating Gaussian input files for 1 conformations.\n"
     ]
    },
    {
     "name": "stdout",
     "output_type": "stream",
     "text": [
      "Cs+_b043_conf_0\n"
     ]
    },
    {
     "name": "stderr",
     "output_type": "stream",
     "text": [
      "INFO:aqc_utils.gaussian_input_generator:Generating Gaussian input files for 1 conformations.\n"
     ]
    },
    {
     "name": "stdout",
     "output_type": "stream",
     "text": [
      "C4H9O-_965c_conf_0\n"
     ]
    },
    {
     "name": "stderr",
     "output_type": "stream",
     "text": [
      "INFO:aqc_utils.gaussian_input_generator:Generating Gaussian input files for 1 conformations.\n"
     ]
    },
    {
     "name": "stdout",
     "output_type": "stream",
     "text": [
      "H2O_f186_conf_0\n"
     ]
    },
    {
     "name": "stderr",
     "output_type": "stream",
     "text": [
      "INFO:aqc_utils.gaussian_input_generator:Generating Gaussian input files for 1 conformations.\n"
     ]
    },
    {
     "name": "stdout",
     "output_type": "stream",
     "text": [
      "O4P---_02d0_conf_0\n"
     ]
    },
    {
     "name": "stderr",
     "output_type": "stream",
     "text": [
      "WARNING:aqc_utils.slurm_manager:Molecule Br[Mg]c1ccccc1C already exists with the same Gaussian config with tags ['JS_substrate']. Not creating jobs.\n",
      "INFO:aqc_utils.gaussian_input_generator:Generating Gaussian input files for 1 conformations.\n"
     ]
    },
    {
     "name": "stdout",
     "output_type": "stream",
     "text": [
      "Cl-_f511_conf_0\n"
     ]
    },
    {
     "name": "stderr",
     "output_type": "stream",
     "text": [
      "INFO:aqc_utils.gaussian_input_generator:Generating Gaussian input files for 1 conformations.\n"
     ]
    },
    {
     "name": "stdout",
     "output_type": "stream",
     "text": [
      "Li+_2b62_conf_0\n"
     ]
    },
    {
     "name": "stderr",
     "output_type": "stream",
     "text": [
      "WARNING:aqc_utils.slurm_manager:Molecule Br[Mg]c1ccccc1 already exists with the same Gaussian config with tags ['JS_substrate']. Not creating jobs.\n",
      "INFO:aqc_utils.gaussian_input_generator:Generating Gaussian input files for 1 conformations.\n"
     ]
    },
    {
     "name": "stdout",
     "output_type": "stream",
     "text": [
      "Mg++_f6c1_conf_0\n"
     ]
    },
    {
     "name": "stderr",
     "output_type": "stream",
     "text": [
      "WARNING:aqc_utils.slurm_manager:Molecule C[Mg]Br already exists with the same Gaussian config with tags ['JS_substrate']. Not creating jobs.\n",
      "WARNING:aqc_utils.slurm_manager:Molecule CC[Mg]Br already exists with the same Gaussian config with tags ['JS_substrate']. Not creating jobs.\n",
      "INFO:aqc_utils.gaussian_input_generator:Generating Gaussian input files for 1 conformations.\n"
     ]
    },
    {
     "name": "stdout",
     "output_type": "stream",
     "text": [
      "C6H11BrMg_f96f_conf_0\n"
     ]
    },
    {
     "name": "stderr",
     "output_type": "stream",
     "text": [
      "INFO:aqc_utils.gaussian_input_generator:Generating Gaussian input files for 1 conformations.\n"
     ]
    },
    {
     "name": "stdout",
     "output_type": "stream",
     "text": [
      "C7H7BrMg_743d_conf_0\n"
     ]
    },
    {
     "name": "stderr",
     "output_type": "stream",
     "text": [
      "WARNING:aqc_utils.slurm_manager:Molecule Br[Mg]c1ccc(cc1)C already exists with the same Gaussian config with tags ['JS_substrate']. Not creating jobs.\n",
      "INFO:aqc_utils.gaussian_input_generator:Generating Gaussian input files for 1 conformations.\n"
     ]
    },
    {
     "name": "stdout",
     "output_type": "stream",
     "text": [
      "CH3IMg_bff6_conf_0\n"
     ]
    },
    {
     "name": "stderr",
     "output_type": "stream",
     "text": [
      "INFO:aqc_utils.gaussian_input_generator:Generating Gaussian input files for 1 conformations.\n"
     ]
    },
    {
     "name": "stdout",
     "output_type": "stream",
     "text": [
      "C9H18NO-_c207_conf_0\n"
     ]
    },
    {
     "name": "stderr",
     "output_type": "stream",
     "text": [
      "INFO:aqc_utils.gaussian_input_generator:Generating Gaussian input files for 1 conformations.\n"
     ]
    },
    {
     "name": "stdout",
     "output_type": "stream",
     "text": [
      "C14H12_ce71_conf_0\n"
     ]
    },
    {
     "name": "stderr",
     "output_type": "stream",
     "text": [
      "WARNING:aqc_utils.slurm_manager:Molecule Br[Mg]c1c(C)cccc1C already exists with the same Gaussian config with tags ['JS_substrate']. Not creating jobs.\n",
      "INFO:aqc_utils.gaussian_input_generator:Generating Gaussian input files for 1 conformations.\n"
     ]
    },
    {
     "name": "stdout",
     "output_type": "stream",
     "text": [
      "C9H11BrMg_e4d5_conf_0\n"
     ]
    },
    {
     "name": "stderr",
     "output_type": "stream",
     "text": [
      "WARNING:aqc_utils.slurm_manager:Molecule Cl[Mg]c1ccccc1 already exists with the same Gaussian config with tags ['JS_substrate']. Not creating jobs.\n",
      "INFO:aqc_utils.gaussian_input_generator:Generating Gaussian input files for 1 conformations.\n"
     ]
    },
    {
     "name": "stdout",
     "output_type": "stream",
     "text": [
      "O-_c6c1_conf_0\n"
     ]
    },
    {
     "name": "stderr",
     "output_type": "stream",
     "text": [
      "INFO:aqc_utils.gaussian_input_generator:Generating Gaussian input files for 1 conformations.\n"
     ]
    },
    {
     "name": "stdout",
     "output_type": "stream",
     "text": [
      "Na+_a7e7_conf_0\n"
     ]
    },
    {
     "name": "stderr",
     "output_type": "stream",
     "text": [
      "INFO:aqc_utils.gaussian_input_generator:Generating Gaussian input files for 1 conformations.\n"
     ]
    },
    {
     "name": "stdout",
     "output_type": "stream",
     "text": [
      "F-_e707_conf_0\n"
     ]
    },
    {
     "name": "stderr",
     "output_type": "stream",
     "text": [
      "INFO:aqc_utils.gaussian_input_generator:Generating Gaussian input files for 1 conformations.\n"
     ]
    },
    {
     "name": "stdout",
     "output_type": "stream",
     "text": [
      "Mn_0e2b_conf_0\n"
     ]
    },
    {
     "name": "stderr",
     "output_type": "stream",
     "text": [
      "INFO:aqc_utils.gaussian_input_generator:Generating Gaussian input files for 1 conformations.\n"
     ]
    },
    {
     "name": "stdout",
     "output_type": "stream",
     "text": [
      "Zn_bbf0_conf_0\n"
     ]
    },
    {
     "name": "stderr",
     "output_type": "stream",
     "text": [
      "INFO:aqc_utils.gaussian_input_generator:Generating Gaussian input files for 1 conformations.\n"
     ]
    },
    {
     "name": "stdout",
     "output_type": "stream",
     "text": [
      "H2O4P-_fd21_conf_0\n"
     ]
    },
    {
     "name": "stderr",
     "output_type": "stream",
     "text": [
      "INFO:aqc_utils.gaussian_input_generator:Generating Gaussian input files for 1 conformations.\n"
     ]
    },
    {
     "name": "stdout",
     "output_type": "stream",
     "text": [
      "I-_3625_conf_0\n"
     ]
    },
    {
     "name": "stderr",
     "output_type": "stream",
     "text": [
      "INFO:aqc_utils.gaussian_input_generator:Generating Gaussian input files for 1 conformations.\n"
     ]
    },
    {
     "name": "stdout",
     "output_type": "stream",
     "text": [
      "C3H9ClSi_ed42_conf_0\n"
     ]
    },
    {
     "name": "stderr",
     "output_type": "stream",
     "text": [
      "INFO:aqc_utils.gaussian_input_generator:Generating Gaussian input files for 1 conformations.\n"
     ]
    },
    {
     "name": "stdout",
     "output_type": "stream",
     "text": [
      "Zn++_f4c2_conf_0\n"
     ]
    },
    {
     "name": "stderr",
     "output_type": "stream",
     "text": [
      "INFO:aqc_utils.gaussian_input_generator:Generating Gaussian input files for 1 conformations.\n"
     ]
    },
    {
     "name": "stdout",
     "output_type": "stream",
     "text": [
      "C8H20N+_75f0_conf_0\n"
     ]
    },
    {
     "name": "stderr",
     "output_type": "stream",
     "text": [
      "INFO:aqc_utils.gaussian_input_generator:Generating Gaussian input files for 1 conformations.\n"
     ]
    },
    {
     "name": "stdout",
     "output_type": "stream",
     "text": [
      "C6H6O_4368_conf_0\n"
     ]
    },
    {
     "name": "stderr",
     "output_type": "stream",
     "text": [
      "INFO:aqc_utils.gaussian_input_generator:Generating Gaussian input files for 1 conformations.\n"
     ]
    },
    {
     "name": "stdout",
     "output_type": "stream",
     "text": [
      "C6H15N_5ff7_conf_0\n"
     ]
    },
    {
     "name": "stderr",
     "output_type": "stream",
     "text": [
      "INFO:aqc_utils.gaussian_input_generator:Generating Gaussian input files for 1 conformations.\n"
     ]
    },
    {
     "name": "stdout",
     "output_type": "stream",
     "text": [
      "C5H10O2_a8a2_conf_0\n"
     ]
    },
    {
     "name": "stderr",
     "output_type": "stream",
     "text": [
      "INFO:aqc_utils.gaussian_input_generator:Generating Gaussian input files for 1 conformations.\n"
     ]
    },
    {
     "name": "stdout",
     "output_type": "stream",
     "text": [
      "CH2O3--_edb0_conf_0\n"
     ]
    },
    {
     "name": "stderr",
     "output_type": "stream",
     "text": [
      "INFO:aqc_utils.gaussian_input_generator:Generating Gaussian input files for 1 conformations.\n"
     ]
    },
    {
     "name": "stdout",
     "output_type": "stream",
     "text": [
      "Rb+_082f_conf_0\n"
     ]
    },
    {
     "name": "stderr",
     "output_type": "stream",
     "text": [
      "INFO:aqc_utils.gaussian_input_generator:Generating Gaussian input files for 1 conformations.\n"
     ]
    },
    {
     "name": "stdout",
     "output_type": "stream",
     "text": [
      "C5H9O2-_6091_conf_0\n"
     ]
    },
    {
     "name": "stderr",
     "output_type": "stream",
     "text": [
      "INFO:aqc_utils.gaussian_input_generator:Generating Gaussian input files for 1 conformations.\n"
     ]
    },
    {
     "name": "stdout",
     "output_type": "stream",
     "text": [
      "Ag+_5dc1_conf_0\n"
     ]
    },
    {
     "name": "stderr",
     "output_type": "stream",
     "text": [
      "INFO:aqc_utils.gaussian_input_generator:Generating Gaussian input files for 1 conformations.\n"
     ]
    },
    {
     "name": "stdout",
     "output_type": "stream",
     "text": [
      "Cu++_65fa_conf_0\n"
     ]
    },
    {
     "name": "stderr",
     "output_type": "stream",
     "text": [
      "INFO:aqc_utils.gaussian_input_generator:Generating Gaussian input files for 1 conformations.\n"
     ]
    },
    {
     "name": "stdout",
     "output_type": "stream",
     "text": [
      "C16H36N+_1be3_conf_0\n"
     ]
    },
    {
     "name": "stderr",
     "output_type": "stream",
     "text": [
      "INFO:aqc_utils.gaussian_input_generator:Generating Gaussian input files for 1 conformations.\n"
     ]
    },
    {
     "name": "stdout",
     "output_type": "stream",
     "text": [
      "Br-_7190_conf_0\n"
     ]
    },
    {
     "name": "stderr",
     "output_type": "stream",
     "text": [
      "INFO:aqc_utils.gaussian_input_generator:Generating Gaussian input files for 1 conformations.\n"
     ]
    },
    {
     "name": "stdout",
     "output_type": "stream",
     "text": [
      "O4S--_90c2_conf_0\n"
     ]
    },
    {
     "name": "stderr",
     "output_type": "stream",
     "text": [
      "INFO:aqc_utils.gaussian_input_generator:Generating Gaussian input files for 1 conformations.\n"
     ]
    },
    {
     "name": "stdout",
     "output_type": "stream",
     "text": [
      "Cu+_8e6d_conf_0\n"
     ]
    },
    {
     "name": "stderr",
     "output_type": "stream",
     "text": [
      "INFO:aqc_utils.gaussian_input_generator:Generating Gaussian input files for 1 conformations.\n"
     ]
    },
    {
     "name": "stdout",
     "output_type": "stream",
     "text": [
      "C7H8_4c51_conf_0\n"
     ]
    },
    {
     "name": "stderr",
     "output_type": "stream",
     "text": [
      "INFO:aqc_utils.gaussian_input_generator:Generating Gaussian input files for 1 conformations.\n"
     ]
    },
    {
     "name": "stdout",
     "output_type": "stream",
     "text": [
      "CF3O3S-_9b4f_conf_0\n"
     ]
    },
    {
     "name": "stderr",
     "output_type": "stream",
     "text": [
      "INFO:aqc_utils.gaussian_input_generator:Generating Gaussian input files for 1 conformations.\n"
     ]
    },
    {
     "name": "stdout",
     "output_type": "stream",
     "text": [
      "Al_42f7_conf_0\n"
     ]
    },
    {
     "name": "stderr",
     "output_type": "stream",
     "text": [
      "INFO:aqc_utils.gaussian_input_generator:Generating Gaussian input files for 1 conformations.\n"
     ]
    },
    {
     "name": "stdout",
     "output_type": "stream",
     "text": [
      "HO4P--_4a06_conf_0\n"
     ]
    },
    {
     "name": "stderr",
     "output_type": "stream",
     "text": [
      "INFO:aqc_utils.gaussian_input_generator:Generating Gaussian input files for 1 conformations.\n"
     ]
    },
    {
     "name": "stdout",
     "output_type": "stream",
     "text": [
      "C2H3O2-_cc35_conf_0\n"
     ]
    },
    {
     "name": "stderr",
     "output_type": "stream",
     "text": [
      "INFO:aqc_utils.gaussian_input_generator:Generating Gaussian input files for 1 conformations.\n"
     ]
    },
    {
     "name": "stdout",
     "output_type": "stream",
     "text": [
      "C9H16N2_7646_conf_0\n"
     ]
    },
    {
     "name": "stderr",
     "output_type": "stream",
     "text": [
      "INFO:aqc_utils.gaussian_input_generator:Generating Gaussian input files for 1 conformations.\n"
     ]
    },
    {
     "name": "stdout",
     "output_type": "stream",
     "text": [
      "C3H9Al_77c0_conf_0\n"
     ]
    },
    {
     "name": "stderr",
     "output_type": "stream",
     "text": [
      "INFO:aqc_utils.gaussian_input_generator:Generating Gaussian input files for 1 conformations.\n"
     ]
    },
    {
     "name": "stdout",
     "output_type": "stream",
     "text": [
      "Sr++_b3c3_conf_0\n"
     ]
    },
    {
     "name": "stderr",
     "output_type": "stream",
     "text": [
      "INFO:aqc_utils.gaussian_input_generator:Generating Gaussian input files for 1 conformations.\n"
     ]
    },
    {
     "name": "stdout",
     "output_type": "stream",
     "text": [
      "C12H28N+_744b_conf_0\n"
     ]
    },
    {
     "name": "stderr",
     "output_type": "stream",
     "text": [
      "INFO:aqc_utils.gaussian_input_generator:Generating Gaussian input files for 1 conformations.\n"
     ]
    },
    {
     "name": "stdout",
     "output_type": "stream",
     "text": [
      "C4H12N+_4121_conf_0\n"
     ]
    },
    {
     "name": "stderr",
     "output_type": "stream",
     "text": [
      "INFO:aqc_utils.gaussian_input_generator:Generating Gaussian input files for 1 conformations.\n"
     ]
    },
    {
     "name": "stdout",
     "output_type": "stream",
     "text": [
      "C4H10O_07df_conf_0\n"
     ]
    },
    {
     "name": "stderr",
     "output_type": "stream",
     "text": [
      "WARNING:aqc_utils.slurm_manager:Molecule C1CC=CCCC=C1 already exists with the same Gaussian config with tags ['JS_substrate']. Not creating jobs.\n",
      "INFO:aqc_utils.gaussian_input_generator:Generating Gaussian input files for 1 conformations.\n"
     ]
    },
    {
     "name": "stdout",
     "output_type": "stream",
     "text": [
      "C2H5O-_2381_conf_0\n"
     ]
    },
    {
     "name": "stderr",
     "output_type": "stream",
     "text": [
      "WARNING:aqc_utils.slurm_manager:Molecule CC1(C)OB(OC1(C)C)c1ccccc1 already exists with the same Gaussian config with tags ['JS_substrate']. Not creating jobs.\n",
      "INFO:aqc_utils.gaussian_input_generator:Generating Gaussian input files for 1 conformations.\n"
     ]
    },
    {
     "name": "stdout",
     "output_type": "stream",
     "text": [
      "O3P---_bac9_conf_0\n"
     ]
    },
    {
     "name": "stderr",
     "output_type": "stream",
     "text": [
      "INFO:aqc_utils.gaussian_input_generator:Generating Gaussian input files for 1 conformations.\n"
     ]
    },
    {
     "name": "stdout",
     "output_type": "stream",
     "text": [
      "C12H27AlO3-_0d66_conf_0\n"
     ]
    },
    {
     "name": "stderr",
     "output_type": "stream",
     "text": [
      "INFO:aqc_utils.gaussian_input_generator:Generating Gaussian input files for 1 conformations.\n"
     ]
    },
    {
     "name": "stdout",
     "output_type": "stream",
     "text": [
      "AlCl3_fbe2_conf_0\n"
     ]
    },
    {
     "name": "stderr",
     "output_type": "stream",
     "text": [
      "INFO:aqc_utils.gaussian_input_generator:Generating Gaussian input files for 1 conformations.\n"
     ]
    },
    {
     "name": "stdout",
     "output_type": "stream",
     "text": [
      "BF3_c51f_conf_0\n"
     ]
    },
    {
     "name": "stderr",
     "output_type": "stream",
     "text": [
      "INFO:aqc_utils.gaussian_input_generator:Generating Gaussian input files for 1 conformations.\n"
     ]
    },
    {
     "name": "stdout",
     "output_type": "stream",
     "text": [
      "BBr3_d860_conf_0\n"
     ]
    },
    {
     "name": "stderr",
     "output_type": "stream",
     "text": [
      "INFO:aqc_utils.gaussian_input_generator:Generating Gaussian input files for 1 conformations.\n"
     ]
    },
    {
     "name": "stdout",
     "output_type": "stream",
     "text": [
      "Y+++_af19_conf_0\n"
     ]
    },
    {
     "name": "stderr",
     "output_type": "stream",
     "text": [
      "INFO:aqc_utils.gaussian_input_generator:Generating Gaussian input files for 1 conformations.\n"
     ]
    },
    {
     "name": "stdout",
     "output_type": "stream",
     "text": [
      "Al+++_ce27_conf_0\n"
     ]
    },
    {
     "name": "stderr",
     "output_type": "stream",
     "text": [
      "INFO:aqc_utils.gaussian_input_generator:Generating Gaussian input files for 1 conformations.\n"
     ]
    },
    {
     "name": "stdout",
     "output_type": "stream",
     "text": [
      "C6H15B_74e5_conf_0\n"
     ]
    },
    {
     "name": "stderr",
     "output_type": "stream",
     "text": [
      "INFO:aqc_utils.gaussian_input_generator:Generating Gaussian input files for 1 conformations.\n"
     ]
    },
    {
     "name": "stdout",
     "output_type": "stream",
     "text": [
      "C3H9BO3_97b6_conf_0\n"
     ]
    },
    {
     "name": "stderr",
     "output_type": "stream",
     "text": [
      "INFO:aqc_utils.gaussian_input_generator:Generating Gaussian input files for 1 conformations.\n"
     ]
    },
    {
     "name": "stdout",
     "output_type": "stream",
     "text": [
      "C16H36O4Zr_534e_conf_0\n"
     ]
    },
    {
     "name": "stderr",
     "output_type": "stream",
     "text": [
      "INFO:aqc_utils.gaussian_input_generator:Generating Gaussian input files for 1 conformations.\n"
     ]
    },
    {
     "name": "stdout",
     "output_type": "stream",
     "text": [
      "C3H7O-_edf6_conf_0\n"
     ]
    },
    {
     "name": "stderr",
     "output_type": "stream",
     "text": [
      "INFO:aqc_utils.gaussian_input_generator:Generating Gaussian input files for 1 conformations.\n"
     ]
    },
    {
     "name": "stdout",
     "output_type": "stream",
     "text": [
      "C2H4O2_fe39_conf_0\n"
     ]
    },
    {
     "name": "stderr",
     "output_type": "stream",
     "text": [
      "INFO:aqc_utils.gaussian_input_generator:Generating Gaussian input files for 1 conformations.\n"
     ]
    },
    {
     "name": "stdout",
     "output_type": "stream",
     "text": [
      "Ag_9aa7_conf_0\n"
     ]
    },
    {
     "name": "stderr",
     "output_type": "stream",
     "text": [
      "INFO:aqc_utils.gaussian_input_generator:Generating Gaussian input files for 1 conformations.\n"
     ]
    },
    {
     "name": "stdout",
     "output_type": "stream",
     "text": [
      "Cl4Zr_7d7d_conf_0\n"
     ]
    },
    {
     "name": "stderr",
     "output_type": "stream",
     "text": [
      "INFO:aqc_utils.gaussian_input_generator:Generating Gaussian input files for 1 conformations.\n"
     ]
    },
    {
     "name": "stdout",
     "output_type": "stream",
     "text": [
      "ClLi_e823_conf_0\n"
     ]
    },
    {
     "name": "stderr",
     "output_type": "stream",
     "text": [
      "INFO:aqc_utils.gaussian_input_generator:Generating Gaussian input files for 1 conformations.\n"
     ]
    },
    {
     "name": "stdout",
     "output_type": "stream",
     "text": [
      "C12H27AlO3_e518_conf_0\n"
     ]
    }
   ],
   "source": [
    "for mol in mols:\n",
    "    sm.create_jobs_for_molecule(mol, workflow_type=\"equilibrium\")"
   ]
  },
  {
   "cell_type": "code",
   "execution_count": 8,
   "id": "c2aa4b1c",
   "metadata": {
    "scrolled": false
   },
   "outputs": [
    {
     "data": {
      "text/html": [
       "<div>\n",
       "<style scoped>\n",
       "    .dataframe tbody tr th:only-of-type {\n",
       "        vertical-align: middle;\n",
       "    }\n",
       "\n",
       "    .dataframe tbody tr th {\n",
       "        vertical-align: top;\n",
       "    }\n",
       "\n",
       "    .dataframe thead th {\n",
       "        text-align: right;\n",
       "    }\n",
       "</style>\n",
       "<table border=\"1\" class=\"dataframe\">\n",
       "  <thead>\n",
       "    <tr style=\"text-align: right;\">\n",
       "      <th>status</th>\n",
       "      <th>created</th>\n",
       "      <th>done</th>\n",
       "      <th>failed</th>\n",
       "      <th>incomplete</th>\n",
       "      <th>uploaded</th>\n",
       "    </tr>\n",
       "    <tr>\n",
       "      <th>can</th>\n",
       "      <th></th>\n",
       "      <th></th>\n",
       "      <th></th>\n",
       "      <th></th>\n",
       "      <th></th>\n",
       "    </tr>\n",
       "  </thead>\n",
       "  <tbody>\n",
       "    <tr>\n",
       "      <th>BrB(Br)Br</th>\n",
       "      <td>1</td>\n",
       "      <td>0</td>\n",
       "      <td>0</td>\n",
       "      <td>0</td>\n",
       "      <td>0</td>\n",
       "    </tr>\n",
       "    <tr>\n",
       "      <th>Br[Mg]C1CCCCC1</th>\n",
       "      <td>1</td>\n",
       "      <td>0</td>\n",
       "      <td>0</td>\n",
       "      <td>0</td>\n",
       "      <td>0</td>\n",
       "    </tr>\n",
       "    <tr>\n",
       "      <th>Br[Mg]Cc1ccccc1</th>\n",
       "      <td>1</td>\n",
       "      <td>0</td>\n",
       "      <td>0</td>\n",
       "      <td>0</td>\n",
       "      <td>0</td>\n",
       "    </tr>\n",
       "    <tr>\n",
       "      <th>Br[Mg]c1c(C)cc(cc1C)C</th>\n",
       "      <td>1</td>\n",
       "      <td>0</td>\n",
       "      <td>0</td>\n",
       "      <td>0</td>\n",
       "      <td>0</td>\n",
       "    </tr>\n",
       "    <tr>\n",
       "      <th>C(Oc1ccccc1)Oc1ccccc1</th>\n",
       "      <td>0</td>\n",
       "      <td>0</td>\n",
       "      <td>1</td>\n",
       "      <td>0</td>\n",
       "      <td>0</td>\n",
       "    </tr>\n",
       "    <tr>\n",
       "      <th>...</th>\n",
       "      <td>...</td>\n",
       "      <td>...</td>\n",
       "      <td>...</td>\n",
       "      <td>...</td>\n",
       "      <td>...</td>\n",
       "    </tr>\n",
       "    <tr>\n",
       "      <th>[Rb+]</th>\n",
       "      <td>1</td>\n",
       "      <td>0</td>\n",
       "      <td>0</td>\n",
       "      <td>0</td>\n",
       "      <td>0</td>\n",
       "    </tr>\n",
       "    <tr>\n",
       "      <th>[Sr+2]</th>\n",
       "      <td>1</td>\n",
       "      <td>0</td>\n",
       "      <td>0</td>\n",
       "      <td>0</td>\n",
       "      <td>0</td>\n",
       "    </tr>\n",
       "    <tr>\n",
       "      <th>[Y+3]</th>\n",
       "      <td>1</td>\n",
       "      <td>0</td>\n",
       "      <td>0</td>\n",
       "      <td>0</td>\n",
       "      <td>0</td>\n",
       "    </tr>\n",
       "    <tr>\n",
       "      <th>[Zn+2]</th>\n",
       "      <td>1</td>\n",
       "      <td>0</td>\n",
       "      <td>0</td>\n",
       "      <td>0</td>\n",
       "      <td>0</td>\n",
       "    </tr>\n",
       "    <tr>\n",
       "      <th>[Zn]</th>\n",
       "      <td>1</td>\n",
       "      <td>0</td>\n",
       "      <td>0</td>\n",
       "      <td>0</td>\n",
       "      <td>0</td>\n",
       "    </tr>\n",
       "  </tbody>\n",
       "</table>\n",
       "<p>423 rows × 5 columns</p>\n",
       "</div>"
      ],
      "text/plain": [
       "status                 created  done  failed  incomplete  uploaded\n",
       "can                                                               \n",
       "BrB(Br)Br                    1     0       0           0         0\n",
       "Br[Mg]C1CCCCC1               1     0       0           0         0\n",
       "Br[Mg]Cc1ccccc1              1     0       0           0         0\n",
       "Br[Mg]c1c(C)cc(cc1C)C        1     0       0           0         0\n",
       "C(Oc1ccccc1)Oc1ccccc1        0     0       1           0         0\n",
       "...                        ...   ...     ...         ...       ...\n",
       "[Rb+]                        1     0       0           0         0\n",
       "[Sr+2]                       1     0       0           0         0\n",
       "[Y+3]                        1     0       0           0         0\n",
       "[Zn+2]                       1     0       0           0         0\n",
       "[Zn]                         1     0       0           0         0\n",
       "\n",
       "[423 rows x 5 columns]"
      ]
     },
     "execution_count": 8,
     "metadata": {},
     "output_type": "execute_result"
    }
   ],
   "source": [
    "sm.get_job_stats(split_by_can=True)"
   ]
  },
  {
   "cell_type": "code",
   "execution_count": null,
   "id": "1637eca0",
   "metadata": {},
   "outputs": [
    {
     "name": "stderr",
     "output_type": "stream",
     "text": [
      "INFO:aqc_utils.slurm_manager:Submitting 28 jobs.\n",
      "INFO:aqc_utils.slurm_manager:Connection got disconnected, reconnecting.\n",
      "INFO:paramiko.transport:Connected (version 2.0, client OpenSSH_8.2p1)\n",
      "INFO:paramiko.transport:Authentication (password) successful!\n",
      "INFO:aqc_utils.slurm_manager:Connected to hermite.chimie.ens.fr as jschleinitz is True.\n",
      "INFO:paramiko.transport.sftp:[chan 1] Opened sftp connection (server version 3)\n"
     ]
    },
    {
     "name": "stdout",
     "output_type": "stream",
     "text": [
      "Submitted batch job 10321\n"
     ]
    },
    {
     "name": "stderr",
     "output_type": "stream",
     "text": [
      "INFO:aqc_utils.slurm_manager:Submitted job f782e3995e5e24e0f7147818fd7dd985, job_id: 10321.\n"
     ]
    },
    {
     "name": "stdout",
     "output_type": "stream",
     "text": [
      "Submitted batch job 10322\n"
     ]
    },
    {
     "name": "stderr",
     "output_type": "stream",
     "text": [
      "INFO:aqc_utils.slurm_manager:Submitted job 85ecba28653268dda0c5050eb383fce3, job_id: 10322.\n"
     ]
    },
    {
     "name": "stdout",
     "output_type": "stream",
     "text": [
      "Submitted batch job 10323\n"
     ]
    },
    {
     "name": "stderr",
     "output_type": "stream",
     "text": [
      "INFO:aqc_utils.slurm_manager:Submitted job d1131d038675bdd2537f286fc85598b6, job_id: 10323.\n"
     ]
    },
    {
     "name": "stdout",
     "output_type": "stream",
     "text": [
      "Submitted batch job 10324\n"
     ]
    },
    {
     "name": "stderr",
     "output_type": "stream",
     "text": [
      "INFO:aqc_utils.slurm_manager:Submitted job cb931d85a301071608a9f64bdf43aee1, job_id: 10324.\n"
     ]
    },
    {
     "name": "stdout",
     "output_type": "stream",
     "text": [
      "Submitted batch job 10325\n"
     ]
    },
    {
     "name": "stderr",
     "output_type": "stream",
     "text": [
      "INFO:aqc_utils.slurm_manager:Submitted job 0f4e737a1bedc28020a3864fbb7fe8d0, job_id: 10325.\n"
     ]
    },
    {
     "name": "stdout",
     "output_type": "stream",
     "text": [
      "Submitted batch job 10326\n"
     ]
    },
    {
     "name": "stderr",
     "output_type": "stream",
     "text": [
      "INFO:aqc_utils.slurm_manager:Submitted job 3abdf82f27d5bc99815508070762aae1, job_id: 10326.\n"
     ]
    },
    {
     "name": "stdout",
     "output_type": "stream",
     "text": [
      "Submitted batch job 10327\n"
     ]
    },
    {
     "name": "stderr",
     "output_type": "stream",
     "text": [
      "INFO:aqc_utils.slurm_manager:Submitted job 6a6bd5b99d28f0401f808f63fec23619, job_id: 10327.\n"
     ]
    },
    {
     "name": "stdout",
     "output_type": "stream",
     "text": [
      "Submitted batch job 10328\n"
     ]
    },
    {
     "name": "stderr",
     "output_type": "stream",
     "text": [
      "INFO:aqc_utils.slurm_manager:Submitted job 44d25b58168cdc63e360cffe06ca93ae, job_id: 10328.\n"
     ]
    },
    {
     "name": "stdout",
     "output_type": "stream",
     "text": [
      "Submitted batch job 10329\n"
     ]
    },
    {
     "name": "stderr",
     "output_type": "stream",
     "text": [
      "INFO:aqc_utils.slurm_manager:Submitted job 1a573a71c80aab42069e5cc022389b47, job_id: 10329.\n"
     ]
    },
    {
     "name": "stdout",
     "output_type": "stream",
     "text": [
      "Submitted batch job 10330\n"
     ]
    },
    {
     "name": "stderr",
     "output_type": "stream",
     "text": [
      "INFO:aqc_utils.slurm_manager:Submitted job eea47f288ed78bfc104501a3b94e1b5a, job_id: 10330.\n"
     ]
    },
    {
     "name": "stdout",
     "output_type": "stream",
     "text": [
      "Submitted batch job 10331\n"
     ]
    },
    {
     "name": "stderr",
     "output_type": "stream",
     "text": [
      "INFO:aqc_utils.slurm_manager:Submitted job 2d2e71701f1c9a4d3af95d3f8aa0009c, job_id: 10331.\n"
     ]
    },
    {
     "name": "stdout",
     "output_type": "stream",
     "text": [
      "Submitted batch job 10332\n"
     ]
    },
    {
     "name": "stderr",
     "output_type": "stream",
     "text": [
      "INFO:aqc_utils.slurm_manager:Submitted job 8a1bba1a021ff7b6579d56b767ebaa70, job_id: 10332.\n"
     ]
    },
    {
     "name": "stdout",
     "output_type": "stream",
     "text": [
      "Submitted batch job 10333\n"
     ]
    },
    {
     "name": "stderr",
     "output_type": "stream",
     "text": [
      "INFO:aqc_utils.slurm_manager:Submitted job f3c8ac092320f9276e8c135c69ba342f, job_id: 10333.\n"
     ]
    },
    {
     "name": "stdout",
     "output_type": "stream",
     "text": [
      "Submitted batch job 10334\n"
     ]
    },
    {
     "name": "stderr",
     "output_type": "stream",
     "text": [
      "INFO:aqc_utils.slurm_manager:Submitted job af1bc129355d9009efce0eaa2d974d00, job_id: 10334.\n"
     ]
    },
    {
     "name": "stdout",
     "output_type": "stream",
     "text": [
      "Submitted batch job 10335\n"
     ]
    },
    {
     "name": "stderr",
     "output_type": "stream",
     "text": [
      "INFO:aqc_utils.slurm_manager:Submitted job 06589d150ed2683690e4bcb32c457bf4, job_id: 10335.\n"
     ]
    },
    {
     "name": "stdout",
     "output_type": "stream",
     "text": [
      "Submitted batch job 10336\n"
     ]
    },
    {
     "name": "stderr",
     "output_type": "stream",
     "text": [
      "INFO:aqc_utils.slurm_manager:Submitted job b0eef7952dcf73e2d7b725de6e1a657e, job_id: 10336.\n"
     ]
    },
    {
     "name": "stdout",
     "output_type": "stream",
     "text": [
      "Submitted batch job 10337\n"
     ]
    },
    {
     "name": "stderr",
     "output_type": "stream",
     "text": [
      "INFO:aqc_utils.slurm_manager:Submitted job 27587e28bdc9bb2aa01b3a3af10014ae, job_id: 10337.\n"
     ]
    },
    {
     "name": "stdout",
     "output_type": "stream",
     "text": [
      "Submitted batch job 10338\n"
     ]
    },
    {
     "name": "stderr",
     "output_type": "stream",
     "text": [
      "INFO:aqc_utils.slurm_manager:Submitted job d72c690dd4c78f92bb9ec1adbecfe665, job_id: 10338.\n"
     ]
    },
    {
     "name": "stdout",
     "output_type": "stream",
     "text": [
      "Submitted batch job 10339\n"
     ]
    },
    {
     "name": "stderr",
     "output_type": "stream",
     "text": [
      "INFO:aqc_utils.slurm_manager:Submitted job e13db96b66b143ae9ba3ed87daefb3f6, job_id: 10339.\n"
     ]
    },
    {
     "name": "stdout",
     "output_type": "stream",
     "text": [
      "Submitted batch job 10340\n"
     ]
    },
    {
     "name": "stderr",
     "output_type": "stream",
     "text": [
      "INFO:aqc_utils.slurm_manager:Submitted job fb7662f9a8295bfb8fdd1caa18d81177, job_id: 10340.\n"
     ]
    },
    {
     "name": "stdout",
     "output_type": "stream",
     "text": [
      "Submitted batch job 10341\n"
     ]
    },
    {
     "name": "stderr",
     "output_type": "stream",
     "text": [
      "INFO:aqc_utils.slurm_manager:Submitted job 686ca6b4692961fab11d9cd1425e214f, job_id: 10341.\n"
     ]
    },
    {
     "name": "stdout",
     "output_type": "stream",
     "text": [
      "Submitted batch job 10342\n"
     ]
    },
    {
     "name": "stderr",
     "output_type": "stream",
     "text": [
      "INFO:aqc_utils.slurm_manager:Submitted job c588b5a833a1385af08e7913fbf932ff, job_id: 10342.\n"
     ]
    },
    {
     "name": "stdout",
     "output_type": "stream",
     "text": [
      "Submitted batch job 10343\n"
     ]
    },
    {
     "name": "stderr",
     "output_type": "stream",
     "text": [
      "INFO:aqc_utils.slurm_manager:Submitted job 39759be415c37a0a14b608e00df2ad8f, job_id: 10343.\n"
     ]
    },
    {
     "name": "stdout",
     "output_type": "stream",
     "text": [
      "Submitted batch job 10344\n"
     ]
    },
    {
     "name": "stderr",
     "output_type": "stream",
     "text": [
      "INFO:aqc_utils.slurm_manager:Submitted job ef9a7ab14d48dce5f59b7dc66134faaa, job_id: 10344.\n"
     ]
    },
    {
     "name": "stdout",
     "output_type": "stream",
     "text": [
      "Submitted batch job 10345\n"
     ]
    },
    {
     "name": "stderr",
     "output_type": "stream",
     "text": [
      "INFO:aqc_utils.slurm_manager:Submitted job a98da6d62b840a16bc5c9bc968fb27c9, job_id: 10345.\n"
     ]
    },
    {
     "name": "stdout",
     "output_type": "stream",
     "text": [
      "Submitted batch job 10346\n"
     ]
    },
    {
     "name": "stderr",
     "output_type": "stream",
     "text": [
      "INFO:aqc_utils.slurm_manager:Submitted job 3d8ff2fd6b5e265f12e92b523205f833, job_id: 10346.\n"
     ]
    }
   ],
   "source": [
    "sm.submit_jobs()"
   ]
  },
  {
   "cell_type": "code",
   "execution_count": null,
   "id": "be5c852a",
   "metadata": {
    "scrolled": true
   },
   "outputs": [],
   "source": [
    "sm.squeue()"
   ]
  },
  {
   "cell_type": "code",
   "execution_count": 90,
   "id": "c4493bc4",
   "metadata": {},
   "outputs": [
    {
     "name": "stdout",
     "output_type": "stream",
     "text": [
      "C14H18OSi_95fa_conf_0\n",
      "C11H10O2_d7c7_conf_0\n",
      "C11H10O_9eb4_conf_0\n",
      "C11H17NO_9080_conf_0\n",
      "C11H17NO_d167_conf_0\n",
      "C10H11NO_10ad_conf_0\n",
      "C12H12O_d53c_conf_0\n",
      "C13H14O_eb43_conf_0\n"
     ]
    }
   ],
   "source": [
    "for job in sm.get_jobs():\n",
    "    if str(sm.get_jobs()[job].status) == 'slurm_status.done':\n",
    "        print(sm.get_jobs()[job].base_name)"
   ]
  },
  {
   "cell_type": "code",
   "execution_count": 84,
   "id": "4df0fbf2",
   "metadata": {},
   "outputs": [
    {
     "data": {
      "text/plain": [
       "'6625625ec8945f514e3c68c6d47152bb'"
      ]
     },
     "execution_count": 84,
     "metadata": {},
     "output_type": "execute_result"
    }
   ],
   "source": [
    "job"
   ]
  },
  {
   "cell_type": "code",
   "execution_count": 85,
   "id": "bd444e53",
   "metadata": {},
   "outputs": [],
   "source": [
    "job_all = sm.get_jobs()[job]"
   ]
  },
  {
   "cell_type": "code",
   "execution_count": 33,
   "id": "a7e26a8c",
   "metadata": {},
   "outputs": [
    {
     "data": {
      "text/html": [
       "<div>\n",
       "<style scoped>\n",
       "    .dataframe tbody tr th:only-of-type {\n",
       "        vertical-align: middle;\n",
       "    }\n",
       "\n",
       "    .dataframe tbody tr th {\n",
       "        vertical-align: top;\n",
       "    }\n",
       "\n",
       "    .dataframe thead th {\n",
       "        text-align: right;\n",
       "    }\n",
       "</style>\n",
       "<table border=\"1\" class=\"dataframe\">\n",
       "  <thead>\n",
       "    <tr style=\"text-align: right;\">\n",
       "      <th>status</th>\n",
       "      <th>done</th>\n",
       "      <th>failed</th>\n",
       "      <th>incomplete</th>\n",
       "      <th>uploaded</th>\n",
       "    </tr>\n",
       "  </thead>\n",
       "  <tbody>\n",
       "    <tr>\n",
       "      <th>jobs</th>\n",
       "      <td>1</td>\n",
       "      <td>338</td>\n",
       "      <td>1</td>\n",
       "      <td>19</td>\n",
       "    </tr>\n",
       "  </tbody>\n",
       "</table>\n",
       "</div>"
      ],
      "text/plain": [
       "status  done  failed  incomplete  uploaded\n",
       "jobs       1     338           1        19"
      ]
     },
     "execution_count": 33,
     "metadata": {},
     "output_type": "execute_result"
    }
   ],
   "source": [
    "sm.get_job_stats()"
   ]
  },
  {
   "cell_type": "code",
   "execution_count": 87,
   "id": "da42bc52",
   "metadata": {},
   "outputs": [
    {
     "data": {
      "text/plain": [
       "'slurm_status.created'"
      ]
     },
     "execution_count": 87,
     "metadata": {},
     "output_type": "execute_result"
    }
   ],
   "source": [
    "str(job_all.status)"
   ]
  },
  {
   "cell_type": "code",
   "execution_count": 88,
   "id": "63f47dfe",
   "metadata": {},
   "outputs": [
    {
     "data": {
      "text/plain": [
       "'C12H13NO2_b9f2_conf_0'"
      ]
     },
     "execution_count": 88,
     "metadata": {},
     "output_type": "execute_result"
    }
   ],
   "source": [
    "job_all.base_name"
   ]
  }
 ],
 "metadata": {
  "kernelspec": {
   "display_name": "Python 3 (ipykernel)",
   "language": "python",
   "name": "python3"
  },
  "language_info": {
   "codemirror_mode": {
    "name": "ipython",
    "version": 3
   },
   "file_extension": ".py",
   "mimetype": "text/x-python",
   "name": "python",
   "nbconvert_exporter": "python",
   "pygments_lexer": "ipython3",
   "version": "3.9.7"
  }
 },
 "nbformat": 4,
 "nbformat_minor": 5
}
