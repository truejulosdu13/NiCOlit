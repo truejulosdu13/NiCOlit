{
 "cells": [
  {
   "cell_type": "markdown",
   "id": "e47a90ce",
   "metadata": {},
   "source": [
    "# Import packages"
   ]
  },
  {
   "cell_type": "code",
   "execution_count": 5,
   "id": "f3eeafd6",
   "metadata": {},
   "outputs": [],
   "source": [
    "import pandas as pd\n",
    "import sys\n",
    "sys.path.append('../')\n",
    "\n",
    "from aqc_utils.molecule import molecule\n",
    "from aqc_utils.slurm_manager import slurm_manager\n",
    "from aqc_utils.helper_classes import slurm_status\n",
    "from dft_descriptors import prepocessing as pp\n",
    "import logging\n",
    "logging.basicConfig(level=logging.INFO)"
   ]
  },
  {
   "cell_type": "markdown",
   "id": "fd294cc9",
   "metadata": {},
   "source": [
    "# Initialize the slurm manager\n",
    "\n",
    "Slurm manager is going to manage what jobs you have currently running, or created. It caches your information, so you can kill the notebook, turn-off your computer, go on vacation, and pick it up later. It will remember which jobs you haven't retrieved from the cluster, etc.\n",
    "\n",
    "Note: it won't ask you for login unless you execute a method that requires remote access"
   ]
  },
  {
   "cell_type": "code",
   "execution_count": 6,
   "id": "10c3185a",
   "metadata": {},
   "outputs": [
    {
     "name": "stderr",
     "output_type": "stream",
     "text": [
      "INFO:aqc_utils.slurm_manager:Creating connection to hermite.chimie.ens.fr as jschleinitz\n",
      "INFO:paramiko.transport:Connected (version 2.0, client OpenSSH_8.2p1)\n",
      "INFO:paramiko.transport:Authentication (password) successful!\n",
      "INFO:aqc_utils.slurm_manager:Connected to hermite.chimie.ens.fr as jschleinitz is True.\n"
     ]
    }
   ],
   "source": [
    "sm=slurm_manager(user='jschleinitz', host='hermite.chimie.ens.fr')\n",
    "sm.connect()"
   ]
  },
  {
   "cell_type": "markdown",
   "id": "09c521c0",
   "metadata": {},
   "source": [
    "# Provide smiles string(s)\n",
    "and copy into them into my_smiles variable. It's a list of strings (a Python list can be of any size), the smiles are extracted for the csv resulting form the step 2 numbering the molecules."
   ]
  },
  {
   "cell_type": "code",
   "execution_count": 7,
   "id": "7b28b022",
   "metadata": {},
   "outputs": [],
   "source": [
    "react_nb = pd.read_csv(\"../data_csv/Data_test10222021.csv\", sep=',')\n",
    "import numpy as np\n",
    "from rdkit import Chem\n",
    "df = pd.read_csv('../data_csv/Data_test10222021.csv', sep = ',')\n",
    "df = df[df['Ligand effectif'].notna()]"
   ]
  },
  {
   "cell_type": "code",
   "execution_count": 8,
   "id": "e787fcdc",
   "metadata": {},
   "outputs": [
    {
     "data": {
      "text/plain": [
       "['C1=CC(P(C2C=CC=C2)C2C=CC=C2)C=C1',\n",
       " 'C1CCC(P(C2CCCCC2)C2CCCCC2)CC1',\n",
       " 'C1CCC(P(C2CCCCC2)C2CCCCC2)CC1.CC(C)(C)N1C=CN(C(C)(C)C)C1',\n",
       " 'C1CCC(P(C2CCCCC2)C2CCCCC2)CC1.CC(C)c1cccc(C(C)C)c1N1C=CN(c2c(C(C)C)cccc2C(C)C)C1',\n",
       " 'C1CCC(P(C2CCCCC2)C2CCCCC2)CC1.[CH]1[CH][CH][C](P(c2ccccc2)c2ccccc2)[CH]1.[CH]1[CH][CH][C](P(c2ccccc2)c2ccccc2)[CH]1.[Fe]',\n",
       " 'CC(C)(C)N1C=CN(C(C)(C)C)C1.c1ccc(P(c2ccccc2)c2ccccc2)cc1',\n",
       " 'CC(C)(C)P(C(C)(C)C)C(C)(C)C',\n",
       " 'CC(C)(C)P(C1CCCCC1)C1CCCCC1',\n",
       " 'CC(C)(C)P(c1ccccc1-c1ccccc1)C(C)(C)C',\n",
       " 'CC(C)CP(CC(C)C)CC(C)C',\n",
       " 'CC(C)Oc1cccc(OC(C)C)c1-c1ccccc1P(C1CCCCC1)C1CCCCC1',\n",
       " 'CC(C)P(C(C)C)C(C)C',\n",
       " 'CC(C)P(C(C)C)C(Nc1ccccc1-n1nc(-c2ccccc2)cc1-c1ccccc1)c1ccccc1',\n",
       " 'CC(C)c1cc(C(C)C)c(-c2cc(-c3c(C(C)C)cc(C(C)C)cc3C(C)C)cc(P(C3CCCC3)C3CCCC3)c2)c(C(C)C)c1',\n",
       " 'CC(C)c1cc(C(C)C)c(-c2ccccc2P(C2CCCCC2)C2CCCCC2)c(C(C)C)c1',\n",
       " 'CC(C)c1cccc(C(C)C)c1N1C=CN(c2c(C(C)C)cccc2C(C)C)C1.c1ccc(P(c2ccccc2)c2ccccc2)cc1',\n",
       " 'CC(O)c1ccccc1P(c1ccccc1)c1ccccc1',\n",
       " 'CCCCP(CCCC)CCCC',\n",
       " 'CCP(CC)CC',\n",
       " 'CN(C)P(N(C)C)N(C)C',\n",
       " 'CN(C)c1ccccc1-c1ccccc1P(C1CCCCC1)C1CCCCC1',\n",
       " 'COP(OC)OC',\n",
       " 'COc1ccc(P(c2ccc(OC)cc2)c2ccc(OC)cc2)cc1',\n",
       " 'COc1cccc(OC)c1-c1ccccc1P(C1CCCCC1)C1CCCCC1',\n",
       " 'COc1ccccc1P(c1ccccc1OC)c1ccccc1OC',\n",
       " 'CP(C(C)(C)C)C(C)(C)C',\n",
       " 'CP(C)C',\n",
       " 'Cc1ccc(P(c2ccc(C)cc2)c2ccc(C)cc2)cc1',\n",
       " 'Cc1ccccc1P(c1ccccc1C)c1ccccc1C',\n",
       " 'FC(F)(F)c1ccc(P(c2ccc(C(F)(F)F)cc2)c2ccc(C(F)(F)F)cc2)cc1',\n",
       " 'Fc1c(F)c(F)c(P(c2c(F)c(F)c(F)c(F)c2F)c2c(F)c(F)c(F)c(F)c2F)c(F)c1F',\n",
       " 'c1ccc(-c2cc(-c3ccccc3)n(-c3ccccc3NC(c3ccccc3)P(C3CCCCC3)C3CCCCC3)n2)cc1',\n",
       " 'c1ccc(-c2cc(-c3ccccc3)n(-c3ccccc3NC(c3ccccc3)P(c3ccccc3)c3ccccc3)n2)cc1',\n",
       " 'c1ccc(-c2ccccc2P(C2CCCCC2)C2CCCCC2)cc1',\n",
       " 'c1ccc(CP(Cc2ccccc2)Cc2ccccc2)cc1',\n",
       " 'c1ccc(P(C2CCCCC2)C2CCCCC2)cc1',\n",
       " 'c1ccc(P(c2ccccc2)C2CCCCC2)cc1',\n",
       " 'c1ccc(P(c2ccccc2)c2ccccc2)cc1']"
      ]
     },
     "execution_count": 8,
     "metadata": {},
     "output_type": "execute_result"
    }
   ],
   "source": [
    "unik_lig = [pp.dict_ligand[i] for i in np.unique(df[\"Ligand effectif\"])]\n",
    "can_unik_lig = np.unique([Chem.CanonSmiles(smi) for smi in unik_lig])\n",
    "my_smiles = can_unik_lig\n",
    "can_unik_lig\n",
    "# determine if ligand is NHC, Phosphine, Diphosphine or other\n",
    "def lig_type(list_lig):\n",
    "    lig_type = []\n",
    "    for smi in list_lig:\n",
    "        m = Chem.MolFromSmiles(smi)\n",
    "        if m.HasSubstructMatch(Chem.MolFromSmiles('N[C]N')):\n",
    "            typ = 'NHC'\n",
    "            if m.HasSubstructMatch(Chem.MolFromSmiles('P')):\n",
    "                typ = 'mixed'\n",
    "        elif m.HasSubstructMatch(Chem.MolFromSmiles('P')):\n",
    "            typ = 'Phos'\n",
    "            if len(m.GetSubstructMatches(Chem.MolFromSmiles('P'))) == 2:\n",
    "                typ = 'DiPhos'\n",
    "                if len(m.GetSubstructMatches(Chem.MolFromSmiles('P'))) > 2:\n",
    "                    typ = 'mixed Phos'\n",
    "        else:\n",
    "            typ = 'other'\n",
    "        lig_type.append(typ)\n",
    "    return lig_type\n",
    "phos = [can_unik_lig[i] for i in range(len(can_unik_lig)) if lig_type(can_unik_lig)[i] == 'Phos']\n",
    "phos"
   ]
  },
  {
   "cell_type": "markdown",
   "id": "9c3ebf25",
   "metadata": {},
   "source": [
    "# Initialize the molecules and generate conformations\n",
    "We will use some for loops to loop over the smiles, only one conformation will be taken for each molecules in this work"
   ]
  },
  {
   "cell_type": "code",
   "execution_count": 10,
   "id": "225806f5",
   "metadata": {},
   "outputs": [
    {
     "name": "stderr",
     "output_type": "stream",
     "text": [
      "INFO:aqc_utils.molecule:Initializing molecule with canonical smiles: C1=CC(C=C1)P(C1C=CC=C1)C1C=CC=C1\n",
      "INFO:aqc_utils.molecule:Creating initial geometry with option 'best'.\n",
      "INFO:aqc_utils.molecule:Initial geometry created successfully.\n",
      "INFO:aqc_utils.molecule:Initializing molecule with canonical smiles: C1CCC(CC1)P(C1CCCCC1)C1CCCCC1\n",
      "INFO:aqc_utils.molecule:Creating initial geometry with option 'best'.\n",
      "INFO:aqc_utils.molecule:Initial geometry created successfully.\n",
      "INFO:aqc_utils.molecule:Initializing molecule with canonical smiles: C1CCC(CC1)P(C1CCCCC1)C1CCCCC1.CC(N1C=CN(C1)C(C)(C)C)(C)C\n",
      "INFO:aqc_utils.molecule:Creating initial geometry with option 'best'.\n",
      "INFO:aqc_utils.molecule:Initial geometry created successfully.\n",
      "INFO:aqc_utils.molecule:Molecule has 2 non-bonded fragments\n",
      "INFO:aqc_utils.molecule:Initializing molecule with canonical smiles: C1CCC(CC1)P(C1CCCCC1)C1CCCCC1.CC(c1cccc(c1N1C=CN(C1)c1c(cccc1C(C)C)C(C)C)C(C)C)C\n",
      "INFO:aqc_utils.molecule:Creating initial geometry with option 'best'.\n",
      "INFO:aqc_utils.molecule:Initial geometry created successfully.\n",
      "INFO:aqc_utils.molecule:Molecule has 2 non-bonded fragments\n",
      "INFO:aqc_utils.molecule:Initializing molecule with canonical smiles: C1CCC(CC1)P(C1CCCCC1)C1CCCCC1.[CH]1[CH][CH][C]([CH]1)P(c1ccccc1)c1ccccc1.[CH]1[CH][CH][C]([CH]1)P(c1ccccc1)c1ccccc1.[Fe]\n",
      "INFO:aqc_utils.molecule:Creating initial geometry with option 'best'.\n",
      "INFO:aqc_utils.molecule:Initial geometry created successfully.\n",
      "ERROR:aqc_utils.molecule:Molecule has 4 non-bonded fragments. Only up to 2 are supported\n"
     ]
    },
    {
     "ename": "Exception",
     "evalue": "Molecule has 4 non-bonded fragments. Only up to 2 are supported",
     "output_type": "error",
     "traceback": [
      "\u001b[0;31m---------------------------------------------------------------------------\u001b[0m",
      "\u001b[0;31mException\u001b[0m                                 Traceback (most recent call last)",
      "\u001b[0;32m/var/folders/c8/7pbzw0r912n01vr9fgdmzhx00000gn/T/ipykernel_62066/118112854.py\u001b[0m in \u001b[0;36m<module>\u001b[0;34m\u001b[0m\n\u001b[1;32m      1\u001b[0m \u001b[0mmols\u001b[0m \u001b[0;34m=\u001b[0m \u001b[0;34m[\u001b[0m\u001b[0;34m]\u001b[0m\u001b[0;34m\u001b[0m\u001b[0;34m\u001b[0m\u001b[0m\n\u001b[1;32m      2\u001b[0m \u001b[0;32mfor\u001b[0m \u001b[0msmile\u001b[0m \u001b[0;32min\u001b[0m \u001b[0mphos\u001b[0m\u001b[0;34m:\u001b[0m\u001b[0;34m\u001b[0m\u001b[0;34m\u001b[0m\u001b[0m\n\u001b[0;32m----> 3\u001b[0;31m     \u001b[0mmols\u001b[0m\u001b[0;34m.\u001b[0m\u001b[0mappend\u001b[0m\u001b[0;34m(\u001b[0m\u001b[0mmolecule\u001b[0m\u001b[0;34m(\u001b[0m\u001b[0msmile\u001b[0m\u001b[0;34m,\u001b[0m \u001b[0mmax_num_conformers\u001b[0m\u001b[0;34m=\u001b[0m\u001b[0;36m1\u001b[0m\u001b[0;34m)\u001b[0m\u001b[0;34m)\u001b[0m\u001b[0;34m\u001b[0m\u001b[0;34m\u001b[0m\u001b[0m\n\u001b[0m",
      "\u001b[0;32m~/Desktop/These/Projet_stage_M1_Max/Code/SM_DFT/DFT_for_SM/notebooks/../aqc_utils/molecule.py\u001b[0m in \u001b[0;36m__init__\u001b[0;34m(self, input, isotopes_as_labels, max_num_conformers, input_type, input_format, gen3D_option, min_fragment_dist)\u001b[0m\n\u001b[1;32m     82\u001b[0m             \u001b[0mmessage\u001b[0m \u001b[0;34m=\u001b[0m \u001b[0;34mf\"Molecule has {len(self.centers)} non-bonded fragments. Only up to 2 are supported\"\u001b[0m\u001b[0;34m\u001b[0m\u001b[0;34m\u001b[0m\u001b[0m\n\u001b[1;32m     83\u001b[0m             \u001b[0mlogger\u001b[0m\u001b[0;34m.\u001b[0m\u001b[0merror\u001b[0m\u001b[0;34m(\u001b[0m\u001b[0mmessage\u001b[0m\u001b[0;34m)\u001b[0m\u001b[0;34m\u001b[0m\u001b[0;34m\u001b[0m\u001b[0m\n\u001b[0;32m---> 84\u001b[0;31m             \u001b[0;32mraise\u001b[0m \u001b[0mException\u001b[0m\u001b[0;34m(\u001b[0m\u001b[0mmessage\u001b[0m\u001b[0;34m)\u001b[0m\u001b[0;34m\u001b[0m\u001b[0;34m\u001b[0m\u001b[0m\n\u001b[0m\u001b[1;32m     85\u001b[0m \u001b[0;34m\u001b[0m\u001b[0m\n\u001b[1;32m     86\u001b[0m     \u001b[0;32mdef\u001b[0m \u001b[0mget_geometry\u001b[0m\u001b[0;34m(\u001b[0m\u001b[0mself\u001b[0m\u001b[0;34m,\u001b[0m \u001b[0mconformer_num\u001b[0m\u001b[0;34m=\u001b[0m\u001b[0;36m0\u001b[0m\u001b[0;34m)\u001b[0m\u001b[0;34m:\u001b[0m\u001b[0;31m# -> pd.DataFrame\u001b[0m\u001b[0;34m\u001b[0m\u001b[0;34m\u001b[0m\u001b[0m\n",
      "\u001b[0;31mException\u001b[0m: Molecule has 4 non-bonded fragments. Only up to 2 are supported"
     ]
    }
   ],
   "source": [
    "mols = []\n",
    "for smile in phos:\n",
    "    mols.append(molecule(smile, max_num_conformers=1))"
   ]
  },
  {
   "cell_type": "markdown",
   "id": "a702571b",
   "metadata": {},
   "source": [
    "###### Draw some molecules"
   ]
  },
  {
   "cell_type": "code",
   "execution_count": null,
   "id": "0ccbf815",
   "metadata": {},
   "outputs": [],
   "source": [
    "#mols[0].draw(2)"
   ]
  },
  {
   "cell_type": "markdown",
   "id": "100f5719",
   "metadata": {},
   "source": [
    "# Create gaussian job for each conformation"
   ]
  },
  {
   "cell_type": "code",
   "execution_count": null,
   "id": "4d7c91a6",
   "metadata": {},
   "outputs": [],
   "source": [
    "for mol in mols:\n",
    "    sm.create_jobs_for_molecule(mol, workflow_type=\"equilibrium\")"
   ]
  },
  {
   "cell_type": "code",
   "execution_count": null,
   "id": "c2aa4b1c",
   "metadata": {
    "scrolled": false
   },
   "outputs": [],
   "source": [
    "sm.get_job_stats(split_by_can=True)"
   ]
  },
  {
   "cell_type": "code",
   "execution_count": null,
   "id": "1637eca0",
   "metadata": {},
   "outputs": [],
   "source": [
    "sm.submit_jobs()"
   ]
  },
  {
   "cell_type": "code",
   "execution_count": null,
   "id": "be5c852a",
   "metadata": {
    "scrolled": true
   },
   "outputs": [],
   "source": [
    "sm.squeue()"
   ]
  },
  {
   "cell_type": "code",
   "execution_count": null,
   "id": "c4493bc4",
   "metadata": {},
   "outputs": [],
   "source": [
    "for job in sm.get_jobs():\n",
    "    if str(sm.get_jobs()[job].status) == 'slurm_status.done':\n",
    "        print(sm.get_jobs()[job].base_name)"
   ]
  },
  {
   "cell_type": "code",
   "execution_count": 84,
   "id": "4df0fbf2",
   "metadata": {},
   "outputs": [
    {
     "data": {
      "text/plain": [
       "'6625625ec8945f514e3c68c6d47152bb'"
      ]
     },
     "execution_count": 84,
     "metadata": {},
     "output_type": "execute_result"
    }
   ],
   "source": [
    "job"
   ]
  },
  {
   "cell_type": "code",
   "execution_count": 85,
   "id": "bd444e53",
   "metadata": {},
   "outputs": [],
   "source": [
    "job_all = sm.get_jobs()[job]"
   ]
  },
  {
   "cell_type": "code",
   "execution_count": 33,
   "id": "a7e26a8c",
   "metadata": {},
   "outputs": [
    {
     "data": {
      "text/html": [
       "<div>\n",
       "<style scoped>\n",
       "    .dataframe tbody tr th:only-of-type {\n",
       "        vertical-align: middle;\n",
       "    }\n",
       "\n",
       "    .dataframe tbody tr th {\n",
       "        vertical-align: top;\n",
       "    }\n",
       "\n",
       "    .dataframe thead th {\n",
       "        text-align: right;\n",
       "    }\n",
       "</style>\n",
       "<table border=\"1\" class=\"dataframe\">\n",
       "  <thead>\n",
       "    <tr style=\"text-align: right;\">\n",
       "      <th>status</th>\n",
       "      <th>done</th>\n",
       "      <th>failed</th>\n",
       "      <th>incomplete</th>\n",
       "      <th>uploaded</th>\n",
       "    </tr>\n",
       "  </thead>\n",
       "  <tbody>\n",
       "    <tr>\n",
       "      <th>jobs</th>\n",
       "      <td>1</td>\n",
       "      <td>338</td>\n",
       "      <td>1</td>\n",
       "      <td>19</td>\n",
       "    </tr>\n",
       "  </tbody>\n",
       "</table>\n",
       "</div>"
      ],
      "text/plain": [
       "status  done  failed  incomplete  uploaded\n",
       "jobs       1     338           1        19"
      ]
     },
     "execution_count": 33,
     "metadata": {},
     "output_type": "execute_result"
    }
   ],
   "source": [
    "sm.get_job_stats()"
   ]
  },
  {
   "cell_type": "code",
   "execution_count": 87,
   "id": "da42bc52",
   "metadata": {},
   "outputs": [
    {
     "data": {
      "text/plain": [
       "'slurm_status.created'"
      ]
     },
     "execution_count": 87,
     "metadata": {},
     "output_type": "execute_result"
    }
   ],
   "source": [
    "str(job_all.status)"
   ]
  },
  {
   "cell_type": "code",
   "execution_count": 88,
   "id": "63f47dfe",
   "metadata": {},
   "outputs": [
    {
     "data": {
      "text/plain": [
       "'C12H13NO2_b9f2_conf_0'"
      ]
     },
     "execution_count": 88,
     "metadata": {},
     "output_type": "execute_result"
    }
   ],
   "source": [
    "job_all.base_name"
   ]
  }
 ],
 "metadata": {
  "kernelspec": {
   "display_name": "Python 3 (ipykernel)",
   "language": "python",
   "name": "python3"
  },
  "language_info": {
   "codemirror_mode": {
    "name": "ipython",
    "version": 3
   },
   "file_extension": ".py",
   "mimetype": "text/x-python",
   "name": "python",
   "nbconvert_exporter": "python",
   "pygments_lexer": "ipython3",
   "version": "3.9.7"
  }
 },
 "nbformat": 4,
 "nbformat_minor": 5
}
