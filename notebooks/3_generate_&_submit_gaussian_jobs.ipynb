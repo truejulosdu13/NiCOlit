{
 "cells": [
  {
   "cell_type": "markdown",
   "id": "ede8ddd1",
   "metadata": {},
   "source": [
    "# Import packages"
   ]
  },
  {
   "cell_type": "code",
   "execution_count": 17,
   "id": "ef3860a8",
   "metadata": {},
   "outputs": [],
   "source": [
    "import pandas as pd\n",
    "import sys\n",
    "sys.path.append('../')\n",
    "\n",
    "from aqc_utils.molecule import molecule\n",
    "from aqc_utils.slurm_manager import slurm_manager\n",
    "from aqc_utils.helper_classes import slurm_status\n",
    "\n",
    "import logging\n",
    "logging.basicConfig(level=logging.INFO)"
   ]
  },
  {
   "cell_type": "markdown",
   "id": "0a2ec887",
   "metadata": {},
   "source": [
    "# Initialize the slurm manager\n",
    "\n",
    "Slurm manager is going to manage what jobs you have currently running, or created. It caches your information, so you can kill the notebook, turn-off your computer, go on vacation, and pick it up later. It will remember which jobs you haven't retrieved from the cluster, etc.\n",
    "\n",
    "Note: it won't ask you for login unless you execute a method that requires remote access"
   ]
  },
  {
   "cell_type": "code",
   "execution_count": 18,
   "id": "2ba2eddd",
   "metadata": {},
   "outputs": [
    {
     "name": "stderr",
     "output_type": "stream",
     "text": [
      "INFO:aqc_utils.slurm_manager:Creating connection to hermite.chimie.ens.fr as jschleinitz\n",
      "INFO:paramiko.transport:Connected (version 2.0, client OpenSSH_8.2p1)\n",
      "INFO:paramiko.transport:Authentication (password) successful!\n",
      "INFO:aqc_utils.slurm_manager:Connected to hermite.chimie.ens.fr as jschleinitz is True.\n"
     ]
    }
   ],
   "source": [
    "sm=slurm_manager(user='jschleinitz', host='hermite.chimie.ens.fr')\n",
    "sm.connect()"
   ]
  },
  {
   "cell_type": "markdown",
   "id": "32f698b6",
   "metadata": {},
   "source": [
    "# Provide smiles string(s)\n",
    "and copy into them into my_smiles variable. It's a list of strings (a Python list can be of any size), the smiles are extracted for the csv resulting form the step 2 numbering the molecules."
   ]
  },
  {
   "cell_type": "code",
   "execution_count": 19,
   "id": "761f5716",
   "metadata": {},
   "outputs": [],
   "source": [
    "react_nb = pd.read_csv(\"../data_csv/fragments_0-7.csv\", sep=',')\n",
    "\n",
    "my_smiles = [react_nb[\"C0C7_num\"][i] for i in range(len(react_nb))]\n",
    "#my_smiles"
   ]
  },
  {
   "cell_type": "markdown",
   "id": "bf297028",
   "metadata": {},
   "source": [
    "# Initialize the molecules and generate conformations\n",
    "We will use some for loops to loop over the smiles, only one conformation will be taken for each molecules in this work"
   ]
  },
  {
   "cell_type": "code",
   "execution_count": 20,
   "id": "66efbb8d",
   "metadata": {},
   "outputs": [
    {
     "name": "stderr",
     "output_type": "stream",
     "text": [
      "INFO:aqc_utils.molecule:Initializing molecule with canonical smiles: COc1ccc2c(c1)cccc2\n",
      "INFO:aqc_utils.molecule:Creating initial geometry with option 'best'.\n",
      "INFO:aqc_utils.molecule:Initial geometry created successfully.\n",
      "INFO:aqc_utils.molecule:Initializing molecule with canonical smiles: COc1ccc2c(c1)ccc(c2)[Si](C)(C)C\n",
      "INFO:aqc_utils.molecule:Creating initial geometry with option 'best'.\n",
      "INFO:aqc_utils.molecule:Initial geometry created successfully.\n",
      "INFO:aqc_utils.molecule:Initializing molecule with canonical smiles: COc1ccc2c(c1)ccc(c2)N1CCCCC1\n",
      "INFO:aqc_utils.molecule:Creating initial geometry with option 'best'.\n",
      "INFO:aqc_utils.molecule:Initial geometry created successfully.\n",
      "INFO:aqc_utils.molecule:Initializing molecule with canonical smiles: COc1ccc2c(c1)cc(cc2)O\n",
      "INFO:aqc_utils.molecule:Creating initial geometry with option 'best'.\n",
      "INFO:aqc_utils.molecule:Initial geometry created successfully.\n",
      "INFO:aqc_utils.molecule:Initializing molecule with canonical smiles: COc1cccc2c1cccc2\n",
      "INFO:aqc_utils.molecule:Creating initial geometry with option 'best'.\n",
      "INFO:aqc_utils.molecule:Initial geometry created successfully.\n",
      "INFO:aqc_utils.molecule:Initializing molecule with canonical smiles: COc1ccc(cc1)C\n",
      "INFO:aqc_utils.molecule:Creating initial geometry with option 'best'.\n",
      "INFO:aqc_utils.molecule:Initial geometry created successfully.\n",
      "INFO:aqc_utils.molecule:Initializing molecule with canonical smiles: COc1ccc(cc1)[C@H](N(C)C)C\n",
      "INFO:aqc_utils.molecule:Creating initial geometry with option 'best'.\n",
      "INFO:aqc_utils.molecule:Initial geometry created successfully.\n",
      "INFO:aqc_utils.molecule:Initializing molecule with canonical smiles: COc1ccc(cc1)[C@@H](N(C)C)C\n",
      "INFO:aqc_utils.molecule:Creating initial geometry with option 'best'.\n",
      "INFO:aqc_utils.molecule:Initial geometry created successfully.\n",
      "INFO:aqc_utils.molecule:Initializing molecule with canonical smiles: OCc1ccc(cc1)OC\n",
      "INFO:aqc_utils.molecule:Creating initial geometry with option 'best'.\n",
      "INFO:aqc_utils.molecule:Initial geometry created successfully.\n",
      "INFO:aqc_utils.molecule:Initializing molecule with canonical smiles: OCCc1ccc(cc1)OC\n",
      "INFO:aqc_utils.molecule:Creating initial geometry with option 'best'.\n",
      "INFO:aqc_utils.molecule:Initial geometry created successfully.\n",
      "INFO:aqc_utils.molecule:Initializing molecule with canonical smiles: COc1ccc2c(c1)cccn2\n",
      "INFO:aqc_utils.molecule:Creating initial geometry with option 'best'.\n",
      "INFO:aqc_utils.molecule:Initial geometry created successfully.\n",
      "INFO:aqc_utils.molecule:Initializing molecule with canonical smiles: COc1ccc2c(c1)ccn2C\n",
      "INFO:aqc_utils.molecule:Creating initial geometry with option 'best'.\n",
      "INFO:aqc_utils.molecule:Initial geometry created successfully.\n",
      "INFO:aqc_utils.molecule:Initializing molecule with canonical smiles: COc1ccc2c(c1)c1ccccc1n2C\n",
      "INFO:aqc_utils.molecule:Creating initial geometry with option 'best'.\n",
      "INFO:aqc_utils.molecule:Initial geometry created successfully.\n",
      "INFO:aqc_utils.molecule:Initializing molecule with canonical smiles: CCOc1ccc2c(c1)cccc2\n",
      "INFO:aqc_utils.molecule:Creating initial geometry with option 'best'.\n",
      "INFO:aqc_utils.molecule:Initial geometry created successfully.\n",
      "INFO:aqc_utils.molecule:Initializing molecule with canonical smiles: CC(Oc1ccc2c(c1)cccc2)C\n",
      "INFO:aqc_utils.molecule:Creating initial geometry with option 'best'.\n",
      "INFO:aqc_utils.molecule:Initial geometry created successfully.\n",
      "INFO:aqc_utils.molecule:Initializing molecule with canonical smiles: C[Si](Oc1ccc2c(c1)cccc2)(C)C\n",
      "INFO:aqc_utils.molecule:Creating initial geometry with option 'best'.\n",
      "INFO:aqc_utils.molecule:Initial geometry created successfully.\n",
      "INFO:aqc_utils.molecule:Initializing molecule with canonical smiles: C[Si](C(C)(C)C)(Oc1ccc2c(c1)cccc2)C\n",
      "INFO:aqc_utils.molecule:Creating initial geometry with option 'best'.\n",
      "INFO:aqc_utils.molecule:Initial geometry created successfully.\n",
      "INFO:aqc_utils.molecule:Initializing molecule with canonical smiles: CC[Si](Oc1ccc2c(c1)cccc2)(C)C\n",
      "INFO:aqc_utils.molecule:Creating initial geometry with option 'best'.\n",
      "INFO:aqc_utils.molecule:Initial geometry created successfully.\n",
      "INFO:aqc_utils.molecule:Initializing molecule with canonical smiles: CC([Si](Oc1ccc2c(c1)cccc2)(C)C)C\n",
      "INFO:aqc_utils.molecule:Creating initial geometry with option 'best'.\n",
      "INFO:aqc_utils.molecule:Initial geometry created successfully.\n",
      "INFO:aqc_utils.molecule:Initializing molecule with canonical smiles: C[Si](c1ccccc1)(Oc1ccc2c(c1)cccc2)C\n",
      "INFO:aqc_utils.molecule:Creating initial geometry with option 'best'.\n",
      "INFO:aqc_utils.molecule:Initial geometry created successfully.\n",
      "INFO:aqc_utils.molecule:Initializing molecule with canonical smiles: CC[Si](Oc1ccc2c(c1)cccc2)(CC)CC\n",
      "INFO:aqc_utils.molecule:Creating initial geometry with option 'best'.\n",
      "INFO:aqc_utils.molecule:Initial geometry created successfully.\n",
      "INFO:aqc_utils.molecule:Initializing molecule with canonical smiles: C=CC[Si](Oc1ccc2c(c1)cccc2)(C)C\n",
      "INFO:aqc_utils.molecule:Creating initial geometry with option 'best'.\n",
      "INFO:aqc_utils.molecule:Initial geometry created successfully.\n",
      "INFO:aqc_utils.molecule:Initializing molecule with canonical smiles: O=C(C(C)(C)C)Oc1ccc2c(c1)cccc2\n",
      "INFO:aqc_utils.molecule:Creating initial geometry with option 'best'.\n",
      "INFO:aqc_utils.molecule:Initial geometry created successfully.\n",
      "INFO:aqc_utils.molecule:Initializing molecule with canonical smiles: O=C(N(C)C)Oc1ccc2c(c1)cccc2\n",
      "INFO:aqc_utils.molecule:Creating initial geometry with option 'best'.\n",
      "INFO:aqc_utils.molecule:Initial geometry created successfully.\n",
      "INFO:aqc_utils.molecule:Initializing molecule with canonical smiles: COc1ccc2c(c1)ccc(c2)C1CC1\n",
      "INFO:aqc_utils.molecule:Creating initial geometry with option 'best'.\n",
      "INFO:aqc_utils.molecule:Initial geometry created successfully.\n",
      "INFO:aqc_utils.molecule:Initializing molecule with canonical smiles: COCCCCc1ccc2c(c1)ccc(c2)OC\n",
      "INFO:aqc_utils.molecule:Creating initial geometry with option 'best'.\n",
      "INFO:aqc_utils.molecule:Initial geometry created successfully.\n",
      "INFO:aqc_utils.molecule:Initializing molecule with canonical smiles: COc1ccc2c(c1)ccc(c2)c1ccccc1\n",
      "INFO:aqc_utils.molecule:Creating initial geometry with option 'best'.\n",
      "INFO:aqc_utils.molecule:Initial geometry created successfully.\n",
      "INFO:aqc_utils.molecule:Initializing molecule with canonical smiles: COc1ccc2c(c1)ccc(c2)O[Si](C)(C)C\n",
      "INFO:aqc_utils.molecule:Creating initial geometry with option 'best'.\n",
      "INFO:aqc_utils.molecule:Initial geometry created successfully.\n",
      "INFO:aqc_utils.molecule:Initializing molecule with canonical smiles: COc1ccc2c(c1)ccc(c2)N1CCCC1\n",
      "INFO:aqc_utils.molecule:Creating initial geometry with option 'best'.\n",
      "INFO:aqc_utils.molecule:Initial geometry created successfully.\n",
      "INFO:aqc_utils.molecule:Initializing molecule with canonical smiles: COc1ccc2c(c1C)cccc2\n",
      "INFO:aqc_utils.molecule:Creating initial geometry with option 'best'.\n",
      "INFO:aqc_utils.molecule:Initial geometry created successfully.\n",
      "INFO:aqc_utils.molecule:Initializing molecule with canonical smiles: COc1ccc(cc1)c1ccccc1\n",
      "INFO:aqc_utils.molecule:Creating initial geometry with option 'best'.\n",
      "INFO:aqc_utils.molecule:Initial geometry created successfully.\n",
      "INFO:aqc_utils.molecule:Initializing molecule with canonical smiles: COc1ccc(cc1)Oc1nc(OC)nc(n1)OC\n",
      "INFO:aqc_utils.molecule:Creating initial geometry with option 'best'.\n",
      "INFO:aqc_utils.molecule:Initial geometry created successfully.\n",
      "INFO:aqc_utils.molecule:Initializing molecule with canonical smiles: COc1ccc(cc1)OC(=O)N(C)C\n",
      "INFO:aqc_utils.molecule:Creating initial geometry with option 'best'.\n",
      "INFO:aqc_utils.molecule:Initial geometry created successfully.\n",
      "INFO:aqc_utils.molecule:Initializing molecule with canonical smiles: COc1ccc(cc1)OC(=O)C(C)(C)C\n",
      "INFO:aqc_utils.molecule:Creating initial geometry with option 'best'.\n",
      "INFO:aqc_utils.molecule:Initial geometry created successfully.\n",
      "INFO:aqc_utils.molecule:Initializing molecule with canonical smiles: COc1nc(OC)nc(n1)Oc1ccccc1OC\n",
      "INFO:aqc_utils.molecule:Creating initial geometry with option 'best'.\n",
      "INFO:aqc_utils.molecule:Initial geometry created successfully.\n",
      "INFO:aqc_utils.molecule:Initializing molecule with canonical smiles: COc1nc(Oc2ccccc2)nc(n1)OC\n",
      "INFO:aqc_utils.molecule:Creating initial geometry with option 'best'.\n",
      "INFO:aqc_utils.molecule:Initial geometry created successfully.\n"
     ]
    },
    {
     "name": "stderr",
     "output_type": "stream",
     "text": [
      "INFO:aqc_utils.molecule:Initializing molecule with canonical smiles: COc1nc(nc(n1)OC)Oc1ccccc1C\n",
      "INFO:aqc_utils.molecule:Creating initial geometry with option 'best'.\n",
      "INFO:aqc_utils.molecule:Initial geometry created successfully.\n",
      "INFO:aqc_utils.molecule:Initializing molecule with canonical smiles: COc1nc(Oc2ccc(cc2)C)nc(n1)OC\n",
      "INFO:aqc_utils.molecule:Creating initial geometry with option 'best'.\n",
      "INFO:aqc_utils.molecule:Initial geometry created successfully.\n",
      "INFO:aqc_utils.molecule:Initializing molecule with canonical smiles: COc1nc(nc(n1)OC)Oc1cccc2c1cccc2\n",
      "INFO:aqc_utils.molecule:Creating initial geometry with option 'best'.\n",
      "INFO:aqc_utils.molecule:Initial geometry created successfully.\n",
      "INFO:aqc_utils.molecule:Initializing molecule with canonical smiles: COc1nc(Oc2cccc(c2)C)nc(n1)OC\n",
      "INFO:aqc_utils.molecule:Creating initial geometry with option 'best'.\n",
      "INFO:aqc_utils.molecule:Initial geometry created successfully.\n",
      "INFO:aqc_utils.molecule:Initializing molecule with canonical smiles: COc1nc(Oc2ccc3c(c2)cccc3)nc(n1)OC\n",
      "INFO:aqc_utils.molecule:Creating initial geometry with option 'best'.\n",
      "INFO:aqc_utils.molecule:Initial geometry created successfully.\n",
      "INFO:aqc_utils.molecule:Initializing molecule with canonical smiles: COc1nc(Oc2cc(C)cc(c2)C)nc(n1)OC\n",
      "INFO:aqc_utils.molecule:Creating initial geometry with option 'best'.\n",
      "INFO:aqc_utils.molecule:Initial geometry created successfully.\n",
      "INFO:aqc_utils.molecule:Initializing molecule with canonical smiles: COc1nc(Oc2ccc(cc2)C(C)(C)C)nc(n1)OC\n",
      "INFO:aqc_utils.molecule:Creating initial geometry with option 'best'.\n",
      "INFO:aqc_utils.molecule:Initial geometry created successfully.\n",
      "INFO:aqc_utils.molecule:Initializing molecule with canonical smiles: COc1nc(Oc2cccc(c2)NC(=O)C)nc(n1)OC\n",
      "INFO:aqc_utils.molecule:Creating initial geometry with option 'best'.\n",
      "INFO:aqc_utils.molecule:Initial geometry created successfully.\n",
      "INFO:aqc_utils.molecule:Initializing molecule with canonical smiles: COc1nc(Oc2ccc(cc2)C(=O)OC)nc(n1)OC\n",
      "INFO:aqc_utils.molecule:Creating initial geometry with option 'best'.\n",
      "INFO:aqc_utils.molecule:Initial geometry created successfully.\n",
      "INFO:aqc_utils.molecule:Initializing molecule with canonical smiles: COc1nc(Oc2ccc(cc2)C#N)nc(n1)OC\n",
      "INFO:aqc_utils.molecule:Creating initial geometry with option 'best'.\n",
      "INFO:aqc_utils.molecule:Initial geometry created successfully.\n",
      "INFO:aqc_utils.molecule:Initializing molecule with canonical smiles: COc1nc(Oc2ccc(cc2)C=O)nc(n1)OC\n",
      "INFO:aqc_utils.molecule:Creating initial geometry with option 'best'.\n",
      "INFO:aqc_utils.molecule:Initial geometry created successfully.\n",
      "INFO:aqc_utils.molecule:Initializing molecule with canonical smiles: COc1nc(Oc2ccc(cc2)C(=O)C)nc(n1)OC\n",
      "INFO:aqc_utils.molecule:Creating initial geometry with option 'best'.\n",
      "INFO:aqc_utils.molecule:Initial geometry created successfully.\n",
      "INFO:aqc_utils.molecule:Initializing molecule with canonical smiles: COc1nc(Oc2ccc(cc2)[N+](=O)[O-])nc(n1)OC\n",
      "INFO:aqc_utils.molecule:Creating initial geometry with option 'best'.\n",
      "INFO:aqc_utils.molecule:Initial geometry created successfully.\n",
      "INFO:aqc_utils.molecule:Initializing molecule with canonical smiles: COc1nc(Oc2ccc(cc2)F)nc(n1)OC\n",
      "INFO:aqc_utils.molecule:Creating initial geometry with option 'best'.\n",
      "INFO:aqc_utils.molecule:Initial geometry created successfully.\n",
      "INFO:aqc_utils.molecule:Initializing molecule with canonical smiles: COc1nc(Oc2ccc(cc2)C(F)(F)F)nc(n1)OC\n",
      "INFO:aqc_utils.molecule:Creating initial geometry with option 'best'.\n",
      "INFO:aqc_utils.molecule:Initial geometry created successfully.\n",
      "INFO:aqc_utils.molecule:Initializing molecule with canonical smiles: COc1nc(nc(n1)OC)Oc1ccc(cc1C)C=O\n",
      "INFO:aqc_utils.molecule:Creating initial geometry with option 'best'.\n",
      "INFO:aqc_utils.molecule:Initial geometry created successfully.\n",
      "INFO:aqc_utils.molecule:Initializing molecule with canonical smiles: O=C(C(C)(C)C)Oc1ccncc1\n",
      "INFO:aqc_utils.molecule:Creating initial geometry with option 'best'.\n",
      "INFO:aqc_utils.molecule:Initial geometry created successfully.\n",
      "INFO:aqc_utils.molecule:Initializing molecule with canonical smiles: COc1nc(Oc2ccc3c(c2)oc(=O)cc3C)nc(n1)OC\n",
      "INFO:aqc_utils.molecule:Creating initial geometry with option 'best'.\n",
      "INFO:aqc_utils.molecule:Initial geometry created successfully.\n",
      "INFO:aqc_utils.molecule:Initializing molecule with canonical smiles: COc1nc(Oc2ccc3c(c2)CCC2C3CC[C@]3(C2CCC3=O)C)nc(n1)OC\n",
      "INFO:aqc_utils.molecule:Creating initial geometry with option 'best'.\n",
      "INFO:aqc_utils.molecule:Initial geometry created successfully.\n",
      "INFO:aqc_utils.molecule:Initializing molecule with canonical smiles: COc1ccc2c(c1)ccc(c2)c1ccccn1\n",
      "INFO:aqc_utils.molecule:Creating initial geometry with option 'best'.\n",
      "INFO:aqc_utils.molecule:Initial geometry created successfully.\n",
      "INFO:aqc_utils.molecule:Initializing molecule with canonical smiles: COc1ccc2c(c1)ccc(c2)N(c1ccccc1)c1ccccc1\n",
      "INFO:aqc_utils.molecule:Creating initial geometry with option 'best'.\n",
      "INFO:aqc_utils.molecule:Initial geometry created successfully.\n",
      "INFO:aqc_utils.molecule:Initializing molecule with canonical smiles: COc1ccc2c(c1)ccc(c2)c1ccccc1C\n",
      "INFO:aqc_utils.molecule:Creating initial geometry with option 'best'.\n",
      "INFO:aqc_utils.molecule:Initial geometry created successfully.\n",
      "INFO:aqc_utils.molecule:Initializing molecule with canonical smiles: COc1ccc2c(c1)ccc(c2)c1cccc(c1)C\n",
      "INFO:aqc_utils.molecule:Creating initial geometry with option 'best'.\n",
      "INFO:aqc_utils.molecule:Initial geometry created successfully.\n",
      "INFO:aqc_utils.molecule:Initializing molecule with canonical smiles: COc1ccc2c(c1)ccc(c2)c1ccc(cc1)C\n",
      "INFO:aqc_utils.molecule:Creating initial geometry with option 'best'.\n",
      "INFO:aqc_utils.molecule:Initial geometry created successfully.\n",
      "INFO:aqc_utils.molecule:Initializing molecule with canonical smiles: COc1ccc2c(c1)ccc(c2)c1ccc(cc1)C(C)(C)C\n",
      "INFO:aqc_utils.molecule:Creating initial geometry with option 'best'.\n",
      "INFO:aqc_utils.molecule:Initial geometry created successfully.\n",
      "INFO:aqc_utils.molecule:Initializing molecule with canonical smiles: COc1ccc2c(c1)ccc(c2)c1ccccc1c1cc(C)cc(c1)C\n",
      "INFO:aqc_utils.molecule:Creating initial geometry with option 'best'.\n",
      "INFO:aqc_utils.molecule:Initial geometry created successfully.\n",
      "INFO:aqc_utils.molecule:Initializing molecule with canonical smiles: COc1ccc2c(c1)ccc(c2)n1c2ccccc2c2c1cccc2\n",
      "INFO:aqc_utils.molecule:Creating initial geometry with option 'best'.\n",
      "INFO:aqc_utils.molecule:Initial geometry created successfully.\n",
      "INFO:aqc_utils.molecule:Initializing molecule with canonical smiles: COc1ccc2c(c1)ccc(c2)c1cc2ccc3c4c2c(c1)ccc4ccc3\n",
      "INFO:aqc_utils.molecule:Creating initial geometry with option 'best'.\n",
      "INFO:aqc_utils.molecule:Initial geometry created successfully.\n",
      "INFO:aqc_utils.molecule:Initializing molecule with canonical smiles: COc1ccc2c(c1)ccc(c2)/C=C/c1ccccc1\n",
      "INFO:aqc_utils.molecule:Creating initial geometry with option 'best'.\n",
      "INFO:aqc_utils.molecule:Initial geometry created successfully.\n",
      "INFO:aqc_utils.molecule:Initializing molecule with canonical smiles: COc1ccc2c(c1)cc(cc2)OC(C)C\n",
      "INFO:aqc_utils.molecule:Creating initial geometry with option 'best'.\n",
      "INFO:aqc_utils.molecule:Initial geometry created successfully.\n",
      "INFO:aqc_utils.molecule:Initializing molecule with canonical smiles: COc1ccc2c(c1)cc(cc2)N(c1ccccc1)c1ccccc1\n",
      "INFO:aqc_utils.molecule:Creating initial geometry with option 'best'.\n",
      "INFO:aqc_utils.molecule:Initial geometry created successfully.\n",
      "INFO:aqc_utils.molecule:Initializing molecule with canonical smiles: COc1ccc2c(c1)cc(cc2)c1ccccc1\n",
      "INFO:aqc_utils.molecule:Creating initial geometry with option 'best'.\n",
      "INFO:aqc_utils.molecule:Initial geometry created successfully.\n",
      "INFO:aqc_utils.molecule:Initializing molecule with canonical smiles: COc1ccc2c(c1)cc(cc2)c1ccc(cc1)C\n",
      "INFO:aqc_utils.molecule:Creating initial geometry with option 'best'.\n",
      "INFO:aqc_utils.molecule:Initial geometry created successfully.\n",
      "INFO:aqc_utils.molecule:Initializing molecule with canonical smiles: COc1ccc2c(c1)cc(cc2)c1ccc(cc1)C(C)(C)C\n",
      "INFO:aqc_utils.molecule:Creating initial geometry with option 'best'.\n",
      "INFO:aqc_utils.molecule:Initial geometry created successfully.\n",
      "INFO:aqc_utils.molecule:Initializing molecule with canonical smiles: COc1ccc2c(c1c1ccccc1)cccc2\n",
      "INFO:aqc_utils.molecule:Creating initial geometry with option 'best'.\n"
     ]
    },
    {
     "name": "stderr",
     "output_type": "stream",
     "text": [
      "INFO:aqc_utils.molecule:Initial geometry created successfully.\n",
      "INFO:aqc_utils.molecule:Initializing molecule with canonical smiles: COc1ccccc1\n",
      "INFO:aqc_utils.molecule:Creating initial geometry with option 'best'.\n",
      "INFO:aqc_utils.molecule:Initial geometry created successfully.\n",
      "INFO:aqc_utils.molecule:Initializing molecule with canonical smiles: COc1ccccc1C\n",
      "INFO:aqc_utils.molecule:Creating initial geometry with option 'best'.\n",
      "INFO:aqc_utils.molecule:Initial geometry created successfully.\n",
      "INFO:aqc_utils.molecule:Initializing molecule with canonical smiles: COc1cccc(c1)C\n",
      "INFO:aqc_utils.molecule:Creating initial geometry with option 'best'.\n",
      "INFO:aqc_utils.molecule:Initial geometry created successfully.\n",
      "INFO:aqc_utils.molecule:Initializing molecule with canonical smiles: COc1cc(C)cc(c1)C\n",
      "INFO:aqc_utils.molecule:Creating initial geometry with option 'best'.\n",
      "INFO:aqc_utils.molecule:Initial geometry created successfully.\n",
      "INFO:aqc_utils.molecule:Initializing molecule with canonical smiles: CCc1ccc(cc1)OC\n",
      "INFO:aqc_utils.molecule:Creating initial geometry with option 'best'.\n",
      "INFO:aqc_utils.molecule:Initial geometry created successfully.\n",
      "INFO:aqc_utils.molecule:Initializing molecule with canonical smiles: COc1ccc(cc1)C(C)(C)C\n",
      "INFO:aqc_utils.molecule:Creating initial geometry with option 'best'.\n",
      "INFO:aqc_utils.molecule:Initial geometry created successfully.\n",
      "INFO:aqc_utils.molecule:Initializing molecule with canonical smiles: COc1cccc(c1)c1ccccc1\n",
      "INFO:aqc_utils.molecule:Creating initial geometry with option 'best'.\n",
      "INFO:aqc_utils.molecule:Initial geometry created successfully.\n",
      "INFO:aqc_utils.molecule:Initializing molecule with canonical smiles: COc1cccc(c1)c1ccc(cc1)C\n",
      "INFO:aqc_utils.molecule:Creating initial geometry with option 'best'.\n",
      "INFO:aqc_utils.molecule:Initial geometry created successfully.\n",
      "INFO:aqc_utils.molecule:Initializing molecule with canonical smiles: COc1cccc(c1)c1ccc(cc1)C(C)(C)C\n",
      "INFO:aqc_utils.molecule:Creating initial geometry with option 'best'.\n",
      "INFO:aqc_utils.molecule:Initial geometry created successfully.\n",
      "INFO:aqc_utils.molecule:Initializing molecule with canonical smiles: COc1cccc(c1)N(c1ccccc1)c1ccccc1\n",
      "INFO:aqc_utils.molecule:Creating initial geometry with option 'best'.\n",
      "INFO:aqc_utils.molecule:Initial geometry created successfully.\n",
      "INFO:aqc_utils.molecule:Initializing molecule with canonical smiles: COc1ccc(cc1)N(c1ccccc1)c1ccccc1\n",
      "INFO:aqc_utils.molecule:Creating initial geometry with option 'best'.\n",
      "INFO:aqc_utils.molecule:Initial geometry created successfully.\n",
      "INFO:aqc_utils.molecule:Initializing molecule with canonical smiles: COc1cccc(c1)N(C)C\n",
      "INFO:aqc_utils.molecule:Creating initial geometry with option 'best'.\n",
      "INFO:aqc_utils.molecule:Initial geometry created successfully.\n",
      "INFO:aqc_utils.molecule:Initializing molecule with canonical smiles: COc1ccc(cc1)N(C)C\n",
      "INFO:aqc_utils.molecule:Creating initial geometry with option 'best'.\n",
      "INFO:aqc_utils.molecule:Initial geometry created successfully.\n",
      "INFO:aqc_utils.molecule:Initializing molecule with canonical smiles: COc1ccc(cc1)/C=C/c1ccccc1\n",
      "INFO:aqc_utils.molecule:Creating initial geometry with option 'best'.\n",
      "INFO:aqc_utils.molecule:Initial geometry created successfully.\n",
      "INFO:aqc_utils.molecule:Initializing molecule with canonical smiles: COc1ccc(cc1)n1cccc1\n",
      "INFO:aqc_utils.molecule:Creating initial geometry with option 'best'.\n",
      "INFO:aqc_utils.molecule:Initial geometry created successfully.\n",
      "INFO:aqc_utils.molecule:Initializing molecule with canonical smiles: COc1ccc(cc1)n1c2ccccc2c2c1cccc2\n",
      "INFO:aqc_utils.molecule:Creating initial geometry with option 'best'.\n",
      "INFO:aqc_utils.molecule:Initial geometry created successfully.\n",
      "INFO:aqc_utils.molecule:Initializing molecule with canonical smiles: COc1ccc2c(c1)CCC1C2CC[C@]2(C1CC[C@@H]2OC)C\n",
      "INFO:aqc_utils.molecule:Creating initial geometry with option 'best'.\n",
      "INFO:aqc_utils.molecule:Initial geometry created successfully.\n",
      "INFO:aqc_utils.molecule:Initializing molecule with canonical smiles: COc1ccc2c(c1)ccc(c2)Br\n",
      "INFO:aqc_utils.molecule:Creating initial geometry with option 'best'.\n",
      "INFO:aqc_utils.molecule:Initial geometry created successfully.\n",
      "INFO:aqc_utils.molecule:Initializing molecule with canonical smiles: COc1ccc2c(c1)ccc(c2)F\n",
      "INFO:aqc_utils.molecule:Creating initial geometry with option 'best'.\n",
      "INFO:aqc_utils.molecule:Initial geometry created successfully.\n",
      "INFO:aqc_utils.molecule:Initializing molecule with canonical smiles: COc1ccc2c(c1)ccc(c2)C(F)(F)F\n",
      "INFO:aqc_utils.molecule:Creating initial geometry with option 'best'.\n",
      "INFO:aqc_utils.molecule:Initial geometry created successfully.\n",
      "INFO:aqc_utils.molecule:Initializing molecule with canonical smiles: COc1ccc2c(c1)ccc(c2)C#N\n",
      "INFO:aqc_utils.molecule:Creating initial geometry with option 'best'.\n",
      "INFO:aqc_utils.molecule:Initial geometry created successfully.\n",
      "INFO:aqc_utils.molecule:Initializing molecule with canonical smiles: COc1ccc2c(c1)ccc(c2)C(=O)C\n",
      "INFO:aqc_utils.molecule:Creating initial geometry with option 'best'.\n",
      "INFO:aqc_utils.molecule:Initial geometry created successfully.\n",
      "INFO:aqc_utils.molecule:Initializing molecule with canonical smiles: COc1ccc2c(c1)ccc(c2)Oc1ccccc1\n",
      "INFO:aqc_utils.molecule:Creating initial geometry with option 'best'.\n",
      "INFO:aqc_utils.molecule:Initial geometry created successfully.\n",
      "INFO:aqc_utils.molecule:Initializing molecule with canonical smiles: COc1ccc(cc1)Br\n",
      "INFO:aqc_utils.molecule:Creating initial geometry with option 'best'.\n",
      "INFO:aqc_utils.molecule:Initial geometry created successfully.\n",
      "INFO:aqc_utils.molecule:Initializing molecule with canonical smiles: COc1ccc(cc1)I\n",
      "INFO:aqc_utils.molecule:Creating initial geometry with option 'best'.\n",
      "INFO:aqc_utils.molecule:Initial geometry created successfully.\n",
      "INFO:aqc_utils.molecule:Initializing molecule with canonical smiles: COc1ccc(cc1)C(F)(F)F\n",
      "INFO:aqc_utils.molecule:Creating initial geometry with option 'best'.\n",
      "INFO:aqc_utils.molecule:Initial geometry created successfully.\n",
      "INFO:aqc_utils.molecule:Initializing molecule with canonical smiles: COc1ccc(cc1)C#N\n",
      "INFO:aqc_utils.molecule:Creating initial geometry with option 'best'.\n",
      "INFO:aqc_utils.molecule:Initial geometry created successfully.\n",
      "INFO:aqc_utils.molecule:Initializing molecule with canonical smiles: COc1ccc(cc1)[N+](=O)[O-]\n",
      "INFO:aqc_utils.molecule:Creating initial geometry with option 'best'.\n",
      "INFO:aqc_utils.molecule:Initial geometry created successfully.\n",
      "INFO:aqc_utils.molecule:Initializing molecule with canonical smiles: COc1ccc(cc1)C(c1ccccc1)Cl\n",
      "INFO:aqc_utils.molecule:Creating initial geometry with option 'best'.\n",
      "INFO:aqc_utils.molecule:Initial geometry created successfully.\n",
      "INFO:aqc_utils.molecule:Initializing molecule with canonical smiles: COc1cccc(c1)C(F)(F)F\n",
      "INFO:aqc_utils.molecule:Creating initial geometry with option 'best'.\n",
      "INFO:aqc_utils.molecule:Initial geometry created successfully.\n",
      "INFO:aqc_utils.molecule:Initializing molecule with canonical smiles: COc1cccc(c1)C#N\n",
      "INFO:aqc_utils.molecule:Creating initial geometry with option 'best'.\n",
      "INFO:aqc_utils.molecule:Initial geometry created successfully.\n",
      "INFO:aqc_utils.molecule:Initializing molecule with canonical smiles: COc1cccc(c1)[N+](=O)[O-]\n",
      "INFO:aqc_utils.molecule:Creating initial geometry with option 'best'.\n",
      "INFO:aqc_utils.molecule:Initial geometry created successfully.\n",
      "INFO:aqc_utils.molecule:Initializing molecule with canonical smiles: COc1cccc(c1)C(=O)C\n",
      "INFO:aqc_utils.molecule:Creating initial geometry with option 'best'.\n",
      "INFO:aqc_utils.molecule:Initial geometry created successfully.\n",
      "INFO:aqc_utils.molecule:Initializing molecule with canonical smiles: COc1cccc(c1)C(=O)OC\n",
      "INFO:aqc_utils.molecule:Creating initial geometry with option 'best'.\n",
      "INFO:aqc_utils.molecule:Initial geometry created successfully.\n",
      "INFO:aqc_utils.molecule:Initializing molecule with canonical smiles: CC(=O)Oc1ccc2c(c1)cccc2\n",
      "INFO:aqc_utils.molecule:Creating initial geometry with option 'best'.\n",
      "INFO:aqc_utils.molecule:Initial geometry created successfully.\n",
      "INFO:aqc_utils.molecule:Initializing molecule with canonical smiles: CCC(=O)Oc1ccc2c(c1)cccc2\n",
      "INFO:aqc_utils.molecule:Creating initial geometry with option 'best'.\n",
      "INFO:aqc_utils.molecule:Initial geometry created successfully.\n",
      "INFO:aqc_utils.molecule:Initializing molecule with canonical smiles: O=C(C(C)C)Oc1ccc2c(c1)cccc2\n"
     ]
    },
    {
     "name": "stderr",
     "output_type": "stream",
     "text": [
      "INFO:aqc_utils.molecule:Creating initial geometry with option 'best'.\n",
      "INFO:aqc_utils.molecule:Initial geometry created successfully.\n",
      "INFO:aqc_utils.molecule:Initializing molecule with canonical smiles: O=C(C(F)(F)F)Oc1ccc2c(c1)cccc2\n",
      "INFO:aqc_utils.molecule:Creating initial geometry with option 'best'.\n",
      "INFO:aqc_utils.molecule:Initial geometry created successfully.\n",
      "INFO:aqc_utils.molecule:Initializing molecule with canonical smiles: O=C(c1ccccc1)Oc1ccc2c(c1)cccc2\n",
      "INFO:aqc_utils.molecule:Creating initial geometry with option 'best'.\n",
      "INFO:aqc_utils.molecule:Initial geometry created successfully.\n",
      "INFO:aqc_utils.molecule:Initializing molecule with canonical smiles: O=C(c1ccccn1)Oc1ccc2c(c1)cccc2\n",
      "INFO:aqc_utils.molecule:Creating initial geometry with option 'best'.\n",
      "INFO:aqc_utils.molecule:Initial geometry created successfully.\n",
      "INFO:aqc_utils.molecule:Initializing molecule with canonical smiles: Cc1cc(C)c(c(c1)C)C(=O)Oc1ccc2c(c1)cccc2\n",
      "INFO:aqc_utils.molecule:Creating initial geometry with option 'best'.\n",
      "INFO:aqc_utils.molecule:Initial geometry created successfully.\n",
      "INFO:aqc_utils.molecule:Initializing molecule with canonical smiles: O=C(c1c(Cl)cccc1Cl)Oc1ccc2c(c1)cccc2\n",
      "INFO:aqc_utils.molecule:Creating initial geometry with option 'best'.\n",
      "INFO:aqc_utils.molecule:Initial geometry created successfully.\n",
      "INFO:aqc_utils.molecule:Initializing molecule with canonical smiles: CC(=O)Oc1ccc2c(c1)ccc(c2)C(=O)C\n",
      "INFO:aqc_utils.molecule:Creating initial geometry with option 'best'.\n",
      "INFO:aqc_utils.molecule:Initial geometry created successfully.\n",
      "INFO:aqc_utils.molecule:Initializing molecule with canonical smiles: COCc1ccc2c(c1)ccc(c2)OC(=O)C\n",
      "INFO:aqc_utils.molecule:Creating initial geometry with option 'best'.\n",
      "INFO:aqc_utils.molecule:Initial geometry created successfully.\n",
      "INFO:aqc_utils.molecule:Initializing molecule with canonical smiles: COC(=O)c1ccc2c(c1)ccc(c2)OC(=O)C\n",
      "INFO:aqc_utils.molecule:Creating initial geometry with option 'best'.\n",
      "INFO:aqc_utils.molecule:Initial geometry created successfully.\n",
      "INFO:aqc_utils.molecule:Initializing molecule with canonical smiles: COCOc1ccc2c(c1)ccc(c2)OC(=O)C\n",
      "INFO:aqc_utils.molecule:Creating initial geometry with option 'best'.\n",
      "INFO:aqc_utils.molecule:Initial geometry created successfully.\n",
      "INFO:aqc_utils.molecule:Initializing molecule with canonical smiles: COc1ccc2c(c1)ccc(c2)OC(=O)C\n",
      "INFO:aqc_utils.molecule:Creating initial geometry with option 'best'.\n",
      "INFO:aqc_utils.molecule:Initial geometry created successfully.\n",
      "INFO:aqc_utils.molecule:Initializing molecule with canonical smiles: CC(=O)Oc1ccc2c(c1)ccc(c2)O\n",
      "INFO:aqc_utils.molecule:Creating initial geometry with option 'best'.\n",
      "INFO:aqc_utils.molecule:Initial geometry created successfully.\n",
      "INFO:aqc_utils.molecule:Initializing molecule with canonical smiles: COCc1c(OC)ccc2c1ccc(c2)OC(=O)C\n",
      "INFO:aqc_utils.molecule:Creating initial geometry with option 'best'.\n",
      "INFO:aqc_utils.molecule:Initial geometry created successfully.\n",
      "INFO:aqc_utils.molecule:Initializing molecule with canonical smiles: CC(=O)Oc1ccc2c(c1)ccc(c2)c1ccccc1\n",
      "INFO:aqc_utils.molecule:Creating initial geometry with option 'best'.\n",
      "INFO:aqc_utils.molecule:Initial geometry created successfully.\n",
      "INFO:aqc_utils.molecule:Initializing molecule with canonical smiles: COc1ccc(cc1)c1ccc2c(c1)ccc(c2)OC(=O)C\n",
      "INFO:aqc_utils.molecule:Creating initial geometry with option 'best'.\n",
      "INFO:aqc_utils.molecule:Initial geometry created successfully.\n",
      "INFO:aqc_utils.molecule:Initializing molecule with canonical smiles: CC(=O)Oc1cccc2c1cccc2\n",
      "INFO:aqc_utils.molecule:Creating initial geometry with option 'best'.\n",
      "INFO:aqc_utils.molecule:Initial geometry created successfully.\n",
      "INFO:aqc_utils.molecule:Initializing molecule with canonical smiles: COC(=O)c1ccc(cc1)OC(=O)C(C)(C)C\n",
      "INFO:aqc_utils.molecule:Creating initial geometry with option 'best'.\n",
      "INFO:aqc_utils.molecule:Initial geometry created successfully.\n",
      "INFO:aqc_utils.molecule:Initializing molecule with canonical smiles: O=C(C(C)(C)C)Oc1ccc(cc1)C(=O)C\n",
      "INFO:aqc_utils.molecule:Creating initial geometry with option 'best'.\n",
      "INFO:aqc_utils.molecule:Initial geometry created successfully.\n",
      "INFO:aqc_utils.molecule:Initializing molecule with canonical smiles: O=C(C(C)(C)C)Oc1ccc(cc1)F\n",
      "INFO:aqc_utils.molecule:Creating initial geometry with option 'best'.\n",
      "INFO:aqc_utils.molecule:Initial geometry created successfully.\n",
      "INFO:aqc_utils.molecule:Initializing molecule with canonical smiles: O=C(C(C)(C)C)Oc1cccc(c1)C(F)(F)F\n",
      "INFO:aqc_utils.molecule:Creating initial geometry with option 'best'.\n",
      "INFO:aqc_utils.molecule:Initial geometry created successfully.\n",
      "INFO:aqc_utils.molecule:Initializing molecule with canonical smiles: O=C(C(C)(C)C)Oc1ccc(cc1)c1ccccc1\n",
      "INFO:aqc_utils.molecule:Creating initial geometry with option 'best'.\n",
      "INFO:aqc_utils.molecule:Initial geometry created successfully.\n",
      "INFO:aqc_utils.molecule:Initializing molecule with canonical smiles: O=C(C(C)(C)C)Oc1ccccc1\n",
      "INFO:aqc_utils.molecule:Creating initial geometry with option 'best'.\n",
      "INFO:aqc_utils.molecule:Initial geometry created successfully.\n",
      "INFO:aqc_utils.molecule:Initializing molecule with canonical smiles: COc1cc(ccc1OC(=O)C(C)(C)C)C(=O)C\n",
      "INFO:aqc_utils.molecule:Creating initial geometry with option 'best'.\n",
      "INFO:aqc_utils.molecule:Initial geometry created successfully.\n",
      "INFO:aqc_utils.molecule:Initializing molecule with canonical smiles: O=C(C(C)(C)C)Oc1ccc2c(c1)oc(cc2=O)c1ccccc1\n",
      "INFO:aqc_utils.molecule:Creating initial geometry with option 'best'.\n",
      "INFO:aqc_utils.molecule:Initial geometry created successfully.\n",
      "INFO:aqc_utils.molecule:Initializing molecule with canonical smiles: COc1ccc2c(c1)cc(cc2)OC(=O)C(C)(C)C\n",
      "INFO:aqc_utils.molecule:Creating initial geometry with option 'best'.\n",
      "INFO:aqc_utils.molecule:Initial geometry created successfully.\n",
      "INFO:aqc_utils.molecule:Initializing molecule with canonical smiles: O=C(C(C)(C)C)Oc1cccc2c1cccc2\n",
      "INFO:aqc_utils.molecule:Creating initial geometry with option 'best'.\n",
      "INFO:aqc_utils.molecule:Initial geometry created successfully.\n",
      "INFO:aqc_utils.molecule:Initializing molecule with canonical smiles: O=C(C12CC3CC(C2)CC(C1)C3)Oc1ccc2c(c1)cccc2\n",
      "INFO:aqc_utils.molecule:Creating initial geometry with option 'best'.\n",
      "INFO:aqc_utils.molecule:Initial geometry created successfully.\n",
      "INFO:aqc_utils.molecule:Initializing molecule with canonical smiles: O=C(c1c(cc(cc1C(C)C)C(C)C)C(C)C)Oc1ccc2c(c1)cccc2\n",
      "INFO:aqc_utils.molecule:Creating initial geometry with option 'best'.\n",
      "INFO:aqc_utils.molecule:Initial geometry created successfully.\n",
      "INFO:aqc_utils.molecule:Initializing molecule with canonical smiles: O=C(C(C)(C)C)Oc1ccc2c(c1)cccn2\n",
      "INFO:aqc_utils.molecule:Creating initial geometry with option 'best'.\n",
      "INFO:aqc_utils.molecule:Initial geometry created successfully.\n",
      "INFO:aqc_utils.molecule:Initializing molecule with canonical smiles: COC(=O)c1ccc2c(c1)ccc(c2)OC(=O)C(C)(C)C\n",
      "INFO:aqc_utils.molecule:Creating initial geometry with option 'best'.\n",
      "INFO:aqc_utils.molecule:Initial geometry created successfully.\n",
      "INFO:aqc_utils.molecule:Initializing molecule with canonical smiles: COc1ccc(c2c1cccc2)OC(=O)C(C)(C)C\n",
      "INFO:aqc_utils.molecule:Creating initial geometry with option 'best'.\n",
      "INFO:aqc_utils.molecule:Initial geometry created successfully.\n",
      "INFO:aqc_utils.molecule:Initializing molecule with canonical smiles: O=C(C(C)(C)C)Oc1cccc2c1cccn2\n",
      "INFO:aqc_utils.molecule:Creating initial geometry with option 'best'.\n",
      "INFO:aqc_utils.molecule:Initial geometry created successfully.\n",
      "INFO:aqc_utils.molecule:Initializing molecule with canonical smiles: O=C(C(C)(C)C)Oc1cccc2c1nccc2\n",
      "INFO:aqc_utils.molecule:Creating initial geometry with option 'best'.\n",
      "INFO:aqc_utils.molecule:Initial geometry created successfully.\n",
      "INFO:aqc_utils.molecule:Initializing molecule with canonical smiles: COC(=O)[C@@H](N(C(=O)C(C)(C)C)c1ccccc1)Cc1ccc(cc1)OC(=O)C(C)(C)C\n",
      "INFO:aqc_utils.molecule:Creating initial geometry with option 'best'.\n",
      "INFO:aqc_utils.molecule:Initial geometry created successfully.\n",
      "INFO:aqc_utils.molecule:Initializing molecule with canonical smiles: O=C(C(C)(C)C)Oc1ccc2c(c1)CCC1C2CC[C@]2(C1CCC2=O)C\n",
      "INFO:aqc_utils.molecule:Creating initial geometry with option 'best'.\n",
      "INFO:aqc_utils.molecule:Initial geometry created successfully.\n",
      "INFO:aqc_utils.molecule:Initializing molecule with canonical smiles: Fc1cccc(c1)c1ccc2c(c1)ccc(c2)OC(=O)C(C)(C)C\n"
     ]
    },
    {
     "name": "stderr",
     "output_type": "stream",
     "text": [
      "INFO:aqc_utils.molecule:Creating initial geometry with option 'best'.\n",
      "INFO:aqc_utils.molecule:Initial geometry created successfully.\n",
      "INFO:aqc_utils.molecule:Initializing molecule with canonical smiles: O=C(C(C)(C)C)Nc1cccc2c1cc(cc2)OC(=O)C(C)(C)C\n",
      "INFO:aqc_utils.molecule:Creating initial geometry with option 'best'.\n",
      "INFO:aqc_utils.molecule:Initial geometry created successfully.\n",
      "INFO:aqc_utils.molecule:Initializing molecule with canonical smiles: COC(=O)c1cc2ccccc2cc1OC(=O)C(C)(C)C\n",
      "INFO:aqc_utils.molecule:Creating initial geometry with option 'best'.\n",
      "INFO:aqc_utils.molecule:Initial geometry created successfully.\n",
      "INFO:aqc_utils.molecule:Initializing molecule with canonical smiles: O=C(C(C)(C)C)Oc1ccc2c(c1)cc(cc2)[Si](C(C)C)(C(C)C)C(C)C\n",
      "INFO:aqc_utils.molecule:Creating initial geometry with option 'best'.\n",
      "INFO:aqc_utils.molecule:Initial geometry created successfully.\n",
      "INFO:aqc_utils.molecule:Initializing molecule with canonical smiles: Cc1cc(OC(=O)C(C)(C)C)c2c(n1)cccc2\n",
      "INFO:aqc_utils.molecule:Creating initial geometry with option 'best'.\n",
      "INFO:aqc_utils.molecule:Initial geometry created successfully.\n",
      "INFO:aqc_utils.molecule:Initializing molecule with canonical smiles: O=C(C(C)(C)C)Oc1ccc(cc1)C(C)(C)C\n",
      "INFO:aqc_utils.molecule:Creating initial geometry with option 'best'.\n",
      "INFO:aqc_utils.molecule:Initial geometry created successfully.\n",
      "INFO:aqc_utils.molecule:Initializing molecule with canonical smiles: O=C(C(C)(C)C)Oc1ccc(cc1)C(F)(F)F\n",
      "INFO:aqc_utils.molecule:Creating initial geometry with option 'best'.\n",
      "INFO:aqc_utils.molecule:Initial geometry created successfully.\n",
      "INFO:aqc_utils.molecule:Initializing molecule with canonical smiles: O=C(C(C)(C)C)Oc1ccc(cc1)B1OC(C(O1)(C)C)(C)C\n",
      "INFO:aqc_utils.molecule:Creating initial geometry with option 'best'.\n",
      "INFO:aqc_utils.molecule:Initial geometry created successfully.\n",
      "INFO:aqc_utils.molecule:Initializing molecule with canonical smiles: O=C(C(C)(C)C)Oc1ccc(cc1)C(=O)C(C)(C)C\n",
      "INFO:aqc_utils.molecule:Creating initial geometry with option 'best'.\n",
      "INFO:aqc_utils.molecule:Initial geometry created successfully.\n",
      "INFO:aqc_utils.molecule:Initializing molecule with canonical smiles: COc1cccc(c1)OC(=O)C(C)(C)C\n",
      "INFO:aqc_utils.molecule:Creating initial geometry with option 'best'.\n",
      "INFO:aqc_utils.molecule:Initial geometry created successfully.\n",
      "INFO:aqc_utils.molecule:Initializing molecule with canonical smiles: O=C(C(C)(C)C)Oc1cccc(c1)N(C)C\n",
      "INFO:aqc_utils.molecule:Creating initial geometry with option 'best'.\n",
      "INFO:aqc_utils.molecule:Initial geometry created successfully.\n",
      "INFO:aqc_utils.molecule:Initializing molecule with canonical smiles: Cc1ccc(c(c1)OC(=O)C(C)(C)C)C\n",
      "INFO:aqc_utils.molecule:Creating initial geometry with option 'best'.\n",
      "INFO:aqc_utils.molecule:Initial geometry created successfully.\n",
      "INFO:aqc_utils.molecule:Initializing molecule with canonical smiles: O=C(C(C)(C)C)Oc1ccccc1c1ccccc1\n",
      "INFO:aqc_utils.molecule:Creating initial geometry with option 'best'.\n",
      "INFO:aqc_utils.molecule:Initial geometry created successfully.\n",
      "INFO:aqc_utils.molecule:Initializing molecule with canonical smiles: O=C(C(C)(C)C)Oc1ccc2c(c1)OCO2\n",
      "INFO:aqc_utils.molecule:Creating initial geometry with option 'best'.\n",
      "INFO:aqc_utils.molecule:Initial geometry created successfully.\n",
      "INFO:aqc_utils.molecule:Initializing molecule with canonical smiles: O=C(C(C)(C)C)Oc1ccc2c(c1)oc1c2cccc1\n",
      "INFO:aqc_utils.molecule:Creating initial geometry with option 'best'.\n",
      "INFO:aqc_utils.molecule:Initial geometry created successfully.\n",
      "INFO:aqc_utils.molecule:Initializing molecule with canonical smiles: COc1ccccc1C(=O)Oc1ccc2c(c1)cccc2\n",
      "INFO:aqc_utils.molecule:Creating initial geometry with option 'best'.\n",
      "INFO:aqc_utils.molecule:Initial geometry created successfully.\n",
      "INFO:aqc_utils.molecule:Initializing molecule with canonical smiles: O=C(C(C)(C)C)Oc1ccc2c(c1)ccc(c2)c1ccccc1\n",
      "INFO:aqc_utils.molecule:Creating initial geometry with option 'best'.\n",
      "INFO:aqc_utils.molecule:Initial geometry created successfully.\n",
      "INFO:aqc_utils.molecule:Initializing molecule with canonical smiles: O=C(C(C)(C)C)Oc1ccc(c2c1cccc2)Cc1ccccc1\n",
      "INFO:aqc_utils.molecule:Creating initial geometry with option 'best'.\n",
      "INFO:aqc_utils.molecule:Initial geometry created successfully.\n",
      "INFO:aqc_utils.molecule:Initializing molecule with canonical smiles: CN(C(=O)C(C)(C)C)c1ccc(c2c1cccc2)OC(=O)C(C)(C)C\n",
      "INFO:aqc_utils.molecule:Creating initial geometry with option 'best'.\n",
      "INFO:aqc_utils.molecule:Initial geometry created successfully.\n",
      "INFO:aqc_utils.molecule:Initializing molecule with canonical smiles: O=C(C(C)(C)C)Oc1ccc(c2c1cccc2)[N+](=O)[O-]\n",
      "INFO:aqc_utils.molecule:Creating initial geometry with option 'best'.\n",
      "INFO:aqc_utils.molecule:Initial geometry created successfully.\n",
      "INFO:aqc_utils.molecule:Initializing molecule with canonical smiles: O=C(C(C)(C)C)Oc1ccc2c(c1)c(ccc2)N(C)C\n",
      "INFO:aqc_utils.molecule:Creating initial geometry with option 'best'.\n",
      "INFO:aqc_utils.molecule:Initial geometry created successfully.\n",
      "INFO:aqc_utils.molecule:Initializing molecule with canonical smiles: O=C(C(C)(C)C)Oc1ccc2c(c1)cc(cc2)N(C)C\n",
      "INFO:aqc_utils.molecule:Creating initial geometry with option 'best'.\n",
      "INFO:aqc_utils.molecule:Initial geometry created successfully.\n",
      "INFO:aqc_utils.molecule:Initializing molecule with canonical smiles: O=C(C(C)(C)C)Oc1ccc2c(c1)cc(cc2)n1cccn1\n",
      "INFO:aqc_utils.molecule:Creating initial geometry with option 'best'.\n",
      "INFO:aqc_utils.molecule:Initial geometry created successfully.\n",
      "INFO:aqc_utils.molecule:Initializing molecule with canonical smiles: O=C(C(C)(C)C)Oc1ccc2c(c1)cc(cc2)n1cncc1\n",
      "INFO:aqc_utils.molecule:Creating initial geometry with option 'best'.\n",
      "INFO:aqc_utils.molecule:Initial geometry created successfully.\n",
      "INFO:aqc_utils.molecule:Initializing molecule with canonical smiles: Cn1c2ccccc2c2c1cc(cc2)OC(=O)C(C)(C)C\n",
      "INFO:aqc_utils.molecule:Creating initial geometry with option 'best'.\n",
      "INFO:aqc_utils.molecule:Initial geometry created successfully.\n",
      "INFO:aqc_utils.molecule:Initializing molecule with canonical smiles: COc1cc2cc(ccc2cc1c1ccccc1)OC(=O)C(C)(C)C\n",
      "INFO:aqc_utils.molecule:Creating initial geometry with option 'best'.\n",
      "INFO:aqc_utils.molecule:Initial geometry created successfully.\n",
      "INFO:aqc_utils.molecule:Initializing molecule with canonical smiles: O=C(C(C)(C)C)Oc1cccc2c1ccc(c2)O[Si](C(C)(C)C)(C)C\n",
      "INFO:aqc_utils.molecule:Creating initial geometry with option 'best'.\n",
      "INFO:aqc_utils.molecule:Initial geometry created successfully.\n",
      "INFO:aqc_utils.molecule:Initializing molecule with canonical smiles: O=C(C(C)(C)C)Oc1ccc2c(c1)cccc2O[Si](C(C)(C)C)(C)C\n",
      "INFO:aqc_utils.molecule:Creating initial geometry with option 'best'.\n",
      "INFO:aqc_utils.molecule:Initial geometry created successfully.\n",
      "INFO:aqc_utils.molecule:Initializing molecule with canonical smiles: O=C(C(C)(C)C)Oc1ccc2c(c1)ccc(c2)O[Si](C(C)(C)C)(C)C\n",
      "INFO:aqc_utils.molecule:Creating initial geometry with option 'best'.\n",
      "INFO:aqc_utils.molecule:Initial geometry created successfully.\n",
      "INFO:aqc_utils.molecule:Initializing molecule with canonical smiles: O=C(C(C)(C)C)Oc1cccc2c1cccc2O[Si](C(C)(C)C)(C)C\n",
      "INFO:aqc_utils.molecule:Creating initial geometry with option 'best'.\n",
      "INFO:aqc_utils.molecule:Initial geometry created successfully.\n",
      "INFO:aqc_utils.molecule:Initializing molecule with canonical smiles: CC(OCOc1ccccc1)(C)C\n",
      "INFO:aqc_utils.molecule:Creating initial geometry with option 'best'.\n",
      "INFO:aqc_utils.molecule:Initial geometry created successfully.\n",
      "INFO:aqc_utils.molecule:Initializing molecule with canonical smiles: COCOc1ccccc1\n",
      "INFO:aqc_utils.molecule:Creating initial geometry with option 'best'.\n",
      "INFO:aqc_utils.molecule:Initial geometry created successfully.\n",
      "INFO:aqc_utils.molecule:Initializing molecule with canonical smiles: C(Oc1ccccc1)Oc1ccccc1\n",
      "INFO:aqc_utils.molecule:Creating initial geometry with option 'best'.\n",
      "INFO:aqc_utils.molecule:Initial geometry created successfully.\n",
      "INFO:aqc_utils.molecule:Initializing molecule with canonical smiles: CCN(C(=O)Oc1ccccc1)CC\n",
      "INFO:aqc_utils.molecule:Creating initial geometry with option 'best'.\n",
      "INFO:aqc_utils.molecule:Initial geometry created successfully.\n",
      "INFO:aqc_utils.molecule:Initializing molecule with canonical smiles: O=C(C(C)(C)C)Oc1ccc(cc1)/C=C/c1ccccc1\n",
      "INFO:aqc_utils.molecule:Creating initial geometry with option 'best'.\n"
     ]
    },
    {
     "name": "stderr",
     "output_type": "stream",
     "text": [
      "INFO:aqc_utils.molecule:Initial geometry created successfully.\n",
      "INFO:aqc_utils.molecule:Initializing molecule with canonical smiles: CCN(c1cccc(c1)OC(=O)C(C)(C)C)CC\n",
      "INFO:aqc_utils.molecule:Creating initial geometry with option 'best'.\n",
      "INFO:aqc_utils.molecule:Initial geometry created successfully.\n",
      "INFO:aqc_utils.molecule:Initializing molecule with canonical smiles: O=C(C(C)(C)C)Oc1cc2ccccc2c2c1cccc2\n",
      "INFO:aqc_utils.molecule:Creating initial geometry with option 'best'.\n",
      "INFO:aqc_utils.molecule:Initial geometry created successfully.\n",
      "INFO:aqc_utils.molecule:Initializing molecule with canonical smiles: O=C(OC(C)(C)C)Oc1ccc2c(c1)cccc2\n",
      "INFO:aqc_utils.molecule:Creating initial geometry with option 'best'.\n",
      "INFO:aqc_utils.molecule:Initial geometry created successfully.\n",
      "INFO:aqc_utils.molecule:Initializing molecule with canonical smiles: O=C(C(C)(C)C)Oc1cccnc1\n",
      "INFO:aqc_utils.molecule:Creating initial geometry with option 'best'.\n",
      "INFO:aqc_utils.molecule:Initial geometry created successfully.\n",
      "INFO:aqc_utils.molecule:Initializing molecule with canonical smiles: N#Cc1ccc2c(c1)ccc(c2)OC(=O)C(C)(C)C\n",
      "INFO:aqc_utils.molecule:Creating initial geometry with option 'best'.\n",
      "INFO:aqc_utils.molecule:Initial geometry created successfully.\n",
      "INFO:aqc_utils.molecule:Initializing molecule with canonical smiles: Cc1ccc(cc1)OC(=O)C(C)(C)C\n",
      "INFO:aqc_utils.molecule:Creating initial geometry with option 'best'.\n",
      "INFO:aqc_utils.molecule:Initial geometry created successfully.\n",
      "INFO:aqc_utils.molecule:Initializing molecule with canonical smiles: O=C(C(C)(C)C)Oc1ccccc1C\n",
      "INFO:aqc_utils.molecule:Creating initial geometry with option 'best'.\n",
      "INFO:aqc_utils.molecule:Initial geometry created successfully.\n",
      "INFO:aqc_utils.molecule:Initializing molecule with canonical smiles: O=C(OC(C)(C)C)Oc1cccc2c1cccc2\n",
      "INFO:aqc_utils.molecule:Creating initial geometry with option 'best'.\n",
      "INFO:aqc_utils.molecule:Initial geometry created successfully.\n",
      "INFO:aqc_utils.molecule:Initializing molecule with canonical smiles: CCN(C(=O)Oc1cccc2c1cccc2)CC\n",
      "INFO:aqc_utils.molecule:Creating initial geometry with option 'best'.\n",
      "INFO:aqc_utils.molecule:Initial geometry created successfully.\n",
      "INFO:aqc_utils.molecule:Initializing molecule with canonical smiles: O=C(c1ccccc1)Oc1cccc2c1cccc2\n",
      "INFO:aqc_utils.molecule:Creating initial geometry with option 'best'.\n",
      "INFO:aqc_utils.molecule:Initial geometry created successfully.\n",
      "INFO:aqc_utils.molecule:Initializing molecule with canonical smiles: O=C(C(C)(C)C)Oc1c2ccccc2cc2c1cccc2\n",
      "INFO:aqc_utils.molecule:Creating initial geometry with option 'best'.\n",
      "INFO:aqc_utils.molecule:Initial geometry created successfully.\n",
      "INFO:aqc_utils.molecule:Initializing molecule with canonical smiles: CCN(C(=O)Oc1c2ccccc2cc2c1cccc2)CC\n",
      "INFO:aqc_utils.molecule:Creating initial geometry with option 'best'.\n",
      "INFO:aqc_utils.molecule:Initial geometry created successfully.\n",
      "INFO:aqc_utils.molecule:Initializing molecule with canonical smiles: O=C(C(C)C)Oc1c2ccccc2cc2c1cccc2\n",
      "INFO:aqc_utils.molecule:Creating initial geometry with option 'best'.\n",
      "INFO:aqc_utils.molecule:Initial geometry created successfully.\n",
      "INFO:aqc_utils.molecule:Initializing molecule with canonical smiles: CCC(=O)Oc1c2ccccc2cc2c1cccc2\n",
      "INFO:aqc_utils.molecule:Creating initial geometry with option 'best'.\n",
      "INFO:aqc_utils.molecule:Initial geometry created successfully.\n",
      "INFO:aqc_utils.molecule:Initializing molecule with canonical smiles: CC(=O)Oc1c2ccccc2cc2c1cccc2\n",
      "INFO:aqc_utils.molecule:Creating initial geometry with option 'best'.\n",
      "INFO:aqc_utils.molecule:Initial geometry created successfully.\n",
      "INFO:aqc_utils.molecule:Initializing molecule with canonical smiles: O=C(c1ccccc1)Oc1c2ccccc2cc2c1cccc2\n",
      "INFO:aqc_utils.molecule:Creating initial geometry with option 'best'.\n",
      "INFO:aqc_utils.molecule:Initial geometry created successfully.\n",
      "INFO:aqc_utils.molecule:Initializing molecule with canonical smiles: Cc1cc(C)c(c(c1)C)C(=O)Oc1c2ccccc2cc2c1cccc2\n",
      "INFO:aqc_utils.molecule:Creating initial geometry with option 'best'.\n",
      "INFO:aqc_utils.molecule:Initial geometry created successfully.\n",
      "INFO:aqc_utils.molecule:Initializing molecule with canonical smiles: O=C(Oc1c2ccccc2cc2c1cccc2)Cc1ccccc1\n",
      "INFO:aqc_utils.molecule:Creating initial geometry with option 'best'.\n",
      "INFO:aqc_utils.molecule:Initial geometry created successfully.\n",
      "INFO:aqc_utils.molecule:Initializing molecule with canonical smiles: CCN(C(=O)Oc1ccc2c(c1)cccc2)CC\n",
      "INFO:aqc_utils.molecule:Creating initial geometry with option 'best'.\n",
      "INFO:aqc_utils.molecule:Initial geometry created successfully.\n",
      "INFO:aqc_utils.molecule:Initializing molecule with canonical smiles: CCN(C(=O)Oc1ccc2c(c1)ccc(c2)C(=O)OC)CC\n",
      "INFO:aqc_utils.molecule:Creating initial geometry with option 'best'.\n",
      "INFO:aqc_utils.molecule:Initial geometry created successfully.\n",
      "INFO:aqc_utils.molecule:Initializing molecule with canonical smiles: CCN(C(=O)Oc1ccc(c2c1cccc2)OC)CC\n",
      "INFO:aqc_utils.molecule:Creating initial geometry with option 'best'.\n",
      "INFO:aqc_utils.molecule:Initial geometry created successfully.\n",
      "INFO:aqc_utils.molecule:Initializing molecule with canonical smiles: CCN(C(=O)Oc1ccc(cc1)OC)CC\n",
      "INFO:aqc_utils.molecule:Creating initial geometry with option 'best'.\n",
      "INFO:aqc_utils.molecule:Initial geometry created successfully.\n",
      "INFO:aqc_utils.molecule:Initializing molecule with canonical smiles: COc1ccc(c2c1cccc2)OC(=O)OC(C)(C)C\n",
      "INFO:aqc_utils.molecule:Creating initial geometry with option 'best'.\n",
      "INFO:aqc_utils.molecule:Initial geometry created successfully.\n",
      "INFO:aqc_utils.molecule:Initializing molecule with canonical smiles: CCN(C(=O)Oc1ccc2c(c1)OCO2)CC\n",
      "INFO:aqc_utils.molecule:Creating initial geometry with option 'best'.\n",
      "INFO:aqc_utils.molecule:Initial geometry created successfully.\n",
      "INFO:aqc_utils.molecule:Initializing molecule with canonical smiles: CCN(C(=O)Oc1cccc(c1)F)CC\n",
      "INFO:aqc_utils.molecule:Creating initial geometry with option 'best'.\n",
      "INFO:aqc_utils.molecule:Initial geometry created successfully.\n",
      "INFO:aqc_utils.molecule:Initializing molecule with canonical smiles: CCN(C(=O)Oc1ccc(cc1)C#N)CC\n",
      "INFO:aqc_utils.molecule:Creating initial geometry with option 'best'.\n",
      "INFO:aqc_utils.molecule:Initial geometry created successfully.\n",
      "INFO:aqc_utils.molecule:Initializing molecule with canonical smiles: CCN(C(=O)Oc1ccc(cc1C)C)CC\n",
      "INFO:aqc_utils.molecule:Creating initial geometry with option 'best'.\n",
      "INFO:aqc_utils.molecule:Initial geometry created successfully.\n",
      "INFO:aqc_utils.molecule:Initializing molecule with canonical smiles: CCN(C(=O)Oc1ccccc1Cc1ccccc1)CC\n",
      "INFO:aqc_utils.molecule:Creating initial geometry with option 'best'.\n",
      "INFO:aqc_utils.molecule:Initial geometry created successfully.\n",
      "INFO:aqc_utils.molecule:Initializing molecule with canonical smiles: CCN(C(=O)Oc1ccccc1/C=C/c1ccccc1)CC\n",
      "INFO:aqc_utils.molecule:Creating initial geometry with option 'best'.\n",
      "INFO:aqc_utils.molecule:Initial geometry created successfully.\n",
      "INFO:aqc_utils.molecule:Initializing molecule with canonical smiles: CCN(C(=O)Oc1ccccc1OC)CC\n",
      "INFO:aqc_utils.molecule:Creating initial geometry with option 'best'.\n",
      "INFO:aqc_utils.molecule:Initial geometry created successfully.\n",
      "INFO:aqc_utils.molecule:Initializing molecule with canonical smiles: CCN(C(=O)Oc1ccccc1c1ccccc1)CC\n",
      "INFO:aqc_utils.molecule:Creating initial geometry with option 'best'.\n",
      "INFO:aqc_utils.molecule:Initial geometry created successfully.\n",
      "INFO:aqc_utils.molecule:Initializing molecule with canonical smiles: CCN(C(=O)Oc1cccc2c1c1ccccc1[nH]2)CC\n",
      "INFO:aqc_utils.molecule:Creating initial geometry with option 'best'.\n",
      "INFO:aqc_utils.molecule:Initial geometry created successfully.\n",
      "INFO:aqc_utils.molecule:Initializing molecule with canonical smiles: CN(C(=O)Oc1ccc(cc1)N(C)C)C\n",
      "INFO:aqc_utils.molecule:Creating initial geometry with option 'best'.\n",
      "INFO:aqc_utils.molecule:Initial geometry created successfully.\n",
      "INFO:aqc_utils.molecule:Initializing molecule with canonical smiles: CN(C(=O)Oc1ccc(cc1)c1ccccc1)C\n",
      "INFO:aqc_utils.molecule:Creating initial geometry with option 'best'.\n",
      "INFO:aqc_utils.molecule:Initial geometry created successfully.\n",
      "INFO:aqc_utils.molecule:Initializing molecule with canonical smiles: COC(=O)c1ccc(cc1)OC(=O)N(C)C\n",
      "INFO:aqc_utils.molecule:Creating initial geometry with option 'best'.\n",
      "INFO:aqc_utils.molecule:Initial geometry created successfully.\n"
     ]
    },
    {
     "name": "stderr",
     "output_type": "stream",
     "text": [
      "INFO:aqc_utils.molecule:Initializing molecule with canonical smiles: O=C(N(C)C)Oc1ccc(cc1)C(=O)C\n",
      "INFO:aqc_utils.molecule:Creating initial geometry with option 'best'.\n",
      "INFO:aqc_utils.molecule:Initial geometry created successfully.\n",
      "INFO:aqc_utils.molecule:Initializing molecule with canonical smiles: O=C(N(C)C)Oc1ccc2c(c1)cccn2\n",
      "INFO:aqc_utils.molecule:Creating initial geometry with option 'best'.\n",
      "INFO:aqc_utils.molecule:Initial geometry created successfully.\n",
      "INFO:aqc_utils.molecule:Initializing molecule with canonical smiles: O=C(N(C)C)Oc1cccc2c1cccn2\n",
      "INFO:aqc_utils.molecule:Creating initial geometry with option 'best'.\n",
      "INFO:aqc_utils.molecule:Initial geometry created successfully.\n",
      "INFO:aqc_utils.molecule:Initializing molecule with canonical smiles: CCOC(=O)c1ccc(cc1)OC(=O)N(CC)CC\n",
      "INFO:aqc_utils.molecule:Creating initial geometry with option 'best'.\n",
      "INFO:aqc_utils.molecule:Initial geometry created successfully.\n",
      "INFO:aqc_utils.molecule:Initializing molecule with canonical smiles: CCN(C(=O)Oc1ccc(cc1)C)CC\n",
      "INFO:aqc_utils.molecule:Creating initial geometry with option 'best'.\n",
      "INFO:aqc_utils.molecule:Initial geometry created successfully.\n",
      "INFO:aqc_utils.molecule:Initializing molecule with canonical smiles: CCN(C(=O)Oc1ccc(cc1)c1ccccc1)CC\n",
      "INFO:aqc_utils.molecule:Creating initial geometry with option 'best'.\n",
      "INFO:aqc_utils.molecule:Initial geometry created successfully.\n",
      "INFO:aqc_utils.molecule:Initializing molecule with canonical smiles: CCN(C(=O)Oc1c(C)cccc1C)CC\n",
      "INFO:aqc_utils.molecule:Creating initial geometry with option 'best'.\n",
      "INFO:aqc_utils.molecule:Initial geometry created successfully.\n",
      "INFO:aqc_utils.molecule:Initializing molecule with canonical smiles: CCN(C(=O)Oc1cccc(c1)N(C)C)CC\n",
      "INFO:aqc_utils.molecule:Creating initial geometry with option 'best'.\n",
      "INFO:aqc_utils.molecule:Initial geometry created successfully.\n",
      "INFO:aqc_utils.molecule:Initializing molecule with canonical smiles: COC(=O)Oc1ccc(cc1)OC\n",
      "INFO:aqc_utils.molecule:Creating initial geometry with option 'best'.\n",
      "INFO:aqc_utils.molecule:Initial geometry created successfully.\n",
      "INFO:aqc_utils.molecule:Initializing molecule with canonical smiles: COC(=O)Oc1ccc(cc1)C(=O)OC(C)(C)C\n",
      "INFO:aqc_utils.molecule:Creating initial geometry with option 'best'.\n",
      "INFO:aqc_utils.molecule:Initial geometry created successfully.\n",
      "INFO:aqc_utils.molecule:Initializing molecule with canonical smiles: COC(=O)Oc1ccc2c(c1)cccc2\n",
      "INFO:aqc_utils.molecule:Creating initial geometry with option 'best'.\n",
      "INFO:aqc_utils.molecule:Initial geometry created successfully.\n",
      "INFO:aqc_utils.molecule:Initializing molecule with canonical smiles: CCN(C(=O)Oc1ccc(cc1)N(C)C)CC\n",
      "INFO:aqc_utils.molecule:Creating initial geometry with option 'best'.\n",
      "INFO:aqc_utils.molecule:Initial geometry created successfully.\n",
      "INFO:aqc_utils.molecule:Initializing molecule with canonical smiles: CCN(C(=O)Oc1cccc(c1)C(F)(F)F)CC\n",
      "INFO:aqc_utils.molecule:Creating initial geometry with option 'best'.\n",
      "INFO:aqc_utils.molecule:Initial geometry created successfully.\n",
      "INFO:aqc_utils.molecule:Initializing molecule with canonical smiles: CCOC(=O)c1cccc(c1)OC(=O)N(CC)CC\n",
      "INFO:aqc_utils.molecule:Creating initial geometry with option 'best'.\n",
      "INFO:aqc_utils.molecule:Initial geometry created successfully.\n",
      "INFO:aqc_utils.molecule:Initializing molecule with canonical smiles: CCN(C(=O)Oc1ccccc1C)CC\n",
      "INFO:aqc_utils.molecule:Creating initial geometry with option 'best'.\n",
      "INFO:aqc_utils.molecule:Initial geometry created successfully.\n",
      "INFO:aqc_utils.molecule:Initializing molecule with canonical smiles: COC(=O)c1ccc2c(c1)ccc(c2)OC(=O)OC(C)(C)C\n",
      "INFO:aqc_utils.molecule:Creating initial geometry with option 'best'.\n",
      "INFO:aqc_utils.molecule:Initial geometry created successfully.\n",
      "INFO:aqc_utils.molecule:Initializing molecule with canonical smiles: O=C(OC(C)(C)C)Oc1ccc(cc1)C(F)(F)F\n",
      "INFO:aqc_utils.molecule:Creating initial geometry with option 'best'.\n",
      "INFO:aqc_utils.molecule:Initial geometry created successfully.\n",
      "INFO:aqc_utils.molecule:Initializing molecule with canonical smiles: O=C(Oc1ccccc1)OC(C)(C)C\n",
      "INFO:aqc_utils.molecule:Creating initial geometry with option 'best'.\n",
      "INFO:aqc_utils.molecule:Initial geometry created successfully.\n",
      "INFO:aqc_utils.molecule:Initializing molecule with canonical smiles: COc1ccc2c(c1)ccc(c2)OC(=O)N(C)C\n",
      "INFO:aqc_utils.molecule:Creating initial geometry with option 'best'.\n",
      "INFO:aqc_utils.molecule:Initial geometry created successfully.\n",
      "INFO:aqc_utils.molecule:Initializing molecule with canonical smiles: O=C(N(C)C)Oc1ccc2c(c1)cc(cc2)OC(C)(C)C\n",
      "INFO:aqc_utils.molecule:Creating initial geometry with option 'best'.\n",
      "INFO:aqc_utils.molecule:Initial geometry created successfully.\n",
      "INFO:aqc_utils.molecule:Initializing molecule with canonical smiles: O=C(N(C)C)Oc1ccc2c(c1)cc(cc2)Oc1ccccc1\n",
      "INFO:aqc_utils.molecule:Creating initial geometry with option 'best'.\n",
      "INFO:aqc_utils.molecule:Initial geometry created successfully.\n",
      "INFO:aqc_utils.molecule:Initializing molecule with canonical smiles: COCOc1ccc2c(c1)cc(cc2)OC(=O)N(C)C\n",
      "INFO:aqc_utils.molecule:Creating initial geometry with option 'best'.\n",
      "INFO:aqc_utils.molecule:Initial geometry created successfully.\n",
      "INFO:aqc_utils.molecule:Initializing molecule with canonical smiles: CN(C(=O)Oc1ccc2c(c1)cc(cc2)N(C)C)C\n",
      "INFO:aqc_utils.molecule:Creating initial geometry with option 'best'.\n",
      "INFO:aqc_utils.molecule:Initial geometry created successfully.\n",
      "INFO:aqc_utils.molecule:Initializing molecule with canonical smiles: O=C(N(C)C)Oc1ccc2c(c1)ccc(c2)c1ccccc1\n",
      "INFO:aqc_utils.molecule:Creating initial geometry with option 'best'.\n",
      "INFO:aqc_utils.molecule:Initial geometry created successfully.\n",
      "INFO:aqc_utils.molecule:Initializing molecule with canonical smiles: N#Cc1ccc2c(c1)ccc(c2)OC(=O)N(C)C\n",
      "INFO:aqc_utils.molecule:Creating initial geometry with option 'best'.\n",
      "INFO:aqc_utils.molecule:Initial geometry created successfully.\n",
      "INFO:aqc_utils.molecule:Initializing molecule with canonical smiles: O=C(N(C)C)Oc1cccc2c1c(F)ccc2\n",
      "INFO:aqc_utils.molecule:Creating initial geometry with option 'best'.\n",
      "INFO:aqc_utils.molecule:Initial geometry created successfully.\n",
      "INFO:aqc_utils.molecule:Initializing molecule with canonical smiles: O=C(N(C)C)Oc1cccc2c1ccnc2\n",
      "INFO:aqc_utils.molecule:Creating initial geometry with option 'best'.\n",
      "INFO:aqc_utils.molecule:Initial geometry created successfully.\n",
      "INFO:aqc_utils.molecule:Initializing molecule with canonical smiles: COC(=O)c1ccc2c(c1)ccc(c2)OC(=O)N(C)C\n",
      "INFO:aqc_utils.molecule:Creating initial geometry with option 'best'.\n",
      "INFO:aqc_utils.molecule:Initial geometry created successfully.\n",
      "INFO:aqc_utils.molecule:Initializing molecule with canonical smiles: COC(=O)c1c(ccc2c1cccc2)OC(=O)N(C)C\n",
      "INFO:aqc_utils.molecule:Creating initial geometry with option 'best'.\n",
      "INFO:aqc_utils.molecule:Initial geometry created successfully.\n",
      "INFO:aqc_utils.molecule:Initializing molecule with canonical smiles: Cc1cccc(c1)c1ccc2c(c1)cc(cc2)OC(=O)N(C)C\n",
      "INFO:aqc_utils.molecule:Creating initial geometry with option 'best'.\n",
      "INFO:aqc_utils.molecule:Initial geometry created successfully.\n",
      "INFO:aqc_utils.molecule:Initializing molecule with canonical smiles: CN(C(=O)Oc1cc2ccccc2c2c1cccc2)C\n",
      "INFO:aqc_utils.molecule:Creating initial geometry with option 'best'.\n",
      "INFO:aqc_utils.molecule:Initial geometry created successfully.\n",
      "INFO:aqc_utils.molecule:Initializing molecule with canonical smiles: O=C(N(C)C)Oc1cccc2c1cccc2\n",
      "INFO:aqc_utils.molecule:Creating initial geometry with option 'best'.\n",
      "INFO:aqc_utils.molecule:Initial geometry created successfully.\n",
      "INFO:aqc_utils.molecule:Initializing molecule with canonical smiles: O=C(N(C)C)Oc1ccc2c(c1)ccc(c2)[Si](C)(C)C\n",
      "INFO:aqc_utils.molecule:Creating initial geometry with option 'best'.\n",
      "INFO:aqc_utils.molecule:Initial geometry created successfully.\n",
      "INFO:aqc_utils.molecule:Initializing molecule with canonical smiles: Cc1ccc2c(c1)ccc(c2)OC(=O)N(C)C\n",
      "INFO:aqc_utils.molecule:Creating initial geometry with option 'best'.\n",
      "INFO:aqc_utils.molecule:Initial geometry created successfully.\n",
      "INFO:aqc_utils.molecule:Initializing molecule with canonical smiles: O=C(N(C)C)Oc1cccc2c1cccc2F\n",
      "INFO:aqc_utils.molecule:Creating initial geometry with option 'best'.\n",
      "INFO:aqc_utils.molecule:Initial geometry created successfully.\n",
      "INFO:aqc_utils.molecule:Initializing molecule with canonical smiles: CCCCOc1ccc2c(c1)cccc2\n"
     ]
    },
    {
     "name": "stderr",
     "output_type": "stream",
     "text": [
      "INFO:aqc_utils.molecule:Creating initial geometry with option 'best'.\n",
      "INFO:aqc_utils.molecule:Initial geometry created successfully.\n",
      "INFO:aqc_utils.molecule:Initializing molecule with canonical smiles: CC(COc1ccc2c(c1)cccc2)C\n",
      "INFO:aqc_utils.molecule:Creating initial geometry with option 'best'.\n",
      "INFO:aqc_utils.molecule:Initial geometry created successfully.\n",
      "INFO:aqc_utils.molecule:Initializing molecule with canonical smiles: CC(Oc1ccc2c(c1)cccc2)(C)C\n",
      "INFO:aqc_utils.molecule:Creating initial geometry with option 'best'.\n",
      "INFO:aqc_utils.molecule:Initial geometry created successfully.\n",
      "INFO:aqc_utils.molecule:Initializing molecule with canonical smiles: COCOc1ccc2c(c1)cccc2\n",
      "INFO:aqc_utils.molecule:Creating initial geometry with option 'best'.\n",
      "INFO:aqc_utils.molecule:Initial geometry created successfully.\n",
      "INFO:aqc_utils.molecule:Initializing molecule with canonical smiles: COc1ccc2c(c1)ccc(c2)C(=O)N(C(C)C)C(C)C\n",
      "INFO:aqc_utils.molecule:Creating initial geometry with option 'best'.\n",
      "INFO:aqc_utils.molecule:Initial geometry created successfully.\n",
      "INFO:aqc_utils.molecule:Initializing molecule with canonical smiles: COc1ccc2c(c1)ccc(c2)CCO[Si](C(C)(C)C)(C)C\n",
      "INFO:aqc_utils.molecule:Creating initial geometry with option 'best'.\n",
      "INFO:aqc_utils.molecule:Initial geometry created successfully.\n",
      "INFO:aqc_utils.molecule:Initializing molecule with canonical smiles: COc1ccc(cc1)C(=O)N(C(C)C)C(C)C\n",
      "INFO:aqc_utils.molecule:Creating initial geometry with option 'best'.\n",
      "INFO:aqc_utils.molecule:Initial geometry created successfully.\n",
      "INFO:aqc_utils.molecule:Initializing molecule with canonical smiles: CCN(C(=O)Oc1ccccc1C(=O)N(CC)CC)CC\n",
      "INFO:aqc_utils.molecule:Creating initial geometry with option 'best'.\n",
      "INFO:aqc_utils.molecule:Initial geometry created successfully.\n",
      "INFO:aqc_utils.molecule:Initializing molecule with canonical smiles: CCN(C(=O)Oc1ccccc1NC(=O)OC(C)(C)C)CC\n",
      "INFO:aqc_utils.molecule:Creating initial geometry with option 'best'.\n",
      "INFO:aqc_utils.molecule:Initial geometry created successfully.\n",
      "INFO:aqc_utils.molecule:Initializing molecule with canonical smiles: CCN(C(=O)Oc1ccc2c(c1[Si](C)(C)C)nccc2)CC\n",
      "INFO:aqc_utils.molecule:Creating initial geometry with option 'best'.\n",
      "INFO:aqc_utils.molecule:Initial geometry created successfully.\n",
      "INFO:aqc_utils.molecule:Initializing molecule with canonical smiles: CCN(C(=O)Oc1ccc2c(c1)CCC1C2CC[C@@]2(C1CCC12OCCO1)C)CC\n",
      "INFO:aqc_utils.molecule:Creating initial geometry with option 'best'.\n",
      "INFO:aqc_utils.molecule:Initial geometry created successfully.\n",
      "INFO:aqc_utils.molecule:Initializing molecule with canonical smiles: CCN(C(=O)Oc1cc2ccccc2c2c1cccc2)CC\n",
      "INFO:aqc_utils.molecule:Creating initial geometry with option 'best'.\n",
      "INFO:aqc_utils.molecule:Initial geometry created successfully.\n",
      "INFO:aqc_utils.molecule:Initializing molecule with canonical smiles: COc1ccc2c(c1)CCCC2\n",
      "INFO:aqc_utils.molecule:Creating initial geometry with option 'best'.\n",
      "INFO:aqc_utils.molecule:Initial geometry created successfully.\n",
      "INFO:aqc_utils.molecule:Initializing molecule with canonical smiles: COCOc1ccc2c(c1)CCCC2\n",
      "INFO:aqc_utils.molecule:Creating initial geometry with option 'best'.\n",
      "INFO:aqc_utils.molecule:Initial geometry created successfully.\n",
      "INFO:aqc_utils.molecule:Initializing molecule with canonical smiles: COCCOc1ccc2c(c1)CCCC2\n",
      "INFO:aqc_utils.molecule:Creating initial geometry with option 'best'.\n",
      "INFO:aqc_utils.molecule:Initial geometry created successfully.\n",
      "INFO:aqc_utils.molecule:Initializing molecule with canonical smiles: CN(CCOc1ccc2c(c1)CCCC2)C\n",
      "INFO:aqc_utils.molecule:Creating initial geometry with option 'best'.\n",
      "INFO:aqc_utils.molecule:Initial geometry created successfully.\n",
      "INFO:aqc_utils.molecule:Initializing molecule with canonical smiles: CCOc1ccccc1\n",
      "INFO:aqc_utils.molecule:Creating initial geometry with option 'best'.\n",
      "INFO:aqc_utils.molecule:Initial geometry created successfully.\n",
      "INFO:aqc_utils.molecule:Initializing molecule with canonical smiles: FC(Oc1ccccc1)(F)F\n",
      "INFO:aqc_utils.molecule:Creating initial geometry with option 'best'.\n",
      "INFO:aqc_utils.molecule:Initial geometry created successfully.\n",
      "INFO:aqc_utils.molecule:Initializing molecule with canonical smiles: OCCOc1ccccc1\n",
      "INFO:aqc_utils.molecule:Creating initial geometry with option 'best'.\n",
      "INFO:aqc_utils.molecule:Initial geometry created successfully.\n",
      "INFO:aqc_utils.molecule:Initializing molecule with canonical smiles: COc1ccc2c(c1)CCC=C2N1CCCCC1\n",
      "INFO:aqc_utils.molecule:Creating initial geometry with option 'best'.\n",
      "INFO:aqc_utils.molecule:Initial geometry created successfully.\n",
      "INFO:aqc_utils.molecule:Initializing molecule with canonical smiles: COc1ccc(cc1)C(c1ccccc1)O\n",
      "INFO:aqc_utils.molecule:Creating initial geometry with option 'best'.\n",
      "INFO:aqc_utils.molecule:Initial geometry created successfully.\n",
      "INFO:aqc_utils.molecule:Initializing molecule with canonical smiles: COc1cccc(c1)CN(C)C\n",
      "INFO:aqc_utils.molecule:Creating initial geometry with option 'best'.\n",
      "INFO:aqc_utils.molecule:Initial geometry created successfully.\n",
      "INFO:aqc_utils.molecule:Initializing molecule with canonical smiles: COc1ccc(cc1)O\n",
      "INFO:aqc_utils.molecule:Creating initial geometry with option 'best'.\n",
      "INFO:aqc_utils.molecule:Initial geometry created successfully.\n",
      "INFO:aqc_utils.molecule:Initializing molecule with canonical smiles: COc1cccc(c1)O\n",
      "INFO:aqc_utils.molecule:Creating initial geometry with option 'best'.\n",
      "INFO:aqc_utils.molecule:Initial geometry created successfully.\n",
      "INFO:aqc_utils.molecule:Initializing molecule with canonical smiles: COc1ccc2c(c1)cc[nH]2\n",
      "INFO:aqc_utils.molecule:Creating initial geometry with option 'best'.\n",
      "INFO:aqc_utils.molecule:Initial geometry created successfully.\n",
      "INFO:aqc_utils.molecule:Initializing molecule with canonical smiles: COc1cccc2c1ccn2CCN(C)C\n",
      "INFO:aqc_utils.molecule:Creating initial geometry with option 'best'.\n",
      "INFO:aqc_utils.molecule:Initial geometry created successfully.\n",
      "INFO:aqc_utils.molecule:Initializing molecule with canonical smiles: COc1ccc(cc1)C(n1cncc1)c1ccccc1\n",
      "INFO:aqc_utils.molecule:Creating initial geometry with option 'best'.\n",
      "INFO:aqc_utils.molecule:Initial geometry created successfully.\n",
      "INFO:aqc_utils.molecule:Initializing molecule with canonical smiles: OCCCc1ccc(cc1)OC\n",
      "INFO:aqc_utils.molecule:Creating initial geometry with option 'best'.\n",
      "INFO:aqc_utils.molecule:Initial geometry created successfully.\n",
      "INFO:aqc_utils.molecule:Initializing molecule with canonical smiles: CCCCc1ccc(cc1)OC(=O)COC\n",
      "INFO:aqc_utils.molecule:Creating initial geometry with option 'best'.\n",
      "INFO:aqc_utils.molecule:Initial geometry created successfully.\n",
      "INFO:aqc_utils.molecule:Initializing molecule with canonical smiles: C[Si](Oc1ccc2c(c1)CCCC2)(C)C\n",
      "INFO:aqc_utils.molecule:Creating initial geometry with option 'best'.\n",
      "INFO:aqc_utils.molecule:Initial geometry created successfully.\n",
      "INFO:aqc_utils.molecule:Initializing molecule with canonical smiles: CCOc1ccc(cc1)C\n",
      "INFO:aqc_utils.molecule:Creating initial geometry with option 'best'.\n",
      "INFO:aqc_utils.molecule:Initial geometry created successfully.\n",
      "INFO:aqc_utils.molecule:Initializing molecule with canonical smiles: OCCOc1ccc(cc1)C\n",
      "INFO:aqc_utils.molecule:Creating initial geometry with option 'best'.\n",
      "INFO:aqc_utils.molecule:Initial geometry created successfully.\n",
      "INFO:aqc_utils.molecule:Initializing molecule with canonical smiles: Cc1ccc(cc1)O[Si](C)(C)C\n",
      "INFO:aqc_utils.molecule:Creating initial geometry with option 'best'.\n",
      "INFO:aqc_utils.molecule:Initial geometry created successfully.\n",
      "INFO:aqc_utils.molecule:Initializing molecule with canonical smiles: FC(Oc1ccc(cc1)C)(F)F\n",
      "INFO:aqc_utils.molecule:Creating initial geometry with option 'best'.\n",
      "INFO:aqc_utils.molecule:Initial geometry created successfully.\n",
      "INFO:aqc_utils.molecule:Initializing molecule with canonical smiles: COc1cccc(c1)OCCN(C)C\n",
      "INFO:aqc_utils.molecule:Creating initial geometry with option 'best'.\n",
      "INFO:aqc_utils.molecule:Initial geometry created successfully.\n",
      "INFO:aqc_utils.molecule:Initializing molecule with canonical smiles: COc1ccccc1c1ccccc1\n",
      "INFO:aqc_utils.molecule:Creating initial geometry with option 'best'.\n",
      "INFO:aqc_utils.molecule:Initial geometry created successfully.\n",
      "INFO:aqc_utils.molecule:Initializing molecule with canonical smiles: CCOc1c(C)cc(cc1C)C\n",
      "INFO:aqc_utils.molecule:Creating initial geometry with option 'best'.\n"
     ]
    },
    {
     "name": "stderr",
     "output_type": "stream",
     "text": [
      "INFO:aqc_utils.molecule:Initial geometry created successfully.\n",
      "INFO:aqc_utils.molecule:Initializing molecule with canonical smiles: OCCc1ccccc1OC\n",
      "INFO:aqc_utils.molecule:Creating initial geometry with option 'best'.\n",
      "INFO:aqc_utils.molecule:Initial geometry created successfully.\n",
      "INFO:aqc_utils.molecule:Initializing molecule with canonical smiles: COc1cccc2c1n(CCN(C)C)cc2\n",
      "INFO:aqc_utils.molecule:Creating initial geometry with option 'best'.\n",
      "INFO:aqc_utils.molecule:Initial geometry created successfully.\n",
      "INFO:aqc_utils.molecule:Initializing molecule with canonical smiles: CCCN(C1CCc2c(C1)c(OC)ccc2)CCC\n",
      "INFO:aqc_utils.molecule:Creating initial geometry with option 'best'.\n",
      "INFO:aqc_utils.molecule:Initial geometry created successfully.\n",
      "INFO:aqc_utils.molecule:Initializing molecule with canonical smiles: NCCc1ccc(cc1)OC\n",
      "INFO:aqc_utils.molecule:Creating initial geometry with option 'best'.\n",
      "INFO:aqc_utils.molecule:Initial geometry created successfully.\n",
      "INFO:aqc_utils.molecule:Initializing molecule with canonical smiles: CCOc1ccc(cc1)N(C)C\n",
      "INFO:aqc_utils.molecule:Creating initial geometry with option 'best'.\n",
      "INFO:aqc_utils.molecule:Initial geometry created successfully.\n",
      "INFO:aqc_utils.molecule:Initializing molecule with canonical smiles: COc1ccc2c(c1)ccc(c2)c1c(C)cc(cc1C)C\n",
      "INFO:aqc_utils.molecule:Creating initial geometry with option 'best'.\n",
      "INFO:aqc_utils.molecule:Initial geometry created successfully.\n",
      "INFO:aqc_utils.molecule:Initializing molecule with canonical smiles: COc1ccc(c2c1cccc2)c1ccccc1\n",
      "INFO:aqc_utils.molecule:Creating initial geometry with option 'best'.\n",
      "INFO:aqc_utils.molecule:Initial geometry created successfully.\n",
      "INFO:aqc_utils.molecule:Initializing molecule with canonical smiles: COc1ccccc1OC\n",
      "INFO:aqc_utils.molecule:Creating initial geometry with option 'best'.\n",
      "INFO:aqc_utils.molecule:Initial geometry created successfully.\n",
      "INFO:aqc_utils.molecule:Initializing molecule with canonical smiles: COc1ccnc(c1)c1nccc(c1)OC\n",
      "INFO:aqc_utils.molecule:Creating initial geometry with option 'best'.\n",
      "INFO:aqc_utils.molecule:Initial geometry created successfully.\n",
      "INFO:aqc_utils.molecule:Initializing molecule with canonical smiles: COc1cc(OC)cc(c1)OC\n",
      "INFO:aqc_utils.molecule:Creating initial geometry with option 'best'.\n",
      "INFO:aqc_utils.molecule:Initial geometry created successfully.\n",
      "INFO:aqc_utils.molecule:Initializing molecule with canonical smiles: COc1ccc2c(c1)CC[C@@H]1[C@@H]2CC[C@]2([C@@H]1CC[C@@H]2OC)C\n",
      "INFO:aqc_utils.molecule:Creating initial geometry with option 'best'.\n",
      "==============================\n",
      "*** Open Babel Warning  in CorrectStereoAtoms\n",
      "  Could not correct 2 stereocenter(s) in this molecule ()\n",
      "  with Atom Ids as follows: 10 11\n",
      "Warning: Stereochemistry is wrong, using the distance geometry method instead\n",
      "INFO:aqc_utils.molecule:Initial geometry created successfully.\n",
      "INFO:aqc_utils.molecule:Initializing molecule with canonical smiles: COc1cc2ccccc2c2c1cccc2\n",
      "INFO:aqc_utils.molecule:Creating initial geometry with option 'best'.\n",
      "INFO:aqc_utils.molecule:Initial geometry created successfully.\n",
      "INFO:aqc_utils.molecule:Initializing molecule with canonical smiles: COc1ccc2c(c1)ccc(c2)C(=O)OC\n",
      "INFO:aqc_utils.molecule:Creating initial geometry with option 'best'.\n",
      "INFO:aqc_utils.molecule:Initial geometry created successfully.\n",
      "INFO:aqc_utils.molecule:Initializing molecule with canonical smiles: COc1ccc(cc1)C(=O)C\n",
      "INFO:aqc_utils.molecule:Creating initial geometry with option 'best'.\n",
      "INFO:aqc_utils.molecule:Initial geometry created successfully.\n",
      "INFO:aqc_utils.molecule:Initializing molecule with canonical smiles: CCN(C(=O)Oc1ccc2c(c1)ccn2C)CC\n",
      "INFO:aqc_utils.molecule:Creating initial geometry with option 'best'.\n",
      "INFO:aqc_utils.molecule:Initial geometry created successfully.\n",
      "INFO:aqc_utils.molecule:Initializing molecule with canonical smiles: CCN(C(=O)Oc1ccc(cc1)C(F)(F)F)CC\n",
      "INFO:aqc_utils.molecule:Creating initial geometry with option 'best'.\n",
      "INFO:aqc_utils.molecule:Initial geometry created successfully.\n",
      "INFO:aqc_utils.molecule:Initializing molecule with canonical smiles: CCN(C(=O)Oc1ccccc1F)CC\n",
      "INFO:aqc_utils.molecule:Creating initial geometry with option 'best'.\n",
      "INFO:aqc_utils.molecule:Initial geometry created successfully.\n",
      "INFO:aqc_utils.molecule:Initializing molecule with canonical smiles: CCN(C(=O)Oc1ccc(cc1)N1CCOCC1)CC\n",
      "INFO:aqc_utils.molecule:Creating initial geometry with option 'best'.\n",
      "INFO:aqc_utils.molecule:Initial geometry created successfully.\n",
      "INFO:aqc_utils.molecule:Initializing molecule with canonical smiles: CCN(C(=O)Oc1ccc2c(c1)CCC1C2CC[C@]2(C1CCC12OCCO1)C)CC\n",
      "INFO:aqc_utils.molecule:Creating initial geometry with option 'best'.\n",
      "INFO:aqc_utils.molecule:Initial geometry created successfully.\n",
      "INFO:aqc_utils.molecule:Initializing molecule with canonical smiles: CCN(C(=O)Oc1cccc2c1OC(C2)(C)C)CC\n",
      "INFO:aqc_utils.molecule:Creating initial geometry with option 'best'.\n",
      "INFO:aqc_utils.molecule:Initial geometry created successfully.\n",
      "INFO:aqc_utils.molecule:Initializing molecule with canonical smiles: CCN(C(=O)Oc1ccc2c(c1)n(C)c1c2cccc1)CC\n",
      "INFO:aqc_utils.molecule:Creating initial geometry with option 'best'.\n",
      "INFO:aqc_utils.molecule:Initial geometry created successfully.\n",
      "INFO:aqc_utils.molecule:Initializing molecule with canonical smiles: CN(C(=O)Oc1ccccc1)C\n",
      "INFO:aqc_utils.molecule:Creating initial geometry with option 'best'.\n",
      "INFO:aqc_utils.molecule:Initial geometry created successfully.\n",
      "INFO:aqc_utils.molecule:Initializing molecule with canonical smiles: O=C(N(C)C)Oc1ccc(c(c1)C)C\n",
      "INFO:aqc_utils.molecule:Creating initial geometry with option 'best'.\n",
      "INFO:aqc_utils.molecule:Initial geometry created successfully.\n",
      "INFO:aqc_utils.molecule:Initializing molecule with canonical smiles: O=C(N(C)C)Oc1cccc(c1)C(C)(C)C\n",
      "INFO:aqc_utils.molecule:Creating initial geometry with option 'best'.\n",
      "INFO:aqc_utils.molecule:Initial geometry created successfully.\n",
      "INFO:aqc_utils.molecule:Initializing molecule with canonical smiles: CCC(OC(=O)c1cccc(c1)OC(=O)N(C)C)(C)C\n",
      "INFO:aqc_utils.molecule:Creating initial geometry with option 'best'.\n",
      "INFO:aqc_utils.molecule:Initial geometry created successfully.\n",
      "INFO:aqc_utils.molecule:Initializing molecule with canonical smiles: CN(C(=O)Oc1cccc(c1)N(C)C)C\n",
      "INFO:aqc_utils.molecule:Creating initial geometry with option 'best'.\n",
      "INFO:aqc_utils.molecule:Initial geometry created successfully.\n",
      "INFO:aqc_utils.molecule:Initializing molecule with canonical smiles: COc1ccc(cc1)Cc1ccccc1\n",
      "INFO:aqc_utils.molecule:Creating initial geometry with option 'best'.\n",
      "INFO:aqc_utils.molecule:Initial geometry created successfully.\n",
      "INFO:aqc_utils.molecule:Initializing molecule with canonical smiles: C[Si](Oc1ccc(cc1)Cc1ccccc1)(C)C\n",
      "INFO:aqc_utils.molecule:Creating initial geometry with option 'best'.\n",
      "INFO:aqc_utils.molecule:Initial geometry created successfully.\n",
      "INFO:aqc_utils.molecule:Initializing molecule with canonical smiles: COCOc1ccc(cc1)Cc1ccccc1\n",
      "INFO:aqc_utils.molecule:Creating initial geometry with option 'best'.\n",
      "INFO:aqc_utils.molecule:Initial geometry created successfully.\n",
      "INFO:aqc_utils.molecule:Initializing molecule with canonical smiles: COc1ccc(cc1)c1ccc(cc1)C\n",
      "INFO:aqc_utils.molecule:Creating initial geometry with option 'best'.\n",
      "INFO:aqc_utils.molecule:Initial geometry created successfully.\n",
      "INFO:aqc_utils.molecule:Initializing molecule with canonical smiles: COCOc1cccc(c1)C(F)(F)F\n",
      "INFO:aqc_utils.molecule:Creating initial geometry with option 'best'.\n",
      "INFO:aqc_utils.molecule:Initial geometry created successfully.\n",
      "INFO:aqc_utils.molecule:Initializing molecule with canonical smiles: COCCc1ccc(cc1)OCOC\n",
      "INFO:aqc_utils.molecule:Creating initial geometry with option 'best'.\n",
      "INFO:aqc_utils.molecule:Initial geometry created successfully.\n",
      "INFO:aqc_utils.molecule:Initializing molecule with canonical smiles: CCCCOc1cccc2c1cccc2\n",
      "INFO:aqc_utils.molecule:Creating initial geometry with option 'best'.\n",
      "INFO:aqc_utils.molecule:Initial geometry created successfully.\n",
      "INFO:aqc_utils.molecule:Initializing molecule with canonical smiles: CC(Oc1cccc2c1cccc2)C\n",
      "INFO:aqc_utils.molecule:Creating initial geometry with option 'best'.\n",
      "INFO:aqc_utils.molecule:Initial geometry created successfully.\n",
      "INFO:aqc_utils.molecule:Initializing molecule with canonical smiles: COCOc1cccc2c1cccc2\n",
      "INFO:aqc_utils.molecule:Creating initial geometry with option 'best'.\n"
     ]
    },
    {
     "name": "stderr",
     "output_type": "stream",
     "text": [
      "INFO:aqc_utils.molecule:Initial geometry created successfully.\n",
      "INFO:aqc_utils.molecule:Initializing molecule with canonical smiles: C[Si](Oc1cccc2c1cccc2)(C)C\n",
      "INFO:aqc_utils.molecule:Creating initial geometry with option 'best'.\n",
      "INFO:aqc_utils.molecule:Initial geometry created successfully.\n",
      "INFO:aqc_utils.molecule:Initializing molecule with canonical smiles: O=C(N(C)C)Oc1ccccc1c1ccccc1\n",
      "INFO:aqc_utils.molecule:Creating initial geometry with option 'best'.\n",
      "INFO:aqc_utils.molecule:Initial geometry created successfully.\n",
      "INFO:aqc_utils.molecule:Initializing molecule with canonical smiles: COCOc1cccc(c1)OC(=O)N(CC)CC\n",
      "INFO:aqc_utils.molecule:Creating initial geometry with option 'best'.\n",
      "INFO:aqc_utils.molecule:Initial geometry created successfully.\n",
      "INFO:aqc_utils.molecule:Initializing molecule with canonical smiles: CCN(C(=O)Oc1cccc(c1)NC(=O)OC(C)(C)C)CC\n",
      "INFO:aqc_utils.molecule:Creating initial geometry with option 'best'.\n",
      "INFO:aqc_utils.molecule:Initial geometry created successfully.\n",
      "INFO:aqc_utils.molecule:Initializing molecule with canonical smiles: COc1ccc(cc1)C(=O)NC(C)(C)C\n",
      "INFO:aqc_utils.molecule:Creating initial geometry with option 'best'.\n",
      "INFO:aqc_utils.molecule:Initial geometry created successfully.\n",
      "INFO:aqc_utils.molecule:Initializing molecule with canonical smiles: COc1ccc(c2c1cccc2)N1CCOCC1\n",
      "INFO:aqc_utils.molecule:Creating initial geometry with option 'best'.\n",
      "INFO:aqc_utils.molecule:Initial geometry created successfully.\n",
      "INFO:aqc_utils.molecule:Initializing molecule with canonical smiles: COc1ccc(cc1)c1ccc(cc1)c1ccccc1\n",
      "INFO:aqc_utils.molecule:Creating initial geometry with option 'best'.\n",
      "INFO:aqc_utils.molecule:Initial geometry created successfully.\n",
      "INFO:aqc_utils.molecule:Initializing molecule with canonical smiles: COc1cccc2c1nccc2\n",
      "INFO:aqc_utils.molecule:Creating initial geometry with option 'best'.\n",
      "INFO:aqc_utils.molecule:Initial geometry created successfully.\n",
      "INFO:aqc_utils.molecule:Initializing molecule with canonical smiles: COc1ccc(cc1)c1ccccn1\n",
      "INFO:aqc_utils.molecule:Creating initial geometry with option 'best'.\n",
      "INFO:aqc_utils.molecule:Initial geometry created successfully.\n",
      "INFO:aqc_utils.molecule:Initializing molecule with canonical smiles: COc1ccc2c(c1)n(C)c1c2cccc1\n",
      "INFO:aqc_utils.molecule:Creating initial geometry with option 'best'.\n",
      "INFO:aqc_utils.molecule:Initial geometry created successfully.\n",
      "INFO:aqc_utils.molecule:Initializing molecule with canonical smiles: COCO[C@@H](c1ccnc2c1cc(OC)cc2)C1CC2CCN1CC2CCC\n",
      "INFO:aqc_utils.molecule:Creating initial geometry with option 'best'.\n",
      "INFO:aqc_utils.molecule:Initial geometry created successfully.\n",
      "INFO:aqc_utils.molecule:Initializing molecule with canonical smiles: CCCCCCc1ccc2c(c1)ccc(c2)OC\n",
      "INFO:aqc_utils.molecule:Creating initial geometry with option 'best'.\n",
      "INFO:aqc_utils.molecule:Initial geometry created successfully.\n",
      "INFO:aqc_utils.molecule:Initializing molecule with canonical smiles: COc1ccc2c(c1)cc(cc2)N1CCCCC1\n",
      "INFO:aqc_utils.molecule:Creating initial geometry with option 'best'.\n",
      "INFO:aqc_utils.molecule:Initial geometry created successfully.\n",
      "INFO:aqc_utils.molecule:Initializing molecule with canonical smiles: COc1ccc2c3c1ccc1c3c(cc2)ccc1\n",
      "INFO:aqc_utils.molecule:Creating initial geometry with option 'best'.\n",
      "INFO:aqc_utils.molecule:Initial geometry created successfully.\n",
      "INFO:aqc_utils.molecule:Initializing molecule with canonical smiles: COc1ccc2c(c1)ccc(c2)[C@@H](C(=O)OC(C)C)C\n",
      "INFO:aqc_utils.molecule:Creating initial geometry with option 'best'.\n",
      "INFO:aqc_utils.molecule:Initial geometry created successfully.\n",
      "INFO:aqc_utils.molecule:Initializing molecule with canonical smiles: CCN(C(=O)Oc1ccc2c(c1)ccc(c2)C(=O)OC(C)C)CC\n",
      "INFO:aqc_utils.molecule:Creating initial geometry with option 'best'.\n",
      "INFO:aqc_utils.molecule:Initial geometry created successfully.\n",
      "INFO:aqc_utils.molecule:Initializing molecule with canonical smiles: CCOC(=O)c1ccccc1OC(=O)N(CC)CC\n",
      "INFO:aqc_utils.molecule:Creating initial geometry with option 'best'.\n",
      "INFO:aqc_utils.molecule:Initial geometry created successfully.\n",
      "INFO:aqc_utils.molecule:Initializing molecule with canonical smiles: CCN(C(=O)Oc1ccc(cc1)C(=O)N(C(C)C)C(C)C)CC\n",
      "INFO:aqc_utils.molecule:Creating initial geometry with option 'best'.\n",
      "INFO:aqc_utils.molecule:Initial geometry created successfully.\n",
      "INFO:aqc_utils.molecule:Initializing molecule with canonical smiles: COc1ccc(cc1)c1ccc2c(c1)ccc(c2)OC\n",
      "INFO:aqc_utils.molecule:Creating initial geometry with option 'best'.\n",
      "INFO:aqc_utils.molecule:Initial geometry created successfully.\n",
      "INFO:aqc_utils.molecule:Initializing molecule with canonical smiles: COc1ccc2c(c1)ccc(c2)O\n",
      "INFO:aqc_utils.molecule:Creating initial geometry with option 'best'.\n",
      "INFO:aqc_utils.molecule:Initial geometry created successfully.\n",
      "INFO:aqc_utils.molecule:Initializing molecule with canonical smiles: CCc1ccc2c(c1)ccc(c2)OC\n",
      "INFO:aqc_utils.molecule:Creating initial geometry with option 'best'.\n",
      "INFO:aqc_utils.molecule:Initial geometry created successfully.\n",
      "INFO:aqc_utils.molecule:Initializing molecule with canonical smiles: COCc1ccc2c(c1)ccc(c2)OC\n",
      "INFO:aqc_utils.molecule:Creating initial geometry with option 'best'.\n",
      "INFO:aqc_utils.molecule:Initial geometry created successfully.\n",
      "INFO:aqc_utils.molecule:Initializing molecule with canonical smiles: O=C(C(C)(C)C)Oc1ccc(cc1)c1ccc(cc1)C(=O)C\n",
      "INFO:aqc_utils.molecule:Creating initial geometry with option 'best'.\n",
      "INFO:aqc_utils.molecule:Initial geometry created successfully.\n",
      "INFO:aqc_utils.molecule:Initializing molecule with canonical smiles: COCOc1ccc2c(c1)cc(cc2)OC(=O)C(C)(C)C\n",
      "INFO:aqc_utils.molecule:Creating initial geometry with option 'best'.\n",
      "INFO:aqc_utils.molecule:Initial geometry created successfully.\n",
      "INFO:aqc_utils.molecule:Initializing molecule with canonical smiles: O=C(c1ccccc1)c1ccc(cc1)OC(=O)C(C)(C)C\n",
      "INFO:aqc_utils.molecule:Creating initial geometry with option 'best'.\n",
      "INFO:aqc_utils.molecule:Initial geometry created successfully.\n",
      "INFO:aqc_utils.molecule:Initializing molecule with canonical smiles: COc1ccc(cc1)Oc1nnnn1c1ccccc1\n",
      "INFO:aqc_utils.molecule:Creating initial geometry with option 'best'.\n",
      "INFO:aqc_utils.molecule:Initial geometry created successfully.\n",
      "INFO:aqc_utils.molecule:Initializing molecule with canonical smiles: COc1ccc(cc1)C(=O)OC\n",
      "INFO:aqc_utils.molecule:Creating initial geometry with option 'best'.\n",
      "INFO:aqc_utils.molecule:Initial geometry created successfully.\n",
      "INFO:aqc_utils.molecule:Initializing molecule with canonical smiles: CCOC(=O)c1ccc2c(c1)ccc(c2)OC(=O)C(C)(C)C\n",
      "INFO:aqc_utils.molecule:Creating initial geometry with option 'best'.\n",
      "INFO:aqc_utils.molecule:Initial geometry created successfully.\n",
      "INFO:aqc_utils.molecule:Initializing molecule with canonical smiles: O=C(C(C)(C)C)Oc1ccc2c(c1)ccc(c2)C(=O)C\n",
      "INFO:aqc_utils.molecule:Creating initial geometry with option 'best'.\n",
      "INFO:aqc_utils.molecule:Initial geometry created successfully.\n",
      "INFO:aqc_utils.molecule:Initializing molecule with canonical smiles: COc1ccc2c(c1)ccc(c2)OC(=O)C(C)(C)C\n",
      "INFO:aqc_utils.molecule:Creating initial geometry with option 'best'.\n",
      "INFO:aqc_utils.molecule:Initial geometry created successfully.\n",
      "INFO:aqc_utils.molecule:Initializing molecule with canonical smiles: CC(=O)Oc1ccc(cc1)C(=O)C\n",
      "INFO:aqc_utils.molecule:Creating initial geometry with option 'best'.\n",
      "INFO:aqc_utils.molecule:Initial geometry created successfully.\n",
      "INFO:aqc_utils.molecule:Initializing molecule with canonical smiles: COC(=O)c1ccc(cc1)OC(=O)C\n",
      "INFO:aqc_utils.molecule:Creating initial geometry with option 'best'.\n",
      "INFO:aqc_utils.molecule:Initial geometry created successfully.\n",
      "INFO:aqc_utils.molecule:Initializing molecule with canonical smiles: CC(=O)Oc1ccc2c(c1)oc(cc2=O)c1ccccc1\n",
      "INFO:aqc_utils.molecule:Creating initial geometry with option 'best'.\n",
      "INFO:aqc_utils.molecule:Initial geometry created successfully.\n",
      "INFO:aqc_utils.molecule:Initializing molecule with canonical smiles: CCN(C(=O)Oc1ccc(cc1)C(=O)N(CC)CC)CC\n",
      "INFO:aqc_utils.molecule:Creating initial geometry with option 'best'.\n",
      "INFO:aqc_utils.molecule:Initial geometry created successfully.\n",
      "INFO:aqc_utils.molecule:Initializing molecule with canonical smiles: Cc1cccc(c1)OC(=O)C(C)(C)C\n",
      "INFO:aqc_utils.molecule:Creating initial geometry with option 'best'.\n",
      "INFO:aqc_utils.molecule:Initial geometry created successfully.\n"
     ]
    },
    {
     "name": "stderr",
     "output_type": "stream",
     "text": [
      "INFO:aqc_utils.molecule:Initializing molecule with canonical smiles: CCCCc1ccc(cc1)OC(=O)C(C)(C)C\n",
      "INFO:aqc_utils.molecule:Creating initial geometry with option 'best'.\n",
      "INFO:aqc_utils.molecule:Initial geometry created successfully.\n",
      "INFO:aqc_utils.molecule:Initializing molecule with canonical smiles: O=C(C(C)(C)C)Nc1ccc(cc1)OC(=O)C(C)(C)C\n",
      "INFO:aqc_utils.molecule:Creating initial geometry with option 'best'.\n",
      "INFO:aqc_utils.molecule:Initial geometry created successfully.\n",
      "INFO:aqc_utils.molecule:Initializing molecule with canonical smiles: O=C(C(C)(C)C)Oc1ccc(cc1)Cl\n",
      "INFO:aqc_utils.molecule:Creating initial geometry with option 'best'.\n",
      "INFO:aqc_utils.molecule:Initial geometry created successfully.\n",
      "INFO:aqc_utils.molecule:Initializing molecule with canonical smiles: N#Cc1ccc(cc1)OC(=O)C(C)(C)C\n",
      "INFO:aqc_utils.molecule:Creating initial geometry with option 'best'.\n",
      "INFO:aqc_utils.molecule:Initial geometry created successfully.\n",
      "INFO:aqc_utils.molecule:Initializing molecule with canonical smiles: O=C(C(C)(C)C)Oc1ccncc1\n",
      "INFO:aqc_utils.molecule:Creating initial geometry with option 'best'.\n",
      "INFO:aqc_utils.molecule:Initial geometry created successfully.\n"
     ]
    }
   ],
   "source": [
    "mols = []\n",
    "for smile in my_smiles:\n",
    "    mols.append(molecule(smile, max_num_conformers=1))"
   ]
  },
  {
   "cell_type": "markdown",
   "id": "5c6ef1f1",
   "metadata": {},
   "source": [
    "###### Draw some molecules"
   ]
  },
  {
   "cell_type": "code",
   "execution_count": 21,
   "id": "be29b05e",
   "metadata": {},
   "outputs": [],
   "source": [
    "#mols[0].draw(2)"
   ]
  },
  {
   "cell_type": "markdown",
   "id": "47401447",
   "metadata": {},
   "source": [
    "# Create gaussian job for each conformation"
   ]
  },
  {
   "cell_type": "code",
   "execution_count": 22,
   "id": "10452201",
   "metadata": {},
   "outputs": [
    {
     "name": "stderr",
     "output_type": "stream",
     "text": [
      "WARNING:aqc_utils.slurm_manager:Molecule COc1ccc2c(c1)cccc2 already exists with the same Gaussian config with tags ['test_JulesSchleinitz']. Not creating jobs.\n",
      "INFO:aqc_utils.gaussian_input_generator:Generating Gaussian input files for 1 conformations.\n",
      "WARNING:aqc_utils.slurm_manager:A job with exactly the same parameters, molecule COc1ccc2c(c1)ccc(c2)[Si](C)(C)C, conformation 0, workflow ('opt b3lyp/6-31G* scf=(xqc,tight)', 'freq b3lyp/6-31G* volume NMR pop=NPA density=current Geom=AllCheck Guess=Read', 'TD(NStates=10, Root=1) b3lyp/6-31G* volume pop=NPA density=current Geom=AllCheck Guess=Read') already exists. Not creating a duplicate\n"
     ]
    },
    {
     "name": "stdout",
     "output_type": "stream",
     "text": [
      "C14H18OSi_95fa_conf_0\n"
     ]
    },
    {
     "name": "stderr",
     "output_type": "stream",
     "text": [
      "INFO:aqc_utils.gaussian_input_generator:Generating Gaussian input files for 1 conformations.\n",
      "WARNING:aqc_utils.slurm_manager:A job with exactly the same parameters, molecule COc1ccc2c(c1)ccc(c2)N1CCCCC1, conformation 0, workflow ('opt b3lyp/6-31G* scf=(xqc,tight)', 'freq b3lyp/6-31G* volume NMR pop=NPA density=current Geom=AllCheck Guess=Read', 'TD(NStates=10, Root=1) b3lyp/6-31G* volume pop=NPA density=current Geom=AllCheck Guess=Read') already exists. Not creating a duplicate\n"
     ]
    },
    {
     "name": "stdout",
     "output_type": "stream",
     "text": [
      "C16H19NO_f5e7_conf_0\n"
     ]
    },
    {
     "name": "stderr",
     "output_type": "stream",
     "text": [
      "INFO:aqc_utils.gaussian_input_generator:Generating Gaussian input files for 1 conformations.\n",
      "WARNING:aqc_utils.slurm_manager:A job with exactly the same parameters, molecule COc1ccc2c(c1)cc(cc2)O, conformation 0, workflow ('opt b3lyp/6-31G* scf=(xqc,tight)', 'freq b3lyp/6-31G* volume NMR pop=NPA density=current Geom=AllCheck Guess=Read', 'TD(NStates=10, Root=1) b3lyp/6-31G* volume pop=NPA density=current Geom=AllCheck Guess=Read') already exists. Not creating a duplicate\n"
     ]
    },
    {
     "name": "stdout",
     "output_type": "stream",
     "text": [
      "C11H10O2_d7c7_conf_0\n"
     ]
    },
    {
     "name": "stderr",
     "output_type": "stream",
     "text": [
      "INFO:aqc_utils.gaussian_input_generator:Generating Gaussian input files for 1 conformations.\n",
      "WARNING:aqc_utils.slurm_manager:A job with exactly the same parameters, molecule COc1cccc2c1cccc2, conformation 0, workflow ('opt b3lyp/6-31G* scf=(xqc,tight)', 'freq b3lyp/6-31G* volume NMR pop=NPA density=current Geom=AllCheck Guess=Read', 'TD(NStates=10, Root=1) b3lyp/6-31G* volume pop=NPA density=current Geom=AllCheck Guess=Read') already exists. Not creating a duplicate\n"
     ]
    },
    {
     "name": "stdout",
     "output_type": "stream",
     "text": [
      "C11H10O_9eb4_conf_0\n"
     ]
    },
    {
     "name": "stderr",
     "output_type": "stream",
     "text": [
      "WARNING:aqc_utils.slurm_manager:Molecule COc1ccc(cc1)C already exists with the same Gaussian config with tags ['test_JulesSchleinitz']. Not creating jobs.\n",
      "INFO:aqc_utils.gaussian_input_generator:Generating Gaussian input files for 1 conformations.\n",
      "WARNING:aqc_utils.slurm_manager:A job with exactly the same parameters, molecule COc1ccc(cc1)[C@H](N(C)C)C, conformation 0, workflow ('opt b3lyp/6-31G* scf=(xqc,tight)', 'freq b3lyp/6-31G* volume NMR pop=NPA density=current Geom=AllCheck Guess=Read', 'TD(NStates=10, Root=1) b3lyp/6-31G* volume pop=NPA density=current Geom=AllCheck Guess=Read') already exists. Not creating a duplicate\n"
     ]
    },
    {
     "name": "stdout",
     "output_type": "stream",
     "text": [
      "C11H17NO_9080_conf_0\n"
     ]
    },
    {
     "name": "stderr",
     "output_type": "stream",
     "text": [
      "INFO:aqc_utils.gaussian_input_generator:Generating Gaussian input files for 1 conformations.\n",
      "WARNING:aqc_utils.slurm_manager:A job with exactly the same parameters, molecule COc1ccc(cc1)[C@@H](N(C)C)C, conformation 0, workflow ('opt b3lyp/6-31G* scf=(xqc,tight)', 'freq b3lyp/6-31G* volume NMR pop=NPA density=current Geom=AllCheck Guess=Read', 'TD(NStates=10, Root=1) b3lyp/6-31G* volume pop=NPA density=current Geom=AllCheck Guess=Read') already exists. Not creating a duplicate\n"
     ]
    },
    {
     "name": "stdout",
     "output_type": "stream",
     "text": [
      "C11H17NO_d167_conf_0\n"
     ]
    },
    {
     "name": "stderr",
     "output_type": "stream",
     "text": [
      "WARNING:aqc_utils.slurm_manager:Molecule OCc1ccc(cc1)OC already exists with the same Gaussian config with tags ['test_JulesSchleinitz']. Not creating jobs.\n",
      "WARNING:aqc_utils.slurm_manager:Molecule OCCc1ccc(cc1)OC already exists with the same Gaussian config with tags ['test_JulesSchleinitz']. Not creating jobs.\n",
      "INFO:aqc_utils.gaussian_input_generator:Generating Gaussian input files for 1 conformations.\n"
     ]
    },
    {
     "name": "stdout",
     "output_type": "stream",
     "text": [
      "C10H9NO_4229_conf_0\n"
     ]
    },
    {
     "name": "stderr",
     "output_type": "stream",
     "text": [
      "INFO:aqc_utils.gaussian_input_generator:Generating Gaussian input files for 1 conformations.\n",
      "WARNING:aqc_utils.slurm_manager:A job with exactly the same parameters, molecule COc1ccc2c(c1)ccn2C, conformation 0, workflow ('opt b3lyp/6-31G* scf=(xqc,tight)', 'freq b3lyp/6-31G* volume NMR pop=NPA density=current Geom=AllCheck Guess=Read', 'TD(NStates=10, Root=1) b3lyp/6-31G* volume pop=NPA density=current Geom=AllCheck Guess=Read') already exists. Not creating a duplicate\n"
     ]
    },
    {
     "name": "stdout",
     "output_type": "stream",
     "text": [
      "C10H11NO_10ad_conf_0\n"
     ]
    },
    {
     "name": "stderr",
     "output_type": "stream",
     "text": [
      "INFO:aqc_utils.gaussian_input_generator:Generating Gaussian input files for 1 conformations.\n",
      "WARNING:aqc_utils.slurm_manager:A job with exactly the same parameters, molecule COc1ccc2c(c1)c1ccccc1n2C, conformation 0, workflow ('opt b3lyp/6-31G* scf=(xqc,tight)', 'freq b3lyp/6-31G* volume NMR pop=NPA density=current Geom=AllCheck Guess=Read', 'TD(NStates=10, Root=1) b3lyp/6-31G* volume pop=NPA density=current Geom=AllCheck Guess=Read') already exists. Not creating a duplicate\n"
     ]
    },
    {
     "name": "stdout",
     "output_type": "stream",
     "text": [
      "C14H13NO_5f00_conf_0\n"
     ]
    },
    {
     "name": "stderr",
     "output_type": "stream",
     "text": [
      "INFO:aqc_utils.gaussian_input_generator:Generating Gaussian input files for 1 conformations.\n",
      "WARNING:aqc_utils.slurm_manager:A job with exactly the same parameters, molecule CCOc1ccc2c(c1)cccc2, conformation 0, workflow ('opt b3lyp/6-31G* scf=(xqc,tight)', 'freq b3lyp/6-31G* volume NMR pop=NPA density=current Geom=AllCheck Guess=Read', 'TD(NStates=10, Root=1) b3lyp/6-31G* volume pop=NPA density=current Geom=AllCheck Guess=Read') already exists. Not creating a duplicate\n"
     ]
    },
    {
     "name": "stdout",
     "output_type": "stream",
     "text": [
      "C12H12O_d53c_conf_0\n"
     ]
    },
    {
     "name": "stderr",
     "output_type": "stream",
     "text": [
      "INFO:aqc_utils.gaussian_input_generator:Generating Gaussian input files for 1 conformations.\n",
      "WARNING:aqc_utils.slurm_manager:A job with exactly the same parameters, molecule CC(Oc1ccc2c(c1)cccc2)C, conformation 0, workflow ('opt b3lyp/6-31G* scf=(xqc,tight)', 'freq b3lyp/6-31G* volume NMR pop=NPA density=current Geom=AllCheck Guess=Read', 'TD(NStates=10, Root=1) b3lyp/6-31G* volume pop=NPA density=current Geom=AllCheck Guess=Read') already exists. Not creating a duplicate\n"
     ]
    },
    {
     "name": "stdout",
     "output_type": "stream",
     "text": [
      "C13H14O_eb43_conf_0\n"
     ]
    },
    {
     "name": "stderr",
     "output_type": "stream",
     "text": [
      "INFO:aqc_utils.gaussian_input_generator:Generating Gaussian input files for 1 conformations.\n",
      "WARNING:aqc_utils.slurm_manager:A job with exactly the same parameters, molecule C[Si](Oc1ccc2c(c1)cccc2)(C)C, conformation 0, workflow ('opt b3lyp/6-31G* scf=(xqc,tight)', 'freq b3lyp/6-31G* volume NMR pop=NPA density=current Geom=AllCheck Guess=Read', 'TD(NStates=10, Root=1) b3lyp/6-31G* volume pop=NPA density=current Geom=AllCheck Guess=Read') already exists. Not creating a duplicate\n"
     ]
    },
    {
     "name": "stdout",
     "output_type": "stream",
     "text": [
      "C13H16OSi_b5e5_conf_0\n"
     ]
    },
    {
     "name": "stderr",
     "output_type": "stream",
     "text": [
      "INFO:aqc_utils.gaussian_input_generator:Generating Gaussian input files for 1 conformations.\n",
      "WARNING:aqc_utils.slurm_manager:A job with exactly the same parameters, molecule C[Si](C(C)(C)C)(Oc1ccc2c(c1)cccc2)C, conformation 0, workflow ('opt b3lyp/6-31G* scf=(xqc,tight)', 'freq b3lyp/6-31G* volume NMR pop=NPA density=current Geom=AllCheck Guess=Read', 'TD(NStates=10, Root=1) b3lyp/6-31G* volume pop=NPA density=current Geom=AllCheck Guess=Read') already exists. Not creating a duplicate\n"
     ]
    },
    {
     "name": "stdout",
     "output_type": "stream",
     "text": [
      "C16H22OSi_6b20_conf_0\n"
     ]
    },
    {
     "name": "stderr",
     "output_type": "stream",
     "text": [
      "INFO:aqc_utils.gaussian_input_generator:Generating Gaussian input files for 1 conformations.\n",
      "WARNING:aqc_utils.slurm_manager:A job with exactly the same parameters, molecule CC[Si](Oc1ccc2c(c1)cccc2)(C)C, conformation 0, workflow ('opt b3lyp/6-31G* scf=(xqc,tight)', 'freq b3lyp/6-31G* volume NMR pop=NPA density=current Geom=AllCheck Guess=Read', 'TD(NStates=10, Root=1) b3lyp/6-31G* volume pop=NPA density=current Geom=AllCheck Guess=Read') already exists. Not creating a duplicate\n"
     ]
    },
    {
     "name": "stdout",
     "output_type": "stream",
     "text": [
      "C14H18OSi_822f_conf_0\n"
     ]
    },
    {
     "name": "stderr",
     "output_type": "stream",
     "text": [
      "INFO:aqc_utils.gaussian_input_generator:Generating Gaussian input files for 1 conformations.\n",
      "WARNING:aqc_utils.slurm_manager:A job with exactly the same parameters, molecule CC([Si](Oc1ccc2c(c1)cccc2)(C)C)C, conformation 0, workflow ('opt b3lyp/6-31G* scf=(xqc,tight)', 'freq b3lyp/6-31G* volume NMR pop=NPA density=current Geom=AllCheck Guess=Read', 'TD(NStates=10, Root=1) b3lyp/6-31G* volume pop=NPA density=current Geom=AllCheck Guess=Read') already exists. Not creating a duplicate\n"
     ]
    },
    {
     "name": "stdout",
     "output_type": "stream",
     "text": [
      "C15H20OSi_a8a8_conf_0\n"
     ]
    },
    {
     "name": "stderr",
     "output_type": "stream",
     "text": [
      "INFO:aqc_utils.gaussian_input_generator:Generating Gaussian input files for 1 conformations.\n",
      "WARNING:aqc_utils.slurm_manager:A job with exactly the same parameters, molecule C[Si](c1ccccc1)(Oc1ccc2c(c1)cccc2)C, conformation 0, workflow ('opt b3lyp/6-31G* scf=(xqc,tight)', 'freq b3lyp/6-31G* volume NMR pop=NPA density=current Geom=AllCheck Guess=Read', 'TD(NStates=10, Root=1) b3lyp/6-31G* volume pop=NPA density=current Geom=AllCheck Guess=Read') already exists. Not creating a duplicate\n"
     ]
    },
    {
     "name": "stdout",
     "output_type": "stream",
     "text": [
      "C18H18OSi_c01b_conf_0\n"
     ]
    },
    {
     "name": "stderr",
     "output_type": "stream",
     "text": [
      "INFO:aqc_utils.gaussian_input_generator:Generating Gaussian input files for 1 conformations.\n"
     ]
    },
    {
     "name": "stdout",
     "output_type": "stream",
     "text": [
      "C16H22OSi_f167_conf_0\n"
     ]
    },
    {
     "name": "stderr",
     "output_type": "stream",
     "text": [
      "INFO:aqc_utils.gaussian_input_generator:Generating Gaussian input files for 1 conformations.\n"
     ]
    },
    {
     "name": "stdout",
     "output_type": "stream",
     "text": [
      "C15H18OSi_a4e1_conf_0\n"
     ]
    },
    {
     "name": "stderr",
     "output_type": "stream",
     "text": [
      "INFO:aqc_utils.gaussian_input_generator:Generating Gaussian input files for 1 conformations.\n"
     ]
    },
    {
     "name": "stdout",
     "output_type": "stream",
     "text": [
      "C15H16O2_0fde_conf_0\n"
     ]
    },
    {
     "name": "stderr",
     "output_type": "stream",
     "text": [
      "INFO:aqc_utils.gaussian_input_generator:Generating Gaussian input files for 1 conformations.\n"
     ]
    },
    {
     "name": "stdout",
     "output_type": "stream",
     "text": [
      "C13H13NO2_e6d7_conf_0\n"
     ]
    },
    {
     "name": "stderr",
     "output_type": "stream",
     "text": [
      "INFO:aqc_utils.gaussian_input_generator:Generating Gaussian input files for 1 conformations.\n"
     ]
    },
    {
     "name": "stdout",
     "output_type": "stream",
     "text": [
      "C14H14O_bfed_conf_0\n"
     ]
    },
    {
     "name": "stderr",
     "output_type": "stream",
     "text": [
      "INFO:aqc_utils.gaussian_input_generator:Generating Gaussian input files for 1 conformations.\n"
     ]
    },
    {
     "name": "stdout",
     "output_type": "stream",
     "text": [
      "C16H20O2_02c6_conf_0\n"
     ]
    },
    {
     "name": "stderr",
     "output_type": "stream",
     "text": [
      "INFO:aqc_utils.gaussian_input_generator:Generating Gaussian input files for 1 conformations.\n"
     ]
    },
    {
     "name": "stdout",
     "output_type": "stream",
     "text": [
      "C17H14O_ba44_conf_0\n"
     ]
    },
    {
     "name": "stderr",
     "output_type": "stream",
     "text": [
      "INFO:aqc_utils.gaussian_input_generator:Generating Gaussian input files for 1 conformations.\n"
     ]
    },
    {
     "name": "stdout",
     "output_type": "stream",
     "text": [
      "C14H18O2Si_6237_conf_0\n"
     ]
    },
    {
     "name": "stderr",
     "output_type": "stream",
     "text": [
      "INFO:aqc_utils.gaussian_input_generator:Generating Gaussian input files for 1 conformations.\n"
     ]
    },
    {
     "name": "stdout",
     "output_type": "stream",
     "text": [
      "C15H17NO_d02c_conf_0\n"
     ]
    },
    {
     "name": "stderr",
     "output_type": "stream",
     "text": [
      "INFO:aqc_utils.gaussian_input_generator:Generating Gaussian input files for 1 conformations.\n"
     ]
    },
    {
     "name": "stdout",
     "output_type": "stream",
     "text": [
      "C12H12O_8814_conf_0\n"
     ]
    },
    {
     "name": "stderr",
     "output_type": "stream",
     "text": [
      "INFO:aqc_utils.gaussian_input_generator:Generating Gaussian input files for 1 conformations.\n"
     ]
    },
    {
     "name": "stdout",
     "output_type": "stream",
     "text": [
      "C13H12O_ab52_conf_0\n"
     ]
    },
    {
     "name": "stderr",
     "output_type": "stream",
     "text": [
      "INFO:aqc_utils.gaussian_input_generator:Generating Gaussian input files for 1 conformations.\n"
     ]
    },
    {
     "name": "stdout",
     "output_type": "stream",
     "text": [
      "C12H13N3O4_bf2b_conf_0\n"
     ]
    },
    {
     "name": "stderr",
     "output_type": "stream",
     "text": [
      "INFO:aqc_utils.gaussian_input_generator:Generating Gaussian input files for 1 conformations.\n"
     ]
    },
    {
     "name": "stdout",
     "output_type": "stream",
     "text": [
      "C10H13NO3_ea97_conf_0\n"
     ]
    },
    {
     "name": "stderr",
     "output_type": "stream",
     "text": [
      "INFO:aqc_utils.gaussian_input_generator:Generating Gaussian input files for 1 conformations.\n"
     ]
    },
    {
     "name": "stdout",
     "output_type": "stream",
     "text": [
      "C12H16O3_1fc3_conf_0\n"
     ]
    },
    {
     "name": "stderr",
     "output_type": "stream",
     "text": [
      "INFO:aqc_utils.gaussian_input_generator:Generating Gaussian input files for 1 conformations.\n"
     ]
    },
    {
     "name": "stdout",
     "output_type": "stream",
     "text": [
      "C12H13N3O4_14b8_conf_0\n"
     ]
    },
    {
     "name": "stderr",
     "output_type": "stream",
     "text": [
      "INFO:aqc_utils.gaussian_input_generator:Generating Gaussian input files for 1 conformations.\n"
     ]
    },
    {
     "name": "stdout",
     "output_type": "stream",
     "text": [
      "C11H11N3O3_9e0c_conf_0\n"
     ]
    },
    {
     "name": "stderr",
     "output_type": "stream",
     "text": [
      "INFO:aqc_utils.gaussian_input_generator:Generating Gaussian input files for 1 conformations.\n"
     ]
    },
    {
     "name": "stdout",
     "output_type": "stream",
     "text": [
      "C12H13N3O3_5bd4_conf_0\n"
     ]
    },
    {
     "name": "stderr",
     "output_type": "stream",
     "text": [
      "INFO:aqc_utils.gaussian_input_generator:Generating Gaussian input files for 1 conformations.\n"
     ]
    },
    {
     "name": "stdout",
     "output_type": "stream",
     "text": [
      "C12H13N3O3_6a35_conf_0\n"
     ]
    },
    {
     "name": "stderr",
     "output_type": "stream",
     "text": [
      "INFO:aqc_utils.gaussian_input_generator:Generating Gaussian input files for 1 conformations.\n"
     ]
    },
    {
     "name": "stdout",
     "output_type": "stream",
     "text": [
      "C15H13N3O3_2f50_conf_0\n"
     ]
    },
    {
     "name": "stderr",
     "output_type": "stream",
     "text": [
      "INFO:aqc_utils.gaussian_input_generator:Generating Gaussian input files for 1 conformations.\n"
     ]
    },
    {
     "name": "stdout",
     "output_type": "stream",
     "text": [
      "C12H13N3O3_2742_conf_0\n"
     ]
    },
    {
     "name": "stderr",
     "output_type": "stream",
     "text": [
      "INFO:aqc_utils.gaussian_input_generator:Generating Gaussian input files for 1 conformations.\n"
     ]
    },
    {
     "name": "stdout",
     "output_type": "stream",
     "text": [
      "C15H13N3O3_2849_conf_0\n"
     ]
    },
    {
     "name": "stderr",
     "output_type": "stream",
     "text": [
      "INFO:aqc_utils.gaussian_input_generator:Generating Gaussian input files for 1 conformations.\n"
     ]
    },
    {
     "name": "stdout",
     "output_type": "stream",
     "text": [
      "C13H15N3O3_3919_conf_0\n"
     ]
    },
    {
     "name": "stderr",
     "output_type": "stream",
     "text": [
      "INFO:aqc_utils.gaussian_input_generator:Generating Gaussian input files for 1 conformations.\n"
     ]
    },
    {
     "name": "stdout",
     "output_type": "stream",
     "text": [
      "C15H19N3O3_8d99_conf_0\n"
     ]
    },
    {
     "name": "stderr",
     "output_type": "stream",
     "text": [
      "INFO:aqc_utils.gaussian_input_generator:Generating Gaussian input files for 1 conformations.\n"
     ]
    },
    {
     "name": "stdout",
     "output_type": "stream",
     "text": [
      "C13H14N4O4_0cc9_conf_0\n"
     ]
    },
    {
     "name": "stderr",
     "output_type": "stream",
     "text": [
      "INFO:aqc_utils.gaussian_input_generator:Generating Gaussian input files for 1 conformations.\n"
     ]
    },
    {
     "name": "stdout",
     "output_type": "stream",
     "text": [
      "C13H13N3O5_5438_conf_0\n"
     ]
    },
    {
     "name": "stderr",
     "output_type": "stream",
     "text": [
      "INFO:aqc_utils.gaussian_input_generator:Generating Gaussian input files for 1 conformations.\n"
     ]
    },
    {
     "name": "stdout",
     "output_type": "stream",
     "text": [
      "C12H10N4O3_7d75_conf_0\n"
     ]
    },
    {
     "name": "stderr",
     "output_type": "stream",
     "text": [
      "INFO:aqc_utils.gaussian_input_generator:Generating Gaussian input files for 1 conformations.\n"
     ]
    },
    {
     "name": "stdout",
     "output_type": "stream",
     "text": [
      "C12H11N3O4_8e61_conf_0\n"
     ]
    },
    {
     "name": "stderr",
     "output_type": "stream",
     "text": [
      "INFO:aqc_utils.gaussian_input_generator:Generating Gaussian input files for 1 conformations.\n"
     ]
    },
    {
     "name": "stdout",
     "output_type": "stream",
     "text": [
      "C13H13N3O4_1ad7_conf_0\n"
     ]
    },
    {
     "name": "stderr",
     "output_type": "stream",
     "text": [
      "INFO:aqc_utils.gaussian_input_generator:Generating Gaussian input files for 1 conformations.\n"
     ]
    },
    {
     "name": "stdout",
     "output_type": "stream",
     "text": [
      "C11H10N4O5_7391_conf_0\n"
     ]
    },
    {
     "name": "stderr",
     "output_type": "stream",
     "text": [
      "INFO:aqc_utils.gaussian_input_generator:Generating Gaussian input files for 1 conformations.\n"
     ]
    },
    {
     "name": "stdout",
     "output_type": "stream",
     "text": [
      "C11H10FN3O3_5e60_conf_0\n"
     ]
    },
    {
     "name": "stderr",
     "output_type": "stream",
     "text": [
      "INFO:aqc_utils.gaussian_input_generator:Generating Gaussian input files for 1 conformations.\n"
     ]
    },
    {
     "name": "stdout",
     "output_type": "stream",
     "text": [
      "C12H10F3N3O3_131d_conf_0\n"
     ]
    },
    {
     "name": "stderr",
     "output_type": "stream",
     "text": [
      "INFO:aqc_utils.gaussian_input_generator:Generating Gaussian input files for 1 conformations.\n"
     ]
    },
    {
     "name": "stdout",
     "output_type": "stream",
     "text": [
      "C13H13N3O4_0f4f_conf_0\n"
     ]
    },
    {
     "name": "stderr",
     "output_type": "stream",
     "text": [
      "INFO:aqc_utils.gaussian_input_generator:Generating Gaussian input files for 1 conformations.\n"
     ]
    },
    {
     "name": "stdout",
     "output_type": "stream",
     "text": [
      "C10H13NO2_cdd4_conf_0\n"
     ]
    },
    {
     "name": "stderr",
     "output_type": "stream",
     "text": [
      "INFO:aqc_utils.gaussian_input_generator:Generating Gaussian input files for 1 conformations.\n"
     ]
    },
    {
     "name": "stdout",
     "output_type": "stream",
     "text": [
      "C15H13N3O5_662d_conf_0\n"
     ]
    },
    {
     "name": "stderr",
     "output_type": "stream",
     "text": [
      "INFO:aqc_utils.gaussian_input_generator:Generating Gaussian input files for 1 conformations.\n"
     ]
    },
    {
     "name": "stdout",
     "output_type": "stream",
     "text": [
      "C23H27N3O4_c44b_conf_0\n"
     ]
    },
    {
     "name": "stderr",
     "output_type": "stream",
     "text": [
      "INFO:aqc_utils.gaussian_input_generator:Generating Gaussian input files for 1 conformations.\n"
     ]
    },
    {
     "name": "stdout",
     "output_type": "stream",
     "text": [
      "C16H13NO_d1d1_conf_0\n"
     ]
    },
    {
     "name": "stderr",
     "output_type": "stream",
     "text": [
      "INFO:aqc_utils.gaussian_input_generator:Generating Gaussian input files for 1 conformations.\n"
     ]
    },
    {
     "name": "stdout",
     "output_type": "stream",
     "text": [
      "C23H19NO_cf87_conf_0\n"
     ]
    },
    {
     "name": "stderr",
     "output_type": "stream",
     "text": [
      "INFO:aqc_utils.gaussian_input_generator:Generating Gaussian input files for 1 conformations.\n"
     ]
    },
    {
     "name": "stdout",
     "output_type": "stream",
     "text": [
      "C18H16O_05c6_conf_0\n"
     ]
    },
    {
     "name": "stderr",
     "output_type": "stream",
     "text": [
      "INFO:aqc_utils.gaussian_input_generator:Generating Gaussian input files for 1 conformations.\n"
     ]
    },
    {
     "name": "stdout",
     "output_type": "stream",
     "text": [
      "C18H16O_98f8_conf_0\n"
     ]
    },
    {
     "name": "stderr",
     "output_type": "stream",
     "text": [
      "INFO:aqc_utils.gaussian_input_generator:Generating Gaussian input files for 1 conformations.\n"
     ]
    },
    {
     "name": "stdout",
     "output_type": "stream",
     "text": [
      "C18H16O_eb3d_conf_0\n"
     ]
    },
    {
     "name": "stderr",
     "output_type": "stream",
     "text": [
      "INFO:aqc_utils.gaussian_input_generator:Generating Gaussian input files for 1 conformations.\n"
     ]
    },
    {
     "name": "stdout",
     "output_type": "stream",
     "text": [
      "C21H22O_6aea_conf_0\n"
     ]
    },
    {
     "name": "stderr",
     "output_type": "stream",
     "text": [
      "INFO:aqc_utils.gaussian_input_generator:Generating Gaussian input files for 1 conformations.\n"
     ]
    },
    {
     "name": "stdout",
     "output_type": "stream",
     "text": [
      "C25H22O_6bd2_conf_0\n"
     ]
    },
    {
     "name": "stderr",
     "output_type": "stream",
     "text": [
      "INFO:aqc_utils.gaussian_input_generator:Generating Gaussian input files for 1 conformations.\n"
     ]
    },
    {
     "name": "stdout",
     "output_type": "stream",
     "text": [
      "C23H17NO_adaf_conf_0\n"
     ]
    },
    {
     "name": "stderr",
     "output_type": "stream",
     "text": [
      "INFO:aqc_utils.gaussian_input_generator:Generating Gaussian input files for 1 conformations.\n"
     ]
    },
    {
     "name": "stdout",
     "output_type": "stream",
     "text": [
      "C27H18O_3e88_conf_0\n"
     ]
    },
    {
     "name": "stderr",
     "output_type": "stream",
     "text": [
      "INFO:aqc_utils.gaussian_input_generator:Generating Gaussian input files for 1 conformations.\n"
     ]
    },
    {
     "name": "stdout",
     "output_type": "stream",
     "text": [
      "C19H16O_a062_conf_0\n"
     ]
    },
    {
     "name": "stderr",
     "output_type": "stream",
     "text": [
      "INFO:aqc_utils.gaussian_input_generator:Generating Gaussian input files for 1 conformations.\n"
     ]
    },
    {
     "name": "stdout",
     "output_type": "stream",
     "text": [
      "C14H16O2_0a89_conf_0\n"
     ]
    },
    {
     "name": "stderr",
     "output_type": "stream",
     "text": [
      "INFO:aqc_utils.gaussian_input_generator:Generating Gaussian input files for 1 conformations.\n"
     ]
    },
    {
     "name": "stdout",
     "output_type": "stream",
     "text": [
      "C23H19NO_96a7_conf_0\n"
     ]
    },
    {
     "name": "stderr",
     "output_type": "stream",
     "text": [
      "INFO:aqc_utils.gaussian_input_generator:Generating Gaussian input files for 1 conformations.\n"
     ]
    },
    {
     "name": "stdout",
     "output_type": "stream",
     "text": [
      "C17H14O_1807_conf_0\n"
     ]
    },
    {
     "name": "stderr",
     "output_type": "stream",
     "text": [
      "INFO:aqc_utils.gaussian_input_generator:Generating Gaussian input files for 1 conformations.\n"
     ]
    },
    {
     "name": "stdout",
     "output_type": "stream",
     "text": [
      "C18H16O_c748_conf_0\n"
     ]
    },
    {
     "name": "stderr",
     "output_type": "stream",
     "text": [
      "INFO:aqc_utils.gaussian_input_generator:Generating Gaussian input files for 1 conformations.\n"
     ]
    },
    {
     "name": "stdout",
     "output_type": "stream",
     "text": [
      "C21H22O_8753_conf_0\n"
     ]
    },
    {
     "name": "stderr",
     "output_type": "stream",
     "text": [
      "INFO:aqc_utils.gaussian_input_generator:Generating Gaussian input files for 1 conformations.\n"
     ]
    },
    {
     "name": "stdout",
     "output_type": "stream",
     "text": [
      "C17H14O_cbb6_conf_0\n"
     ]
    },
    {
     "name": "stderr",
     "output_type": "stream",
     "text": [
      "INFO:aqc_utils.gaussian_input_generator:Generating Gaussian input files for 1 conformations.\n"
     ]
    },
    {
     "name": "stdout",
     "output_type": "stream",
     "text": [
      "C7H8O_1d31_conf_0\n"
     ]
    },
    {
     "name": "stderr",
     "output_type": "stream",
     "text": [
      "INFO:aqc_utils.gaussian_input_generator:Generating Gaussian input files for 1 conformations.\n"
     ]
    },
    {
     "name": "stdout",
     "output_type": "stream",
     "text": [
      "C8H10O_46e0_conf_0\n"
     ]
    },
    {
     "name": "stderr",
     "output_type": "stream",
     "text": [
      "INFO:aqc_utils.gaussian_input_generator:Generating Gaussian input files for 1 conformations.\n"
     ]
    },
    {
     "name": "stdout",
     "output_type": "stream",
     "text": [
      "C8H10O_6396_conf_0\n"
     ]
    },
    {
     "name": "stderr",
     "output_type": "stream",
     "text": [
      "INFO:aqc_utils.gaussian_input_generator:Generating Gaussian input files for 1 conformations.\n"
     ]
    },
    {
     "name": "stdout",
     "output_type": "stream",
     "text": [
      "C9H12O_83e4_conf_0\n"
     ]
    },
    {
     "name": "stderr",
     "output_type": "stream",
     "text": [
      "INFO:aqc_utils.gaussian_input_generator:Generating Gaussian input files for 1 conformations.\n"
     ]
    },
    {
     "name": "stdout",
     "output_type": "stream",
     "text": [
      "C9H12O_c006_conf_0\n"
     ]
    },
    {
     "name": "stderr",
     "output_type": "stream",
     "text": [
      "INFO:aqc_utils.gaussian_input_generator:Generating Gaussian input files for 1 conformations.\n"
     ]
    },
    {
     "name": "stdout",
     "output_type": "stream",
     "text": [
      "C11H16O_d8ee_conf_0\n"
     ]
    },
    {
     "name": "stderr",
     "output_type": "stream",
     "text": [
      "INFO:aqc_utils.gaussian_input_generator:Generating Gaussian input files for 1 conformations.\n"
     ]
    },
    {
     "name": "stdout",
     "output_type": "stream",
     "text": [
      "C13H12O_e894_conf_0\n"
     ]
    },
    {
     "name": "stderr",
     "output_type": "stream",
     "text": [
      "INFO:aqc_utils.gaussian_input_generator:Generating Gaussian input files for 1 conformations.\n"
     ]
    },
    {
     "name": "stdout",
     "output_type": "stream",
     "text": [
      "C14H14O_5486_conf_0\n"
     ]
    },
    {
     "name": "stderr",
     "output_type": "stream",
     "text": [
      "INFO:aqc_utils.gaussian_input_generator:Generating Gaussian input files for 1 conformations.\n"
     ]
    },
    {
     "name": "stdout",
     "output_type": "stream",
     "text": [
      "C17H20O_df8f_conf_0\n"
     ]
    },
    {
     "name": "stderr",
     "output_type": "stream",
     "text": [
      "INFO:aqc_utils.gaussian_input_generator:Generating Gaussian input files for 1 conformations.\n"
     ]
    },
    {
     "name": "stdout",
     "output_type": "stream",
     "text": [
      "C19H17NO_1979_conf_0\n"
     ]
    },
    {
     "name": "stderr",
     "output_type": "stream",
     "text": [
      "INFO:aqc_utils.gaussian_input_generator:Generating Gaussian input files for 1 conformations.\n"
     ]
    },
    {
     "name": "stdout",
     "output_type": "stream",
     "text": [
      "C19H17NO_878f_conf_0\n"
     ]
    },
    {
     "name": "stderr",
     "output_type": "stream",
     "text": [
      "INFO:aqc_utils.gaussian_input_generator:Generating Gaussian input files for 1 conformations.\n"
     ]
    },
    {
     "name": "stdout",
     "output_type": "stream",
     "text": [
      "C9H13NO_9cce_conf_0\n"
     ]
    },
    {
     "name": "stderr",
     "output_type": "stream",
     "text": [
      "INFO:aqc_utils.gaussian_input_generator:Generating Gaussian input files for 1 conformations.\n"
     ]
    },
    {
     "name": "stdout",
     "output_type": "stream",
     "text": [
      "C9H13NO_84eb_conf_0\n"
     ]
    },
    {
     "name": "stderr",
     "output_type": "stream",
     "text": [
      "INFO:aqc_utils.gaussian_input_generator:Generating Gaussian input files for 1 conformations.\n"
     ]
    },
    {
     "name": "stdout",
     "output_type": "stream",
     "text": [
      "C15H14O_5067_conf_0\n"
     ]
    },
    {
     "name": "stderr",
     "output_type": "stream",
     "text": [
      "INFO:aqc_utils.gaussian_input_generator:Generating Gaussian input files for 1 conformations.\n"
     ]
    },
    {
     "name": "stdout",
     "output_type": "stream",
     "text": [
      "C11H11NO_f632_conf_0\n"
     ]
    },
    {
     "name": "stderr",
     "output_type": "stream",
     "text": [
      "INFO:aqc_utils.gaussian_input_generator:Generating Gaussian input files for 1 conformations.\n"
     ]
    },
    {
     "name": "stdout",
     "output_type": "stream",
     "text": [
      "C19H15NO_bad5_conf_0\n"
     ]
    },
    {
     "name": "stderr",
     "output_type": "stream",
     "text": [
      "INFO:aqc_utils.gaussian_input_generator:Generating Gaussian input files for 1 conformations.\n"
     ]
    },
    {
     "name": "stdout",
     "output_type": "stream",
     "text": [
      "C20H28O2_ed25_conf_0\n"
     ]
    },
    {
     "name": "stderr",
     "output_type": "stream",
     "text": [
      "INFO:aqc_utils.gaussian_input_generator:Generating Gaussian input files for 1 conformations.\n"
     ]
    },
    {
     "name": "stdout",
     "output_type": "stream",
     "text": [
      "C11H9BrO_917c_conf_0\n"
     ]
    },
    {
     "name": "stderr",
     "output_type": "stream",
     "text": [
      "INFO:aqc_utils.gaussian_input_generator:Generating Gaussian input files for 1 conformations.\n"
     ]
    },
    {
     "name": "stdout",
     "output_type": "stream",
     "text": [
      "C11H9FO_8acc_conf_0\n"
     ]
    },
    {
     "name": "stderr",
     "output_type": "stream",
     "text": [
      "INFO:aqc_utils.gaussian_input_generator:Generating Gaussian input files for 1 conformations.\n"
     ]
    },
    {
     "name": "stdout",
     "output_type": "stream",
     "text": [
      "C12H9F3O_6168_conf_0\n"
     ]
    },
    {
     "name": "stderr",
     "output_type": "stream",
     "text": [
      "INFO:aqc_utils.gaussian_input_generator:Generating Gaussian input files for 1 conformations.\n"
     ]
    },
    {
     "name": "stdout",
     "output_type": "stream",
     "text": [
      "C12H9NO_e727_conf_0\n"
     ]
    },
    {
     "name": "stderr",
     "output_type": "stream",
     "text": [
      "INFO:aqc_utils.gaussian_input_generator:Generating Gaussian input files for 1 conformations.\n"
     ]
    },
    {
     "name": "stdout",
     "output_type": "stream",
     "text": [
      "C13H12O2_7ba9_conf_0\n"
     ]
    },
    {
     "name": "stderr",
     "output_type": "stream",
     "text": [
      "INFO:aqc_utils.gaussian_input_generator:Generating Gaussian input files for 1 conformations.\n"
     ]
    },
    {
     "name": "stdout",
     "output_type": "stream",
     "text": [
      "C17H14O2_d9db_conf_0\n"
     ]
    },
    {
     "name": "stderr",
     "output_type": "stream",
     "text": [
      "INFO:aqc_utils.gaussian_input_generator:Generating Gaussian input files for 1 conformations.\n"
     ]
    },
    {
     "name": "stdout",
     "output_type": "stream",
     "text": [
      "C7H7BrO_dfe3_conf_0\n"
     ]
    },
    {
     "name": "stderr",
     "output_type": "stream",
     "text": [
      "INFO:aqc_utils.gaussian_input_generator:Generating Gaussian input files for 1 conformations.\n"
     ]
    },
    {
     "name": "stdout",
     "output_type": "stream",
     "text": [
      "C7H7IO_fd08_conf_0\n"
     ]
    },
    {
     "name": "stderr",
     "output_type": "stream",
     "text": [
      "INFO:aqc_utils.gaussian_input_generator:Generating Gaussian input files for 1 conformations.\n"
     ]
    },
    {
     "name": "stdout",
     "output_type": "stream",
     "text": [
      "C8H7F3O_898c_conf_0\n"
     ]
    },
    {
     "name": "stderr",
     "output_type": "stream",
     "text": [
      "INFO:aqc_utils.gaussian_input_generator:Generating Gaussian input files for 1 conformations.\n"
     ]
    },
    {
     "name": "stdout",
     "output_type": "stream",
     "text": [
      "C8H7NO_b4eb_conf_0\n"
     ]
    },
    {
     "name": "stderr",
     "output_type": "stream",
     "text": [
      "INFO:aqc_utils.gaussian_input_generator:Generating Gaussian input files for 1 conformations.\n"
     ]
    },
    {
     "name": "stdout",
     "output_type": "stream",
     "text": [
      "C7H7NO3_8511_conf_0\n"
     ]
    },
    {
     "name": "stderr",
     "output_type": "stream",
     "text": [
      "INFO:aqc_utils.gaussian_input_generator:Generating Gaussian input files for 1 conformations.\n"
     ]
    },
    {
     "name": "stdout",
     "output_type": "stream",
     "text": [
      "C14H13ClO_79f2_conf_0\n"
     ]
    },
    {
     "name": "stderr",
     "output_type": "stream",
     "text": [
      "INFO:aqc_utils.gaussian_input_generator:Generating Gaussian input files for 1 conformations.\n"
     ]
    },
    {
     "name": "stdout",
     "output_type": "stream",
     "text": [
      "C8H7F3O_6429_conf_0\n"
     ]
    },
    {
     "name": "stderr",
     "output_type": "stream",
     "text": [
      "INFO:aqc_utils.gaussian_input_generator:Generating Gaussian input files for 1 conformations.\n"
     ]
    },
    {
     "name": "stdout",
     "output_type": "stream",
     "text": [
      "C8H7NO_5732_conf_0\n"
     ]
    },
    {
     "name": "stderr",
     "output_type": "stream",
     "text": [
      "INFO:aqc_utils.gaussian_input_generator:Generating Gaussian input files for 1 conformations.\n"
     ]
    },
    {
     "name": "stdout",
     "output_type": "stream",
     "text": [
      "C7H7NO3_5e8a_conf_0\n"
     ]
    },
    {
     "name": "stderr",
     "output_type": "stream",
     "text": [
      "INFO:aqc_utils.gaussian_input_generator:Generating Gaussian input files for 1 conformations.\n"
     ]
    },
    {
     "name": "stdout",
     "output_type": "stream",
     "text": [
      "C9H10O2_172f_conf_0\n"
     ]
    },
    {
     "name": "stderr",
     "output_type": "stream",
     "text": [
      "INFO:aqc_utils.gaussian_input_generator:Generating Gaussian input files for 1 conformations.\n"
     ]
    },
    {
     "name": "stdout",
     "output_type": "stream",
     "text": [
      "C9H10O3_cd0a_conf_0\n"
     ]
    },
    {
     "name": "stderr",
     "output_type": "stream",
     "text": [
      "INFO:aqc_utils.gaussian_input_generator:Generating Gaussian input files for 1 conformations.\n"
     ]
    },
    {
     "name": "stdout",
     "output_type": "stream",
     "text": [
      "C12H10O2_f078_conf_0\n"
     ]
    },
    {
     "name": "stderr",
     "output_type": "stream",
     "text": [
      "INFO:aqc_utils.gaussian_input_generator:Generating Gaussian input files for 1 conformations.\n"
     ]
    },
    {
     "name": "stdout",
     "output_type": "stream",
     "text": [
      "C13H12O2_4204_conf_0\n"
     ]
    },
    {
     "name": "stderr",
     "output_type": "stream",
     "text": [
      "INFO:aqc_utils.gaussian_input_generator:Generating Gaussian input files for 1 conformations.\n"
     ]
    },
    {
     "name": "stdout",
     "output_type": "stream",
     "text": [
      "C14H14O2_b4e7_conf_0\n"
     ]
    },
    {
     "name": "stderr",
     "output_type": "stream",
     "text": [
      "INFO:aqc_utils.gaussian_input_generator:Generating Gaussian input files for 1 conformations.\n"
     ]
    },
    {
     "name": "stdout",
     "output_type": "stream",
     "text": [
      "C12H7F3O2_8405_conf_0\n"
     ]
    },
    {
     "name": "stderr",
     "output_type": "stream",
     "text": [
      "INFO:aqc_utils.gaussian_input_generator:Generating Gaussian input files for 1 conformations.\n"
     ]
    },
    {
     "name": "stdout",
     "output_type": "stream",
     "text": [
      "C17H12O2_b410_conf_0\n"
     ]
    },
    {
     "name": "stderr",
     "output_type": "stream",
     "text": [
      "INFO:aqc_utils.gaussian_input_generator:Generating Gaussian input files for 1 conformations.\n"
     ]
    },
    {
     "name": "stdout",
     "output_type": "stream",
     "text": [
      "C16H11NO2_c6f3_conf_0\n"
     ]
    },
    {
     "name": "stderr",
     "output_type": "stream",
     "text": [
      "INFO:aqc_utils.gaussian_input_generator:Generating Gaussian input files for 1 conformations.\n"
     ]
    },
    {
     "name": "stdout",
     "output_type": "stream",
     "text": [
      "C20H18O2_b14b_conf_0\n"
     ]
    },
    {
     "name": "stderr",
     "output_type": "stream",
     "text": [
      "INFO:aqc_utils.gaussian_input_generator:Generating Gaussian input files for 1 conformations.\n"
     ]
    },
    {
     "name": "stdout",
     "output_type": "stream",
     "text": [
      "C17H10Cl2O2_71f8_conf_0\n"
     ]
    },
    {
     "name": "stderr",
     "output_type": "stream",
     "text": [
      "INFO:aqc_utils.gaussian_input_generator:Generating Gaussian input files for 1 conformations.\n"
     ]
    },
    {
     "name": "stdout",
     "output_type": "stream",
     "text": [
      "C14H12O3_d929_conf_0\n"
     ]
    },
    {
     "name": "stderr",
     "output_type": "stream",
     "text": [
      "INFO:aqc_utils.gaussian_input_generator:Generating Gaussian input files for 1 conformations.\n"
     ]
    },
    {
     "name": "stdout",
     "output_type": "stream",
     "text": [
      "C14H14O3_3ade_conf_0\n"
     ]
    },
    {
     "name": "stderr",
     "output_type": "stream",
     "text": [
      "INFO:aqc_utils.gaussian_input_generator:Generating Gaussian input files for 1 conformations.\n"
     ]
    },
    {
     "name": "stdout",
     "output_type": "stream",
     "text": [
      "C14H12O4_f0c3_conf_0\n"
     ]
    },
    {
     "name": "stderr",
     "output_type": "stream",
     "text": [
      "INFO:aqc_utils.gaussian_input_generator:Generating Gaussian input files for 1 conformations.\n"
     ]
    },
    {
     "name": "stdout",
     "output_type": "stream",
     "text": [
      "C14H14O4_1367_conf_0\n"
     ]
    },
    {
     "name": "stderr",
     "output_type": "stream",
     "text": [
      "INFO:aqc_utils.gaussian_input_generator:Generating Gaussian input files for 1 conformations.\n"
     ]
    },
    {
     "name": "stdout",
     "output_type": "stream",
     "text": [
      "C13H12O3_94e5_conf_0\n"
     ]
    },
    {
     "name": "stderr",
     "output_type": "stream",
     "text": [
      "INFO:aqc_utils.gaussian_input_generator:Generating Gaussian input files for 1 conformations.\n"
     ]
    },
    {
     "name": "stdout",
     "output_type": "stream",
     "text": [
      "C12H10O3_36f4_conf_0\n"
     ]
    },
    {
     "name": "stderr",
     "output_type": "stream",
     "text": [
      "INFO:aqc_utils.gaussian_input_generator:Generating Gaussian input files for 1 conformations.\n"
     ]
    },
    {
     "name": "stdout",
     "output_type": "stream",
     "text": [
      "C15H16O4_9bbe_conf_0\n"
     ]
    },
    {
     "name": "stderr",
     "output_type": "stream",
     "text": [
      "INFO:aqc_utils.gaussian_input_generator:Generating Gaussian input files for 1 conformations.\n"
     ]
    },
    {
     "name": "stdout",
     "output_type": "stream",
     "text": [
      "C18H14O2_4fe1_conf_0\n"
     ]
    },
    {
     "name": "stderr",
     "output_type": "stream",
     "text": [
      "INFO:aqc_utils.gaussian_input_generator:Generating Gaussian input files for 1 conformations.\n"
     ]
    },
    {
     "name": "stdout",
     "output_type": "stream",
     "text": [
      "C19H16O3_5b54_conf_0\n"
     ]
    },
    {
     "name": "stderr",
     "output_type": "stream",
     "text": [
      "INFO:aqc_utils.gaussian_input_generator:Generating Gaussian input files for 1 conformations.\n"
     ]
    },
    {
     "name": "stdout",
     "output_type": "stream",
     "text": [
      "C12H10O2_efb4_conf_0\n"
     ]
    },
    {
     "name": "stderr",
     "output_type": "stream",
     "text": [
      "INFO:aqc_utils.gaussian_input_generator:Generating Gaussian input files for 1 conformations.\n"
     ]
    },
    {
     "name": "stdout",
     "output_type": "stream",
     "text": [
      "C13H16O4_0910_conf_0\n"
     ]
    },
    {
     "name": "stderr",
     "output_type": "stream",
     "text": [
      "INFO:aqc_utils.gaussian_input_generator:Generating Gaussian input files for 1 conformations.\n"
     ]
    },
    {
     "name": "stdout",
     "output_type": "stream",
     "text": [
      "C13H16O3_bff6_conf_0\n"
     ]
    },
    {
     "name": "stderr",
     "output_type": "stream",
     "text": [
      "INFO:aqc_utils.gaussian_input_generator:Generating Gaussian input files for 1 conformations.\n"
     ]
    },
    {
     "name": "stdout",
     "output_type": "stream",
     "text": [
      "C11H13FO2_c2c1_conf_0\n"
     ]
    },
    {
     "name": "stderr",
     "output_type": "stream",
     "text": [
      "INFO:aqc_utils.gaussian_input_generator:Generating Gaussian input files for 1 conformations.\n"
     ]
    },
    {
     "name": "stdout",
     "output_type": "stream",
     "text": [
      "C12H13F3O2_a772_conf_0\n"
     ]
    },
    {
     "name": "stderr",
     "output_type": "stream",
     "text": [
      "INFO:aqc_utils.gaussian_input_generator:Generating Gaussian input files for 1 conformations.\n"
     ]
    },
    {
     "name": "stdout",
     "output_type": "stream",
     "text": [
      "C17H18O2_abb6_conf_0\n"
     ]
    },
    {
     "name": "stderr",
     "output_type": "stream",
     "text": [
      "INFO:aqc_utils.gaussian_input_generator:Generating Gaussian input files for 1 conformations.\n"
     ]
    },
    {
     "name": "stdout",
     "output_type": "stream",
     "text": [
      "C11H14O2_0f9c_conf_0\n"
     ]
    },
    {
     "name": "stderr",
     "output_type": "stream",
     "text": [
      "INFO:aqc_utils.gaussian_input_generator:Generating Gaussian input files for 1 conformations.\n"
     ]
    },
    {
     "name": "stdout",
     "output_type": "stream",
     "text": [
      "C14H18O4_2117_conf_0\n"
     ]
    },
    {
     "name": "stderr",
     "output_type": "stream",
     "text": [
      "INFO:aqc_utils.gaussian_input_generator:Generating Gaussian input files for 1 conformations.\n"
     ]
    },
    {
     "name": "stdout",
     "output_type": "stream",
     "text": [
      "C20H18O4_5bd6_conf_0\n"
     ]
    },
    {
     "name": "stderr",
     "output_type": "stream",
     "text": [
      "INFO:aqc_utils.gaussian_input_generator:Generating Gaussian input files for 1 conformations.\n"
     ]
    },
    {
     "name": "stdout",
     "output_type": "stream",
     "text": [
      "C16H18O3_4be8_conf_0\n"
     ]
    },
    {
     "name": "stderr",
     "output_type": "stream",
     "text": [
      "INFO:aqc_utils.gaussian_input_generator:Generating Gaussian input files for 1 conformations.\n"
     ]
    },
    {
     "name": "stdout",
     "output_type": "stream",
     "text": [
      "C15H16O2_5eb6_conf_0\n"
     ]
    },
    {
     "name": "stderr",
     "output_type": "stream",
     "text": [
      "INFO:aqc_utils.gaussian_input_generator:Generating Gaussian input files for 1 conformations.\n"
     ]
    },
    {
     "name": "stdout",
     "output_type": "stream",
     "text": [
      "C21H22O2_61a9_conf_0\n"
     ]
    },
    {
     "name": "stderr",
     "output_type": "stream",
     "text": [
      "INFO:aqc_utils.gaussian_input_generator:Generating Gaussian input files for 1 conformations.\n"
     ]
    },
    {
     "name": "stdout",
     "output_type": "stream",
     "text": [
      "C26H30O2_94b3_conf_0\n"
     ]
    },
    {
     "name": "stderr",
     "output_type": "stream",
     "text": [
      "INFO:aqc_utils.gaussian_input_generator:Generating Gaussian input files for 1 conformations.\n"
     ]
    },
    {
     "name": "stdout",
     "output_type": "stream",
     "text": [
      "C14H15NO2_eefb_conf_0\n"
     ]
    },
    {
     "name": "stderr",
     "output_type": "stream",
     "text": [
      "INFO:aqc_utils.gaussian_input_generator:Generating Gaussian input files for 1 conformations.\n"
     ]
    },
    {
     "name": "stdout",
     "output_type": "stream",
     "text": [
      "C17H18O4_9d9c_conf_0\n"
     ]
    },
    {
     "name": "stderr",
     "output_type": "stream",
     "text": [
      "INFO:aqc_utils.gaussian_input_generator:Generating Gaussian input files for 1 conformations.\n"
     ]
    },
    {
     "name": "stdout",
     "output_type": "stream",
     "text": [
      "C16H18O3_ed73_conf_0\n"
     ]
    },
    {
     "name": "stderr",
     "output_type": "stream",
     "text": [
      "INFO:aqc_utils.gaussian_input_generator:Generating Gaussian input files for 1 conformations.\n"
     ]
    },
    {
     "name": "stdout",
     "output_type": "stream",
     "text": [
      "C14H15NO2_6d9b_conf_0\n"
     ]
    },
    {
     "name": "stderr",
     "output_type": "stream",
     "text": [
      "INFO:aqc_utils.gaussian_input_generator:Generating Gaussian input files for 1 conformations.\n"
     ]
    },
    {
     "name": "stdout",
     "output_type": "stream",
     "text": [
      "C14H15NO2_9c99_conf_0\n"
     ]
    },
    {
     "name": "stderr",
     "output_type": "stream",
     "text": [
      "INFO:aqc_utils.gaussian_input_generator:Generating Gaussian input files for 1 conformations.\n"
     ]
    },
    {
     "name": "stdout",
     "output_type": "stream",
     "text": [
      "C26H33NO5_ef67_conf_0\n"
     ]
    },
    {
     "name": "stderr",
     "output_type": "stream",
     "text": [
      "INFO:aqc_utils.gaussian_input_generator:Generating Gaussian input files for 1 conformations.\n"
     ]
    },
    {
     "name": "stdout",
     "output_type": "stream",
     "text": [
      "C23H30O3_9b76_conf_0\n"
     ]
    },
    {
     "name": "stderr",
     "output_type": "stream",
     "text": [
      "INFO:aqc_utils.gaussian_input_generator:Generating Gaussian input files for 1 conformations.\n"
     ]
    },
    {
     "name": "stdout",
     "output_type": "stream",
     "text": [
      "C21H19FO2_6f90_conf_0\n"
     ]
    },
    {
     "name": "stderr",
     "output_type": "stream",
     "text": [
      "INFO:aqc_utils.gaussian_input_generator:Generating Gaussian input files for 1 conformations.\n"
     ]
    },
    {
     "name": "stdout",
     "output_type": "stream",
     "text": [
      "C20H25NO3_662d_conf_0\n"
     ]
    },
    {
     "name": "stderr",
     "output_type": "stream",
     "text": [
      "INFO:aqc_utils.gaussian_input_generator:Generating Gaussian input files for 1 conformations.\n"
     ]
    },
    {
     "name": "stdout",
     "output_type": "stream",
     "text": [
      "C17H18O4_ef6c_conf_0\n"
     ]
    },
    {
     "name": "stderr",
     "output_type": "stream",
     "text": [
      "INFO:aqc_utils.gaussian_input_generator:Generating Gaussian input files for 1 conformations.\n"
     ]
    },
    {
     "name": "stdout",
     "output_type": "stream",
     "text": [
      "C24H36O2Si_f68a_conf_0\n"
     ]
    },
    {
     "name": "stderr",
     "output_type": "stream",
     "text": [
      "INFO:aqc_utils.gaussian_input_generator:Generating Gaussian input files for 1 conformations.\n"
     ]
    },
    {
     "name": "stdout",
     "output_type": "stream",
     "text": [
      "C15H17NO2_e7ee_conf_0\n"
     ]
    },
    {
     "name": "stderr",
     "output_type": "stream",
     "text": [
      "INFO:aqc_utils.gaussian_input_generator:Generating Gaussian input files for 1 conformations.\n"
     ]
    },
    {
     "name": "stdout",
     "output_type": "stream",
     "text": [
      "C15H22O2_1360_conf_0\n"
     ]
    },
    {
     "name": "stderr",
     "output_type": "stream",
     "text": [
      "INFO:aqc_utils.gaussian_input_generator:Generating Gaussian input files for 1 conformations.\n"
     ]
    },
    {
     "name": "stdout",
     "output_type": "stream",
     "text": [
      "C12H13F3O2_c0b9_conf_0\n"
     ]
    },
    {
     "name": "stderr",
     "output_type": "stream",
     "text": [
      "INFO:aqc_utils.gaussian_input_generator:Generating Gaussian input files for 1 conformations.\n"
     ]
    },
    {
     "name": "stdout",
     "output_type": "stream",
     "text": [
      "C17H25BO4_9b0f_conf_0\n"
     ]
    },
    {
     "name": "stderr",
     "output_type": "stream",
     "text": [
      "INFO:aqc_utils.gaussian_input_generator:Generating Gaussian input files for 1 conformations.\n"
     ]
    },
    {
     "name": "stdout",
     "output_type": "stream",
     "text": [
      "C16H22O3_394c_conf_0\n"
     ]
    },
    {
     "name": "stderr",
     "output_type": "stream",
     "text": [
      "INFO:aqc_utils.gaussian_input_generator:Generating Gaussian input files for 1 conformations.\n"
     ]
    },
    {
     "name": "stdout",
     "output_type": "stream",
     "text": [
      "C12H16O3_f69c_conf_0\n"
     ]
    },
    {
     "name": "stderr",
     "output_type": "stream",
     "text": [
      "INFO:aqc_utils.gaussian_input_generator:Generating Gaussian input files for 1 conformations.\n"
     ]
    },
    {
     "name": "stdout",
     "output_type": "stream",
     "text": [
      "C13H19NO2_4fb7_conf_0\n"
     ]
    },
    {
     "name": "stderr",
     "output_type": "stream",
     "text": [
      "INFO:aqc_utils.gaussian_input_generator:Generating Gaussian input files for 1 conformations.\n"
     ]
    },
    {
     "name": "stdout",
     "output_type": "stream",
     "text": [
      "C13H18O2_6664_conf_0\n"
     ]
    },
    {
     "name": "stderr",
     "output_type": "stream",
     "text": [
      "INFO:aqc_utils.gaussian_input_generator:Generating Gaussian input files for 1 conformations.\n"
     ]
    },
    {
     "name": "stdout",
     "output_type": "stream",
     "text": [
      "C17H18O2_22f3_conf_0\n"
     ]
    },
    {
     "name": "stderr",
     "output_type": "stream",
     "text": [
      "INFO:aqc_utils.gaussian_input_generator:Generating Gaussian input files for 1 conformations.\n"
     ]
    },
    {
     "name": "stdout",
     "output_type": "stream",
     "text": [
      "C12H14O4_b865_conf_0\n"
     ]
    },
    {
     "name": "stderr",
     "output_type": "stream",
     "text": [
      "INFO:aqc_utils.gaussian_input_generator:Generating Gaussian input files for 1 conformations.\n"
     ]
    },
    {
     "name": "stdout",
     "output_type": "stream",
     "text": [
      "C17H16O3_7711_conf_0\n"
     ]
    },
    {
     "name": "stderr",
     "output_type": "stream",
     "text": [
      "INFO:aqc_utils.gaussian_input_generator:Generating Gaussian input files for 1 conformations.\n"
     ]
    },
    {
     "name": "stdout",
     "output_type": "stream",
     "text": [
      "C18H14O3_19a5_conf_0\n"
     ]
    },
    {
     "name": "stderr",
     "output_type": "stream",
     "text": [
      "INFO:aqc_utils.gaussian_input_generator:Generating Gaussian input files for 1 conformations.\n"
     ]
    },
    {
     "name": "stdout",
     "output_type": "stream",
     "text": [
      "C21H20O2_d6f2_conf_0\n"
     ]
    },
    {
     "name": "stderr",
     "output_type": "stream",
     "text": [
      "INFO:aqc_utils.gaussian_input_generator:Generating Gaussian input files for 1 conformations.\n"
     ]
    },
    {
     "name": "stdout",
     "output_type": "stream",
     "text": [
      "C22H22O2_6719_conf_0\n"
     ]
    },
    {
     "name": "stderr",
     "output_type": "stream",
     "text": [
      "INFO:aqc_utils.gaussian_input_generator:Generating Gaussian input files for 1 conformations.\n"
     ]
    },
    {
     "name": "stdout",
     "output_type": "stream",
     "text": [
      "C21H27NO3_7e8b_conf_0\n"
     ]
    },
    {
     "name": "stderr",
     "output_type": "stream",
     "text": [
      "INFO:aqc_utils.gaussian_input_generator:Generating Gaussian input files for 1 conformations.\n"
     ]
    },
    {
     "name": "stdout",
     "output_type": "stream",
     "text": [
      "C15H15NO4_2bbe_conf_0\n"
     ]
    },
    {
     "name": "stderr",
     "output_type": "stream",
     "text": [
      "INFO:aqc_utils.gaussian_input_generator:Generating Gaussian input files for 1 conformations.\n"
     ]
    },
    {
     "name": "stdout",
     "output_type": "stream",
     "text": [
      "C17H21NO2_7ac1_conf_0\n"
     ]
    },
    {
     "name": "stderr",
     "output_type": "stream",
     "text": [
      "INFO:aqc_utils.gaussian_input_generator:Generating Gaussian input files for 1 conformations.\n"
     ]
    },
    {
     "name": "stdout",
     "output_type": "stream",
     "text": [
      "C17H21NO2_52fc_conf_0\n"
     ]
    },
    {
     "name": "stderr",
     "output_type": "stream",
     "text": [
      "INFO:aqc_utils.gaussian_input_generator:Generating Gaussian input files for 1 conformations.\n"
     ]
    },
    {
     "name": "stdout",
     "output_type": "stream",
     "text": [
      "C18H18N2O2_2055_conf_0\n"
     ]
    },
    {
     "name": "stderr",
     "output_type": "stream",
     "text": [
      "INFO:aqc_utils.gaussian_input_generator:Generating Gaussian input files for 1 conformations.\n"
     ]
    },
    {
     "name": "stdout",
     "output_type": "stream",
     "text": [
      "C18H18N2O2_86fa_conf_0\n"
     ]
    },
    {
     "name": "stderr",
     "output_type": "stream",
     "text": [
      "INFO:aqc_utils.gaussian_input_generator:Generating Gaussian input files for 1 conformations.\n"
     ]
    },
    {
     "name": "stdout",
     "output_type": "stream",
     "text": [
      "C18H19NO2_5d34_conf_0\n"
     ]
    },
    {
     "name": "stderr",
     "output_type": "stream",
     "text": [
      "INFO:aqc_utils.gaussian_input_generator:Generating Gaussian input files for 1 conformations.\n"
     ]
    },
    {
     "name": "stdout",
     "output_type": "stream",
     "text": [
      "C22H22O3_6f98_conf_0\n"
     ]
    },
    {
     "name": "stderr",
     "output_type": "stream",
     "text": [
      "INFO:aqc_utils.gaussian_input_generator:Generating Gaussian input files for 1 conformations.\n"
     ]
    },
    {
     "name": "stdout",
     "output_type": "stream",
     "text": [
      "C21H30O3Si_21fd_conf_0\n"
     ]
    },
    {
     "name": "stderr",
     "output_type": "stream",
     "text": [
      "INFO:aqc_utils.gaussian_input_generator:Generating Gaussian input files for 1 conformations.\n"
     ]
    },
    {
     "name": "stdout",
     "output_type": "stream",
     "text": [
      "C21H30O3Si_18a6_conf_0\n"
     ]
    },
    {
     "name": "stderr",
     "output_type": "stream",
     "text": [
      "INFO:aqc_utils.gaussian_input_generator:Generating Gaussian input files for 1 conformations.\n"
     ]
    },
    {
     "name": "stdout",
     "output_type": "stream",
     "text": [
      "C21H30O3Si_7ff5_conf_0\n"
     ]
    },
    {
     "name": "stderr",
     "output_type": "stream",
     "text": [
      "INFO:aqc_utils.gaussian_input_generator:Generating Gaussian input files for 1 conformations.\n"
     ]
    },
    {
     "name": "stdout",
     "output_type": "stream",
     "text": [
      "C21H30O3Si_af72_conf_0\n"
     ]
    },
    {
     "name": "stderr",
     "output_type": "stream",
     "text": [
      "INFO:aqc_utils.gaussian_input_generator:Generating Gaussian input files for 1 conformations.\n"
     ]
    },
    {
     "name": "stdout",
     "output_type": "stream",
     "text": [
      "C11H16O2_4c16_conf_0\n"
     ]
    },
    {
     "name": "stderr",
     "output_type": "stream",
     "text": [
      "INFO:aqc_utils.gaussian_input_generator:Generating Gaussian input files for 1 conformations.\n"
     ]
    },
    {
     "name": "stdout",
     "output_type": "stream",
     "text": [
      "C8H10O2_574a_conf_0\n"
     ]
    },
    {
     "name": "stderr",
     "output_type": "stream",
     "text": [
      "INFO:aqc_utils.gaussian_input_generator:Generating Gaussian input files for 1 conformations.\n"
     ]
    },
    {
     "name": "stdout",
     "output_type": "stream",
     "text": [
      "C13H12O2_d005_conf_0\n"
     ]
    },
    {
     "name": "stderr",
     "output_type": "stream",
     "text": [
      "INFO:aqc_utils.gaussian_input_generator:Generating Gaussian input files for 1 conformations.\n"
     ]
    },
    {
     "name": "stdout",
     "output_type": "stream",
     "text": [
      "C11H15NO2_992e_conf_0\n"
     ]
    },
    {
     "name": "stderr",
     "output_type": "stream",
     "text": [
      "INFO:aqc_utils.gaussian_input_generator:Generating Gaussian input files for 1 conformations.\n"
     ]
    },
    {
     "name": "stdout",
     "output_type": "stream",
     "text": [
      "C19H20O2_a9f6_conf_0\n"
     ]
    },
    {
     "name": "stderr",
     "output_type": "stream",
     "text": [
      "INFO:aqc_utils.gaussian_input_generator:Generating Gaussian input files for 1 conformations.\n"
     ]
    },
    {
     "name": "stdout",
     "output_type": "stream",
     "text": [
      "C15H23NO2_1e0e_conf_0\n"
     ]
    },
    {
     "name": "stderr",
     "output_type": "stream",
     "text": [
      "INFO:aqc_utils.gaussian_input_generator:Generating Gaussian input files for 1 conformations.\n"
     ]
    },
    {
     "name": "stdout",
     "output_type": "stream",
     "text": [
      "C19H18O2_4630_conf_0\n"
     ]
    },
    {
     "name": "stderr",
     "output_type": "stream",
     "text": [
      "INFO:aqc_utils.gaussian_input_generator:Generating Gaussian input files for 1 conformations.\n"
     ]
    },
    {
     "name": "stdout",
     "output_type": "stream",
     "text": [
      "C15H16O3_6261_conf_0\n"
     ]
    },
    {
     "name": "stderr",
     "output_type": "stream",
     "text": [
      "INFO:aqc_utils.gaussian_input_generator:Generating Gaussian input files for 1 conformations.\n"
     ]
    },
    {
     "name": "stdout",
     "output_type": "stream",
     "text": [
      "C10H13NO2_136f_conf_0\n"
     ]
    },
    {
     "name": "stderr",
     "output_type": "stream",
     "text": [
      "INFO:aqc_utils.gaussian_input_generator:Generating Gaussian input files for 1 conformations.\n"
     ]
    },
    {
     "name": "stdout",
     "output_type": "stream",
     "text": [
      "C16H15NO2_c5f1_conf_0\n"
     ]
    },
    {
     "name": "stderr",
     "output_type": "stream",
     "text": [
      "INFO:aqc_utils.gaussian_input_generator:Generating Gaussian input files for 1 conformations.\n"
     ]
    },
    {
     "name": "stdout",
     "output_type": "stream",
     "text": [
      "C12H16O2_5e9d_conf_0\n"
     ]
    },
    {
     "name": "stderr",
     "output_type": "stream",
     "text": [
      "INFO:aqc_utils.gaussian_input_generator:Generating Gaussian input files for 1 conformations.\n"
     ]
    },
    {
     "name": "stdout",
     "output_type": "stream",
     "text": [
      "C12H16O2_b2e0_conf_0\n"
     ]
    },
    {
     "name": "stderr",
     "output_type": "stream",
     "text": [
      "INFO:aqc_utils.gaussian_input_generator:Generating Gaussian input files for 1 conformations.\n"
     ]
    },
    {
     "name": "stdout",
     "output_type": "stream",
     "text": [
      "C15H16O3_e078_conf_0\n"
     ]
    },
    {
     "name": "stderr",
     "output_type": "stream",
     "text": [
      "INFO:aqc_utils.gaussian_input_generator:Generating Gaussian input files for 1 conformations.\n"
     ]
    },
    {
     "name": "stdout",
     "output_type": "stream",
     "text": [
      "C15H17NO2_0d82_conf_0\n"
     ]
    },
    {
     "name": "stderr",
     "output_type": "stream",
     "text": [
      "INFO:aqc_utils.gaussian_input_generator:Generating Gaussian input files for 1 conformations.\n"
     ]
    },
    {
     "name": "stdout",
     "output_type": "stream",
     "text": [
      "C17H12O2_6527_conf_0\n"
     ]
    },
    {
     "name": "stderr",
     "output_type": "stream",
     "text": [
      "INFO:aqc_utils.gaussian_input_generator:Generating Gaussian input files for 1 conformations.\n"
     ]
    },
    {
     "name": "stdout",
     "output_type": "stream",
     "text": [
      "C19H18O2_8a8a_conf_0\n"
     ]
    },
    {
     "name": "stderr",
     "output_type": "stream",
     "text": [
      "INFO:aqc_utils.gaussian_input_generator:Generating Gaussian input files for 1 conformations.\n"
     ]
    },
    {
     "name": "stdout",
     "output_type": "stream",
     "text": [
      "C19H19NO2_3761_conf_0\n"
     ]
    },
    {
     "name": "stderr",
     "output_type": "stream",
     "text": [
      "INFO:aqc_utils.gaussian_input_generator:Generating Gaussian input files for 1 conformations.\n"
     ]
    },
    {
     "name": "stdout",
     "output_type": "stream",
     "text": [
      "C18H16O2_a129_conf_0\n"
     ]
    },
    {
     "name": "stderr",
     "output_type": "stream",
     "text": [
      "INFO:aqc_utils.gaussian_input_generator:Generating Gaussian input files for 1 conformations.\n"
     ]
    },
    {
     "name": "stdout",
     "output_type": "stream",
     "text": [
      "C17H14O2_5f6d_conf_0\n"
     ]
    },
    {
     "name": "stderr",
     "output_type": "stream",
     "text": [
      "INFO:aqc_utils.gaussian_input_generator:Generating Gaussian input files for 1 conformations.\n"
     ]
    },
    {
     "name": "stdout",
     "output_type": "stream",
     "text": [
      "C16H12O2_e52d_conf_0\n"
     ]
    },
    {
     "name": "stderr",
     "output_type": "stream",
     "text": [
      "INFO:aqc_utils.gaussian_input_generator:Generating Gaussian input files for 1 conformations.\n"
     ]
    },
    {
     "name": "stdout",
     "output_type": "stream",
     "text": [
      "C21H14O2_57d8_conf_0\n"
     ]
    },
    {
     "name": "stderr",
     "output_type": "stream",
     "text": [
      "INFO:aqc_utils.gaussian_input_generator:Generating Gaussian input files for 1 conformations.\n"
     ]
    },
    {
     "name": "stdout",
     "output_type": "stream",
     "text": [
      "C24H20O2_b1e4_conf_0\n"
     ]
    },
    {
     "name": "stderr",
     "output_type": "stream",
     "text": [
      "INFO:aqc_utils.gaussian_input_generator:Generating Gaussian input files for 1 conformations.\n"
     ]
    },
    {
     "name": "stdout",
     "output_type": "stream",
     "text": [
      "C22H16O2_befa_conf_0\n"
     ]
    },
    {
     "name": "stderr",
     "output_type": "stream",
     "text": [
      "INFO:aqc_utils.gaussian_input_generator:Generating Gaussian input files for 1 conformations.\n"
     ]
    },
    {
     "name": "stdout",
     "output_type": "stream",
     "text": [
      "C15H17NO2_cd27_conf_0\n"
     ]
    },
    {
     "name": "stderr",
     "output_type": "stream",
     "text": [
      "INFO:aqc_utils.gaussian_input_generator:Generating Gaussian input files for 1 conformations.\n"
     ]
    },
    {
     "name": "stdout",
     "output_type": "stream",
     "text": [
      "C17H19NO4_680c_conf_0\n"
     ]
    },
    {
     "name": "stderr",
     "output_type": "stream",
     "text": [
      "INFO:aqc_utils.gaussian_input_generator:Generating Gaussian input files for 1 conformations.\n"
     ]
    },
    {
     "name": "stdout",
     "output_type": "stream",
     "text": [
      "C16H19NO3_9273_conf_0\n"
     ]
    },
    {
     "name": "stderr",
     "output_type": "stream",
     "text": [
      "INFO:aqc_utils.gaussian_input_generator:Generating Gaussian input files for 1 conformations.\n"
     ]
    },
    {
     "name": "stdout",
     "output_type": "stream",
     "text": [
      "C12H17NO3_0297_conf_0\n"
     ]
    },
    {
     "name": "stderr",
     "output_type": "stream",
     "text": [
      "INFO:aqc_utils.gaussian_input_generator:Generating Gaussian input files for 1 conformations.\n"
     ]
    },
    {
     "name": "stdout",
     "output_type": "stream",
     "text": [
      "C16H18O4_1e7e_conf_0\n"
     ]
    },
    {
     "name": "stderr",
     "output_type": "stream",
     "text": [
      "INFO:aqc_utils.gaussian_input_generator:Generating Gaussian input files for 1 conformations.\n"
     ]
    },
    {
     "name": "stdout",
     "output_type": "stream",
     "text": [
      "C12H15NO4_e08f_conf_0\n"
     ]
    },
    {
     "name": "stderr",
     "output_type": "stream",
     "text": [
      "INFO:aqc_utils.gaussian_input_generator:Generating Gaussian input files for 1 conformations.\n"
     ]
    },
    {
     "name": "stdout",
     "output_type": "stream",
     "text": [
      "C11H14FNO2_bf92_conf_0\n"
     ]
    },
    {
     "name": "stderr",
     "output_type": "stream",
     "text": [
      "INFO:aqc_utils.gaussian_input_generator:Generating Gaussian input files for 1 conformations.\n"
     ]
    },
    {
     "name": "stdout",
     "output_type": "stream",
     "text": [
      "C12H14N2O2_d20a_conf_0\n"
     ]
    },
    {
     "name": "stderr",
     "output_type": "stream",
     "text": [
      "INFO:aqc_utils.gaussian_input_generator:Generating Gaussian input files for 1 conformations.\n"
     ]
    },
    {
     "name": "stdout",
     "output_type": "stream",
     "text": [
      "C13H19NO2_f902_conf_0\n"
     ]
    },
    {
     "name": "stderr",
     "output_type": "stream",
     "text": [
      "INFO:aqc_utils.gaussian_input_generator:Generating Gaussian input files for 1 conformations.\n"
     ]
    },
    {
     "name": "stdout",
     "output_type": "stream",
     "text": [
      "C18H21NO2_e1a6_conf_0\n"
     ]
    },
    {
     "name": "stderr",
     "output_type": "stream",
     "text": [
      "INFO:aqc_utils.gaussian_input_generator:Generating Gaussian input files for 1 conformations.\n"
     ]
    },
    {
     "name": "stdout",
     "output_type": "stream",
     "text": [
      "C19H21NO2_41d9_conf_0\n"
     ]
    },
    {
     "name": "stderr",
     "output_type": "stream",
     "text": [
      "INFO:aqc_utils.gaussian_input_generator:Generating Gaussian input files for 1 conformations.\n"
     ]
    },
    {
     "name": "stdout",
     "output_type": "stream",
     "text": [
      "C12H17NO3_285a_conf_0\n"
     ]
    },
    {
     "name": "stderr",
     "output_type": "stream",
     "text": [
      "INFO:aqc_utils.gaussian_input_generator:Generating Gaussian input files for 1 conformations.\n"
     ]
    },
    {
     "name": "stdout",
     "output_type": "stream",
     "text": [
      "C17H19NO2_477a_conf_0\n"
     ]
    },
    {
     "name": "stderr",
     "output_type": "stream",
     "text": [
      "INFO:aqc_utils.gaussian_input_generator:Generating Gaussian input files for 1 conformations.\n"
     ]
    },
    {
     "name": "stdout",
     "output_type": "stream",
     "text": [
      "C17H18N2O2_440a_conf_0\n"
     ]
    },
    {
     "name": "stderr",
     "output_type": "stream",
     "text": [
      "INFO:aqc_utils.gaussian_input_generator:Generating Gaussian input files for 1 conformations.\n"
     ]
    },
    {
     "name": "stdout",
     "output_type": "stream",
     "text": [
      "C11H16N2O2_2334_conf_0\n"
     ]
    },
    {
     "name": "stderr",
     "output_type": "stream",
     "text": [
      "INFO:aqc_utils.gaussian_input_generator:Generating Gaussian input files for 1 conformations.\n"
     ]
    },
    {
     "name": "stdout",
     "output_type": "stream",
     "text": [
      "C15H15NO2_3378_conf_0\n"
     ]
    },
    {
     "name": "stderr",
     "output_type": "stream",
     "text": [
      "INFO:aqc_utils.gaussian_input_generator:Generating Gaussian input files for 1 conformations.\n"
     ]
    },
    {
     "name": "stdout",
     "output_type": "stream",
     "text": [
      "C11H13NO4_c06c_conf_0\n"
     ]
    },
    {
     "name": "stderr",
     "output_type": "stream",
     "text": [
      "INFO:aqc_utils.gaussian_input_generator:Generating Gaussian input files for 1 conformations.\n"
     ]
    },
    {
     "name": "stdout",
     "output_type": "stream",
     "text": [
      "C11H13NO3_d93e_conf_0\n"
     ]
    },
    {
     "name": "stderr",
     "output_type": "stream",
     "text": [
      "INFO:aqc_utils.gaussian_input_generator:Generating Gaussian input files for 1 conformations.\n"
     ]
    },
    {
     "name": "stdout",
     "output_type": "stream",
     "text": [
      "C12H12N2O2_1622_conf_0\n"
     ]
    },
    {
     "name": "stderr",
     "output_type": "stream",
     "text": [
      "INFO:aqc_utils.gaussian_input_generator:Generating Gaussian input files for 1 conformations.\n"
     ]
    },
    {
     "name": "stdout",
     "output_type": "stream",
     "text": [
      "C12H12N2O2_9e1b_conf_0\n"
     ]
    },
    {
     "name": "stderr",
     "output_type": "stream",
     "text": [
      "INFO:aqc_utils.gaussian_input_generator:Generating Gaussian input files for 1 conformations.\n"
     ]
    },
    {
     "name": "stdout",
     "output_type": "stream",
     "text": [
      "C14H19NO4_9443_conf_0\n"
     ]
    },
    {
     "name": "stderr",
     "output_type": "stream",
     "text": [
      "INFO:aqc_utils.gaussian_input_generator:Generating Gaussian input files for 1 conformations.\n"
     ]
    },
    {
     "name": "stdout",
     "output_type": "stream",
     "text": [
      "C12H17NO2_36e4_conf_0\n"
     ]
    },
    {
     "name": "stderr",
     "output_type": "stream",
     "text": [
      "INFO:aqc_utils.gaussian_input_generator:Generating Gaussian input files for 1 conformations.\n"
     ]
    },
    {
     "name": "stdout",
     "output_type": "stream",
     "text": [
      "C17H19NO2_7772_conf_0\n"
     ]
    },
    {
     "name": "stderr",
     "output_type": "stream",
     "text": [
      "INFO:aqc_utils.gaussian_input_generator:Generating Gaussian input files for 1 conformations.\n"
     ]
    },
    {
     "name": "stdout",
     "output_type": "stream",
     "text": [
      "C13H19NO2_9fe9_conf_0\n"
     ]
    },
    {
     "name": "stderr",
     "output_type": "stream",
     "text": [
      "INFO:aqc_utils.gaussian_input_generator:Generating Gaussian input files for 1 conformations.\n"
     ]
    },
    {
     "name": "stdout",
     "output_type": "stream",
     "text": [
      "C13H20N2O2_0fc4_conf_0\n"
     ]
    },
    {
     "name": "stderr",
     "output_type": "stream",
     "text": [
      "INFO:aqc_utils.gaussian_input_generator:Generating Gaussian input files for 1 conformations.\n"
     ]
    },
    {
     "name": "stdout",
     "output_type": "stream",
     "text": [
      "C9H10O4_9258_conf_0\n"
     ]
    },
    {
     "name": "stderr",
     "output_type": "stream",
     "text": [
      "INFO:aqc_utils.gaussian_input_generator:Generating Gaussian input files for 1 conformations.\n"
     ]
    },
    {
     "name": "stdout",
     "output_type": "stream",
     "text": [
      "C13H16O5_09fa_conf_0\n"
     ]
    },
    {
     "name": "stderr",
     "output_type": "stream",
     "text": [
      "INFO:aqc_utils.gaussian_input_generator:Generating Gaussian input files for 1 conformations.\n"
     ]
    },
    {
     "name": "stdout",
     "output_type": "stream",
     "text": [
      "C12H10O3_1f88_conf_0\n"
     ]
    },
    {
     "name": "stderr",
     "output_type": "stream",
     "text": [
      "INFO:aqc_utils.gaussian_input_generator:Generating Gaussian input files for 1 conformations.\n"
     ]
    },
    {
     "name": "stdout",
     "output_type": "stream",
     "text": [
      "C13H20N2O2_f0e3_conf_0\n"
     ]
    },
    {
     "name": "stderr",
     "output_type": "stream",
     "text": [
      "INFO:aqc_utils.gaussian_input_generator:Generating Gaussian input files for 1 conformations.\n"
     ]
    },
    {
     "name": "stdout",
     "output_type": "stream",
     "text": [
      "C12H14F3NO2_bf8f_conf_0\n"
     ]
    },
    {
     "name": "stderr",
     "output_type": "stream",
     "text": [
      "INFO:aqc_utils.gaussian_input_generator:Generating Gaussian input files for 1 conformations.\n"
     ]
    },
    {
     "name": "stdout",
     "output_type": "stream",
     "text": [
      "C14H19NO4_7dbe_conf_0\n"
     ]
    },
    {
     "name": "stderr",
     "output_type": "stream",
     "text": [
      "INFO:aqc_utils.gaussian_input_generator:Generating Gaussian input files for 1 conformations.\n"
     ]
    },
    {
     "name": "stdout",
     "output_type": "stream",
     "text": [
      "C12H17NO2_ee7b_conf_0\n"
     ]
    },
    {
     "name": "stderr",
     "output_type": "stream",
     "text": [
      "INFO:aqc_utils.gaussian_input_generator:Generating Gaussian input files for 1 conformations.\n"
     ]
    },
    {
     "name": "stdout",
     "output_type": "stream",
     "text": [
      "C17H18O5_dc58_conf_0\n"
     ]
    },
    {
     "name": "stderr",
     "output_type": "stream",
     "text": [
      "INFO:aqc_utils.gaussian_input_generator:Generating Gaussian input files for 1 conformations.\n"
     ]
    },
    {
     "name": "stdout",
     "output_type": "stream",
     "text": [
      "C12H13F3O3_7200_conf_0\n"
     ]
    },
    {
     "name": "stderr",
     "output_type": "stream",
     "text": [
      "INFO:aqc_utils.gaussian_input_generator:Generating Gaussian input files for 1 conformations.\n"
     ]
    },
    {
     "name": "stdout",
     "output_type": "stream",
     "text": [
      "C11H14O3_b7a9_conf_0\n"
     ]
    },
    {
     "name": "stderr",
     "output_type": "stream",
     "text": [
      "INFO:aqc_utils.gaussian_input_generator:Generating Gaussian input files for 1 conformations.\n"
     ]
    },
    {
     "name": "stdout",
     "output_type": "stream",
     "text": [
      "C14H15NO3_1a16_conf_0\n"
     ]
    },
    {
     "name": "stderr",
     "output_type": "stream",
     "text": [
      "INFO:aqc_utils.gaussian_input_generator:Generating Gaussian input files for 1 conformations.\n"
     ]
    },
    {
     "name": "stdout",
     "output_type": "stream",
     "text": [
      "C17H21NO3_90d6_conf_0\n"
     ]
    },
    {
     "name": "stderr",
     "output_type": "stream",
     "text": [
      "INFO:aqc_utils.gaussian_input_generator:Generating Gaussian input files for 1 conformations.\n"
     ]
    },
    {
     "name": "stdout",
     "output_type": "stream",
     "text": [
      "C19H17NO3_1879_conf_0\n"
     ]
    },
    {
     "name": "stderr",
     "output_type": "stream",
     "text": [
      "INFO:aqc_utils.gaussian_input_generator:Generating Gaussian input files for 1 conformations.\n"
     ]
    },
    {
     "name": "stdout",
     "output_type": "stream",
     "text": [
      "C15H17NO4_187d_conf_0\n"
     ]
    },
    {
     "name": "stderr",
     "output_type": "stream",
     "text": [
      "INFO:aqc_utils.gaussian_input_generator:Generating Gaussian input files for 1 conformations.\n"
     ]
    },
    {
     "name": "stdout",
     "output_type": "stream",
     "text": [
      "C15H18N2O2_794e_conf_0\n"
     ]
    },
    {
     "name": "stderr",
     "output_type": "stream",
     "text": [
      "INFO:aqc_utils.gaussian_input_generator:Generating Gaussian input files for 1 conformations.\n"
     ]
    },
    {
     "name": "stdout",
     "output_type": "stream",
     "text": [
      "C19H17NO2_13b5_conf_0\n"
     ]
    },
    {
     "name": "stderr",
     "output_type": "stream",
     "text": [
      "INFO:aqc_utils.gaussian_input_generator:Generating Gaussian input files for 1 conformations.\n"
     ]
    },
    {
     "name": "stdout",
     "output_type": "stream",
     "text": [
      "C14H12N2O2_6dd7_conf_0\n"
     ]
    },
    {
     "name": "stderr",
     "output_type": "stream",
     "text": [
      "INFO:aqc_utils.gaussian_input_generator:Generating Gaussian input files for 1 conformations.\n"
     ]
    },
    {
     "name": "stdout",
     "output_type": "stream",
     "text": [
      "C13H12FNO2_4d5c_conf_0\n"
     ]
    },
    {
     "name": "stderr",
     "output_type": "stream",
     "text": [
      "INFO:aqc_utils.gaussian_input_generator:Generating Gaussian input files for 1 conformations.\n"
     ]
    },
    {
     "name": "stdout",
     "output_type": "stream",
     "text": [
      "C12H12N2O2_afef_conf_0\n"
     ]
    },
    {
     "name": "stderr",
     "output_type": "stream",
     "text": [
      "INFO:aqc_utils.gaussian_input_generator:Generating Gaussian input files for 1 conformations.\n"
     ]
    },
    {
     "name": "stdout",
     "output_type": "stream",
     "text": [
      "C15H15NO4_89d5_conf_0\n"
     ]
    },
    {
     "name": "stderr",
     "output_type": "stream",
     "text": [
      "INFO:aqc_utils.gaussian_input_generator:Generating Gaussian input files for 1 conformations.\n"
     ]
    },
    {
     "name": "stdout",
     "output_type": "stream",
     "text": [
      "C15H15NO4_eba3_conf_0\n"
     ]
    },
    {
     "name": "stderr",
     "output_type": "stream",
     "text": [
      "INFO:aqc_utils.gaussian_input_generator:Generating Gaussian input files for 1 conformations.\n"
     ]
    },
    {
     "name": "stdout",
     "output_type": "stream",
     "text": [
      "C20H19NO2_8d14_conf_0\n"
     ]
    },
    {
     "name": "stderr",
     "output_type": "stream",
     "text": [
      "INFO:aqc_utils.gaussian_input_generator:Generating Gaussian input files for 1 conformations.\n"
     ]
    },
    {
     "name": "stdout",
     "output_type": "stream",
     "text": [
      "C17H15NO2_4d27_conf_0\n"
     ]
    },
    {
     "name": "stderr",
     "output_type": "stream",
     "text": [
      "INFO:aqc_utils.gaussian_input_generator:Generating Gaussian input files for 1 conformations.\n"
     ]
    },
    {
     "name": "stdout",
     "output_type": "stream",
     "text": [
      "C13H13NO2_1142_conf_0\n"
     ]
    },
    {
     "name": "stderr",
     "output_type": "stream",
     "text": [
      "INFO:aqc_utils.gaussian_input_generator:Generating Gaussian input files for 1 conformations.\n"
     ]
    },
    {
     "name": "stdout",
     "output_type": "stream",
     "text": [
      "C16H21NO2Si_7436_conf_0\n"
     ]
    },
    {
     "name": "stderr",
     "output_type": "stream",
     "text": [
      "INFO:aqc_utils.gaussian_input_generator:Generating Gaussian input files for 1 conformations.\n"
     ]
    },
    {
     "name": "stdout",
     "output_type": "stream",
     "text": [
      "C14H15NO2_36ed_conf_0\n"
     ]
    },
    {
     "name": "stderr",
     "output_type": "stream",
     "text": [
      "INFO:aqc_utils.gaussian_input_generator:Generating Gaussian input files for 1 conformations.\n"
     ]
    },
    {
     "name": "stdout",
     "output_type": "stream",
     "text": [
      "C13H12FNO2_135f_conf_0\n"
     ]
    },
    {
     "name": "stderr",
     "output_type": "stream",
     "text": [
      "INFO:aqc_utils.gaussian_input_generator:Generating Gaussian input files for 1 conformations.\n"
     ]
    },
    {
     "name": "stdout",
     "output_type": "stream",
     "text": [
      "C14H16O_9a19_conf_0\n"
     ]
    },
    {
     "name": "stderr",
     "output_type": "stream",
     "text": [
      "INFO:aqc_utils.gaussian_input_generator:Generating Gaussian input files for 1 conformations.\n"
     ]
    },
    {
     "name": "stdout",
     "output_type": "stream",
     "text": [
      "C14H16O_c4e7_conf_0\n"
     ]
    },
    {
     "name": "stderr",
     "output_type": "stream",
     "text": [
      "INFO:aqc_utils.gaussian_input_generator:Generating Gaussian input files for 1 conformations.\n"
     ]
    },
    {
     "name": "stdout",
     "output_type": "stream",
     "text": [
      "C14H16O_13d7_conf_0\n"
     ]
    },
    {
     "name": "stderr",
     "output_type": "stream",
     "text": [
      "INFO:aqc_utils.gaussian_input_generator:Generating Gaussian input files for 1 conformations.\n"
     ]
    },
    {
     "name": "stdout",
     "output_type": "stream",
     "text": [
      "C12H12O2_4708_conf_0\n"
     ]
    },
    {
     "name": "stderr",
     "output_type": "stream",
     "text": [
      "INFO:aqc_utils.gaussian_input_generator:Generating Gaussian input files for 1 conformations.\n"
     ]
    },
    {
     "name": "stdout",
     "output_type": "stream",
     "text": [
      "C18H23NO2_23f2_conf_0\n"
     ]
    },
    {
     "name": "stderr",
     "output_type": "stream",
     "text": [
      "INFO:aqc_utils.gaussian_input_generator:Generating Gaussian input files for 1 conformations.\n"
     ]
    },
    {
     "name": "stdout",
     "output_type": "stream",
     "text": [
      "C19H28O2Si_8022_conf_0\n"
     ]
    },
    {
     "name": "stderr",
     "output_type": "stream",
     "text": [
      "INFO:aqc_utils.gaussian_input_generator:Generating Gaussian input files for 1 conformations.\n"
     ]
    },
    {
     "name": "stdout",
     "output_type": "stream",
     "text": [
      "C14H21NO2_f1fa_conf_0\n"
     ]
    },
    {
     "name": "stderr",
     "output_type": "stream",
     "text": [
      "INFO:aqc_utils.gaussian_input_generator:Generating Gaussian input files for 1 conformations.\n"
     ]
    },
    {
     "name": "stdout",
     "output_type": "stream",
     "text": [
      "C16H24N2O3_38b4_conf_0\n"
     ]
    },
    {
     "name": "stderr",
     "output_type": "stream",
     "text": [
      "INFO:aqc_utils.gaussian_input_generator:Generating Gaussian input files for 1 conformations.\n"
     ]
    },
    {
     "name": "stdout",
     "output_type": "stream",
     "text": [
      "C16H24N2O4_58c2_conf_0\n"
     ]
    },
    {
     "name": "stderr",
     "output_type": "stream",
     "text": [
      "INFO:aqc_utils.gaussian_input_generator:Generating Gaussian input files for 1 conformations.\n"
     ]
    },
    {
     "name": "stdout",
     "output_type": "stream",
     "text": [
      "C17H24N2O2Si_a060_conf_0\n"
     ]
    },
    {
     "name": "stderr",
     "output_type": "stream",
     "text": [
      "INFO:aqc_utils.gaussian_input_generator:Generating Gaussian input files for 1 conformations.\n"
     ]
    },
    {
     "name": "stdout",
     "output_type": "stream",
     "text": [
      "C25H35NO4_8f3c_conf_0\n"
     ]
    },
    {
     "name": "stderr",
     "output_type": "stream",
     "text": [
      "INFO:aqc_utils.gaussian_input_generator:Generating Gaussian input files for 1 conformations.\n"
     ]
    },
    {
     "name": "stdout",
     "output_type": "stream",
     "text": [
      "C19H19NO2_0a1a_conf_0\n"
     ]
    },
    {
     "name": "stderr",
     "output_type": "stream",
     "text": [
      "INFO:aqc_utils.gaussian_input_generator:Generating Gaussian input files for 1 conformations.\n"
     ]
    },
    {
     "name": "stdout",
     "output_type": "stream",
     "text": [
      "C11H14O_50db_conf_0\n"
     ]
    },
    {
     "name": "stderr",
     "output_type": "stream",
     "text": [
      "INFO:aqc_utils.gaussian_input_generator:Generating Gaussian input files for 1 conformations.\n"
     ]
    },
    {
     "name": "stdout",
     "output_type": "stream",
     "text": [
      "C12H16O2_af80_conf_0\n"
     ]
    },
    {
     "name": "stderr",
     "output_type": "stream",
     "text": [
      "INFO:aqc_utils.gaussian_input_generator:Generating Gaussian input files for 1 conformations.\n"
     ]
    },
    {
     "name": "stdout",
     "output_type": "stream",
     "text": [
      "C13H18O2_3651_conf_0\n"
     ]
    },
    {
     "name": "stderr",
     "output_type": "stream",
     "text": [
      "INFO:aqc_utils.gaussian_input_generator:Generating Gaussian input files for 1 conformations.\n"
     ]
    },
    {
     "name": "stdout",
     "output_type": "stream",
     "text": [
      "C14H21NO_f080_conf_0\n"
     ]
    },
    {
     "name": "stderr",
     "output_type": "stream",
     "text": [
      "INFO:aqc_utils.gaussian_input_generator:Generating Gaussian input files for 1 conformations.\n"
     ]
    },
    {
     "name": "stdout",
     "output_type": "stream",
     "text": [
      "C8H10O_2118_conf_0\n"
     ]
    },
    {
     "name": "stderr",
     "output_type": "stream",
     "text": [
      "INFO:aqc_utils.gaussian_input_generator:Generating Gaussian input files for 1 conformations.\n"
     ]
    },
    {
     "name": "stdout",
     "output_type": "stream",
     "text": [
      "C7H5F3O_c1d1_conf_0\n"
     ]
    },
    {
     "name": "stderr",
     "output_type": "stream",
     "text": [
      "INFO:aqc_utils.gaussian_input_generator:Generating Gaussian input files for 1 conformations.\n"
     ]
    },
    {
     "name": "stdout",
     "output_type": "stream",
     "text": [
      "C8H10O2_653a_conf_0\n"
     ]
    },
    {
     "name": "stderr",
     "output_type": "stream",
     "text": [
      "INFO:aqc_utils.gaussian_input_generator:Generating Gaussian input files for 1 conformations.\n"
     ]
    },
    {
     "name": "stdout",
     "output_type": "stream",
     "text": [
      "C16H21NO_b1a9_conf_0\n"
     ]
    },
    {
     "name": "stderr",
     "output_type": "stream",
     "text": [
      "INFO:aqc_utils.gaussian_input_generator:Generating Gaussian input files for 1 conformations.\n"
     ]
    },
    {
     "name": "stdout",
     "output_type": "stream",
     "text": [
      "C14H14O2_7e93_conf_0\n"
     ]
    },
    {
     "name": "stderr",
     "output_type": "stream",
     "text": [
      "INFO:aqc_utils.gaussian_input_generator:Generating Gaussian input files for 1 conformations.\n"
     ]
    },
    {
     "name": "stdout",
     "output_type": "stream",
     "text": [
      "C10H15NO_9bd7_conf_0\n"
     ]
    },
    {
     "name": "stderr",
     "output_type": "stream",
     "text": [
      "INFO:aqc_utils.gaussian_input_generator:Generating Gaussian input files for 1 conformations.\n"
     ]
    },
    {
     "name": "stdout",
     "output_type": "stream",
     "text": [
      "C7H8O2_088a_conf_0\n"
     ]
    },
    {
     "name": "stderr",
     "output_type": "stream",
     "text": [
      "INFO:aqc_utils.gaussian_input_generator:Generating Gaussian input files for 1 conformations.\n"
     ]
    },
    {
     "name": "stdout",
     "output_type": "stream",
     "text": [
      "C7H8O2_85bd_conf_0\n"
     ]
    },
    {
     "name": "stderr",
     "output_type": "stream",
     "text": [
      "INFO:aqc_utils.gaussian_input_generator:Generating Gaussian input files for 1 conformations.\n"
     ]
    },
    {
     "name": "stdout",
     "output_type": "stream",
     "text": [
      "C9H9NO_14a5_conf_0\n"
     ]
    },
    {
     "name": "stderr",
     "output_type": "stream",
     "text": [
      "INFO:aqc_utils.gaussian_input_generator:Generating Gaussian input files for 1 conformations.\n"
     ]
    },
    {
     "name": "stdout",
     "output_type": "stream",
     "text": [
      "C13H18N2O_038e_conf_0\n"
     ]
    },
    {
     "name": "stderr",
     "output_type": "stream",
     "text": [
      "INFO:aqc_utils.gaussian_input_generator:Generating Gaussian input files for 1 conformations.\n"
     ]
    },
    {
     "name": "stdout",
     "output_type": "stream",
     "text": [
      "C17H16N2O_4034_conf_0\n"
     ]
    },
    {
     "name": "stderr",
     "output_type": "stream",
     "text": [
      "INFO:aqc_utils.gaussian_input_generator:Generating Gaussian input files for 1 conformations.\n"
     ]
    },
    {
     "name": "stdout",
     "output_type": "stream",
     "text": [
      "C10H14O2_f67b_conf_0\n"
     ]
    },
    {
     "name": "stderr",
     "output_type": "stream",
     "text": [
      "INFO:aqc_utils.gaussian_input_generator:Generating Gaussian input files for 1 conformations.\n"
     ]
    },
    {
     "name": "stdout",
     "output_type": "stream",
     "text": [
      "C13H18O3_94d6_conf_0\n"
     ]
    },
    {
     "name": "stderr",
     "output_type": "stream",
     "text": [
      "INFO:aqc_utils.gaussian_input_generator:Generating Gaussian input files for 1 conformations.\n"
     ]
    },
    {
     "name": "stdout",
     "output_type": "stream",
     "text": [
      "C13H20OSi_0b1c_conf_0\n"
     ]
    },
    {
     "name": "stderr",
     "output_type": "stream",
     "text": [
      "INFO:aqc_utils.gaussian_input_generator:Generating Gaussian input files for 1 conformations.\n"
     ]
    },
    {
     "name": "stdout",
     "output_type": "stream",
     "text": [
      "C9H12O_4f0e_conf_0\n"
     ]
    },
    {
     "name": "stderr",
     "output_type": "stream",
     "text": [
      "INFO:aqc_utils.gaussian_input_generator:Generating Gaussian input files for 1 conformations.\n"
     ]
    },
    {
     "name": "stdout",
     "output_type": "stream",
     "text": [
      "C9H12O2_8950_conf_0\n"
     ]
    },
    {
     "name": "stderr",
     "output_type": "stream",
     "text": [
      "INFO:aqc_utils.gaussian_input_generator:Generating Gaussian input files for 1 conformations.\n"
     ]
    },
    {
     "name": "stdout",
     "output_type": "stream",
     "text": [
      "C10H16OSi_93d7_conf_0\n"
     ]
    },
    {
     "name": "stderr",
     "output_type": "stream",
     "text": [
      "INFO:aqc_utils.gaussian_input_generator:Generating Gaussian input files for 1 conformations.\n"
     ]
    },
    {
     "name": "stdout",
     "output_type": "stream",
     "text": [
      "C8H7F3O_708b_conf_0\n"
     ]
    },
    {
     "name": "stderr",
     "output_type": "stream",
     "text": [
      "INFO:aqc_utils.gaussian_input_generator:Generating Gaussian input files for 1 conformations.\n"
     ]
    },
    {
     "name": "stdout",
     "output_type": "stream",
     "text": [
      "C11H17NO2_16c8_conf_0\n"
     ]
    },
    {
     "name": "stderr",
     "output_type": "stream",
     "text": [
      "INFO:aqc_utils.gaussian_input_generator:Generating Gaussian input files for 1 conformations.\n"
     ]
    },
    {
     "name": "stdout",
     "output_type": "stream",
     "text": [
      "C13H12O_3674_conf_0\n"
     ]
    },
    {
     "name": "stderr",
     "output_type": "stream",
     "text": [
      "INFO:aqc_utils.gaussian_input_generator:Generating Gaussian input files for 1 conformations.\n"
     ]
    },
    {
     "name": "stdout",
     "output_type": "stream",
     "text": [
      "C11H16O_2e51_conf_0\n"
     ]
    },
    {
     "name": "stderr",
     "output_type": "stream",
     "text": [
      "INFO:aqc_utils.gaussian_input_generator:Generating Gaussian input files for 1 conformations.\n"
     ]
    },
    {
     "name": "stdout",
     "output_type": "stream",
     "text": [
      "C9H12O2_d4d9_conf_0\n"
     ]
    },
    {
     "name": "stderr",
     "output_type": "stream",
     "text": [
      "INFO:aqc_utils.gaussian_input_generator:Generating Gaussian input files for 1 conformations.\n"
     ]
    },
    {
     "name": "stdout",
     "output_type": "stream",
     "text": [
      "C13H18N2O_d359_conf_0\n"
     ]
    },
    {
     "name": "stderr",
     "output_type": "stream",
     "text": [
      "INFO:aqc_utils.gaussian_input_generator:Generating Gaussian input files for 1 conformations.\n"
     ]
    },
    {
     "name": "stdout",
     "output_type": "stream",
     "text": [
      "C17H27NO_0b37_conf_0\n"
     ]
    },
    {
     "name": "stderr",
     "output_type": "stream",
     "text": [
      "INFO:aqc_utils.gaussian_input_generator:Generating Gaussian input files for 1 conformations.\n"
     ]
    },
    {
     "name": "stdout",
     "output_type": "stream",
     "text": [
      "C9H13NO_7ff1_conf_0\n"
     ]
    },
    {
     "name": "stderr",
     "output_type": "stream",
     "text": [
      "INFO:aqc_utils.gaussian_input_generator:Generating Gaussian input files for 1 conformations.\n"
     ]
    },
    {
     "name": "stdout",
     "output_type": "stream",
     "text": [
      "C10H15NO_befa_conf_0\n"
     ]
    },
    {
     "name": "stderr",
     "output_type": "stream",
     "text": [
      "INFO:aqc_utils.gaussian_input_generator:Generating Gaussian input files for 1 conformations.\n"
     ]
    },
    {
     "name": "stdout",
     "output_type": "stream",
     "text": [
      "C20H20O_4b3c_conf_0\n"
     ]
    },
    {
     "name": "stderr",
     "output_type": "stream",
     "text": [
      "INFO:aqc_utils.gaussian_input_generator:Generating Gaussian input files for 1 conformations.\n"
     ]
    },
    {
     "name": "stdout",
     "output_type": "stream",
     "text": [
      "C17H14O_3d00_conf_0\n"
     ]
    },
    {
     "name": "stderr",
     "output_type": "stream",
     "text": [
      "INFO:aqc_utils.gaussian_input_generator:Generating Gaussian input files for 1 conformations.\n"
     ]
    },
    {
     "name": "stdout",
     "output_type": "stream",
     "text": [
      "C8H10O2_e0c2_conf_0\n"
     ]
    },
    {
     "name": "stderr",
     "output_type": "stream",
     "text": [
      "INFO:aqc_utils.gaussian_input_generator:Generating Gaussian input files for 1 conformations.\n"
     ]
    },
    {
     "name": "stdout",
     "output_type": "stream",
     "text": [
      "C12H12N2O2_6d0b_conf_0\n"
     ]
    },
    {
     "name": "stderr",
     "output_type": "stream",
     "text": [
      "INFO:aqc_utils.gaussian_input_generator:Generating Gaussian input files for 1 conformations.\n"
     ]
    },
    {
     "name": "stdout",
     "output_type": "stream",
     "text": [
      "C9H12O3_9926_conf_0\n"
     ]
    },
    {
     "name": "stderr",
     "output_type": "stream",
     "text": [
      "INFO:aqc_utils.gaussian_input_generator:Generating Gaussian input files for 2 conformations.\n"
     ]
    },
    {
     "name": "stdout",
     "output_type": "stream",
     "text": [
      "C20H28O2_1cb0_conf_0\n",
      "C20H28O2_1cb0_conf_1\n"
     ]
    },
    {
     "name": "stderr",
     "output_type": "stream",
     "text": [
      "INFO:aqc_utils.gaussian_input_generator:Generating Gaussian input files for 1 conformations.\n"
     ]
    },
    {
     "name": "stdout",
     "output_type": "stream",
     "text": [
      "C15H12O_d275_conf_0\n"
     ]
    },
    {
     "name": "stderr",
     "output_type": "stream",
     "text": [
      "INFO:aqc_utils.gaussian_input_generator:Generating Gaussian input files for 1 conformations.\n"
     ]
    },
    {
     "name": "stdout",
     "output_type": "stream",
     "text": [
      "C13H12O3_e27f_conf_0\n"
     ]
    },
    {
     "name": "stderr",
     "output_type": "stream",
     "text": [
      "INFO:aqc_utils.gaussian_input_generator:Generating Gaussian input files for 1 conformations.\n"
     ]
    },
    {
     "name": "stdout",
     "output_type": "stream",
     "text": [
      "C9H10O2_444d_conf_0\n"
     ]
    },
    {
     "name": "stderr",
     "output_type": "stream",
     "text": [
      "INFO:aqc_utils.gaussian_input_generator:Generating Gaussian input files for 1 conformations.\n"
     ]
    },
    {
     "name": "stdout",
     "output_type": "stream",
     "text": [
      "C14H18N2O2_b0ad_conf_0\n"
     ]
    },
    {
     "name": "stderr",
     "output_type": "stream",
     "text": [
      "INFO:aqc_utils.gaussian_input_generator:Generating Gaussian input files for 1 conformations.\n"
     ]
    },
    {
     "name": "stdout",
     "output_type": "stream",
     "text": [
      "C12H14F3NO2_3045_conf_0\n"
     ]
    },
    {
     "name": "stderr",
     "output_type": "stream",
     "text": [
      "INFO:aqc_utils.gaussian_input_generator:Generating Gaussian input files for 1 conformations.\n"
     ]
    },
    {
     "name": "stdout",
     "output_type": "stream",
     "text": [
      "C11H14FNO2_0756_conf_0\n"
     ]
    },
    {
     "name": "stderr",
     "output_type": "stream",
     "text": [
      "INFO:aqc_utils.gaussian_input_generator:Generating Gaussian input files for 1 conformations.\n"
     ]
    },
    {
     "name": "stdout",
     "output_type": "stream",
     "text": [
      "C15H22N2O3_1f6b_conf_0\n"
     ]
    },
    {
     "name": "stderr",
     "output_type": "stream",
     "text": [
      "INFO:aqc_utils.gaussian_input_generator:Generating Gaussian input files for 1 conformations.\n"
     ]
    },
    {
     "name": "stdout",
     "output_type": "stream",
     "text": [
      "C25H35NO4_68df_conf_0\n"
     ]
    },
    {
     "name": "stderr",
     "output_type": "stream",
     "text": [
      "INFO:aqc_utils.gaussian_input_generator:Generating Gaussian input files for 1 conformations.\n"
     ]
    },
    {
     "name": "stdout",
     "output_type": "stream",
     "text": [
      "C15H21NO3_6df1_conf_0\n"
     ]
    },
    {
     "name": "stderr",
     "output_type": "stream",
     "text": [
      "INFO:aqc_utils.gaussian_input_generator:Generating Gaussian input files for 1 conformations.\n"
     ]
    },
    {
     "name": "stdout",
     "output_type": "stream",
     "text": [
      "C18H20N2O2_5d63_conf_0\n"
     ]
    },
    {
     "name": "stderr",
     "output_type": "stream",
     "text": [
      "INFO:aqc_utils.gaussian_input_generator:Generating Gaussian input files for 1 conformations.\n"
     ]
    },
    {
     "name": "stdout",
     "output_type": "stream",
     "text": [
      "C9H11NO2_01e0_conf_0\n"
     ]
    },
    {
     "name": "stderr",
     "output_type": "stream",
     "text": [
      "INFO:aqc_utils.gaussian_input_generator:Generating Gaussian input files for 1 conformations.\n"
     ]
    },
    {
     "name": "stdout",
     "output_type": "stream",
     "text": [
      "C11H15NO2_9d06_conf_0\n"
     ]
    },
    {
     "name": "stderr",
     "output_type": "stream",
     "text": [
      "INFO:aqc_utils.gaussian_input_generator:Generating Gaussian input files for 1 conformations.\n"
     ]
    },
    {
     "name": "stdout",
     "output_type": "stream",
     "text": [
      "C13H19NO2_23d2_conf_0\n"
     ]
    },
    {
     "name": "stderr",
     "output_type": "stream",
     "text": [
      "INFO:aqc_utils.gaussian_input_generator:Generating Gaussian input files for 1 conformations.\n"
     ]
    },
    {
     "name": "stdout",
     "output_type": "stream",
     "text": [
      "C15H21NO4_2e74_conf_0\n"
     ]
    },
    {
     "name": "stderr",
     "output_type": "stream",
     "text": [
      "INFO:aqc_utils.gaussian_input_generator:Generating Gaussian input files for 1 conformations.\n"
     ]
    },
    {
     "name": "stdout",
     "output_type": "stream",
     "text": [
      "C11H16N2O2_dc18_conf_0\n"
     ]
    },
    {
     "name": "stderr",
     "output_type": "stream",
     "text": [
      "INFO:aqc_utils.gaussian_input_generator:Generating Gaussian input files for 1 conformations.\n"
     ]
    },
    {
     "name": "stdout",
     "output_type": "stream",
     "text": [
      "C14H14O_383b_conf_0\n"
     ]
    },
    {
     "name": "stderr",
     "output_type": "stream",
     "text": [
      "INFO:aqc_utils.gaussian_input_generator:Generating Gaussian input files for 1 conformations.\n"
     ]
    },
    {
     "name": "stdout",
     "output_type": "stream",
     "text": [
      "C16H20OSi_5b73_conf_0\n"
     ]
    },
    {
     "name": "stderr",
     "output_type": "stream",
     "text": [
      "INFO:aqc_utils.gaussian_input_generator:Generating Gaussian input files for 1 conformations.\n"
     ]
    },
    {
     "name": "stdout",
     "output_type": "stream",
     "text": [
      "C15H16O2_fe6a_conf_0\n"
     ]
    },
    {
     "name": "stderr",
     "output_type": "stream",
     "text": [
      "INFO:aqc_utils.gaussian_input_generator:Generating Gaussian input files for 1 conformations.\n"
     ]
    },
    {
     "name": "stdout",
     "output_type": "stream",
     "text": [
      "C14H14O_8db2_conf_0\n"
     ]
    },
    {
     "name": "stderr",
     "output_type": "stream",
     "text": [
      "INFO:aqc_utils.gaussian_input_generator:Generating Gaussian input files for 1 conformations.\n"
     ]
    },
    {
     "name": "stdout",
     "output_type": "stream",
     "text": [
      "C9H9F3O2_aac7_conf_0\n"
     ]
    },
    {
     "name": "stderr",
     "output_type": "stream",
     "text": [
      "INFO:aqc_utils.gaussian_input_generator:Generating Gaussian input files for 1 conformations.\n"
     ]
    },
    {
     "name": "stdout",
     "output_type": "stream",
     "text": [
      "C11H16O3_559a_conf_0\n"
     ]
    },
    {
     "name": "stderr",
     "output_type": "stream",
     "text": [
      "INFO:aqc_utils.gaussian_input_generator:Generating Gaussian input files for 1 conformations.\n"
     ]
    },
    {
     "name": "stdout",
     "output_type": "stream",
     "text": [
      "C14H16O_b3ed_conf_0\n"
     ]
    },
    {
     "name": "stderr",
     "output_type": "stream",
     "text": [
      "INFO:aqc_utils.gaussian_input_generator:Generating Gaussian input files for 1 conformations.\n"
     ]
    },
    {
     "name": "stdout",
     "output_type": "stream",
     "text": [
      "C13H14O_5e91_conf_0\n"
     ]
    },
    {
     "name": "stderr",
     "output_type": "stream",
     "text": [
      "INFO:aqc_utils.gaussian_input_generator:Generating Gaussian input files for 1 conformations.\n"
     ]
    },
    {
     "name": "stdout",
     "output_type": "stream",
     "text": [
      "C12H12O2_bb16_conf_0\n"
     ]
    },
    {
     "name": "stderr",
     "output_type": "stream",
     "text": [
      "INFO:aqc_utils.gaussian_input_generator:Generating Gaussian input files for 1 conformations.\n"
     ]
    },
    {
     "name": "stdout",
     "output_type": "stream",
     "text": [
      "C13H16OSi_44ef_conf_0\n"
     ]
    },
    {
     "name": "stderr",
     "output_type": "stream",
     "text": [
      "INFO:aqc_utils.gaussian_input_generator:Generating Gaussian input files for 1 conformations.\n"
     ]
    },
    {
     "name": "stdout",
     "output_type": "stream",
     "text": [
      "C15H15NO2_d42f_conf_0\n"
     ]
    },
    {
     "name": "stderr",
     "output_type": "stream",
     "text": [
      "INFO:aqc_utils.gaussian_input_generator:Generating Gaussian input files for 1 conformations.\n"
     ]
    },
    {
     "name": "stdout",
     "output_type": "stream",
     "text": [
      "C13H19NO4_d833_conf_0\n"
     ]
    },
    {
     "name": "stderr",
     "output_type": "stream",
     "text": [
      "INFO:aqc_utils.gaussian_input_generator:Generating Gaussian input files for 1 conformations.\n"
     ]
    },
    {
     "name": "stdout",
     "output_type": "stream",
     "text": [
      "C16H24N2O4_9c6f_conf_0\n"
     ]
    },
    {
     "name": "stderr",
     "output_type": "stream",
     "text": [
      "INFO:aqc_utils.gaussian_input_generator:Generating Gaussian input files for 1 conformations.\n"
     ]
    },
    {
     "name": "stdout",
     "output_type": "stream",
     "text": [
      "C12H17NO2_0fe3_conf_0\n"
     ]
    },
    {
     "name": "stderr",
     "output_type": "stream",
     "text": [
      "INFO:aqc_utils.gaussian_input_generator:Generating Gaussian input files for 1 conformations.\n"
     ]
    },
    {
     "name": "stdout",
     "output_type": "stream",
     "text": [
      "C15H17NO2_5e72_conf_0\n"
     ]
    },
    {
     "name": "stderr",
     "output_type": "stream",
     "text": [
      "INFO:aqc_utils.gaussian_input_generator:Generating Gaussian input files for 1 conformations.\n"
     ]
    },
    {
     "name": "stdout",
     "output_type": "stream",
     "text": [
      "C19H16O_3e18_conf_0\n"
     ]
    },
    {
     "name": "stderr",
     "output_type": "stream",
     "text": [
      "INFO:aqc_utils.gaussian_input_generator:Generating Gaussian input files for 1 conformations.\n"
     ]
    },
    {
     "name": "stdout",
     "output_type": "stream",
     "text": [
      "C10H9NO_50f9_conf_0\n"
     ]
    },
    {
     "name": "stderr",
     "output_type": "stream",
     "text": [
      "INFO:aqc_utils.gaussian_input_generator:Generating Gaussian input files for 1 conformations.\n"
     ]
    },
    {
     "name": "stdout",
     "output_type": "stream",
     "text": [
      "C12H11NO_6500_conf_0\n"
     ]
    },
    {
     "name": "stderr",
     "output_type": "stream",
     "text": [
      "INFO:aqc_utils.gaussian_input_generator:Generating Gaussian input files for 1 conformations.\n"
     ]
    },
    {
     "name": "stdout",
     "output_type": "stream",
     "text": [
      "C14H13NO_406d_conf_0\n"
     ]
    },
    {
     "name": "stderr",
     "output_type": "stream",
     "text": [
      "INFO:aqc_utils.gaussian_input_generator:Generating Gaussian input files for 1 conformations.\n"
     ]
    },
    {
     "name": "stdout",
     "output_type": "stream",
     "text": [
      "C23H32N2O3_ffa0_conf_0\n"
     ]
    },
    {
     "name": "stderr",
     "output_type": "stream",
     "text": [
      "INFO:aqc_utils.gaussian_input_generator:Generating Gaussian input files for 1 conformations.\n"
     ]
    },
    {
     "name": "stdout",
     "output_type": "stream",
     "text": [
      "C17H22O_eb0a_conf_0\n"
     ]
    },
    {
     "name": "stderr",
     "output_type": "stream",
     "text": [
      "INFO:aqc_utils.gaussian_input_generator:Generating Gaussian input files for 1 conformations.\n"
     ]
    },
    {
     "name": "stdout",
     "output_type": "stream",
     "text": [
      "C16H19NO_b045_conf_0\n"
     ]
    },
    {
     "name": "stderr",
     "output_type": "stream",
     "text": [
      "INFO:aqc_utils.gaussian_input_generator:Generating Gaussian input files for 1 conformations.\n"
     ]
    },
    {
     "name": "stdout",
     "output_type": "stream",
     "text": [
      "C17H12O_42f6_conf_0\n"
     ]
    },
    {
     "name": "stderr",
     "output_type": "stream",
     "text": [
      "INFO:aqc_utils.gaussian_input_generator:Generating Gaussian input files for 1 conformations.\n"
     ]
    },
    {
     "name": "stdout",
     "output_type": "stream",
     "text": [
      "C17H20O3_bb26_conf_0\n"
     ]
    },
    {
     "name": "stderr",
     "output_type": "stream",
     "text": [
      "INFO:aqc_utils.gaussian_input_generator:Generating Gaussian input files for 1 conformations.\n"
     ]
    },
    {
     "name": "stdout",
     "output_type": "stream",
     "text": [
      "C19H23NO4_2b3b_conf_0\n"
     ]
    },
    {
     "name": "stderr",
     "output_type": "stream",
     "text": [
      "INFO:aqc_utils.gaussian_input_generator:Generating Gaussian input files for 1 conformations.\n"
     ]
    },
    {
     "name": "stdout",
     "output_type": "stream",
     "text": [
      "C14H19NO4_7781_conf_0\n"
     ]
    },
    {
     "name": "stderr",
     "output_type": "stream",
     "text": [
      "INFO:aqc_utils.gaussian_input_generator:Generating Gaussian input files for 1 conformations.\n"
     ]
    },
    {
     "name": "stdout",
     "output_type": "stream",
     "text": [
      "C18H28N2O3_7126_conf_0\n"
     ]
    },
    {
     "name": "stderr",
     "output_type": "stream",
     "text": [
      "INFO:aqc_utils.gaussian_input_generator:Generating Gaussian input files for 1 conformations.\n"
     ]
    },
    {
     "name": "stdout",
     "output_type": "stream",
     "text": [
      "C18H16O2_a165_conf_0\n"
     ]
    },
    {
     "name": "stderr",
     "output_type": "stream",
     "text": [
      "INFO:aqc_utils.gaussian_input_generator:Generating Gaussian input files for 1 conformations.\n"
     ]
    },
    {
     "name": "stdout",
     "output_type": "stream",
     "text": [
      "C11H10O2_ff28_conf_0\n"
     ]
    },
    {
     "name": "stderr",
     "output_type": "stream",
     "text": [
      "INFO:aqc_utils.gaussian_input_generator:Generating Gaussian input files for 1 conformations.\n"
     ]
    },
    {
     "name": "stdout",
     "output_type": "stream",
     "text": [
      "C13H14O_908c_conf_0\n"
     ]
    },
    {
     "name": "stderr",
     "output_type": "stream",
     "text": [
      "INFO:aqc_utils.gaussian_input_generator:Generating Gaussian input files for 1 conformations.\n"
     ]
    },
    {
     "name": "stdout",
     "output_type": "stream",
     "text": [
      "C13H14O2_7fea_conf_0\n"
     ]
    },
    {
     "name": "stderr",
     "output_type": "stream",
     "text": [
      "INFO:aqc_utils.gaussian_input_generator:Generating Gaussian input files for 1 conformations.\n"
     ]
    },
    {
     "name": "stdout",
     "output_type": "stream",
     "text": [
      "C19H20O3_a0eb_conf_0\n"
     ]
    },
    {
     "name": "stderr",
     "output_type": "stream",
     "text": [
      "INFO:aqc_utils.gaussian_input_generator:Generating Gaussian input files for 1 conformations.\n"
     ]
    },
    {
     "name": "stdout",
     "output_type": "stream",
     "text": [
      "C17H20O4_69e8_conf_0\n"
     ]
    },
    {
     "name": "stderr",
     "output_type": "stream",
     "text": [
      "INFO:aqc_utils.gaussian_input_generator:Generating Gaussian input files for 1 conformations.\n"
     ]
    },
    {
     "name": "stdout",
     "output_type": "stream",
     "text": [
      "C18H18O3_868d_conf_0\n"
     ]
    },
    {
     "name": "stderr",
     "output_type": "stream",
     "text": [
      "INFO:aqc_utils.gaussian_input_generator:Generating Gaussian input files for 1 conformations.\n"
     ]
    },
    {
     "name": "stdout",
     "output_type": "stream",
     "text": [
      "C14H12N4O2_0200_conf_0\n"
     ]
    },
    {
     "name": "stderr",
     "output_type": "stream",
     "text": [
      "INFO:aqc_utils.gaussian_input_generator:Generating Gaussian input files for 1 conformations.\n"
     ]
    },
    {
     "name": "stdout",
     "output_type": "stream",
     "text": [
      "C9H10O3_5495_conf_0\n"
     ]
    },
    {
     "name": "stderr",
     "output_type": "stream",
     "text": [
      "INFO:aqc_utils.gaussian_input_generator:Generating Gaussian input files for 1 conformations.\n"
     ]
    },
    {
     "name": "stdout",
     "output_type": "stream",
     "text": [
      "C18H20O4_5511_conf_0\n"
     ]
    },
    {
     "name": "stderr",
     "output_type": "stream",
     "text": [
      "INFO:aqc_utils.gaussian_input_generator:Generating Gaussian input files for 1 conformations.\n"
     ]
    },
    {
     "name": "stdout",
     "output_type": "stream",
     "text": [
      "C17H18O3_126f_conf_0\n"
     ]
    },
    {
     "name": "stderr",
     "output_type": "stream",
     "text": [
      "INFO:aqc_utils.gaussian_input_generator:Generating Gaussian input files for 1 conformations.\n"
     ]
    },
    {
     "name": "stdout",
     "output_type": "stream",
     "text": [
      "C16H18O3_e414_conf_0\n"
     ]
    },
    {
     "name": "stderr",
     "output_type": "stream",
     "text": [
      "INFO:aqc_utils.gaussian_input_generator:Generating Gaussian input files for 1 conformations.\n"
     ]
    },
    {
     "name": "stdout",
     "output_type": "stream",
     "text": [
      "C10H10O3_f806_conf_0\n"
     ]
    },
    {
     "name": "stderr",
     "output_type": "stream",
     "text": [
      "INFO:aqc_utils.gaussian_input_generator:Generating Gaussian input files for 1 conformations.\n"
     ]
    },
    {
     "name": "stdout",
     "output_type": "stream",
     "text": [
      "C10H10O4_fc49_conf_0\n"
     ]
    },
    {
     "name": "stderr",
     "output_type": "stream",
     "text": [
      "INFO:aqc_utils.gaussian_input_generator:Generating Gaussian input files for 1 conformations.\n"
     ]
    },
    {
     "name": "stdout",
     "output_type": "stream",
     "text": [
      "C17H12O4_84e2_conf_0\n"
     ]
    },
    {
     "name": "stderr",
     "output_type": "stream",
     "text": [
      "INFO:aqc_utils.gaussian_input_generator:Generating Gaussian input files for 1 conformations.\n"
     ]
    },
    {
     "name": "stdout",
     "output_type": "stream",
     "text": [
      "C16H24N2O3_5eba_conf_0\n"
     ]
    },
    {
     "name": "stderr",
     "output_type": "stream",
     "text": [
      "INFO:aqc_utils.gaussian_input_generator:Generating Gaussian input files for 1 conformations.\n"
     ]
    },
    {
     "name": "stdout",
     "output_type": "stream",
     "text": [
      "C12H16O2_0f03_conf_0\n"
     ]
    },
    {
     "name": "stderr",
     "output_type": "stream",
     "text": [
      "INFO:aqc_utils.gaussian_input_generator:Generating Gaussian input files for 1 conformations.\n"
     ]
    },
    {
     "name": "stdout",
     "output_type": "stream",
     "text": [
      "C15H22O2_5494_conf_0\n"
     ]
    },
    {
     "name": "stderr",
     "output_type": "stream",
     "text": [
      "INFO:aqc_utils.gaussian_input_generator:Generating Gaussian input files for 1 conformations.\n"
     ]
    },
    {
     "name": "stdout",
     "output_type": "stream",
     "text": [
      "C16H23NO3_5435_conf_0\n"
     ]
    },
    {
     "name": "stderr",
     "output_type": "stream",
     "text": [
      "INFO:aqc_utils.gaussian_input_generator:Generating Gaussian input files for 1 conformations.\n"
     ]
    },
    {
     "name": "stdout",
     "output_type": "stream",
     "text": [
      "C11H13ClO2_5025_conf_0\n"
     ]
    },
    {
     "name": "stderr",
     "output_type": "stream",
     "text": [
      "INFO:aqc_utils.gaussian_input_generator:Generating Gaussian input files for 1 conformations.\n"
     ]
    },
    {
     "name": "stdout",
     "output_type": "stream",
     "text": [
      "C12H13NO2_b9f2_conf_0\n"
     ]
    },
    {
     "name": "stderr",
     "output_type": "stream",
     "text": [
      "INFO:aqc_utils.gaussian_input_generator:Generating Gaussian input files for 1 conformations.\n",
      "WARNING:aqc_utils.slurm_manager:A job with exactly the same parameters, molecule O=C(C(C)(C)C)Oc1ccncc1, conformation 0, workflow ('opt b3lyp/6-31G* scf=(xqc,tight)', 'freq b3lyp/6-31G* volume NMR pop=NPA density=current Geom=AllCheck Guess=Read', 'TD(NStates=10, Root=1) b3lyp/6-31G* volume pop=NPA density=current Geom=AllCheck Guess=Read') already exists. Not creating a duplicate\n"
     ]
    },
    {
     "name": "stdout",
     "output_type": "stream",
     "text": [
      "C10H13NO2_cdd4_conf_0\n"
     ]
    }
   ],
   "source": [
    "for mol in mols:\n",
    "    sm.create_jobs_for_molecule(mol, workflow_type=\"equilibrium\")"
   ]
  },
  {
   "cell_type": "code",
   "execution_count": 25,
   "id": "7a5c748b",
   "metadata": {
    "scrolled": false
   },
   "outputs": [
    {
     "data": {
      "text/html": [
       "<div>\n",
       "<style scoped>\n",
       "    .dataframe tbody tr th:only-of-type {\n",
       "        vertical-align: middle;\n",
       "    }\n",
       "\n",
       "    .dataframe tbody tr th {\n",
       "        vertical-align: top;\n",
       "    }\n",
       "\n",
       "    .dataframe thead th {\n",
       "        text-align: right;\n",
       "    }\n",
       "</style>\n",
       "<table border=\"1\" class=\"dataframe\">\n",
       "  <thead>\n",
       "    <tr style=\"text-align: right;\">\n",
       "      <th>status</th>\n",
       "      <th>created</th>\n",
       "      <th>done</th>\n",
       "      <th>submitted</th>\n",
       "      <th>uploaded</th>\n",
       "    </tr>\n",
       "    <tr>\n",
       "      <th>can</th>\n",
       "      <th></th>\n",
       "      <th></th>\n",
       "      <th></th>\n",
       "      <th></th>\n",
       "    </tr>\n",
       "  </thead>\n",
       "  <tbody>\n",
       "    <tr>\n",
       "      <th>C(Oc1ccccc1)Oc1ccccc1</th>\n",
       "      <td>1</td>\n",
       "      <td>0</td>\n",
       "      <td>0</td>\n",
       "      <td>0</td>\n",
       "    </tr>\n",
       "    <tr>\n",
       "      <th>C=CC[Si](Oc1ccc2c(c1)cccc2)(C)C</th>\n",
       "      <td>1</td>\n",
       "      <td>0</td>\n",
       "      <td>0</td>\n",
       "      <td>0</td>\n",
       "    </tr>\n",
       "    <tr>\n",
       "      <th>CC(=O)Oc1c2ccccc2cc2c1cccc2</th>\n",
       "      <td>1</td>\n",
       "      <td>0</td>\n",
       "      <td>0</td>\n",
       "      <td>0</td>\n",
       "    </tr>\n",
       "    <tr>\n",
       "      <th>CC(=O)Oc1ccc(cc1)C(=O)C</th>\n",
       "      <td>1</td>\n",
       "      <td>0</td>\n",
       "      <td>0</td>\n",
       "      <td>0</td>\n",
       "    </tr>\n",
       "    <tr>\n",
       "      <th>CC(=O)Oc1ccc2c(c1)ccc(c2)C(=O)C</th>\n",
       "      <td>1</td>\n",
       "      <td>0</td>\n",
       "      <td>0</td>\n",
       "      <td>0</td>\n",
       "    </tr>\n",
       "    <tr>\n",
       "      <th>...</th>\n",
       "      <td>...</td>\n",
       "      <td>...</td>\n",
       "      <td>...</td>\n",
       "      <td>...</td>\n",
       "    </tr>\n",
       "    <tr>\n",
       "      <th>OCCOc1ccc(cc1)C</th>\n",
       "      <td>1</td>\n",
       "      <td>0</td>\n",
       "      <td>0</td>\n",
       "      <td>0</td>\n",
       "    </tr>\n",
       "    <tr>\n",
       "      <th>OCCOc1ccccc1</th>\n",
       "      <td>1</td>\n",
       "      <td>0</td>\n",
       "      <td>0</td>\n",
       "      <td>0</td>\n",
       "    </tr>\n",
       "    <tr>\n",
       "      <th>OCCc1ccc(cc1)OC</th>\n",
       "      <td>0</td>\n",
       "      <td>0</td>\n",
       "      <td>0</td>\n",
       "      <td>1</td>\n",
       "    </tr>\n",
       "    <tr>\n",
       "      <th>OCCc1ccccc1OC</th>\n",
       "      <td>1</td>\n",
       "      <td>0</td>\n",
       "      <td>0</td>\n",
       "      <td>0</td>\n",
       "    </tr>\n",
       "    <tr>\n",
       "      <th>OCc1ccc(cc1)OC</th>\n",
       "      <td>0</td>\n",
       "      <td>0</td>\n",
       "      <td>0</td>\n",
       "      <td>1</td>\n",
       "    </tr>\n",
       "  </tbody>\n",
       "</table>\n",
       "<p>358 rows × 4 columns</p>\n",
       "</div>"
      ],
      "text/plain": [
       "status                           created  done  submitted  uploaded\n",
       "can                                                                \n",
       "C(Oc1ccccc1)Oc1ccccc1                  1     0          0         0\n",
       "C=CC[Si](Oc1ccc2c(c1)cccc2)(C)C        1     0          0         0\n",
       "CC(=O)Oc1c2ccccc2cc2c1cccc2            1     0          0         0\n",
       "CC(=O)Oc1ccc(cc1)C(=O)C                1     0          0         0\n",
       "CC(=O)Oc1ccc2c(c1)ccc(c2)C(=O)C        1     0          0         0\n",
       "...                                  ...   ...        ...       ...\n",
       "OCCOc1ccc(cc1)C                        1     0          0         0\n",
       "OCCOc1ccccc1                           1     0          0         0\n",
       "OCCc1ccc(cc1)OC                        0     0          0         1\n",
       "OCCc1ccccc1OC                          1     0          0         0\n",
       "OCc1ccc(cc1)OC                         0     0          0         1\n",
       "\n",
       "[358 rows x 4 columns]"
      ]
     },
     "execution_count": 25,
     "metadata": {},
     "output_type": "execute_result"
    }
   ],
   "source": [
    "sm.get_job_stats(split_by_can=True)"
   ]
  },
  {
   "cell_type": "code",
   "execution_count": 26,
   "id": "6c92a510",
   "metadata": {},
   "outputs": [
    {
     "name": "stderr",
     "output_type": "stream",
     "text": [
      "INFO:aqc_utils.slurm_manager:There are 7 running/pending jobs, 1 finished jobs.\n",
      "INFO:aqc_utils.slurm_manager:Retrieving log files of finished jobs.\n",
      "INFO:aqc_utils.slurm_manager:1 jobs finished successfully (all Gaussian steps finished normally). 0 jobs failed.\n"
     ]
    }
   ],
   "source": [
    "sm.retrieve_jobs()"
   ]
  },
  {
   "cell_type": "code",
   "execution_count": null,
   "id": "04861338",
   "metadata": {},
   "outputs": [],
   "source": []
  }
 ],
 "metadata": {
  "kernelspec": {
   "display_name": "Python 3 (ipykernel)",
   "language": "python",
   "name": "python3"
  },
  "language_info": {
   "codemirror_mode": {
    "name": "ipython",
    "version": 3
   },
   "file_extension": ".py",
   "mimetype": "text/x-python",
   "name": "python",
   "nbconvert_exporter": "python",
   "pygments_lexer": "ipython3",
   "version": "3.9.7"
  }
 },
 "nbformat": 4,
 "nbformat_minor": 5
}
