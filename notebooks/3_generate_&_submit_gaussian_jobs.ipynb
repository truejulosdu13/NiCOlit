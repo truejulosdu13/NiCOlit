{
 "cells": [
  {
   "cell_type": "markdown",
   "id": "ede8ddd1",
   "metadata": {},
   "source": [
    "# Import packages"
   ]
  },
  {
   "cell_type": "code",
   "execution_count": 1,
   "id": "ef3860a8",
   "metadata": {},
   "outputs": [],
   "source": [
    "import pandas as pd\n",
    "import sys\n",
    "sys.path.append('../')\n",
    "\n",
    "from aqc_utils.molecule import molecule\n",
    "from aqc_utils.slurm_manager import slurm_manager\n",
    "from aqc_utils.helper_classes import slurm_status\n",
    "\n",
    "import logging\n",
    "logging.basicConfig(level=logging.INFO)"
   ]
  },
  {
   "cell_type": "markdown",
   "id": "0a2ec887",
   "metadata": {},
   "source": [
    "# Initialize the slurm manager\n",
    "\n",
    "Slurm manager is going to manage what jobs you have currently running, or created. It caches your information, so you can kill the notebook, turn-off your computer, go on vacation, and pick it up later. It will remember which jobs you haven't retrieved from the cluster, etc.\n",
    "\n",
    "Note: it won't ask you for login unless you execute a method that requires remote access"
   ]
  },
  {
   "cell_type": "code",
   "execution_count": 2,
   "id": "2ba2eddd",
   "metadata": {},
   "outputs": [
    {
     "name": "stderr",
     "output_type": "stream",
     "text": [
      "INFO:aqc_utils.slurm_manager:Creating connection to hermite.chimie.ens.fr as jschleinitz\n",
      "INFO:paramiko.transport:Connected (version 2.0, client OpenSSH_8.2p1)\n",
      "INFO:paramiko.transport:Authentication (password) successful!\n",
      "INFO:aqc_utils.slurm_manager:Connected to hermite.chimie.ens.fr as jschleinitz is True.\n"
     ]
    }
   ],
   "source": [
    "sm=slurm_manager(user='jschleinitz', host='hermite.chimie.ens.fr')\n",
    "sm.connect()"
   ]
  },
  {
   "cell_type": "markdown",
   "id": "32f698b6",
   "metadata": {},
   "source": [
    "# Provide smiles string(s)\n",
    "and copy into them into my_smiles variable. It's a list of strings (a Python list can be of any size), the smiles are extracted for the csv resulting form the step 2 numbering the molecules."
   ]
  },
  {
   "cell_type": "code",
   "execution_count": 3,
   "id": "761f5716",
   "metadata": {},
   "outputs": [],
   "source": [
    "react_nb = pd.read_csv(\"../data_csv/fragments_0-7.csv\", sep=',')\n",
    "\n",
    "my_smiles = [react_nb[\"C0C7_num\"][i] for i in range(len(react_nb))]\n",
    "#my_smiles"
   ]
  },
  {
   "cell_type": "markdown",
   "id": "bf297028",
   "metadata": {},
   "source": [
    "# Initialize the molecules and generate conformations\n",
    "We will use some for loops to loop over the smiles, only one conformation will be taken for each molecules in this work"
   ]
  },
  {
   "cell_type": "code",
   "execution_count": 4,
   "id": "66efbb8d",
   "metadata": {},
   "outputs": [
    {
     "name": "stderr",
     "output_type": "stream",
     "text": [
      "INFO:aqc_utils.molecule:Initializing molecule with canonical smiles: COc1ccc2c(c1)cccc2\n",
      "INFO:aqc_utils.molecule:Creating initial geometry with option 'best'.\n",
      "INFO:aqc_utils.molecule:Initial geometry created successfully.\n",
      "INFO:aqc_utils.molecule:Initializing molecule with canonical smiles: COc1ccc2c(c1)ccc(c2)[Si](C)(C)C\n",
      "INFO:aqc_utils.molecule:Creating initial geometry with option 'best'.\n",
      "INFO:aqc_utils.molecule:Initial geometry created successfully.\n",
      "INFO:aqc_utils.molecule:Initializing molecule with canonical smiles: COc1ccc2c(c1)ccc(c2)N1CCCCC1\n",
      "INFO:aqc_utils.molecule:Creating initial geometry with option 'best'.\n",
      "INFO:aqc_utils.molecule:Initial geometry created successfully.\n",
      "INFO:aqc_utils.molecule:Initializing molecule with canonical smiles: COc1ccc2c(c1)cc(cc2)O\n",
      "INFO:aqc_utils.molecule:Creating initial geometry with option 'best'.\n",
      "INFO:aqc_utils.molecule:Initial geometry created successfully.\n",
      "INFO:aqc_utils.molecule:Initializing molecule with canonical smiles: COc1cccc2c1cccc2\n",
      "INFO:aqc_utils.molecule:Creating initial geometry with option 'best'.\n",
      "INFO:aqc_utils.molecule:Initial geometry created successfully.\n",
      "INFO:aqc_utils.molecule:Initializing molecule with canonical smiles: COc1ccc(cc1)C\n",
      "INFO:aqc_utils.molecule:Creating initial geometry with option 'best'.\n",
      "INFO:aqc_utils.molecule:Initial geometry created successfully.\n",
      "INFO:aqc_utils.molecule:Initializing molecule with canonical smiles: COc1ccc(cc1)[C@H](N(C)C)C\n",
      "INFO:aqc_utils.molecule:Creating initial geometry with option 'best'.\n",
      "INFO:aqc_utils.molecule:Initial geometry created successfully.\n",
      "INFO:aqc_utils.molecule:Initializing molecule with canonical smiles: COc1ccc(cc1)[C@@H](N(C)C)C\n",
      "INFO:aqc_utils.molecule:Creating initial geometry with option 'best'.\n",
      "INFO:aqc_utils.molecule:Initial geometry created successfully.\n",
      "INFO:aqc_utils.molecule:Initializing molecule with canonical smiles: OCc1ccc(cc1)OC\n",
      "INFO:aqc_utils.molecule:Creating initial geometry with option 'best'.\n",
      "INFO:aqc_utils.molecule:Initial geometry created successfully.\n",
      "INFO:aqc_utils.molecule:Initializing molecule with canonical smiles: OCCc1ccc(cc1)OC\n",
      "INFO:aqc_utils.molecule:Creating initial geometry with option 'best'.\n",
      "INFO:aqc_utils.molecule:Initial geometry created successfully.\n"
     ]
    }
   ],
   "source": [
    "mols = []\n",
    "for smile in my_smiles[:10]:\n",
    "    mols.append(molecule(smile, max_num_conformers=1))"
   ]
  },
  {
   "cell_type": "markdown",
   "id": "5c6ef1f1",
   "metadata": {},
   "source": [
    "###### Draw some molecules"
   ]
  },
  {
   "cell_type": "code",
   "execution_count": 5,
   "id": "be29b05e",
   "metadata": {},
   "outputs": [],
   "source": [
    "#mols[0].draw(2)"
   ]
  },
  {
   "cell_type": "markdown",
   "id": "47401447",
   "metadata": {},
   "source": [
    "# Create gaussian job for each conformation"
   ]
  },
  {
   "cell_type": "code",
   "execution_count": 6,
   "id": "10452201",
   "metadata": {},
   "outputs": [
    {
     "name": "stderr",
     "output_type": "stream",
     "text": [
      "INFO:aqc_utils.gaussian_input_generator:Generating Gaussian input files for 1 conformations.\n",
      "WARNING:aqc_utils.slurm_manager:A job with exactly the same parameters, molecule COc1ccc2c(c1)cccc2, conformation 0, workflow ('opt b3lyp/6-31G* scf=(xqc,tight)', 'freq b3lyp/6-31G* volume NMR pop=NPA density=current Geom=AllCheck Guess=Read', 'TD(NStates=10, Root=1) b3lyp/6-31G* volume pop=NPA density=current Geom=AllCheck Guess=Read') already exists. Not creating a duplicate\n",
      "INFO:aqc_utils.gaussian_input_generator:Generating Gaussian input files for 1 conformations.\n",
      "WARNING:aqc_utils.slurm_manager:A job with exactly the same parameters, molecule COc1ccc2c(c1)ccc(c2)[Si](C)(C)C, conformation 0, workflow ('opt b3lyp/6-31G* scf=(xqc,tight)', 'freq b3lyp/6-31G* volume NMR pop=NPA density=current Geom=AllCheck Guess=Read', 'TD(NStates=10, Root=1) b3lyp/6-31G* volume pop=NPA density=current Geom=AllCheck Guess=Read') already exists. Not creating a duplicate\n",
      "INFO:aqc_utils.gaussian_input_generator:Generating Gaussian input files for 1 conformations.\n",
      "WARNING:aqc_utils.slurm_manager:A job with exactly the same parameters, molecule COc1ccc2c(c1)ccc(c2)N1CCCCC1, conformation 0, workflow ('opt b3lyp/6-31G* scf=(xqc,tight)', 'freq b3lyp/6-31G* volume NMR pop=NPA density=current Geom=AllCheck Guess=Read', 'TD(NStates=10, Root=1) b3lyp/6-31G* volume pop=NPA density=current Geom=AllCheck Guess=Read') already exists. Not creating a duplicate\n",
      "INFO:aqc_utils.gaussian_input_generator:Generating Gaussian input files for 1 conformations.\n",
      "WARNING:aqc_utils.slurm_manager:A job with exactly the same parameters, molecule COc1ccc2c(c1)cc(cc2)O, conformation 0, workflow ('opt b3lyp/6-31G* scf=(xqc,tight)', 'freq b3lyp/6-31G* volume NMR pop=NPA density=current Geom=AllCheck Guess=Read', 'TD(NStates=10, Root=1) b3lyp/6-31G* volume pop=NPA density=current Geom=AllCheck Guess=Read') already exists. Not creating a duplicate\n",
      "INFO:aqc_utils.gaussian_input_generator:Generating Gaussian input files for 1 conformations.\n",
      "WARNING:aqc_utils.slurm_manager:A job with exactly the same parameters, molecule COc1cccc2c1cccc2, conformation 0, workflow ('opt b3lyp/6-31G* scf=(xqc,tight)', 'freq b3lyp/6-31G* volume NMR pop=NPA density=current Geom=AllCheck Guess=Read', 'TD(NStates=10, Root=1) b3lyp/6-31G* volume pop=NPA density=current Geom=AllCheck Guess=Read') already exists. Not creating a duplicate\n",
      "INFO:aqc_utils.gaussian_input_generator:Generating Gaussian input files for 1 conformations.\n",
      "WARNING:aqc_utils.slurm_manager:A job with exactly the same parameters, molecule COc1ccc(cc1)C, conformation 0, workflow ('opt b3lyp/6-31G* scf=(xqc,tight)', 'freq b3lyp/6-31G* volume NMR pop=NPA density=current Geom=AllCheck Guess=Read', 'TD(NStates=10, Root=1) b3lyp/6-31G* volume pop=NPA density=current Geom=AllCheck Guess=Read') already exists. Not creating a duplicate\n",
      "INFO:aqc_utils.gaussian_input_generator:Generating Gaussian input files for 1 conformations.\n",
      "WARNING:aqc_utils.slurm_manager:A job with exactly the same parameters, molecule COc1ccc(cc1)[C@H](N(C)C)C, conformation 0, workflow ('opt b3lyp/6-31G* scf=(xqc,tight)', 'freq b3lyp/6-31G* volume NMR pop=NPA density=current Geom=AllCheck Guess=Read', 'TD(NStates=10, Root=1) b3lyp/6-31G* volume pop=NPA density=current Geom=AllCheck Guess=Read') already exists. Not creating a duplicate\n",
      "INFO:aqc_utils.gaussian_input_generator:Generating Gaussian input files for 1 conformations.\n",
      "WARNING:aqc_utils.slurm_manager:A job with exactly the same parameters, molecule COc1ccc(cc1)[C@@H](N(C)C)C, conformation 0, workflow ('opt b3lyp/6-31G* scf=(xqc,tight)', 'freq b3lyp/6-31G* volume NMR pop=NPA density=current Geom=AllCheck Guess=Read', 'TD(NStates=10, Root=1) b3lyp/6-31G* volume pop=NPA density=current Geom=AllCheck Guess=Read') already exists. Not creating a duplicate\n",
      "INFO:aqc_utils.gaussian_input_generator:Generating Gaussian input files for 1 conformations.\n",
      "WARNING:aqc_utils.slurm_manager:A job with exactly the same parameters, molecule OCc1ccc(cc1)OC, conformation 0, workflow ('opt b3lyp/6-31G* scf=(xqc,tight)', 'freq b3lyp/6-31G* volume NMR pop=NPA density=current Geom=AllCheck Guess=Read', 'TD(NStates=10, Root=1) b3lyp/6-31G* volume pop=NPA density=current Geom=AllCheck Guess=Read') already exists. Not creating a duplicate\n",
      "INFO:aqc_utils.gaussian_input_generator:Generating Gaussian input files for 1 conformations.\n",
      "WARNING:aqc_utils.slurm_manager:A job with exactly the same parameters, molecule OCCc1ccc(cc1)OC, conformation 0, workflow ('opt b3lyp/6-31G* scf=(xqc,tight)', 'freq b3lyp/6-31G* volume NMR pop=NPA density=current Geom=AllCheck Guess=Read', 'TD(NStates=10, Root=1) b3lyp/6-31G* volume pop=NPA density=current Geom=AllCheck Guess=Read') already exists. Not creating a duplicate\n"
     ]
    },
    {
     "name": "stdout",
     "output_type": "stream",
     "text": [
      "/Users/julesschleinitz/Library/Application Support/hermite/C11H10O_b7a8\n",
      "C11H10O_b7a8_conf_0\n",
      "/Users/julesschleinitz/Library/Application Support/hermite/C14H18OSi_95fa\n",
      "C14H18OSi_95fa_conf_0\n",
      "/Users/julesschleinitz/Library/Application Support/hermite/C16H19NO_f5e7\n",
      "C16H19NO_f5e7_conf_0\n",
      "/Users/julesschleinitz/Library/Application Support/hermite/C11H10O2_d7c7\n",
      "C11H10O2_d7c7_conf_0\n",
      "/Users/julesschleinitz/Library/Application Support/hermite/C11H10O_9eb4\n",
      "C11H10O_9eb4_conf_0\n",
      "/Users/julesschleinitz/Library/Application Support/hermite/C8H10O_fd16\n",
      "C8H10O_fd16_conf_0\n",
      "/Users/julesschleinitz/Library/Application Support/hermite/C11H17NO_9080\n",
      "C11H17NO_9080_conf_0\n",
      "/Users/julesschleinitz/Library/Application Support/hermite/C11H17NO_d167\n",
      "C11H17NO_d167_conf_0\n",
      "/Users/julesschleinitz/Library/Application Support/hermite/C8H10O2_8f9c\n",
      "C8H10O2_8f9c_conf_0\n",
      "/Users/julesschleinitz/Library/Application Support/hermite/C9H12O2_df4c\n",
      "C9H12O2_df4c_conf_0\n"
     ]
    }
   ],
   "source": [
    "for mol in mols:\n",
    "    sm.create_jobs_for_molecule(mol, workflow_type=\"equilibrium\")"
   ]
  },
  {
   "cell_type": "code",
   "execution_count": 7,
   "id": "7a5c748b",
   "metadata": {
    "scrolled": true
   },
   "outputs": [
    {
     "data": {
      "text/html": [
       "<div>\n",
       "<style scoped>\n",
       "    .dataframe tbody tr th:only-of-type {\n",
       "        vertical-align: middle;\n",
       "    }\n",
       "\n",
       "    .dataframe tbody tr th {\n",
       "        vertical-align: top;\n",
       "    }\n",
       "\n",
       "    .dataframe thead th {\n",
       "        text-align: right;\n",
       "    }\n",
       "</style>\n",
       "<table border=\"1\" class=\"dataframe\">\n",
       "  <thead>\n",
       "    <tr style=\"text-align: right;\">\n",
       "      <th>status</th>\n",
       "      <th>created</th>\n",
       "    </tr>\n",
       "    <tr>\n",
       "      <th>can</th>\n",
       "      <th></th>\n",
       "    </tr>\n",
       "  </thead>\n",
       "  <tbody>\n",
       "    <tr>\n",
       "      <th>COc1ccc(cc1)C</th>\n",
       "      <td>1</td>\n",
       "    </tr>\n",
       "    <tr>\n",
       "      <th>COc1ccc(cc1)[C@@H](N(C)C)C</th>\n",
       "      <td>1</td>\n",
       "    </tr>\n",
       "    <tr>\n",
       "      <th>COc1ccc(cc1)[C@H](N(C)C)C</th>\n",
       "      <td>1</td>\n",
       "    </tr>\n",
       "    <tr>\n",
       "      <th>COc1ccc2c(c1)cc(cc2)O</th>\n",
       "      <td>1</td>\n",
       "    </tr>\n",
       "    <tr>\n",
       "      <th>COc1ccc2c(c1)ccc(c2)N1CCCCC1</th>\n",
       "      <td>1</td>\n",
       "    </tr>\n",
       "    <tr>\n",
       "      <th>COc1ccc2c(c1)ccc(c2)[Si](C)(C)C</th>\n",
       "      <td>1</td>\n",
       "    </tr>\n",
       "    <tr>\n",
       "      <th>COc1ccc2c(c1)cccc2</th>\n",
       "      <td>1</td>\n",
       "    </tr>\n",
       "    <tr>\n",
       "      <th>COc1cccc2c1cccc2</th>\n",
       "      <td>1</td>\n",
       "    </tr>\n",
       "    <tr>\n",
       "      <th>OCCc1ccc(cc1)OC</th>\n",
       "      <td>1</td>\n",
       "    </tr>\n",
       "    <tr>\n",
       "      <th>OCc1ccc(cc1)OC</th>\n",
       "      <td>1</td>\n",
       "    </tr>\n",
       "  </tbody>\n",
       "</table>\n",
       "</div>"
      ],
      "text/plain": [
       "status                           created\n",
       "can                                     \n",
       "COc1ccc(cc1)C                          1\n",
       "COc1ccc(cc1)[C@@H](N(C)C)C             1\n",
       "COc1ccc(cc1)[C@H](N(C)C)C              1\n",
       "COc1ccc2c(c1)cc(cc2)O                  1\n",
       "COc1ccc2c(c1)ccc(c2)N1CCCCC1           1\n",
       "COc1ccc2c(c1)ccc(c2)[Si](C)(C)C        1\n",
       "COc1ccc2c(c1)cccc2                     1\n",
       "COc1cccc2c1cccc2                       1\n",
       "OCCc1ccc(cc1)OC                        1\n",
       "OCc1ccc(cc1)OC                         1"
      ]
     },
     "execution_count": 7,
     "metadata": {},
     "output_type": "execute_result"
    }
   ],
   "source": [
    "sm.get_job_stats(split_by_can=True)"
   ]
  },
  {
   "cell_type": "markdown",
   "id": "42c8591e",
   "metadata": {},
   "source": [
    "# Before submitting jobs load gaussian module manually in hermite !"
   ]
  },
  {
   "cell_type": "code",
   "execution_count": null,
   "id": "f2d78975",
   "metadata": {},
   "outputs": [],
   "source": []
  },
  {
   "cell_type": "code",
   "execution_count": 33,
   "id": "c4ff163d",
   "metadata": {},
   "outputs": [],
   "source": [
    "jobs = sm.get_jobs(slurm_status.failed)"
   ]
  },
  {
   "cell_type": "code",
   "execution_count": 34,
   "id": "531acbcb",
   "metadata": {},
   "outputs": [
    {
     "data": {
      "text/plain": [
       "{'225b9271c82487eb8daf63e40233e35a': slurm_job(can='COc1ccc2c(c1)cccc2', conformation=0, max_num_conformers=1, tasks=('opt b3lyp/6-31G* scf=(xqc,tight)', 'freq b3lyp/6-31G* volume NMR pop=NPA density=current Geom=AllCheck Guess=Read', 'TD(NStates=10, Root=1) b3lyp/6-31G* volume pop=NPA density=current Geom=AllCheck Guess=Read'), config={'theory': 'b3lyp', 'light_basis_set': '6-31G*', 'heavy_basis_set': 'LANL2DZ', 'generic_basis_set': 'genecp', 'max_light_atomic_number': 36}, job_id='9171', directory='/Users/julesschleinitz/Library/Application Support/hermite/C11H10O_b7a8', base_name='C11H10O_b7a8_conf_0', status=<slurm_status.failed: 4>, n_submissions=1, n_success_tasks=0),\n",
       " '610093eef291ee4fa36bf5d1e29edf48': slurm_job(can='COc1ccc2c(c1)ccc(c2)[Si](C)(C)C', conformation=0, max_num_conformers=1, tasks=('opt b3lyp/6-31G* scf=(xqc,tight)', 'freq b3lyp/6-31G* volume NMR pop=NPA density=current Geom=AllCheck Guess=Read', 'TD(NStates=10, Root=1) b3lyp/6-31G* volume pop=NPA density=current Geom=AllCheck Guess=Read'), config={'theory': 'b3lyp', 'light_basis_set': '6-31G*', 'heavy_basis_set': 'LANL2DZ', 'generic_basis_set': 'genecp', 'max_light_atomic_number': 36}, job_id='9172', directory='/Users/julesschleinitz/Library/Application Support/hermite/C14H18OSi_95fa', base_name='C14H18OSi_95fa_conf_0', status=<slurm_status.failed: 4>, n_submissions=1, n_success_tasks=0),\n",
       " '589bcdc9c1e4817d38304f8aa825383a': slurm_job(can='COc1ccc2c(c1)ccc(c2)N1CCCCC1', conformation=0, max_num_conformers=1, tasks=('opt b3lyp/6-31G* scf=(xqc,tight)', 'freq b3lyp/6-31G* volume NMR pop=NPA density=current Geom=AllCheck Guess=Read', 'TD(NStates=10, Root=1) b3lyp/6-31G* volume pop=NPA density=current Geom=AllCheck Guess=Read'), config={'theory': 'b3lyp', 'light_basis_set': '6-31G*', 'heavy_basis_set': 'LANL2DZ', 'generic_basis_set': 'genecp', 'max_light_atomic_number': 36}, job_id='9173', directory='/Users/julesschleinitz/Library/Application Support/hermite/C16H19NO_f5e7', base_name='C16H19NO_f5e7_conf_0', status=<slurm_status.failed: 4>, n_submissions=1, n_success_tasks=0),\n",
       " '1e352449704fbad86da5c131681d45c1': slurm_job(can='COc1ccc2c(c1)cc(cc2)O', conformation=0, max_num_conformers=1, tasks=('opt b3lyp/6-31G* scf=(xqc,tight)', 'freq b3lyp/6-31G* volume NMR pop=NPA density=current Geom=AllCheck Guess=Read', 'TD(NStates=10, Root=1) b3lyp/6-31G* volume pop=NPA density=current Geom=AllCheck Guess=Read'), config={'theory': 'b3lyp', 'light_basis_set': '6-31G*', 'heavy_basis_set': 'LANL2DZ', 'generic_basis_set': 'genecp', 'max_light_atomic_number': 36}, job_id='9174', directory='/Users/julesschleinitz/Library/Application Support/hermite/C11H10O2_d7c7', base_name='C11H10O2_d7c7_conf_0', status=<slurm_status.failed: 4>, n_submissions=1, n_success_tasks=0),\n",
       " '84845e9c06313cfed0a792734e6cfe5f': slurm_job(can='COc1cccc2c1cccc2', conformation=0, max_num_conformers=1, tasks=('opt b3lyp/6-31G* scf=(xqc,tight)', 'freq b3lyp/6-31G* volume NMR pop=NPA density=current Geom=AllCheck Guess=Read', 'TD(NStates=10, Root=1) b3lyp/6-31G* volume pop=NPA density=current Geom=AllCheck Guess=Read'), config={'theory': 'b3lyp', 'light_basis_set': '6-31G*', 'heavy_basis_set': 'LANL2DZ', 'generic_basis_set': 'genecp', 'max_light_atomic_number': 36}, job_id='9175', directory='/Users/julesschleinitz/Library/Application Support/hermite/C11H10O_9eb4', base_name='C11H10O_9eb4_conf_0', status=<slurm_status.failed: 4>, n_submissions=1, n_success_tasks=0),\n",
       " 'c42687dbffa4a1e0882da0ba308a53af': slurm_job(can='COc1ccc(cc1)C', conformation=0, max_num_conformers=1, tasks=('opt b3lyp/6-31G* scf=(xqc,tight)', 'freq b3lyp/6-31G* volume NMR pop=NPA density=current Geom=AllCheck Guess=Read', 'TD(NStates=10, Root=1) b3lyp/6-31G* volume pop=NPA density=current Geom=AllCheck Guess=Read'), config={'theory': 'b3lyp', 'light_basis_set': '6-31G*', 'heavy_basis_set': 'LANL2DZ', 'generic_basis_set': 'genecp', 'max_light_atomic_number': 36}, job_id='9176', directory='/Users/julesschleinitz/Library/Application Support/hermite/C8H10O_fd16', base_name='C8H10O_fd16_conf_0', status=<slurm_status.failed: 4>, n_submissions=1, n_success_tasks=0),\n",
       " '82e15292db26597ca497c5bc39c01007': slurm_job(can='COc1ccc(cc1)[C@H](N(C)C)C', conformation=0, max_num_conformers=1, tasks=('opt b3lyp/6-31G* scf=(xqc,tight)', 'freq b3lyp/6-31G* volume NMR pop=NPA density=current Geom=AllCheck Guess=Read', 'TD(NStates=10, Root=1) b3lyp/6-31G* volume pop=NPA density=current Geom=AllCheck Guess=Read'), config={'theory': 'b3lyp', 'light_basis_set': '6-31G*', 'heavy_basis_set': 'LANL2DZ', 'generic_basis_set': 'genecp', 'max_light_atomic_number': 36}, job_id='9177', directory='/Users/julesschleinitz/Library/Application Support/hermite/C11H17NO_9080', base_name='C11H17NO_9080_conf_0', status=<slurm_status.failed: 4>, n_submissions=1, n_success_tasks=0),\n",
       " '23c50af82530238fd5c7539846c65343': slurm_job(can='COc1ccc(cc1)[C@@H](N(C)C)C', conformation=0, max_num_conformers=1, tasks=('opt b3lyp/6-31G* scf=(xqc,tight)', 'freq b3lyp/6-31G* volume NMR pop=NPA density=current Geom=AllCheck Guess=Read', 'TD(NStates=10, Root=1) b3lyp/6-31G* volume pop=NPA density=current Geom=AllCheck Guess=Read'), config={'theory': 'b3lyp', 'light_basis_set': '6-31G*', 'heavy_basis_set': 'LANL2DZ', 'generic_basis_set': 'genecp', 'max_light_atomic_number': 36}, job_id='9178', directory='/Users/julesschleinitz/Library/Application Support/hermite/C11H17NO_d167', base_name='C11H17NO_d167_conf_0', status=<slurm_status.failed: 4>, n_submissions=1, n_success_tasks=0),\n",
       " 'f606abde1a1c88e1b22442fb2916b1d9': slurm_job(can='OCc1ccc(cc1)OC', conformation=0, max_num_conformers=1, tasks=('opt b3lyp/6-31G* scf=(xqc,tight)', 'freq b3lyp/6-31G* volume NMR pop=NPA density=current Geom=AllCheck Guess=Read', 'TD(NStates=10, Root=1) b3lyp/6-31G* volume pop=NPA density=current Geom=AllCheck Guess=Read'), config={'theory': 'b3lyp', 'light_basis_set': '6-31G*', 'heavy_basis_set': 'LANL2DZ', 'generic_basis_set': 'genecp', 'max_light_atomic_number': 36}, job_id='9179', directory='/Users/julesschleinitz/Library/Application Support/hermite/C8H10O2_8f9c', base_name='C8H10O2_8f9c_conf_0', status=<slurm_status.failed: 4>, n_submissions=1, n_success_tasks=0),\n",
       " 'fb42a4685097445c12f342635cd5b852': slurm_job(can='OCCc1ccc(cc1)OC', conformation=0, max_num_conformers=1, tasks=('opt b3lyp/6-31G* scf=(xqc,tight)', 'freq b3lyp/6-31G* volume NMR pop=NPA density=current Geom=AllCheck Guess=Read', 'TD(NStates=10, Root=1) b3lyp/6-31G* volume pop=NPA density=current Geom=AllCheck Guess=Read'), config={'theory': 'b3lyp', 'light_basis_set': '6-31G*', 'heavy_basis_set': 'LANL2DZ', 'generic_basis_set': 'genecp', 'max_light_atomic_number': 36}, job_id='9180', directory='/Users/julesschleinitz/Library/Application Support/hermite/C9H12O2_df4c', base_name='C9H12O2_df4c_conf_0', status=<slurm_status.failed: 4>, n_submissions=1, n_success_tasks=0)}"
      ]
     },
     "execution_count": 34,
     "metadata": {},
     "output_type": "execute_result"
    }
   ],
   "source": [
    "jobs"
   ]
  },
  {
   "cell_type": "code",
   "execution_count": 20,
   "id": "080d3e28",
   "metadata": {},
   "outputs": [
    {
     "data": {
      "text/plain": [
       "'C11H10O_b7a8_conf_0'"
      ]
     },
     "execution_count": 20,
     "metadata": {},
     "output_type": "execute_result"
    }
   ],
   "source": [
    "job.base_name"
   ]
  },
  {
   "cell_type": "code",
   "execution_count": 40,
   "id": "17ffba6f",
   "metadata": {},
   "outputs": [
    {
     "data": {
      "text/plain": [
       "True"
      ]
     },
     "execution_count": 40,
     "metadata": {},
     "output_type": "execute_result"
    }
   ],
   "source": [
    "str(job.status) == 'slurm_status.failed'"
   ]
  },
  {
   "cell_type": "code",
   "execution_count": 33,
   "id": "14b7f547",
   "metadata": {},
   "outputs": [
    {
     "data": {
      "text/plain": [
       "'slurm_status.failed'"
      ]
     },
     "execution_count": 33,
     "metadata": {},
     "output_type": "execute_result"
    }
   ],
   "source": [
    "str(job.status)"
   ]
  },
  {
   "cell_type": "code",
   "execution_count": 39,
   "id": "2a693ff1",
   "metadata": {},
   "outputs": [
    {
     "ename": "AttributeError",
     "evalue": "'slurm_status' object has no attribute 'status'",
     "output_type": "error",
     "traceback": [
      "\u001b[0;31m---------------------------------------------------------------------------\u001b[0m",
      "\u001b[0;31mAttributeError\u001b[0m                            Traceback (most recent call last)",
      "\u001b[0;32m/var/folders/c8/7pbzw0r912n01vr9fgdmzhx00000gn/T/ipykernel_88240/3870258812.py\u001b[0m in \u001b[0;36m<module>\u001b[0;34m\u001b[0m\n\u001b[0;32m----> 1\u001b[0;31m \u001b[0mjob\u001b[0m\u001b[0;34m.\u001b[0m\u001b[0mstatus\u001b[0m\u001b[0;34m.\u001b[0m\u001b[0mstatus\u001b[0m\u001b[0;34m\u001b[0m\u001b[0;34m\u001b[0m\u001b[0m\n\u001b[0m",
      "\u001b[0;31mAttributeError\u001b[0m: 'slurm_status' object has no attribute 'status'"
     ]
    }
   ],
   "source": [
    "job.status"
   ]
  }
 ],
 "metadata": {
  "kernelspec": {
   "display_name": "Python 3 (ipykernel)",
   "language": "python",
   "name": "python3"
  },
  "language_info": {
   "codemirror_mode": {
    "name": "ipython",
    "version": 3
   },
   "file_extension": ".py",
   "mimetype": "text/x-python",
   "name": "python",
   "nbconvert_exporter": "python",
   "pygments_lexer": "ipython3",
   "version": "3.9.7"
  }
 },
 "nbformat": 4,
 "nbformat_minor": 5
}
