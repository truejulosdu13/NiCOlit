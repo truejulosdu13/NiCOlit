{
 "cells": [
  {
   "cell_type": "markdown",
   "id": "e47a90ce",
   "metadata": {},
   "source": [
    "# Import packages"
   ]
  },
  {
   "cell_type": "code",
   "execution_count": 5,
   "id": "f3eeafd6",
   "metadata": {},
   "outputs": [],
   "source": [
    "import pandas as pd\n",
    "import sys\n",
    "sys.path.append('../')\n",
    "\n",
    "from aqc_utils.molecule import molecule\n",
    "from aqc_utils.slurm_manager import slurm_manager\n",
    "from aqc_utils.helper_classes import slurm_status\n",
    "from dft_descriptors import prepocessing as pp\n",
    "import logging\n",
    "logging.basicConfig(level=logging.INFO)"
   ]
  },
  {
   "cell_type": "markdown",
   "id": "fd294cc9",
   "metadata": {},
   "source": [
    "# Initialize the slurm manager\n",
    "\n",
    "Slurm manager is going to manage what jobs you have currently running, or created. It caches your information, so you can kill the notebook, turn-off your computer, go on vacation, and pick it up later. It will remember which jobs you haven't retrieved from the cluster, etc.\n",
    "\n",
    "Note: it won't ask you for login unless you execute a method that requires remote access"
   ]
  },
  {
   "cell_type": "code",
   "execution_count": 6,
   "id": "10c3185a",
   "metadata": {},
   "outputs": [
    {
     "name": "stderr",
     "output_type": "stream",
     "text": [
      "INFO:aqc_utils.slurm_manager:Creating connection to hermite.chimie.ens.fr as jschleinitz\n",
      "INFO:paramiko.transport:Connected (version 2.0, client OpenSSH_8.2p1)\n",
      "INFO:paramiko.transport:Authentication (password) successful!\n",
      "INFO:aqc_utils.slurm_manager:Connected to hermite.chimie.ens.fr as jschleinitz is True.\n"
     ]
    }
   ],
   "source": [
    "sm=slurm_manager(user='jschleinitz', host='hermite.chimie.ens.fr')\n",
    "sm.connect()"
   ]
  },
  {
   "cell_type": "markdown",
   "id": "09c521c0",
   "metadata": {},
   "source": [
    "# Provide smiles string(s)\n",
    "and copy into them into my_smiles variable. It's a list of strings (a Python list can be of any size), the smiles are extracted for the csv resulting form the step 2 numbering the molecules."
   ]
  },
  {
   "cell_type": "code",
   "execution_count": 7,
   "id": "7b28b022",
   "metadata": {},
   "outputs": [],
   "source": [
    "react_nb = pd.read_csv(\"../data_csv/Data_test10222021.csv\", sep=',')\n",
    "import numpy as np\n",
    "from rdkit import Chem\n",
    "df = pd.read_csv('../data_csv/Data_test10222021.csv', sep = ',')\n",
    "df = df[df['Ligand effectif'].notna()]"
   ]
  },
  {
   "cell_type": "code",
   "execution_count": 8,
   "id": "e787fcdc",
   "metadata": {},
   "outputs": [
    {
     "data": {
      "text/plain": [
       "['C1=CC(P(C2C=CC=C2)C2C=CC=C2)C=C1',\n",
       " 'C1CCC(P(C2CCCCC2)C2CCCCC2)CC1',\n",
       " 'C1CCC(P(C2CCCCC2)C2CCCCC2)CC1.CC(C)(C)N1C=CN(C(C)(C)C)C1',\n",
       " 'C1CCC(P(C2CCCCC2)C2CCCCC2)CC1.CC(C)c1cccc(C(C)C)c1N1C=CN(c2c(C(C)C)cccc2C(C)C)C1',\n",
       " 'C1CCC(P(C2CCCCC2)C2CCCCC2)CC1.[CH]1[CH][CH][C](P(c2ccccc2)c2ccccc2)[CH]1.[CH]1[CH][CH][C](P(c2ccccc2)c2ccccc2)[CH]1.[Fe]',\n",
       " 'CC(C)(C)N1C=CN(C(C)(C)C)C1.c1ccc(P(c2ccccc2)c2ccccc2)cc1',\n",
       " 'CC(C)(C)P(C(C)(C)C)C(C)(C)C',\n",
       " 'CC(C)(C)P(C1CCCCC1)C1CCCCC1',\n",
       " 'CC(C)(C)P(c1ccccc1-c1ccccc1)C(C)(C)C',\n",
       " 'CC(C)CP(CC(C)C)CC(C)C',\n",
       " 'CC(C)Oc1cccc(OC(C)C)c1-c1ccccc1P(C1CCCCC1)C1CCCCC1',\n",
       " 'CC(C)P(C(C)C)C(C)C',\n",
       " 'CC(C)P(C(C)C)C(Nc1ccccc1-n1nc(-c2ccccc2)cc1-c1ccccc1)c1ccccc1',\n",
       " 'CC(C)c1cc(C(C)C)c(-c2cc(-c3c(C(C)C)cc(C(C)C)cc3C(C)C)cc(P(C3CCCC3)C3CCCC3)c2)c(C(C)C)c1',\n",
       " 'CC(C)c1cc(C(C)C)c(-c2ccccc2P(C2CCCCC2)C2CCCCC2)c(C(C)C)c1',\n",
       " 'CC(C)c1cccc(C(C)C)c1N1C=CN(c2c(C(C)C)cccc2C(C)C)C1.c1ccc(P(c2ccccc2)c2ccccc2)cc1',\n",
       " 'CC(O)c1ccccc1P(c1ccccc1)c1ccccc1',\n",
       " 'CCCCP(CCCC)CCCC',\n",
       " 'CCP(CC)CC',\n",
       " 'CN(C)P(N(C)C)N(C)C',\n",
       " 'CN(C)c1ccccc1-c1ccccc1P(C1CCCCC1)C1CCCCC1',\n",
       " 'COP(OC)OC',\n",
       " 'COc1ccc(P(c2ccc(OC)cc2)c2ccc(OC)cc2)cc1',\n",
       " 'COc1cccc(OC)c1-c1ccccc1P(C1CCCCC1)C1CCCCC1',\n",
       " 'COc1ccccc1P(c1ccccc1OC)c1ccccc1OC',\n",
       " 'CP(C(C)(C)C)C(C)(C)C',\n",
       " 'CP(C)C',\n",
       " 'Cc1ccc(P(c2ccc(C)cc2)c2ccc(C)cc2)cc1',\n",
       " 'Cc1ccccc1P(c1ccccc1C)c1ccccc1C',\n",
       " 'FC(F)(F)c1ccc(P(c2ccc(C(F)(F)F)cc2)c2ccc(C(F)(F)F)cc2)cc1',\n",
       " 'Fc1c(F)c(F)c(P(c2c(F)c(F)c(F)c(F)c2F)c2c(F)c(F)c(F)c(F)c2F)c(F)c1F',\n",
       " 'c1ccc(-c2cc(-c3ccccc3)n(-c3ccccc3NC(c3ccccc3)P(C3CCCCC3)C3CCCCC3)n2)cc1',\n",
       " 'c1ccc(-c2cc(-c3ccccc3)n(-c3ccccc3NC(c3ccccc3)P(c3ccccc3)c3ccccc3)n2)cc1',\n",
       " 'c1ccc(-c2ccccc2P(C2CCCCC2)C2CCCCC2)cc1',\n",
       " 'c1ccc(CP(Cc2ccccc2)Cc2ccccc2)cc1',\n",
       " 'c1ccc(P(C2CCCCC2)C2CCCCC2)cc1',\n",
       " 'c1ccc(P(c2ccccc2)C2CCCCC2)cc1',\n",
       " 'c1ccc(P(c2ccccc2)c2ccccc2)cc1']"
      ]
     },
     "execution_count": 8,
     "metadata": {},
     "output_type": "execute_result"
    }
   ],
   "source": [
    "unik_lig = [pp.dict_ligand[i] for i in np.unique(df[\"Ligand effectif\"])]\n",
    "can_unik_lig = np.unique([Chem.CanonSmiles(smi) for smi in unik_lig])\n",
    "my_smiles = can_unik_lig\n",
    "can_unik_lig\n",
    "# determine if ligand is NHC, Phosphine, Diphosphine or other\n",
    "def lig_type(list_lig):\n",
    "    lig_type = []\n",
    "    for smi in list_lig:\n",
    "        m = Chem.MolFromSmiles(smi)\n",
    "        if m.HasSubstructMatch(Chem.MolFromSmiles('N[C]N')):\n",
    "            typ = 'NHC'\n",
    "            if m.HasSubstructMatch(Chem.MolFromSmiles('P')):\n",
    "                typ = 'mixed'\n",
    "        elif m.HasSubstructMatch(Chem.MolFromSmiles('P')):\n",
    "            typ = 'Phos'\n",
    "            if len(m.GetSubstructMatches(Chem.MolFromSmiles('P'))) == 2:\n",
    "                typ = 'DiPhos'\n",
    "                if len(m.GetSubstructMatches(Chem.MolFromSmiles('P'))) > 2:\n",
    "                    typ = 'mixed Phos'\n",
    "        else:\n",
    "            typ = 'other'\n",
    "        lig_type.append(typ)\n",
    "    return lig_type\n",
    "phos = [can_unik_lig[i] for i in range(len(can_unik_lig)) if lig_type(can_unik_lig)[i] == 'Phos']\n",
    "phos"
   ]
  },
  {
   "cell_type": "code",
   "execution_count": 12,
   "id": "f7e34358",
   "metadata": {},
   "outputs": [
    {
     "data": {
      "text/plain": [
       "['C1CCC(P(C2CCCCC2)C2CCCCC2)CC1.CC(C)(C)N1C=CN(C(C)(C)C)C1',\n",
       " 'C1CCC(P(C2CCCCC2)C2CCCCC2)CC1.CC(C)c1cccc(C(C)C)c1N1C=CN(c2c(C(C)C)cccc2C(C)C)C1',\n",
       " 'C1CCC(P(C2CCCCC2)C2CCCCC2)CC1.[CH]1[CH][CH][C](P(c2ccccc2)c2ccccc2)[CH]1.[CH]1[CH][CH][C](P(c2ccccc2)c2ccccc2)[CH]1.[Fe]',\n",
       " 'CC(C)(C)N1C=CN(C(C)(C)C)C1.c1ccc(P(c2ccccc2)c2ccccc2)cc1',\n",
       " 'CC(C)c1cccc(C(C)C)c1N1C=CN(c2c(C(C)C)cccc2C(C)C)C1.c1ccc(P(c2ccccc2)c2ccccc2)cc1']"
      ]
     },
     "execution_count": 12,
     "metadata": {},
     "output_type": "execute_result"
    }
   ],
   "source": [
    "multiples = []\n",
    "for P in phos:\n",
    "    if '.' in P:\n",
    "        multiples.append(P)\n",
    "multiples"
   ]
  },
  {
   "cell_type": "code",
   "execution_count": 83,
   "id": "44bc30c5",
   "metadata": {},
   "outputs": [
    {
     "data": {
      "image/png": "[encoded data removed]",
      "text/plain": [
       "<rdkit.Chem.rdchem.Mol at 0x123fabd60>"
      ]
     },
     "execution_count": 83,
     "metadata": {},
     "output_type": "execute_result"
    }
   ],
   "source": [
    "smi = 'CC(C)P(C(C)C)C1%10(C4C2C3C1[Fe]2345679%10C8C5C6C7(P(C(C)C)C(C)C)C89)'\n",
    "Chem.MolFromSmiles(smi)"
   ]
  },
  {
   "cell_type": "code",
   "execution_count": 64,
   "id": "57b44daa",
   "metadata": {},
   "outputs": [
    {
     "data": {
      "image/png": "[encoded data removed]",
      "text/plain": [
       "<rdkit.Chem.rdchem.Mol at 0x124134d00>"
      ]
     },
     "execution_count": 64,
     "metadata": {},
     "output_type": "execute_result"
    }
   ],
   "source": [
    "smi= 'C1CCCCC1P(C1CCCCC1)C34C5[Fe]3678912(C5C6C74)C3C8C9C1(C23)P(C1CCCCC1)C1CCCCC1'\n",
    "Chem.MolFromSmiles(smi)"
   ]
  },
  {
   "cell_type": "markdown",
   "id": "9c3ebf25",
   "metadata": {},
   "source": [
    "# Initialize the molecules and generate conformations\n",
    "We will use some for loops to loop over the smiles, only one conformation will be taken for each molecules in this work"
   ]
  },
  {
   "cell_type": "code",
   "execution_count": 84,
   "id": "225806f5",
   "metadata": {},
   "outputs": [
    {
     "name": "stderr",
     "output_type": "stream",
     "text": [
      "INFO:aqc_utils.molecule:Initializing molecule with canonical smiles: CC(P(C12C3[Fe]4567892(C1C5C34)C1C6C7C9(C81)P(C(C)C)C(C)C)C(C)C)C\n",
      "INFO:aqc_utils.molecule:Creating initial geometry with option 'best'.\n",
      "INFO:aqc_utils.molecule:Initial geometry created successfully.\n"
     ]
    }
   ],
   "source": [
    "mols = []\n",
    "for smile in [smi]:\n",
    "    mols.append(molecule(smile, max_num_conformers=1))"
   ]
  },
  {
   "cell_type": "markdown",
   "id": "a702571b",
   "metadata": {},
   "source": [
    "###### Draw some molecules"
   ]
  },
  {
   "cell_type": "code",
   "execution_count": 85,
   "id": "0ccbf815",
   "metadata": {},
   "outputs": [],
   "source": [
    "#mols[0].draw(0)"
   ]
  },
  {
   "cell_type": "markdown",
   "id": "100f5719",
   "metadata": {},
   "source": [
    "# Create gaussian job for each conformation"
   ]
  },
  {
   "cell_type": "code",
   "execution_count": 86,
   "id": "4d7c91a6",
   "metadata": {},
   "outputs": [
    {
     "name": "stderr",
     "output_type": "stream",
     "text": [
      "INFO:aqc_utils.gaussian_input_generator:Generating Gaussian input files for 1 conformations.\n"
     ]
    },
    {
     "name": "stdout",
     "output_type": "stream",
     "text": [
      "C22H36FeP2_5016_conf_0\n"
     ]
    }
   ],
   "source": [
    "for mol in mols:\n",
    "    sm.create_jobs_for_molecule(mol, workflow_type=\"equilibrium\")"
   ]
  },
  {
   "cell_type": "code",
   "execution_count": 89,
   "id": "c2aa4b1c",
   "metadata": {
    "scrolled": false
   },
   "outputs": [
    {
     "data": {
      "text/html": [
       "<div>\n",
       "<style scoped>\n",
       "    .dataframe tbody tr th:only-of-type {\n",
       "        vertical-align: middle;\n",
       "    }\n",
       "\n",
       "    .dataframe tbody tr th {\n",
       "        vertical-align: top;\n",
       "    }\n",
       "\n",
       "    .dataframe thead th {\n",
       "        text-align: right;\n",
       "    }\n",
       "</style>\n",
       "<table border=\"1\" class=\"dataframe\">\n",
       "  <thead>\n",
       "    <tr style=\"text-align: right;\">\n",
       "      <th>status</th>\n",
       "      <th>done</th>\n",
       "      <th>failed</th>\n",
       "      <th>incomplete</th>\n",
       "      <th>submitted</th>\n",
       "      <th>uploaded</th>\n",
       "    </tr>\n",
       "    <tr>\n",
       "      <th>can</th>\n",
       "      <th></th>\n",
       "      <th></th>\n",
       "      <th></th>\n",
       "      <th></th>\n",
       "      <th></th>\n",
       "    </tr>\n",
       "  </thead>\n",
       "  <tbody>\n",
       "    <tr>\n",
       "      <th>BrB(Br)Br</th>\n",
       "      <td>0</td>\n",
       "      <td>0</td>\n",
       "      <td>0</td>\n",
       "      <td>0</td>\n",
       "      <td>1</td>\n",
       "    </tr>\n",
       "    <tr>\n",
       "      <th>Br[Mg]C1CCCCC1</th>\n",
       "      <td>0</td>\n",
       "      <td>0</td>\n",
       "      <td>0</td>\n",
       "      <td>0</td>\n",
       "      <td>1</td>\n",
       "    </tr>\n",
       "    <tr>\n",
       "      <th>Br[Mg]Cc1ccccc1</th>\n",
       "      <td>0</td>\n",
       "      <td>0</td>\n",
       "      <td>0</td>\n",
       "      <td>0</td>\n",
       "      <td>1</td>\n",
       "    </tr>\n",
       "    <tr>\n",
       "      <th>Br[Mg]c1c(C)cc(cc1C)C</th>\n",
       "      <td>0</td>\n",
       "      <td>0</td>\n",
       "      <td>1</td>\n",
       "      <td>0</td>\n",
       "      <td>0</td>\n",
       "    </tr>\n",
       "    <tr>\n",
       "      <th>C(Oc1ccccc1)Oc1ccccc1</th>\n",
       "      <td>0</td>\n",
       "      <td>1</td>\n",
       "      <td>0</td>\n",
       "      <td>0</td>\n",
       "      <td>0</td>\n",
       "    </tr>\n",
       "    <tr>\n",
       "      <th>...</th>\n",
       "      <td>...</td>\n",
       "      <td>...</td>\n",
       "      <td>...</td>\n",
       "      <td>...</td>\n",
       "      <td>...</td>\n",
       "    </tr>\n",
       "    <tr>\n",
       "      <th>[Sr+2]</th>\n",
       "      <td>0</td>\n",
       "      <td>0</td>\n",
       "      <td>0</td>\n",
       "      <td>0</td>\n",
       "      <td>1</td>\n",
       "    </tr>\n",
       "    <tr>\n",
       "      <th>[Y+3]</th>\n",
       "      <td>0</td>\n",
       "      <td>0</td>\n",
       "      <td>0</td>\n",
       "      <td>0</td>\n",
       "      <td>1</td>\n",
       "    </tr>\n",
       "    <tr>\n",
       "      <th>[Zn+2]</th>\n",
       "      <td>0</td>\n",
       "      <td>0</td>\n",
       "      <td>0</td>\n",
       "      <td>0</td>\n",
       "      <td>1</td>\n",
       "    </tr>\n",
       "    <tr>\n",
       "      <th>[Zn]</th>\n",
       "      <td>0</td>\n",
       "      <td>0</td>\n",
       "      <td>0</td>\n",
       "      <td>0</td>\n",
       "      <td>1</td>\n",
       "    </tr>\n",
       "    <tr>\n",
       "      <th>c1ccc(cc1)P(C12C3[Fe]4567892(C1C5C34)C1C6C7C9(C81)P(c1ccccc1)c1ccccc1)c1ccccc1</th>\n",
       "      <td>0</td>\n",
       "      <td>0</td>\n",
       "      <td>0</td>\n",
       "      <td>1</td>\n",
       "      <td>0</td>\n",
       "    </tr>\n",
       "  </tbody>\n",
       "</table>\n",
       "<p>444 rows × 5 columns</p>\n",
       "</div>"
      ],
      "text/plain": [
       "status                                              done  failed  incomplete  \\\n",
       "can                                                                            \n",
       "BrB(Br)Br                                              0       0           0   \n",
       "Br[Mg]C1CCCCC1                                         0       0           0   \n",
       "Br[Mg]Cc1ccccc1                                        0       0           0   \n",
       "Br[Mg]c1c(C)cc(cc1C)C                                  0       0           1   \n",
       "C(Oc1ccccc1)Oc1ccccc1                                  0       1           0   \n",
       "...                                                  ...     ...         ...   \n",
       "[Sr+2]                                                 0       0           0   \n",
       "[Y+3]                                                  0       0           0   \n",
       "[Zn+2]                                                 0       0           0   \n",
       "[Zn]                                                   0       0           0   \n",
       "c1ccc(cc1)P(C12C3[Fe]4567892(C1C5C34)C1C6C7C9(C...     0       0           0   \n",
       "\n",
       "status                                              submitted  uploaded  \n",
       "can                                                                      \n",
       "BrB(Br)Br                                                   0         1  \n",
       "Br[Mg]C1CCCCC1                                              0         1  \n",
       "Br[Mg]Cc1ccccc1                                             0         1  \n",
       "Br[Mg]c1c(C)cc(cc1C)C                                       0         0  \n",
       "C(Oc1ccccc1)Oc1ccccc1                                       0         0  \n",
       "...                                                       ...       ...  \n",
       "[Sr+2]                                                      0         1  \n",
       "[Y+3]                                                       0         1  \n",
       "[Zn+2]                                                      0         1  \n",
       "[Zn]                                                        0         1  \n",
       "c1ccc(cc1)P(C12C3[Fe]4567892(C1C5C34)C1C6C7C9(C...          1         0  \n",
       "\n",
       "[444 rows x 5 columns]"
      ]
     },
     "execution_count": 89,
     "metadata": {},
     "output_type": "execute_result"
    }
   ],
   "source": [
    "sm.get_job_stats(split_by_can=True)"
   ]
  },
  {
   "cell_type": "code",
   "execution_count": 90,
   "id": "1637eca0",
   "metadata": {},
   "outputs": [
    {
     "name": "stderr",
     "output_type": "stream",
     "text": [
      "INFO:aqc_utils.slurm_manager:Submitting 0 jobs.\n"
     ]
    }
   ],
   "source": [
    "sm.submit_jobs()"
   ]
  },
  {
   "cell_type": "code",
   "execution_count": 91,
   "id": "be5c852a",
   "metadata": {
    "scrolled": true
   },
   "outputs": [
    {
     "data": {
      "text/html": [
       "<div>\n",
       "<style scoped>\n",
       "    .dataframe tbody tr th:only-of-type {\n",
       "        vertical-align: middle;\n",
       "    }\n",
       "\n",
       "    .dataframe tbody tr th {\n",
       "        vertical-align: top;\n",
       "    }\n",
       "\n",
       "    .dataframe thead th {\n",
       "        text-align: right;\n",
       "    }\n",
       "</style>\n",
       "<table border=\"1\" class=\"dataframe\">\n",
       "  <thead>\n",
       "    <tr style=\"text-align: right;\">\n",
       "      <th></th>\n",
       "      <th>RUNNING</th>\n",
       "    </tr>\n",
       "  </thead>\n",
       "  <tbody>\n",
       "    <tr>\n",
       "      <th>jobs</th>\n",
       "      <td>6</td>\n",
       "    </tr>\n",
       "  </tbody>\n",
       "</table>\n",
       "</div>"
      ],
      "text/plain": [
       "      RUNNING\n",
       "jobs        6"
      ]
     },
     "execution_count": 91,
     "metadata": {},
     "output_type": "execute_result"
    }
   ],
   "source": [
    "sm.squeue()"
   ]
  },
  {
   "cell_type": "code",
   "execution_count": 92,
   "id": "c4493bc4",
   "metadata": {},
   "outputs": [
    {
     "name": "stdout",
     "output_type": "stream",
     "text": [
      "C20H28O2_1cb0_conf_0\n"
     ]
    }
   ],
   "source": [
    "for job in sm.get_jobs():\n",
    "    if str(sm.get_jobs()[job].status) == 'slurm_status.done':\n",
    "        print(sm.get_jobs()[job].base_name)"
   ]
  },
  {
   "cell_type": "code",
   "execution_count": 93,
   "id": "4df0fbf2",
   "metadata": {},
   "outputs": [
    {
     "data": {
      "text/plain": [
       "'447581cd9c6bf05e9ba87c3a578b7d6d'"
      ]
     },
     "execution_count": 93,
     "metadata": {},
     "output_type": "execute_result"
    }
   ],
   "source": [
    "job"
   ]
  },
  {
   "cell_type": "code",
   "execution_count": 94,
   "id": "bd444e53",
   "metadata": {},
   "outputs": [],
   "source": [
    "job_all = sm.get_jobs()[job]"
   ]
  },
  {
   "cell_type": "code",
   "execution_count": 95,
   "id": "a7e26a8c",
   "metadata": {},
   "outputs": [
    {
     "data": {
      "text/html": [
       "<div>\n",
       "<style scoped>\n",
       "    .dataframe tbody tr th:only-of-type {\n",
       "        vertical-align: middle;\n",
       "    }\n",
       "\n",
       "    .dataframe tbody tr th {\n",
       "        vertical-align: top;\n",
       "    }\n",
       "\n",
       "    .dataframe thead th {\n",
       "        text-align: right;\n",
       "    }\n",
       "</style>\n",
       "<table border=\"1\" class=\"dataframe\">\n",
       "  <thead>\n",
       "    <tr style=\"text-align: right;\">\n",
       "      <th>status</th>\n",
       "      <th>done</th>\n",
       "      <th>failed</th>\n",
       "      <th>incomplete</th>\n",
       "      <th>submitted</th>\n",
       "      <th>uploaded</th>\n",
       "    </tr>\n",
       "  </thead>\n",
       "  <tbody>\n",
       "    <tr>\n",
       "      <th>jobs</th>\n",
       "      <td>1</td>\n",
       "      <td>343</td>\n",
       "      <td>3</td>\n",
       "      <td>5</td>\n",
       "      <td>93</td>\n",
       "    </tr>\n",
       "  </tbody>\n",
       "</table>\n",
       "</div>"
      ],
      "text/plain": [
       "status  done  failed  incomplete  submitted  uploaded\n",
       "jobs       1     343           3          5        93"
      ]
     },
     "execution_count": 95,
     "metadata": {},
     "output_type": "execute_result"
    }
   ],
   "source": [
    "sm.get_job_stats()"
   ]
  },
  {
   "cell_type": "code",
   "execution_count": 87,
   "id": "da42bc52",
   "metadata": {},
   "outputs": [
    {
     "data": {
      "text/plain": [
       "'slurm_status.created'"
      ]
     },
     "execution_count": 87,
     "metadata": {},
     "output_type": "execute_result"
    }
   ],
   "source": [
    "str(job_all.status)"
   ]
  },
  {
   "cell_type": "code",
   "execution_count": 88,
   "id": "63f47dfe",
   "metadata": {},
   "outputs": [
    {
     "data": {
      "text/plain": [
       "'C12H13NO2_b9f2_conf_0'"
      ]
     },
     "execution_count": 88,
     "metadata": {},
     "output_type": "execute_result"
    }
   ],
   "source": [
    "job_all.base_name"
   ]
  }
 ],
 "metadata": {
  "kernelspec": {
   "display_name": "Python 3 (ipykernel)",
   "language": "python",
   "name": "python3"
  },
  "language_info": {
   "codemirror_mode": {
    "name": "ipython",
    "version": 3
   },
   "file_extension": ".py",
   "mimetype": "text/x-python",
   "name": "python",
   "nbconvert_exporter": "python",
   "pygments_lexer": "ipython3",
   "version": "3.9.7"
  }
 },
 "nbformat": 4,
 "nbformat_minor": 5
}
