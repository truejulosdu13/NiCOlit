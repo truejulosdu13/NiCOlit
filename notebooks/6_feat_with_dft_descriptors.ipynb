{
 "cells": [
  {
   "cell_type": "code",
   "execution_count": 10,
   "id": "ff35f807",
   "metadata": {},
   "outputs": [],
   "source": [
    "import pandas as pd\n",
    "\n",
    "import sys\n",
    "sys.path.append('../')\n",
    "\n",
    "from rdkit import Chem"
   ]
  },
  {
   "cell_type": "code",
   "execution_count": 3,
   "id": "12625545",
   "metadata": {},
   "outputs": [],
   "source": [
    "# get reaction, descriptors, numbering datasets"
   ]
  },
  {
   "cell_type": "code",
   "execution_count": 6,
   "id": "06861f94",
   "metadata": {},
   "outputs": [],
   "source": [
    "react_df = pd.read_csv('../data_csv/Data_test09032021.csv', sep = ',')\n",
    "CO_df = pd.read_csv('../data_csv/aqc_descriptors_CO.csv', sep = ',')\n",
    "num_07_df = pd.read_csv('../data_csv/fragments_0-7.csv')"
   ]
  },
  {
   "cell_type": "code",
   "execution_count": 13,
   "id": "1a737ceb",
   "metadata": {},
   "outputs": [
    {
     "data": {
      "image/png": "[encoded data removed]",
      "text/plain": [
       "<rdkit.Chem.rdchem.Mol at 0x126487820>"
      ]
     },
     "execution_count": 13,
     "metadata": {},
     "output_type": "execute_result"
    }
   ],
   "source": [
    "# test for one molecule \n",
    "\n",
    "smi = CO_df[\"can\"][1]\n",
    "Chem.MolFromSmiles(smi)"
   ]
  },
  {
   "cell_type": "code",
   "execution_count": 51,
   "id": "4bd58a00",
   "metadata": {},
   "outputs": [
    {
     "name": "stdout",
     "output_type": "stream",
     "text": [
      "smi_our_db =  C=CC[Si](C)(C)Oc2ccc1ccccc1c2\n",
      "smi_aqc_db =  C=CC[Si](Oc1ccc2c(c1)cccc2)(C)C\n",
      "smi_num_db =  C=CC[Si](C)(C)Oc1ccc2ccccc2c1\n",
      "smi_rdkit_can =  C=CC[Si](C)(C)Oc1ccc2ccccc2c1\n"
     ]
    }
   ],
   "source": [
    "# find smi in all 3 df\n",
    "for smi_r in react_df[\"Reactant Smile (C-O)\"]:\n",
    "    if Chem.CanonSmiles(smi_r) == Chem.CanonSmiles(smi):\n",
    "        print(\"smi_our_db = \", smi_r)\n",
    "        r = smi_r\n",
    "for smi_co in CO_df[\"can\"]:\n",
    "    if Chem.CanonSmiles(smi_co) == Chem.CanonSmiles(smi):\n",
    "        print(\"smi_aqc_db = \", smi_co)\n",
    "        co = smi_co\n",
    "for smi_n in num_07_df[\"react\"]:\n",
    "    if Chem.CanonSmiles(smi_n) == Chem.CanonSmiles(smi):\n",
    "        print(\"smi_num_db = \", smi_n)\n",
    "        n = smi_n\n",
    "print(\"smi_rdkit_can = \", Chem.CanonSmiles(smi))\n"
   ]
  },
  {
   "cell_type": "code",
   "execution_count": 47,
   "id": "a4f1c729",
   "metadata": {},
   "outputs": [],
   "source": [
    "#num_07_df"
   ]
  },
  {
   "cell_type": "code",
   "execution_count": 48,
   "id": "e69f4d6d",
   "metadata": {},
   "outputs": [],
   "source": [
    "from openbabel import pybel\n",
    "import openbabel"
   ]
  },
  {
   "cell_type": "code",
   "execution_count": 55,
   "id": "78b67cb9",
   "metadata": {},
   "outputs": [
    {
     "name": "stdout",
     "output_type": "stream",
     "text": [
      "C=CC[Si](C)(C)Oc2ccc1ccccc1c2\n",
      "C=CC[Si](Oc1ccc2c(c1)cccc2)(C)C\t\n",
      "\n",
      "C=CC[Si](Oc1ccc2c(c1)cccc2)(C)C\n",
      "C=CC[Si](Oc1ccc2c(c1)cccc2)(C)C\t\n",
      "\n",
      "C=CC[Si](C)(C)Oc1ccc2ccccc2c1\n",
      "C=CC[Si](Oc1ccc2c(c1)cccc2)(C)C\t\n",
      "\n"
     ]
    }
   ],
   "source": [
    "smis = [r, co, n]\n",
    "#print(smis)\n",
    "for s in smis:   \n",
    "    mol = pybel.readstring(\"smi\", s)\n",
    "    print(s)\n",
    "    print(mol.write(\"can\"))"
   ]
  },
  {
   "cell_type": "code",
   "execution_count": 39,
   "id": "3123528f",
   "metadata": {},
   "outputs": [
    {
     "data": {
      "text/plain": [
       "'C=CC[Si](Oc1ccc2c(c1)cccc2)(C)C\\t\\n'"
      ]
     },
     "execution_count": 39,
     "metadata": {},
     "output_type": "execute_result"
    }
   ],
   "source": [
    "mol.write()"
   ]
  },
  {
   "cell_type": "code",
   "execution_count": null,
   "id": "bf9b8154",
   "metadata": {},
   "outputs": [],
   "source": []
  }
 ],
 "metadata": {
  "kernelspec": {
   "display_name": "Python 3 (ipykernel)",
   "language": "python",
   "name": "python3"
  },
  "language_info": {
   "codemirror_mode": {
    "name": "ipython",
    "version": 3
   },
   "file_extension": ".py",
   "mimetype": "text/x-python",
   "name": "python",
   "nbconvert_exporter": "python",
   "pygments_lexer": "ipython3",
   "version": "3.9.7"
  }
 },
 "nbformat": 4,
 "nbformat_minor": 5
}
