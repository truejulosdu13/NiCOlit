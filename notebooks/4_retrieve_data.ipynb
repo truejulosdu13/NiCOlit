{
 "cells": [
  {
   "cell_type": "markdown",
   "id": "78381002",
   "metadata": {},
   "source": [
    "# Import packages"
   ]
  },
  {
   "cell_type": "code",
   "execution_count": 53,
   "id": "d81fc9fa",
   "metadata": {},
   "outputs": [],
   "source": [
    "import pandas as pd\n",
    "import re\n",
    "\n",
    "import sys\n",
    "sys.path.append('../')\n",
    "from aqc_utils.gaussian_log_extractor import *\n",
    "from aqc_utils.molecule import molecule\n",
    "from aqc_utils.slurm_manager import slurm_manager\n",
    "from aqc_utils.helper_classes import slurm_status\n",
    "\n",
    "import logging\n",
    "logging.basicConfig(level=logging.INFO)"
   ]
  },
  {
   "cell_type": "markdown",
   "id": "2f32a2ad",
   "metadata": {},
   "source": [
    "# Objectif :\n",
    "definir une fonction qui permet de generer un dataframe ou d'updater un .csv avec les molecules calculées et toutes leurs caracteristiques"
   ]
  },
  {
   "cell_type": "markdown",
   "id": "6a9105b8",
   "metadata": {},
   "source": [
    "## First Step\n",
    "Recupérer les datas d'une molécule"
   ]
  },
  {
   "cell_type": "code",
   "execution_count": 54,
   "id": "453d8aba",
   "metadata": {
    "scrolled": false
   },
   "outputs": [
    {
     "name": "stderr",
     "output_type": "stream",
     "text": [
      "INFO:aqc_utils.slurm_manager:Creating connection to hermite.chimie.ens.fr as jschleinitz\n",
      "ERROR:paramiko.transport:Exception: Error reading SSH protocol banner\n",
      "ERROR:paramiko.transport:Traceback (most recent call last):\n",
      "ERROR:paramiko.transport:  File \"/usr/local/anaconda3/envs/dft_for_sm/lib/python3.9/site-packages/paramiko/transport.py\", line 2211, in _check_banner\n",
      "ERROR:paramiko.transport:    buf = self.packetizer.readline(timeout)\n",
      "ERROR:paramiko.transport:  File \"/usr/local/anaconda3/envs/dft_for_sm/lib/python3.9/site-packages/paramiko/packet.py\", line 380, in readline\n",
      "ERROR:paramiko.transport:    buf += self._read_timeout(timeout)\n",
      "ERROR:paramiko.transport:  File \"/usr/local/anaconda3/envs/dft_for_sm/lib/python3.9/site-packages/paramiko/packet.py\", line 609, in _read_timeout\n",
      "ERROR:paramiko.transport:    raise EOFError()\n",
      "ERROR:paramiko.transport:EOFError\n",
      "ERROR:paramiko.transport:\n",
      "ERROR:paramiko.transport:During handling of the above exception, another exception occurred:\n",
      "ERROR:paramiko.transport:\n",
      "ERROR:paramiko.transport:Traceback (most recent call last):\n",
      "ERROR:paramiko.transport:  File \"/usr/local/anaconda3/envs/dft_for_sm/lib/python3.9/site-packages/paramiko/transport.py\", line 2039, in run\n",
      "ERROR:paramiko.transport:    self._check_banner()\n",
      "ERROR:paramiko.transport:  File \"/usr/local/anaconda3/envs/dft_for_sm/lib/python3.9/site-packages/paramiko/transport.py\", line 2215, in _check_banner\n",
      "ERROR:paramiko.transport:    raise SSHException(\n",
      "ERROR:paramiko.transport:paramiko.ssh_exception.SSHException: Error reading SSH protocol banner\n",
      "ERROR:paramiko.transport:\n"
     ]
    },
    {
     "ename": "SSHException",
     "evalue": "Error reading SSH protocol banner",
     "output_type": "error",
     "traceback": [
      "\u001b[0;31m---------------------------------------------------------------------------\u001b[0m",
      "\u001b[0;31mEOFError\u001b[0m                                  Traceback (most recent call last)",
      "\u001b[0;32m/usr/local/anaconda3/envs/dft_for_sm/lib/python3.9/site-packages/paramiko/transport.py\u001b[0m in \u001b[0;36m_check_banner\u001b[0;34m(self)\u001b[0m\n\u001b[1;32m   2210\u001b[0m             \u001b[0;32mtry\u001b[0m\u001b[0;34m:\u001b[0m\u001b[0;34m\u001b[0m\u001b[0;34m\u001b[0m\u001b[0m\n\u001b[0;32m-> 2211\u001b[0;31m                 \u001b[0mbuf\u001b[0m \u001b[0;34m=\u001b[0m \u001b[0mself\u001b[0m\u001b[0;34m.\u001b[0m\u001b[0mpacketizer\u001b[0m\u001b[0;34m.\u001b[0m\u001b[0mreadline\u001b[0m\u001b[0;34m(\u001b[0m\u001b[0mtimeout\u001b[0m\u001b[0;34m)\u001b[0m\u001b[0;34m\u001b[0m\u001b[0;34m\u001b[0m\u001b[0m\n\u001b[0m\u001b[1;32m   2212\u001b[0m             \u001b[0;32mexcept\u001b[0m \u001b[0mProxyCommandFailure\u001b[0m\u001b[0;34m:\u001b[0m\u001b[0;34m\u001b[0m\u001b[0;34m\u001b[0m\u001b[0m\n",
      "\u001b[0;32m/usr/local/anaconda3/envs/dft_for_sm/lib/python3.9/site-packages/paramiko/packet.py\u001b[0m in \u001b[0;36mreadline\u001b[0;34m(self, timeout)\u001b[0m\n\u001b[1;32m    379\u001b[0m         \u001b[0;32mwhile\u001b[0m \u001b[0mlinefeed_byte\u001b[0m \u001b[0;32mnot\u001b[0m \u001b[0;32min\u001b[0m \u001b[0mbuf\u001b[0m\u001b[0;34m:\u001b[0m\u001b[0;34m\u001b[0m\u001b[0;34m\u001b[0m\u001b[0m\n\u001b[0;32m--> 380\u001b[0;31m             \u001b[0mbuf\u001b[0m \u001b[0;34m+=\u001b[0m \u001b[0mself\u001b[0m\u001b[0;34m.\u001b[0m\u001b[0m_read_timeout\u001b[0m\u001b[0;34m(\u001b[0m\u001b[0mtimeout\u001b[0m\u001b[0;34m)\u001b[0m\u001b[0;34m\u001b[0m\u001b[0;34m\u001b[0m\u001b[0m\n\u001b[0m\u001b[1;32m    381\u001b[0m         \u001b[0mn\u001b[0m \u001b[0;34m=\u001b[0m \u001b[0mbuf\u001b[0m\u001b[0;34m.\u001b[0m\u001b[0mindex\u001b[0m\u001b[0;34m(\u001b[0m\u001b[0mlinefeed_byte\u001b[0m\u001b[0;34m)\u001b[0m\u001b[0;34m\u001b[0m\u001b[0;34m\u001b[0m\u001b[0m\n",
      "\u001b[0;32m/usr/local/anaconda3/envs/dft_for_sm/lib/python3.9/site-packages/paramiko/packet.py\u001b[0m in \u001b[0;36m_read_timeout\u001b[0;34m(self, timeout)\u001b[0m\n\u001b[1;32m    608\u001b[0m                 \u001b[0;32mif\u001b[0m \u001b[0mlen\u001b[0m\u001b[0;34m(\u001b[0m\u001b[0mx\u001b[0m\u001b[0;34m)\u001b[0m \u001b[0;34m==\u001b[0m \u001b[0;36m0\u001b[0m\u001b[0;34m:\u001b[0m\u001b[0;34m\u001b[0m\u001b[0;34m\u001b[0m\u001b[0m\n\u001b[0;32m--> 609\u001b[0;31m                     \u001b[0;32mraise\u001b[0m \u001b[0mEOFError\u001b[0m\u001b[0;34m(\u001b[0m\u001b[0;34m)\u001b[0m\u001b[0;34m\u001b[0m\u001b[0;34m\u001b[0m\u001b[0m\n\u001b[0m\u001b[1;32m    610\u001b[0m                 \u001b[0;32mbreak\u001b[0m\u001b[0;34m\u001b[0m\u001b[0;34m\u001b[0m\u001b[0m\n",
      "\u001b[0;31mEOFError\u001b[0m: ",
      "\nDuring handling of the above exception, another exception occurred:\n",
      "\u001b[0;31mSSHException\u001b[0m                              Traceback (most recent call last)",
      "\u001b[0;32m/var/folders/c8/7pbzw0r912n01vr9fgdmzhx00000gn/T/ipykernel_60084/3351753457.py\u001b[0m in \u001b[0;36m<module>\u001b[0;34m\u001b[0m\n\u001b[1;32m      1\u001b[0m \u001b[0msm\u001b[0m\u001b[0;34m=\u001b[0m\u001b[0mslurm_manager\u001b[0m\u001b[0;34m(\u001b[0m\u001b[0muser\u001b[0m\u001b[0;34m=\u001b[0m\u001b[0;34m'jschleinitz'\u001b[0m\u001b[0;34m,\u001b[0m \u001b[0mhost\u001b[0m\u001b[0;34m=\u001b[0m\u001b[0;34m'hermite.chimie.ens.fr'\u001b[0m\u001b[0;34m)\u001b[0m\u001b[0;34m\u001b[0m\u001b[0;34m\u001b[0m\u001b[0m\n\u001b[0;32m----> 2\u001b[0;31m \u001b[0msm\u001b[0m\u001b[0;34m.\u001b[0m\u001b[0mconnect\u001b[0m\u001b[0;34m(\u001b[0m\u001b[0;34m)\u001b[0m\u001b[0;34m\u001b[0m\u001b[0;34m\u001b[0m\u001b[0m\n\u001b[0m",
      "\u001b[0;32m~/Desktop/These/Projet_stage_M1_Max/Code/SM_DFT/DFT_for_SM/notebooks/../aqc_utils/slurm_manager.py\u001b[0m in \u001b[0;36mconnect\u001b[0;34m(self)\u001b[0m\n\u001b[1;32m     61\u001b[0m             \u001b[0mcreate_new_connection\u001b[0m \u001b[0;34m=\u001b[0m \u001b[0;32mTrue\u001b[0m\u001b[0;34m\u001b[0m\u001b[0;34m\u001b[0m\u001b[0m\n\u001b[1;32m     62\u001b[0m         \u001b[0;32mif\u001b[0m \u001b[0mcreate_new_connection\u001b[0m\u001b[0;34m:\u001b[0m\u001b[0;34m\u001b[0m\u001b[0;34m\u001b[0m\u001b[0m\n\u001b[0;32m---> 63\u001b[0;31m             \u001b[0mself\u001b[0m\u001b[0;34m.\u001b[0m\u001b[0mconnection\u001b[0m \u001b[0;34m=\u001b[0m \u001b[0mssh_connect\u001b[0m\u001b[0;34m(\u001b[0m\u001b[0mself\u001b[0m\u001b[0;34m.\u001b[0m\u001b[0mhost\u001b[0m\u001b[0;34m,\u001b[0m \u001b[0mself\u001b[0m\u001b[0;34m.\u001b[0m\u001b[0muser\u001b[0m\u001b[0;34m)\u001b[0m\u001b[0;34m\u001b[0m\u001b[0;34m\u001b[0m\u001b[0m\n\u001b[0m\u001b[1;32m     64\u001b[0m             \u001b[0mself\u001b[0m\u001b[0;34m.\u001b[0m\u001b[0mconnection\u001b[0m\u001b[0;34m.\u001b[0m\u001b[0mrun\u001b[0m\u001b[0;34m(\u001b[0m\u001b[0;34mf\"mkdir -p {self.remote_dir}\"\u001b[0m\u001b[0;34m)\u001b[0m\u001b[0;34m\u001b[0m\u001b[0;34m\u001b[0m\u001b[0m\n\u001b[1;32m     65\u001b[0m             \u001b[0mlogger\u001b[0m\u001b[0;34m.\u001b[0m\u001b[0minfo\u001b[0m\u001b[0;34m(\u001b[0m\u001b[0;34mf\"Connected to {self.host} as {self.user} is {self.connection.is_connected}.\"\u001b[0m\u001b[0;34m)\u001b[0m\u001b[0;34m\u001b[0m\u001b[0;34m\u001b[0m\u001b[0m\n",
      "\u001b[0;32m~/Desktop/These/Projet_stage_M1_Max/Code/SM_DFT/DFT_for_SM/notebooks/../aqc_utils/helper_functions.py\u001b[0m in \u001b[0;36mssh_connect\u001b[0;34m(host, user)\u001b[0m\n\u001b[1;32m     53\u001b[0m     \u001b[0mclient\u001b[0m \u001b[0;34m=\u001b[0m \u001b[0mparamiko\u001b[0m\u001b[0;34m.\u001b[0m\u001b[0mSSHClient\u001b[0m\u001b[0;34m(\u001b[0m\u001b[0;34m)\u001b[0m\u001b[0;34m\u001b[0m\u001b[0;34m\u001b[0m\u001b[0m\n\u001b[1;32m     54\u001b[0m     \u001b[0mclient\u001b[0m\u001b[0;34m.\u001b[0m\u001b[0mset_missing_host_key_policy\u001b[0m\u001b[0;34m(\u001b[0m\u001b[0mparamiko\u001b[0m\u001b[0;34m.\u001b[0m\u001b[0mAutoAddPolicy\u001b[0m\u001b[0;34m(\u001b[0m\u001b[0;34m)\u001b[0m\u001b[0;34m)\u001b[0m\u001b[0;34m\u001b[0m\u001b[0;34m\u001b[0m\u001b[0m\n\u001b[0;32m---> 55\u001b[0;31m     \u001b[0mclient\u001b[0m\u001b[0;34m.\u001b[0m\u001b[0mconnect\u001b[0m\u001b[0;34m(\u001b[0m\u001b[0mhost\u001b[0m\u001b[0;34m,\u001b[0m \u001b[0mport\u001b[0m\u001b[0;34m,\u001b[0m \u001b[0muser\u001b[0m\u001b[0;34m,\u001b[0m \u001b[0mpassword\u001b[0m\u001b[0;34m)\u001b[0m\u001b[0;34m\u001b[0m\u001b[0;34m\u001b[0m\u001b[0m\n\u001b[0m\u001b[1;32m     56\u001b[0m \u001b[0;34m\u001b[0m\u001b[0m\n\u001b[1;32m     57\u001b[0m     \u001b[0mc\u001b[0m \u001b[0;34m=\u001b[0m \u001b[0mfabric\u001b[0m\u001b[0;34m.\u001b[0m\u001b[0mConnection\u001b[0m\u001b[0;34m(\u001b[0m\u001b[0mhost\u001b[0m\u001b[0;34m)\u001b[0m\u001b[0;34m\u001b[0m\u001b[0;34m\u001b[0m\u001b[0m\n",
      "\u001b[0;32m/usr/local/anaconda3/envs/dft_for_sm/lib/python3.9/site-packages/paramiko/client.py\u001b[0m in \u001b[0;36mconnect\u001b[0;34m(self, hostname, port, username, password, pkey, key_filename, timeout, allow_agent, look_for_keys, compress, sock, gss_auth, gss_kex, gss_deleg_creds, gss_host, banner_timeout, auth_timeout, gss_trust_dns, passphrase, disabled_algorithms)\u001b[0m\n\u001b[1;32m    404\u001b[0m             \u001b[0msec_opts\u001b[0m\u001b[0;34m.\u001b[0m\u001b[0mkey_types\u001b[0m \u001b[0;34m=\u001b[0m \u001b[0;34m[\u001b[0m\u001b[0mkeytype\u001b[0m\u001b[0;34m]\u001b[0m \u001b[0;34m+\u001b[0m \u001b[0mother_types\u001b[0m\u001b[0;34m\u001b[0m\u001b[0;34m\u001b[0m\u001b[0m\n\u001b[1;32m    405\u001b[0m \u001b[0;34m\u001b[0m\u001b[0m\n\u001b[0;32m--> 406\u001b[0;31m         \u001b[0mt\u001b[0m\u001b[0;34m.\u001b[0m\u001b[0mstart_client\u001b[0m\u001b[0;34m(\u001b[0m\u001b[0mtimeout\u001b[0m\u001b[0;34m=\u001b[0m\u001b[0mtimeout\u001b[0m\u001b[0;34m)\u001b[0m\u001b[0;34m\u001b[0m\u001b[0;34m\u001b[0m\u001b[0m\n\u001b[0m\u001b[1;32m    407\u001b[0m \u001b[0;34m\u001b[0m\u001b[0m\n\u001b[1;32m    408\u001b[0m         \u001b[0;31m# If GSS-API Key Exchange is performed we are not required to check the\u001b[0m\u001b[0;34m\u001b[0m\u001b[0;34m\u001b[0m\u001b[0m\n",
      "\u001b[0;32m/usr/local/anaconda3/envs/dft_for_sm/lib/python3.9/site-packages/paramiko/transport.py\u001b[0m in \u001b[0;36mstart_client\u001b[0;34m(self, event, timeout)\u001b[0m\n\u001b[1;32m    658\u001b[0m                 \u001b[0me\u001b[0m \u001b[0;34m=\u001b[0m \u001b[0mself\u001b[0m\u001b[0;34m.\u001b[0m\u001b[0mget_exception\u001b[0m\u001b[0;34m(\u001b[0m\u001b[0;34m)\u001b[0m\u001b[0;34m\u001b[0m\u001b[0;34m\u001b[0m\u001b[0m\n\u001b[1;32m    659\u001b[0m                 \u001b[0;32mif\u001b[0m \u001b[0me\u001b[0m \u001b[0;32mis\u001b[0m \u001b[0;32mnot\u001b[0m \u001b[0;32mNone\u001b[0m\u001b[0;34m:\u001b[0m\u001b[0;34m\u001b[0m\u001b[0;34m\u001b[0m\u001b[0m\n\u001b[0;32m--> 660\u001b[0;31m                     \u001b[0;32mraise\u001b[0m \u001b[0me\u001b[0m\u001b[0;34m\u001b[0m\u001b[0;34m\u001b[0m\u001b[0m\n\u001b[0m\u001b[1;32m    661\u001b[0m                 \u001b[0;32mraise\u001b[0m \u001b[0mSSHException\u001b[0m\u001b[0;34m(\u001b[0m\u001b[0;34m\"Negotiation failed.\"\u001b[0m\u001b[0;34m)\u001b[0m\u001b[0;34m\u001b[0m\u001b[0;34m\u001b[0m\u001b[0m\n\u001b[1;32m    662\u001b[0m             if event.is_set() or (\n",
      "\u001b[0;32m/usr/local/anaconda3/envs/dft_for_sm/lib/python3.9/site-packages/paramiko/transport.py\u001b[0m in \u001b[0;36mrun\u001b[0;34m(self)\u001b[0m\n\u001b[1;32m   2037\u001b[0m                     \u001b[0;34m\"Local version/idstring: {}\"\u001b[0m\u001b[0;34m.\u001b[0m\u001b[0mformat\u001b[0m\u001b[0;34m(\u001b[0m\u001b[0mself\u001b[0m\u001b[0;34m.\u001b[0m\u001b[0mlocal_version\u001b[0m\u001b[0;34m)\u001b[0m\u001b[0;34m,\u001b[0m\u001b[0;34m\u001b[0m\u001b[0;34m\u001b[0m\u001b[0m\n\u001b[1;32m   2038\u001b[0m                 )  # noqa\n\u001b[0;32m-> 2039\u001b[0;31m                 \u001b[0mself\u001b[0m\u001b[0;34m.\u001b[0m\u001b[0m_check_banner\u001b[0m\u001b[0;34m(\u001b[0m\u001b[0;34m)\u001b[0m\u001b[0;34m\u001b[0m\u001b[0;34m\u001b[0m\u001b[0m\n\u001b[0m\u001b[1;32m   2040\u001b[0m                 \u001b[0;31m# The above is actually very much part of the handshake, but\u001b[0m\u001b[0;34m\u001b[0m\u001b[0;34m\u001b[0m\u001b[0m\n\u001b[1;32m   2041\u001b[0m                 \u001b[0;31m# sometimes the banner can be read but the machine is not\u001b[0m\u001b[0;34m\u001b[0m\u001b[0;34m\u001b[0m\u001b[0m\n",
      "\u001b[0;32m/usr/local/anaconda3/envs/dft_for_sm/lib/python3.9/site-packages/paramiko/transport.py\u001b[0m in \u001b[0;36m_check_banner\u001b[0;34m(self)\u001b[0m\n\u001b[1;32m   2213\u001b[0m                 \u001b[0;32mraise\u001b[0m\u001b[0;34m\u001b[0m\u001b[0;34m\u001b[0m\u001b[0m\n\u001b[1;32m   2214\u001b[0m             \u001b[0;32mexcept\u001b[0m \u001b[0mException\u001b[0m \u001b[0;32mas\u001b[0m \u001b[0me\u001b[0m\u001b[0;34m:\u001b[0m\u001b[0;34m\u001b[0m\u001b[0;34m\u001b[0m\u001b[0m\n\u001b[0;32m-> 2215\u001b[0;31m                 raise SSHException(\n\u001b[0m\u001b[1;32m   2216\u001b[0m                     \u001b[0;34m\"Error reading SSH protocol banner\"\u001b[0m \u001b[0;34m+\u001b[0m \u001b[0mstr\u001b[0m\u001b[0;34m(\u001b[0m\u001b[0me\u001b[0m\u001b[0;34m)\u001b[0m\u001b[0;34m\u001b[0m\u001b[0;34m\u001b[0m\u001b[0m\n\u001b[1;32m   2217\u001b[0m                 )\n",
      "\u001b[0;31mSSHException\u001b[0m: Error reading SSH protocol banner"
     ]
    }
   ],
   "source": [
    "sm=slurm_manager(user='jschleinitz', host='hermite.chimie.ens.fr')\n",
    "sm.connect()"
   ]
  },
  {
   "cell_type": "code",
   "execution_count": 55,
   "id": "9751d847",
   "metadata": {},
   "outputs": [
    {
     "name": "stderr",
     "output_type": "stream",
     "text": [
      "INFO:aqc_utils.slurm_manager:Creating connection to hermite.chimie.ens.fr as jschleinitz\n",
      "ERROR:paramiko.transport:Exception: Error reading SSH protocol banner\n",
      "ERROR:paramiko.transport:Traceback (most recent call last):\n",
      "ERROR:paramiko.transport:  File \"/usr/local/anaconda3/envs/dft_for_sm/lib/python3.9/site-packages/paramiko/transport.py\", line 2211, in _check_banner\n",
      "ERROR:paramiko.transport:    buf = self.packetizer.readline(timeout)\n",
      "ERROR:paramiko.transport:  File \"/usr/local/anaconda3/envs/dft_for_sm/lib/python3.9/site-packages/paramiko/packet.py\", line 380, in readline\n",
      "ERROR:paramiko.transport:    buf += self._read_timeout(timeout)\n",
      "ERROR:paramiko.transport:  File \"/usr/local/anaconda3/envs/dft_for_sm/lib/python3.9/site-packages/paramiko/packet.py\", line 609, in _read_timeout\n",
      "ERROR:paramiko.transport:    raise EOFError()\n",
      "ERROR:paramiko.transport:EOFError\n",
      "ERROR:paramiko.transport:\n",
      "ERROR:paramiko.transport:During handling of the above exception, another exception occurred:\n",
      "ERROR:paramiko.transport:\n",
      "ERROR:paramiko.transport:Traceback (most recent call last):\n",
      "ERROR:paramiko.transport:  File \"/usr/local/anaconda3/envs/dft_for_sm/lib/python3.9/site-packages/paramiko/transport.py\", line 2039, in run\n",
      "ERROR:paramiko.transport:    self._check_banner()\n",
      "ERROR:paramiko.transport:  File \"/usr/local/anaconda3/envs/dft_for_sm/lib/python3.9/site-packages/paramiko/transport.py\", line 2215, in _check_banner\n",
      "ERROR:paramiko.transport:    raise SSHException(\n",
      "ERROR:paramiko.transport:paramiko.ssh_exception.SSHException: Error reading SSH protocol banner\n",
      "ERROR:paramiko.transport:\n"
     ]
    },
    {
     "ename": "SSHException",
     "evalue": "Error reading SSH protocol banner",
     "output_type": "error",
     "traceback": [
      "\u001b[0;31m---------------------------------------------------------------------------\u001b[0m",
      "\u001b[0;31mEOFError\u001b[0m                                  Traceback (most recent call last)",
      "\u001b[0;32m/usr/local/anaconda3/envs/dft_for_sm/lib/python3.9/site-packages/paramiko/transport.py\u001b[0m in \u001b[0;36m_check_banner\u001b[0;34m(self)\u001b[0m\n\u001b[1;32m   2210\u001b[0m             \u001b[0;32mtry\u001b[0m\u001b[0;34m:\u001b[0m\u001b[0;34m\u001b[0m\u001b[0;34m\u001b[0m\u001b[0m\n\u001b[0;32m-> 2211\u001b[0;31m                 \u001b[0mbuf\u001b[0m \u001b[0;34m=\u001b[0m \u001b[0mself\u001b[0m\u001b[0;34m.\u001b[0m\u001b[0mpacketizer\u001b[0m\u001b[0;34m.\u001b[0m\u001b[0mreadline\u001b[0m\u001b[0;34m(\u001b[0m\u001b[0mtimeout\u001b[0m\u001b[0;34m)\u001b[0m\u001b[0;34m\u001b[0m\u001b[0;34m\u001b[0m\u001b[0m\n\u001b[0m\u001b[1;32m   2212\u001b[0m             \u001b[0;32mexcept\u001b[0m \u001b[0mProxyCommandFailure\u001b[0m\u001b[0;34m:\u001b[0m\u001b[0;34m\u001b[0m\u001b[0;34m\u001b[0m\u001b[0m\n",
      "\u001b[0;32m/usr/local/anaconda3/envs/dft_for_sm/lib/python3.9/site-packages/paramiko/packet.py\u001b[0m in \u001b[0;36mreadline\u001b[0;34m(self, timeout)\u001b[0m\n\u001b[1;32m    379\u001b[0m         \u001b[0;32mwhile\u001b[0m \u001b[0mlinefeed_byte\u001b[0m \u001b[0;32mnot\u001b[0m \u001b[0;32min\u001b[0m \u001b[0mbuf\u001b[0m\u001b[0;34m:\u001b[0m\u001b[0;34m\u001b[0m\u001b[0;34m\u001b[0m\u001b[0m\n\u001b[0;32m--> 380\u001b[0;31m             \u001b[0mbuf\u001b[0m \u001b[0;34m+=\u001b[0m \u001b[0mself\u001b[0m\u001b[0;34m.\u001b[0m\u001b[0m_read_timeout\u001b[0m\u001b[0;34m(\u001b[0m\u001b[0mtimeout\u001b[0m\u001b[0;34m)\u001b[0m\u001b[0;34m\u001b[0m\u001b[0;34m\u001b[0m\u001b[0m\n\u001b[0m\u001b[1;32m    381\u001b[0m         \u001b[0mn\u001b[0m \u001b[0;34m=\u001b[0m \u001b[0mbuf\u001b[0m\u001b[0;34m.\u001b[0m\u001b[0mindex\u001b[0m\u001b[0;34m(\u001b[0m\u001b[0mlinefeed_byte\u001b[0m\u001b[0;34m)\u001b[0m\u001b[0;34m\u001b[0m\u001b[0;34m\u001b[0m\u001b[0m\n",
      "\u001b[0;32m/usr/local/anaconda3/envs/dft_for_sm/lib/python3.9/site-packages/paramiko/packet.py\u001b[0m in \u001b[0;36m_read_timeout\u001b[0;34m(self, timeout)\u001b[0m\n\u001b[1;32m    608\u001b[0m                 \u001b[0;32mif\u001b[0m \u001b[0mlen\u001b[0m\u001b[0;34m(\u001b[0m\u001b[0mx\u001b[0m\u001b[0;34m)\u001b[0m \u001b[0;34m==\u001b[0m \u001b[0;36m0\u001b[0m\u001b[0;34m:\u001b[0m\u001b[0;34m\u001b[0m\u001b[0;34m\u001b[0m\u001b[0m\n\u001b[0;32m--> 609\u001b[0;31m                     \u001b[0;32mraise\u001b[0m \u001b[0mEOFError\u001b[0m\u001b[0;34m(\u001b[0m\u001b[0;34m)\u001b[0m\u001b[0;34m\u001b[0m\u001b[0;34m\u001b[0m\u001b[0m\n\u001b[0m\u001b[1;32m    610\u001b[0m                 \u001b[0;32mbreak\u001b[0m\u001b[0;34m\u001b[0m\u001b[0;34m\u001b[0m\u001b[0m\n",
      "\u001b[0;31mEOFError\u001b[0m: ",
      "\nDuring handling of the above exception, another exception occurred:\n",
      "\u001b[0;31mSSHException\u001b[0m                              Traceback (most recent call last)",
      "\u001b[0;32m/var/folders/c8/7pbzw0r912n01vr9fgdmzhx00000gn/T/ipykernel_60084/2218398383.py\u001b[0m in \u001b[0;36m<module>\u001b[0;34m\u001b[0m\n\u001b[1;32m      1\u001b[0m \u001b[0mjobs_c\u001b[0m \u001b[0;34m=\u001b[0m \u001b[0msm\u001b[0m\u001b[0;34m.\u001b[0m\u001b[0mget_jobs\u001b[0m\u001b[0;34m(\u001b[0m\u001b[0mslurm_status\u001b[0m\u001b[0;34m.\u001b[0m\u001b[0mcreated\u001b[0m\u001b[0;34m)\u001b[0m\u001b[0;34m\u001b[0m\u001b[0;34m\u001b[0m\u001b[0m\n\u001b[0;32m----> 2\u001b[0;31m \u001b[0msm\u001b[0m\u001b[0;34m.\u001b[0m\u001b[0mupdate_status\u001b[0m\u001b[0;34m(\u001b[0m\u001b[0msm\u001b[0m\u001b[0;34m.\u001b[0m\u001b[0mget_jobs\u001b[0m\u001b[0;34m(\u001b[0m\u001b[0;34m)\u001b[0m\u001b[0;34m)\u001b[0m\u001b[0;34m\u001b[0m\u001b[0;34m\u001b[0m\u001b[0m\n\u001b[0m\u001b[1;32m      3\u001b[0m \u001b[0msm\u001b[0m\u001b[0;34m.\u001b[0m\u001b[0mupdate_submitted_jobs\u001b[0m\u001b[0;34m(\u001b[0m\u001b[0;34m)\u001b[0m\u001b[0;34m\u001b[0m\u001b[0;34m\u001b[0m\u001b[0m\n",
      "\u001b[0;32m~/Desktop/These/Projet_stage_M1_Max/Code/SM_DFT/DFT_for_SM/notebooks/../aqc_utils/slurm_manager.py\u001b[0m in \u001b[0;36mupdate_status\u001b[0;34m(self, jobs)\u001b[0m\n\u001b[1;32m    193\u001b[0m         \u001b[0;32mif\u001b[0m \u001b[0mjobs\u001b[0m\u001b[0;34m:\u001b[0m\u001b[0;34m\u001b[0m\u001b[0;34m\u001b[0m\u001b[0m\n\u001b[1;32m    194\u001b[0m             \u001b[0;31m# get or create connection\u001b[0m\u001b[0;34m\u001b[0m\u001b[0;34m\u001b[0m\u001b[0m\n\u001b[0;32m--> 195\u001b[0;31m             \u001b[0mself\u001b[0m\u001b[0;34m.\u001b[0m\u001b[0mconnect\u001b[0m\u001b[0;34m(\u001b[0m\u001b[0;34m)\u001b[0m\u001b[0;34m\u001b[0m\u001b[0;34m\u001b[0m\u001b[0m\n\u001b[0m\u001b[1;32m    196\u001b[0m \u001b[0;34m\u001b[0m\u001b[0m\n\u001b[1;32m    197\u001b[0m             \u001b[0;31m# check if jobs are in status created\u001b[0m\u001b[0;34m\u001b[0m\u001b[0;34m\u001b[0m\u001b[0m\n",
      "\u001b[0;32m~/Desktop/These/Projet_stage_M1_Max/Code/SM_DFT/DFT_for_SM/notebooks/../aqc_utils/slurm_manager.py\u001b[0m in \u001b[0;36mconnect\u001b[0;34m(self)\u001b[0m\n\u001b[1;32m     61\u001b[0m             \u001b[0mcreate_new_connection\u001b[0m \u001b[0;34m=\u001b[0m \u001b[0;32mTrue\u001b[0m\u001b[0;34m\u001b[0m\u001b[0;34m\u001b[0m\u001b[0m\n\u001b[1;32m     62\u001b[0m         \u001b[0;32mif\u001b[0m \u001b[0mcreate_new_connection\u001b[0m\u001b[0;34m:\u001b[0m\u001b[0;34m\u001b[0m\u001b[0;34m\u001b[0m\u001b[0m\n\u001b[0;32m---> 63\u001b[0;31m             \u001b[0mself\u001b[0m\u001b[0;34m.\u001b[0m\u001b[0mconnection\u001b[0m \u001b[0;34m=\u001b[0m \u001b[0mssh_connect\u001b[0m\u001b[0;34m(\u001b[0m\u001b[0mself\u001b[0m\u001b[0;34m.\u001b[0m\u001b[0mhost\u001b[0m\u001b[0;34m,\u001b[0m \u001b[0mself\u001b[0m\u001b[0;34m.\u001b[0m\u001b[0muser\u001b[0m\u001b[0;34m)\u001b[0m\u001b[0;34m\u001b[0m\u001b[0;34m\u001b[0m\u001b[0m\n\u001b[0m\u001b[1;32m     64\u001b[0m             \u001b[0mself\u001b[0m\u001b[0;34m.\u001b[0m\u001b[0mconnection\u001b[0m\u001b[0;34m.\u001b[0m\u001b[0mrun\u001b[0m\u001b[0;34m(\u001b[0m\u001b[0;34mf\"mkdir -p {self.remote_dir}\"\u001b[0m\u001b[0;34m)\u001b[0m\u001b[0;34m\u001b[0m\u001b[0;34m\u001b[0m\u001b[0m\n\u001b[1;32m     65\u001b[0m             \u001b[0mlogger\u001b[0m\u001b[0;34m.\u001b[0m\u001b[0minfo\u001b[0m\u001b[0;34m(\u001b[0m\u001b[0;34mf\"Connected to {self.host} as {self.user} is {self.connection.is_connected}.\"\u001b[0m\u001b[0;34m)\u001b[0m\u001b[0;34m\u001b[0m\u001b[0;34m\u001b[0m\u001b[0m\n",
      "\u001b[0;32m~/Desktop/These/Projet_stage_M1_Max/Code/SM_DFT/DFT_for_SM/notebooks/../aqc_utils/helper_functions.py\u001b[0m in \u001b[0;36mssh_connect\u001b[0;34m(host, user)\u001b[0m\n\u001b[1;32m     53\u001b[0m     \u001b[0mclient\u001b[0m \u001b[0;34m=\u001b[0m \u001b[0mparamiko\u001b[0m\u001b[0;34m.\u001b[0m\u001b[0mSSHClient\u001b[0m\u001b[0;34m(\u001b[0m\u001b[0;34m)\u001b[0m\u001b[0;34m\u001b[0m\u001b[0;34m\u001b[0m\u001b[0m\n\u001b[1;32m     54\u001b[0m     \u001b[0mclient\u001b[0m\u001b[0;34m.\u001b[0m\u001b[0mset_missing_host_key_policy\u001b[0m\u001b[0;34m(\u001b[0m\u001b[0mparamiko\u001b[0m\u001b[0;34m.\u001b[0m\u001b[0mAutoAddPolicy\u001b[0m\u001b[0;34m(\u001b[0m\u001b[0;34m)\u001b[0m\u001b[0;34m)\u001b[0m\u001b[0;34m\u001b[0m\u001b[0;34m\u001b[0m\u001b[0m\n\u001b[0;32m---> 55\u001b[0;31m     \u001b[0mclient\u001b[0m\u001b[0;34m.\u001b[0m\u001b[0mconnect\u001b[0m\u001b[0;34m(\u001b[0m\u001b[0mhost\u001b[0m\u001b[0;34m,\u001b[0m \u001b[0mport\u001b[0m\u001b[0;34m,\u001b[0m \u001b[0muser\u001b[0m\u001b[0;34m,\u001b[0m \u001b[0mpassword\u001b[0m\u001b[0;34m)\u001b[0m\u001b[0;34m\u001b[0m\u001b[0;34m\u001b[0m\u001b[0m\n\u001b[0m\u001b[1;32m     56\u001b[0m \u001b[0;34m\u001b[0m\u001b[0m\n\u001b[1;32m     57\u001b[0m     \u001b[0mc\u001b[0m \u001b[0;34m=\u001b[0m \u001b[0mfabric\u001b[0m\u001b[0;34m.\u001b[0m\u001b[0mConnection\u001b[0m\u001b[0;34m(\u001b[0m\u001b[0mhost\u001b[0m\u001b[0;34m)\u001b[0m\u001b[0;34m\u001b[0m\u001b[0;34m\u001b[0m\u001b[0m\n",
      "\u001b[0;32m/usr/local/anaconda3/envs/dft_for_sm/lib/python3.9/site-packages/paramiko/client.py\u001b[0m in \u001b[0;36mconnect\u001b[0;34m(self, hostname, port, username, password, pkey, key_filename, timeout, allow_agent, look_for_keys, compress, sock, gss_auth, gss_kex, gss_deleg_creds, gss_host, banner_timeout, auth_timeout, gss_trust_dns, passphrase, disabled_algorithms)\u001b[0m\n\u001b[1;32m    404\u001b[0m             \u001b[0msec_opts\u001b[0m\u001b[0;34m.\u001b[0m\u001b[0mkey_types\u001b[0m \u001b[0;34m=\u001b[0m \u001b[0;34m[\u001b[0m\u001b[0mkeytype\u001b[0m\u001b[0;34m]\u001b[0m \u001b[0;34m+\u001b[0m \u001b[0mother_types\u001b[0m\u001b[0;34m\u001b[0m\u001b[0;34m\u001b[0m\u001b[0m\n\u001b[1;32m    405\u001b[0m \u001b[0;34m\u001b[0m\u001b[0m\n\u001b[0;32m--> 406\u001b[0;31m         \u001b[0mt\u001b[0m\u001b[0;34m.\u001b[0m\u001b[0mstart_client\u001b[0m\u001b[0;34m(\u001b[0m\u001b[0mtimeout\u001b[0m\u001b[0;34m=\u001b[0m\u001b[0mtimeout\u001b[0m\u001b[0;34m)\u001b[0m\u001b[0;34m\u001b[0m\u001b[0;34m\u001b[0m\u001b[0m\n\u001b[0m\u001b[1;32m    407\u001b[0m \u001b[0;34m\u001b[0m\u001b[0m\n\u001b[1;32m    408\u001b[0m         \u001b[0;31m# If GSS-API Key Exchange is performed we are not required to check the\u001b[0m\u001b[0;34m\u001b[0m\u001b[0;34m\u001b[0m\u001b[0m\n",
      "\u001b[0;32m/usr/local/anaconda3/envs/dft_for_sm/lib/python3.9/site-packages/paramiko/transport.py\u001b[0m in \u001b[0;36mstart_client\u001b[0;34m(self, event, timeout)\u001b[0m\n\u001b[1;32m    658\u001b[0m                 \u001b[0me\u001b[0m \u001b[0;34m=\u001b[0m \u001b[0mself\u001b[0m\u001b[0;34m.\u001b[0m\u001b[0mget_exception\u001b[0m\u001b[0;34m(\u001b[0m\u001b[0;34m)\u001b[0m\u001b[0;34m\u001b[0m\u001b[0;34m\u001b[0m\u001b[0m\n\u001b[1;32m    659\u001b[0m                 \u001b[0;32mif\u001b[0m \u001b[0me\u001b[0m \u001b[0;32mis\u001b[0m \u001b[0;32mnot\u001b[0m \u001b[0;32mNone\u001b[0m\u001b[0;34m:\u001b[0m\u001b[0;34m\u001b[0m\u001b[0;34m\u001b[0m\u001b[0m\n\u001b[0;32m--> 660\u001b[0;31m                     \u001b[0;32mraise\u001b[0m \u001b[0me\u001b[0m\u001b[0;34m\u001b[0m\u001b[0;34m\u001b[0m\u001b[0m\n\u001b[0m\u001b[1;32m    661\u001b[0m                 \u001b[0;32mraise\u001b[0m \u001b[0mSSHException\u001b[0m\u001b[0;34m(\u001b[0m\u001b[0;34m\"Negotiation failed.\"\u001b[0m\u001b[0;34m)\u001b[0m\u001b[0;34m\u001b[0m\u001b[0;34m\u001b[0m\u001b[0m\n\u001b[1;32m    662\u001b[0m             if event.is_set() or (\n",
      "\u001b[0;32m/usr/local/anaconda3/envs/dft_for_sm/lib/python3.9/site-packages/paramiko/transport.py\u001b[0m in \u001b[0;36mrun\u001b[0;34m(self)\u001b[0m\n\u001b[1;32m   2037\u001b[0m                     \u001b[0;34m\"Local version/idstring: {}\"\u001b[0m\u001b[0;34m.\u001b[0m\u001b[0mformat\u001b[0m\u001b[0;34m(\u001b[0m\u001b[0mself\u001b[0m\u001b[0;34m.\u001b[0m\u001b[0mlocal_version\u001b[0m\u001b[0;34m)\u001b[0m\u001b[0;34m,\u001b[0m\u001b[0;34m\u001b[0m\u001b[0;34m\u001b[0m\u001b[0m\n\u001b[1;32m   2038\u001b[0m                 )  # noqa\n\u001b[0;32m-> 2039\u001b[0;31m                 \u001b[0mself\u001b[0m\u001b[0;34m.\u001b[0m\u001b[0m_check_banner\u001b[0m\u001b[0;34m(\u001b[0m\u001b[0;34m)\u001b[0m\u001b[0;34m\u001b[0m\u001b[0;34m\u001b[0m\u001b[0m\n\u001b[0m\u001b[1;32m   2040\u001b[0m                 \u001b[0;31m# The above is actually very much part of the handshake, but\u001b[0m\u001b[0;34m\u001b[0m\u001b[0;34m\u001b[0m\u001b[0m\n\u001b[1;32m   2041\u001b[0m                 \u001b[0;31m# sometimes the banner can be read but the machine is not\u001b[0m\u001b[0;34m\u001b[0m\u001b[0;34m\u001b[0m\u001b[0m\n",
      "\u001b[0;32m/usr/local/anaconda3/envs/dft_for_sm/lib/python3.9/site-packages/paramiko/transport.py\u001b[0m in \u001b[0;36m_check_banner\u001b[0;34m(self)\u001b[0m\n\u001b[1;32m   2213\u001b[0m                 \u001b[0;32mraise\u001b[0m\u001b[0;34m\u001b[0m\u001b[0;34m\u001b[0m\u001b[0m\n\u001b[1;32m   2214\u001b[0m             \u001b[0;32mexcept\u001b[0m \u001b[0mException\u001b[0m \u001b[0;32mas\u001b[0m \u001b[0me\u001b[0m\u001b[0;34m:\u001b[0m\u001b[0;34m\u001b[0m\u001b[0;34m\u001b[0m\u001b[0m\n\u001b[0;32m-> 2215\u001b[0;31m                 raise SSHException(\n\u001b[0m\u001b[1;32m   2216\u001b[0m                     \u001b[0;34m\"Error reading SSH protocol banner\"\u001b[0m \u001b[0;34m+\u001b[0m \u001b[0mstr\u001b[0m\u001b[0;34m(\u001b[0m\u001b[0me\u001b[0m\u001b[0;34m)\u001b[0m\u001b[0;34m\u001b[0m\u001b[0;34m\u001b[0m\u001b[0m\n\u001b[1;32m   2217\u001b[0m                 )\n",
      "\u001b[0;31mSSHException\u001b[0m: Error reading SSH protocol banner"
     ]
    }
   ],
   "source": [
    "jobs_c = sm.get_jobs(slurm_status.created)\n",
    "sm.update_status(sm.get_jobs())\n",
    "sm.update_submitted_jobs()"
   ]
  },
  {
   "cell_type": "code",
   "execution_count": 56,
   "id": "3b5df281",
   "metadata": {},
   "outputs": [
    {
     "name": "stderr",
     "output_type": "stream",
     "text": [
      "INFO:aqc_utils.slurm_manager:Creating connection to hermite.chimie.ens.fr as jschleinitz\n",
      "ERROR:paramiko.transport:Exception: Error reading SSH protocol banner\n",
      "ERROR:paramiko.transport:Traceback (most recent call last):\n",
      "ERROR:paramiko.transport:  File \"/usr/local/anaconda3/envs/dft_for_sm/lib/python3.9/site-packages/paramiko/transport.py\", line 2211, in _check_banner\n",
      "ERROR:paramiko.transport:    buf = self.packetizer.readline(timeout)\n",
      "ERROR:paramiko.transport:  File \"/usr/local/anaconda3/envs/dft_for_sm/lib/python3.9/site-packages/paramiko/packet.py\", line 380, in readline\n",
      "ERROR:paramiko.transport:    buf += self._read_timeout(timeout)\n",
      "ERROR:paramiko.transport:  File \"/usr/local/anaconda3/envs/dft_for_sm/lib/python3.9/site-packages/paramiko/packet.py\", line 609, in _read_timeout\n",
      "ERROR:paramiko.transport:    raise EOFError()\n",
      "ERROR:paramiko.transport:EOFError\n",
      "ERROR:paramiko.transport:\n",
      "ERROR:paramiko.transport:During handling of the above exception, another exception occurred:\n",
      "ERROR:paramiko.transport:\n",
      "ERROR:paramiko.transport:Traceback (most recent call last):\n",
      "ERROR:paramiko.transport:  File \"/usr/local/anaconda3/envs/dft_for_sm/lib/python3.9/site-packages/paramiko/transport.py\", line 2039, in run\n",
      "ERROR:paramiko.transport:    self._check_banner()\n",
      "ERROR:paramiko.transport:  File \"/usr/local/anaconda3/envs/dft_for_sm/lib/python3.9/site-packages/paramiko/transport.py\", line 2215, in _check_banner\n",
      "ERROR:paramiko.transport:    raise SSHException(\n",
      "ERROR:paramiko.transport:paramiko.ssh_exception.SSHException: Error reading SSH protocol banner\n",
      "ERROR:paramiko.transport:\n"
     ]
    },
    {
     "ename": "SSHException",
     "evalue": "Error reading SSH protocol banner",
     "output_type": "error",
     "traceback": [
      "\u001b[0;31m---------------------------------------------------------------------------\u001b[0m",
      "\u001b[0;31mEOFError\u001b[0m                                  Traceback (most recent call last)",
      "\u001b[0;32m/usr/local/anaconda3/envs/dft_for_sm/lib/python3.9/site-packages/paramiko/transport.py\u001b[0m in \u001b[0;36m_check_banner\u001b[0;34m(self)\u001b[0m\n\u001b[1;32m   2210\u001b[0m             \u001b[0;32mtry\u001b[0m\u001b[0;34m:\u001b[0m\u001b[0;34m\u001b[0m\u001b[0;34m\u001b[0m\u001b[0m\n\u001b[0;32m-> 2211\u001b[0;31m                 \u001b[0mbuf\u001b[0m \u001b[0;34m=\u001b[0m \u001b[0mself\u001b[0m\u001b[0;34m.\u001b[0m\u001b[0mpacketizer\u001b[0m\u001b[0;34m.\u001b[0m\u001b[0mreadline\u001b[0m\u001b[0;34m(\u001b[0m\u001b[0mtimeout\u001b[0m\u001b[0;34m)\u001b[0m\u001b[0;34m\u001b[0m\u001b[0;34m\u001b[0m\u001b[0m\n\u001b[0m\u001b[1;32m   2212\u001b[0m             \u001b[0;32mexcept\u001b[0m \u001b[0mProxyCommandFailure\u001b[0m\u001b[0;34m:\u001b[0m\u001b[0;34m\u001b[0m\u001b[0;34m\u001b[0m\u001b[0m\n",
      "\u001b[0;32m/usr/local/anaconda3/envs/dft_for_sm/lib/python3.9/site-packages/paramiko/packet.py\u001b[0m in \u001b[0;36mreadline\u001b[0;34m(self, timeout)\u001b[0m\n\u001b[1;32m    379\u001b[0m         \u001b[0;32mwhile\u001b[0m \u001b[0mlinefeed_byte\u001b[0m \u001b[0;32mnot\u001b[0m \u001b[0;32min\u001b[0m \u001b[0mbuf\u001b[0m\u001b[0;34m:\u001b[0m\u001b[0;34m\u001b[0m\u001b[0;34m\u001b[0m\u001b[0m\n\u001b[0;32m--> 380\u001b[0;31m             \u001b[0mbuf\u001b[0m \u001b[0;34m+=\u001b[0m \u001b[0mself\u001b[0m\u001b[0;34m.\u001b[0m\u001b[0m_read_timeout\u001b[0m\u001b[0;34m(\u001b[0m\u001b[0mtimeout\u001b[0m\u001b[0;34m)\u001b[0m\u001b[0;34m\u001b[0m\u001b[0;34m\u001b[0m\u001b[0m\n\u001b[0m\u001b[1;32m    381\u001b[0m         \u001b[0mn\u001b[0m \u001b[0;34m=\u001b[0m \u001b[0mbuf\u001b[0m\u001b[0;34m.\u001b[0m\u001b[0mindex\u001b[0m\u001b[0;34m(\u001b[0m\u001b[0mlinefeed_byte\u001b[0m\u001b[0;34m)\u001b[0m\u001b[0;34m\u001b[0m\u001b[0;34m\u001b[0m\u001b[0m\n",
      "\u001b[0;32m/usr/local/anaconda3/envs/dft_for_sm/lib/python3.9/site-packages/paramiko/packet.py\u001b[0m in \u001b[0;36m_read_timeout\u001b[0;34m(self, timeout)\u001b[0m\n\u001b[1;32m    608\u001b[0m                 \u001b[0;32mif\u001b[0m \u001b[0mlen\u001b[0m\u001b[0;34m(\u001b[0m\u001b[0mx\u001b[0m\u001b[0;34m)\u001b[0m \u001b[0;34m==\u001b[0m \u001b[0;36m0\u001b[0m\u001b[0;34m:\u001b[0m\u001b[0;34m\u001b[0m\u001b[0;34m\u001b[0m\u001b[0m\n\u001b[0;32m--> 609\u001b[0;31m                     \u001b[0;32mraise\u001b[0m \u001b[0mEOFError\u001b[0m\u001b[0;34m(\u001b[0m\u001b[0;34m)\u001b[0m\u001b[0;34m\u001b[0m\u001b[0;34m\u001b[0m\u001b[0m\n\u001b[0m\u001b[1;32m    610\u001b[0m                 \u001b[0;32mbreak\u001b[0m\u001b[0;34m\u001b[0m\u001b[0;34m\u001b[0m\u001b[0m\n",
      "\u001b[0;31mEOFError\u001b[0m: ",
      "\nDuring handling of the above exception, another exception occurred:\n",
      "\u001b[0;31mSSHException\u001b[0m                              Traceback (most recent call last)",
      "\u001b[0;32m/var/folders/c8/7pbzw0r912n01vr9fgdmzhx00000gn/T/ipykernel_60084/3503410357.py\u001b[0m in \u001b[0;36m<module>\u001b[0;34m\u001b[0m\n\u001b[0;32m----> 1\u001b[0;31m \u001b[0msm\u001b[0m\u001b[0;34m.\u001b[0m\u001b[0mretrieve_jobs\u001b[0m\u001b[0;34m(\u001b[0m\u001b[0;34m)\u001b[0m\u001b[0;34m\u001b[0m\u001b[0;34m\u001b[0m\u001b[0m\n\u001b[0m\u001b[1;32m      2\u001b[0m \u001b[0msm\u001b[0m\u001b[0;34m.\u001b[0m\u001b[0mget_job_stats\u001b[0m\u001b[0;34m(\u001b[0m\u001b[0msplit_by_can\u001b[0m\u001b[0;34m=\u001b[0m\u001b[0;32mTrue\u001b[0m\u001b[0;34m)\u001b[0m\u001b[0;34m\u001b[0m\u001b[0;34m\u001b[0m\u001b[0m\n",
      "\u001b[0;32m~/Desktop/These/Projet_stage_M1_Max/Code/SM_DFT/DFT_for_SM/notebooks/../aqc_utils/slurm_manager.py\u001b[0m in \u001b[0;36mretrieve_jobs\u001b[0;34m(self)\u001b[0m\n\u001b[1;32m    218\u001b[0m \u001b[0;34m\u001b[0m\u001b[0m\n\u001b[1;32m    219\u001b[0m         \u001b[0;31m# get or create connection\u001b[0m\u001b[0;34m\u001b[0m\u001b[0;34m\u001b[0m\u001b[0m\n\u001b[0;32m--> 220\u001b[0;31m         \u001b[0mself\u001b[0m\u001b[0;34m.\u001b[0m\u001b[0mconnect\u001b[0m\u001b[0;34m(\u001b[0m\u001b[0;34m)\u001b[0m\u001b[0;34m\u001b[0m\u001b[0;34m\u001b[0m\u001b[0m\n\u001b[0m\u001b[1;32m    221\u001b[0m \u001b[0;34m\u001b[0m\u001b[0m\n\u001b[1;32m    222\u001b[0m         \u001b[0;31m# retrieve job ids that are running on the server\u001b[0m\u001b[0;34m\u001b[0m\u001b[0;34m\u001b[0m\u001b[0m\n",
      "\u001b[0;32m~/Desktop/These/Projet_stage_M1_Max/Code/SM_DFT/DFT_for_SM/notebooks/../aqc_utils/slurm_manager.py\u001b[0m in \u001b[0;36mconnect\u001b[0;34m(self)\u001b[0m\n\u001b[1;32m     61\u001b[0m             \u001b[0mcreate_new_connection\u001b[0m \u001b[0;34m=\u001b[0m \u001b[0;32mTrue\u001b[0m\u001b[0;34m\u001b[0m\u001b[0;34m\u001b[0m\u001b[0m\n\u001b[1;32m     62\u001b[0m         \u001b[0;32mif\u001b[0m \u001b[0mcreate_new_connection\u001b[0m\u001b[0;34m:\u001b[0m\u001b[0;34m\u001b[0m\u001b[0;34m\u001b[0m\u001b[0m\n\u001b[0;32m---> 63\u001b[0;31m             \u001b[0mself\u001b[0m\u001b[0;34m.\u001b[0m\u001b[0mconnection\u001b[0m \u001b[0;34m=\u001b[0m \u001b[0mssh_connect\u001b[0m\u001b[0;34m(\u001b[0m\u001b[0mself\u001b[0m\u001b[0;34m.\u001b[0m\u001b[0mhost\u001b[0m\u001b[0;34m,\u001b[0m \u001b[0mself\u001b[0m\u001b[0;34m.\u001b[0m\u001b[0muser\u001b[0m\u001b[0;34m)\u001b[0m\u001b[0;34m\u001b[0m\u001b[0;34m\u001b[0m\u001b[0m\n\u001b[0m\u001b[1;32m     64\u001b[0m             \u001b[0mself\u001b[0m\u001b[0;34m.\u001b[0m\u001b[0mconnection\u001b[0m\u001b[0;34m.\u001b[0m\u001b[0mrun\u001b[0m\u001b[0;34m(\u001b[0m\u001b[0;34mf\"mkdir -p {self.remote_dir}\"\u001b[0m\u001b[0;34m)\u001b[0m\u001b[0;34m\u001b[0m\u001b[0;34m\u001b[0m\u001b[0m\n\u001b[1;32m     65\u001b[0m             \u001b[0mlogger\u001b[0m\u001b[0;34m.\u001b[0m\u001b[0minfo\u001b[0m\u001b[0;34m(\u001b[0m\u001b[0;34mf\"Connected to {self.host} as {self.user} is {self.connection.is_connected}.\"\u001b[0m\u001b[0;34m)\u001b[0m\u001b[0;34m\u001b[0m\u001b[0;34m\u001b[0m\u001b[0m\n",
      "\u001b[0;32m~/Desktop/These/Projet_stage_M1_Max/Code/SM_DFT/DFT_for_SM/notebooks/../aqc_utils/helper_functions.py\u001b[0m in \u001b[0;36mssh_connect\u001b[0;34m(host, user)\u001b[0m\n\u001b[1;32m     53\u001b[0m     \u001b[0mclient\u001b[0m \u001b[0;34m=\u001b[0m \u001b[0mparamiko\u001b[0m\u001b[0;34m.\u001b[0m\u001b[0mSSHClient\u001b[0m\u001b[0;34m(\u001b[0m\u001b[0;34m)\u001b[0m\u001b[0;34m\u001b[0m\u001b[0;34m\u001b[0m\u001b[0m\n\u001b[1;32m     54\u001b[0m     \u001b[0mclient\u001b[0m\u001b[0;34m.\u001b[0m\u001b[0mset_missing_host_key_policy\u001b[0m\u001b[0;34m(\u001b[0m\u001b[0mparamiko\u001b[0m\u001b[0;34m.\u001b[0m\u001b[0mAutoAddPolicy\u001b[0m\u001b[0;34m(\u001b[0m\u001b[0;34m)\u001b[0m\u001b[0;34m)\u001b[0m\u001b[0;34m\u001b[0m\u001b[0;34m\u001b[0m\u001b[0m\n\u001b[0;32m---> 55\u001b[0;31m     \u001b[0mclient\u001b[0m\u001b[0;34m.\u001b[0m\u001b[0mconnect\u001b[0m\u001b[0;34m(\u001b[0m\u001b[0mhost\u001b[0m\u001b[0;34m,\u001b[0m \u001b[0mport\u001b[0m\u001b[0;34m,\u001b[0m \u001b[0muser\u001b[0m\u001b[0;34m,\u001b[0m \u001b[0mpassword\u001b[0m\u001b[0;34m)\u001b[0m\u001b[0;34m\u001b[0m\u001b[0;34m\u001b[0m\u001b[0m\n\u001b[0m\u001b[1;32m     56\u001b[0m \u001b[0;34m\u001b[0m\u001b[0m\n\u001b[1;32m     57\u001b[0m     \u001b[0mc\u001b[0m \u001b[0;34m=\u001b[0m \u001b[0mfabric\u001b[0m\u001b[0;34m.\u001b[0m\u001b[0mConnection\u001b[0m\u001b[0;34m(\u001b[0m\u001b[0mhost\u001b[0m\u001b[0;34m)\u001b[0m\u001b[0;34m\u001b[0m\u001b[0;34m\u001b[0m\u001b[0m\n",
      "\u001b[0;32m/usr/local/anaconda3/envs/dft_for_sm/lib/python3.9/site-packages/paramiko/client.py\u001b[0m in \u001b[0;36mconnect\u001b[0;34m(self, hostname, port, username, password, pkey, key_filename, timeout, allow_agent, look_for_keys, compress, sock, gss_auth, gss_kex, gss_deleg_creds, gss_host, banner_timeout, auth_timeout, gss_trust_dns, passphrase, disabled_algorithms)\u001b[0m\n\u001b[1;32m    404\u001b[0m             \u001b[0msec_opts\u001b[0m\u001b[0;34m.\u001b[0m\u001b[0mkey_types\u001b[0m \u001b[0;34m=\u001b[0m \u001b[0;34m[\u001b[0m\u001b[0mkeytype\u001b[0m\u001b[0;34m]\u001b[0m \u001b[0;34m+\u001b[0m \u001b[0mother_types\u001b[0m\u001b[0;34m\u001b[0m\u001b[0;34m\u001b[0m\u001b[0m\n\u001b[1;32m    405\u001b[0m \u001b[0;34m\u001b[0m\u001b[0m\n\u001b[0;32m--> 406\u001b[0;31m         \u001b[0mt\u001b[0m\u001b[0;34m.\u001b[0m\u001b[0mstart_client\u001b[0m\u001b[0;34m(\u001b[0m\u001b[0mtimeout\u001b[0m\u001b[0;34m=\u001b[0m\u001b[0mtimeout\u001b[0m\u001b[0;34m)\u001b[0m\u001b[0;34m\u001b[0m\u001b[0;34m\u001b[0m\u001b[0m\n\u001b[0m\u001b[1;32m    407\u001b[0m \u001b[0;34m\u001b[0m\u001b[0m\n\u001b[1;32m    408\u001b[0m         \u001b[0;31m# If GSS-API Key Exchange is performed we are not required to check the\u001b[0m\u001b[0;34m\u001b[0m\u001b[0;34m\u001b[0m\u001b[0m\n",
      "\u001b[0;32m/usr/local/anaconda3/envs/dft_for_sm/lib/python3.9/site-packages/paramiko/transport.py\u001b[0m in \u001b[0;36mstart_client\u001b[0;34m(self, event, timeout)\u001b[0m\n\u001b[1;32m    658\u001b[0m                 \u001b[0me\u001b[0m \u001b[0;34m=\u001b[0m \u001b[0mself\u001b[0m\u001b[0;34m.\u001b[0m\u001b[0mget_exception\u001b[0m\u001b[0;34m(\u001b[0m\u001b[0;34m)\u001b[0m\u001b[0;34m\u001b[0m\u001b[0;34m\u001b[0m\u001b[0m\n\u001b[1;32m    659\u001b[0m                 \u001b[0;32mif\u001b[0m \u001b[0me\u001b[0m \u001b[0;32mis\u001b[0m \u001b[0;32mnot\u001b[0m \u001b[0;32mNone\u001b[0m\u001b[0;34m:\u001b[0m\u001b[0;34m\u001b[0m\u001b[0;34m\u001b[0m\u001b[0m\n\u001b[0;32m--> 660\u001b[0;31m                     \u001b[0;32mraise\u001b[0m \u001b[0me\u001b[0m\u001b[0;34m\u001b[0m\u001b[0;34m\u001b[0m\u001b[0m\n\u001b[0m\u001b[1;32m    661\u001b[0m                 \u001b[0;32mraise\u001b[0m \u001b[0mSSHException\u001b[0m\u001b[0;34m(\u001b[0m\u001b[0;34m\"Negotiation failed.\"\u001b[0m\u001b[0;34m)\u001b[0m\u001b[0;34m\u001b[0m\u001b[0;34m\u001b[0m\u001b[0m\n\u001b[1;32m    662\u001b[0m             if event.is_set() or (\n",
      "\u001b[0;32m/usr/local/anaconda3/envs/dft_for_sm/lib/python3.9/site-packages/paramiko/transport.py\u001b[0m in \u001b[0;36mrun\u001b[0;34m(self)\u001b[0m\n\u001b[1;32m   2037\u001b[0m                     \u001b[0;34m\"Local version/idstring: {}\"\u001b[0m\u001b[0;34m.\u001b[0m\u001b[0mformat\u001b[0m\u001b[0;34m(\u001b[0m\u001b[0mself\u001b[0m\u001b[0;34m.\u001b[0m\u001b[0mlocal_version\u001b[0m\u001b[0;34m)\u001b[0m\u001b[0;34m,\u001b[0m\u001b[0;34m\u001b[0m\u001b[0;34m\u001b[0m\u001b[0m\n\u001b[1;32m   2038\u001b[0m                 )  # noqa\n\u001b[0;32m-> 2039\u001b[0;31m                 \u001b[0mself\u001b[0m\u001b[0;34m.\u001b[0m\u001b[0m_check_banner\u001b[0m\u001b[0;34m(\u001b[0m\u001b[0;34m)\u001b[0m\u001b[0;34m\u001b[0m\u001b[0;34m\u001b[0m\u001b[0m\n\u001b[0m\u001b[1;32m   2040\u001b[0m                 \u001b[0;31m# The above is actually very much part of the handshake, but\u001b[0m\u001b[0;34m\u001b[0m\u001b[0;34m\u001b[0m\u001b[0m\n\u001b[1;32m   2041\u001b[0m                 \u001b[0;31m# sometimes the banner can be read but the machine is not\u001b[0m\u001b[0;34m\u001b[0m\u001b[0;34m\u001b[0m\u001b[0m\n",
      "\u001b[0;32m/usr/local/anaconda3/envs/dft_for_sm/lib/python3.9/site-packages/paramiko/transport.py\u001b[0m in \u001b[0;36m_check_banner\u001b[0;34m(self)\u001b[0m\n\u001b[1;32m   2213\u001b[0m                 \u001b[0;32mraise\u001b[0m\u001b[0;34m\u001b[0m\u001b[0;34m\u001b[0m\u001b[0m\n\u001b[1;32m   2214\u001b[0m             \u001b[0;32mexcept\u001b[0m \u001b[0mException\u001b[0m \u001b[0;32mas\u001b[0m \u001b[0me\u001b[0m\u001b[0;34m:\u001b[0m\u001b[0;34m\u001b[0m\u001b[0;34m\u001b[0m\u001b[0m\n\u001b[0;32m-> 2215\u001b[0;31m                 raise SSHException(\n\u001b[0m\u001b[1;32m   2216\u001b[0m                     \u001b[0;34m\"Error reading SSH protocol banner\"\u001b[0m \u001b[0;34m+\u001b[0m \u001b[0mstr\u001b[0m\u001b[0;34m(\u001b[0m\u001b[0me\u001b[0m\u001b[0;34m)\u001b[0m\u001b[0;34m\u001b[0m\u001b[0;34m\u001b[0m\u001b[0m\n\u001b[1;32m   2217\u001b[0m                 )\n",
      "\u001b[0;31mSSHException\u001b[0m: Error reading SSH protocol banner"
     ]
    }
   ],
   "source": [
    "sm.retrieve_jobs()\n",
    "sm.get_job_stats(split_by_can=True)"
   ]
  },
  {
   "cell_type": "code",
   "execution_count": 57,
   "id": "24e60464",
   "metadata": {},
   "outputs": [
    {
     "name": "stdout",
     "output_type": "stream",
     "text": [
      "343 93 1\n"
     ]
    },
    {
     "data": {
      "text/plain": [
       "(None,)"
      ]
     },
     "execution_count": 57,
     "metadata": {},
     "output_type": "execute_result"
    }
   ],
   "source": [
    "df = sm.get_job_stats(split_by_can=True)\n",
    "np.sum(df[\"failed\"])\n",
    "print(np.sum(df[\"failed\"]), np.sum(df[\"uploaded\"]), np.sum(df[\"done\"])), #np.sum(df[\"incomplete\"]))"
   ]
  },
  {
   "cell_type": "code",
   "execution_count": 45,
   "id": "ae3aa9fd",
   "metadata": {},
   "outputs": [
    {
     "data": {
      "text/html": [
       "<div>\n",
       "<style scoped>\n",
       "    .dataframe tbody tr th:only-of-type {\n",
       "        vertical-align: middle;\n",
       "    }\n",
       "\n",
       "    .dataframe tbody tr th {\n",
       "        vertical-align: top;\n",
       "    }\n",
       "\n",
       "    .dataframe thead th {\n",
       "        text-align: right;\n",
       "    }\n",
       "</style>\n",
       "<table border=\"1\" class=\"dataframe\">\n",
       "  <thead>\n",
       "    <tr style=\"text-align: right;\">\n",
       "      <th></th>\n",
       "    </tr>\n",
       "  </thead>\n",
       "  <tbody>\n",
       "    <tr>\n",
       "      <th>jobs</th>\n",
       "    </tr>\n",
       "  </tbody>\n",
       "</table>\n",
       "</div>"
      ],
      "text/plain": [
       "Empty DataFrame\n",
       "Columns: []\n",
       "Index: [jobs]"
      ]
     },
     "execution_count": 45,
     "metadata": {},
     "output_type": "execute_result"
    }
   ],
   "source": [
    "sm.squeue()"
   ]
  },
  {
   "cell_type": "markdown",
   "id": "8db80846",
   "metadata": {},
   "source": [
    "# It is very important here to update with a suited tag name the molecules !\n"
   ]
  },
  {
   "cell_type": "code",
   "execution_count": 46,
   "id": "9a6d76e8",
   "metadata": {},
   "outputs": [
    {
     "name": "stderr",
     "output_type": "stream",
     "text": [
      "INFO:aqc_utils.slurm_manager:There are no molecules with all jobs done. Exitting.\n"
     ]
    }
   ],
   "source": [
    "sm.upload_done_molecules_to_db(tags=\"JS_substrate\")"
   ]
  },
  {
   "cell_type": "code",
   "execution_count": 47,
   "id": "6f9a66d9",
   "metadata": {},
   "outputs": [
    {
     "name": "stderr",
     "output_type": "stream",
     "text": [
      "mv: cannot stat 'C11H10O_b7a8_conf_0.chk': No such file or directory\n",
      "mv: cannot stat 'C14H18OSi_95fa_conf_0.chk': No such file or directory\n",
      "mv: cannot stat 'C16H19NO_f5e7_conf_0.chk': No such file or directory\n",
      "mv: cannot stat 'C11H10O2_d7c7_conf_0.chk': No such file or directory\n",
      "mv: cannot stat 'C11H10O_9eb4_conf_0.chk': No such file or directory\n",
      "mv: cannot stat 'C8H10O_fd16_conf_0.chk': No such file or directory\n",
      "mv: cannot stat 'C11H17NO_9080_conf_0.chk': No such file or directory\n",
      "mv: cannot stat 'C11H17NO_d167_conf_0.chk': No such file or directory\n",
      "mv: cannot stat 'C8H10O2_8f9c_conf_0.chk': No such file or directory\n",
      "mv: cannot stat 'C9H12O2_df4c_conf_0.chk': No such file or directory\n",
      "mv: cannot stat 'C10H11NO_10ad_conf_0.chk': No such file or directory\n",
      "mv: cannot stat 'C14H13NO_5f00_conf_0.chk': No such file or directory\n",
      "mv: cannot stat 'C12H12O_d53c_conf_0.chk': No such file or directory\n",
      "mv: cannot stat 'C13H14O_eb43_conf_0.chk': No such file or directory\n",
      "mv: cannot stat 'C13H16OSi_b5e5_conf_0.chk': No such file or directory\n",
      "mv: cannot stat 'C16H22OSi_6b20_conf_0.chk': No such file or directory\n",
      "mv: cannot stat 'C14H18OSi_822f_conf_0.chk': No such file or directory\n",
      "mv: cannot stat 'C15H20OSi_a8a8_conf_0.chk': No such file or directory\n",
      "mv: cannot stat 'C18H18OSi_c01b_conf_0.chk': No such file or directory\n",
      "mv: cannot stat 'CO3--_f128_conf_0.chk': No such file or directory\n",
      "mv: cannot stat 'K+_6b55_conf_0.chk': No such file or directory\n",
      "mv: cannot stat 'Cs+_b043_conf_0.chk': No such file or directory\n",
      "mv: cannot stat 'C4H9O-_965c_conf_0.chk': No such file or directory\n",
      "mv: cannot stat 'H2O_f186_conf_0.chk': No such file or directory\n",
      "mv: cannot stat 'O4P---_02d0_conf_0.chk': No such file or directory\n",
      "mv: cannot stat 'Cl-_f511_conf_0.chk': No such file or directory\n",
      "mv: cannot stat 'C6H11BrMg_f96f_conf_0.chk': No such file or directory\n",
      "mv: cannot stat 'C7H7BrMg_743d_conf_0.chk': No such file or directory\n",
      "mv: cannot stat 'CH3IMg_bff6_conf_0.chk': No such file or directory\n",
      "mv: cannot stat 'C9H18NO-_c207_conf_0.chk': No such file or directory\n",
      "mv: cannot stat 'C14H12_ce71_conf_0.chk': No such file or directory\n",
      "mv: cannot stat 'O-_c6c1_conf_0.chk': No such file or directory\n",
      "mv: cannot stat 'F-_e707_conf_0.chk': No such file or directory\n",
      "mv: cannot stat 'Mn_0e2b_conf_0.chk': No such file or directory\n",
      "mv: cannot stat 'Zn_bbf0_conf_0.chk': No such file or directory\n",
      "mv: cannot stat 'H2O4P-_fd21_conf_0.chk': No such file or directory\n",
      "mv: cannot stat 'I-_3625_conf_0.chk': No such file or directory\n",
      "mv: cannot stat 'C3H9ClSi_ed42_conf_0.chk': No such file or directory\n",
      "mv: cannot stat 'Zn++_f4c2_conf_0.chk': No such file or directory\n",
      "mv: cannot stat 'C8H20N+_75f0_conf_0.chk': No such file or directory\n",
      "mv: cannot stat 'C6H6O_4368_conf_0.chk': No such file or directory\n",
      "mv: cannot stat 'C6H15N_5ff7_conf_0.chk': No such file or directory\n",
      "mv: cannot stat 'C5H10O2_a8a2_conf_0.chk': No such file or directory\n",
      "mv: cannot stat 'Rb+_082f_conf_0.chk': No such file or directory\n",
      "mv: cannot stat 'C5H9O2-_6091_conf_0.chk': No such file or directory\n",
      "mv: cannot stat 'Ag+_5dc1_conf_0.chk': No such file or directory\n",
      "mv: cannot stat 'Cu++_65fa_conf_0.chk': No such file or directory\n",
      "mv: cannot stat 'C16H36N+_1be3_conf_0.chk': No such file or directory\n",
      "mv: cannot stat 'Br-_7190_conf_0.chk': No such file or directory\n",
      "mv: cannot stat 'O4S--_90c2_conf_0.chk': No such file or directory\n",
      "mv: cannot stat 'Cu+_8e6d_conf_0.chk': No such file or directory\n",
      "mv: cannot stat 'C7H8_4c51_conf_0.chk': No such file or directory\n",
      "mv: cannot stat 'CF3O3S-_9b4f_conf_0.chk': No such file or directory\n",
      "mv: cannot stat 'Al_42f7_conf_0.chk': No such file or directory\n",
      "mv: cannot stat 'HO4P--_4a06_conf_0.chk': No such file or directory\n",
      "mv: cannot stat 'C2H3O2-_cc35_conf_0.chk': No such file or directory\n",
      "mv: cannot stat 'C9H16N2_7646_conf_0.chk': No such file or directory\n",
      "mv: cannot stat 'C3H9Al_77c0_conf_0.chk': No such file or directory\n",
      "mv: cannot stat 'Sr++_b3c3_conf_0.chk': No such file or directory\n",
      "mv: cannot stat 'C12H28N+_744b_conf_0.chk': No such file or directory\n",
      "mv: cannot stat 'C4H12N+_4121_conf_0.chk': No such file or directory\n",
      "mv: cannot stat 'C4H10O_07df_conf_0.chk': No such file or directory\n",
      "mv: cannot stat 'C2H5O-_2381_conf_0.chk': No such file or directory\n",
      "mv: cannot stat 'O3P---_bac9_conf_0.chk': No such file or directory\n",
      "mv: cannot stat 'AlCl3_fbe2_conf_0.chk': No such file or directory\n",
      "mv: cannot stat 'BF3_c51f_conf_0.chk': No such file or directory\n",
      "mv: cannot stat 'BBr3_d860_conf_0.chk': No such file or directory\n",
      "mv: cannot stat 'Y+++_af19_conf_0.chk': No such file or directory\n",
      "mv: cannot stat 'C6H15B_74e5_conf_0.chk': No such file or directory\n",
      "mv: cannot stat 'C3H9BO3_97b6_conf_0.chk': No such file or directory\n",
      "mv: cannot stat 'C16H36O4Zr_534e_conf_0.chk': No such file or directory\n",
      "mv: cannot stat 'C3H7O-_edf6_conf_0.chk': No such file or directory\n",
      "mv: cannot stat 'C2H4O2_fe39_conf_0.chk': No such file or directory\n",
      "mv: cannot stat 'Ag_9aa7_conf_0.chk': No such file or directory\n",
      "mv: cannot stat 'Cl4Zr_7d7d_conf_0.chk': No such file or directory\n",
      "mv: cannot stat 'ClLi_e823_conf_0.chk': No such file or directory\n",
      "mv: cannot stat 'C12H27AlO3_e518_conf_0.chk': No such file or directory\n",
      "mv: cannot stat 'C11H20N2_7540_conf_0.chk': No such file or directory\n",
      "mv: cannot stat 'C11H22N2_c5d7_conf_0.chk': No such file or directory\n",
      "mv: cannot stat 'C15H24N4_d8ab_conf_0.chk': No such file or directory\n",
      "mv: cannot stat 'C9H16N2_f1bc_conf_0.chk': No such file or directory\n",
      "mv: cannot stat 'C13H20N4_d015_conf_0.chk': No such file or directory\n",
      "mv: cannot stat 'C27H36N2_f6db_conf_0.chk': No such file or directory\n",
      "mv: cannot stat 'C27H38N2_e63a_conf_0.chk': No such file or directory\n",
      "mv: cannot stat 'C29H40N2_5bcb_conf_0.chk': No such file or directory\n",
      "mv: cannot stat 'C27H29N5_6719_conf_0.chk': No such file or directory\n",
      "mv: cannot stat 'C9H12N4_5e30_conf_0.chk': No such file or directory\n",
      "mv: cannot stat 'C21H24N2_9610_conf_0.chk': No such file or directory\n",
      "mv: cannot stat 'C21H26N2_292b_conf_0.chk': No such file or directory\n",
      "mv: cannot stat 'C23H32N2_8c59_conf_0.chk': No such file or directory\n",
      "mv: cannot stat 'C23H32N2_7ca4_conf_0.chk': No such file or directory\n",
      "mv: cannot stat 'C15H24N2_9a3b_conf_0.chk': No such file or directory\n",
      "mv: cannot stat 'C19H28N4_583c_conf_0.chk': No such file or directory\n"
     ]
    }
   ],
   "source": [
    "for job in sm.get_jobs(slurm_status.uploaded):\n",
    "    job_to_change = sm.get_jobs()[job].base_name\n",
    "    with sm.connection.cd(\"/home/jschleinitz/gaussian/\"):\n",
    "        try:\n",
    "            sm.connection.run(f\"mv {job_to_change}.chk ../gaussian_uploaded\")\n",
    "            sm.connection.run(f\"mv {job_to_change}.out ../gaussian_uploaded\")\n",
    "            sm.connection.run(f\"mv {job_to_change}.log ../gaussian_uploaded\")\n",
    "            sm.connection.run(f\"mv {job_to_change}.com ../gaussian_uploaded\")               \n",
    "            sm.connection.run(f\"mv {job_to_change}.sh ../gaussian_uploaded\")\n",
    "        except:\n",
    "            pass"
   ]
  },
  {
   "cell_type": "code",
   "execution_count": null,
   "id": "d2c3d775",
   "metadata": {},
   "outputs": [],
   "source": []
  },
  {
   "cell_type": "code",
   "execution_count": null,
   "id": "f01d8aad",
   "metadata": {},
   "outputs": [],
   "source": []
  }
 ],
 "metadata": {
  "kernelspec": {
   "display_name": "Python 3 (ipykernel)",
   "language": "python",
   "name": "python3"
  },
  "language_info": {
   "codemirror_mode": {
    "name": "ipython",
    "version": 3
   },
   "file_extension": ".py",
   "mimetype": "text/x-python",
   "name": "python",
   "nbconvert_exporter": "python",
   "pygments_lexer": "ipython3",
   "version": "3.9.7"
  }
 },
 "nbformat": 4,
 "nbformat_minor": 5
}
