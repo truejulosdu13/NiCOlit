{
 "cells": [
  {
   "cell_type": "markdown",
   "id": "78381002",
   "metadata": {},
   "source": [
    "# Import packages"
   ]
  },
  {
   "cell_type": "code",
   "execution_count": 1,
   "id": "d81fc9fa",
   "metadata": {},
   "outputs": [],
   "source": [
    "import pandas as pd\n",
    "import re\n",
    "\n",
    "import sys\n",
    "sys.path.append('../')\n",
    "from aqc_utils.gaussian_log_extractor import *\n",
    "from aqc_utils.molecule import molecule\n",
    "from aqc_utils.slurm_manager import slurm_manager\n",
    "from aqc_utils.helper_classes import slurm_status\n",
    "\n",
    "import logging\n",
    "logging.basicConfig(level=logging.INFO)"
   ]
  },
  {
   "cell_type": "markdown",
   "id": "2f32a2ad",
   "metadata": {},
   "source": [
    "# Objectif :\n",
    "definir une fonction qui permet de generer un dataframe ou d'updater un .csv avec les molecules calculées et toutes leurs caracteristiques"
   ]
  },
  {
   "cell_type": "markdown",
   "id": "6a9105b8",
   "metadata": {},
   "source": [
    "## First Step\n",
    "Recupérer les datas d'une molécule"
   ]
  },
  {
   "cell_type": "code",
   "execution_count": 6,
   "id": "453d8aba",
   "metadata": {},
   "outputs": [
    {
     "name": "stderr",
     "output_type": "stream",
     "text": [
      "INFO:aqc_utils.slurm_manager:Creating connection to hermite.chimie.ens.fr as jschleinitz\n",
      "INFO:paramiko.transport:Connected (version 2.0, client OpenSSH_8.2p1)\n",
      "INFO:paramiko.transport:Authentication (password) successful!\n",
      "INFO:aqc_utils.slurm_manager:Connected to hermite.chimie.ens.fr as jschleinitz is True.\n"
     ]
    }
   ],
   "source": [
    "sm=slurm_manager(user='jschleinitz', host='hermite.chimie.ens.fr')\n",
    "sm.connect()"
   ]
  },
  {
   "cell_type": "code",
   "execution_count": 7,
   "id": "3b5df281",
   "metadata": {},
   "outputs": [
    {
     "data": {
      "text/html": [
       "<div>\n",
       "<style scoped>\n",
       "    .dataframe tbody tr th:only-of-type {\n",
       "        vertical-align: middle;\n",
       "    }\n",
       "\n",
       "    .dataframe tbody tr th {\n",
       "        vertical-align: top;\n",
       "    }\n",
       "\n",
       "    .dataframe thead th {\n",
       "        text-align: right;\n",
       "    }\n",
       "</style>\n",
       "<table border=\"1\" class=\"dataframe\">\n",
       "  <thead>\n",
       "    <tr style=\"text-align: right;\">\n",
       "      <th>status</th>\n",
       "      <th>done</th>\n",
       "      <th>submitted</th>\n",
       "      <th>uploaded</th>\n",
       "    </tr>\n",
       "    <tr>\n",
       "      <th>can</th>\n",
       "      <th></th>\n",
       "      <th></th>\n",
       "      <th></th>\n",
       "    </tr>\n",
       "  </thead>\n",
       "  <tbody>\n",
       "    <tr>\n",
       "      <th>C(Oc1ccccc1)Oc1ccccc1</th>\n",
       "      <td>0</td>\n",
       "      <td>1</td>\n",
       "      <td>0</td>\n",
       "    </tr>\n",
       "    <tr>\n",
       "      <th>C=CC[Si](Oc1ccc2c(c1)cccc2)(C)C</th>\n",
       "      <td>0</td>\n",
       "      <td>1</td>\n",
       "      <td>0</td>\n",
       "    </tr>\n",
       "    <tr>\n",
       "      <th>CC(=O)Oc1c2ccccc2cc2c1cccc2</th>\n",
       "      <td>0</td>\n",
       "      <td>1</td>\n",
       "      <td>0</td>\n",
       "    </tr>\n",
       "    <tr>\n",
       "      <th>CC(=O)Oc1ccc(cc1)C(=O)C</th>\n",
       "      <td>0</td>\n",
       "      <td>1</td>\n",
       "      <td>0</td>\n",
       "    </tr>\n",
       "    <tr>\n",
       "      <th>CC(=O)Oc1ccc2c(c1)ccc(c2)C(=O)C</th>\n",
       "      <td>0</td>\n",
       "      <td>1</td>\n",
       "      <td>0</td>\n",
       "    </tr>\n",
       "    <tr>\n",
       "      <th>...</th>\n",
       "      <td>...</td>\n",
       "      <td>...</td>\n",
       "      <td>...</td>\n",
       "    </tr>\n",
       "    <tr>\n",
       "      <th>OCCOc1ccc(cc1)C</th>\n",
       "      <td>0</td>\n",
       "      <td>1</td>\n",
       "      <td>0</td>\n",
       "    </tr>\n",
       "    <tr>\n",
       "      <th>OCCOc1ccccc1</th>\n",
       "      <td>0</td>\n",
       "      <td>1</td>\n",
       "      <td>0</td>\n",
       "    </tr>\n",
       "    <tr>\n",
       "      <th>OCCc1ccc(cc1)OC</th>\n",
       "      <td>0</td>\n",
       "      <td>0</td>\n",
       "      <td>1</td>\n",
       "    </tr>\n",
       "    <tr>\n",
       "      <th>OCCc1ccccc1OC</th>\n",
       "      <td>0</td>\n",
       "      <td>1</td>\n",
       "      <td>0</td>\n",
       "    </tr>\n",
       "    <tr>\n",
       "      <th>OCc1ccc(cc1)OC</th>\n",
       "      <td>0</td>\n",
       "      <td>0</td>\n",
       "      <td>1</td>\n",
       "    </tr>\n",
       "  </tbody>\n",
       "</table>\n",
       "<p>358 rows × 3 columns</p>\n",
       "</div>"
      ],
      "text/plain": [
       "status                           done  submitted  uploaded\n",
       "can                                                       \n",
       "C(Oc1ccccc1)Oc1ccccc1               0          1         0\n",
       "C=CC[Si](Oc1ccc2c(c1)cccc2)(C)C     0          1         0\n",
       "CC(=O)Oc1c2ccccc2cc2c1cccc2         0          1         0\n",
       "CC(=O)Oc1ccc(cc1)C(=O)C             0          1         0\n",
       "CC(=O)Oc1ccc2c(c1)ccc(c2)C(=O)C     0          1         0\n",
       "...                               ...        ...       ...\n",
       "OCCOc1ccc(cc1)C                     0          1         0\n",
       "OCCOc1ccccc1                        0          1         0\n",
       "OCCc1ccc(cc1)OC                     0          0         1\n",
       "OCCc1ccccc1OC                       0          1         0\n",
       "OCc1ccc(cc1)OC                      0          0         1\n",
       "\n",
       "[358 rows x 3 columns]"
      ]
     },
     "execution_count": 7,
     "metadata": {},
     "output_type": "execute_result"
    }
   ],
   "source": [
    "sm.get_job_stats(split_by_can=True)"
   ]
  },
  {
   "cell_type": "markdown",
   "id": "8db80846",
   "metadata": {},
   "source": [
    "# It is very important here to update with a suited tag name the molecules !\n"
   ]
  },
  {
   "cell_type": "code",
   "execution_count": null,
   "id": "9a6d76e8",
   "metadata": {},
   "outputs": [],
   "source": [
    "sm.upload_done_molecules_to_db(tags=\"JS_substrate\")"
   ]
  },
  {
   "cell_type": "code",
   "execution_count": null,
   "id": "6f9a66d9",
   "metadata": {},
   "outputs": [],
   "source": []
  }
 ],
 "metadata": {
  "kernelspec": {
   "display_name": "Python 3 (ipykernel)",
   "language": "python",
   "name": "python3"
  },
  "language_info": {
   "codemirror_mode": {
    "name": "ipython",
    "version": 3
   },
   "file_extension": ".py",
   "mimetype": "text/x-python",
   "name": "python",
   "nbconvert_exporter": "python",
   "pygments_lexer": "ipython3",
   "version": "3.9.7"
  }
 },
 "nbformat": 4,
 "nbformat_minor": 5
}
