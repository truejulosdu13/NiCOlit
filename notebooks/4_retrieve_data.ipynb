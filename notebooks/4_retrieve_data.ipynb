{
 "cells": [
  {
   "cell_type": "markdown",
   "id": "78381002",
   "metadata": {},
   "source": [
    "# Import packages"
   ]
  },
  {
   "cell_type": "code",
   "execution_count": 1,
   "id": "d81fc9fa",
   "metadata": {},
   "outputs": [],
   "source": [
    "import pandas as pd\n",
    "import re\n",
    "\n",
    "import sys\n",
    "sys.path.append('../')\n",
    "from aqc_utils.gaussian_log_extractor import *\n",
    "from aqc_utils.molecule import molecule\n",
    "from aqc_utils.slurm_manager import slurm_manager\n",
    "from aqc_utils.helper_classes import slurm_status\n",
    "\n",
    "import logging\n",
    "logging.basicConfig(level=logging.INFO)"
   ]
  },
  {
   "cell_type": "markdown",
   "id": "2f32a2ad",
   "metadata": {},
   "source": [
    "# Objectif :\n",
    "definir une fonction qui permet de generer un dataframe ou d'updater un .csv avec les molecules calculées et toutes leurs caracteristiques"
   ]
  },
  {
   "cell_type": "markdown",
   "id": "6a9105b8",
   "metadata": {},
   "source": [
    "## First Step\n",
    "Recupérer les datas d'une molécule"
   ]
  },
  {
   "cell_type": "code",
   "execution_count": 3,
   "id": "453d8aba",
   "metadata": {
    "scrolled": false
   },
   "outputs": [
    {
     "name": "stderr",
     "output_type": "stream",
     "text": [
      "INFO:aqc_utils.slurm_manager:Creating connection to hermite.chimie.ens.fr as jschleinitz\n"
     ]
    },
    {
     "ename": "TimeoutError",
     "evalue": "[Errno 60] Operation timed out",
     "output_type": "error",
     "traceback": [
      "\u001b[0;31m---------------------------------------------------------------------------\u001b[0m",
      "\u001b[0;31mTimeoutError\u001b[0m                              Traceback (most recent call last)",
      "\u001b[0;32m/var/folders/c8/7pbzw0r912n01vr9fgdmzhx00000gn/T/ipykernel_98280/3351753457.py\u001b[0m in \u001b[0;36m<module>\u001b[0;34m\u001b[0m\n\u001b[1;32m      1\u001b[0m \u001b[0msm\u001b[0m\u001b[0;34m=\u001b[0m\u001b[0mslurm_manager\u001b[0m\u001b[0;34m(\u001b[0m\u001b[0muser\u001b[0m\u001b[0;34m=\u001b[0m\u001b[0;34m'jschleinitz'\u001b[0m\u001b[0;34m,\u001b[0m \u001b[0mhost\u001b[0m\u001b[0;34m=\u001b[0m\u001b[0;34m'hermite.chimie.ens.fr'\u001b[0m\u001b[0;34m)\u001b[0m\u001b[0;34m\u001b[0m\u001b[0;34m\u001b[0m\u001b[0m\n\u001b[0;32m----> 2\u001b[0;31m \u001b[0msm\u001b[0m\u001b[0;34m.\u001b[0m\u001b[0mconnect\u001b[0m\u001b[0;34m(\u001b[0m\u001b[0;34m)\u001b[0m\u001b[0;34m\u001b[0m\u001b[0;34m\u001b[0m\u001b[0m\n\u001b[0m",
      "\u001b[0;32m~/Desktop/These/Projet_stage_M1_Max/Code/SM_DFT/DFT_for_SM/notebooks/../aqc_utils/slurm_manager.py\u001b[0m in \u001b[0;36mconnect\u001b[0;34m(self)\u001b[0m\n\u001b[1;32m     61\u001b[0m             \u001b[0mcreate_new_connection\u001b[0m \u001b[0;34m=\u001b[0m \u001b[0;32mTrue\u001b[0m\u001b[0;34m\u001b[0m\u001b[0;34m\u001b[0m\u001b[0m\n\u001b[1;32m     62\u001b[0m         \u001b[0;32mif\u001b[0m \u001b[0mcreate_new_connection\u001b[0m\u001b[0;34m:\u001b[0m\u001b[0;34m\u001b[0m\u001b[0;34m\u001b[0m\u001b[0m\n\u001b[0;32m---> 63\u001b[0;31m             \u001b[0mself\u001b[0m\u001b[0;34m.\u001b[0m\u001b[0mconnection\u001b[0m \u001b[0;34m=\u001b[0m \u001b[0mssh_connect\u001b[0m\u001b[0;34m(\u001b[0m\u001b[0mself\u001b[0m\u001b[0;34m.\u001b[0m\u001b[0mhost\u001b[0m\u001b[0;34m,\u001b[0m \u001b[0mself\u001b[0m\u001b[0;34m.\u001b[0m\u001b[0muser\u001b[0m\u001b[0;34m)\u001b[0m\u001b[0;34m\u001b[0m\u001b[0;34m\u001b[0m\u001b[0m\n\u001b[0m\u001b[1;32m     64\u001b[0m             \u001b[0mself\u001b[0m\u001b[0;34m.\u001b[0m\u001b[0mconnection\u001b[0m\u001b[0;34m.\u001b[0m\u001b[0mrun\u001b[0m\u001b[0;34m(\u001b[0m\u001b[0;34mf\"mkdir -p {self.remote_dir}\"\u001b[0m\u001b[0;34m)\u001b[0m\u001b[0;34m\u001b[0m\u001b[0;34m\u001b[0m\u001b[0m\n\u001b[1;32m     65\u001b[0m             \u001b[0mlogger\u001b[0m\u001b[0;34m.\u001b[0m\u001b[0minfo\u001b[0m\u001b[0;34m(\u001b[0m\u001b[0;34mf\"Connected to {self.host} as {self.user} is {self.connection.is_connected}.\"\u001b[0m\u001b[0;34m)\u001b[0m\u001b[0;34m\u001b[0m\u001b[0;34m\u001b[0m\u001b[0m\n",
      "\u001b[0;32m~/Desktop/These/Projet_stage_M1_Max/Code/SM_DFT/DFT_for_SM/notebooks/../aqc_utils/helper_functions.py\u001b[0m in \u001b[0;36mssh_connect\u001b[0;34m(host, user)\u001b[0m\n\u001b[1;32m     53\u001b[0m     \u001b[0mclient\u001b[0m \u001b[0;34m=\u001b[0m \u001b[0mparamiko\u001b[0m\u001b[0;34m.\u001b[0m\u001b[0mSSHClient\u001b[0m\u001b[0;34m(\u001b[0m\u001b[0;34m)\u001b[0m\u001b[0;34m\u001b[0m\u001b[0;34m\u001b[0m\u001b[0m\n\u001b[1;32m     54\u001b[0m     \u001b[0mclient\u001b[0m\u001b[0;34m.\u001b[0m\u001b[0mset_missing_host_key_policy\u001b[0m\u001b[0;34m(\u001b[0m\u001b[0mparamiko\u001b[0m\u001b[0;34m.\u001b[0m\u001b[0mAutoAddPolicy\u001b[0m\u001b[0;34m(\u001b[0m\u001b[0;34m)\u001b[0m\u001b[0;34m)\u001b[0m\u001b[0;34m\u001b[0m\u001b[0;34m\u001b[0m\u001b[0m\n\u001b[0;32m---> 55\u001b[0;31m     \u001b[0mclient\u001b[0m\u001b[0;34m.\u001b[0m\u001b[0mconnect\u001b[0m\u001b[0;34m(\u001b[0m\u001b[0mhost\u001b[0m\u001b[0;34m,\u001b[0m \u001b[0mport\u001b[0m\u001b[0;34m,\u001b[0m \u001b[0muser\u001b[0m\u001b[0;34m,\u001b[0m \u001b[0mpassword\u001b[0m\u001b[0;34m)\u001b[0m\u001b[0;34m\u001b[0m\u001b[0;34m\u001b[0m\u001b[0m\n\u001b[0m\u001b[1;32m     56\u001b[0m \u001b[0;34m\u001b[0m\u001b[0m\n\u001b[1;32m     57\u001b[0m     \u001b[0mc\u001b[0m \u001b[0;34m=\u001b[0m \u001b[0mfabric\u001b[0m\u001b[0;34m.\u001b[0m\u001b[0mConnection\u001b[0m\u001b[0;34m(\u001b[0m\u001b[0mhost\u001b[0m\u001b[0;34m)\u001b[0m\u001b[0;34m\u001b[0m\u001b[0;34m\u001b[0m\u001b[0m\n",
      "\u001b[0;32m/usr/local/anaconda3/envs/dft_for_sm/lib/python3.9/site-packages/paramiko/client.py\u001b[0m in \u001b[0;36mconnect\u001b[0;34m(self, hostname, port, username, password, pkey, key_filename, timeout, allow_agent, look_for_keys, compress, sock, gss_auth, gss_kex, gss_deleg_creds, gss_host, banner_timeout, auth_timeout, gss_trust_dns, passphrase, disabled_algorithms)\u001b[0m\n\u001b[1;32m    347\u001b[0m                         \u001b[0;32mexcept\u001b[0m\u001b[0;34m:\u001b[0m\u001b[0;34m\u001b[0m\u001b[0;34m\u001b[0m\u001b[0m\n\u001b[1;32m    348\u001b[0m                             \u001b[0;32mpass\u001b[0m\u001b[0;34m\u001b[0m\u001b[0;34m\u001b[0m\u001b[0m\n\u001b[0;32m--> 349\u001b[0;31m                     \u001b[0mretry_on_signal\u001b[0m\u001b[0;34m(\u001b[0m\u001b[0;32mlambda\u001b[0m\u001b[0;34m:\u001b[0m \u001b[0msock\u001b[0m\u001b[0;34m.\u001b[0m\u001b[0mconnect\u001b[0m\u001b[0;34m(\u001b[0m\u001b[0maddr\u001b[0m\u001b[0;34m)\u001b[0m\u001b[0;34m)\u001b[0m\u001b[0;34m\u001b[0m\u001b[0;34m\u001b[0m\u001b[0m\n\u001b[0m\u001b[1;32m    350\u001b[0m                     \u001b[0;31m# Break out of the loop on success\u001b[0m\u001b[0;34m\u001b[0m\u001b[0;34m\u001b[0m\u001b[0m\n\u001b[1;32m    351\u001b[0m                     \u001b[0;32mbreak\u001b[0m\u001b[0;34m\u001b[0m\u001b[0;34m\u001b[0m\u001b[0m\n",
      "\u001b[0;32m/usr/local/anaconda3/envs/dft_for_sm/lib/python3.9/site-packages/paramiko/util.py\u001b[0m in \u001b[0;36mretry_on_signal\u001b[0;34m(function)\u001b[0m\n\u001b[1;32m    281\u001b[0m     \u001b[0;32mwhile\u001b[0m \u001b[0;32mTrue\u001b[0m\u001b[0;34m:\u001b[0m\u001b[0;34m\u001b[0m\u001b[0;34m\u001b[0m\u001b[0m\n\u001b[1;32m    282\u001b[0m         \u001b[0;32mtry\u001b[0m\u001b[0;34m:\u001b[0m\u001b[0;34m\u001b[0m\u001b[0;34m\u001b[0m\u001b[0m\n\u001b[0;32m--> 283\u001b[0;31m             \u001b[0;32mreturn\u001b[0m \u001b[0mfunction\u001b[0m\u001b[0;34m(\u001b[0m\u001b[0;34m)\u001b[0m\u001b[0;34m\u001b[0m\u001b[0;34m\u001b[0m\u001b[0m\n\u001b[0m\u001b[1;32m    284\u001b[0m         \u001b[0;32mexcept\u001b[0m \u001b[0mEnvironmentError\u001b[0m \u001b[0;32mas\u001b[0m \u001b[0me\u001b[0m\u001b[0;34m:\u001b[0m\u001b[0;34m\u001b[0m\u001b[0;34m\u001b[0m\u001b[0m\n\u001b[1;32m    285\u001b[0m             \u001b[0;32mif\u001b[0m \u001b[0me\u001b[0m\u001b[0;34m.\u001b[0m\u001b[0merrno\u001b[0m \u001b[0;34m!=\u001b[0m \u001b[0merrno\u001b[0m\u001b[0;34m.\u001b[0m\u001b[0mEINTR\u001b[0m\u001b[0;34m:\u001b[0m\u001b[0;34m\u001b[0m\u001b[0;34m\u001b[0m\u001b[0m\n",
      "\u001b[0;32m/usr/local/anaconda3/envs/dft_for_sm/lib/python3.9/site-packages/paramiko/client.py\u001b[0m in \u001b[0;36m<lambda>\u001b[0;34m()\u001b[0m\n\u001b[1;32m    347\u001b[0m                         \u001b[0;32mexcept\u001b[0m\u001b[0;34m:\u001b[0m\u001b[0;34m\u001b[0m\u001b[0;34m\u001b[0m\u001b[0m\n\u001b[1;32m    348\u001b[0m                             \u001b[0;32mpass\u001b[0m\u001b[0;34m\u001b[0m\u001b[0;34m\u001b[0m\u001b[0m\n\u001b[0;32m--> 349\u001b[0;31m                     \u001b[0mretry_on_signal\u001b[0m\u001b[0;34m(\u001b[0m\u001b[0;32mlambda\u001b[0m\u001b[0;34m:\u001b[0m \u001b[0msock\u001b[0m\u001b[0;34m.\u001b[0m\u001b[0mconnect\u001b[0m\u001b[0;34m(\u001b[0m\u001b[0maddr\u001b[0m\u001b[0;34m)\u001b[0m\u001b[0;34m)\u001b[0m\u001b[0;34m\u001b[0m\u001b[0;34m\u001b[0m\u001b[0m\n\u001b[0m\u001b[1;32m    350\u001b[0m                     \u001b[0;31m# Break out of the loop on success\u001b[0m\u001b[0;34m\u001b[0m\u001b[0;34m\u001b[0m\u001b[0m\n\u001b[1;32m    351\u001b[0m                     \u001b[0;32mbreak\u001b[0m\u001b[0;34m\u001b[0m\u001b[0;34m\u001b[0m\u001b[0m\n",
      "\u001b[0;31mTimeoutError\u001b[0m: [Errno 60] Operation timed out"
     ]
    }
   ],
   "source": [
    "sm=slurm_manager(user='jschleinitz', host='hermite.chimie.ens.fr')\n",
    "sm.connect()"
   ]
  },
  {
   "cell_type": "code",
   "execution_count": 9,
   "id": "9751d847",
   "metadata": {},
   "outputs": [],
   "source": [
    "jobs_c = sm.get_jobs(slurm_status.created)\n",
    "sm.update_submitted_jobs()"
   ]
  },
  {
   "cell_type": "code",
   "execution_count": 10,
   "id": "3b5df281",
   "metadata": {},
   "outputs": [
    {
     "name": "stderr",
     "output_type": "stream",
     "text": [
      "INFO:aqc_utils.slurm_manager:There are 1 running/pending jobs, 2 finished jobs.\n"
     ]
    },
    {
     "data": {
      "text/html": [
       "<div>\n",
       "<style scoped>\n",
       "    .dataframe tbody tr th:only-of-type {\n",
       "        vertical-align: middle;\n",
       "    }\n",
       "\n",
       "    .dataframe tbody tr th {\n",
       "        vertical-align: top;\n",
       "    }\n",
       "\n",
       "    .dataframe thead th {\n",
       "        text-align: right;\n",
       "    }\n",
       "</style>\n",
       "<table border=\"1\" class=\"dataframe\">\n",
       "  <thead>\n",
       "    <tr style=\"text-align: right;\">\n",
       "      <th>status</th>\n",
       "      <th>failed</th>\n",
       "      <th>incomplete</th>\n",
       "      <th>submitted</th>\n",
       "      <th>uploaded</th>\n",
       "    </tr>\n",
       "    <tr>\n",
       "      <th>can</th>\n",
       "      <th></th>\n",
       "      <th></th>\n",
       "      <th></th>\n",
       "      <th></th>\n",
       "    </tr>\n",
       "  </thead>\n",
       "  <tbody>\n",
       "    <tr>\n",
       "      <th>C(Oc1ccccc1)Oc1ccccc1</th>\n",
       "      <td>0</td>\n",
       "      <td>1</td>\n",
       "      <td>0</td>\n",
       "      <td>0</td>\n",
       "    </tr>\n",
       "    <tr>\n",
       "      <th>C=CC[Si](Oc1ccc2c(c1)cccc2)(C)C</th>\n",
       "      <td>0</td>\n",
       "      <td>0</td>\n",
       "      <td>0</td>\n",
       "      <td>1</td>\n",
       "    </tr>\n",
       "    <tr>\n",
       "      <th>CC(=O)Oc1c2ccccc2cc2c1cccc2</th>\n",
       "      <td>1</td>\n",
       "      <td>0</td>\n",
       "      <td>0</td>\n",
       "      <td>0</td>\n",
       "    </tr>\n",
       "    <tr>\n",
       "      <th>CC(=O)Oc1ccc(cc1)C(=O)C</th>\n",
       "      <td>1</td>\n",
       "      <td>0</td>\n",
       "      <td>0</td>\n",
       "      <td>0</td>\n",
       "    </tr>\n",
       "    <tr>\n",
       "      <th>CC(=O)Oc1ccc2c(c1)ccc(c2)C(=O)C</th>\n",
       "      <td>0</td>\n",
       "      <td>0</td>\n",
       "      <td>0</td>\n",
       "      <td>1</td>\n",
       "    </tr>\n",
       "    <tr>\n",
       "      <th>...</th>\n",
       "      <td>...</td>\n",
       "      <td>...</td>\n",
       "      <td>...</td>\n",
       "      <td>...</td>\n",
       "    </tr>\n",
       "    <tr>\n",
       "      <th>OCCOc1ccc(cc1)C</th>\n",
       "      <td>1</td>\n",
       "      <td>0</td>\n",
       "      <td>0</td>\n",
       "      <td>0</td>\n",
       "    </tr>\n",
       "    <tr>\n",
       "      <th>OCCOc1ccccc1</th>\n",
       "      <td>1</td>\n",
       "      <td>0</td>\n",
       "      <td>0</td>\n",
       "      <td>0</td>\n",
       "    </tr>\n",
       "    <tr>\n",
       "      <th>OCCc1ccc(cc1)OC</th>\n",
       "      <td>0</td>\n",
       "      <td>0</td>\n",
       "      <td>0</td>\n",
       "      <td>1</td>\n",
       "    </tr>\n",
       "    <tr>\n",
       "      <th>OCCc1ccccc1OC</th>\n",
       "      <td>1</td>\n",
       "      <td>0</td>\n",
       "      <td>0</td>\n",
       "      <td>0</td>\n",
       "    </tr>\n",
       "    <tr>\n",
       "      <th>OCc1ccc(cc1)OC</th>\n",
       "      <td>0</td>\n",
       "      <td>0</td>\n",
       "      <td>0</td>\n",
       "      <td>1</td>\n",
       "    </tr>\n",
       "  </tbody>\n",
       "</table>\n",
       "<p>358 rows × 4 columns</p>\n",
       "</div>"
      ],
      "text/plain": [
       "status                           failed  incomplete  submitted  uploaded\n",
       "can                                                                     \n",
       "C(Oc1ccccc1)Oc1ccccc1                 0           1          0         0\n",
       "C=CC[Si](Oc1ccc2c(c1)cccc2)(C)C       0           0          0         1\n",
       "CC(=O)Oc1c2ccccc2cc2c1cccc2           1           0          0         0\n",
       "CC(=O)Oc1ccc(cc1)C(=O)C               1           0          0         0\n",
       "CC(=O)Oc1ccc2c(c1)ccc(c2)C(=O)C       0           0          0         1\n",
       "...                                 ...         ...        ...       ...\n",
       "OCCOc1ccc(cc1)C                       1           0          0         0\n",
       "OCCOc1ccccc1                          1           0          0         0\n",
       "OCCc1ccc(cc1)OC                       0           0          0         1\n",
       "OCCc1ccccc1OC                         1           0          0         0\n",
       "OCc1ccc(cc1)OC                        0           0          0         1\n",
       "\n",
       "[358 rows x 4 columns]"
      ]
     },
     "execution_count": 10,
     "metadata": {},
     "output_type": "execute_result"
    }
   ],
   "source": [
    "sm.retrieve_jobs()\n",
    "sm.get_job_stats(split_by_can=True)"
   ]
  },
  {
   "cell_type": "code",
   "execution_count": 11,
   "id": "ae3aa9fd",
   "metadata": {},
   "outputs": [
    {
     "data": {
      "text/html": [
       "<div>\n",
       "<style scoped>\n",
       "    .dataframe tbody tr th:only-of-type {\n",
       "        vertical-align: middle;\n",
       "    }\n",
       "\n",
       "    .dataframe tbody tr th {\n",
       "        vertical-align: top;\n",
       "    }\n",
       "\n",
       "    .dataframe thead th {\n",
       "        text-align: right;\n",
       "    }\n",
       "</style>\n",
       "<table border=\"1\" class=\"dataframe\">\n",
       "  <thead>\n",
       "    <tr style=\"text-align: right;\">\n",
       "      <th></th>\n",
       "      <th>PENDING</th>\n",
       "      <th>RUNNING</th>\n",
       "    </tr>\n",
       "  </thead>\n",
       "  <tbody>\n",
       "    <tr>\n",
       "      <th>jobs</th>\n",
       "      <td>172</td>\n",
       "      <td>64</td>\n",
       "    </tr>\n",
       "  </tbody>\n",
       "</table>\n",
       "</div>"
      ],
      "text/plain": [
       "      PENDING  RUNNING\n",
       "jobs      172       64"
      ]
     },
     "execution_count": 11,
     "metadata": {},
     "output_type": "execute_result"
    }
   ],
   "source": [
    "sm.squeue()"
   ]
  },
  {
   "cell_type": "markdown",
   "id": "8db80846",
   "metadata": {},
   "source": [
    "# It is very important here to update with a suited tag name the molecules !\n"
   ]
  },
  {
   "cell_type": "code",
   "execution_count": 12,
   "id": "9a6d76e8",
   "metadata": {},
   "outputs": [
    {
     "name": "stderr",
     "output_type": "stream",
     "text": [
      "INFO:aqc_utils.slurm_manager:There are no jobs in done status. Exitting.\n"
     ]
    }
   ],
   "source": [
    "sm.upload_done_molecules_to_db(tags=\"JS_substrate\")"
   ]
  },
  {
   "cell_type": "code",
   "execution_count": 13,
   "id": "6f9a66d9",
   "metadata": {},
   "outputs": [
    {
     "name": "stderr",
     "output_type": "stream",
     "text": [
      "mv: cannot stat 'C11H10O_b7a8_conf_0.chk': No such file or directory\n",
      "mv: cannot stat 'C14H18OSi_95fa_conf_0.chk': No such file or directory\n",
      "mv: cannot stat 'C16H19NO_f5e7_conf_0.chk': No such file or directory\n",
      "mv: cannot stat 'C11H10O2_d7c7_conf_0.chk': No such file or directory\n",
      "mv: cannot stat 'C11H10O_9eb4_conf_0.chk': No such file or directory\n",
      "mv: cannot stat 'C8H10O_fd16_conf_0.chk': No such file or directory\n",
      "mv: cannot stat 'C11H17NO_9080_conf_0.chk': No such file or directory\n",
      "mv: cannot stat 'C11H17NO_d167_conf_0.chk': No such file or directory\n",
      "mv: cannot stat 'C8H10O2_8f9c_conf_0.chk': No such file or directory\n",
      "mv: cannot stat 'C9H12O2_df4c_conf_0.chk': No such file or directory\n",
      "mv: cannot stat 'C10H11NO_10ad_conf_0.chk': No such file or directory\n",
      "mv: cannot stat 'C14H13NO_5f00_conf_0.chk': No such file or directory\n",
      "mv: cannot stat 'C12H12O_d53c_conf_0.chk': No such file or directory\n",
      "mv: cannot stat 'C13H14O_eb43_conf_0.chk': No such file or directory\n",
      "mv: cannot stat 'C13H16OSi_b5e5_conf_0.chk': No such file or directory\n",
      "mv: cannot stat 'C16H22OSi_6b20_conf_0.chk': No such file or directory\n",
      "mv: cannot stat 'C15H20OSi_a8a8_conf_0.chk': No such file or directory\n",
      "mv: cannot stat 'C18H18OSi_c01b_conf_0.chk': No such file or directory\n",
      "mv: cannot stat 'C10H9NO_4229_conf_0.chk': No such file or directory\n",
      "mv: cannot stat 'C16H22OSi_f167_conf_0.chk': No such file or directory\n",
      "mv: cannot stat 'C15H18OSi_a4e1_conf_0.chk': No such file or directory\n",
      "mv: cannot stat 'C15H16O2_0fde_conf_0.chk': No such file or directory\n",
      "mv: cannot stat 'C13H13NO2_e6d7_conf_0.chk': No such file or directory\n",
      "mv: cannot stat 'C14H14O_bfed_conf_0.chk': No such file or directory\n",
      "mv: cannot stat 'C16H20O2_02c6_conf_0.chk': No such file or directory\n",
      "mv: cannot stat 'C17H14O_ba44_conf_0.chk': No such file or directory\n",
      "mv: cannot stat 'C14H18O2Si_6237_conf_0.chk': No such file or directory\n",
      "mv: cannot stat 'C15H17NO_d02c_conf_0.chk': No such file or directory\n",
      "mv: cannot stat 'C12H12O_8814_conf_0.chk': No such file or directory\n",
      "mv: cannot stat 'C13H12O_ab52_conf_0.chk': No such file or directory\n",
      "mv: cannot stat 'C12H13N3O4_bf2b_conf_0.chk': No such file or directory\n",
      "mv: cannot stat 'C10H13NO3_ea97_conf_0.chk': No such file or directory\n",
      "mv: cannot stat 'C12H16O3_1fc3_conf_0.chk': No such file or directory\n",
      "mv: cannot stat 'C12H13N3O4_14b8_conf_0.chk': No such file or directory\n",
      "mv: cannot stat 'C11H11N3O3_9e0c_conf_0.chk': No such file or directory\n",
      "mv: cannot stat 'C12H13N3O3_5bd4_conf_0.chk': No such file or directory\n",
      "mv: cannot stat 'C12H13N3O3_6a35_conf_0.chk': No such file or directory\n",
      "mv: cannot stat 'C15H13N3O3_2f50_conf_0.chk': No such file or directory\n",
      "mv: cannot stat 'C15H13N3O3_2849_conf_0.chk': No such file or directory\n",
      "mv: cannot stat 'C15H19N3O3_8d99_conf_0.chk': No such file or directory\n",
      "mv: cannot stat 'C13H14N4O4_0cc9_conf_0.chk': No such file or directory\n",
      "mv: cannot stat 'C13H13N3O5_5438_conf_0.chk': No such file or directory\n",
      "mv: cannot stat 'C12H10N4O3_7d75_conf_0.chk': No such file or directory\n",
      "mv: cannot stat 'C12H11N3O4_8e61_conf_0.chk': No such file or directory\n",
      "mv: cannot stat 'C13H13N3O4_1ad7_conf_0.chk': No such file or directory\n",
      "mv: cannot stat 'C11H10N4O5_7391_conf_0.chk': No such file or directory\n",
      "mv: cannot stat 'C11H10FN3O3_5e60_conf_0.chk': No such file or directory\n",
      "mv: cannot stat 'C12H10F3N3O3_131d_conf_0.chk': No such file or directory\n",
      "mv: cannot stat 'C13H13N3O4_0f4f_conf_0.chk': No such file or directory\n",
      "mv: cannot stat 'C10H13NO2_cdd4_conf_0.chk': No such file or directory\n",
      "mv: cannot stat 'C15H13N3O5_662d_conf_0.chk': No such file or directory\n",
      "mv: cannot stat 'C16H13NO_d1d1_conf_0.chk': No such file or directory\n",
      "mv: cannot stat 'C23H19NO_cf87_conf_0.chk': No such file or directory\n",
      "mv: cannot stat 'C18H16O_05c6_conf_0.chk': No such file or directory\n",
      "mv: cannot stat 'C18H16O_98f8_conf_0.chk': No such file or directory\n",
      "mv: cannot stat 'C18H16O_eb3d_conf_0.chk': No such file or directory\n",
      "mv: cannot stat 'C21H22O_6aea_conf_0.chk': No such file or directory\n",
      "mv: cannot stat 'C25H22O_6bd2_conf_0.chk': No such file or directory\n",
      "mv: cannot stat 'C23H17NO_adaf_conf_0.chk': No such file or directory\n",
      "mv: cannot stat 'C27H18O_3e88_conf_0.chk': No such file or directory\n",
      "mv: cannot stat 'C19H16O_a062_conf_0.chk': No such file or directory\n",
      "mv: cannot stat 'C14H16O2_0a89_conf_0.chk': No such file or directory\n",
      "mv: cannot stat 'C23H19NO_96a7_conf_0.chk': No such file or directory\n",
      "mv: cannot stat 'C17H14O_1807_conf_0.chk': No such file or directory\n",
      "mv: cannot stat 'C18H16O_c748_conf_0.chk': No such file or directory\n",
      "mv: cannot stat 'C21H22O_8753_conf_0.chk': No such file or directory\n",
      "mv: cannot stat 'C17H14O_cbb6_conf_0.chk': No such file or directory\n",
      "mv: cannot stat 'C7H8O_1d31_conf_0.chk': No such file or directory\n",
      "mv: cannot stat 'C8H10O_46e0_conf_0.chk': No such file or directory\n",
      "mv: cannot stat 'C8H10O_6396_conf_0.chk': No such file or directory\n",
      "mv: cannot stat 'C9H12O_83e4_conf_0.chk': No such file or directory\n",
      "mv: cannot stat 'C9H12O_c006_conf_0.chk': No such file or directory\n",
      "mv: cannot stat 'C11H16O_d8ee_conf_0.chk': No such file or directory\n",
      "mv: cannot stat 'C13H12O_e894_conf_0.chk': No such file or directory\n",
      "mv: cannot stat 'C14H14O_5486_conf_0.chk': No such file or directory\n",
      "mv: cannot stat 'C17H20O_df8f_conf_0.chk': No such file or directory\n",
      "mv: cannot stat 'C19H17NO_1979_conf_0.chk': No such file or directory\n",
      "mv: cannot stat 'C19H17NO_878f_conf_0.chk': No such file or directory\n",
      "mv: cannot stat 'C9H13NO_9cce_conf_0.chk': No such file or directory\n",
      "mv: cannot stat 'C9H13NO_84eb_conf_0.chk': No such file or directory\n",
      "mv: cannot stat 'C15H14O_5067_conf_0.chk': No such file or directory\n",
      "mv: cannot stat 'C11H11NO_f632_conf_0.chk': No such file or directory\n",
      "mv: cannot stat 'C19H15NO_bad5_conf_0.chk': No such file or directory\n",
      "mv: cannot stat 'C20H28O2_ed25_conf_0.chk': No such file or directory\n",
      "mv: cannot stat 'C11H9BrO_917c_conf_0.chk': No such file or directory\n",
      "mv: cannot stat 'C11H9FO_8acc_conf_0.chk': No such file or directory\n",
      "mv: cannot stat 'C12H9F3O_6168_conf_0.chk': No such file or directory\n",
      "mv: cannot stat 'C12H9NO_e727_conf_0.chk': No such file or directory\n",
      "mv: cannot stat 'C13H12O2_7ba9_conf_0.chk': No such file or directory\n",
      "mv: cannot stat 'C17H14O2_d9db_conf_0.chk': No such file or directory\n",
      "mv: cannot stat 'C7H7BrO_dfe3_conf_0.chk': No such file or directory\n",
      "mv: cannot stat 'C7H7IO_fd08_conf_0.chk': No such file or directory\n",
      "mv: cannot stat 'C8H7F3O_898c_conf_0.chk': No such file or directory\n",
      "mv: cannot stat 'C8H7NO_b4eb_conf_0.chk': No such file or directory\n",
      "mv: cannot stat 'C7H7NO3_8511_conf_0.chk': No such file or directory\n",
      "mv: cannot stat 'C14H13ClO_79f2_conf_0.chk': No such file or directory\n",
      "mv: cannot stat 'C8H7F3O_6429_conf_0.chk': No such file or directory\n",
      "mv: cannot stat 'C8H7NO_5732_conf_0.chk': No such file or directory\n",
      "mv: cannot stat 'C7H7NO3_5e8a_conf_0.chk': No such file or directory\n",
      "mv: cannot stat 'C9H10O2_172f_conf_0.chk': No such file or directory\n",
      "mv: cannot stat 'C9H10O3_cd0a_conf_0.chk': No such file or directory\n",
      "mv: cannot stat 'C12H10O2_f078_conf_0.chk': No such file or directory\n",
      "mv: cannot stat 'C13H12O2_4204_conf_0.chk': No such file or directory\n",
      "mv: cannot stat 'C14H14O2_b4e7_conf_0.chk': No such file or directory\n",
      "mv: cannot stat 'C12H7F3O2_8405_conf_0.chk': No such file or directory\n",
      "mv: cannot stat 'C17H12O2_b410_conf_0.chk': No such file or directory\n",
      "mv: cannot stat 'C16H11NO2_c6f3_conf_0.chk': No such file or directory\n",
      "mv: cannot stat 'C14H12O3_d929_conf_0.chk': No such file or directory\n",
      "mv: cannot stat 'C14H12O4_f0c3_conf_0.chk': No such file or directory\n",
      "mv: cannot stat 'C14H14O4_1367_conf_0.chk': No such file or directory\n",
      "mv: cannot stat 'C13H12O3_94e5_conf_0.chk': No such file or directory\n",
      "mv: cannot stat 'C12H10O3_36f4_conf_0.chk': No such file or directory\n",
      "mv: cannot stat 'C18H14O2_4fe1_conf_0.chk': No such file or directory\n",
      "mv: cannot stat 'C12H10O2_efb4_conf_0.chk': No such file or directory\n",
      "mv: cannot stat 'C13H16O4_0910_conf_0.chk': No such file or directory\n",
      "mv: cannot stat 'C13H16O3_bff6_conf_0.chk': No such file or directory\n",
      "mv: cannot stat 'C11H13FO2_c2c1_conf_0.chk': No such file or directory\n",
      "mv: cannot stat 'C11H14O2_0f9c_conf_0.chk': No such file or directory\n"
     ]
    },
    {
     "name": "stderr",
     "output_type": "stream",
     "text": [
      "mv: cannot stat 'C15H16O2_5eb6_conf_0.chk': No such file or directory\n",
      "mv: cannot stat 'C14H15NO2_eefb_conf_0.chk': No such file or directory\n",
      "mv: cannot stat 'C14H15NO2_9c99_conf_0.chk': No such file or directory\n",
      "mv: cannot stat 'C12H16O3_f69c_conf_0.chk': No such file or directory\n",
      "mv: cannot stat 'C8H10O2_574a_conf_0.chk': No such file or directory\n"
     ]
    }
   ],
   "source": [
    "for job in sm.get_jobs(slurm_status.uploaded):\n",
    "    job_to_change = sm.get_jobs()[job].base_name\n",
    "    with sm.connection.cd(\"/home/jschleinitz/gaussian/\"):\n",
    "        try:\n",
    "            sm.connection.run(f\"mv {job_to_change}.chk ../gaussian_uploaded\")\n",
    "            sm.connection.run(f\"mv {job_to_change}.out ../gaussian_uploaded\")\n",
    "            sm.connection.run(f\"mv {job_to_change}.log ../gaussian_uploaded\")\n",
    "            sm.connection.run(f\"mv {job_to_change}.com ../gaussian_uploaded\")               \n",
    "            sm.connection.run(f\"mv {job_to_change}.sh ../gaussian_uploaded\")\n",
    "        except:\n",
    "            pass"
   ]
  },
  {
   "cell_type": "code",
   "execution_count": null,
   "id": "4d7129d0",
   "metadata": {},
   "outputs": [],
   "source": []
  }
 ],
 "metadata": {
  "kernelspec": {
   "display_name": "Python 3 (ipykernel)",
   "language": "python",
   "name": "python3"
  },
  "language_info": {
   "codemirror_mode": {
    "name": "ipython",
    "version": 3
   },
   "file_extension": ".py",
   "mimetype": "text/x-python",
   "name": "python",
   "nbconvert_exporter": "python",
   "pygments_lexer": "ipython3",
   "version": "3.9.7"
  }
 },
 "nbformat": 4,
 "nbformat_minor": 5
}
