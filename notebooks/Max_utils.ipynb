{
 "cells": [
  {
   "cell_type": "code",
   "execution_count": 17,
   "metadata": {},
   "outputs": [],
   "source": [
    "import pandas as pd\n",
    "import sys\n",
    "sys.path.append('../')\n",
    "\n",
    "from aqc_utils.molecule import molecule\n",
    "from aqc_utils.slurm_manager import slurm_manager\n",
    "from aqc_utils.helper_classes import slurm_status\n",
    "\n",
    "import logging\n",
    "logging.basicConfig(level=logging.INFO)\n",
    "\n",
    "import dft_descriptors.prepocessing as pp"
   ]
  },
  {
   "cell_type": "code",
   "execution_count": 18,
   "metadata": {},
   "outputs": [],
   "source": [
    "df = pd.read_csv('../data_csv/Data_test09032021.csv', sep = ',')\n",
    "list_lig = df[\"Ligand effectif\"].unique()[1:].tolist()\n",
    "smi_lig = [pp.dict_ligand[list_lig[i]] for i in range(len(list_lig))]"
   ]
  },
  {
   "cell_type": "code",
   "execution_count": 19,
   "metadata": {},
   "outputs": [
    {
     "data": {
      "text/plain": [
       "['P(C1CCCCC1)(C2CCCCC2)C3CCCCC3',\n",
       " 'c4ccc(P(CCP(c1ccccc1)c2ccccc2)c3ccccc3)cc4',\n",
       " 'CC(C)(C)N1C=CN(C1)C(C)(C)C',\n",
       " 'C1CCC(CC1)N2C=CN(C2)C3CCCCC3',\n",
       " 'CC(C)c1cccc(C(C)C)c1N2C=CN(C2)c3c(cccc3C(C)C)C(C)C',\n",
       " 'CC(C)c1cccc(C(C)C)c1N2C=CN(C2)c3c(cccc3C(C)C)CC',\n",
       " 'CC(C)c1cccc(C(C)C)c1N3CN(c2c(C(C)C)cccc2C(C)C)CC3',\n",
       " 'Cc3cc(C)c(N2CN(c1c(C)cc(C)cc1C)CC2)c(C)c3',\n",
       " 'C1C2CC3CC1CC(C2)(C3)N4C=CN(C4)C56CC7CC(C5)CC(C7)C6',\n",
       " 'CC(C)(C)N1CCN(C(C)(C)C)C1',\n",
       " 'P(c1ccccc1)(c2ccccc2)c3ccccc3',\n",
       " 'c1ccc(cc1)P(CCCP(c2ccccc2)c3ccccc3)c4ccccc4',\n",
       " '[Fe].[CH]1[CH][CH][C]([CH]1)P(c2ccccc2)c3ccccc3.[CH]4[CH][CH][C]([CH]4)P(c5ccccc5)c6ccccc6',\n",
       " 'CC(C)N2c1ccccc1N(C)C2CC4N(C)c3ccccc3N4C(C)C',\n",
       " 'c1ccnc3c1ccc2cccnc23',\n",
       " 'Cc1ccccc1P(c2ccccc2C)c3ccccc3C',\n",
       " 'CC2=C(C)N(c1c(C(C)C)cccc1C(C)C)CN2c3c(C(C)C)cccc3C(C)C',\n",
       " 'c1cc(C)ccc1P(c2ccc(C)cc2)c3ccc(C)cc3',\n",
       " 'Fc3c(F)c(F)c(P(c1c(F)c(F)c(F)c(F)c1F)c2c(F)c(F)c(F)c(F)c2F)c(F)c3F',\n",
       " 'CN(C)P(N(C)C)N(C)C',\n",
       " 'P(CCCC)(CCCC)CCCC',\n",
       " 'P(C(C)(C)C)(C(C)(C)C)C(C)(C)C',\n",
       " 'P(OC)(OC)OC',\n",
       " 'c1ccccc1c2ccccc2P(C3CCCCC3)C4CCCCC4',\n",
       " 'c1cccc(N(C)C)c1c2ccccc2P(C3CCCCC3)C4CCCCC4',\n",
       " 'P(Cc1ccccc1)(Cc2ccccc2)Cc3ccccc3',\n",
       " 'P(c1ccc(OC)cc1)(c2ccc(OC)cc2)c3ccc(OC)cc3',\n",
       " 'P(C)(C)C',\n",
       " 'c2ccc(c1ccccn1)nc2',\n",
       " 'CCCCP(CCCC)CCCC',\n",
       " 'C1CCCCC1P(C2CCCCC2)CCP(C3CCCCC3)C4CCCCC4',\n",
       " 'P(CCP(C1CCC1)C2CCC2)(C3CCC3)C4CCC4',\n",
       " 'P(CCP(C1CCCC1)C2CCCC2)(C3CCCC3)C4CCCC4',\n",
       " 'P(CCP(C1CCCCCC1)C2CCCCCC2)(C3CCCCCC3)C4CCCCCC4',\n",
       " 'P(C1CCCCC1)(C2CCCCC2)c3ccccc3P(C5CCCCC5)C6CCCCC6',\n",
       " 'C1CCC(CC1)P(C2CCCCC2)C3=CSC=C3P(C4CCCCC4)C5CCCCC5',\n",
       " 'c4ccc(P(CCCCP(c1ccccc1)c2ccccc2)c3ccccc3)cc4',\n",
       " 'CC(C)(C)P(C1=CC=CC=C1C2=CC=CC=C2)C(C)(C)C',\n",
       " 'CC(C)P(C(C)C)CCP(C(C)C)(C(C)C)',\n",
       " 'CC(C)(C)P(C(C)(C)C)CCP(C(C)(C)C)(C(C)(C)C)',\n",
       " 'P(c1ccccc1)(c2ccccc2)CCP(C4CCCCC4)C5CCCCC5',\n",
       " 'C3=CC(P(C1C=CC=C1)C2C=CC=C2)C=C3',\n",
       " 'P(c1ccccc1(OC))(c2ccccc2(OC))c3ccccc3OC',\n",
       " 'P(c1ccc(C(F)(F)F)cc1)(c2ccc(C(F)(F)F)cc2)c3ccc(C(F)(F)F)cc3',\n",
       " 'CC1(C2=C(C(=CC=C2)P(C3=CC=CC=C3)C4=CC=CC=C4)OC5=C1C=CC=C5P(C6=CC=CC=C6)C7=CC=CC=C7)C',\n",
       " 'CC(C)OC1=C(C(=CC=C1)OC(C)C)C2=CC=CC=C2P(C3CCCCC3)C4CCCCC4',\n",
       " '[Fe].CCCP(CCC)C1CCCC1.CCCP(CCC)C1CCCC1',\n",
       " '[Fe].CC(C)(C)P(C1CCCC1)C(C)(C)C.CC(C)(C)P(C1CCCC1)C(C)(C)C',\n",
       " '[Fe].[CH]1[CH][CH][C]([CH]1)P(C2CCCCC2)C3CCCCC3.[CH]4[CH][CH][C]([CH]4)P(C5CCCCC5)C6CCCCC6',\n",
       " 'C1CC=CCCC=C1',\n",
       " 'CCP(CC)CCP(CC)CC',\n",
       " 'CP(C)CCP(C)C',\n",
       " 'P(C(C)(C)C)(C2CCCCC2)C3CCCCC3',\n",
       " 'CCCCN5CN(c3cccc(N2CN(CCCC)c1ccccc12)n3)c4ccccc45',\n",
       " '[Fe].[CH]1[CH][CH][C]([CH]1)P(C2CCCCC2)C3CCCCC3.[CH]4[CH][CH][C]([CH]4)P(C5CCCCC5)C6CCCCC6',\n",
       " 'c7cc4Cc3cccc(P(C1CCCCC1)C2CCCCC2)c3Oc4c(P(C5CCCCC5)C6CCCCC6)c7',\n",
       " 'CC7(C)c3cccc(P(C1CCCCC1)C2CCCCC2)c3Oc6c(P(C4CCCCC4)C5CCCCC5)cccc67',\n",
       " '[Fe].CC(C)P([C]1[CH][CH][CH][CH]1)C(C)C.CC(C)P([C]2[CH][CH][CH][CH]2)C(C)C',\n",
       " 'C/C(=C/C(=O)C)/[O-]',\n",
       " 'COC1=C(C(=CC=C1)OC)C2=CC=CC=C2P(C3CCCCC3)C4CCCCC4',\n",
       " 'CC(C)c1cccc(C(C)C)c1N2C=CN(C2)c3c(cccc3C(C)C)C(C)C.P(c1ccccc1)(c2ccccc2)c3ccccc3',\n",
       " 'C1C2CC3CC1CC(C2)(C3)N4C=CN(C4)C56CC7CC(C5)CC(C7)C6',\n",
       " 'C4=CN(C2C1CC3CC(C1)CC2C3)CN4C6C5CC7CC(C5)CC6C7',\n",
       " 'CC(C)c4cc(C(C)C)c(c1ccccc1P(C2CCCCC2)C3CCCCC3)c(C(C)C)c4',\n",
       " 'c8ccc(P(c1ccccc1)c3ccc2ccccc2c3c6c(P(c4ccccc4)c5ccccc5)ccc7ccccc67)cc8',\n",
       " 'P(CC)(CC)CC',\n",
       " 'P(C(C)C)(C(C)C)C(C)C',\n",
       " 'P(CC(C)C)(CC(C)C)CC(C)C',\n",
       " 'CP(C(C)(C)C)C(C)(C)C',\n",
       " 'P(c1ccccc1)(C2CCCCC2)C3CCCCC3',\n",
       " 'c3ccc(P(c1ccccc1)C2CCCCC2)cc3',\n",
       " 'P(c1ccccc1)(c2ccccc2)c3ccccc3.CC(C)(C)N1C=CN(C1)C(C)(C)C',\n",
       " 'P(c1ccccc1)(c2ccccc2)c3ccccc3.CC(C)c1cccc(C(C)C)c1N2C=CN(C2)c3c(cccc3C(C)C)C(C)C',\n",
       " 'P(C1CCCCC1)(C2CCCCC2)C3CCCCC3.CC(C)(C)N1C=CN(C1)C(C)(C)C',\n",
       " 'P(C1CCCCC1)(C2CCCCC2)C3CCCCC3.CC(C)c1cccc(C(C)C)c1N2C=CN(C2)c3c(cccc3C(C)C)C(C)C',\n",
       " 'CN2c1ccccc1N(C)C2CC4N(C(C)(C))c3ccccc3N4C(C)C',\n",
       " 'c6ccc5c(P(C1CCCCC1)C2CCCCC2)c(P(C3CCCCC3)C4CCCCC4)sc5c6',\n",
       " 'c5cc(P(C1CCCCC1)C2CCCCC2)c(P(C3CCCCC3)C4CCCCC4)s5',\n",
       " 'c7ccc(c6cc(c1ccccc1)n(c2ccccc2NC(c3ccccc3)P(C4CCCCC4)C5CCCCC5)n6)cc7',\n",
       " 'CC(C)P(C(C)C)C(Nc1ccccc1n3nc(c2ccccc2)cc3c4ccccc4)c5ccccc5',\n",
       " 'c7ccc(c6cc(c1ccccc1)n(c2ccccc2NC(c3ccccc3)P(c4ccccc4)c5ccccc5)n6)cc7',\n",
       " 'C4CCCCC4P(C1=CC=CC=C1C2=CC=CC=C2)C3CCCCC3',\n",
       " 'C1CCC(CC1)P(CCCCP(C2CCCCC2)C3CCCCC3)C4CCCCC4',\n",
       " '[Fe].[CH]1[CH][CH][C]([CH]1)P(c2ccccc2)c3ccccc3.[CH]4[CH][CH][C]([CH]4)P(c5ccccc5)c6ccccc6.P(C1CCCCC1)(C2CCCCC2)C3CCCCC3',\n",
       " 'P(c1ccccc1)(C2CCCCC2)C3CCCCC3',\n",
       " 'CC(O)c1ccccc1P(c2ccccc2)c3ccccc3',\n",
       " 'c2c[n+](C1CCCCC1)cn2C3CCCCC3.[Cl-]',\n",
       " 'O=[Mo](=O)([O-])O[Mo](=O)(=O)On1cc[n+](O[Mo](=O)(=O)O[Mo](=O)(=O)[O-])c1.[NH4+].[NH4+].F[B-](F)(F)F',\n",
       " 'CC(C)n1cc[n+](C(C)C)c1.[Cl-]',\n",
       " '[Br-].[Br-].Cn2cc[n+](C[n+]1ccn(C)c1)c2',\n",
       " '[Br-].[Br-].CC(C)n2cc[n+](C[n+]1ccn(C(C)C)c1)c2',\n",
       " '[Br-].[Br-].CC(C)(C)n2cc[n+](C[n+]1ccn(C(C)(C)C)c1)c2',\n",
       " '[Br-].[Br-].c3c[n+](C[n+]2ccn(C1CCCCC1)c2)cn3C4CCCCC4',\n",
       " 'C3CCC(P(C1CCCCC1)C2CCCCC2)CC3',\n",
       " 'CC(C)c5cc(C(C)C)c(c4cc(c1c(C(C)C)cc(C(C)C)cc1C(C)C)cc(P(C2CCCC2)C3CCCC3)c4)c(C(C)C)c5',\n",
       " 'C2=CN(C1CCCCC1)CN2C3CCCCC3',\n",
       " 'CC(C)(C)n2cc[n+](n1cc[n+](C(C)(C)C)c1)c2.[Br-].[Br-]',\n",
       " 'CC(C)c5cc(C(C)C)c(c4ccc(c1c(C(C)C)cc(C(C)C)cc1C(C)C)c(P(C2CCCC2)C3CCCC3)c4)c(C(C)C)c5',\n",
       " 'IC1CCCCC1']"
      ]
     },
     "execution_count": 19,
     "metadata": {},
     "output_type": "execute_result"
    }
   ],
   "source": [
    "smi_lig"
   ]
  },
  {
   "cell_type": "code",
   "execution_count": 20,
   "metadata": {},
   "outputs": [],
   "source": [
    "from rdkit import Chem"
   ]
  },
  {
   "cell_type": "code",
   "execution_count": 21,
   "metadata": {},
   "outputs": [
    {
     "data": {
      "image/png": "[encoded data removed]",
      "text/plain": [
       "<rdkit.Chem.rdchem.Mol at 0x12c7dbd60>"
      ]
     },
     "execution_count": 21,
     "metadata": {},
     "output_type": "execute_result"
    }
   ],
   "source": [
    "Chem.MolFromSmiles('CC(C)(C)N1C=CN(C1)C(C)(C)C')"
   ]
  },
  {
   "cell_type": "code",
   "execution_count": 22,
   "metadata": {},
   "outputs": [
    {
     "data": {
      "image/png": "[encoded data removed]",
      "text/plain": [
       "<rdkit.Chem.rdchem.Mol at 0x12c8d3820>"
      ]
     },
     "execution_count": 22,
     "metadata": {},
     "output_type": "execute_result"
    }
   ],
   "source": [
    "Chem.MolFromSmiles('O=[Mo](=O)([O-])O[Mo](=O)(=O)On1cc[n+](O[Mo](=O)(=O)O[Mo](=O)(=O)[O-])c1.[NH4+].[NH4+].F[B-](F)(F)F')"
   ]
  },
  {
   "cell_type": "code",
   "execution_count": null,
   "metadata": {},
   "outputs": [],
   "source": []
  }
 ],
 "metadata": {
  "kernelspec": {
   "display_name": "Python 3 (ipykernel)",
   "language": "python",
   "name": "python3"
  },
  "language_info": {
   "codemirror_mode": {
    "name": "ipython",
    "version": 3
   },
   "file_extension": ".py",
   "mimetype": "text/x-python",
   "name": "python",
   "nbconvert_exporter": "python",
   "pygments_lexer": "ipython3",
   "version": "3.9.7"
  }
 },
 "nbformat": 4,
 "nbformat_minor": 4
}
