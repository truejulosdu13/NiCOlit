{
 "cells": [
  {
   "cell_type": "markdown",
   "id": "6553ab92",
   "metadata": {},
   "source": [
    "# Trying to get descriptors for some molecules \n",
    "# Option 1 extract from the autoqchem database"
   ]
  },
  {
   "cell_type": "code",
   "execution_count": 1,
   "id": "29b8f970",
   "metadata": {},
   "outputs": [],
   "source": [
    "import pandas as pd\n",
    "#import re\n",
    "\n",
    "import sys\n",
    "sys.path.append('../')\n",
    "\n",
    "from aqc_utils.molecule import molecule\n",
    "from aqc_utils.db_functions import *\n",
    "from aqc_utils.openbabel_functions import *\n",
    "\n",
    "import hashlib\n",
    "import logging\n",
    "logging.basicConfig(level=logging.INFO)"
   ]
  },
  {
   "cell_type": "code",
   "execution_count": 4,
   "id": "ac1c0110",
   "metadata": {},
   "outputs": [],
   "source": [
    "mol_df = db_select_molecules(tags = ['JS_substrate', 'test_JulesSchleinitz'])"
   ]
  },
  {
   "cell_type": "code",
   "execution_count": 5,
   "id": "e7310449",
   "metadata": {},
   "outputs": [],
   "source": [
    "tags_coll = db_connect(\"tags\")\n",
    "mols_coll = db_connect(\"molecules\")\n",
    "log_files_coll = db_connect(\"log_files\")"
   ]
  },
  {
   "cell_type": "code",
   "execution_count": 6,
   "id": "a8138104",
   "metadata": {},
   "outputs": [],
   "source": [
    "# helper function to create file names the same way ACQ does\n",
    "def mol_fs_name(can):\n",
    "    mol = input_to_OBMol(can, \"string\", \"smi\")\n",
    "    return f\"{mol.GetFormula()}_{hashlib.md5(can.encode()).hexdigest()[:4]}\""
   ]
  },
  {
   "cell_type": "code",
   "execution_count": 7,
   "id": "eae44bb5",
   "metadata": {},
   "outputs": [],
   "source": [
    "# add fs_name to the table\n",
    "mol_df['file_base_name'] = mol_df['can'].map(mol_fs_name)"
   ]
  },
  {
   "cell_type": "code",
   "execution_count": 9,
   "id": "76dbddaa",
   "metadata": {},
   "outputs": [],
   "source": [
    "# get a cursor that iterates over the log files\n",
    "cursor = log_files_coll.find({'molecule_id' :{\"$in\": mol_df.molecule_id.tolist()}}, {'log':1, 'can':1})"
   ]
  },
  {
   "cell_type": "code",
   "execution_count": 10,
   "id": "6ebf3a00",
   "metadata": {},
   "outputs": [],
   "source": [
    "# path for file storage\n",
    "path = '/Users/julesschleinitz/Desktop/These/Projet_stage_M1_Max/Code/SM_DFT/DFT_for_SM/log_data'"
   ]
  },
  {
   "cell_type": "code",
   "execution_count": 24,
   "id": "cf01d49f",
   "metadata": {
    "scrolled": true
   },
   "outputs": [],
   "source": [
    "# dictionary to keep trach of conformer numbers\n",
    "m_dict = {m:0 for m in mol_df.can.tolist()}\n",
    "L = !ls {path}\n",
    "\n",
    "for l in cursor:\n",
    "    can, log = l['can'], l['log']\n",
    "    fs_name = mol_fs_name(can)  \n",
    "    \n",
    "    if \"{fs_name}_{m_dict[can]}.log\" not in L:\n",
    "        with open(f\"{path}/{fs_name}_{m_dict[can]}.log\", \"w\") as f:\n",
    "            f.write(log)\n",
    "    \n",
    "        m_dict[can] += 1"
   ]
  },
  {
   "cell_type": "code",
   "execution_count": 25,
   "id": "ad508555",
   "metadata": {},
   "outputs": [],
   "source": [
    "mol_df.drop(['molecule_id', '_ids'], axis=1).to_csv(f\"{path}/legend.csv\")"
   ]
  },
  {
   "cell_type": "code",
   "execution_count": 32,
   "id": "68e5940b",
   "metadata": {},
   "outputs": [
    {
     "name": "stderr",
     "output_type": "stream",
     "text": [
      "WARNING:aqc_utils.gaussian_log_extractor:Descriptor charge not present in the log file.\n"
     ]
    }
   ],
   "source": [
    "all_mol_dscptrs = []\n",
    "for file_name in mol_df.file_base_name.tolist():\n",
    "    log = str('../log_data/' + file_name + '_0.log')\n",
    "    extractor = gaussian_log_extractor(log)\n",
    "    extractor.__init__\n",
    "    mol_descriptors = extractor.get_descriptors()\n",
    "    all_mol_dscptrs.append(mol_descriptors)"
   ]
  },
  {
   "cell_type": "code",
   "execution_count": 44,
   "id": "d8d4cfb7",
   "metadata": {},
   "outputs": [],
   "source": [
    "mol_df[\"descriptors_full\"] = all_mol_dscptrs"
   ]
  },
  {
   "cell_type": "code",
   "execution_count": 48,
   "id": "95e710a7",
   "metadata": {},
   "outputs": [],
   "source": [
    "mol_df.to_csv('../data_csv/aqc_descriptors.csv')"
   ]
  }
 ],
 "metadata": {
  "kernelspec": {
   "display_name": "Python 3 (ipykernel)",
   "language": "python",
   "name": "python3"
  },
  "language_info": {
   "codemirror_mode": {
    "name": "ipython",
    "version": 3
   },
   "file_extension": ".py",
   "mimetype": "text/x-python",
   "name": "python",
   "nbconvert_exporter": "python",
   "pygments_lexer": "ipython3",
   "version": "3.9.7"
  }
 },
 "nbformat": 4,
 "nbformat_minor": 5
}
