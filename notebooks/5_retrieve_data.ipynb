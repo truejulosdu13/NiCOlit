{
 "cells": [
  {
   "cell_type": "markdown",
   "id": "aebf798c",
   "metadata": {},
   "source": [
    "# Import packages"
   ]
  },
  {
   "cell_type": "code",
   "execution_count": 1,
   "id": "e26f8afc",
   "metadata": {},
   "outputs": [],
   "source": [
    "import pandas as pd\n",
    "import re\n",
    "\n",
    "import sys\n",
    "sys.path.append('../')\n",
    "from aqc_utils.gaussian_log_extractor import *\n",
    "from aqc_utils.molecule import molecule\n",
    "from aqc_utils.slurm_manager import slurm_manager\n",
    "from aqc_utils.helper_classes import slurm_status\n",
    "\n",
    "import logging\n",
    "logging.basicConfig(level=logging.INFO)"
   ]
  },
  {
   "cell_type": "markdown",
   "id": "809ba5eb",
   "metadata": {},
   "source": [
    "# Objectif :\n",
    "definir une fonction qui permet de generer un dataframe ou d'updater un .csv avec les molecules calculées et toutes leurs caracteristiques"
   ]
  },
  {
   "cell_type": "markdown",
   "id": "d1569f9d",
   "metadata": {},
   "source": [
    "## First Step\n",
    "Recupérer les datas d'une molécule"
   ]
  },
  {
   "cell_type": "code",
   "execution_count": 2,
   "id": "41b771ca",
   "metadata": {},
   "outputs": [
    {
     "name": "stderr",
     "output_type": "stream",
     "text": [
      "INFO:aqc_utils.slurm_manager:Creating connection to hermite.chimie.ens.fr as jschleinitz\n",
      "INFO:paramiko.transport:Connected (version 2.0, client OpenSSH_8.2p1)\n",
      "INFO:paramiko.transport:Authentication (password) successful!\n",
      "INFO:aqc_utils.slurm_manager:Connected to hermite.chimie.ens.fr as jschleinitz is True.\n"
     ]
    }
   ],
   "source": [
    "sm=slurm_manager(user='jschleinitz', host='hermite.chimie.ens.fr')\n",
    "sm.connect()"
   ]
  },
  {
   "cell_type": "code",
   "execution_count": 3,
   "id": "4d6dc2aa",
   "metadata": {},
   "outputs": [
    {
     "data": {
      "text/html": [
       "<div>\n",
       "<style scoped>\n",
       "    .dataframe tbody tr th:only-of-type {\n",
       "        vertical-align: middle;\n",
       "    }\n",
       "\n",
       "    .dataframe tbody tr th {\n",
       "        vertical-align: top;\n",
       "    }\n",
       "\n",
       "    .dataframe thead th {\n",
       "        text-align: right;\n",
       "    }\n",
       "</style>\n",
       "<table border=\"1\" class=\"dataframe\">\n",
       "  <thead>\n",
       "    <tr style=\"text-align: right;\">\n",
       "      <th>status</th>\n",
       "      <th>done</th>\n",
       "      <th>submitted</th>\n",
       "    </tr>\n",
       "    <tr>\n",
       "      <th>can</th>\n",
       "      <th></th>\n",
       "      <th></th>\n",
       "    </tr>\n",
       "  </thead>\n",
       "  <tbody>\n",
       "    <tr>\n",
       "      <th>CC(Oc1ccc2c(c1)cccc2)C</th>\n",
       "      <td>0</td>\n",
       "      <td>1</td>\n",
       "    </tr>\n",
       "    <tr>\n",
       "      <th>CC([Si](Oc1ccc2c(c1)cccc2)(C)C)C</th>\n",
       "      <td>0</td>\n",
       "      <td>1</td>\n",
       "    </tr>\n",
       "    <tr>\n",
       "      <th>CCOc1ccc2c(c1)cccc2</th>\n",
       "      <td>0</td>\n",
       "      <td>1</td>\n",
       "    </tr>\n",
       "    <tr>\n",
       "      <th>CC[Si](Oc1ccc2c(c1)cccc2)(C)C</th>\n",
       "      <td>0</td>\n",
       "      <td>1</td>\n",
       "    </tr>\n",
       "    <tr>\n",
       "      <th>COc1ccc(cc1)C</th>\n",
       "      <td>1</td>\n",
       "      <td>0</td>\n",
       "    </tr>\n",
       "    <tr>\n",
       "      <th>COc1ccc(cc1)[C@@H](N(C)C)C</th>\n",
       "      <td>0</td>\n",
       "      <td>1</td>\n",
       "    </tr>\n",
       "    <tr>\n",
       "      <th>COc1ccc(cc1)[C@H](N(C)C)C</th>\n",
       "      <td>0</td>\n",
       "      <td>1</td>\n",
       "    </tr>\n",
       "    <tr>\n",
       "      <th>COc1ccc2c(c1)c1ccccc1n2C</th>\n",
       "      <td>0</td>\n",
       "      <td>1</td>\n",
       "    </tr>\n",
       "    <tr>\n",
       "      <th>COc1ccc2c(c1)cc(cc2)O</th>\n",
       "      <td>0</td>\n",
       "      <td>1</td>\n",
       "    </tr>\n",
       "    <tr>\n",
       "      <th>COc1ccc2c(c1)ccc(c2)N1CCCCC1</th>\n",
       "      <td>0</td>\n",
       "      <td>1</td>\n",
       "    </tr>\n",
       "    <tr>\n",
       "      <th>COc1ccc2c(c1)ccc(c2)[Si](C)(C)C</th>\n",
       "      <td>0</td>\n",
       "      <td>1</td>\n",
       "    </tr>\n",
       "    <tr>\n",
       "      <th>COc1ccc2c(c1)cccc2</th>\n",
       "      <td>1</td>\n",
       "      <td>0</td>\n",
       "    </tr>\n",
       "    <tr>\n",
       "      <th>COc1ccc2c(c1)ccn2C</th>\n",
       "      <td>0</td>\n",
       "      <td>1</td>\n",
       "    </tr>\n",
       "    <tr>\n",
       "      <th>COc1cccc2c1cccc2</th>\n",
       "      <td>0</td>\n",
       "      <td>1</td>\n",
       "    </tr>\n",
       "    <tr>\n",
       "      <th>C[Si](C(C)(C)C)(Oc1ccc2c(c1)cccc2)C</th>\n",
       "      <td>0</td>\n",
       "      <td>1</td>\n",
       "    </tr>\n",
       "    <tr>\n",
       "      <th>C[Si](Oc1ccc2c(c1)cccc2)(C)C</th>\n",
       "      <td>0</td>\n",
       "      <td>1</td>\n",
       "    </tr>\n",
       "    <tr>\n",
       "      <th>C[Si](c1ccccc1)(Oc1ccc2c(c1)cccc2)C</th>\n",
       "      <td>0</td>\n",
       "      <td>1</td>\n",
       "    </tr>\n",
       "    <tr>\n",
       "      <th>OCCc1ccc(cc1)OC</th>\n",
       "      <td>1</td>\n",
       "      <td>0</td>\n",
       "    </tr>\n",
       "    <tr>\n",
       "      <th>OCc1ccc(cc1)OC</th>\n",
       "      <td>1</td>\n",
       "      <td>0</td>\n",
       "    </tr>\n",
       "  </tbody>\n",
       "</table>\n",
       "</div>"
      ],
      "text/plain": [
       "status                               done  submitted\n",
       "can                                                 \n",
       "CC(Oc1ccc2c(c1)cccc2)C                  0          1\n",
       "CC([Si](Oc1ccc2c(c1)cccc2)(C)C)C        0          1\n",
       "CCOc1ccc2c(c1)cccc2                     0          1\n",
       "CC[Si](Oc1ccc2c(c1)cccc2)(C)C           0          1\n",
       "COc1ccc(cc1)C                           1          0\n",
       "COc1ccc(cc1)[C@@H](N(C)C)C              0          1\n",
       "COc1ccc(cc1)[C@H](N(C)C)C               0          1\n",
       "COc1ccc2c(c1)c1ccccc1n2C                0          1\n",
       "COc1ccc2c(c1)cc(cc2)O                   0          1\n",
       "COc1ccc2c(c1)ccc(c2)N1CCCCC1            0          1\n",
       "COc1ccc2c(c1)ccc(c2)[Si](C)(C)C         0          1\n",
       "COc1ccc2c(c1)cccc2                      1          0\n",
       "COc1ccc2c(c1)ccn2C                      0          1\n",
       "COc1cccc2c1cccc2                        0          1\n",
       "C[Si](C(C)(C)C)(Oc1ccc2c(c1)cccc2)C     0          1\n",
       "C[Si](Oc1ccc2c(c1)cccc2)(C)C            0          1\n",
       "C[Si](c1ccccc1)(Oc1ccc2c(c1)cccc2)C     0          1\n",
       "OCCc1ccc(cc1)OC                         1          0\n",
       "OCc1ccc(cc1)OC                          1          0"
      ]
     },
     "execution_count": 3,
     "metadata": {},
     "output_type": "execute_result"
    }
   ],
   "source": [
    "sm.get_job_stats(split_by_can=True)"
   ]
  },
  {
   "cell_type": "markdown",
   "id": "c7bd34e3",
   "metadata": {},
   "source": [
    "# It is very important here to update with a suited tag name the molecules !\n"
   ]
  },
  {
   "cell_type": "code",
   "execution_count": null,
   "id": "8dda80fb",
   "metadata": {},
   "outputs": [],
   "source": [
    "sm.upload_done_molecules_to_db(tags=\"JS_substrate\")"
   ]
  },
  {
   "cell_type": "code",
   "execution_count": null,
   "id": "81c6e986",
   "metadata": {},
   "outputs": [],
   "source": []
  }
 ],
 "metadata": {
  "kernelspec": {
   "display_name": "Python 3 (ipykernel)",
   "language": "python",
   "name": "python3"
  },
  "language_info": {
   "codemirror_mode": {
    "name": "ipython",
    "version": 3
   },
   "file_extension": ".py",
   "mimetype": "text/x-python",
   "name": "python",
   "nbconvert_exporter": "python",
   "pygments_lexer": "ipython3",
   "version": "3.9.7"
  }
 },
 "nbformat": 4,
 "nbformat_minor": 5
}
