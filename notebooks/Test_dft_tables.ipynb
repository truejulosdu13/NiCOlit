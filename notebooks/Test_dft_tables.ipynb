{
 "cells": [
  {
   "cell_type": "code",
   "execution_count": 59,
   "id": "a0ae7006",
   "metadata": {},
   "outputs": [],
   "source": [
    "import pandas as pd\n",
    "from rdkit import Chem\n",
    "from dft_descriptors import numbering_CO as nb\n",
    "import sys\n",
    "sys.path.append('../')"
   ]
  },
  {
   "cell_type": "code",
   "execution_count": 60,
   "id": "d8fc1c9d",
   "metadata": {},
   "outputs": [],
   "source": [
    "dft_ax = pd.read_csv('../data_csv/AX_dft.csv', sep = ',')\n",
    "num_ax = pd.read_csv('../data_csv/num_AX.csv', sep = ',')"
   ]
  },
  {
   "cell_type": "markdown",
   "id": "bf9ddbac",
   "metadata": {},
   "source": [
    "# test numerotation for C-H molecules where 0 was attributed to H atom"
   ]
  },
  {
   "cell_type": "code",
   "execution_count": 61,
   "id": "956aa647",
   "metadata": {},
   "outputs": [
    {
     "data": {
      "image/png": "[encoded data removed]",
      "text/plain": [
       "<rdkit.Chem.rdchem.Mol at 0x1225bae80>"
      ]
     },
     "execution_count": 61,
     "metadata": {},
     "output_type": "execute_result"
    }
   ],
   "source": [
    "smi = 'Cn1cnc2ccccc21'\n",
    "m = Chem.MolFromSmiles(smi)\n",
    "m"
   ]
  },
  {
   "cell_type": "code",
   "execution_count": 62,
   "id": "42d5bd14",
   "metadata": {},
   "outputs": [
    {
     "data": {
      "image/png": "[encoded data removed]",
      "text/plain": [
       "<rdkit.Chem.rdchem.Mol at 0x1218378e0>"
      ]
     },
     "execution_count": 62,
     "metadata": {},
     "output_type": "execute_result"
    }
   ],
   "source": [
    "m = Chem.rdmolops.AddHs(m)\n",
    "m = nb.mol_with_atom_index(m)\n",
    "m"
   ]
  },
  {
   "cell_type": "code",
   "execution_count": 63,
   "id": "9bd9501e",
   "metadata": {},
   "outputs": [
    {
     "data": {
      "text/plain": [
       "'C([n:1]1[c:2]([H:13])[n:3][c:4]2[c:5]([H:14])[c:6]([H:15])[c:7]([H:16])[c:8]([H:17])[c:9]12)([H:10])([H:11])[H:12]'"
      ]
     },
     "execution_count": 63,
     "metadata": {},
     "output_type": "execute_result"
    }
   ],
   "source": [
    "Chem.MolToSmiles(m)"
   ]
  },
  {
   "cell_type": "code",
   "execution_count": 64,
   "id": "a6ad9f18",
   "metadata": {},
   "outputs": [],
   "source": [
    "dft_ax[\"can_rdkit\"] = [Chem.CanonSmiles(smi) for smi in dft_ax[\"Unnamed: 0\"]]"
   ]
  },
  {
   "cell_type": "code",
   "execution_count": 65,
   "id": "8fdbdb43",
   "metadata": {},
   "outputs": [
    {
     "data": {
      "text/html": [
       "<div>\n",
       "<style scoped>\n",
       "    .dataframe tbody tr th:only-of-type {\n",
       "        vertical-align: middle;\n",
       "    }\n",
       "\n",
       "    .dataframe tbody tr th {\n",
       "        vertical-align: top;\n",
       "    }\n",
       "\n",
       "    .dataframe thead th {\n",
       "        text-align: right;\n",
       "    }\n",
       "</style>\n",
       "<table border=\"1\" class=\"dataframe\">\n",
       "  <thead>\n",
       "    <tr style=\"text-align: right;\">\n",
       "      <th></th>\n",
       "      <th>Unnamed: 0</th>\n",
       "      <th>number_of_atoms</th>\n",
       "      <th>charge</th>\n",
       "      <th>multiplicity</th>\n",
       "      <th>dipole</th>\n",
       "      <th>molar_mass</th>\n",
       "      <th>molar_volume</th>\n",
       "      <th>electronic_spatial_extent</th>\n",
       "      <th>E_scf</th>\n",
       "      <th>zero_point_correction</th>\n",
       "      <th>...</th>\n",
       "      <th>ES_&lt;S**2&gt;_5</th>\n",
       "      <th>ES_&lt;S**2&gt;_6</th>\n",
       "      <th>ES_&lt;S**2&gt;_7</th>\n",
       "      <th>ES_&lt;S**2&gt;_8</th>\n",
       "      <th>ES_&lt;S**2&gt;_9</th>\n",
       "      <th>at_0</th>\n",
       "      <th>at_1</th>\n",
       "      <th>at_2</th>\n",
       "      <th>at_3</th>\n",
       "      <th>can_rdkit</th>\n",
       "    </tr>\n",
       "  </thead>\n",
       "  <tbody>\n",
       "    <tr>\n",
       "      <th>93</th>\n",
       "      <td>Cn1cnc2c1cccc2</td>\n",
       "      <td>18</td>\n",
       "      <td>0</td>\n",
       "      <td>1</td>\n",
       "      <td>3.7289</td>\n",
       "      <td>132.1646</td>\n",
       "      <td>1237.719</td>\n",
       "      <td>1281.9835</td>\n",
       "      <td>-419.176441</td>\n",
       "      <td>0.14675</td>\n",
       "      <td>...</td>\n",
       "      <td>0.0</td>\n",
       "      <td>0.0</td>\n",
       "      <td>0.0</td>\n",
       "      <td>0.0</td>\n",
       "      <td>0.0</td>\n",
       "      <td>C</td>\n",
       "      <td>N</td>\n",
       "      <td>N</td>\n",
       "      <td>C</td>\n",
       "      <td>Cn1cnc2ccccc21</td>\n",
       "    </tr>\n",
       "  </tbody>\n",
       "</table>\n",
       "<p>1 rows × 137 columns</p>\n",
       "</div>"
      ],
      "text/plain": [
       "        Unnamed: 0  number_of_atoms  charge  multiplicity  dipole  molar_mass  \\\n",
       "93  Cn1cnc2c1cccc2               18       0             1  3.7289    132.1646   \n",
       "\n",
       "    molar_volume  electronic_spatial_extent       E_scf  \\\n",
       "93      1237.719                  1281.9835 -419.176441   \n",
       "\n",
       "    zero_point_correction  ...  ES_<S**2>_5  ES_<S**2>_6  ES_<S**2>_7  \\\n",
       "93                0.14675  ...          0.0          0.0          0.0   \n",
       "\n",
       "    ES_<S**2>_8  ES_<S**2>_9  at_0  at_1 at_2  at_3       can_rdkit  \n",
       "93          0.0          0.0     C     N    N     C  Cn1cnc2ccccc21  \n",
       "\n",
       "[1 rows x 137 columns]"
      ]
     },
     "execution_count": 65,
     "metadata": {},
     "output_type": "execute_result"
    }
   ],
   "source": [
    "dft_ax[dft_ax[\"can_rdkit\"] == smi]"
   ]
  },
  {
   "cell_type": "code",
   "execution_count": 66,
   "id": "a56c55d5",
   "metadata": {},
   "outputs": [
    {
     "data": {
      "text/html": [
       "<div>\n",
       "<style scoped>\n",
       "    .dataframe tbody tr th:only-of-type {\n",
       "        vertical-align: middle;\n",
       "    }\n",
       "\n",
       "    .dataframe tbody tr th {\n",
       "        vertical-align: top;\n",
       "    }\n",
       "\n",
       "    .dataframe thead th {\n",
       "        text-align: right;\n",
       "    }\n",
       "</style>\n",
       "<table border=\"1\" class=\"dataframe\">\n",
       "  <thead>\n",
       "    <tr style=\"text-align: right;\">\n",
       "      <th></th>\n",
       "      <th>Unnamed: 0</th>\n",
       "      <th>number_of_atoms</th>\n",
       "      <th>charge</th>\n",
       "      <th>multiplicity</th>\n",
       "      <th>dipole</th>\n",
       "      <th>molar_mass</th>\n",
       "      <th>molar_volume</th>\n",
       "      <th>electronic_spatial_extent</th>\n",
       "      <th>E_scf</th>\n",
       "      <th>zero_point_correction</th>\n",
       "      <th>...</th>\n",
       "      <th>ES_&lt;S**2&gt;_5</th>\n",
       "      <th>ES_&lt;S**2&gt;_6</th>\n",
       "      <th>ES_&lt;S**2&gt;_7</th>\n",
       "      <th>ES_&lt;S**2&gt;_8</th>\n",
       "      <th>ES_&lt;S**2&gt;_9</th>\n",
       "      <th>at_0</th>\n",
       "      <th>at_1</th>\n",
       "      <th>at_2</th>\n",
       "      <th>at_3</th>\n",
       "      <th>can_rdkit</th>\n",
       "    </tr>\n",
       "  </thead>\n",
       "  <tbody>\n",
       "    <tr>\n",
       "      <th>0</th>\n",
       "      <td>COc1ccc(cc1)C(=O)C</td>\n",
       "      <td>21</td>\n",
       "      <td>0</td>\n",
       "      <td>1</td>\n",
       "      <td>3.0599</td>\n",
       "      <td>150.1768</td>\n",
       "      <td>1505.751</td>\n",
       "      <td>2221.1642</td>\n",
       "      <td>-499.418588</td>\n",
       "      <td>0.171260</td>\n",
       "      <td>...</td>\n",
       "      <td>0.0</td>\n",
       "      <td>0.0</td>\n",
       "      <td>0.0</td>\n",
       "      <td>0.0</td>\n",
       "      <td>0.0</td>\n",
       "      <td>C</td>\n",
       "      <td>C</td>\n",
       "      <td>C</td>\n",
       "      <td>O</td>\n",
       "      <td>COc1ccc(C(C)=O)cc1</td>\n",
       "    </tr>\n",
       "    <tr>\n",
       "      <th>1</th>\n",
       "      <td>Br[Mg]C(C)C</td>\n",
       "      <td>12</td>\n",
       "      <td>0</td>\n",
       "      <td>1</td>\n",
       "      <td>5.2466</td>\n",
       "      <td>147.2973</td>\n",
       "      <td>854.939</td>\n",
       "      <td>1380.6843</td>\n",
       "      <td>-2890.365925</td>\n",
       "      <td>0.093924</td>\n",
       "      <td>...</td>\n",
       "      <td>0.0</td>\n",
       "      <td>0.0</td>\n",
       "      <td>0.0</td>\n",
       "      <td>0.0</td>\n",
       "      <td>0.0</td>\n",
       "      <td>Mg</td>\n",
       "      <td>C</td>\n",
       "      <td>C</td>\n",
       "      <td>C</td>\n",
       "      <td>CC(C)[Mg]Br</td>\n",
       "    </tr>\n",
       "    <tr>\n",
       "      <th>2</th>\n",
       "      <td>Br[Mg]C=C</td>\n",
       "      <td>7</td>\n",
       "      <td>0</td>\n",
       "      <td>1</td>\n",
       "      <td>3.1683</td>\n",
       "      <td>131.2547</td>\n",
       "      <td>916.026</td>\n",
       "      <td>1207.3757</td>\n",
       "      <td>-2849.842700</td>\n",
       "      <td>0.042202</td>\n",
       "      <td>...</td>\n",
       "      <td>0.0</td>\n",
       "      <td>0.0</td>\n",
       "      <td>0.0</td>\n",
       "      <td>0.0</td>\n",
       "      <td>0.0</td>\n",
       "      <td>Mg</td>\n",
       "      <td>C</td>\n",
       "      <td>C</td>\n",
       "      <td>Br</td>\n",
       "      <td>C=C[Mg]Br</td>\n",
       "    </tr>\n",
       "    <tr>\n",
       "      <th>3</th>\n",
       "      <td>Br[Mg]CC(C)C</td>\n",
       "      <td>15</td>\n",
       "      <td>0</td>\n",
       "      <td>1</td>\n",
       "      <td>5.4824</td>\n",
       "      <td>161.3241</td>\n",
       "      <td>1376.118</td>\n",
       "      <td>2097.3379</td>\n",
       "      <td>-2929.685730</td>\n",
       "      <td>0.122111</td>\n",
       "      <td>...</td>\n",
       "      <td>0.0</td>\n",
       "      <td>0.0</td>\n",
       "      <td>0.0</td>\n",
       "      <td>0.0</td>\n",
       "      <td>0.0</td>\n",
       "      <td>Mg</td>\n",
       "      <td>C</td>\n",
       "      <td>C</td>\n",
       "      <td>C</td>\n",
       "      <td>CC(C)C[Mg]Br</td>\n",
       "    </tr>\n",
       "    <tr>\n",
       "      <th>4</th>\n",
       "      <td>Br[Mg]C[Si](C)(C)C</td>\n",
       "      <td>18</td>\n",
       "      <td>0</td>\n",
       "      <td>1</td>\n",
       "      <td>5.2738</td>\n",
       "      <td>191.4254</td>\n",
       "      <td>1308.867</td>\n",
       "      <td>3013.4700</td>\n",
       "      <td>-3220.424640</td>\n",
       "      <td>0.138794</td>\n",
       "      <td>...</td>\n",
       "      <td>0.0</td>\n",
       "      <td>0.0</td>\n",
       "      <td>0.0</td>\n",
       "      <td>0.0</td>\n",
       "      <td>0.0</td>\n",
       "      <td>Mg</td>\n",
       "      <td>C</td>\n",
       "      <td>Si</td>\n",
       "      <td>C</td>\n",
       "      <td>C[Si](C)(C)C[Mg]Br</td>\n",
       "    </tr>\n",
       "    <tr>\n",
       "      <th>...</th>\n",
       "      <td>...</td>\n",
       "      <td>...</td>\n",
       "      <td>...</td>\n",
       "      <td>...</td>\n",
       "      <td>...</td>\n",
       "      <td>...</td>\n",
       "      <td>...</td>\n",
       "      <td>...</td>\n",
       "      <td>...</td>\n",
       "      <td>...</td>\n",
       "      <td>...</td>\n",
       "      <td>...</td>\n",
       "      <td>...</td>\n",
       "      <td>...</td>\n",
       "      <td>...</td>\n",
       "      <td>...</td>\n",
       "      <td>...</td>\n",
       "      <td>...</td>\n",
       "      <td>...</td>\n",
       "      <td>...</td>\n",
       "      <td>...</td>\n",
       "    </tr>\n",
       "    <tr>\n",
       "      <th>232</th>\n",
       "      <td>CCO[Si](c1cccc2c1cccc2)(OCC)OCC</td>\n",
       "      <td>42</td>\n",
       "      <td>0</td>\n",
       "      <td>1</td>\n",
       "      <td>1.2077</td>\n",
       "      <td>290.4335</td>\n",
       "      <td>2576.354</td>\n",
       "      <td>6430.2432</td>\n",
       "      <td>-1138.257683</td>\n",
       "      <td>0.353405</td>\n",
       "      <td>...</td>\n",
       "      <td>0.0</td>\n",
       "      <td>0.0</td>\n",
       "      <td>0.0</td>\n",
       "      <td>0.0</td>\n",
       "      <td>0.0</td>\n",
       "      <td>Si</td>\n",
       "      <td>C</td>\n",
       "      <td>C</td>\n",
       "      <td>C</td>\n",
       "      <td>CCO[Si](OCC)(OCC)c1cccc2ccccc12</td>\n",
       "    </tr>\n",
       "    <tr>\n",
       "      <th>233</th>\n",
       "      <td>C[Si](c1ccccc1)(O)C</td>\n",
       "      <td>22</td>\n",
       "      <td>0</td>\n",
       "      <td>1</td>\n",
       "      <td>1.2211</td>\n",
       "      <td>152.2677</td>\n",
       "      <td>1605.114</td>\n",
       "      <td>1905.7857</td>\n",
       "      <td>-676.863394</td>\n",
       "      <td>0.179804</td>\n",
       "      <td>...</td>\n",
       "      <td>0.0</td>\n",
       "      <td>0.0</td>\n",
       "      <td>0.0</td>\n",
       "      <td>0.0</td>\n",
       "      <td>0.0</td>\n",
       "      <td>Si</td>\n",
       "      <td>C</td>\n",
       "      <td>C</td>\n",
       "      <td>C</td>\n",
       "      <td>C[Si](C)(O)c1ccccc1</td>\n",
       "    </tr>\n",
       "    <tr>\n",
       "      <th>234</th>\n",
       "      <td>FC(c1ccc(cc1)B1OCC(CO1)(C)C)(F)F</td>\n",
       "      <td>32</td>\n",
       "      <td>0</td>\n",
       "      <td>1</td>\n",
       "      <td>3.1754</td>\n",
       "      <td>258.0466</td>\n",
       "      <td>2036.097</td>\n",
       "      <td>7146.3166</td>\n",
       "      <td>-940.613735</td>\n",
       "      <td>0.251791</td>\n",
       "      <td>...</td>\n",
       "      <td>0.0</td>\n",
       "      <td>0.0</td>\n",
       "      <td>0.0</td>\n",
       "      <td>0.0</td>\n",
       "      <td>0.0</td>\n",
       "      <td>B</td>\n",
       "      <td>C</td>\n",
       "      <td>C</td>\n",
       "      <td>C</td>\n",
       "      <td>CC1(C)COB(c2ccc(C(F)(F)F)cc2)OC1</td>\n",
       "    </tr>\n",
       "    <tr>\n",
       "      <th>235</th>\n",
       "      <td>c1ccc(cc1)[Al](c1ccccc1)c1ccccc1</td>\n",
       "      <td>34</td>\n",
       "      <td>0</td>\n",
       "      <td>1</td>\n",
       "      <td>1.1551</td>\n",
       "      <td>258.2980</td>\n",
       "      <td>2114.005</td>\n",
       "      <td>6145.3336</td>\n",
       "      <td>-937.370372</td>\n",
       "      <td>0.272329</td>\n",
       "      <td>...</td>\n",
       "      <td>0.0</td>\n",
       "      <td>0.0</td>\n",
       "      <td>0.0</td>\n",
       "      <td>0.0</td>\n",
       "      <td>0.0</td>\n",
       "      <td>Al</td>\n",
       "      <td>C</td>\n",
       "      <td>C</td>\n",
       "      <td>C</td>\n",
       "      <td>c1ccc([Al](c2ccccc2)c2ccccc2)cc1</td>\n",
       "    </tr>\n",
       "    <tr>\n",
       "      <th>236</th>\n",
       "      <td>OB(c1cccc(c1)C(F)(F)F)O</td>\n",
       "      <td>19</td>\n",
       "      <td>0</td>\n",
       "      <td>1</td>\n",
       "      <td>2.1928</td>\n",
       "      <td>189.9284</td>\n",
       "      <td>1110.287</td>\n",
       "      <td>11314.4353</td>\n",
       "      <td>-745.253399</td>\n",
       "      <td>0.129703</td>\n",
       "      <td>...</td>\n",
       "      <td>0.0</td>\n",
       "      <td>0.0</td>\n",
       "      <td>0.0</td>\n",
       "      <td>0.0</td>\n",
       "      <td>0.0</td>\n",
       "      <td>B</td>\n",
       "      <td>C</td>\n",
       "      <td>C</td>\n",
       "      <td>C</td>\n",
       "      <td>OB(O)c1cccc(C(F)(F)F)c1</td>\n",
       "    </tr>\n",
       "  </tbody>\n",
       "</table>\n",
       "<p>237 rows × 137 columns</p>\n",
       "</div>"
      ],
      "text/plain": [
       "                           Unnamed: 0  number_of_atoms  charge  multiplicity  \\\n",
       "0                  COc1ccc(cc1)C(=O)C               21       0             1   \n",
       "1                         Br[Mg]C(C)C               12       0             1   \n",
       "2                           Br[Mg]C=C                7       0             1   \n",
       "3                        Br[Mg]CC(C)C               15       0             1   \n",
       "4                  Br[Mg]C[Si](C)(C)C               18       0             1   \n",
       "..                                ...              ...     ...           ...   \n",
       "232   CCO[Si](c1cccc2c1cccc2)(OCC)OCC               42       0             1   \n",
       "233               C[Si](c1ccccc1)(O)C               22       0             1   \n",
       "234  FC(c1ccc(cc1)B1OCC(CO1)(C)C)(F)F               32       0             1   \n",
       "235  c1ccc(cc1)[Al](c1ccccc1)c1ccccc1               34       0             1   \n",
       "236           OB(c1cccc(c1)C(F)(F)F)O               19       0             1   \n",
       "\n",
       "     dipole  molar_mass  molar_volume  electronic_spatial_extent        E_scf  \\\n",
       "0    3.0599    150.1768      1505.751                  2221.1642  -499.418588   \n",
       "1    5.2466    147.2973       854.939                  1380.6843 -2890.365925   \n",
       "2    3.1683    131.2547       916.026                  1207.3757 -2849.842700   \n",
       "3    5.4824    161.3241      1376.118                  2097.3379 -2929.685730   \n",
       "4    5.2738    191.4254      1308.867                  3013.4700 -3220.424640   \n",
       "..      ...         ...           ...                        ...          ...   \n",
       "232  1.2077    290.4335      2576.354                  6430.2432 -1138.257683   \n",
       "233  1.2211    152.2677      1605.114                  1905.7857  -676.863394   \n",
       "234  3.1754    258.0466      2036.097                  7146.3166  -940.613735   \n",
       "235  1.1551    258.2980      2114.005                  6145.3336  -937.370372   \n",
       "236  2.1928    189.9284      1110.287                 11314.4353  -745.253399   \n",
       "\n",
       "     zero_point_correction  ...  ES_<S**2>_5  ES_<S**2>_6  ES_<S**2>_7  \\\n",
       "0                 0.171260  ...          0.0          0.0          0.0   \n",
       "1                 0.093924  ...          0.0          0.0          0.0   \n",
       "2                 0.042202  ...          0.0          0.0          0.0   \n",
       "3                 0.122111  ...          0.0          0.0          0.0   \n",
       "4                 0.138794  ...          0.0          0.0          0.0   \n",
       "..                     ...  ...          ...          ...          ...   \n",
       "232               0.353405  ...          0.0          0.0          0.0   \n",
       "233               0.179804  ...          0.0          0.0          0.0   \n",
       "234               0.251791  ...          0.0          0.0          0.0   \n",
       "235               0.272329  ...          0.0          0.0          0.0   \n",
       "236               0.129703  ...          0.0          0.0          0.0   \n",
       "\n",
       "     ES_<S**2>_8  ES_<S**2>_9  at_0  at_1 at_2  at_3  \\\n",
       "0            0.0          0.0     C     C    C     O   \n",
       "1            0.0          0.0    Mg     C    C     C   \n",
       "2            0.0          0.0    Mg     C    C    Br   \n",
       "3            0.0          0.0    Mg     C    C     C   \n",
       "4            0.0          0.0    Mg     C   Si     C   \n",
       "..           ...          ...   ...   ...  ...   ...   \n",
       "232          0.0          0.0    Si     C    C     C   \n",
       "233          0.0          0.0    Si     C    C     C   \n",
       "234          0.0          0.0     B     C    C     C   \n",
       "235          0.0          0.0    Al     C    C     C   \n",
       "236          0.0          0.0     B     C    C     C   \n",
       "\n",
       "                            can_rdkit  \n",
       "0                  COc1ccc(C(C)=O)cc1  \n",
       "1                         CC(C)[Mg]Br  \n",
       "2                           C=C[Mg]Br  \n",
       "3                        CC(C)C[Mg]Br  \n",
       "4                  C[Si](C)(C)C[Mg]Br  \n",
       "..                                ...  \n",
       "232   CCO[Si](OCC)(OCC)c1cccc2ccccc12  \n",
       "233               C[Si](C)(O)c1ccccc1  \n",
       "234  CC1(C)COB(c2ccc(C(F)(F)F)cc2)OC1  \n",
       "235  c1ccc([Al](c2ccccc2)c2ccccc2)cc1  \n",
       "236           OB(O)c1cccc(C(F)(F)F)c1  \n",
       "\n",
       "[237 rows x 137 columns]"
      ]
     },
     "execution_count": 66,
     "metadata": {},
     "output_type": "execute_result"
    }
   ],
   "source": [
    "dft_ax"
   ]
  },
  {
   "cell_type": "code",
   "execution_count": 409,
   "id": "1bd3c933",
   "metadata": {},
   "outputs": [],
   "source": [
    "# return smi_shared and smi_obabel for smi from dataframe\n",
    "def get_smis(smi, obabel_df, num_df):\n",
    "    smi_obabel = list(obabel_df[\"can\"])[list(obabel_df[\"can_rdkit\"]).index(Chem.CanonSmiles(smi))]\n",
    "    smi_shared = list(num_df[\"C0C7_num\"])[list(num_df[\"react\"]).index(Chem.CanonSmiles(smi))]\n",
    "    return smi_obabel, smi_shared\n",
    "\n",
    "# returns the indexes of the autqchem atoms to extract for CO substrates\n",
    "def shared_to_obabel_idx(smi_shared, smi_obabel, parameter):\n",
    "    s_t_r = shared_to_rdkit_can(smi_shared)\n",
    "    r_t_o = rdkit_to_obabel_can(smi_obabel)\n",
    "    s_t_o = []\n",
    "    if parameter == 'substrate':\n",
    "        for i in range(8):\n",
    "            idx_rdkit = s_t_r[i][1]\n",
    "            idx_obabel = r_t_o[idx_rdkit][1]\n",
    "            #couple = (i, idx_obabel)\n",
    "            s_t_o.append(idx_obabel)\n",
    "            \n",
    "    elif parameter == 'ligand':\n",
    "        if smi_L_type(smi_obabel) == 'NHC':\n",
    "            for i in range(7):\n",
    "                idx_rdkit = s_t_r[i][1]\n",
    "                idx_obabel = r_t_o[idx_rdkit][1]\n",
    "                #couple = (i, idx_obabel)\n",
    "                s_t_o.append(idx_obabel)\n",
    "            idx_rdkit = s_t_r[8][1]\n",
    "            idx_obabel = r_t_o[idx_rdkit][1]\n",
    "            s_t_o.append(idx_obabel)\n",
    "        elif smi_L_type(smi_obabel) == 'Phos':\n",
    "            for i in range(4):\n",
    "                idx_rdkit = s_t_r[i][1]\n",
    "                idx_obabel = r_t_o[idx_rdkit][1]\n",
    "                #couple = (i, idx_obabel)\n",
    "                s_t_o.append(idx_obabel)\n",
    "                s_t_o.append(idx_obabel)\n",
    "        elif smi_L_type(smi_obabel) == 'DiPhos':\n",
    "            for i in range(8):\n",
    "                idx_rdkit = s_t_r[i][1]\n",
    "                idx_obabel = r_t_o[idx_rdkit][1]\n",
    "                #couple = (i, idx_obabel)\n",
    "                s_t_o.append(idx_obabel)\n",
    "        else:\n",
    "            s_t_o = [i for i in range(8)]\n",
    "            \n",
    "    elif parameter == 'AX':\n",
    "        if min([s_t_r[i][0] for i in range(len(s_t_r))]) == 0:\n",
    "            for i in range(min(4, len(s_t_r))):\n",
    "                idx_rdkit = s_t_r[i][1]\n",
    "                idx_obabel = r_t_o[idx_rdkit][1]\n",
    "                #couple = (i, idx_obabel)\n",
    "                s_t_o.append(idx_obabel)\n",
    "                n_f = i\n",
    "            if n_f < 3:\n",
    "                for j in range(n_f, 4):\n",
    "                    idx_rdkit = s_t_r[n_f][1]\n",
    "                    idx_obabel = r_t_o[idx_rdkit][1]\n",
    "                    s_t_o.append(idx_obabel)\n",
    "                    \n",
    "        # to do = find H index in obabel smile\n",
    "        \n",
    "        else:\n",
    "            for i in range(min(3, len(s_t_r))):\n",
    "                idx_rdkit = s_t_r[i][1]\n",
    "                idx_obabel = r_t_o[idx_rdkit][1]\n",
    "                #couple = (i, idx_obabel)\n",
    "                s_t_o.append(idx_obabel)\n",
    "                n_f = i\n",
    "            if n_f < 2:\n",
    "                for j in range(n_f, 3):\n",
    "                    idx_rdkit = s_t_r[n_f][1]\n",
    "                    idx_obabel = r_t_o[idx_rdkit][1]\n",
    "                    s_t_o.append(idx_obabel)\n",
    "                       \n",
    "    return s_t_o\n",
    "\n",
    "def shared_to_rdkit_can(smi_shared):\n",
    "    atmaptidx = [] \n",
    "    m = Chem.MolFromSmiles(smi_shared, Chem.rdmolops.AddHs==True)\n",
    "    m = num_AddHs(m)\n",
    "    for a in m.GetAtoms():\n",
    "        a.SetProp(\"foo\", str(a.GetAtomMapNum()))\n",
    "    remove_at_map(m)\n",
    "    # get the atoms in the smiles string order\n",
    "    order = m.GetPropsAsDict(True,True)[\"_smilesAtomOutputOrder\"]\n",
    "    # print(\"canonical order:\", list(order))\n",
    "    m_canonical = Chem.RenumberAtoms(m, order)\n",
    "    for a in m_canonical.GetAtoms():\n",
    "        atmaptidx.append((int(a.GetProp(\"foo\")), a.GetIdx()))\n",
    "    atmaptidx.sort(key=takeFirst)\n",
    "    return atmaptidx\n",
    "\n",
    "def rdkit_to_obabel_can(smi_obabel):\n",
    "    atmaptidx = [] \n",
    "    m = nb.mol_with_atom_index(Chem.MolFromSmiles(smi_obabel))\n",
    "    m = Chem.rdmolops.AddHs(m)\n",
    "    m = nb.mol_with_atom_index(m)\n",
    "    \n",
    "    for a in m.GetAtoms():\n",
    "        a.SetProp(\"foo\", str(a.GetIdx()))\n",
    "    remove_at_map(m)\n",
    "    # get the atoms in the smiles string order\n",
    "    order = m.GetPropsAsDict(True,True)[\"_smilesAtomOutputOrder\"]\n",
    "    # print(\"canonical order:\", list(order))\n",
    "    m_canonical = Chem.RenumberAtoms(m, order)\n",
    "    for a in m_canonical.GetAtoms():\n",
    "        atmaptidx.append((a.GetIdx(), int(a.GetProp(\"foo\"))))\n",
    "    return atmaptidx\n",
    "\n",
    "def num_AddHs(m):\n",
    "    # put AtomMapNum 1000 on element numbered 0\n",
    "    for at in m.GetAtoms():\n",
    "        if at.GetAtomMapNum() == 0:\n",
    "            at.SetAtomMapNum(1000)\n",
    "            \n",
    "    # Add missing Hs to the molecule\n",
    "    m = Chem.rdmolops.AddHs(m)\n",
    "    list_idx = [at.GetAtomMapNum() for at in m.GetAtoms()]\n",
    "    list_idx.remove(1000)\n",
    "    \n",
    "    # number by order the missing H\n",
    "    for at in m.GetAtoms():\n",
    "        if at.GetAtomMapNum() == 0:\n",
    "            nb.reset_atom_map(m, max(list_idx)+1)\n",
    "            at.SetAtomMapNum(max(list_idx)+1)\n",
    "            list_idx.append(max(list_idx)+1)\n",
    "    \n",
    "    # set back to 0 the AtomMap of element number 1000\n",
    "    for at in m.GetAtoms():\n",
    "        if at.GetAtomMapNum() == 1000:\n",
    "            nb.reset_atom_map(m, 0)\n",
    "            at.SetAtomMapNum(0)  \n",
    "            \n",
    "    return m\n",
    "\n",
    "def remove_at_map(mol):\n",
    "    for at in mol.GetAtoms():\n",
    "        at.SetAtomMapNum(0)\n",
    "    return Chem.MolFromSmiles(Chem.MolToSmiles(mol), Chem.rdmolops.AddHs==True)\n",
    "\n",
    "def takeFirst(elem):\n",
    "    return elem[0]"
   ]
  },
  {
   "cell_type": "code",
   "execution_count": 410,
   "id": "980cd8ae",
   "metadata": {},
   "outputs": [
    {
     "name": "stdout",
     "output_type": "stream",
     "text": [
      "Cn1cnc2c1cccc2\n",
      "[c:1]([H:0])1[n:2]([CH3:11])[c:5]2[c:4]([n:3]1)[cH:12][cH:6][cH:7][cH:8]2\n"
     ]
    }
   ],
   "source": [
    "# example 1\n",
    "\n",
    "smi = Chem.CanonSmiles('Cn1cnc2ccccc21')\n",
    "smi_obabel = list(dft_ax[\"Unnamed: 0\"])[list(dft_ax[\"can_rdkit\"]).index(Chem.CanonSmiles(smi))]\n",
    "print(smi_obabel)\n",
    "smi_shared = list(num_ax[\"C0C7_num\"])[list(num_ax[\"react\"]).index(Chem.CanonSmiles(smi))]\n",
    "print(smi_shared)\n",
    "parameter = 'AX'"
   ]
  },
  {
   "cell_type": "code",
   "execution_count": 343,
   "id": "a4526df7",
   "metadata": {},
   "outputs": [
    {
     "name": "stdout",
     "output_type": "stream",
     "text": [
      "Br[Mg]C(C)C\n",
      "[CH3:3][CH:1]([CH3:2])[Mg:0][Br:4]\n"
     ]
    }
   ],
   "source": [
    "# example 2\n",
    "\n",
    "smi = Chem.CanonSmiles('Br[Mg]C(C)C')\n",
    "smi_obabel = list(dft_ax[\"Unnamed: 0\"])[list(dft_ax[\"can_rdkit\"]).index(Chem.CanonSmiles(smi))]\n",
    "print(smi_obabel)\n",
    "smi_shared = list(num_ax[\"C0C7_num\"])[list(num_ax[\"react\"]).index(Chem.CanonSmiles(smi))]\n",
    "print(smi_shared)\n",
    "parameter = 'AX'"
   ]
  },
  {
   "cell_type": "code",
   "execution_count": 416,
   "id": "b698bf1c",
   "metadata": {},
   "outputs": [
    {
     "data": {
      "image/png": "[encoded data removed]",
      "text/plain": [
       "<rdkit.Chem.rdchem.Mol at 0x120ac35e0>"
      ]
     },
     "execution_count": 416,
     "metadata": {},
     "output_type": "execute_result"
    }
   ],
   "source": [
    "nb.mol_with_atom_index(Chem.rdmolops.AddHs(Chem.MolFromSmiles(smi_obabel)))"
   ]
  },
  {
   "cell_type": "code",
   "execution_count": 412,
   "id": "02d8a4bc",
   "metadata": {},
   "outputs": [
    {
     "data": {
      "image/png": "[encoded data removed]",
      "text/plain": [
       "<rdkit.Chem.rdchem.Mol at 0x120ac3f40>"
      ]
     },
     "execution_count": 412,
     "metadata": {},
     "output_type": "execute_result"
    }
   ],
   "source": [
    "nb.mol_with_atom_num(Chem.MolFromSmiles(smi_shared, Chem.rdmolops.AddHs==True))"
   ]
  },
  {
   "cell_type": "code",
   "execution_count": 413,
   "id": "4c176dc5",
   "metadata": {},
   "outputs": [
    {
     "data": {
      "image/png": "[encoded data removed]",
      "text/plain": [
       "<rdkit.Chem.rdchem.Mol at 0x1216c9b20>"
      ]
     },
     "execution_count": 413,
     "metadata": {},
     "output_type": "execute_result"
    }
   ],
   "source": [
    "nb.mol_with_atom_index(Chem.MolFromSmiles(smi_shared, Chem.rdmolops.AddHs==True))"
   ]
  },
  {
   "cell_type": "code",
   "execution_count": 414,
   "id": "98d5bffc",
   "metadata": {},
   "outputs": [
    {
     "name": "stdout",
     "output_type": "stream",
     "text": [
      "1\n",
      "C\n",
      "0\n",
      "H\n",
      "2\n",
      "N\n",
      "11\n",
      "C\n",
      "5\n",
      "C\n",
      "4\n",
      "C\n",
      "3\n",
      "N\n",
      "12\n",
      "C\n",
      "6\n",
      "C\n",
      "7\n",
      "C\n",
      "8\n",
      "C\n",
      "13\n",
      "H\n",
      "14\n",
      "H\n",
      "15\n",
      "H\n",
      "16\n",
      "H\n",
      "17\n",
      "H\n",
      "18\n",
      "H\n",
      "19\n",
      "H\n",
      "[(0, 10), (1, 9), (2, 11), (3, 8), (4, 7), (5, 6), (6, 1), (7, 2), (8, 4), (11, 12), (12, 16), (13, 13), (14, 14), (15, 15), (16, 17), (17, 0), (18, 3), (19, 5)]\n",
      "0 16 H\n",
      "1 8 C\n",
      "2 7 C\n",
      "3 15 H\n",
      "4 6 C\n",
      "5 14 H\n",
      "6 5 C\n",
      "7 4 C\n",
      "8 3 N\n",
      "9 2 C\n",
      "10 13 H\n",
      "11 1 N\n",
      "12 0 C\n",
      "13 10 H\n",
      "14 11 H\n",
      "15 12 H\n",
      "16 9 C\n",
      "17 17 H\n",
      "[(0, 16), (1, 8), (2, 7), (3, 15), (4, 6), (5, 14), (6, 5), (7, 4), (8, 3), (9, 2), (10, 13), (11, 1), (12, 0), (13, 10), (14, 11), (15, 12), (16, 9), (17, 17)]\n"
     ]
    },
    {
     "data": {
      "text/plain": [
       "[13, 2, 1, 3]"
      ]
     },
     "execution_count": 414,
     "metadata": {},
     "output_type": "execute_result"
    }
   ],
   "source": [
    "shared_to_obabel_idx(smi_shared, smi_obabel, parameter)"
   ]
  },
  {
   "cell_type": "code",
   "execution_count": 170,
   "id": "f509ba7a",
   "metadata": {},
   "outputs": [
    {
     "name": "stdout",
     "output_type": "stream",
     "text": [
      "[H]c1c([H])c([H])c2c(nc([H])n2C([H])([H])[H])c1[H]\n",
      "[H][c:1]1[n:2]([C:11]([H])([H])[H])[c:5]2[c:4]([n:3]1)[c:12]([H])[c:6]([H])[c:7]([H])[c:8]2[H]\n"
     ]
    }
   ],
   "source": [
    "smi_obabel_m = Chem.MolToSmiles(Chem.rdmolops.AddHs(Chem.MolFromSmiles(smi_obabel)))\n",
    "print(smi_obabel_m)\n",
    "smi_shared_m = Chem.MolToSmiles(Chem.rdmolops.AddHs(Chem.MolFromSmiles(smi_shared)))\n",
    "print(smi_shared_m)"
   ]
  },
  {
   "cell_type": "code",
   "execution_count": 74,
   "id": "90a6bad3",
   "metadata": {},
   "outputs": [
    {
     "data": {
      "text/plain": [
       "[6, 7, 5, 4]"
      ]
     },
     "execution_count": 74,
     "metadata": {},
     "output_type": "execute_result"
    }
   ],
   "source": [
    "shared_to_obabel_idx(smi_shared_m, smi_obabel_m, parameter)"
   ]
  },
  {
   "cell_type": "code",
   "execution_count": 81,
   "id": "ffdb78bf",
   "metadata": {},
   "outputs": [
    {
     "name": "stdout",
     "output_type": "stream",
     "text": [
      "0 C 0\n",
      "1 C 0\n",
      "2 C 0\n",
      "3 C 0\n",
      "4 C 0\n",
      "5 N 0\n",
      "6 C 0\n",
      "7 N 0\n",
      "8 C 0\n",
      "9 C 0\n",
      "10 H 0\n",
      "11 H 0\n",
      "12 H 0\n",
      "13 H 0\n",
      "14 H 0\n",
      "15 H 0\n",
      "16 H 0\n",
      "17 H 0\n"
     ]
    }
   ],
   "source": [
    "m = Chem.MolFromSmiles(smi_obabel_m)\n",
    "m = Chem.rdmolops.AddHs(m)\n",
    "for at in m.GetAtoms():\n",
    "    print(at.GetIdx(), at.GetSymbol(), at.GetAtomMapNum())"
   ]
  },
  {
   "cell_type": "code",
   "execution_count": 300,
   "id": "e7c2fc28",
   "metadata": {},
   "outputs": [],
   "source": [
    "smi_obabel = list(dft_ax[\"Unnamed: 0\"])[list(dft_ax[\"can_rdkit\"]).index(Chem.CanonSmiles(smi))]"
   ]
  },
  {
   "cell_type": "code",
   "execution_count": null,
   "id": "67c507b0",
   "metadata": {},
   "outputs": [],
   "source": [
    "### L'ESPOIR EST LA ###"
   ]
  },
  {
   "cell_type": "code",
   "execution_count": 301,
   "id": "8cd69716",
   "metadata": {},
   "outputs": [
    {
     "data": {
      "image/png": "[encoded data removed]",
      "text/plain": [
       "<rdkit.Chem.rdchem.Mol at 0x121207e80>"
      ]
     },
     "execution_count": 301,
     "metadata": {},
     "output_type": "execute_result"
    }
   ],
   "source": [
    "m = nb.mol_with_atom_index(Chem.MolFromSmiles(smi_obabel))\n",
    "m"
   ]
  },
  {
   "cell_type": "code",
   "execution_count": 302,
   "id": "f46eecc5",
   "metadata": {},
   "outputs": [
    {
     "data": {
      "text/plain": [
       "'Cn1cnc2c1cccc2'"
      ]
     },
     "execution_count": 302,
     "metadata": {},
     "output_type": "execute_result"
    }
   ],
   "source": [
    "smi_obabel"
   ]
  },
  {
   "cell_type": "code",
   "execution_count": 389,
   "id": "0731d7e9",
   "metadata": {},
   "outputs": [
    {
     "data": {
      "image/png": "[encoded data removed]",
      "text/plain": [
       "<rdkit.Chem.rdchem.Mol at 0x120ac3ac0>"
      ]
     },
     "execution_count": 389,
     "metadata": {},
     "output_type": "execute_result"
    }
   ],
   "source": [
    "m = Chem.rdmolops.AddHs(m)\n",
    "m"
   ]
  },
  {
   "cell_type": "code",
   "execution_count": 390,
   "id": "b6696b5c",
   "metadata": {},
   "outputs": [
    {
     "data": {
      "image/png": "[encoded data removed]",
      "text/plain": [
       "<rdkit.Chem.rdchem.Mol at 0x120ac3ac0>"
      ]
     },
     "execution_count": 390,
     "metadata": {},
     "output_type": "execute_result"
    }
   ],
   "source": [
    "m = nb.mol_with_atom_index(m)\n",
    "m"
   ]
  },
  {
   "cell_type": "code",
   "execution_count": 341,
   "id": "df372dc8",
   "metadata": {},
   "outputs": [
    {
     "name": "stdout",
     "output_type": "stream",
     "text": [
      "0 C\n",
      "1 N\n",
      "2 C\n",
      "3 N\n",
      "4 C\n",
      "5 C\n",
      "6 C\n",
      "7 C\n",
      "8 C\n",
      "9 C\n",
      "10 H\n",
      "11 H\n",
      "12 H\n",
      "13 H\n",
      "14 H\n",
      "15 H\n",
      "16 H\n",
      "17 H\n"
     ]
    }
   ],
   "source": [
    "for at in m.GetAtoms():\n",
    "    print(at.GetIdx(), at.GetSymbol())"
   ]
  },
  {
   "cell_type": "code",
   "execution_count": 400,
   "id": "c612b9d9",
   "metadata": {},
   "outputs": [
    {
     "data": {
      "text/plain": [
       "'[c:1]([H:0])1[n:2]([CH3:11])[c:5]2[c:4]([n:3]1)[cH:12][cH:6][cH:7][cH:8]2'"
      ]
     },
     "execution_count": 400,
     "metadata": {},
     "output_type": "execute_result"
    }
   ],
   "source": [
    "smi_shared"
   ]
  },
  {
   "cell_type": "code",
   "execution_count": 405,
   "id": "3fb49037",
   "metadata": {},
   "outputs": [
    {
     "data": {
      "image/png": "[encoded data removed]",
      "text/plain": [
       "<rdkit.Chem.rdchem.Mol at 0x120a8d880>"
      ]
     },
     "execution_count": 405,
     "metadata": {},
     "output_type": "execute_result"
    }
   ],
   "source": [
    "m = Chem.MolFromSmiles(smi_shared, Chem.rdmolops.AddHs==True)\n",
    "m"
   ]
  },
  {
   "cell_type": "code",
   "execution_count": 406,
   "id": "d0ba33c2",
   "metadata": {},
   "outputs": [
    {
     "name": "stdout",
     "output_type": "stream",
     "text": [
      "1 C\n",
      "0 H\n",
      "2 N\n",
      "11 C\n",
      "5 C\n",
      "4 C\n",
      "3 N\n",
      "12 C\n",
      "6 C\n",
      "7 C\n",
      "8 C\n"
     ]
    }
   ],
   "source": [
    "for at in m.GetAtoms():\n",
    "    print(at.GetAtomMapNum(), at.GetSymbol())"
   ]
  },
  {
   "cell_type": "code",
   "execution_count": 407,
   "id": "68a07c9e",
   "metadata": {},
   "outputs": [],
   "source": [
    "def num_AddHs(m):\n",
    "    for at in m.GetAtoms():\n",
    "        if at.GetAtomMapNum() == 0:\n",
    "            print(at.GetSymbol())\n",
    "            at.SetAtomMapNum(1000)\n",
    "    m = Chem.rdmolops.AddHs(m)\n",
    "    list_idx = [at.GetAtomMapNum() for at in m.GetAtoms()]\n",
    "    print(list_idx)\n",
    "    list_idx.remove(1000)\n",
    "    \n",
    "    for at in m.GetAtoms():\n",
    "        if at.GetAtomMapNum() == 0:\n",
    "            print(at.GetSymbol())\n",
    "            nb.reset_atom_map(m, max(list_idx)+1)\n",
    "            at.SetAtomMapNum(max(list_idx)+1)\n",
    "            list_idx.append(max(list_idx)+1)\n",
    "            \n",
    "    for at in m.GetAtoms():\n",
    "        if at.GetAtomMapNum() == 1000:\n",
    "            nb.reset_atom_map(m, 0)\n",
    "            at.SetAtomMapNum(0)  \n",
    "            \n",
    "    return m"
   ]
  },
  {
   "cell_type": "code",
   "execution_count": 408,
   "id": "752bd1d5",
   "metadata": {},
   "outputs": [
    {
     "name": "stdout",
     "output_type": "stream",
     "text": [
      "H\n",
      "[1, 1000, 2, 11, 5, 4, 3, 12, 6, 7, 8, 0, 0, 0, 0, 0, 0, 0]\n",
      "H\n",
      "H\n",
      "H\n",
      "H\n",
      "H\n",
      "H\n",
      "H\n"
     ]
    },
    {
     "data": {
      "image/png": "[encoded data removed]",
      "text/plain": [
       "<rdkit.Chem.rdchem.Mol at 0x1225d7ca0>"
      ]
     },
     "execution_count": 408,
     "metadata": {},
     "output_type": "execute_result"
    }
   ],
   "source": [
    "num_AddHs(m)"
   ]
  },
  {
   "cell_type": "code",
   "execution_count": null,
   "id": "a40bd234",
   "metadata": {},
   "outputs": [],
   "source": []
  }
 ],
 "metadata": {
  "kernelspec": {
   "display_name": "Python 3 (ipykernel)",
   "language": "python",
   "name": "python3"
  },
  "language_info": {
   "codemirror_mode": {
    "name": "ipython",
    "version": 3
   },
   "file_extension": ".py",
   "mimetype": "text/x-python",
   "name": "python",
   "nbconvert_exporter": "python",
   "pygments_lexer": "ipython3",
   "version": "3.9.7"
  }
 },
 "nbformat": 4,
 "nbformat_minor": 5
}
