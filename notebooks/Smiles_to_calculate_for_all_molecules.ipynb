{
 "cells": [
  {
   "cell_type": "markdown",
   "id": "c9f386dc",
   "metadata": {},
   "source": [
    "# generate smiles .csv for different df categories"
   ]
  },
  {
   "cell_type": "code",
   "execution_count": 91,
   "id": "91144d36",
   "metadata": {},
   "outputs": [],
   "source": [
    "import numpy as np\n",
    "import pandas as pd\n",
    "from rdkit import Chem\n",
    "from rdkit.Chem import Draw\n",
    "from rdkit.Chem import AllChem\n",
    "from rdkit import RDLogger\n",
    "RDLogger.DisableLog('rdApp.*') "
   ]
  },
  {
   "cell_type": "code",
   "execution_count": 92,
   "id": "c7071dd2",
   "metadata": {},
   "outputs": [],
   "source": [
    "df = pd.read_csv('../data_csv/Data_test09032021.csv', sep = ',')"
   ]
  },
  {
   "cell_type": "code",
   "execution_count": 93,
   "id": "5f9169d5",
   "metadata": {},
   "outputs": [],
   "source": [
    "co_unik_can = []\n",
    "ax_unik_can = []\n",
    "base_add_can = []\n",
    "solvent_unik_can = []\n",
    "ligand_unik_can = []"
   ]
  },
  {
   "cell_type": "markdown",
   "id": "86202749",
   "metadata": {},
   "source": [
    "# AX"
   ]
  },
  {
   "cell_type": "code",
   "execution_count": 94,
   "id": "993f1258",
   "metadata": {},
   "outputs": [],
   "source": [
    "for smi in df[\"A-X effectif\"]:\n",
    "    smi_can = Chem.MolToSmiles(Chem.MolFromSmiles(smi))\n",
    "    if smi_can not in ax_unik_can:\n",
    "        ax_unik_can.append(smi_can)"
   ]
  },
  {
   "cell_type": "code",
   "execution_count": 95,
   "id": "46bdef88",
   "metadata": {},
   "outputs": [
    {
     "data": {
      "text/plain": [
       "245"
      ]
     },
     "execution_count": 95,
     "metadata": {},
     "output_type": "execute_result"
    }
   ],
   "source": [
    "len(ax_unik_can)"
   ]
  },
  {
   "cell_type": "markdown",
   "id": "f58ddeef",
   "metadata": {},
   "source": [
    "# Base-Additifs"
   ]
  },
  {
   "cell_type": "code",
   "execution_count": 96,
   "id": "7a310c33",
   "metadata": {},
   "outputs": [],
   "source": [
    "def smiles_additifs(liste_additif) :\n",
    "    base_additif = []\n",
    "    for i in liste_additif :\n",
    "        smiles = str(i).replace('[Sc+++]', '[Sc+3]').replace('[Ti++++]', '[Ti+4]').replace('[Al+++]', '[Al+3]').replace('[Fe+++]', '[Fe+3]').replace('[HO-]', '[O-]')\n",
    "        try :\n",
    "            base_additif.append(Chem.MolToSmiles(Chem.MolFromSmiles(smiles)))\n",
    "            if Chem.MolFromSmiles(smiles) is None :\n",
    "                print(smiles)\n",
    "        except :\n",
    "            base_additif.append('nan')\n",
    "    return base_additif\n",
    "\n",
    "base_add = smiles_additifs(df[\"Base/additif après correction effective\"])\n",
    "\n",
    "for smi in base_add:\n",
    "    if str(smi) != 'nan':\n",
    "        smi_can = Chem.MolToSmiles(Chem.MolFromSmiles(smi))\n",
    "        if smi_can not in base_add_can:\n",
    "            base_add_can.append(smi_can)"
   ]
  },
  {
   "cell_type": "code",
   "execution_count": 97,
   "id": "53b68b3d",
   "metadata": {},
   "outputs": [
    {
     "data": {
      "text/plain": [
       "135"
      ]
     },
     "execution_count": 97,
     "metadata": {},
     "output_type": "execute_result"
    }
   ],
   "source": [
    "len(base_add_can)"
   ]
  },
  {
   "cell_type": "markdown",
   "id": "684a3ea0",
   "metadata": {},
   "source": [
    "# Ligands"
   ]
  },
  {
   "cell_type": "code",
   "execution_count": 98,
   "id": "63b81986",
   "metadata": {},
   "outputs": [],
   "source": [
    "dict_ligand = {\n",
    "    #Phosphines\n",
    "          \"PCy3\" : \"P(C1CCCCC1)(C2CCCCC2)C3CCCCC3\",\n",
    "          \"PCy2(1,2-biPh)\" : \"c1ccccc1c2ccccc2P(C3CCCCC3)C4CCCCC4\",\n",
    "          \"PCy2(1,2-biPhN)\" : \"c1cccc(N(C)C)c1c2ccccc2P(C3CCCCC3)C4CCCCC4\",\n",
    "          \"PPhCy2\" : \"P(c1ccccc1)(C2CCCCC2)C3CCCCC3\",\n",
    "          \"PhPCy2\" : \"P(c1ccccc1)(C2CCCCC2)C3CCCCC3\",\n",
    "          \"CC(O)c1ccccc1P(c2ccccc2)c3ccccc3\" : \"CC(O)c1ccccc1P(c2ccccc2)c3ccccc3\",\n",
    "          \"t-BuPCy2\" : \"P(C(C)(C)C)(C2CCCCC2)C3CCCCC3\",\n",
    "          \"PCp3\" : \"C3=CC(P(C1C=CC=C1)C2C=CC=C2)C=C3\",\n",
    "          \"PPh3\" : \"P(c1ccccc1)(c2ccccc2)c3ccccc3\",\n",
    "          \"P(o-tolyl)3\" : \"Cc1ccccc1P(c2ccccc2C)c3ccccc3C\",\n",
    "          \"P(nBu)3\" : \"P(CCCC)(CCCC)CCCC\",\n",
    "          \"P(tBu)3\" : \"P(C(C)(C)C)(C(C)(C)C)C(C)(C)C\",\n",
    "          \"P(OMe)3\" : \"P(OC)(OC)OC\",\n",
    "          \"P(CH2Ph)3\" : \"P(Cc1ccccc1)(Cc2ccccc2)Cc3ccccc3\",\n",
    "          \"P(p-OMePh)3\" : \"P(c1ccc(OC)cc1)(c2ccc(OC)cc2)c3ccc(OC)cc3\",\n",
    "          \"PMe3\" : \"P(C)(C)C\",\n",
    "          \"PEt3\" : \"P(CC)(CC)CC\",\n",
    "          \"PiPr3\" : \"P(C(C)C)(C(C)C)C(C)C\",\n",
    "          \"PiBu3\" : \"P(CC(C)C)(CC(C)C)CC(C)C\",\n",
    "          \"PBu3\" : \"CCCCP(CCCC)CCCC\",\n",
    "          \"PMetBu\" : \"P(C(C)(C)C)(C(C)(C)C)C\",\n",
    "          \"JohnPhos\" : \"CC(C)(C)P(C1=CC=CC=C1C2=CC=CC=C2)C(C)(C)C\",\n",
    "          \"CyJohnPhos\" : \"C4CCCCC4P(C1=CC=CC=C1C2=CC=CC=C2)C3CCCCC3\",\n",
    "          \"CyDPEphos\" : \"c7cc4Cc3cccc(P(C1CCCCC1)C2CCCCC2)c3Oc4c(P(C5CCCCC5)C6CCCCC6)c7\",\n",
    "          \"Xantphos\" : \"CC1(C2=C(C(=CC=C2)P(C3=CC=CC=C3)C4=CC=CC=C4)OC5=C1C=CC=C5P(C6=CC=CC=C6)C7=CC=CC=C7)C\",\n",
    "          \"CyXantphos\" : \"CC7(C)c3cccc(P(C1CCCCC1)C2CCCCC2)c3Oc6c(P(C4CCCCC4)C5CCCCC5)cccc67\",\n",
    "          \"XPhos\" : \"CC(C)c4cc(C(C)C)c(c1ccccc1P(C2CCCCC2)C3CCCCC3)c(C(C)C)c4\",\n",
    "          \"RuPhos\" : \"CC(C)OC1=C(C(=CC=C1)OC(C)C)C2=CC=CC=C2P(C3CCCCC3)C4CCCCC4\",\n",
    "          \"SPhos\" : \"COC1=C(C(=CC=C1)OC)C2=CC=CC=C2P(C3CCCCC3)C4CCCCC4\",\n",
    "          \"Tris(2-methoxyphenyl)phosphine\" : \"P(c1ccccc1(OC))(c2ccccc2(OC))c3ccccc3OC\",\n",
    "          \"Tris(4-trifluoromethylphenyl) phosphine\" : \"P(c1ccc(C(F)(F)F)cc1)(c2ccc(C(F)(F)F)cc2)c3ccc(C(F)(F)F)cc3\",\n",
    "          \"PMetBu2\" : \"CP(C(C)(C)C)C(C)(C)C\",\n",
    "          \"PPh2Cy\" : \"c3ccc(P(c1ccccc1)C2CCCCC2)cc3\",\n",
    "          \"P(p-tolyl)3\" : \"c1cc(C)ccc1P(c2ccc(C)cc2)c3ccc(C)cc3\",\n",
    "          \"P(C6F5)3\" : \"Fc3c(F)c(F)c(P(c1c(F)c(F)c(F)c(F)c1F)c2c(F)c(F)c(F)c(F)c2F)c(F)c3F\",\n",
    "          \"P(NMe2)3\" : \"CN(C)P(N(C)C)N(C)C\",\n",
    "          \"c6ccc5c(P(C1CCCCC1)C2CCCCC2)c(P(C3CCCCC3)C4CCCCC4)sc5c6\" : \"c6ccc5c(P(C1CCCCC1)C2CCCCC2)c(P(C3CCCCC3)C4CCCCC4)sc5c6\",\n",
    "          \"c5cc(P(C1CCCCC1)C2CCCCC2)c(P(C3CCCCC3)C4CCCCC4)s5\" : \"c5cc(P(C1CCCCC1)C2CCCCC2)c(P(C3CCCCC3)C4CCCCC4)s5\",\n",
    "          \"c7ccc(c6cc(c1ccccc1)n(c2ccccc2NC(c3ccccc3)P(c4ccccc4)c5ccccc5)n6)cc7\" : \"c7ccc(c6cc(c1ccccc1)n(c2ccccc2NC(c3ccccc3)P(c4ccccc4)c5ccccc5)n6)cc7\",\n",
    "          \"CC(C)P(C(C)C)C(Nc1ccccc1n3nc(c2ccccc2)cc3c4ccccc4)c5ccccc5\" : \"CC(C)P(C(C)C)C(Nc1ccccc1n3nc(c2ccccc2)cc3c4ccccc4)c5ccccc5\",\n",
    "          \"c7ccc(c6cc(c1ccccc1)n(c2ccccc2NC(c3ccccc3)P(C4CCCCC4)C5CCCCC5)n6)cc7\" : \"c7ccc(c6cc(c1ccccc1)n(c2ccccc2NC(c3ccccc3)P(C4CCCCC4)C5CCCCC5)n6)cc7\",\n",
    "          \"C3CCC(P(C1CCCCC1)C2CCCCC2)CC3\" : \"C3CCC(P(C1CCCCC1)C2CCCCC2)CC3\",\n",
    "          \"CC(C)c5cc(C(C)C)c(c4cc(c1c(C(C)C)cc(C(C)C)cc1C(C)C)cc(P(C2CCCC2)C3CCCC3)c4)c(C(C)C)c5\" : \"CC(C)c5cc(C(C)C)c(c4cc(c1c(C(C)C)cc(C(C)C)cc1C(C)C)cc(P(C2CCCC2)C3CCCC3)c4)c(C(C)C)c5\",\n",
    "          \"CC(C)c5cc(C(C)C)c(c4ccc(c1c(C(C)C)cc(C(C)C)cc1C(C)C)c(P(C2CCCC2)C3CCCC3)c4)c(C(C)C)c5\" : \"CC(C)c5cc(C(C)C)c(c4ccc(c1c(C(C)C)cc(C(C)C)cc1C(C)C)c(P(C2CCCC2)C3CCCC3)c4)c(C(C)C)c5\",\n",
    "      #di-phosphines\n",
    "          \"dppe\" : \"c4ccc(P(CCP(c1ccccc1)c2ccccc2)c3ccccc3)cc4\",\n",
    "          \"depe\" : \"CCP(CC)CCP(CC)CC\",\n",
    "          \"dppp\" : \"c1ccc(cc1)P(CCCP(c2ccccc2)c3ccccc3)c4ccccc4\",\n",
    "          \"dppb\" : \"c4ccc(P(CCCCP(c1ccccc1)c2ccccc2)c3ccccc3)cc4\",\n",
    "          \"dppf\" : \"[Fe].[CH]1[CH][CH][C]([CH]1)P(c2ccccc2)c3ccccc3.[CH]4[CH][CH][C]([CH]4)P(c5ccccc5)c6ccccc6\",\n",
    "          \"dippf\" : \"[Fe].CC(C)P([C]1[CH][CH][CH][CH]1)C(C)C.CC(C)P([C]2[CH][CH][CH][CH]2)C(C)C\",\n",
    "          \"dppf-Ipr\" : \"[Fe].CCCP(CCC)C1CCCC1.CCCP(CCC)C1CCCC1\",\n",
    "          \"dppf-tBu\" : \"[Fe].CC(C)(C)P(C1CCCC1)C(C)(C)C.CC(C)(C)P(C1CCCC1)C(C)(C)C\",\n",
    "          \"dppf-Cy\"  : \"[Fe].[CH]1[CH][CH][C]([CH]1)P(C2CCCCC2)C3CCCCC3.[CH]4[CH][CH][C]([CH]4)P(C5CCCCC5)C6CCCCC6\",\n",
    "          \"dcypf\" : \"[Fe].[CH]1[CH][CH][C]([CH]1)P(C2CCCCC2)C3CCCCC3.[CH]4[CH][CH][C]([CH]4)P(C5CCCCC5)C6CCCCC6\",\n",
    "          \"dcype\": \"C1CCCCC1P(C2CCCCC2)CCP(C3CCCCC3)C4CCCCC4\",\n",
    "          \"dcypbz\" : \"P(C1CCCCC1)(C2CCCCC2)c3ccccc3P(C5CCCCC5)C6CCCCC6\",\n",
    "          \"dcypt\" : \"C1CCC(CC1)P(C2CCCCC2)C3=CSC=C3P(C4CCCCC4)C5CCCCC5\",\n",
    "          \"DCYPT\" : \"C1CCC(CC1)P(C2CCCCC2)C3=CSC=C3P(C4CCCCC4)C5CCCCC5\",\n",
    "          \"dcypb\" : \"C1CCC(CC1)P(CCCCP(C2CCCCC2)C3CCCCC3)C4CCCCC4\",\n",
    "          \"dmpe\" : \"CP(C)CCP(C)C\",\n",
    "          \"rac-BINAP\" : \"c8ccc(P(c1ccccc1)c3ccc2ccccc2c3c6c(P(c4ccccc4)c5ccccc5)ccc7ccccc67)cc8\",\n",
    "          \"L1\"   : \"P(CCP(C1CCC1)C2CCC2)(C3CCC3)C4CCC4\",\n",
    "          \"L2\"   : \"P(CCP(C1CCCC1)C2CCCC2)(C3CCCC3)C4CCCC4\",\n",
    "          \"L3\"   : \"P(CCP(C1CCCCCC1)C2CCCCCC2)(C3CCCCCC3)C4CCCCCC4\",\n",
    "          \"L4\"   : \"CC(C)P(C(C)C)CCP(C(C)C)(C(C)C)\",\n",
    "          \"L5\"   : \"CC(C)(C)P(C(C)(C)C)CCP(C(C)(C)C)(C(C)(C)C)\",\n",
    "          \"L6\"   : \"P(c1ccccc1)(c2ccccc2)CCP(C4CCCCC4)C5CCCCC5\",\n",
    "     #NHC\n",
    "          \"ItBu\" : \"CC(C)(C)N1C=CN(C1)C(C)(C)C\",\n",
    "          \"ICy\"  : \"C1CCC(CC1)N2C=CN(C2)C3CCCCC3\",\n",
    "          \"IPr\"  : \"CC(C)c1cccc(C(C)C)c1N2C=CN(C2)c3c(cccc3C(C)C)C(C)C\",\n",
    "          \"IMes\" : \"CC(C)c1cccc(C(C)C)c1N2C=CN(C2)c3c(cccc3C(C)C)CC\",\n",
    "          \"IAd\"  : \"C1C2CC3CC1CC(C2)(C3)N4C=CN(C4)C56CC7CC(C5)CC(C7)C6\",\n",
    "          \"I(1-Ad)\" : \"C1C2CC3CC1CC(C2)(C3)N4C=CN(C4)C56CC7CC(C5)CC(C7)C6\",\n",
    "          \"I(2-Ad)\" : \"C4=CN(C2C1CC3CC(C1)CC2C3)CN4C6C5CC7CC(C5)CC6C7\",\n",
    "          \"SIPr\" : \"CC(C)c1cccc(C(C)C)c1N3CN(c2c(C(C)C)cccc2C(C)C)CC3\",\n",
    "          \"SIMes\": \"Cc3cc(C)c(N2CN(c1c(C)cc(C)cc1C)CC2)c(C)c3\",\n",
    "          \"SItBu\": \"CC(C)(C)N1CCN(C(C)(C)C)C1\",\n",
    "          \"CDC\"  : \"CC(C)N2c1ccccc1N(C)C2CC4N(C)c3ccccc3N4C(C)C\",\n",
    "          \"C1-CDC\" : \"CN2c1ccccc1N(C)C2CC4N(C(C)(C))c3ccccc3N4C(C)C\",\n",
    "          \"C2-CDC\" : \"CC(C)N2c1ccccc1N(C)C2CC4N(C)c3ccccc3N4C(C)C\",\n",
    "          \"Me2IPr\" : \"CC2=C(C)N(c1c(C(C)C)cccc1C(C)C)CN2c3c(C(C)C)cccc3C(C)C\",\n",
    "          \"CCCCN5CN(c3cccc(N2CN(CCCC)c1ccccc12)n3)c4ccccc45\" : \"CCCCN5CN(c3cccc(N2CN(CCCC)c1ccccc12)n3)c4ccccc45\",\n",
    "     #phen/bipy\n",
    "          \"phen\" : \"c1ccnc3c1ccc2cccnc23\",\n",
    "          \"bipy\" : \"c2ccc(c1ccccn1)nc2\",\n",
    "     #NHC + phosphine\n",
    "          \"IPr+PPh3\" : \"CC(C)c1cccc(C(C)C)c1N2C=CN(C2)c3c(cccc3C(C)C)C(C)C.P(c1ccccc1)(c2ccccc2)c3ccccc3\",\n",
    "          \"PPh3+ItBu\" : \"P(c1ccccc1)(c2ccccc2)c3ccccc3.CC(C)(C)N1C=CN(C1)C(C)(C)C\",\n",
    "          \"PPh3+IPr\" : \"P(c1ccccc1)(c2ccccc2)c3ccccc3.CC(C)c1cccc(C(C)C)c1N2C=CN(C2)c3c(cccc3C(C)C)C(C)C\",\n",
    "          \"PCy3+ItBu\" : \"P(C1CCCCC1)(C2CCCCC2)C3CCCCC3.CC(C)(C)N1C=CN(C1)C(C)(C)C\",\n",
    "          \"PCy3+IPr\" : \"P(C1CCCCC1)(C2CCCCC2)C3CCCCC3.CC(C)c1cccc(C(C)C)c1N2C=CN(C2)c3c(cccc3C(C)C)C(C)C\",\n",
    "     #autres\n",
    "          \"COD\"  : \"C1CC=CCCC=C1\",\n",
    "          \"acac\" : \"C/C(=C/C(=O)C)/[O-]\",\n",
    "          \"nan\" : \"nan\",\n",
    "          \"dppf + PCy3\" : \"[Fe].[CH]1[CH][CH][C]([CH]1)P(c2ccccc2)c3ccccc3.[CH]4[CH][CH][C]([CH]4)P(c5ccccc5)c6ccccc6.P(C1CCCCC1)(C2CCCCC2)C3CCCCC3\",\n",
    "          \"c2c[n+](C1CCCCC1)cn2C3CCCCC3.[Cl-]\" : \"c2c[n+](C1CCCCC1)cn2C3CCCCC3.[Cl-]\",\n",
    "          \"O=[Mo](=O)([O-])O[Mo](=O)(=O)On1cc[n+](O[Mo](=O)(=O)O[Mo](=O)(=O)[O-])c1.[NH4+].[NH4+].F[B-](F)(F)F\" : \"O=[Mo](=O)([O-])O[Mo](=O)(=O)On1cc[n+](O[Mo](=O)(=O)O[Mo](=O)(=O)[O-])c1.[NH4+].[NH4+].F[B-](F)(F)F\",\n",
    "          \"CC(C)n1cc[n+](C(C)C)c1.[Cl-]\" : \"CC(C)n1cc[n+](C(C)C)c1.[Cl-]\",\n",
    "          \"[Br-].[Br-].Cn2cc[n+](C[n+]1ccn(C)c1)c2\" : \"[Br-].[Br-].Cn2cc[n+](C[n+]1ccn(C)c1)c2\",\n",
    "          \"[Br-].[Br-].CC(C)n2cc[n+](C[n+]1ccn(C(C)C)c1)c2\" : \"[Br-].[Br-].CC(C)n2cc[n+](C[n+]1ccn(C(C)C)c1)c2\",\n",
    "          \"[Br-].[Br-].CC(C)(C)n2cc[n+](C[n+]1ccn(C(C)(C)C)c1)c2\" : \"[Br-].[Br-].CC(C)(C)n2cc[n+](C[n+]1ccn(C(C)(C)C)c1)c2\",\n",
    "          \"[Br-].[Br-].c3c[n+](C[n+]2ccn(C1CCCCC1)c2)cn3C4CCCCC4\" : \"[Br-].[Br-].c3c[n+](C[n+]2ccn(C1CCCCC1)c2)cn3C4CCCCC4\",\n",
    "          \"C2=CN(C1CCCCC1)CN2C3CCCCC3\" : \"C2=CN(C1CCCCC1)CN2C3CCCCC3\",\n",
    "          \"CC(C)(C)n2cc[n+](n1cc[n+](C(C)(C)C)c1)c2.[Br-].[Br-]\" : \"CC(C)(C)n2cc[n+](n1cc[n+](C(C)(C)C)c1)c2.[Br-].[Br-]\",\n",
    "          \"IC1CCCCC1\" : \"IC1CCCCC1\"\n",
    "    }"
   ]
  },
  {
   "cell_type": "code",
   "execution_count": 99,
   "id": "71747053",
   "metadata": {},
   "outputs": [],
   "source": [
    "for smi in df[\"Ligand effectif\"]:\n",
    "    if str(smi) != 'nan':\n",
    "        smi_can = Chem.MolToSmiles(Chem.MolFromSmiles(dict_ligand[smi]))\n",
    "        if smi_can not in ligand_unik_can:\n",
    "            ligand_unik_can.append(smi_can)"
   ]
  },
  {
   "cell_type": "code",
   "execution_count": 100,
   "id": "52073e8e",
   "metadata": {},
   "outputs": [
    {
     "data": {
      "text/plain": [
       "91"
      ]
     },
     "execution_count": 100,
     "metadata": {},
     "output_type": "execute_result"
    }
   ],
   "source": [
    "len(ligand_unik_can)"
   ]
  },
  {
   "cell_type": "markdown",
   "id": "3dc11482",
   "metadata": {},
   "source": [
    "# Solvants"
   ]
  },
  {
   "cell_type": "code",
   "execution_count": 101,
   "id": "4a0a3f0f",
   "metadata": {},
   "outputs": [],
   "source": [
    "dict_solvants = {'(EtO)2CH2': 'CCOCOCC',\n",
    " '(EtO)2CH2 + Et2O': 'CCOCOCC.CCOCC',\n",
    " 'CH3CN': 'CC#N',\n",
    " 'CPME': 'COC1CCCC1',\n",
    " 'DCE': '[Cl]CC[Cl]',\n",
    " 'DMA': 'CC(=O)N(C)C',\n",
    " 'DME': 'COCCOC',\n",
    " 'DMF': 'C(=O)N(C)C',\n",
    " 'DMSO': 'CS(=O)C',\n",
    " 'Et2O': 'CCOCC',\n",
    " 'EtOH': 'CCO',\n",
    " 'MeOH': 'CO',\n",
    " 'NMP': 'CN1CCCC1(=O)',\n",
    " 'THF': 'C1OCCC1',\n",
    " 'THF + DMA': 'C1OCCC1.CC(=O)N(C)C',\n",
    " 'THF/DMA': 'C1OCCC1.CC(=O)N(C)C',\n",
    " 'benzene': 'c1ccccc1',\n",
    " 'dioxane': 'C1COCCO1',\n",
    " 'dioxane - H2O': 'C1COCCO1.O',\n",
    " 'hexane': 'CCCCCC',\n",
    " 'iPr2O': 'CC(C)OC(C)C',\n",
    " 'iPrOH': 'OC(C)C',\n",
    " 'm-xylene': 'Cc1cc(C)ccc1',\n",
    " 'nBu2O': 'CCCCOCCCC',\n",
    " 'o-xylene': 'Cc1c(C)cccc1',\n",
    " 'p-xylene': 'Cc1ccc(C)cc1',\n",
    " 'sBuOH': 'CC(O)CC',\n",
    " 't-amyl alcohol': 'CC(O)(C)CC',\n",
    " 'tAmOMe': 'CCC(C)(C)OC',\n",
    " 'tAmOMe + Et2O': 'CCC(C)(C)OC.CCOCC',\n",
    " 'tBuOH': 'C(C)(C)(C)O',\n",
    " 'tBuOH + H2O': 'C(C)(C)(C)O.O',\n",
    " 'tBuOMe': 'C(C)(C)(C)OC',\n",
    " 'toluene': 'c1ccccc1C',\n",
    " 'toluene - H2O': 'c1ccccc1C.O'}"
   ]
  },
  {
   "cell_type": "code",
   "execution_count": 102,
   "id": "d9c79209",
   "metadata": {},
   "outputs": [],
   "source": [
    "for smi in df[\"Solvent\"]:\n",
    "    if str(smi) != 'nan':\n",
    "        smi_can = Chem.MolToSmiles(Chem.MolFromSmiles(dict_solvants[smi]))\n",
    "        if smi_can not in solvent_unik_can:\n",
    "            solvent_unik_can.append(smi_can)"
   ]
  },
  {
   "cell_type": "code",
   "execution_count": 103,
   "id": "7ec1bbd5",
   "metadata": {},
   "outputs": [
    {
     "data": {
      "text/plain": [
       "34"
      ]
     },
     "execution_count": 103,
     "metadata": {},
     "output_type": "execute_result"
    }
   ],
   "source": [
    "len(solvent_unik_can)"
   ]
  }
 ],
 "metadata": {
  "kernelspec": {
   "display_name": "Python 3 (ipykernel)",
   "language": "python",
   "name": "python3"
  },
  "language_info": {
   "codemirror_mode": {
    "name": "ipython",
    "version": 3
   },
   "file_extension": ".py",
   "mimetype": "text/x-python",
   "name": "python",
   "nbconvert_exporter": "python",
   "pygments_lexer": "ipython3",
   "version": "3.9.7"
  }
 },
 "nbformat": 4,
 "nbformat_minor": 5
}
