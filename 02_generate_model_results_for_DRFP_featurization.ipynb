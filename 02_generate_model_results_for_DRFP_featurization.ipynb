{
 "cells": [
  {
   "cell_type": "markdown",
   "id": "dbd848cc",
   "metadata": {},
   "source": [
    "Warning this notebook requires to install the *DRFP* module:\n",
    "\n",
    "-> can be install with : pip install drfp\n",
    "\n",
    "-> alternative possibility are available on the git page: https://github.com/reymond-group/drfp\n",
    "\n",
    "-> more details: https://pubs.rsc.org/en/content/articlehtml/2022/dd/d1dd00006c"
   ]
  },
  {
   "cell_type": "code",
   "execution_count": 1,
   "id": "87a5de7d",
   "metadata": {},
   "outputs": [],
   "source": [
    "import pandas as pd\n",
    "import numpy as np\n",
    "from rdkit import Chem\n",
    "from rdkit.Chem import rdChemReactions\n",
    "from drfp import DrfpEncoder\n",
    "from descriptors.preprocessing import preprocess, dict_ligand"
   ]
  },
  {
   "cell_type": "code",
   "execution_count": 2,
   "id": "584d3b38",
   "metadata": {},
   "outputs": [],
   "source": [
    "# generate rection SMILES from NiCOlit\n",
    "nicolit = pd.read_csv(\"data/NiCOlit.csv\")\n",
    "nicolit, indexes = preprocess(nicolit)"
   ]
  },
  {
   "cell_type": "code",
   "execution_count": 4,
   "id": "66a68e2a",
   "metadata": {},
   "outputs": [],
   "source": [
    "# featurize the reactions according to the DRFP method\n",
    "import descriptors.drfp_featurization as drfp_ft\n",
    "\n",
    "X_fp, y_fp, DOI_fp, mechanisms_fp, origins_fp = drfp_ft.process_dataframe(nicolit)"
   ]
  },
  {
   "cell_type": "code",
   "execution_count": null,
   "id": "37da9fd4",
   "metadata": {},
   "outputs": [],
   "source": [
    "# test the performances\n",
    "from analysis import analysis_train_set_size, random_split, stratified_split \n",
    "\n",
    "# random split\n",
    "values, baseline_values, model_values, stratification_values, additional_stratification_values = random_split(X_fp, y_fp, origins_fp, mechanisms_fp, n_iterations=20)\n",
    "display_df =  pd.DataFrame(zip(values, baseline_values, model_values, stratification_values, additional_stratification_values), \n",
    "                           columns = ['Yields', 'Baseline', 'Predicted Yields', 'Origin', 'Coupling Partner'])\n",
    "display_df.to_csv(\"results/random_split_drfp_descriptors_test_size_0.2\")"
   ]
  },
  {
   "cell_type": "code",
   "execution_count": null,
   "id": "401b2948",
   "metadata": {},
   "outputs": [],
   "source": [
    "# substrate split (be carefull on the number of iterations)\n",
    "from sklearn.ensemble import RandomForestRegressor, RandomForestClassifier\n",
    "from sklearn.neighbors import KNeighborsRegressor\n",
    "from sklearn.pipeline import Pipeline\n",
    "from sklearn.metrics import r2_score\n",
    "\n",
    "metric = r2_score\n",
    "\n",
    "values, global_baseline_results, global_results, stratification_results, additional_stratification_results = stratified_split(X_fp, y_fp, list(nicolit[\"substrate\"]), origins_fp , metric=metric, predictor=RandomForestRegressor(), test_size=0.2, \n",
    "                                                                                                                              n_iterations=1)\n",
    "display_df =  pd.DataFrame(zip(stratification_results, additional_stratification_results, global_results, global_baseline_results, values), columns =['Substrate', 'Origin', 'Predicted Yields', 'Global baseline', 'Yields'])\n",
    "display_df.to_csv(\"results/substrate_split_drfp_descriptors\")"
   ]
  },
  {
   "cell_type": "code",
   "execution_count": null,
   "id": "90b7f29b",
   "metadata": {},
   "outputs": [],
   "source": [
    "# coupling partner split\n",
    "values, global_baseline_results, global_results, stratification_results, additional_stratification_results = stratified_split(X_fp, y_fp, mechanisms_fp, origins_fp , metric=metric, predictor=RandomForestRegressor(), test_size=0.2, \n",
    "                                                                                                                              n_iterations=10)\n",
    "display_df =  pd.DataFrame(zip(stratification_results, additional_stratification_results, global_results, global_baseline_results, values), columns =['Substrate', 'Origin', 'Predicted Yields', 'Global baseline', 'Yields'])\n",
    "display_df.to_csv(\"results/mechanisms_split_drfp_descriptors\")"
   ]
  },
  {
   "cell_type": "markdown",
   "id": "ec2fb571",
   "metadata": {},
   "source": [
    "### Visualize the results "
   ]
  },
  {
   "cell_type": "code",
   "execution_count": null,
   "id": "61e30b77",
   "metadata": {},
   "outputs": [],
   "source": [
    "df = pd.read_csv('results/random_split_drfp_descriptors_test_size_0.2')"
   ]
  },
  {
   "cell_type": "code",
   "execution_count": null,
   "id": "04b2f490",
   "metadata": {},
   "outputs": [],
   "source": [
    "import seaborn as sns \n",
    "import matplotlib.pyplot as plt \n",
    "import matplotlib as mpl\n",
    "\n",
    "from sklearn.metrics import r2_score, mean_absolute_error, mean_squared_error"
   ]
  },
  {
   "cell_type": "code",
   "execution_count": null,
   "id": "97bf5571",
   "metadata": {},
   "outputs": [],
   "source": [
    "# random split\n",
    "h = sns.jointplot(\"Yields\", \"Predicted Yields\", df, kind='kde', fill=True)\n",
    "h.set_axis_labels('Experimental yields', 'Predicted yields')\n",
    "h.ax_joint.set_xticks([0, 20, 40, 60, 80, 100])\n",
    "h.ax_joint.set_yticks([0, 20, 40, 60, 80, 100])\n",
    "\n",
    "fig_path = 'images/random_split_drfp_descriptors_test_size_0.2_full.png'\n",
    "plt.savefig(fig_path, dpi=300, bbox_inches='tight')\n",
    "\n",
    "print('RMSE = ',mean_squared_error(df[\"Yields\"], df[\"Predicted Yields\"])**0.5)\n",
    "print('MAE  = ',mean_absolute_error(df[\"Yields\"], df[\"Predicted Yields\"]))\n",
    "print('R$^2$  = ',r2_score(df[\"Yields\"], df[\"Predicted Yields\"]))"
   ]
  },
  {
   "cell_type": "code",
   "execution_count": null,
   "id": "2d205582",
   "metadata": {},
   "outputs": [],
   "source": [
    "R2 = []\n",
    "for i in range(10):\n",
    "    R2.append(r2_score(df[\"Yields\"][i*282:(i+1)*282], df[\"Predicted Yields\"][i*282:(i+1)*282]))\n",
    "print(min(R2), np.mean(R2), np.std(R2), max(R2))"
   ]
  },
  {
   "cell_type": "code",
   "execution_count": null,
   "id": "47942a09",
   "metadata": {},
   "outputs": [],
   "source": [
    "# comparison with dft results:\n",
    "df = pd.read_csv('results/random_split_dft_descriptors_test_size_0.2')\n",
    "R2 = []\n",
    "for i in range(10):\n",
    "    R2.append(r2_score(df[\"Yields\"][i*282:(i+1)*282], df[\"Predicted Yields\"][i*282:(i+1)*282]))\n",
    "print(min(R2), np.mean(R2), np.std(R2), max(R2))"
   ]
  },
  {
   "cell_type": "code",
   "execution_count": null,
   "id": "20c2cb44",
   "metadata": {},
   "outputs": [],
   "source": [
    "# substrate split\n",
    "df = pd.read_csv('results/substrate_split_drfp_descriptors')\n",
    "\n",
    "h = sns.jointplot(\"Yields\", \"Predicted Yields\", df, kind='kde', fill=True)\n",
    "h.set_axis_labels('Experimental yields', 'Predicted yields')\n",
    "h.ax_joint.set_xticks([0, 20, 40, 60, 80, 100])\n",
    "h.ax_joint.set_yticks([0, 20, 40, 60, 80, 100])\n",
    "h.ax_marg_x.set_facecolor(\"white\")\n",
    "h.ax_marg_y.set_facecolor(\"white\")\n",
    "plt.savefig('images/substrate_split_drfp_descriptors_full.png', dpi=300, bbox_inches='tight')\n",
    "\n",
    "print('RMSE = ',mean_squared_error(df[\"Yields\"], df[\"Predicted Yields\"])**0.5)\n",
    "print('MAE  = ',mean_absolute_error(df[\"Yields\"], df[\"Predicted Yields\"]))\n",
    "print('R^2  = ',r2_score(df[\"Yields\"], df[\"Predicted Yields\"]))"
   ]
  },
  {
   "cell_type": "code",
   "execution_count": null,
   "id": "497b5eb4",
   "metadata": {},
   "outputs": [],
   "source": [
    "# coupling partner split\n",
    "df = pd.read_csv('results/mechanisms_split_drfp_descriptors')\n",
    "\n",
    "h = sns.jointplot(\"Yields\", \"Predicted Yields\", df, kind='kde', fill=True)\n",
    "h.set_axis_labels('Experimental yields', 'Predicted yields')\n",
    "h.ax_joint.set_xticks([0, 20, 40, 60, 80, 100])\n",
    "h.ax_joint.set_yticks([0, 20, 40, 60, 80, 100])\n",
    "h.ax_marg_x.set_facecolor(\"white\")\n",
    "h.ax_marg_y.set_facecolor(\"white\")\n",
    "plt.savefig('images/mechanism_split_drfp_descriptors_full.png', dpi=300, bbox_inches='tight')\n",
    "\n",
    "print('RMSE = ',mean_squared_error(df[\"Yields\"], df[\"Predicted Yields\"])**0.5)\n",
    "print('MAE  = ',mean_absolute_error(df[\"Yields\"], df[\"Predicted Yields\"]))\n",
    "print('R$^2$  = ',r2_score(df[\"Yields\"], df[\"Predicted Yields\"]))"
   ]
  },
  {
   "cell_type": "code",
   "execution_count": null,
   "id": "333076dc",
   "metadata": {},
   "outputs": [],
   "source": [
    "# analysis of the DRFP performances on restricted datasets\n",
    "import descriptors.dft_featurisation as dft_ft\n",
    "nicolit_dft = pd.read_csv(\"data/NiCOlit.csv\")\n",
    "nicolit_dft = preprocess(nicolit_dft)\n",
    "X_dft, y_dft, DOI_dft, mechanisms_dft, origins_dft, sub_dft, lig_dft = dft_ft.process_dataframe_dft(nicolit_dft, data_path=\"data/utils/\", origin=False)"
   ]
  },
  {
   "cell_type": "code",
   "execution_count": null,
   "id": "567b7230",
   "metadata": {},
   "outputs": [],
   "source": [
    "# substrate-split:\n",
    "r2 = []\n",
    "length = []\n",
    "for sub in np.unique(sub_dft):\n",
    "    indexes = np.where(sub_dft==sub)[0]\n",
    "    values, baseline_values, model_values, stratification_values, additional_stratification_values = random_split(X_fp[indexes, :], y_dft[indexes], origins_dft[indexes], sub_dft[indexes], n_iterations=100)\n",
    "    print(sub, len(indexes), round(r2_score(values, model_values), 3))\n",
    "    r2.append(round(r2_score(values, model_values), 3))\n",
    "    length.append(len(indexes))"
   ]
  },
  {
   "cell_type": "code",
   "execution_count": null,
   "id": "f3e8a2cb",
   "metadata": {},
   "outputs": [],
   "source": [
    "# coupling_partner-split:\n",
    "r2 = []\n",
    "length = []\n",
    "for sub in np.unique(mechanisms_dft):\n",
    "    indexes = np.where(mechanisms_dft==sub)[0]\n",
    "    values, baseline_values, model_values, stratification_values, additional_stratification_values = random_split(X_fp[indexes, :], y_dft[indexes], origins_dft[indexes], mechanisms_dft[indexes], n_iterations=100)\n",
    "    print(sub, len(indexes), round(r2_score(values, model_values), 3))\n",
    "    r2.append(round(r2_score(values, model_values), 3))\n",
    "    length.append(len(indexes))"
   ]
  },
  {
   "cell_type": "code",
   "execution_count": null,
   "id": "85fc300f",
   "metadata": {},
   "outputs": [],
   "source": []
  }
 ],
 "metadata": {
  "kernelspec": {
   "display_name": "Python 3 (ipykernel)",
   "language": "python",
   "name": "python3"
  },
  "language_info": {
   "codemirror_mode": {
    "name": "ipython",
    "version": 3
   },
   "file_extension": ".py",
   "mimetype": "text/x-python",
   "name": "python",
   "nbconvert_exporter": "python",
   "pygments_lexer": "ipython3",
   "version": "3.9.7"
  }
 },
 "nbformat": 4,
 "nbformat_minor": 5
}
