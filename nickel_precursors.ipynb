{
 "cells": [
  {
   "cell_type": "code",
   "execution_count": null,
   "id": "9841efd7",
   "metadata": {},
   "outputs": [],
   "source": [
    "import pandas as pd\n",
    "import numpy as np\n",
    "from rdkit import Chem\n",
    "from rdkit.Chem import Draw\n",
    "from descriptors.preprocessing import preprocess, dict_ligand\n",
    "from descriptors.dictionnaries import dict_smiles_catalysts"
   ]
  },
  {
   "cell_type": "code",
   "execution_count": null,
   "id": "42105ef8",
   "metadata": {},
   "outputs": [],
   "source": [
    "nicolit = pd.read_csv(\"data/NiCOlit.csv\")\n",
    "nicolit = preprocess(nicolit)"
   ]
  },
  {
   "cell_type": "code",
   "execution_count": null,
   "id": "0cd9b8eb",
   "metadata": {},
   "outputs": [],
   "source": [
    "catalysts = list(nicolit.catalyst_precursor.unique())\n",
    "catalysts = [ prec if prec == prec else 'NO' for prec in catalysts]\n",
    "catalysts.remove('NO')"
   ]
  },
  {
   "cell_type": "code",
   "execution_count": null,
   "id": "07664a24",
   "metadata": {},
   "outputs": [],
   "source": [
    "mols_list = [Chem.MolFromSmiles(dict_smiles_catalysts[prec]) for prec in catalysts]\n",
    "len(mols_list)"
   ]
  },
  {
   "cell_type": "code",
   "execution_count": null,
   "id": "eeeaa119",
   "metadata": {},
   "outputs": [],
   "source": [
    "Draw.MolsToGridImage(mols_list, \n",
    "                     maxMols=100, useSVG=True, molsPerRow=3)"
   ]
  },
  {
   "cell_type": "code",
   "execution_count": null,
   "id": "73c99917",
   "metadata": {},
   "outputs": [],
   "source": [
    "img = Draw.MolsToGridImage(mols_list[:6], \n",
    "                     maxMols=100, useSVG=True, molsPerRow=3)\n",
    "\n",
    "filename = str('images/prec_0.svg')\n",
    "\n",
    "with open(filename, 'w') as f:\n",
    "    f.write(img.data)"
   ]
  },
  {
   "cell_type": "code",
   "execution_count": null,
   "id": "7ec192f9",
   "metadata": {},
   "outputs": [],
   "source": []
  }
 ],
 "metadata": {
  "kernelspec": {
   "display_name": "Python 3 (ipykernel)",
   "language": "python",
   "name": "python3"
  },
  "language_info": {
   "codemirror_mode": {
    "name": "ipython",
    "version": 3
   },
   "file_extension": ".py",
   "mimetype": "text/x-python",
   "name": "python",
   "nbconvert_exporter": "python",
   "pygments_lexer": "ipython3",
   "version": "3.9.7"
  }
 },
 "nbformat": 4,
 "nbformat_minor": 5
}
