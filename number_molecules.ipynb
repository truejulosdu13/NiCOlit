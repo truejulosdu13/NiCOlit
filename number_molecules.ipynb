{
 "cells": [
  {
   "cell_type": "markdown",
   "id": "c2806689",
   "metadata": {},
   "source": [
    "# Import tools"
   ]
  },
  {
   "cell_type": "code",
   "execution_count": 1,
   "id": "fbb07858",
   "metadata": {},
   "outputs": [],
   "source": [
    "import numpy as np\n",
    "import pandas as pd\n",
    "from rdkit import Chem\n",
    "from rdkit.Chem import Draw\n",
    "from rdkit.Chem import AllChem\n",
    "import fragmentation as fg\n",
    "from rdkit import RDLogger\n",
    "RDLogger.DisableLog('rdApp.*') "
   ]
  },
  {
   "cell_type": "markdown",
   "id": "16355cf1",
   "metadata": {},
   "source": [
    "# Load data"
   ]
  },
  {
   "cell_type": "code",
   "execution_count": 2,
   "id": "79399f20",
   "metadata": {},
   "outputs": [],
   "source": [
    "df = pd.read_csv('Data_test09032021.csv', sep = ',')"
   ]
  },
  {
   "cell_type": "markdown",
   "id": "3e155e0f",
   "metadata": {},
   "source": [
    "# Check if data is clean"
   ]
  },
  {
   "cell_type": "code",
   "execution_count": 3,
   "id": "cc917586",
   "metadata": {},
   "outputs": [],
   "source": [
    "for i in df[\"Product\"]:\n",
    "    m = Chem.MolFromSmiles(i,sanitize=False)\n",
    "    if m is None:\n",
    "          print('invalid', i)"
   ]
  },
  {
   "cell_type": "markdown",
   "id": "e826e440",
   "metadata": {},
   "source": [
    "# Generate fragments for the substrate on the C-O involved in the coupling "
   ]
  },
  {
   "cell_type": "code",
   "execution_count": 4,
   "id": "eabd20d1",
   "metadata": {},
   "outputs": [],
   "source": [
    "unik_react = []\n",
    "corr_product = []\n",
    "for i, smi in enumerate(df[\"Reactant Smile (C-O)\"]):\n",
    "    if smi not in unik_react:\n",
    "        unik_react.append(smi)\n",
    "        corr_product.append(df[\"Product\"][i])"
   ]
  },
  {
   "cell_type": "code",
   "execution_count": 5,
   "id": "f97a6956",
   "metadata": {
    "scrolled": false
   },
   "outputs": [
    {
     "name": "stdout",
     "output_type": "stream",
     "text": [
      "coucou\n",
      "1\n",
      "1\n",
      "2\n",
      "2\n",
      "3\n",
      "3\n",
      "4\n",
      "4\n",
      "5\n",
      "5\n",
      "6\n",
      "6\n",
      "7\n",
      "7\n",
      "8\n",
      "8\n",
      "9\n",
      "9\n",
      "10\n",
      "10\n"
     ]
    }
   ],
   "source": [
    "mol_frags = fg.gen_fragments_on_CO_break(unik_react[:10], corr_product[:10])"
   ]
  },
  {
   "cell_type": "code",
   "execution_count": null,
   "id": "3ae5dc8f",
   "metadata": {},
   "outputs": [],
   "source": [
    "!\\free -g"
   ]
  },
  {
   "cell_type": "code",
   "execution_count": null,
   "id": "fe3a8db8",
   "metadata": {},
   "outputs": [],
   "source": [
    "unik_mol_frags = fg.unique_elements(mol_frags)"
   ]
  },
  {
   "cell_type": "code",
   "execution_count": 2,
   "id": "d945c307",
   "metadata": {},
   "outputs": [
    {
     "ename": "NameError",
     "evalue": "name 'df' is not defined",
     "output_type": "error",
     "traceback": [
      "\u001b[0;31m---------------------------------------------------------------------------\u001b[0m",
      "\u001b[0;31mNameError\u001b[0m                                 Traceback (most recent call last)",
      "\u001b[0;32m/var/folders/c8/7pbzw0r912n01vr9fgdmzhx00000gn/T/ipykernel_44233/3566237385.py\u001b[0m in \u001b[0;36m<module>\u001b[0;34m\u001b[0m\n\u001b[1;32m      1\u001b[0m \u001b[0mOC_unik\u001b[0m \u001b[0;34m=\u001b[0m \u001b[0;34m[\u001b[0m\u001b[0;34m]\u001b[0m\u001b[0;34m\u001b[0m\u001b[0;34m\u001b[0m\u001b[0m\n\u001b[1;32m      2\u001b[0m \u001b[0mOC_prod\u001b[0m \u001b[0;34m=\u001b[0m \u001b[0;34m[\u001b[0m\u001b[0;34m]\u001b[0m\u001b[0;34m\u001b[0m\u001b[0;34m\u001b[0m\u001b[0m\n\u001b[0;32m----> 3\u001b[0;31m \u001b[0;32mfor\u001b[0m \u001b[0mi\u001b[0m\u001b[0;34m,\u001b[0m \u001b[0mj\u001b[0m  \u001b[0;32min\u001b[0m \u001b[0menumerate\u001b[0m\u001b[0;34m(\u001b[0m\u001b[0mdf\u001b[0m\u001b[0;34m[\u001b[0m\u001b[0;34m\"Reactant Smile (C-O)\"\u001b[0m\u001b[0;34m]\u001b[0m\u001b[0;34m)\u001b[0m\u001b[0;34m:\u001b[0m\u001b[0;34m\u001b[0m\u001b[0;34m\u001b[0m\u001b[0m\n\u001b[0m\u001b[1;32m      4\u001b[0m     \u001b[0msmi\u001b[0m \u001b[0;34m=\u001b[0m \u001b[0mChem\u001b[0m\u001b[0;34m.\u001b[0m\u001b[0mMolToSmiles\u001b[0m\u001b[0;34m(\u001b[0m\u001b[0mChem\u001b[0m\u001b[0;34m.\u001b[0m\u001b[0mMolFromSmiles\u001b[0m\u001b[0;34m(\u001b[0m\u001b[0mj\u001b[0m\u001b[0;34m)\u001b[0m\u001b[0;34m)\u001b[0m\u001b[0;34m\u001b[0m\u001b[0;34m\u001b[0m\u001b[0m\n\u001b[1;32m      5\u001b[0m     \u001b[0;32mif\u001b[0m \u001b[0msmi\u001b[0m \u001b[0;32mnot\u001b[0m \u001b[0;32min\u001b[0m \u001b[0mOC_unik\u001b[0m\u001b[0;34m:\u001b[0m\u001b[0;34m\u001b[0m\u001b[0;34m\u001b[0m\u001b[0m\n",
      "\u001b[0;31mNameError\u001b[0m: name 'df' is not defined"
     ]
    }
   ],
   "source": [
    "OC_unik = []\n",
    "OC_prod = []\n",
    "for i, j  in enumerate(df[\"Reactant Smile (C-O)\"]):\n",
    "    smi = Chem.MolToSmiles(Chem.MolFromSmiles(j))\n",
    "    if smi not in OC_unik:\n",
    "        OC_unik.append(smi)\n",
    "        OC_prod.append(df[\"Product\"][i])\n",
    "        \n",
    "fragC = []\n",
    "fragO = []\n",
    "for i in range(len(OC_unik)):\n",
    "    smi = OC_unik[i]\n",
    "    frag = fg.gen_frag_on_CO_break(OC_unik[i], OC_prod[i])\n",
    "    if len(frag) > 1:\n",
    "        fragC.append(frag[0])\n",
    "        fragO.append(frag[1])\n",
    "    elif len(frag) == 1:\n",
    "        fragC.append(frag[0])\n",
    "        fragO.append('nan')"
   ]
  },
  {
   "cell_type": "code",
   "execution_count": null,
   "id": "1aa91630",
   "metadata": {},
   "outputs": [],
   "source": [
    "df2 = pd.DataFrame(data={\"react\": OC_unik, \"fragC\": fragC, \"fragO\": fragO, \"product\": OC_prod})\n",
    "df2.to_csv(\"./fragments.csv\", sep=',',index=False)"
   ]
  }
 ],
 "metadata": {
  "kernelspec": {
   "display_name": "Python 3 (ipykernel)",
   "language": "python",
   "name": "python3"
  },
  "language_info": {
   "codemirror_mode": {
    "name": "ipython",
    "version": 3
   },
   "file_extension": ".py",
   "mimetype": "text/x-python",
   "name": "python",
   "nbconvert_exporter": "python",
   "pygments_lexer": "ipython3",
   "version": "3.7.11"
  }
 },
 "nbformat": 4,
 "nbformat_minor": 5
}
