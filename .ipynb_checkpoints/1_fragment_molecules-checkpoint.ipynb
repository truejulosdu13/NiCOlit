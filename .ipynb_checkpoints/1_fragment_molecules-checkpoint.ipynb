{
 "cells": [
  {
   "cell_type": "markdown",
   "id": "26f195fb",
   "metadata": {},
   "source": [
    "### Important notice : this notebook works under @rom1lebogoss conda env and not under @autoqchem conda env..."
   ]
  },
  {
   "cell_type": "markdown",
   "id": "53bdcfdc",
   "metadata": {},
   "source": [
    "# Import tools"
   ]
  },
  {
   "cell_type": "code",
   "execution_count": 1,
   "id": "2ab766b7",
   "metadata": {},
   "outputs": [
    {
     "data": {
      "text/plain": [
       "0"
      ]
     },
     "execution_count": 1,
     "metadata": {},
     "output_type": "execute_result"
    }
   ],
   "source": [
    "import numpy as np\n",
    "import pandas as pd\n",
    "from rdkit import Chem\n",
    "from rdkit.Chem import Draw\n",
    "from rdkit.Chem import AllChem\n",
    "import fragmentation as fg\n",
    "from rdkit import RDLogger\n",
    "RDLogger.DisableLog('rdApp.*') \n",
    "\n",
    "import gc\n",
    "gc.collect()"
   ]
  },
  {
   "cell_type": "markdown",
   "id": "93a51189",
   "metadata": {},
   "source": [
    "# Load data"
   ]
  },
  {
   "cell_type": "code",
   "execution_count": 2,
   "id": "07a14273",
   "metadata": {},
   "outputs": [],
   "source": [
    "df = pd.read_csv('Data_test09032021.csv', sep = ',')"
   ]
  },
  {
   "cell_type": "markdown",
   "id": "9a65270d",
   "metadata": {},
   "source": [
    "# Check if data is clean"
   ]
  },
  {
   "cell_type": "code",
   "execution_count": 3,
   "id": "65093aaf",
   "metadata": {},
   "outputs": [],
   "source": [
    "for i in df[\"Product\"]:\n",
    "    m = Chem.MolFromSmiles(i,sanitize=False)\n",
    "    if m is None:\n",
    "          print('invalid', i)\n",
    "            \n",
    "for i in df[\"Reactant Smile (C-O)\"]:\n",
    "    m = Chem.MolFromSmiles(i,sanitize=False)\n",
    "    if m is None:\n",
    "          print('invalid', i)"
   ]
  },
  {
   "cell_type": "markdown",
   "id": "319515ca",
   "metadata": {},
   "source": [
    "# Generate fragments for the substrate on the C-O involved in the coupling "
   ]
  },
  {
   "cell_type": "code",
   "execution_count": null,
   "id": "2c7dbfc5",
   "metadata": {},
   "outputs": [],
   "source": [
    "unik_react = []\n",
    "corr_product = []\n",
    "for i, smi in enumerate(df[\"Reactant Smile (C-O)\"]):\n",
    "    can_smi = Chem.MolToSmiles(Chem.MolFromSmiles(smi))\n",
    "    if can_smi not in unik_react:\n",
    "        unik_react.append(can_smi)\n",
    "        corr_product.append(df[\"Product\"][i])\n",
    "\n",
    "fragC = []\n",
    "fragO = []\n",
    "for i in range(len(unik_react)):\n",
    "    smi = unik_react[i]\n",
    "    frag = fg.gen_frag_on_CO_break(unik_react[i], corr_product[i])\n",
    "    if len(frag) > 1:\n",
    "        fragC.append(frag[0])\n",
    "        fragO.append(frag[1])\n",
    "    elif len(frag) == 1:\n",
    "        fragC.append(frag[0])\n",
    "        fragO.append('nan')"
   ]
  },
  {
   "cell_type": "markdown",
   "id": "dcc8d7ba",
   "metadata": {},
   "source": [
    "# Generate the corresponding dataframe and a .csv "
   ]
  },
  {
   "cell_type": "code",
   "execution_count": null,
   "id": "ee5d2d25",
   "metadata": {},
   "outputs": [],
   "source": [
    "df2 = pd.DataFrame(data={\"react\": unik_react, \"fragC\": fragC, \"fragO\": fragO, \"product\": corr_product})\n",
    "df2.to_csv(\"./fragments.csv\", sep=',',index=False)"
   ]
  },
  {
   "cell_type": "markdown",
   "id": "39b6728b",
   "metadata": {},
   "source": [
    "# Visualise the different fragmentation in order to correct potentials errors"
   ]
  },
  {
   "cell_type": "code",
   "execution_count": null,
   "id": "4f01d6b6",
   "metadata": {},
   "outputs": [],
   "source": [
    "# better do it by slices of 200 molecules !\n",
    "verif_mols = []\n",
    "L=[str(i) for i in range(len(unik_react))]\n",
    "for i in range(len(unik_react)):\n",
    "    verif_mols.append(Chem.MolFromSmiles(str(unik_react[i]+\".\"+fragC[i]+\".\"+fragO[i])))\n",
    "    \n",
    "Draw.MolsToGridImage(verif_mols[200:], subImgSize=(400, 400), maxMols = 200, legends = L[200:])"
   ]
  },
  {
   "cell_type": "markdown",
   "id": "0410913b",
   "metadata": {},
   "source": [
    "###### an eventual manual correction can be done and fragment.csv can be updated\n",
    "###### In this example molecules : 5, 31, 34, 57, 59, 89, 128, 164, 180, 222, 261 - 265, 269, 291 - 294, 301, 302, 306, 324, 334, 335, 349, 350, 351, 352, 356, 375, 376, 391"
   ]
  },
  {
   "cell_type": "code",
   "execution_count": null,
   "id": "40649f7a",
   "metadata": {},
   "outputs": [],
   "source": [
    "id_frags_to_modify = [5, 31, 34, 57, 59, 89, 128, 164, 180, 222, 261, 262, 263, 264, \n",
    "                      265, 269, 291, 292, 293, 294,301, 302, 306, 324, 334, 335, 349, \n",
    "                      350, 351, 352, 356, 375, 376, 391] \n",
    "df3 = pd.read_csv(\"./fragments.csv\", sep=',')"
   ]
  },
  {
   "cell_type": "markdown",
   "id": "93369358",
   "metadata": {},
   "source": [
    "###### Rules are neaded to see if we keep some fragments or if we decide to remove them all, especially for the substrates undergoing a double coupling"
   ]
  },
  {
   "cell_type": "code",
   "execution_count": null,
   "id": "6ae5d088",
   "metadata": {
    "scrolled": true
   },
   "outputs": [],
   "source": [
    "df3.loc[57]"
   ]
  },
  {
   "cell_type": "markdown",
   "id": "9c4fdbd0",
   "metadata": {},
   "source": [
    "###### Brute force method : remove all the wrong id "
   ]
  },
  {
   "cell_type": "code",
   "execution_count": null,
   "id": "b931f2e7",
   "metadata": {},
   "outputs": [],
   "source": [
    "df4 = df3.drop(index=id_frags_to_modify)\n",
    "df4.to_csv(\"./fragments_corrected.csv\", sep=',',index=False)"
   ]
  }
 ],
 "metadata": {
  "kernelspec": {
   "display_name": "Python 3",
   "language": "python",
   "name": "python3"
  },
  "language_info": {
   "codemirror_mode": {
    "name": "ipython",
    "version": 3
   },
   "file_extension": ".py",
   "mimetype": "text/x-python",
   "name": "python",
   "nbconvert_exporter": "python",
   "pygments_lexer": "ipython3",
   "version": "3.9.5"
  }
 },
 "nbformat": 4,
 "nbformat_minor": 5
}
