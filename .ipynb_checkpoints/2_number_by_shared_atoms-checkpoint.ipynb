{
 "cells": [
  {
   "cell_type": "markdown",
   "id": "ec51771f",
   "metadata": {},
   "source": [
    "### Important notice : this notebook works under @rom1lebogoss conda env and not under @autoqchem conda env..."
   ]
  },
  {
   "cell_type": "markdown",
   "id": "04937b1e",
   "metadata": {},
   "source": [
    "# Import "
   ]
  },
  {
   "cell_type": "code",
   "execution_count": 1,
   "id": "a29b7bd7",
   "metadata": {},
   "outputs": [],
   "source": [
    "from rdkit import Chem\n",
    "from rdkit.Chem import Draw\n",
    "import numpy as np\n",
    "import pandas as pd\n",
    "import numbering_CO as nb\n",
    "import sys\n",
    "sys.path.append('../')"
   ]
  },
  {
   "cell_type": "markdown",
   "id": "5582b7c3",
   "metadata": {},
   "source": [
    "# Load data : the fragment.csv corrected from step 1"
   ]
  },
  {
   "cell_type": "code",
   "execution_count": 2,
   "id": "adc0b3f7",
   "metadata": {},
   "outputs": [],
   "source": [
    "unik_CO_df = pd.read_csv('fragments_corrected.csv', sep =',')"
   ]
  },
  {
   "cell_type": "markdown",
   "id": "70ad1cb9",
   "metadata": {},
   "source": [
    "# Map the Carbon and Oxygen involved in the coupling"
   ]
  },
  {
   "cell_type": "code",
   "execution_count": 3,
   "id": "31a924ed",
   "metadata": {},
   "outputs": [
    {
     "name": "stdout",
     "output_type": "stream",
     "text": [
      "C[O:1][CH2:2][CH2:3][CH2:4][CH2:5][c:6]1[cH:7][cH:8][c:9]2[cH:10][c:11]([O:12][CH3:13])[cH:14][cH:15][c:16]2[cH:17]1\n",
      "C[O:1][C:2](=[O:3])[c:4]1[cH:5][cH:6][cH:7][c:8]([O:9][CH3:10])[cH:11]1\n",
      "C[O:1][c:2]1[cH:3][cH:4][cH:5][c:6]([O:7][CH2:8][CH2:9][N:10]([CH3:11])[CH3:12])[cH:13]1\n",
      "C[CH2:1][CH2:2][CH:3]1[CH2:4][N:5]2[CH2:6][CH2:7][CH:8]1[CH2:9][CH:10]2[C@@H:11]([O:12][CH2:13][O:14][CH3:15])[c:16]1[cH:17][cH:18][n:19][c:20]2[cH:21][cH:22][c:23]([O:24][CH3:25])[cH:26][c:27]12\n",
      "1\n",
      "C[O:1][CH2:2][c:3]1[cH:4][cH:5][c:6]2[cH:7][c:8]([O:9][CH3:10])[cH:11][cH:12][c:13]2[cH:14]1\n",
      "C[O:1][C:2](=[O:3])[c:4]1[cH:5][cH:6][c:7]([O:8][CH3:9])[cH:10][cH:11]1\n"
     ]
    }
   ],
   "source": [
    "# numerotation des carbones aromatiques 0 et de l'oxygène 1\n",
    "List_numbered_OC = []\n",
    "n = 0\n",
    "for j in range(len(unik_CO_df)):\n",
    "    mol, CO_frag, ar_frag = Chem.MolFromSmiles(unik_CO_df[\"react\"][j]), unik_CO_df[\"fragO\"][j], unik_CO_df[\"fragC\"][j]\n",
    "    mol = nb.number_C0O1(mol, CO_frag, ar_frag)\n",
    "    List_numbered_OC.append([j, Chem.MolToSmiles(mol)])\n",
    "    for at in mol.GetAtoms():\n",
    "        if at.GetAtomMapNum() == 1:\n",
    "            if at.GetAtomicNum() != 8 :\n",
    "                n+=1 \n",
    "                print(n)\n",
    "                List_numbered_OC.append([j, Chem.MolToSmiles(mol)])\n",
    "        elif at.GetAtomMapNum() == 0:\n",
    "            if at.GetAtomicNum() != 6 :\n",
    "                n+=1 \n",
    "                print(n)\n",
    "                List_numbered_OC.append([j, Chem.MolToSmiles(mol)])"
   ]
  },
  {
   "cell_type": "code",
   "execution_count": 4,
   "id": "4d1aa749",
   "metadata": {},
   "outputs": [
    {
     "name": "stdout",
     "output_type": "stream",
     "text": [
      "1\n"
     ]
    }
   ],
   "source": [
    "print(n)"
   ]
  },
  {
   "cell_type": "code",
   "execution_count": null,
   "id": "c22a1188",
   "metadata": {},
   "outputs": [],
   "source": []
  }
 ],
 "metadata": {
  "kernelspec": {
   "display_name": "Python 3",
   "language": "python",
   "name": "python3"
  },
  "language_info": {
   "codemirror_mode": {
    "name": "ipython",
    "version": 3
   },
   "file_extension": ".py",
   "mimetype": "text/x-python",
   "name": "python",
   "nbconvert_exporter": "python",
   "pygments_lexer": "ipython3",
   "version": "3.9.5"
  }
 },
 "nbformat": 4,
 "nbformat_minor": 5
}
