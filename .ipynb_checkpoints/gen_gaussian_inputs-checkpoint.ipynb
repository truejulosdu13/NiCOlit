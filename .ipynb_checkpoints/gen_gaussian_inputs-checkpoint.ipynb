{
 "cells": [
  {
   "cell_type": "code",
   "execution_count": 8,
   "id": "8e22689c",
   "metadata": {},
   "outputs": [],
   "source": [
    "import numpy as np\n",
    "import os\n",
    "import pandas as pd\n",
    "from rdkit import Chem\n",
    "from rdkit.Chem import Draw\n",
    "from rdkit.Chem import AllChem\n",
    "from rdkit import RDLogger\n",
    "RDLogger.DisableLog('rdApp.*') \n",
    "\n",
    "df = pd.read_csv('Data_test09032021.csv', sep = ',')"
   ]
  },
  {
   "cell_type": "code",
   "execution_count": 9,
   "id": "e0d10ce2",
   "metadata": {},
   "outputs": [],
   "source": [
    "# this file generates the inputs for pyscf optimisations from the desire molecules"
   ]
  },
  {
   "cell_type": "code",
   "execution_count": 10,
   "id": "96d642d6",
   "metadata": {},
   "outputs": [],
   "source": [
    "# generation of inputs files for the reactants"
   ]
  },
  {
   "cell_type": "code",
   "execution_count": 11,
   "id": "296bb43c",
   "metadata": {},
   "outputs": [],
   "source": [
    "react = df[\"Reactant Smile (C-O)\"]\n",
    "unik_react = []"
   ]
  },
  {
   "cell_type": "code",
   "execution_count": 12,
   "id": "c0c0e892",
   "metadata": {},
   "outputs": [],
   "source": [
    "for i in react:\n",
    "    j = Chem.MolToSmiles(Chem.MolFromSmiles(i))\n",
    "    if j not in unik_react:\n",
    "        unik_react.append(j)"
   ]
  },
  {
   "cell_type": "code",
   "execution_count": 13,
   "id": "373d66a7",
   "metadata": {
    "scrolled": true
   },
   "outputs": [
    {
     "data": {
      "text/plain": [
       "393"
      ]
     },
     "execution_count": 13,
     "metadata": {},
     "output_type": "execute_result"
    }
   ],
   "source": [
    "len(unik_react)"
   ]
  },
  {
   "cell_type": "code",
   "execution_count": 53,
   "id": "3ca72f91",
   "metadata": {},
   "outputs": [],
   "source": [
    "def gen_inp(smi, i, func, basis):\n",
    "    m = Chem.MolFromSmiles(smi)\n",
    "    m2 = Chem.AddHs(m)\n",
    "    AllChem.EmbedMolecule(m2)\n",
    "    # rdkiyt mean filed optimization (add ref)\n",
    "    AllChem.MMFFOptimizeMolecule(m2)\n",
    "    xyz = Chem.MolToXYZBlock(m2)\n",
    "    with open(\"inputs/mol_inp{}.txt\".format(i), 'w') as f:\n",
    "        f.write('%chk=opt.chk\\n%mem=2gb\\n%nproc=32\\n')\n",
    "        f.write(\"#p {} {} opt scf(xqc,tight)\\n\\nopt calculation\\n\\n\".format(func, basis))\n",
    "        f.write(\"0 1\\n\")\n",
    "        f.write(xyz[4:])\n",
    "        f.write('\\n')"
   ]
  },
  {
   "cell_type": "code",
   "execution_count": 58,
   "id": "532929b2",
   "metadata": {},
   "outputs": [],
   "source": [
    "for i, smi in enumerate(unik_react):\n",
    "    gen_inp(smi, i, 'pbepbe', '3-611+G(d)')"
   ]
  }
 ],
 "metadata": {
  "kernelspec": {
   "display_name": "Python 3",
   "language": "python",
   "name": "python3"
  },
  "language_info": {
   "codemirror_mode": {
    "name": "ipython",
    "version": 3
   },
   "file_extension": ".py",
   "mimetype": "text/x-python",
   "name": "python",
   "nbconvert_exporter": "python",
   "pygments_lexer": "ipython3",
   "version": "3.9.5"
  }
 },
 "nbformat": 4,
 "nbformat_minor": 5
}
