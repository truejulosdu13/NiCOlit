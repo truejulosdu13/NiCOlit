{
 "cells": [
  {
   "cell_type": "code",
   "execution_count": 1,
   "id": "8e22689c",
   "metadata": {},
   "outputs": [],
   "source": [
    "import numpy as np\n",
    "import os\n",
    "import pandas as pd\n",
    "from rdkit import Chem\n",
    "from rdkit.Chem import Draw\n",
    "from rdkit.Chem import AllChem\n",
    "from rdkit import RDLogger\n",
    "RDLogger.DisableLog('rdApp.*') \n",
    "\n",
    "df = pd.read_csv('Data_test09032021.csv', sep = ',')"
   ]
  },
  {
   "cell_type": "code",
   "execution_count": 2,
   "id": "e0d10ce2",
   "metadata": {},
   "outputs": [],
   "source": [
    "# this file generates the inputs for pyscf optimisations from the desire molecules"
   ]
  },
  {
   "cell_type": "code",
   "execution_count": 3,
   "id": "96d642d6",
   "metadata": {},
   "outputs": [],
   "source": [
    "# generation of inputs files for the reactants"
   ]
  },
  {
   "cell_type": "code",
   "execution_count": 4,
   "id": "296bb43c",
   "metadata": {},
   "outputs": [],
   "source": [
    "react = df[\"Reactant Smile (C-O)\"]\n",
    "unik_react = []"
   ]
  },
  {
   "cell_type": "code",
   "execution_count": 5,
   "id": "c0c0e892",
   "metadata": {},
   "outputs": [],
   "source": [
    "for i in react:\n",
    "    j = Chem.MolToSmiles(Chem.MolFromSmiles(i))\n",
    "    if j not in unik_react:\n",
    "        unik_react.append(j)"
   ]
  },
  {
   "cell_type": "code",
   "execution_count": 6,
   "id": "373d66a7",
   "metadata": {
    "scrolled": true
   },
   "outputs": [
    {
     "data": {
      "text/plain": [
       "393"
      ]
     },
     "execution_count": 6,
     "metadata": {},
     "output_type": "execute_result"
    }
   ],
   "source": [
    "len(unik_react)"
   ]
  },
  {
   "cell_type": "code",
   "execution_count": 38,
   "id": "3ca72f91",
   "metadata": {},
   "outputs": [],
   "source": [
    "def gen_inp(smi, i, func, basis, path):\n",
    "    m = Chem.MolFromSmiles(smi)\n",
    "    m2 = Chem.AddHs(m)\n",
    "    AllChem.EmbedMolecule(m2)\n",
    "    # rdkiyt mean filed optimization (add ref)\n",
    "    AllChem.MMFFOptimizeMolecule(m2)\n",
    "    xyz = Chem.MolToXYZBlock(m2)\n",
    "    with open(\"{}mol_inp{}.com\".format(path, f\"{i:03}\"), 'w') as f:\n",
    "        f.write('%chk=opt.chk\\n%mem=2gb\\n%nproc=1\\n')\n",
    "        f.write(\"#p {} {} opt scf(xqc,tight)\\n\\nopt calculation\\n\\n\".format(func, basis))\n",
    "        f.write(\"0 1\\n\")\n",
    "        f.write(xyz[4:])\n",
    "        f.write('\\n')\n",
    "    with open(\"{}do\".format(path), 'w') as f2:\n",
    "        f2.write('#! /bin/bash\\n#SBATCH -J runG09\\n#SBATCH --ntasks=1\\n')\n",
    "        f2.write('#SBATCH --time=1000:00:00\\n')       \n",
    "        f2.write(\"#SBATCH --output mol_{}.out\\n\".format(f\"{i:03}\"))\n",
    "        f2.write(\"#SBATCH --mail-type=ALL\\n\")\n",
    "        f2.write(\"#SBATCH --mail-user=jules.schleinitz@ens.fr\\n\\n\")\n",
    "        f2.write(\"#########################################################\\n\\n\")\n",
    "        f2.write(\"module purge\\nmodule load gaussian\\n\\n\")\n",
    "        f2.write(\"source ${g09root}/g09.profile\\n\\n\")\n",
    "        f2.write(\"g09 mol_inp{}\\n\".format(f\"{i:03}\"))\n"
   ]
  },
  {
   "cell_type": "code",
   "execution_count": 39,
   "id": "532929b2",
   "metadata": {},
   "outputs": [],
   "source": [
    "for i, smi in enumerate(unik_react):\n",
    "    os.mkdir(\"inputs/{}\".format(f\"{i:03}\"), mode=0o777 )\n",
    "    gen_inp(smi, i, 'b3lyp', '6-31G*', \"inputs/{}/\".format(f\"{i:03}\"))"
   ]
  },
  {
   "cell_type": "code",
   "execution_count": 29,
   "id": "6acfe155",
   "metadata": {},
   "outputs": [
    {
     "ename": "FileNotFoundError",
     "evalue": "[Errno 2] No such file or directory: 'inputs/001'",
     "output_type": "error",
     "traceback": [
      "\u001b[0;31m---------------------------------------------------------------------------\u001b[0m",
      "\u001b[0;31mFileNotFoundError\u001b[0m                         Traceback (most recent call last)",
      "\u001b[0;32m<ipython-input-29-21235edc1c97>\u001b[0m in \u001b[0;36m<module>\u001b[0;34m\u001b[0m\n\u001b[0;32m----> 1\u001b[0;31m \u001b[0mos\u001b[0m\u001b[0;34m.\u001b[0m\u001b[0mmkdir\u001b[0m\u001b[0;34m(\u001b[0m\u001b[0;34m\"inputs/001\"\u001b[0m\u001b[0;34m,\u001b[0m \u001b[0mmode\u001b[0m\u001b[0;34m=\u001b[0m\u001b[0;36m0o555\u001b[0m \u001b[0;34m)\u001b[0m\u001b[0;34m\u001b[0m\u001b[0;34m\u001b[0m\u001b[0m\n\u001b[0m",
      "\u001b[0;31mFileNotFoundError\u001b[0m: [Errno 2] No such file or directory: 'inputs/001'"
     ]
    }
   ],
   "source": [
    "os.mkdir(\"inputs/001\", mode=0o555 )"
   ]
  },
  {
   "cell_type": "code",
   "execution_count": null,
   "id": "54f08092",
   "metadata": {},
   "outputs": [],
   "source": []
  }
 ],
 "metadata": {
  "kernelspec": {
   "display_name": "Python 3",
   "language": "python",
   "name": "python3"
  },
  "language_info": {
   "codemirror_mode": {
    "name": "ipython",
    "version": 3
   },
   "file_extension": ".py",
   "mimetype": "text/x-python",
   "name": "python",
   "nbconvert_exporter": "python",
   "pygments_lexer": "ipython3",
   "version": "3.9.5"
  }
 },
 "nbformat": 4,
 "nbformat_minor": 5
}
