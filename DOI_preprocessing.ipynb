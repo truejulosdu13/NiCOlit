{
 "cells": [
  {
   "cell_type": "code",
   "execution_count": 1,
   "id": "631dc781",
   "metadata": {},
   "outputs": [],
   "source": [
    "import pandas as pd\n",
    "import numpy as np\n",
    "import matplotlib.pyplot as plt\n",
    "import descriptors.preprocessing as pp\n",
    "import descriptors.dft_featurisation as dft_ft\n",
    "from analysis import analysis_train_set_size, random_split, stratified_split "
   ]
  },
  {
   "cell_type": "code",
   "execution_count": 2,
   "id": "315072c8",
   "metadata": {},
   "outputs": [],
   "source": [
    "df = pd.read_csv(\"data/NiCOlit.csv\")\n",
    "\n",
    "df_dft = pp.preprocess(df, remove_small_doi=False)"
   ]
  },
  {
   "cell_type": "code",
   "execution_count": 4,
   "id": "81cebc1f",
   "metadata": {},
   "outputs": [],
   "source": [
    "X_dft, y_dft, DOI_dft, mechanisms_dft, origins_dft, sub_dft, lig_dft = dft_ft.process_dataframe_dft(df_dft, data_path=\"data/utils/\", origin=False)"
   ]
  },
  {
   "cell_type": "code",
   "execution_count": 9,
   "id": "fb0d84c9",
   "metadata": {},
   "outputs": [],
   "source": [
    "# Random Split\n",
    "values, baseline_values, model_values, stratification_values, additional_stratification_values = random_split(X_dft, y_dft, origins_dft, mechanisms_dft, n_iterations=10)\n",
    "display_df =  pd.DataFrame(zip(values, baseline_values, model_values, stratification_values, additional_stratification_values), \n",
    "                           columns = ['Yields', 'Baseline', 'Predicted Yields', 'Origin', 'Coupling Partner'])"
   ]
  },
  {
   "cell_type": "code",
   "execution_count": 15,
   "id": "27117429",
   "metadata": {},
   "outputs": [
    {
     "data": {
      "image/png": "[encoded data removed]",
      "text/plain": [
       "<Figure size 432x288 with 1 Axes>"
      ]
     },
     "metadata": {
      "needs_background": "light"
     },
     "output_type": "display_data"
    }
   ],
   "source": [
    "plt.scatter(values, model_values, alpha=0.1)\n",
    "plt.show()"
   ]
  },
  {
   "cell_type": "code",
   "execution_count": 11,
   "id": "e2d1d106",
   "metadata": {},
   "outputs": [
    {
     "name": "stdout",
     "output_type": "stream",
     "text": [
      "0.5611786219650394\n",
      "16.075913418667774\n",
      "22.091196765708577\n"
     ]
    }
   ],
   "source": [
    "from sklearn.metrics import r2_score, mean_absolute_error, mean_squared_error\n",
    "\n",
    "print(r2_score(values, model_values))\n",
    "print(mean_absolute_error(values, model_values))\n",
    "print(mean_squared_error(values, model_values)**0.5)"
   ]
  },
  {
   "cell_type": "code",
   "execution_count": 13,
   "id": "1f9d2d3d",
   "metadata": {},
   "outputs": [
    {
     "name": "stdout",
     "output_type": "stream",
     "text": [
      "OAc 72 0.405\n",
      "OC(=O)N 279 0.366\n",
      "OC(=O)O 85 0.67\n",
      "OCH3 574 0.582\n",
      "OCOC 17 -0.381\n",
      "OPh 3 -1.338\n",
      "OPiv 417 0.575\n",
      "OSi(C)(C)C 23 -0.272\n",
      "Otriazine 54 0.392\n",
      "others 8 0.001\n"
     ]
    }
   ],
   "source": [
    "# Restricted CP and Substrates performances\n",
    "n_iterations = 100\n",
    "r2_sub = []\n",
    "length_sub = []\n",
    "for sub in np.unique(sub_dft):\n",
    "    indexes = np.where(sub_dft==sub)[0]\n",
    "    values, baseline_values, model_values, stratification_values, additional_stratification_values = random_split(X_dft[indexes, :], y_dft[indexes], origins_dft[indexes], \n",
    "                                                                                                                  sub_dft[indexes], n_iterations=n_iterations)\n",
    "    print(sub, len(indexes), round(r2_score(values, model_values), 3))\n",
    "    r2_sub.append(round(r2_score(values, model_values), 3))\n",
    "    length_sub.append(len(indexes))"
   ]
  },
  {
   "cell_type": "markdown",
   "id": "fbf7d72e",
   "metadata": {},
   "source": [
    "## Results with DOI <20 removed\n",
    "OAc 72 0.404\n",
    "\n",
    "OC(=O)N 215 0.348\n",
    "\n",
    "OC(=O)O 82 0.641\n",
    "\n",
    "OCH3 546 0.569\n",
    "\n",
    "OCOC 17 -0.367\n",
    "\n",
    "OPh 3 -1.304\n",
    "\n",
    "OPiv 394 0.555\n",
    "\n",
    "OSi(C)(C)C 23 -0.284\n",
    "\n",
    "Otriazine 54 0.391"
   ]
  },
  {
   "cell_type": "code",
   "execution_count": 14,
   "id": "76bfbd2e",
   "metadata": {},
   "outputs": [
    {
     "name": "stdout",
     "output_type": "stream",
     "text": [
      "Al 53 0.182\n",
      "B 534 0.507\n",
      "C-H 274 0.554\n",
      "CO2 87 0.497\n",
      "Li 52 0.045\n",
      "NCO 57 0.295\n",
      "NH 27 -0.048\n",
      "P 6 0.097\n",
      "RMgX 321 0.482\n",
      "Si 53 0.59\n",
      "Zn 68 0.571\n"
     ]
    }
   ],
   "source": [
    "r2_cp = []\n",
    "length_cp = []\n",
    "for sub in np.unique(mechanisms_dft):\n",
    "    indexes = np.where(mechanisms_dft==sub)[0]\n",
    "    values, baseline_values, model_values, stratification_values, additional_stratification_values = random_split(X_dft[indexes, :], y_dft[indexes], origins_dft[indexes], \n",
    "                                                                                                                  mechanisms_dft[indexes], n_iterations=n_iterations)\n",
    "    print(sub, len(indexes), round(r2_score(values, model_values), 3))\n",
    "    r2_cp.append(round(r2_score(values, model_values),3))\n",
    "    length_cp.append(len(indexes))"
   ]
  },
  {
   "cell_type": "markdown",
   "id": "c103c118",
   "metadata": {},
   "source": [
    "## Results with DOI <20 removed\n",
    "Al 53 0.175\n",
    "\n",
    "B 472 0.447\n",
    "\n",
    "C-H 271 0.557\n",
    "\n",
    "CO2 87 0.497\n",
    "\n",
    "Li 52 0.044\n",
    "\n",
    "NCO 57 0.29\n",
    "\n",
    "NH 27 -0.031\n",
    "\n",
    "RMgX 266 0.476\n",
    "\n",
    "Si 53 0.591\n",
    "\n",
    "Zn 68 0.573"
   ]
  }
 ],
 "metadata": {
  "kernelspec": {
   "display_name": "Python 3 (ipykernel)",
   "language": "python",
   "name": "python3"
  },
  "language_info": {
   "codemirror_mode": {
    "name": "ipython",
    "version": 3
   },
   "file_extension": ".py",
   "mimetype": "text/x-python",
   "name": "python",
   "nbconvert_exporter": "python",
   "pygments_lexer": "ipython3",
   "version": "3.9.7"
  }
 },
 "nbformat": 4,
 "nbformat_minor": 5
}
