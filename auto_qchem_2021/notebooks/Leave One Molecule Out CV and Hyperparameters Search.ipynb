{
 "cells": [
  {
   "cell_type": "code",
   "execution_count": 1,
   "id": "09e57d1a",
   "metadata": {},
   "outputs": [],
   "source": [
    "import pandas as pd\n",
    "import numpy as np\n",
    "import os\n",
    "\n",
    "from sklearn.model_selection import cross_validate, LeaveOneGroupOut, GridSearchCV\n",
    "from sklearn import linear_model\n",
    "from sklearn.ensemble import RandomForestRegressor"
   ]
  },
  {
   "cell_type": "markdown",
   "id": "ec348cb6",
   "metadata": {},
   "source": [
    "### Data Load and Prep"
   ]
  },
  {
   "cell_type": "code",
   "execution_count": 4,
   "id": "1dc8432f",
   "metadata": {},
   "outputs": [
    {
     "data": {
      "text/plain": [
       "(3955, 126)"
      ]
     },
     "execution_count": 4,
     "metadata": {},
     "output_type": "execute_result"
    }
   ],
   "source": [
    "df = pd.read_csv(\"../../../Projects/Account ML/notebooks/amination.csv\")\n",
    "\n",
    "# drop reactions without yield\n",
    "df = df.dropna(subset=['yield'])\n",
    "df.shape"
   ]
  },
  {
   "cell_type": "code",
   "execution_count": 5,
   "id": "871356ea",
   "metadata": {},
   "outputs": [
    {
     "data": {
      "text/plain": [
       "((3955, 120), (3955,))"
      ]
     },
     "execution_count": 5,
     "metadata": {},
     "output_type": "execute_result"
    }
   ],
   "source": [
    "# get only numeric part of dataframe\n",
    "df_numeric = df.select_dtypes(exclude='object')\n",
    "\n",
    "# X, y split\n",
    "X = df_numeric[df_numeric.columns.difference(['yield'])]\n",
    "y = df_numeric['yield']\n",
    "\n",
    "X.shape, y.shape"
   ]
  },
  {
   "cell_type": "markdown",
   "id": "bec1686d",
   "metadata": {},
   "source": [
    "### Single CV evaluation\n",
    "\n",
    "Notes:\n",
    " - LeaveOneGroupOut splits by a group in a sorted fashion, i.e., molecules are sorted by their name."
   ]
  },
  {
   "cell_type": "code",
   "execution_count": 6,
   "id": "6590d7c9",
   "metadata": {
    "scrolled": true
   },
   "outputs": [],
   "source": [
    "# model estimator, here either linear (Lasso) or rf (RandomForestRegressor)\n",
    "est = linear_model.Lasso(alpha=5)\n",
    "est = RandomForestRegressor(n_estimators=30,\n",
    "                            min_samples_split=10, \n",
    "                            min_samples_leaf=5,\n",
    "                            max_depth=8)\n",
    "\n",
    "# leave one molecule out cross-validator\n",
    "lomo = LeaveOneGroupOut()\n",
    "\n",
    "# run cross validation\n",
    "scores = cross_validate(est, X, y,\n",
    "                        cv=lomo.split(X, y, groups=df.additive), # here we select the group by which we split\n",
    "                        scoring=('r2', 'neg_mean_squared_error'),\n",
    "                        return_train_score=True,\n",
    "                        n_jobs=os.cpu_count() - 1) # this adds parallelism to the CV loop"
   ]
  },
  {
   "cell_type": "code",
   "execution_count": 7,
   "id": "4a627206",
   "metadata": {
    "scrolled": true
   },
   "outputs": [
    {
     "data": {
      "text/html": [
       "<div>\n",
       "<style scoped>\n",
       "    .dataframe tbody tr th:only-of-type {\n",
       "        vertical-align: middle;\n",
       "    }\n",
       "\n",
       "    .dataframe tbody tr th {\n",
       "        vertical-align: top;\n",
       "    }\n",
       "\n",
       "    .dataframe thead th {\n",
       "        text-align: right;\n",
       "    }\n",
       "</style>\n",
       "<table border=\"1\" class=\"dataframe\">\n",
       "  <thead>\n",
       "    <tr style=\"text-align: right;\">\n",
       "      <th></th>\n",
       "      <th>train_rmse</th>\n",
       "      <th>test_rmse</th>\n",
       "      <th>train_r2</th>\n",
       "      <th>test_r2</th>\n",
       "    </tr>\n",
       "  </thead>\n",
       "  <tbody>\n",
       "    <tr>\n",
       "      <th>3,5-dimethylisoxazole</th>\n",
       "      <td>8.27</td>\n",
       "      <td>9.96</td>\n",
       "      <td>0.91</td>\n",
       "      <td>0.86</td>\n",
       "    </tr>\n",
       "    <tr>\n",
       "      <th>3-methyl-5-phenylisoxazole</th>\n",
       "      <td>8.23</td>\n",
       "      <td>9.12</td>\n",
       "      <td>0.91</td>\n",
       "      <td>0.88</td>\n",
       "    </tr>\n",
       "    <tr>\n",
       "      <th>3-methylisoxazole</th>\n",
       "      <td>8.06</td>\n",
       "      <td>14.24</td>\n",
       "      <td>0.91</td>\n",
       "      <td>0.80</td>\n",
       "    </tr>\n",
       "    <tr>\n",
       "      <th>3-phenylisoxazole</th>\n",
       "      <td>8.06</td>\n",
       "      <td>15.83</td>\n",
       "      <td>0.91</td>\n",
       "      <td>0.72</td>\n",
       "    </tr>\n",
       "    <tr>\n",
       "      <th>4-phenylisoxazole</th>\n",
       "      <td>7.95</td>\n",
       "      <td>24.70</td>\n",
       "      <td>0.91</td>\n",
       "      <td>0.20</td>\n",
       "    </tr>\n",
       "  </tbody>\n",
       "</table>\n",
       "</div>"
      ],
      "text/plain": [
       "                            train_rmse  test_rmse  train_r2  test_r2\n",
       "3,5-dimethylisoxazole             8.27       9.96      0.91     0.86\n",
       "3-methyl-5-phenylisoxazole        8.23       9.12      0.91     0.88\n",
       "3-methylisoxazole                 8.06      14.24      0.91     0.80\n",
       "3-phenylisoxazole                 8.06      15.83      0.91     0.72\n",
       "4-phenylisoxazole                 7.95      24.70      0.91     0.20"
      ]
     },
     "metadata": {},
     "output_type": "display_data"
    },
    {
     "data": {
      "text/html": [
       "<div>\n",
       "<style scoped>\n",
       "    .dataframe tbody tr th:only-of-type {\n",
       "        vertical-align: middle;\n",
       "    }\n",
       "\n",
       "    .dataframe tbody tr th {\n",
       "        vertical-align: top;\n",
       "    }\n",
       "\n",
       "    .dataframe thead th {\n",
       "        text-align: right;\n",
       "    }\n",
       "</style>\n",
       "<table border=\"1\" class=\"dataframe\">\n",
       "  <thead>\n",
       "    <tr style=\"text-align: right;\">\n",
       "      <th></th>\n",
       "      <th>metric</th>\n",
       "    </tr>\n",
       "  </thead>\n",
       "  <tbody>\n",
       "    <tr>\n",
       "      <th>train_rmse</th>\n",
       "      <td>8.20</td>\n",
       "    </tr>\n",
       "    <tr>\n",
       "      <th>test_rmse</th>\n",
       "      <td>15.31</td>\n",
       "    </tr>\n",
       "    <tr>\n",
       "      <th>train_r2</th>\n",
       "      <td>0.91</td>\n",
       "    </tr>\n",
       "    <tr>\n",
       "      <th>test_r2</th>\n",
       "      <td>0.39</td>\n",
       "    </tr>\n",
       "  </tbody>\n",
       "</table>\n",
       "</div>"
      ],
      "text/plain": [
       "            metric\n",
       "train_rmse    8.20\n",
       "test_rmse    15.31\n",
       "train_r2      0.91\n",
       "test_r2       0.39"
      ]
     },
     "metadata": {},
     "output_type": "display_data"
    }
   ],
   "source": [
    "# convert results into a dataframe\n",
    "scores['test_rmse'] = list(map(lambda s: np.sqrt(-s),\n",
    "                               scores['test_neg_mean_squared_error']))\n",
    "scores['train_rmse'] = list(map(lambda s: np.sqrt(-s),\n",
    "                                scores['train_neg_mean_squared_error']))\n",
    "\n",
    "results = pd.DataFrame([scores['train_rmse'],\n",
    "                        scores['test_rmse'], \n",
    "                        scores['train_r2'],\n",
    "                        scores['test_r2']],\n",
    "                       index=['train_rmse',\n",
    "                              'test_rmse',\n",
    "                              'train_r2',\n",
    "                              'test_r2'], \n",
    "                       columns=sorted(df.additive.unique())).T\n",
    "\n",
    "display(results.head().round(2))\n",
    "display(results.mean().to_frame('metric').round(2))"
   ]
  },
  {
   "cell_type": "markdown",
   "id": "80886ac0",
   "metadata": {},
   "source": [
    "### Hyperparameter tuning\n",
    "\n",
    "Using brute-force grid search (no Bayesian Optimization here, yet)"
   ]
  },
  {
   "cell_type": "code",
   "execution_count": 8,
   "id": "7429d03f",
   "metadata": {},
   "outputs": [],
   "source": [
    "# estimator choice\n",
    "est = linear_model.Lasso()\n",
    "params = {'alpha':[0.1, 1, 10, 100]}\n",
    "\n",
    "est = RandomForestRegressor(n_estimators=30, \n",
    "                            min_samples_split=10, \n",
    "                            min_samples_leaf=5)\n",
    "params = {'max_depth':[1,2,4,8],\n",
    "          'n_estimators':[10, 30, 50]}\n",
    "\n",
    "# leave one molecule out cross-validator\n",
    "lomo = LeaveOneGroupOut()"
   ]
  },
  {
   "cell_type": "code",
   "execution_count": 9,
   "id": "c0c14027",
   "metadata": {},
   "outputs": [],
   "source": [
    "# run the search (this may take some time)\n",
    "reg = GridSearchCV(est, \n",
    "                   param_grid=params, \n",
    "                   scoring=('r2'),\n",
    "                   cv=lomo.split(X, y, groups=df.additive),\n",
    "                   n_jobs=os.cpu_count() - 1).fit(X, y)"
   ]
  },
  {
   "cell_type": "code",
   "execution_count": 10,
   "id": "819f56d4",
   "metadata": {},
   "outputs": [
    {
     "data": {
      "text/html": [
       "<div>\n",
       "<style scoped>\n",
       "    .dataframe tbody tr th:only-of-type {\n",
       "        vertical-align: middle;\n",
       "    }\n",
       "\n",
       "    .dataframe tbody tr th {\n",
       "        vertical-align: top;\n",
       "    }\n",
       "\n",
       "    .dataframe thead th {\n",
       "        text-align: right;\n",
       "    }\n",
       "</style>\n",
       "<table border=\"1\" class=\"dataframe\">\n",
       "  <thead>\n",
       "    <tr style=\"text-align: right;\">\n",
       "      <th></th>\n",
       "      <th>param_max_depth</th>\n",
       "      <th>param_n_estimators</th>\n",
       "      <th>mean_test_score</th>\n",
       "      <th>rank_test_score</th>\n",
       "    </tr>\n",
       "  </thead>\n",
       "  <tbody>\n",
       "    <tr>\n",
       "      <th>11</th>\n",
       "      <td>8</td>\n",
       "      <td>50</td>\n",
       "      <td>0.388067</td>\n",
       "      <td>1</td>\n",
       "    </tr>\n",
       "    <tr>\n",
       "      <th>10</th>\n",
       "      <td>8</td>\n",
       "      <td>30</td>\n",
       "      <td>0.378718</td>\n",
       "      <td>2</td>\n",
       "    </tr>\n",
       "    <tr>\n",
       "      <th>9</th>\n",
       "      <td>8</td>\n",
       "      <td>10</td>\n",
       "      <td>0.375531</td>\n",
       "      <td>3</td>\n",
       "    </tr>\n",
       "    <tr>\n",
       "      <th>7</th>\n",
       "      <td>4</td>\n",
       "      <td>30</td>\n",
       "      <td>0.272488</td>\n",
       "      <td>4</td>\n",
       "    </tr>\n",
       "    <tr>\n",
       "      <th>8</th>\n",
       "      <td>4</td>\n",
       "      <td>50</td>\n",
       "      <td>0.270460</td>\n",
       "      <td>5</td>\n",
       "    </tr>\n",
       "    <tr>\n",
       "      <th>6</th>\n",
       "      <td>4</td>\n",
       "      <td>10</td>\n",
       "      <td>0.262233</td>\n",
       "      <td>6</td>\n",
       "    </tr>\n",
       "    <tr>\n",
       "      <th>4</th>\n",
       "      <td>2</td>\n",
       "      <td>30</td>\n",
       "      <td>0.008624</td>\n",
       "      <td>7</td>\n",
       "    </tr>\n",
       "    <tr>\n",
       "      <th>5</th>\n",
       "      <td>2</td>\n",
       "      <td>50</td>\n",
       "      <td>0.007162</td>\n",
       "      <td>8</td>\n",
       "    </tr>\n",
       "    <tr>\n",
       "      <th>3</th>\n",
       "      <td>2</td>\n",
       "      <td>10</td>\n",
       "      <td>0.002478</td>\n",
       "      <td>9</td>\n",
       "    </tr>\n",
       "    <tr>\n",
       "      <th>0</th>\n",
       "      <td>1</td>\n",
       "      <td>10</td>\n",
       "      <td>-0.130662</td>\n",
       "      <td>10</td>\n",
       "    </tr>\n",
       "    <tr>\n",
       "      <th>1</th>\n",
       "      <td>1</td>\n",
       "      <td>30</td>\n",
       "      <td>-0.135217</td>\n",
       "      <td>11</td>\n",
       "    </tr>\n",
       "    <tr>\n",
       "      <th>2</th>\n",
       "      <td>1</td>\n",
       "      <td>50</td>\n",
       "      <td>-0.135586</td>\n",
       "      <td>12</td>\n",
       "    </tr>\n",
       "  </tbody>\n",
       "</table>\n",
       "</div>"
      ],
      "text/plain": [
       "   param_max_depth param_n_estimators  mean_test_score  rank_test_score\n",
       "11               8                 50         0.388067                1\n",
       "10               8                 30         0.378718                2\n",
       "9                8                 10         0.375531                3\n",
       "7                4                 30         0.272488                4\n",
       "8                4                 50         0.270460                5\n",
       "6                4                 10         0.262233                6\n",
       "4                2                 30         0.008624                7\n",
       "5                2                 50         0.007162                8\n",
       "3                2                 10         0.002478                9\n",
       "0                1                 10        -0.130662               10\n",
       "1                1                 30        -0.135217               11\n",
       "2                1                 50        -0.135586               12"
      ]
     },
     "execution_count": 10,
     "metadata": {},
     "output_type": "execute_result"
    }
   ],
   "source": [
    "# fetch scores\n",
    "scores = pd.DataFrame(reg.cv_results_)\n",
    "\n",
    "# get only interesting columns\n",
    "par_cols = scores.columns[scores.columns.str.startswith('param_')].tolist()\n",
    "\n",
    "scores = scores[par_cols + ['mean_test_score', 'rank_test_score']]\n",
    "scores.sort_values(by='rank_test_score')"
   ]
  },
  {
   "cell_type": "code",
   "execution_count": null,
   "id": "b7b20ca9",
   "metadata": {},
   "outputs": [],
   "source": []
  }
 ],
 "metadata": {
  "kernelspec": {
   "display_name": "Python 3 (ipykernel)",
   "language": "python",
   "name": "python3"
  },
  "language_info": {
   "codemirror_mode": {
    "name": "ipython",
    "version": 3
   },
   "file_extension": ".py",
   "mimetype": "text/x-python",
   "name": "python",
   "nbconvert_exporter": "python",
   "pygments_lexer": "ipython3",
   "version": "3.7.11"
  }
 },
 "nbformat": 4,
 "nbformat_minor": 5
}
