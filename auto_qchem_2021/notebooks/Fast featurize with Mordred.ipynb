{
 "cells": [
  {
   "cell_type": "code",
   "execution_count": 8,
   "metadata": {},
   "outputs": [],
   "source": [
    "import pandas as pd\n",
    "import numpy as np\n",
    "import mordred\n",
    "from rdkit import Chem\n",
    "from rdkit.Chem import AllChem\n",
    "from mordred import Calculator, descriptors"
   ]
  },
  {
   "cell_type": "code",
   "execution_count": 3,
   "metadata": {},
   "outputs": [],
   "source": [
    "# fetch smiles lists\n",
    "df = pd.read_csv(\"C:/Users/AndrzejZuranski/Dropbox/DataX_PU/Projects/Shutian/data/yields_combined_from_SKK.csv\")"
   ]
  },
  {
   "cell_type": "markdown",
   "metadata": {},
   "source": [
    "### Prepare rdkit molecules"
   ]
  },
  {
   "cell_type": "code",
   "execution_count": 4,
   "metadata": {},
   "outputs": [],
   "source": [
    "# make rdkit mols\n",
    "df['rdmol'] = df['smi'].map(lambda x: Chem.MolFromSmiles(x))\n",
    "\n",
    "# drop molecules that rdkit cannot handle\n",
    "df= df.dropna(subset=['rdmol'])\n",
    "\n",
    "# get inchi\n",
    "df['inchi'] = df['rdmol'].map(Chem.MolToInchi)\n",
    "\n",
    "# drop duplicates on inchi\n",
    "df = df.drop_duplicates(subset=\"inchi\")"
   ]
  },
  {
   "cell_type": "markdown",
   "metadata": {},
   "source": [
    "#### Optimize geometry"
   ]
  },
  {
   "cell_type": "code",
   "execution_count": 9,
   "metadata": {},
   "outputs": [
    {
     "name": "stdout",
     "output_type": "stream",
     "text": [
      "Wall time: 658 ms\n"
     ]
    }
   ],
   "source": [
    "%%time\n",
    "df['rdmolH'] = df['rdmol'].map(Chem.AddHs)\n",
    "_ = df['rdmolH'].map(AllChem.EmbedMolecule)\n",
    "_ = df['rdmolH'].map(AllChem.MMFFOptimizeMolecule)"
   ]
  },
  {
   "cell_type": "markdown",
   "metadata": {},
   "source": [
    "### Calculate Mordred descriptors"
   ]
  },
  {
   "cell_type": "code",
   "execution_count": 10,
   "metadata": {},
   "outputs": [],
   "source": [
    "# initialize Mordred calculators\n",
    "calc=Calculator(descriptors, ignore_3D=True,)"
   ]
  },
  {
   "cell_type": "code",
   "execution_count": 19,
   "metadata": {},
   "outputs": [
    {
     "name": "stderr",
     "output_type": "stream",
     "text": [
      "100%|███████████████████████████████████████████████████████████████████████████████| 52/52 [00:02<00:00, 24.21it/s]\n"
     ]
    },
    {
     "name": "stdout",
     "output_type": "stream",
     "text": [
      "Wall time: 3.09 s\n"
     ]
    }
   ],
   "source": [
    "%%time\n",
    "# compute Mordred descriptors for all molecules (may take long)\n",
    "md=calc.pandas(df['rdmol'])"
   ]
  },
  {
   "cell_type": "code",
   "execution_count": 20,
   "metadata": {},
   "outputs": [],
   "source": [
    "# replace mordred errors with NaNs\n",
    "md=md.applymap(lambda x: np.nan if type(x) in [mordred.error.Missing,\n",
    "                                               mordred.error.Error] else x)"
   ]
  },
  {
   "cell_type": "code",
   "execution_count": 21,
   "metadata": {},
   "outputs": [],
   "source": [
    "# drop columns that have NaNs\n",
    "md=md.dropna(axis=1)"
   ]
  },
  {
   "cell_type": "code",
   "execution_count": 22,
   "metadata": {},
   "outputs": [],
   "source": [
    "# add smi\n",
    "md.insert(0,'smi', df['smi'])"
   ]
  },
  {
   "cell_type": "code",
   "execution_count": 24,
   "metadata": {},
   "outputs": [],
   "source": [
    "# save to csv\n",
    "md.to_csv(\"C:/Users/AndrzejZuranski/Dropbox/DataX_PU/Projects/Shutian/data/md_desc.csv\",\n",
    "          index=False)"
   ]
  }
 ],
 "metadata": {
  "kernelspec": {
   "display_name": "Python 3 (ipykernel)",
   "language": "python",
   "name": "python3"
  },
  "language_info": {
   "codemirror_mode": {
    "name": "ipython",
    "version": 3
   },
   "file_extension": ".py",
   "mimetype": "text/x-python",
   "name": "python",
   "nbconvert_exporter": "python",
   "pygments_lexer": "ipython3",
   "version": "3.7.11"
  }
 },
 "nbformat": 4,
 "nbformat_minor": 4
}
