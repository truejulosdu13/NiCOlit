{
 "cells": [
  {
   "cell_type": "markdown",
   "metadata": {},
   "source": [
    "### Package requirements\n",
    "    * conda install plotly\n",
    "    * conda install -c conda-forge rdkit"
   ]
  },
  {
   "cell_type": "markdown",
   "metadata": {},
   "source": [
    "### About \n",
    "Cell below contains a function that makes a scatter plot and provides a molecular graph on hover action. The inputs require a dataframe, and the names of the x, y, and smiles columns in that dataframe\n",
    "    "
   ]
  },
  {
   "cell_type": "code",
   "execution_count": 1,
   "metadata": {
    "scrolled": false
   },
   "outputs": [],
   "source": [
    "import io\n",
    "\n",
    "import plotly.graph_objs as go\n",
    "from ipywidgets import HTML, Image, Layout, HBox, VBox\n",
    "\n",
    "from rdkit import Chem\n",
    "from rdkit.Chem.Draw import MolToImage\n",
    "\n",
    "def scatter_mol_hover(dataframe, x_col_name, y_col_name, smiles_col_name):\n",
    "    \"\"\"\n",
    "\n",
    "    :param dataframe: input pandas dataframe\n",
    "    :param x_col_name: x-axis column name\n",
    "    :param y_col_name: y-axis column name\n",
    "    :param smiles_col_name: smiles column name\n",
    "        \"\"\"\n",
    "\n",
    "    # helper function that converts smiles to byte array image\n",
    "    def smi_to_bytes_img(smi):\n",
    "        img = MolToImage(Chem.MolFromSmiles(smi), size=(300, 300))\n",
    "        io_bytes = io.BytesIO()\n",
    "        img.save(io_bytes, format='PNG')           \n",
    "        return io_bytes.getvalue()\n",
    "\n",
    "    # hover action function\n",
    "    def hover_fn(trace, points, state):\n",
    "        ind = points.point_inds[0]\n",
    "        smi = dataframe[smiles_col_name].iloc[ind]\n",
    "        details.value = smi         \n",
    "        image_widget.value = smi_to_bytes_img(smi)\n",
    "\n",
    "\n",
    "    # scatter plot\n",
    "    fig = go.FigureWidget(\n",
    "        data=[\n",
    "            dict(\n",
    "                type='scattergl',\n",
    "                x=dataframe[x_col_name],\n",
    "                y=dataframe[y_col_name],\n",
    "                mode='markers',\n",
    "                #marker_color=dataframe['type'].astype('category').cat.codes\n",
    "            )\n",
    "        ],\n",
    "        layout = go.Layout(\n",
    "        autosize=False,\n",
    "        template=\"plotly_white\",\n",
    "        width=600,\n",
    "        height=600,\n",
    "        xaxis_title=x_col_name,\n",
    "        yaxis_title=y_col_name\n",
    "        )\n",
    "    )\n",
    "\n",
    "    # initialize details/image widgets\n",
    "    smi = dataframe[smiles_col_name].iloc[0]\n",
    "    # details space\n",
    "    details = HTML(value=smi)\n",
    "    # image widget\n",
    "    image_widget = Image(value=smi_to_bytes_img(smi))\n",
    "   \n",
    "\n",
    "    # assign hover action to the scatter plot\n",
    "    scatter = fig.data[0]\n",
    "    scatter.on_hover(hover_fn)\n",
    "\n",
    "    return HBox([fig, VBox([image_widget, details])])"
   ]
  },
  {
   "cell_type": "code",
   "execution_count": 2,
   "metadata": {},
   "outputs": [
    {
     "data": {
      "application/vnd.jupyter.widget-view+json": {
       "model_id": "6950b948f5b44e619e013f399cb96b41",
       "version_major": 2,
       "version_minor": 0
      },
      "text/plain": [
       "HBox(children=(FigureWidget({\n",
       "    'data': [{'mode': 'markers',\n",
       "              'type': 'scattergl',\n",
       "            …"
      ]
     },
     "metadata": {},
     "output_type": "display_data"
    }
   ],
   "source": [
    "import pandas as pd\n",
    "\n",
    "# Tiny example\n",
    "df = pd.DataFrame([[0.5,0.5, '1a', 'BrCc1ccc(cc1)B1OC(C(O1)(C)C)(C)C'],\n",
    "                   [0,1, '1a', 'COc1cccc(c1B(O)O)Cl'],[1,0, '2b', 'OB(c1ccc(cc1C(F)(F)F)C(F)(F)F)O']], columns=['x','y', 'type','label'])\n",
    "\n",
    "x_col_name = 'x'\n",
    "y_col_name = 'y'\n",
    "smi_col_name = 'label'\n",
    "\n",
    "scatter_mol_hover(df, 'x', 'y', 'label')"
   ]
  },
  {
   "cell_type": "code",
   "execution_count": 3,
   "metadata": {},
   "outputs": [],
   "source": [
    "# Larger example\n",
    "#df = pd.read_csv(\"../../../Projects/Novartis/data/Boronic_reagents_dft.csv\")\n",
    "#scatter_mol_hover(df, 'global_molar_mass', 'B_VBur', 'can')"
   ]
  }
 ],
 "metadata": {
  "kernelspec": {
   "display_name": "Python 3 (ipykernel)",
   "language": "python",
   "name": "python3"
  },
  "language_info": {
   "codemirror_mode": {
    "name": "ipython",
    "version": 3
   },
   "file_extension": ".py",
   "mimetype": "text/x-python",
   "name": "python",
   "nbconvert_exporter": "python",
   "pygments_lexer": "ipython3",
   "version": "3.7.11"
  }
 },
 "nbformat": 4,
 "nbformat_minor": 4
}
