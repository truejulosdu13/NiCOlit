{
 "cells": [
  {
   "cell_type": "markdown",
   "metadata": {},
   "source": [
    "### Import classes from autoqchem"
   ]
  },
  {
   "cell_type": "code",
   "execution_count": 1,
   "metadata": {},
   "outputs": [],
   "source": [
    "from autoqchem.molecule import molecule\n",
    "from autoqchem.slurm_manager import slurm_manager"
   ]
  },
  {
   "cell_type": "markdown",
   "metadata": {},
   "source": [
    "### Set the level of logging\n",
    "Autoqchem prints out log messages, while the logger has various verbosity levels that you can set. If you are running for the first time \"INFO\" is good, once you are comfortable you can switch it to \"WARNING\" or \"ERROR\"."
   ]
  },
  {
   "cell_type": "code",
   "execution_count": 2,
   "metadata": {},
   "outputs": [],
   "source": [
    "import logging\n",
    "logging.basicConfig(level=logging.INFO)"
   ]
  },
  {
   "cell_type": "markdown",
   "metadata": {},
   "source": [
    "We will use a single smiles string for this test"
   ]
  },
  {
   "cell_type": "code",
   "execution_count": 3,
   "metadata": {},
   "outputs": [],
   "source": [
    "smiles_str = \"C(C)(CP(c1ccccc1)c1ccccc1)(CP(c1ccccc1)c1ccccc1)[4CH2][1P]([2c]1ccccc1)[3c]1ccccc1\""
   ]
  },
  {
   "cell_type": "markdown",
   "metadata": {},
   "source": [
    "### Initialize the molecule from smiles"
   ]
  },
  {
   "cell_type": "code",
   "execution_count": 4,
   "metadata": {},
   "outputs": [],
   "source": [
    "#mol = molecule(smiles_str)"
   ]
  },
  {
   "cell_type": "markdown",
   "metadata": {},
   "source": [
    "### Draw it!\n",
    "It should look decent, OpenBabel performs MMFF94 optimization with a conformer search. If it doesn't look good, there might be issues with openbabel installation (this is rare, but can happen)."
   ]
  },
  {
   "cell_type": "code",
   "execution_count": 5,
   "metadata": {},
   "outputs": [],
   "source": [
    "#mol.draw()"
   ]
  },
  {
   "cell_type": "markdown",
   "metadata": {},
   "source": [
    "### Initialize the moleucle with conformer search\n",
    "molecule class constructor has an option of max_num_conformers, by default set to 1. The geometry optimization already searches over many conformations, but only one is returned. To return a set of diverse conformers use option ```max_num_conformers```"
   ]
  },
  {
   "cell_type": "code",
   "execution_count": 6,
   "metadata": {},
   "outputs": [],
   "source": [
    "#mol_conf = molecule(smiles_str, max_num_conformers=3)"
   ]
  },
  {
   "cell_type": "markdown",
   "metadata": {},
   "source": [
    "### Draw some conformers"
   ]
  },
  {
   "cell_type": "code",
   "execution_count": 7,
   "metadata": {},
   "outputs": [],
   "source": [
    "#mol.draw(conformer_num=0)\n",
    "#mol.draw(conformer_num=3)"
   ]
  },
  {
   "cell_type": "markdown",
   "metadata": {},
   "source": [
    "### Test whether you can access slurm\n",
    "If you have an account on della, feel free to change host to ```della.princeton.edu```. We will use ```adroit.princeton.edu```"
   ]
  },
  {
   "cell_type": "markdown",
   "metadata": {},
   "source": [
    "### Initialize the slurm manager\n",
    "change user parameter to your user"
   ]
  },
  {
   "cell_type": "code",
   "execution_count": 8,
   "metadata": {},
   "outputs": [],
   "source": [
    "sm = slurm_manager(user='jschleinitz', host='neel.chimie.ens.fr')"
   ]
  },
  {
   "cell_type": "markdown",
   "metadata": {},
   "source": [
    "### Verify that you can create an ssh tunnel into the remote server\n",
    "Follow prompts for password and duo authentication. This tunnel will be used to manage jobs from within the notebook"
   ]
  },
  {
   "cell_type": "code",
   "execution_count": 9,
   "metadata": {},
   "outputs": [
    {
     "data": {
      "text/plain": [
       "'0.0.0.0'"
      ]
     },
     "execution_count": 9,
     "metadata": {},
     "output_type": "execute_result"
    }
   ],
   "source": [
    "#import socket\n",
    "#socket.gethostbyname(\"\")"
   ]
  },
  {
   "cell_type": "code",
   "execution_count": 10,
   "metadata": {},
   "outputs": [
    {
     "name": "stderr",
     "output_type": "stream",
     "text": [
      "INFO:autoqchem.slurm_manager:Creating connection to neel.chimie.ens.fr as jschleinitz\n",
      "INFO:paramiko.transport:Connected (version 2.0, client OpenSSH_7.2p2)\n",
      "INFO:paramiko.transport:Authentication (password) successful!\n",
      "INFO:autoqchem.slurm_manager:Connected to neel.chimie.ens.fr as jschleinitz is True.\n"
     ]
    }
   ],
   "source": [
    "sm.connect()\n",
    "#sm2 = slurm_manager(user='jschleinitz', host='hermite')\n",
    "#sm2.connect()"
   ]
  },
  {
   "cell_type": "code",
   "execution_count": null,
   "metadata": {},
   "outputs": [],
   "source": [
    "## after this line the initial code begins"
   ]
  },
  {
   "cell_type": "markdown",
   "metadata": {},
   "source": [
    "### Check that you can see your jobs on the remote server\n",
    "If the following command returns a table with your jobs currently running on the server, it's a success. If you have no jobs running, only a header row will be displayed."
   ]
  },
  {
   "cell_type": "code",
   "execution_count": 12,
   "metadata": {},
   "outputs": [],
   "source": [
    "#sm.squeue(summary=False)\n",
    "#not able because jobs are not launched in neel.chimie.ens.fr => only exctraction is ok"
   ]
  }
 ],
 "metadata": {
  "kernelspec": {
   "display_name": "Python 3 (ipykernel)",
   "language": "python",
   "name": "python3"
  },
  "language_info": {
   "codemirror_mode": {
    "name": "ipython",
    "version": 3
   },
   "file_extension": ".py",
   "mimetype": "text/x-python",
   "name": "python",
   "nbconvert_exporter": "python",
   "pygments_lexer": "ipython3",
   "version": "3.7.11"
  }
 },
 "nbformat": 4,
 "nbformat_minor": 2
}
