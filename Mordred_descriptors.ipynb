{
 "cells": [
  {
   "cell_type": "code",
   "execution_count": 1,
   "id": "187b8c5e",
   "metadata": {},
   "outputs": [],
   "source": [
    "import pandas as pd\n",
    "import numpy as np\n",
    "import mordred\n",
    "from rdkit import Chem\n",
    "from rdkit.Chem import AllChem\n",
    "from mordred import Calculator, descriptors\n",
    "from sklearn.preprocessing import MinMaxScaler, StandardScaler"
   ]
  },
  {
   "cell_type": "code",
   "execution_count": 2,
   "id": "b458cebe",
   "metadata": {},
   "outputs": [],
   "source": [
    "from dft_descriptors.prepocessing import preprocess"
   ]
  },
  {
   "cell_type": "code",
   "execution_count": 3,
   "id": "1e23742d",
   "metadata": {},
   "outputs": [],
   "source": [
    "df = pd.read_csv('data_csv/Data_test11112021.csv')\n",
    "df = preprocess(df)"
   ]
  },
  {
   "cell_type": "code",
   "execution_count": 4,
   "id": "c51fc089",
   "metadata": {},
   "outputs": [],
   "source": [
    "smi_co = df[\"Reactant Smile (C-O)\"].unique()\n",
    "smi_ax = df[\"A-X effectif\"].unique()\n",
    "smi_lig = df[\"Ligand effectif\"].unique()\n",
    "base_add = df[\"Base/additif après correction effective\"].unique()\n",
    "base_add\n",
    "unique_bases_adds = []\n",
    "for smi in base_add:\n",
    "    reduced_smi = set(smi.split('.'))\n",
    "    for smis in reduced_smi:\n",
    "        unique_bases_adds.append(smis) \n",
    "unique_bases_adds = np.unique(unique_bases_adds)\n",
    "unique_bases_adds\n",
    "\n",
    "all_mols = np.concatenate((smi_co, smi_ax, smi_lig, unique_bases_adds))"
   ]
  },
  {
   "cell_type": "code",
   "execution_count": 5,
   "id": "d58af49e",
   "metadata": {},
   "outputs": [],
   "source": [
    "smi_solv = df[\"Solvent\"].unique()\n",
    "solv_df = pd.DataFrame(data=smi_solv, columns=[\"names\"])\n",
    "#solv_df.to_csv(\"data_csv/solvents_mordred.csv\", sep=',',index=False)"
   ]
  },
  {
   "cell_type": "code",
   "execution_count": 6,
   "id": "986daaf7",
   "metadata": {},
   "outputs": [],
   "source": [
    "solvs =  [\"Cc1ccccc1\", \"CCOCC\", \"C1COCC1\", \"C1OCCOC1\", \n",
    "                   \"COCCOC\",\n",
    "                   \"CC(=O)N(C)C\", \"OC(C)(C)C\", \"Cc1cc(C)ccc1\", \"Cc1c(C)cccc1\", \"Cc1ccc(C)cc1\", \"O=CN(C)C\", \n",
    "                  \"O=C1N(C)CCC1\", \"ClCCCl\", \"c1ccccc1\", \"CCCCCC\", \"CS(=O)C\", \"CCO\", \"COC1CCCC1\", \"OC(C)CC\",\n",
    "                  \"CC(O)C\", \"CO\", \"OC(C)(C)CC\", \"CC#N\", \"CCCCOCCCC\", \"CC(C)OC(C)C\", \"CCOCOCC\", \"COC(C)(C)CC\",\n",
    "                  \"COC(C)(C)C\", \"COC(C)(C)CC.CCOCC\", \"CCOCOCC.CCOCC\", \"Cc1ccccc1.O\"]\n",
    "solv_df[\"smi\"] = solvs\n",
    "solv_df[\"rdkit_smi\"] = solv_df[\"smi\"].map(Chem.CanonSmiles)\n",
    "df = solv_df"
   ]
  },
  {
   "cell_type": "code",
   "execution_count": 7,
   "id": "f14edec3",
   "metadata": {},
   "outputs": [],
   "source": [
    "#df = pd.DataFrame(data=all_mols, columns=[\"smi\"])\n",
    "df[\"rdmol\"] = df[\"smi\"].map(lambda x : Chem.MolFromSmiles(x))\n",
    "df =df.dropna(subset=[\"rdmol\"])\n",
    "df[\"inchi\"] = df[\"rdmol\"].map(Chem.MolToInchi)\n",
    "df = df.drop_duplicates(subset=\"inchi\")"
   ]
  },
  {
   "cell_type": "code",
   "execution_count": 8,
   "id": "56b1592b",
   "metadata": {},
   "outputs": [],
   "source": [
    "# Optimize Geometry"
   ]
  },
  {
   "cell_type": "code",
   "execution_count": 9,
   "id": "2a1cc976",
   "metadata": {},
   "outputs": [
    {
     "name": "stdout",
     "output_type": "stream",
     "text": [
      "CPU times: user 375 ms, sys: 3.65 ms, total: 378 ms\n",
      "Wall time: 379 ms\n"
     ]
    }
   ],
   "source": [
    "%%time\n",
    "df['rdmolH'] = df['rdmol'].map(Chem.AddHs)\n",
    "_ = df['rdmolH'].map(lambda x : AllChem.EmbedMolecule(x,useRandomCoords=True))\n",
    "_ = df['rdmolH'].map(AllChem.MMFFOptimizeMolecule)"
   ]
  },
  {
   "cell_type": "code",
   "execution_count": 10,
   "id": "0eb5867e",
   "metadata": {},
   "outputs": [],
   "source": [
    "# Calculate Mordred Descriptors"
   ]
  },
  {
   "cell_type": "code",
   "execution_count": 11,
   "id": "e4b4df78",
   "metadata": {},
   "outputs": [],
   "source": [
    "# initialize Mordred calculators\n",
    "calc=Calculator(descriptors, ignore_3D=True,)"
   ]
  },
  {
   "cell_type": "code",
   "execution_count": 12,
   "id": "11e23e22",
   "metadata": {},
   "outputs": [
    {
     "name": "stderr",
     "output_type": "stream",
     "text": [
      "100%|███████████████████████████████████████████| 31/31 [00:01<00:00, 15.59it/s]\n"
     ]
    },
    {
     "name": "stdout",
     "output_type": "stream",
     "text": [
      "CPU times: user 204 ms, sys: 77.2 ms, total: 281 ms\n",
      "Wall time: 3.12 s\n"
     ]
    }
   ],
   "source": [
    "%%time\n",
    "# compute Mordred descriptors for all molecules (may take long)\n",
    "md=calc.pandas(df['rdmol'])"
   ]
  },
  {
   "cell_type": "code",
   "execution_count": 13,
   "id": "8ec35d85",
   "metadata": {},
   "outputs": [],
   "source": [
    "# replace mordred errors with NaNs\n",
    "md=md.applymap(lambda x: np.nan if type(x) in [mordred.error.Missing,\n",
    "                                               mordred.error.Error] else x)"
   ]
  },
  {
   "cell_type": "code",
   "execution_count": 14,
   "id": "d5efd85a",
   "metadata": {},
   "outputs": [],
   "source": [
    "# drop columns that have NaNs\n",
    "md=md.dropna(axis=1)"
   ]
  },
  {
   "cell_type": "code",
   "execution_count": 15,
   "id": "5bbf198d",
   "metadata": {},
   "outputs": [],
   "source": [
    "# add smi\n",
    "md.insert(0,'smi', df['smi'])"
   ]
  },
  {
   "cell_type": "code",
   "execution_count": 17,
   "id": "748ad411",
   "metadata": {},
   "outputs": [],
   "source": [
    "def duplicates(X, round=None) -> list:\n",
    "    \"\"\"Drop duplicate columns in dataframe\n",
    "\n",
    "    :param X: input dataframe\n",
    "    :type X: pandas.core.frame.DataFrame\n",
    "    :param round: decimal point used for rounding. If set the dataframe is scaled with MinMaxScaler \\\n",
    "    and rounded to the given precision, afterward duplicates are removed. This allows to drop duplicates avoiding \\\n",
    "    floating point precision issues\n",
    "    :type round: int\n",
    "    :return: list of columns that are duplicates\n",
    "    \"\"\"\n",
    "\n",
    "    X_ = X.copy()\n",
    "    if round is not None:\n",
    "        scaler = MinMaxScaler()\n",
    "        X_ = pd.DataFrame(scaler.fit_transform(X_),\n",
    "                          columns=X_.columns,\n",
    "                          index=X_.index)\n",
    "        X_ = X_.round(round)\n",
    "    return X_.columns[X_.T.duplicated()].tolist()\n",
    "\n",
    "\n",
    "def correlated(X, threshold=0.95) -> list:\n",
    "    \"\"\"Decorrelate dataframe by finding which columns shall \\\n",
    "    be removed to achieve correlation level below threshold\n",
    "\n",
    "    :param X: input dataframe\n",
    "    :type X: pandas.core.frame.DataFrame\n",
    "    :param threshold: maximum correlation allowed in the frame X\n",
    "    :type threshold: float\n",
    "    :return: list of columns to prune in order to achieve desired decorrelation level\n",
    "    \"\"\"\n",
    "\n",
    "    X_ = X.copy()\n",
    "    N = X_.shape[1]\n",
    "    corr = X_.corr().abs()\n",
    "\n",
    "    to_drop = set()\n",
    "    for i in range(N - 1):\n",
    "        for j in range(i + 1, N):\n",
    "            if corr.iloc[i][j] > threshold and i not in to_drop:\n",
    "                to_drop.add(j)\n",
    "    return [X_.columns[i] for i in to_drop]\n"
   ]
  },
  {
   "cell_type": "code",
   "execution_count": 18,
   "id": "0819b6c7",
   "metadata": {},
   "outputs": [],
   "source": [
    "def setup_md(df):\n",
    "    for col in df.columns[1:]:\n",
    "        df[col] = df[col].astype(float, errors = 'raise')\n",
    "    \n",
    "    df=df.select_dtypes(exclude='object')\n",
    "\n",
    "    scaler = MinMaxScaler()\n",
    "    df = pd.DataFrame(scaler.fit_transform(df), columns=df.columns, index=df.index)\n",
    "    \n",
    "    X = df\n",
    "    print (f\"Number of features: {X.shape[1]}, number of samples: {X.shape[0]}\")\n",
    "    \n",
    "    zero_std = X.std()[X.std() == 0].index\n",
    "    display(f\"Zero std columns: {len(zero_std)}\")\n",
    "    X = X[X.columns.difference(zero_std)]\n",
    "    \n",
    "    dupes = duplicates(X, round=3)\n",
    "    display(f\"Duplicate columns: {len(dupes)}\")\n",
    "    X = X[X.columns.difference(dupes)]\n",
    "    \n",
    "    high_corr = correlated(X, threshold=0.99)\n",
    "    display(f\"Correlated features: {len(high_corr)}\")\n",
    "    X = X[X.columns.difference(high_corr)]\n",
    "    \n",
    "    print (f\"Number of features: {X.shape[1]}, number of samples: {X.shape[0]}\")\n",
    "    \n",
    "    return X"
   ]
  },
  {
   "cell_type": "code",
   "execution_count": 19,
   "id": "ec2ad77f",
   "metadata": {},
   "outputs": [
    {
     "name": "stdout",
     "output_type": "stream",
     "text": [
      "Number of features: 923, number of samples: 31\n"
     ]
    },
    {
     "data": {
      "text/plain": [
       "'Zero std columns: 290'"
      ]
     },
     "metadata": {},
     "output_type": "display_data"
    },
    {
     "data": {
      "text/plain": [
       "'Duplicate columns: 43'"
      ]
     },
     "metadata": {},
     "output_type": "display_data"
    },
    {
     "data": {
      "text/plain": [
       "'Correlated features: 157'"
      ]
     },
     "metadata": {},
     "output_type": "display_data"
    },
    {
     "name": "stdout",
     "output_type": "stream",
     "text": [
      "Number of features: 433, number of samples: 31\n"
     ]
    }
   ],
   "source": [
    "md = setup_md(md)"
   ]
  },
  {
   "cell_type": "code",
   "execution_count": 21,
   "id": "1e5f6907",
   "metadata": {},
   "outputs": [],
   "source": [
    "md.to_csv(\"data_csv/solvents_mordred.csv\", sep=',',index=False)"
   ]
  },
  {
   "cell_type": "code",
   "execution_count": null,
   "id": "44b9405e",
   "metadata": {},
   "outputs": [],
   "source": []
  }
 ],
 "metadata": {
  "kernelspec": {
   "display_name": "Python 3 (ipykernel)",
   "language": "python",
   "name": "python3"
  },
  "language_info": {
   "codemirror_mode": {
    "name": "ipython",
    "version": 3
   },
   "file_extension": ".py",
   "mimetype": "text/x-python",
   "name": "python",
   "nbconvert_exporter": "python",
   "pygments_lexer": "ipython3",
   "version": "3.9.7"
  }
 },
 "nbformat": 4,
 "nbformat_minor": 5
}
