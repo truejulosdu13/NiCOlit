{
 "cells": [
  {
   "cell_type": "code",
   "execution_count": 1,
   "metadata": {},
   "outputs": [],
   "source": [
    "import sys\n",
    "sys.path.append('../')\n",
    "\n",
    "import pandas as pd \n",
    "import seaborn as sns \n",
    "import numpy as np\n",
    "import matplotlib.pyplot as plt\n",
    "sns.set(style=\"whitegrid\")\n",
    "\n",
    "from classic_descriptors.featurisation import process_dataframe\n",
    "from analysis import analysis_stratification_influence, analysis_train_set_size, analysis_stratification_influence_substrates\n",
    "\n",
    "from sklearn.metrics import mean_absolute_error, accuracy_score, balanced_accuracy_score, explained_variance_score, r2_score\n",
    "from sklearn.ensemble import RandomForestRegressor, RandomForestClassifier\n",
    "from sklearn.pipeline import Pipeline\n",
    "from sklearn.decomposition import PCA\n",
    "\n",
    "from xgboost import XGBRegressor\n",
    "\n",
    "import warnings\n",
    "warnings.filterwarnings('ignore')\n"
   ]
  },
  {
   "cell_type": "code",
   "execution_count": 2,
   "metadata": {},
   "outputs": [],
   "source": [
    "import dft_descriptors.prepocessing as pp\n",
    "import dft_descriptors.featurisation as ft"
   ]
  },
  {
   "cell_type": "code",
   "execution_count": 3,
   "metadata": {},
   "outputs": [],
   "source": [
    "df = pd.read_csv(\"data_csv/Data_test11222021.csv\", sep = ',')\n",
    "# Removing \n",
    "vc = df.DOI.value_counts()\n",
    "doi_above_10 = np.array(vc[vc > 20].index)\n",
    "\n",
    "indexes = []\n",
    "\n",
    "for i, row in df.iterrows():\n",
    "    if row[\"DOI\"] not in doi_above_10:\n",
    "        indexes.append(i)\n",
    "        \n",
    "df = df.drop(indexes)\n",
    "df = df.reset_index(drop=True)"
   ]
  },
  {
   "cell_type": "code",
   "execution_count": 4,
   "metadata": {},
   "outputs": [],
   "source": [
    "df2 = pp.preprocess(df)\n",
    "df2[\"Lewis Acid\"] = df2[\"Lewis Acid\"].fillna('NoLewisAcid')\n",
    "df2[\"Lewis Acid\"] = df2[\"Lewis Acid\"].replace('nan', 'NoLewisAcid')"
   ]
  },
  {
   "cell_type": "code",
   "execution_count": 5,
   "metadata": {},
   "outputs": [],
   "source": [
    "Lewis_Acids_to_drop = ['O=C(O[Cs])O[Cs]', 'Cl[Cs]', \n",
    "                       'O=S(=O)(O[Sc](OS(=O)(=O)C(F)(F)F)OS(=O)(=O)C(F)(F)F)C(F)(F)F', \n",
    "                       'F[Cs]', 'O=P(O[Na])(O[Na])O[Na]', '[Rb+]',\n",
    "                       'CC(C)(C)C(=O)O[Cs]', '[Cs+]', 'CC(=O)O[Cu]OC(C)=O', 'F[Sr]F']"
   ]
  },
  {
   "cell_type": "code",
   "execution_count": 6,
   "metadata": {},
   "outputs": [],
   "source": [
    "for al in Lewis_Acids_to_drop:\n",
    "    df2 = df2[df2[\"Lewis Acid\"] != al]\n",
    "    \n",
    "df2 = df2.reset_index(drop=True)"
   ]
  },
  {
   "cell_type": "code",
   "execution_count": 7,
   "metadata": {},
   "outputs": [
    {
     "name": "stdout",
     "output_type": "stream",
     "text": [
      "NoLigand\n",
      "NoLigand\n"
     ]
    }
   ],
   "source": [
    "import copy\n",
    "X_o, y, DOIs, mechanisms, origins = ft.process_dataframe_dft(copy.copy(df2), data_path=\"data_csv/\", origin=True)\n",
    "X, y, DOIs, mechanisms, origins = ft.process_dataframe_dft(df2, data_path=\"data_csv/\", origin=False)"
   ]
  },
  {
   "cell_type": "code",
   "execution_count": 8,
   "metadata": {},
   "outputs": [],
   "source": [
    "for i in range(1419):\n",
    "    if np.count_nonzero(np.isnan(X_o[i])) != 0:\n",
    "        print(i, np.count_nonzero(np.isnan(X_o[i])))"
   ]
  },
  {
   "cell_type": "code",
   "execution_count": null,
   "metadata": {},
   "outputs": [],
   "source": [
    "X_o[1369]"
   ]
  },
  {
   "cell_type": "code",
   "execution_count": null,
   "metadata": {},
   "outputs": [],
   "source": [
    "X_o.shape"
   ]
  },
  {
   "cell_type": "code",
   "execution_count": null,
   "metadata": {},
   "outputs": [],
   "source": [
    "estimators = [('predictor', RandomForestRegressor())]\n",
    "pipe = Pipeline(estimators)\n",
    "metric = r2_score"
   ]
  },
  {
   "cell_type": "markdown",
   "metadata": {},
   "source": [
    "# 1. Yields distribution by origin and mechanism"
   ]
  },
  {
   "cell_type": "code",
   "execution_count": null,
   "metadata": {},
   "outputs": [],
   "source": [
    "# Yield distribution according to scope/optimization\n",
    "display_df =  pd.DataFrame(zip(y, mechanisms, origins), columns =['Yields', 'Mechanisms', 'Origin'])\n",
    "\n",
    "sns.catplot(y=\"Yields\", data=display_df, x='Origin',  kind=\"swarm\")\n",
    "plt.show()"
   ]
  },
  {
   "cell_type": "code",
   "execution_count": null,
   "metadata": {
    "scrolled": true
   },
   "outputs": [],
   "source": [
    "# Yield distribution according to mechanism\n",
    "chart = sns.catplot(y=\"Yields\", data=display_df, x='Mechanisms',  kind=\"swarm\")\n",
    "for axes in chart.axes.flat:\n",
    "    _ = axes.set_xticklabels(axes.get_xticklabels(), rotation=90)\n",
    "plt.show()"
   ]
  },
  {
   "cell_type": "code",
   "execution_count": null,
   "metadata": {},
   "outputs": [],
   "source": [
    "metric_values, baseline_values, sizes = analysis_train_set_size(X, y, DOIs, metric=metric, predictor=pipe, n_iterations_external=4, n_iterations_internal=4)\n",
    "#metric_values_o, baseline_values_o, sizes_o = analysis_train_set_size(X_o, y, DOIs, metric=metric, predictor=pipe, n_iterations_external=3, n_iterations_internal=10)"
   ]
  },
  {
   "cell_type": "code",
   "execution_count": null,
   "metadata": {},
   "outputs": [],
   "source": [
    "metric_mean = np.mean(metric_values, axis=1)\n",
    "metric_lower = np.percentile(metric_values, 5, axis=1)\n",
    "metric_upper = np.percentile(metric_values, 95, axis=1)\n",
    "\n",
    "baseline_mean = np.mean(baseline_values, axis=1)\n",
    "baseline_lower = np.percentile(baseline_values, 5, axis=1)\n",
    "baseline_upper = np.percentile(baseline_values, 95, axis=1)\n",
    "\n",
    "#metric_mean_o = np.mean(metric_values_o, axis=1)\n",
    "#metric_lower_o = np.percentile(metric_values_o, 5, axis=1)\n",
    "#metric_upper_o = np.percentile(metric_values_o, 95, axis=1)"
   ]
  },
  {
   "cell_type": "markdown",
   "metadata": {},
   "source": [
    "# 2. Evolution of performance with training data availibility"
   ]
  },
  {
   "cell_type": "code",
   "execution_count": null,
   "metadata": {},
   "outputs": [],
   "source": [
    "# How does (with fixed test set) performance improves as the training set size augments?\n",
    "plt.figure(figsize=(10, 10))\n",
    "\n",
    "plt.plot(sizes, metric_mean, label='Model predictions_no_scope/opt_info')\n",
    "plt.fill_between(sizes, metric_lower, metric_upper, alpha=0.5)\n",
    "\n",
    "#plt.plot(sizes_o, metric_mean_o, label='Model predictions_scope/opt_info')\n",
    "#plt.fill_between(sizes_o, metric_lower_o, metric_upper_o, alpha=0.5)\n",
    "\n",
    "plt.plot(sizes, baseline_mean, c='r', label='Baseline')\n",
    "plt.fill_between(sizes, baseline_lower, baseline_upper, color='r', alpha=0.5)\n",
    "\n",
    "plt.xlabel(\"Training set size (number of reactions)\", fontsize=25)\n",
    "plt.ylabel(\"Predictive performance\", fontsize=25)\n",
    "plt.xticks(fontsize=20)\n",
    "plt.yticks(fontsize=20)\n",
    "plt.legend(fontsize=20)\n",
    "plt.show()"
   ]
  },
  {
   "cell_type": "code",
   "execution_count": null,
   "metadata": {},
   "outputs": [],
   "source": [
    "metric_standalone, metric_augmented, metric_baseline_standalone, metric_baseline_augmented, unique_stratification, sizes = analysis_stratification_influence(X, y, DOIs, metric=metric, predictor = pipe, test_size=0.95, n_iterations=2)"
   ]
  },
  {
   "cell_type": "code",
   "execution_count": null,
   "metadata": {},
   "outputs": [],
   "source": [
    "metric_augmented = np.mean(metric_augmented, axis=1)\n",
    "metric_standalone = np.mean(metric_standalone, axis=1)\n",
    "metric_baseline_standalone = np.mean(metric_baseline_standalone, axis=1)"
   ]
  },
  {
   "cell_type": "code",
   "execution_count": null,
   "metadata": {},
   "outputs": [],
   "source": [
    "metric_mechanism, metric_augmented_mechanism, metric_baseline_mechanism, _, unique_stratification_mechanism, sizes_mechanism = analysis_stratification_influence(X, y, mechanisms, metric=metric, predictor = pipe, test_size=0.2, n_iterations=2)"
   ]
  },
  {
   "cell_type": "code",
   "execution_count": null,
   "metadata": {},
   "outputs": [],
   "source": [
    "metric_augmented_mechanism = np.mean(metric_augmented_mechanism, axis=1)\n",
    "metric_mechanism = np.mean(metric_mechanism, axis=1)\n",
    "metric_baseline_mechanism = np.mean(metric_baseline_mechanism, axis=1)"
   ]
  },
  {
   "cell_type": "code",
   "execution_count": null,
   "metadata": {},
   "outputs": [],
   "source": [
    "def doi_2_mechanism(DOIs, doi):\n",
    "    dois_indexes = np.where(DOIs==doi)[0]\n",
    "    mechanism = mechanisms[dois_indexes[0]]\n",
    "    return mechanism\n",
    "\n",
    "def doi_2_origin(DOIs, doi):\n",
    "    dois_indexes = np.where(DOIs==doi)[0]\n",
    "    origin = origins[dois_indexes[0]]\n",
    "    return origin\n",
    "\n",
    "mecha = [doi_2_mechanism(DOIs, x) for x in unique_stratification]\n",
    "orig = [doi_2_origin(DOIs, x) for x in unique_stratification]"
   ]
  },
  {
   "cell_type": "code",
   "execution_count": null,
   "metadata": {},
   "outputs": [],
   "source": [
    "# Comparison of performance (distribution by DOI) of global, local and baseline models, stratified by mechanism\n",
    "\n",
    "plt.figure(figsize=(15, 15))\n",
    "\n",
    "global_df = pd.DataFrame(zip(metric_augmented, sizes, unique_stratification, mecha, orig, [\"Global model\" for _ in range(len(sizes))]), columns =['Performance', \"Size\", \"DOI\", \"Mechanisms\", \"Origin\", \"Model\"])\n",
    "local_df = pd.DataFrame(zip(metric_standalone, sizes, unique_stratification, mecha, orig, [\"Local model\" for _ in range(len(sizes))]), columns =['Performance', \"Size\", \"DOI\", \"Mechanisms\", \"Origin\", \"Model\"])\n",
    "baseline_df = pd.DataFrame(zip(metric_baseline_standalone, sizes, unique_stratification, mecha, orig, [\"Baseline\" for _ in range(len(sizes))]), columns =['Performance', \"Size\", \"DOI\", \"Mechanisms\", \"Origin\", \"Model\"])\n",
    "\n",
    "display_df = pd.concat([global_df, local_df, baseline_df])\n",
    "\n",
    "plt.title(\"Predictive performance according to model\")\n",
    "#plt.ylim(-5, 5)\n",
    "sns.stripplot(x = \"Mechanisms\", y=\"Performance\",  data=display_df, hue=\"Model\", dodge=True)\n",
    "sns.boxplot(x = \"Mechanisms\", y=\"Performance\",  data=display_df, hue=\"Model\", dodge=True)\n",
    "\n",
    "plt.show()"
   ]
  },
  {
   "cell_type": "code",
   "execution_count": null,
   "metadata": {},
   "outputs": [],
   "source": [
    "# Comparison of performance (distribution by DOI) of global, local and baseline models, stratified by scope/optimization\n",
    "\n",
    "plt.title(\"Comparison of global, local models and baseline\")\n",
    "chart = sns.boxplot(x = \"Origin\", y=\"Performance\",  data=display_df, hue=\"Model\")\n",
    "\n",
    "plt.show()"
   ]
  },
  {
   "cell_type": "code",
   "execution_count": null,
   "metadata": {},
   "outputs": [],
   "source": [
    "# Comparison of performance (distribution by mechanism) of global, local by mechanism and baseline models \n",
    "\n",
    "plt.title(\"Comparison of global, local models and baseline\")\n",
    "chart = sns.boxplot(x = 'Model', y=\"Performance\",  data=display_df, dodge=True)\n",
    "plt.show()"
   ]
  },
  {
   "cell_type": "code",
   "execution_count": null,
   "metadata": {},
   "outputs": [],
   "source": [
    "# Comparison of performance (distribution by mechanism) of global, local by mechanism and baseline models, stratified by mechanism\n",
    "\n",
    "plt.figure(figsize=(15, 15))\n",
    "\n",
    "global_df = pd.DataFrame(zip(metric_augmented_mechanism, sizes, unique_stratification, mecha, orig, [\"Global model\" for _ in range(len(sizes))]), columns =['Performance', \"Size\", \"DOI\", \"Mechanisms\", \"Origin\", \"Model\"])\n",
    "local_df = pd.DataFrame(zip(metric_mechanism, sizes, unique_stratification, mecha, orig, [\"Mechanism model\" for _ in range(len(sizes))]), columns =['Performance', \"Size\", \"DOI\", \"Mechanisms\", \"Origin\", \"Model\"])\n",
    "baseline_df = pd.DataFrame(zip(metric_baseline_mechanism, sizes, unique_stratification, mecha, orig, [\"Baseline\" for _ in range(len(sizes))]), columns =['Performance', \"Size\", \"DOI\", \"Mechanisms\", \"Origin\", \"Model\"])\n",
    "\n",
    "display_df = pd.concat([global_df, local_df, baseline_df])\n",
    "\n",
    "plt.title(\"Predictive performance according to model\")\n",
    "#plt.ylim(-5, 5)\n",
    "sns.stripplot(x = \"Mechanisms\", y=\"Performance\",  data=display_df, hue=\"Model\", dodge=True)\n",
    "sns.boxplot(x = \"Mechanisms\", y=\"Performance\",  data=display_df, hue=\"Model\", dodge=True)\n",
    "\n",
    "plt.show()"
   ]
  },
  {
   "cell_type": "code",
   "execution_count": null,
   "metadata": {},
   "outputs": [],
   "source": [
    "plt.title(\"Comparison of global, local models and baseline\")\n",
    "chart = sns.boxplot(x = \"Origin\", y=\"Performance\",  data=display_df, hue=\"Model\")\n",
    "plt.show()"
   ]
  },
  {
   "cell_type": "markdown",
   "metadata": {},
   "source": [
    "# 3. Increase of performance compared to baseline, by DOI"
   ]
  },
  {
   "cell_type": "code",
   "execution_count": null,
   "metadata": {},
   "outputs": [],
   "source": [
    "# Distribution of performance increase, global model vs baseline \n",
    "plt.figure(figsize=(15, 15))\n",
    "\n",
    "display_df = pd.DataFrame(metric_augmented-metric_baseline_standalone, columns =['Performance increase'])\n",
    "\n",
    "plt.title(\"Predictive performance increase of model vs baseline\")\n",
    "sns.boxplot(y=\"Performance increase\", data=display_df)\n",
    "sns.swarmplot(y=\"Performance increase\", data=display_df, color=\".25\")\n",
    "plt.ylim(-15, 10)\n",
    "plt.show()"
   ]
  },
  {
   "cell_type": "code",
   "execution_count": null,
   "metadata": {},
   "outputs": [],
   "source": [
    "# Distribution of performance increase, global model vs baseline, by size of publication\n",
    "\n",
    "plt.figure(figsize=(15, 15))\n",
    "\n",
    "mecha = [doi_2_mechanism(DOIs, x) for x in unique_stratification]\n",
    "orig = [doi_2_origin(DOIs, x) for x in unique_stratification]\n",
    "\n",
    "display_df = pd.DataFrame(zip([x for x in metric_augmented-metric_baseline_standalone], sizes, unique_stratification, mecha, orig), columns =['Performance increase', \"Size\", \"DOI\", \"Mechanisms\", \"Origin\"])\n",
    "\n",
    "plt.title(\"Predictive performance increase of model vs baseline according to size\")\n",
    "sns.scatterplot(x=\"Size\", y=\"Performance increase\", data=display_df)\n",
    "plt.xlabel(\"Number of reactions in publication\")\n",
    "#plt.ylim(-1, 1.5)\n",
    "plt.axhline(0, c='r')\n",
    "\n",
    "plt.show()"
   ]
  },
  {
   "cell_type": "code",
   "execution_count": null,
   "metadata": {},
   "outputs": [],
   "source": [
    "# Distribution of performance increase, global model vs baseline, by mechanism\n",
    "\n",
    "chart = sns.catplot(x=\"Mechanisms\", y=\"Performance increase\", data=display_df, kind=\"swarm\")\n",
    "for axes in chart.axes.flat:\n",
    "    _ = axes.set_xticklabels(axes.get_xticklabels(), rotation=90)\n",
    "plt.axhline(0, c='r')\n",
    "plt.show()"
   ]
  },
  {
   "cell_type": "code",
   "execution_count": null,
   "metadata": {},
   "outputs": [],
   "source": [
    "# Distribution of performance increase, global model vs baseline, by scope/optimization\n",
    "\n",
    "chart = sns.catplot(x=\"Origin\", y=\"Performance increase\", data=display_df, kind=\"swarm\")\n",
    "\n",
    "plt.axhline(0, c='r')\n",
    "plt.show()"
   ]
  },
  {
   "cell_type": "markdown",
   "metadata": {},
   "source": [
    "# 4. Increase of performance compared to local model, by DOI"
   ]
  },
  {
   "cell_type": "code",
   "execution_count": null,
   "metadata": {},
   "outputs": [],
   "source": [
    "# Distribution of performance increase, global model vs local model\n",
    "\n",
    "plt.figure(figsize=(15, 15))\n",
    "\n",
    "display_df = pd.DataFrame(zip([x for x in metric_augmented-metric_standalone], sizes, unique_stratification, mecha, orig), columns =['Performance increase', \"Size\", \"DOI\", \"Mechanisms\", \"Origin\"])\n",
    "\n",
    "plt.title(\"Predictive performance increase of global model vs local model\")\n",
    "sns.boxplot(y=\"Performance increase\", data=display_df)\n",
    "sns.swarmplot(y=\"Performance increase\", data=display_df, color=\".25\")\n",
    "\n",
    "plt.show()"
   ]
  },
  {
   "cell_type": "code",
   "execution_count": null,
   "metadata": {},
   "outputs": [],
   "source": [
    "# Distribution of performance increase, global model vs local model, by size of publication\n",
    "\n",
    "plt.title(\"Predictive performance increase of global model vs local model according to size\")\n",
    "sns.scatterplot(x=\"Size\", y=\"Performance increase\", data=display_df)\n",
    "plt.xlabel(\"Number of reactions in publication\")\n",
    "#plt.ylim(-1, 1.5)\n",
    "plt.axhline(0, c='r')\n",
    "\n",
    "plt.show()"
   ]
  },
  {
   "cell_type": "code",
   "execution_count": null,
   "metadata": {},
   "outputs": [],
   "source": [
    "# Distribution of performance increase, global model vs local model, by mechanism\n",
    "\n",
    "chart = sns.catplot(x=\"Mechanisms\", y=\"Performance increase\", data=display_df, kind=\"swarm\")\n",
    "for axes in chart.axes.flat:\n",
    "    _ = axes.set_xticklabels(axes.get_xticklabels(), rotation=90)\n",
    "plt.axhline(0, c='r')\n",
    "plt.ylim(-2, 2)\n",
    "plt.show()"
   ]
  },
  {
   "cell_type": "code",
   "execution_count": null,
   "metadata": {},
   "outputs": [],
   "source": [
    "# Distribution of performance increase, global model vs local model, by scope/optimization\n",
    "\n",
    "chart = sns.catplot(x=\"Origin\", y=\"Performance increase\", data=display_df, kind=\"swarm\")\n",
    "plt.axhline(0, c='r')\n",
    "plt.show()"
   ]
  },
  {
   "cell_type": "code",
   "execution_count": null,
   "metadata": {},
   "outputs": [],
   "source": []
  },
  {
   "cell_type": "code",
   "execution_count": null,
   "metadata": {},
   "outputs": [],
   "source": []
  },
  {
   "cell_type": "code",
   "execution_count": null,
   "metadata": {},
   "outputs": [],
   "source": []
  },
  {
   "cell_type": "code",
   "execution_count": null,
   "metadata": {},
   "outputs": [],
   "source": []
  },
  {
   "cell_type": "code",
   "execution_count": null,
   "metadata": {},
   "outputs": [],
   "source": []
  }
 ],
 "metadata": {
  "kernelspec": {
   "display_name": "Python 3 (ipykernel)",
   "language": "python",
   "name": "python3"
  },
  "language_info": {
   "codemirror_mode": {
    "name": "ipython",
    "version": 3
   },
   "file_extension": ".py",
   "mimetype": "text/x-python",
   "name": "python",
   "nbconvert_exporter": "python",
   "pygments_lexer": "ipython3",
   "version": "3.9.7"
  },
  "varInspector": {
   "cols": {
    "lenName": 16,
    "lenType": 16,
    "lenVar": 40
   },
   "kernels_config": {
    "python": {
     "delete_cmd_postfix": "",
     "delete_cmd_prefix": "del ",
     "library": "var_list.py",
     "varRefreshCmd": "print(var_dic_list())"
    },
    "r": {
     "delete_cmd_postfix": ") ",
     "delete_cmd_prefix": "rm(",
     "library": "var_list.r",
     "varRefreshCmd": "cat(var_dic_list()) "
    }
   },
   "types_to_exclude": [
    "module",
    "function",
    "builtin_function_or_method",
    "instance",
    "_Feature"
   ],
   "window_display": false
  }
 },
 "nbformat": 4,
 "nbformat_minor": 2
}
