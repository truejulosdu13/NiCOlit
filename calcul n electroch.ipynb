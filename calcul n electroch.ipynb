{
 "cells": [
  {
   "cell_type": "code",
   "execution_count": 1,
   "id": "e51878c0",
   "metadata": {},
   "outputs": [],
   "source": [
    "import numpy as np"
   ]
  },
  {
   "cell_type": "code",
   "execution_count": 8,
   "id": "7bd29646",
   "metadata": {},
   "outputs": [],
   "source": [
    "def calcul_n(a, b, cFc, cNi, T, DFc, DNi):\n",
    "    # constants :\n",
    "    R = 8.314\n",
    "    F = 96485\n",
    "    # calcule S\n",
    "    S = a/(0.4463*F*cFc*np.sqrt(F*DFc/(R*T)))\n",
    "    print(\"S = \", S)\n",
    "    # calcule n\n",
    "    n = b*np.sqrt(np.pi)/(F*S*cNi*np.sqrt(DNi))\n",
    "    print(\"n =\", n)"
   ]
  },
  {
   "cell_type": "code",
   "execution_count": 22,
   "id": "8a6b0e19",
   "metadata": {},
   "outputs": [
    {
     "name": "stdout",
     "output_type": "stream",
     "text": [
      "3.5087719298245625\n",
      "0.10317183687696062\n",
      "S =  6.567680979434361e-06\n",
      "n = 45.913744522527296\n"
     ]
    }
   ],
   "source": [
    "# DMSO\n",
    "cFc = 6.2*10**(-3)/(9.5*10**(-6)*186)\n",
    "print(cFc)\n",
    "cNi = 3.7*10**(-3)/(9.5*10**(-6)*3775)\n",
    "print(cNi)\n",
    "a = 131*10**(-6)\n",
    "b = 1.76*10**(-5)\n",
    "DFc = 0.44*10**(-9)\n",
    "DNi = 1.08*10**(-10)\n",
    "T = 293\n",
    "calcul_n(a, b, cFc, cNi, T, DFc, DNi)"
   ]
  },
  {
   "cell_type": "code",
   "execution_count": 10,
   "id": "f6ba6a66",
   "metadata": {},
   "outputs": [
    {
     "name": "stdout",
     "output_type": "stream",
     "text": [
      "S =  6.399679499871471e-06\n",
      "n = 12.491505144601664\n"
     ]
    }
   ],
   "source": [
    "# DMF\n",
    "cFc = 3.7\n",
    "cNi = 0.30\n",
    "a = 193*10**(-6)\n",
    "b = 2.8*10**(-5)\n",
    "DFc = 0.92*10**(-9)\n",
    "DNi = 4.6*10**(-10)\n",
    "T = 298\n",
    "calcul_n(a, b, cFc, cNi, T, DFc, DNi)"
   ]
  },
  {
   "cell_type": "code",
   "execution_count": null,
   "id": "2778b4de",
   "metadata": {},
   "outputs": [],
   "source": []
  }
 ],
 "metadata": {
  "kernelspec": {
   "display_name": "Python 3",
   "language": "python",
   "name": "python3"
  },
  "language_info": {
   "codemirror_mode": {
    "name": "ipython",
    "version": 3
   },
   "file_extension": ".py",
   "mimetype": "text/x-python",
   "name": "python",
   "nbconvert_exporter": "python",
   "pygments_lexer": "ipython3",
   "version": "3.9.5"
  }
 },
 "nbformat": 4,
 "nbformat_minor": 5
}
