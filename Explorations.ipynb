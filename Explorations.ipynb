{
 "cells": [
  {
   "cell_type": "code",
   "execution_count": 1,
   "metadata": {},
   "outputs": [],
   "source": [
    "import sys\n",
    "sys.path.append('../')\n",
    "\n",
    "import pandas as pd \n",
    "import seaborn as sns \n",
    "import numpy as np\n",
    "\n",
    "import dft_descriptors.prepocessing as pp\n",
    "import dft_descriptors.featurisation as ft\n",
    "\n",
    "from sklearn.manifold import TSNE\n",
    "\n",
    "import warnings\n",
    "warnings.filterwarnings('ignore')\n",
    "\n",
    "import matplotlib\n",
    "import matplotlib.pyplot as plt\n",
    "import matplotlib.patches as patches\n",
    "\n",
    "import copy\n",
    "\n",
    "font = {'family' : 'normal',\n",
    "        'size'   : 25}\n",
    "matplotlib.use(\"pgf\")\n",
    "matplotlib.rcParams.update({\n",
    "    \"pgf.texsystem\": \"pdflatex\",\n",
    "    'font.family': 'serif',\n",
    "    'text.usetex': True,\n",
    "    'pgf.rcfonts': False,\n",
    "})\n",
    "matplotlib.rcParams['axes.unicode_minus'] = False\n",
    "sns.set_style(\"white\")\n",
    "%matplotlib inline"
   ]
  },
  {
   "cell_type": "code",
   "execution_count": 6,
   "metadata": {},
   "outputs": [],
   "source": [
    "# Load NiCOlit dataset\n",
    "df = pd.read_csv(\"data_csv/Data_test11262021.csv\", sep = ',')\n",
    "\n",
    "# Preporcess NiCOlit dataset\n",
    "def AL_preprocess(df):\n",
    "    df[\"Lewis Acid\"] = df[\"Lewis Acid\"].fillna('NoLewisAcid')\n",
    "    df[\"Lewis Acid\"] = df[\"Lewis Acid\"].replace('nan', 'NoLewisAcid')\n",
    "    Lewis_Acids_to_drop = ['O=C(O[Cs])O[Cs]', 'Cl[Cs]', \n",
    "                       'O=S(=O)(O[Sc](OS(=O)(=O)C(F)(F)F)OS(=O)(=O)C(F)(F)F)C(F)(F)F', \n",
    "                       'F[Cs]', 'O=P(O[Na])(O[Na])O[Na]', '[Rb+]',\n",
    "                       'CC(C)(C)C(=O)O[Cs]', '[Cs+]', 'CC(=O)O[Cu]OC(C)=O', 'F[Sr]F']\n",
    "    for al in Lewis_Acids_to_drop:\n",
    "        df = df[df[\"Lewis Acid\"] != al]\n",
    "    \n",
    "    return df.reset_index(drop=True)\n",
    "\n",
    "def replace_meca(df):\n",
    "    df.replace(to_replace='Murahashi', value='Organolithiums', inplace=True,\n",
    "                   limit=None, regex=False, method='pad')\n",
    "    df.replace(to_replace='Negishi', value='Organozincs', inplace=True,\n",
    "                   limit=None, regex=False, method='pad')\n",
    "    df.replace(to_replace='Kumada', value='Organomagnesiums', inplace=True,\n",
    "                   limit=None, regex=False, method='pad')\n",
    "    df.replace(to_replace='Suzuki', value='Boron derivatives', inplace=True,\n",
    "                   limit=None, regex=False, method='pad')\n",
    "    df.replace(to_replace='C-H activation', value='Activated C-Hs', inplace=True,\n",
    "                   limit=None, regex=False, method='pad')\n",
    "    df.replace(to_replace='Isocyanates', value='Isocyanates', inplace=True,\n",
    "                   limit=None, regex=False, method='pad')\n",
    "    df.replace(to_replace='Hiyama', value='Organosilanes', inplace=True,\n",
    "                   limit=None, regex=False, method='pad')\n",
    "    df.replace(to_replace='CO2 Insertion', value='Carbon dioxide', inplace=True,\n",
    "                   limit=None, regex=False, method='pad')\n",
    "    df.replace(to_replace='Buchwald', value='Amines', inplace=True,\n",
    "                   limit=None, regex=False, method='pad')\n",
    "    df.replace(to_replace='Ni/Cu cooperation', value='Amines', inplace=True,\n",
    "                   limit=None, regex=False, method='pad')\n",
    "    df.replace(to_replace='Al _coupling', value='Organoaluminums', inplace=True,\n",
    "                   limit=None, regex=False, method='pad')\n",
    "    df.replace(to_replace='P_coupling', value='Phosphoryls', inplace=True,\n",
    "                   limit=None, regex=False, method='pad')\n",
    "    df.rename(columns={\"Coupling Partners\": \"Coupling Reagent\"}, inplace=True)\n",
    "\n",
    "df2 = pp.preprocess(df)\n",
    "df2 = AL_preprocess(df2)"
   ]
  },
  {
   "cell_type": "code",
   "execution_count": 7,
   "metadata": {},
   "outputs": [
    {
     "name": "stdout",
     "output_type": "stream",
     "text": [
      "NoLigand\n"
     ]
    }
   ],
   "source": [
    "# DFT Featurize NiCOlit dataset\n",
    "X, y, DOIs, coupling_partners, origins = ft.process_dataframe_dft(copy.copy(df2), data_path=\"data_csv/\")\n",
    "display_df =  pd.DataFrame(zip(y, coupling_partners, origins, DOIs), \n",
    "                           columns =['Yields', 'Coupling Partners', 'Origin', 'DOIs'])\n",
    "\n",
    "# Rename Coupling Partner Classes\n",
    "replace_meca(display_df)\n",
    "dois = np.unique(DOIs)"
   ]
  },
  {
   "cell_type": "code",
   "execution_count": 9,
   "metadata": {},
   "outputs": [],
   "source": [
    "# Perform TSNE of the NiCOlit featurized and get two frist components\n",
    "X_embedded = TSNE(n_components=2, random_state=11).fit_transform(X)\n",
    "tsne1 = [i[0] for i in X_embedded]\n",
    "tsne2 = [i[1] for i in X_embedded]"
   ]
  },
  {
   "cell_type": "code",
   "execution_count": 10,
   "metadata": {},
   "outputs": [],
   "source": [
    "# Choose a DOI, Coupling Partner, Substrate\n",
    "num_doi = 5     # DOI choice\n",
    "num_coupl = 11  # Boronic Partner\n",
    "num_sub = 5     # Substrate \n",
    "\n",
    "coupling_partner = np.unique(coupling_partners)\n",
    "substrates = df2[\"Reactant Smile (C-O)\"].unique()\n",
    "\n",
    "# Perform data splitting random, by DOI, by coupling partner and by substrate\n",
    "nums = np.random.choice([0, 1], size=len(X_embedded), p=[.3, .7])\n",
    "random_split= [\"Test Set\" if i == 0 else \"Train Set\" for i in nums]\n",
    "doi_split = [\"Test Set\" if i == dois[num_doi] else \"Train Set\" for i in DOIs]\n",
    "coupl_split = [\"Test Set\" if i == coupling_partner[num_coupl] else \"Train Set\" for i in coupling_partners]\n",
    "substrate_split = [\"Test Set\" if i == 'CC(C)(C)C(=O)Oc1ccc2ccccc2c1' else \"Train Set\" for i in df2[\"Reactant Smile (C-O)\"]]\n",
    "\n",
    "# Make data_frame for future plot\n",
    "tsne_df = pd.DataFrame(zip(tsne1, tsne2, DOIs, coupling_partners, origins, y, \n",
    "                           random_split, doi_split, coupl_split, substrate_split), \n",
    "                       columns =['TSNE 1', 'TSNE 2', 'DOIs', 'Coupling Partners', 'Origin', \n",
    "                                 'Yields', 'Random Split', 'DOI Split', \n",
    "                                 'Coupling Reagent Split', 'Subtrate Split'])\n",
    "\n",
    "# Update names of coupling partners\n",
    "replace_meca(tsne_df)"
   ]
  },
  {
   "cell_type": "code",
   "execution_count": 19,
   "metadata": {},
   "outputs": [
    {
     "name": "stdout",
     "output_type": "stream",
     "text": [
      "Name: seaborn\r\n",
      "Version: 0.11.2\r\n",
      "Summary: seaborn: statistical data visualization\r\n",
      "Home-page: https://seaborn.pydata.org\r\n",
      "Author: Michael Waskom\r\n",
      "Author-email: mwaskom@gmail.com\r\n",
      "License: BSD (3-clause)\r\n",
      "Location: /site/rp/work/projects/DD/Jupyter/lib/python3.6/site-packages\r\n",
      "Requires: numpy, scipy, matplotlib, pandas\r\n",
      "Required-by: \r\n"
     ]
    }
   ],
   "source": [
    "!pip show seaborn"
   ]
  },
  {
   "cell_type": "code",
   "execution_count": 17,
   "metadata": {},
   "outputs": [
    {
     "data": {
      "text/plain": [
       "array(['Thèse', 'https://doi.org/10.1002/adsc.201600590',\n",
       "       'https://doi.org/10.1002/anie.200453765',\n",
       "       'https://doi.org/10.1002/anie.200801447',\n",
       "       'https://doi.org/10.1002/anie.200907287',\n",
       "       'https://doi.org/10.1002/anie.201403823',\n",
       "       'https://doi.org/10.1002/chem.201003731',\n",
       "       'https://doi.org/10.1002/chem.201103784',\n",
       "       'https://doi.org/10.1002/chem.201603436',\n",
       "       'https://doi.org/10.1002/ejic.201900692',\n",
       "       'https://doi.org/10.1021/acs.joc.6b00289',\n",
       "       'https://doi.org/10.1021/acs.joc.6b01627',\n",
       "       'https://doi.org/10.1021/acs.organomet.5b00874',\n",
       "       'https://doi.org/10.1021/acs.organomet.9b00543',\n",
       "       'https://doi.org/10.1021/acs.orglett.6b02656',\n",
       "       'https://doi.org/10.1021/acs.orglett.6b03861',\n",
       "       'https://doi.org/10.1021/acscatal.7b01058',\n",
       "       'https://doi.org/10.1021/acscatal.8b03436',\n",
       "       'https://doi.org/10.1021/ja200398c',\n",
       "       'https://doi.org/10.1021/ja210249h',\n",
       "       'https://doi.org/10.1021/ja410883p',\n",
       "       'https://doi.org/10.1021/ja412107b',\n",
       "       'https://doi.org/10.1021/ja5029793',\n",
       "       'https://doi.org/10.1021/ja8056503',\n",
       "       'https://doi.org/10.1021/ja806244b',\n",
       "       'https://doi.org/10.1021/ja906477r',\n",
       "       'https://doi.org/10.1021/ja907700e',\n",
       "       'https://doi.org/10.1021/jacs.7b04279',\n",
       "       'https://doi.org/10.1021/jo00041a004',\n",
       "       'https://doi.org/10.1021/jo1024464',\n",
       "       'https://doi.org/10.1021/jo4005537',\n",
       "       'https://doi.org/10.1021/ol101592r',\n",
       "       'https://doi.org/10.1021/ol502583h',\n",
       "       'https://doi.org/10.1021/ol9029534',\n",
       "       'https://doi.org/10.1039/B718998B',\n",
       "       'https://doi.org/10.1039/C3CC46663A',\n",
       "       'https://doi.org/10.1039/C5SC02942B',\n",
       "       'https://doi.org/10.1246/cl.2011.913',\n",
       "       'https://pubs.acs.org/doi/abs/10.1021/ja903091g'], dtype=object)"
      ]
     },
     "execution_count": 17,
     "metadata": {},
     "output_type": "execute_result"
    }
   ],
   "source": [
    "np.unique(tsne_df['DOIs'])"
   ]
  },
  {
   "cell_type": "markdown",
   "metadata": {},
   "source": [
    "## Visualize DOI and Coupling Partner TSNE Distributions"
   ]
  },
  {
   "cell_type": "code",
   "execution_count": 11,
   "metadata": {
    "scrolled": true
   },
   "outputs": [
    {
     "ename": "ValueError",
     "evalue": "could not convert string to float: 'https://doi.org/10.1002/chem.201603436'",
     "output_type": "error",
     "traceback": [
      "\u001b[0;31m---------------------------------------------------------------------------\u001b[0m",
      "\u001b[0;31mValueError\u001b[0m                                Traceback (most recent call last)",
      "\u001b[0;32m<ipython-input-11-0affc476b968>\u001b[0m in \u001b[0;36m<module>\u001b[0;34m\u001b[0m\n\u001b[1;32m      7\u001b[0m                 \u001b[0mpalette\u001b[0m \u001b[0;34m=\u001b[0m\u001b[0;34m'bright'\u001b[0m\u001b[0;34m,\u001b[0m \u001b[0mgridsize\u001b[0m\u001b[0;34m=\u001b[0m\u001b[0;36m100\u001b[0m\u001b[0;34m,\u001b[0m\u001b[0;34m\u001b[0m\u001b[0;34m\u001b[0m\u001b[0m\n\u001b[1;32m      8\u001b[0m                 \u001b[0mcut\u001b[0m \u001b[0;34m=\u001b[0m \u001b[0;36m3\u001b[0m\u001b[0;34m,\u001b[0m \u001b[0malpha\u001b[0m  \u001b[0;34m=\u001b[0m \u001b[0;36m0.4\u001b[0m\u001b[0;34m,\u001b[0m \u001b[0mlinewidth\u001b[0m\u001b[0;34m=\u001b[0m\u001b[0;36m50\u001b[0m\u001b[0;34m,\u001b[0m\u001b[0;34m\u001b[0m\u001b[0;34m\u001b[0m\u001b[0m\n\u001b[0;32m----> 9\u001b[0;31m            ax = ax[0])\n\u001b[0m\u001b[1;32m     10\u001b[0m \u001b[0;34m\u001b[0m\u001b[0m\n\u001b[1;32m     11\u001b[0m sns.kdeplot(data=tsne_df, x=\"TSNE 1\", y=\"TSNE 2\", \n",
      "\u001b[0;32m/site/rp/work/projects/DD/Anaconda4AI/anaconda3/envs/torch_env/lib/python3.6/site-packages/seaborn/distributions.py\u001b[0m in \u001b[0;36mkdeplot\u001b[0;34m(data, data2, shade, vertical, kernel, bw, gridsize, cut, clip, legend, cumulative, shade_lowest, cbar, cbar_ax, cbar_kws, ax, **kwargs)\u001b[0m\n\u001b[1;32m    665\u001b[0m         \u001b[0;32mreturn\u001b[0m \u001b[0max\u001b[0m\u001b[0;34m\u001b[0m\u001b[0;34m\u001b[0m\u001b[0m\n\u001b[1;32m    666\u001b[0m \u001b[0;34m\u001b[0m\u001b[0m\n\u001b[0;32m--> 667\u001b[0;31m     \u001b[0mdata\u001b[0m \u001b[0;34m=\u001b[0m \u001b[0mdata\u001b[0m\u001b[0;34m.\u001b[0m\u001b[0mastype\u001b[0m\u001b[0;34m(\u001b[0m\u001b[0mnp\u001b[0m\u001b[0;34m.\u001b[0m\u001b[0mfloat64\u001b[0m\u001b[0;34m)\u001b[0m\u001b[0;34m\u001b[0m\u001b[0;34m\u001b[0m\u001b[0m\n\u001b[0m\u001b[1;32m    668\u001b[0m     \u001b[0;32mif\u001b[0m \u001b[0mdata2\u001b[0m \u001b[0;32mis\u001b[0m \u001b[0;32mnot\u001b[0m \u001b[0;32mNone\u001b[0m\u001b[0;34m:\u001b[0m\u001b[0;34m\u001b[0m\u001b[0;34m\u001b[0m\u001b[0m\n\u001b[1;32m    669\u001b[0m         \u001b[0;32mif\u001b[0m \u001b[0misinstance\u001b[0m\u001b[0;34m(\u001b[0m\u001b[0mdata2\u001b[0m\u001b[0;34m,\u001b[0m \u001b[0mlist\u001b[0m\u001b[0;34m)\u001b[0m\u001b[0;34m:\u001b[0m\u001b[0;34m\u001b[0m\u001b[0;34m\u001b[0m\u001b[0m\n",
      "\u001b[0;32m/site/rp/work/projects/DD/Anaconda4AI/anaconda3/envs/torch_env/lib/python3.6/site-packages/pandas/core/generic.py\u001b[0m in \u001b[0;36mastype\u001b[0;34m(self, dtype, copy, errors)\u001b[0m\n\u001b[1;32m   5696\u001b[0m         \u001b[0;32melse\u001b[0m\u001b[0;34m:\u001b[0m\u001b[0;34m\u001b[0m\u001b[0;34m\u001b[0m\u001b[0m\n\u001b[1;32m   5697\u001b[0m             \u001b[0;31m# else, only a single dtype is given\u001b[0m\u001b[0;34m\u001b[0m\u001b[0;34m\u001b[0m\u001b[0;34m\u001b[0m\u001b[0m\n\u001b[0;32m-> 5698\u001b[0;31m             \u001b[0mnew_data\u001b[0m \u001b[0;34m=\u001b[0m \u001b[0mself\u001b[0m\u001b[0;34m.\u001b[0m\u001b[0m_data\u001b[0m\u001b[0;34m.\u001b[0m\u001b[0mastype\u001b[0m\u001b[0;34m(\u001b[0m\u001b[0mdtype\u001b[0m\u001b[0;34m=\u001b[0m\u001b[0mdtype\u001b[0m\u001b[0;34m,\u001b[0m \u001b[0mcopy\u001b[0m\u001b[0;34m=\u001b[0m\u001b[0mcopy\u001b[0m\u001b[0;34m,\u001b[0m \u001b[0merrors\u001b[0m\u001b[0;34m=\u001b[0m\u001b[0merrors\u001b[0m\u001b[0;34m)\u001b[0m\u001b[0;34m\u001b[0m\u001b[0;34m\u001b[0m\u001b[0m\n\u001b[0m\u001b[1;32m   5699\u001b[0m             \u001b[0;32mreturn\u001b[0m \u001b[0mself\u001b[0m\u001b[0;34m.\u001b[0m\u001b[0m_constructor\u001b[0m\u001b[0;34m(\u001b[0m\u001b[0mnew_data\u001b[0m\u001b[0;34m)\u001b[0m\u001b[0;34m.\u001b[0m\u001b[0m__finalize__\u001b[0m\u001b[0;34m(\u001b[0m\u001b[0mself\u001b[0m\u001b[0;34m)\u001b[0m\u001b[0;34m\u001b[0m\u001b[0;34m\u001b[0m\u001b[0m\n\u001b[1;32m   5700\u001b[0m \u001b[0;34m\u001b[0m\u001b[0m\n",
      "\u001b[0;32m/site/rp/work/projects/DD/Anaconda4AI/anaconda3/envs/torch_env/lib/python3.6/site-packages/pandas/core/internals/managers.py\u001b[0m in \u001b[0;36mastype\u001b[0;34m(self, dtype, copy, errors)\u001b[0m\n\u001b[1;32m    580\u001b[0m \u001b[0;34m\u001b[0m\u001b[0m\n\u001b[1;32m    581\u001b[0m     \u001b[0;32mdef\u001b[0m \u001b[0mastype\u001b[0m\u001b[0;34m(\u001b[0m\u001b[0mself\u001b[0m\u001b[0;34m,\u001b[0m \u001b[0mdtype\u001b[0m\u001b[0;34m,\u001b[0m \u001b[0mcopy\u001b[0m\u001b[0;34m:\u001b[0m \u001b[0mbool\u001b[0m \u001b[0;34m=\u001b[0m \u001b[0;32mFalse\u001b[0m\u001b[0;34m,\u001b[0m \u001b[0merrors\u001b[0m\u001b[0;34m:\u001b[0m \u001b[0mstr\u001b[0m \u001b[0;34m=\u001b[0m \u001b[0;34m\"raise\"\u001b[0m\u001b[0;34m)\u001b[0m\u001b[0;34m:\u001b[0m\u001b[0;34m\u001b[0m\u001b[0;34m\u001b[0m\u001b[0m\n\u001b[0;32m--> 582\u001b[0;31m         \u001b[0;32mreturn\u001b[0m \u001b[0mself\u001b[0m\u001b[0;34m.\u001b[0m\u001b[0mapply\u001b[0m\u001b[0;34m(\u001b[0m\u001b[0;34m\"astype\"\u001b[0m\u001b[0;34m,\u001b[0m \u001b[0mdtype\u001b[0m\u001b[0;34m=\u001b[0m\u001b[0mdtype\u001b[0m\u001b[0;34m,\u001b[0m \u001b[0mcopy\u001b[0m\u001b[0;34m=\u001b[0m\u001b[0mcopy\u001b[0m\u001b[0;34m,\u001b[0m \u001b[0merrors\u001b[0m\u001b[0;34m=\u001b[0m\u001b[0merrors\u001b[0m\u001b[0;34m)\u001b[0m\u001b[0;34m\u001b[0m\u001b[0;34m\u001b[0m\u001b[0m\n\u001b[0m\u001b[1;32m    583\u001b[0m \u001b[0;34m\u001b[0m\u001b[0m\n\u001b[1;32m    584\u001b[0m     \u001b[0;32mdef\u001b[0m \u001b[0mconvert\u001b[0m\u001b[0;34m(\u001b[0m\u001b[0mself\u001b[0m\u001b[0;34m,\u001b[0m \u001b[0;34m**\u001b[0m\u001b[0mkwargs\u001b[0m\u001b[0;34m)\u001b[0m\u001b[0;34m:\u001b[0m\u001b[0;34m\u001b[0m\u001b[0;34m\u001b[0m\u001b[0m\n",
      "\u001b[0;32m/site/rp/work/projects/DD/Anaconda4AI/anaconda3/envs/torch_env/lib/python3.6/site-packages/pandas/core/internals/managers.py\u001b[0m in \u001b[0;36mapply\u001b[0;34m(self, f, filter, **kwargs)\u001b[0m\n\u001b[1;32m    440\u001b[0m                 \u001b[0mapplied\u001b[0m \u001b[0;34m=\u001b[0m \u001b[0mb\u001b[0m\u001b[0;34m.\u001b[0m\u001b[0mapply\u001b[0m\u001b[0;34m(\u001b[0m\u001b[0mf\u001b[0m\u001b[0;34m,\u001b[0m \u001b[0;34m**\u001b[0m\u001b[0mkwargs\u001b[0m\u001b[0;34m)\u001b[0m\u001b[0;34m\u001b[0m\u001b[0;34m\u001b[0m\u001b[0m\n\u001b[1;32m    441\u001b[0m             \u001b[0;32melse\u001b[0m\u001b[0;34m:\u001b[0m\u001b[0;34m\u001b[0m\u001b[0;34m\u001b[0m\u001b[0m\n\u001b[0;32m--> 442\u001b[0;31m                 \u001b[0mapplied\u001b[0m \u001b[0;34m=\u001b[0m \u001b[0mgetattr\u001b[0m\u001b[0;34m(\u001b[0m\u001b[0mb\u001b[0m\u001b[0;34m,\u001b[0m \u001b[0mf\u001b[0m\u001b[0;34m)\u001b[0m\u001b[0;34m(\u001b[0m\u001b[0;34m**\u001b[0m\u001b[0mkwargs\u001b[0m\u001b[0;34m)\u001b[0m\u001b[0;34m\u001b[0m\u001b[0;34m\u001b[0m\u001b[0m\n\u001b[0m\u001b[1;32m    443\u001b[0m             \u001b[0mresult_blocks\u001b[0m \u001b[0;34m=\u001b[0m \u001b[0m_extend_blocks\u001b[0m\u001b[0;34m(\u001b[0m\u001b[0mapplied\u001b[0m\u001b[0;34m,\u001b[0m \u001b[0mresult_blocks\u001b[0m\u001b[0;34m)\u001b[0m\u001b[0;34m\u001b[0m\u001b[0;34m\u001b[0m\u001b[0m\n\u001b[1;32m    444\u001b[0m \u001b[0;34m\u001b[0m\u001b[0m\n",
      "\u001b[0;32m/site/rp/work/projects/DD/Anaconda4AI/anaconda3/envs/torch_env/lib/python3.6/site-packages/pandas/core/internals/blocks.py\u001b[0m in \u001b[0;36mastype\u001b[0;34m(self, dtype, copy, errors)\u001b[0m\n\u001b[1;32m    623\u001b[0m             \u001b[0mvals1d\u001b[0m \u001b[0;34m=\u001b[0m \u001b[0mvalues\u001b[0m\u001b[0;34m.\u001b[0m\u001b[0mravel\u001b[0m\u001b[0;34m(\u001b[0m\u001b[0;34m)\u001b[0m\u001b[0;34m\u001b[0m\u001b[0;34m\u001b[0m\u001b[0m\n\u001b[1;32m    624\u001b[0m             \u001b[0;32mtry\u001b[0m\u001b[0;34m:\u001b[0m\u001b[0;34m\u001b[0m\u001b[0;34m\u001b[0m\u001b[0m\n\u001b[0;32m--> 625\u001b[0;31m                 \u001b[0mvalues\u001b[0m \u001b[0;34m=\u001b[0m \u001b[0mastype_nansafe\u001b[0m\u001b[0;34m(\u001b[0m\u001b[0mvals1d\u001b[0m\u001b[0;34m,\u001b[0m \u001b[0mdtype\u001b[0m\u001b[0;34m,\u001b[0m \u001b[0mcopy\u001b[0m\u001b[0;34m=\u001b[0m\u001b[0;32mTrue\u001b[0m\u001b[0;34m)\u001b[0m\u001b[0;34m\u001b[0m\u001b[0;34m\u001b[0m\u001b[0m\n\u001b[0m\u001b[1;32m    626\u001b[0m             \u001b[0;32mexcept\u001b[0m \u001b[0;34m(\u001b[0m\u001b[0mValueError\u001b[0m\u001b[0;34m,\u001b[0m \u001b[0mTypeError\u001b[0m\u001b[0;34m)\u001b[0m\u001b[0;34m:\u001b[0m\u001b[0;34m\u001b[0m\u001b[0;34m\u001b[0m\u001b[0m\n\u001b[1;32m    627\u001b[0m                 \u001b[0;31m# e.g. astype_nansafe can fail on object-dtype of strings\u001b[0m\u001b[0;34m\u001b[0m\u001b[0;34m\u001b[0m\u001b[0;34m\u001b[0m\u001b[0m\n",
      "\u001b[0;32m/site/rp/work/projects/DD/Anaconda4AI/anaconda3/envs/torch_env/lib/python3.6/site-packages/pandas/core/dtypes/cast.py\u001b[0m in \u001b[0;36mastype_nansafe\u001b[0;34m(arr, dtype, copy, skipna)\u001b[0m\n\u001b[1;32m    895\u001b[0m     \u001b[0;32mif\u001b[0m \u001b[0mcopy\u001b[0m \u001b[0;32mor\u001b[0m \u001b[0mis_object_dtype\u001b[0m\u001b[0;34m(\u001b[0m\u001b[0marr\u001b[0m\u001b[0;34m)\u001b[0m \u001b[0;32mor\u001b[0m \u001b[0mis_object_dtype\u001b[0m\u001b[0;34m(\u001b[0m\u001b[0mdtype\u001b[0m\u001b[0;34m)\u001b[0m\u001b[0;34m:\u001b[0m\u001b[0;34m\u001b[0m\u001b[0;34m\u001b[0m\u001b[0m\n\u001b[1;32m    896\u001b[0m         \u001b[0;31m# Explicit copy, or required since NumPy can't view from / to object.\u001b[0m\u001b[0;34m\u001b[0m\u001b[0;34m\u001b[0m\u001b[0;34m\u001b[0m\u001b[0m\n\u001b[0;32m--> 897\u001b[0;31m         \u001b[0;32mreturn\u001b[0m \u001b[0marr\u001b[0m\u001b[0;34m.\u001b[0m\u001b[0mastype\u001b[0m\u001b[0;34m(\u001b[0m\u001b[0mdtype\u001b[0m\u001b[0;34m,\u001b[0m \u001b[0mcopy\u001b[0m\u001b[0;34m=\u001b[0m\u001b[0;32mTrue\u001b[0m\u001b[0;34m)\u001b[0m\u001b[0;34m\u001b[0m\u001b[0;34m\u001b[0m\u001b[0m\n\u001b[0m\u001b[1;32m    898\u001b[0m \u001b[0;34m\u001b[0m\u001b[0m\n\u001b[1;32m    899\u001b[0m     \u001b[0;32mreturn\u001b[0m \u001b[0marr\u001b[0m\u001b[0;34m.\u001b[0m\u001b[0mview\u001b[0m\u001b[0;34m(\u001b[0m\u001b[0mdtype\u001b[0m\u001b[0;34m)\u001b[0m\u001b[0;34m\u001b[0m\u001b[0;34m\u001b[0m\u001b[0m\n",
      "\u001b[0;31mValueError\u001b[0m: could not convert string to float: 'https://doi.org/10.1002/chem.201603436'"
     ]
    },
    {
     "data": {
      "image/png": "[encoded data removed]",
      "text/plain": [
       "<Figure size 360x720 with 2 Axes>"
      ]
     },
     "metadata": {},
     "output_type": "display_data"
    }
   ],
   "source": [
    "sns.set_style(\"whitegrid\", {'axes.grid' : False})\n",
    "fig, ax = plt.subplots(2, 1, figsize=(5, 10))\n",
    "\n",
    "# first plot TSNE by Coupling Partner\n",
    "sns.kdeplot(data=tsne_df, x=\"TSNE 1\", y=\"TSNE 2\", \n",
    "                hue=\"Coupling Reagent\", fill=False, thresh=0.0003,\n",
    "                palette ='bright', gridsize=100,\n",
    "                cut = 3, alpha  = 0.4, linewidth=50,\n",
    "           ax = ax[0])\n",
    "\n",
    "sns.kdeplot(data=tsne_df, x=\"TSNE 1\", y=\"TSNE 2\", \n",
    "                hue=\"Coupling Reagent\", fill=True, thresh=0.0003,\n",
    "                palette ='bright', gridsize=100, alpha  = 0.5,\n",
    "           ax = ax[0])\n",
    "\n",
    "legend = ax[0].get_legend()\n",
    "labels = [] if legend is None else [str(x._text) for x in legend.texts]\n",
    "handles = [] if legend is None else legend.legendHandles\n",
    "ax[0].get_legend().remove()\n",
    "\n",
    "sns.scatterplot(data=tsne_df, x=\"TSNE 1\", y=\"TSNE 2\", \n",
    "                hue=\"Coupling Reagent\", legend=False,\n",
    "                alpha=0.2, palette='bright', linewidth=0.1, ax= ax[0])\n",
    "\n",
    "ax[0].set_title(\"Coupling Partner Distribution\")\n",
    "ax[0].set_xticks([])\n",
    "ax[0].set_yticks([])\n",
    "ax[0].set_xbound(lower=-75, upper=75)\n",
    "ax[0].set_ybound(lower=-70, upper=70)\n",
    "ax[0].legend(handles, labels, \n",
    "             bbox_to_anchor=(1.05, 0, 1.1, 1), \n",
    "             ncol=2,\n",
    "             mode= \"expand\"\n",
    "            )\n",
    "\n",
    "# plot TSNE by DOIs\n",
    "sns.kdeplot(data=tsne_df, x=\"TSNE 1\", y=\"TSNE 2\", \n",
    "                hue=\"DOIs\", fill=False, thresh=0.0005,\n",
    "                palette ='bright', gridsize=100, alpha  = 0.4, linewidth=50, ax = ax[1])\n",
    "\n",
    "sns.kdeplot(data=tsne_df, x=\"TSNE 1\", y=\"TSNE 2\", \n",
    "                hue=\"DOIs\", fill=True, thresh=0.0005,\n",
    "                palette ='bright', gridsize=100, alpha  = 0.5, ax = ax[1])\n",
    "\n",
    "legend = ax[1].get_legend()\n",
    "labels = [] if legend is None else [str(x._text) for x in legend.texts]\n",
    "handles = [] if legend is None else legend.legendHandles\n",
    "ax[1].get_legend().remove()\n",
    "\n",
    "sns.scatterplot(data=tsne_df, x=\"TSNE 1\", y=\"TSNE 2\", \n",
    "                hue=\"DOIs\", legend=False,\n",
    "                alpha=0.2, \n",
    "                palette='bright', linewidth=0.1,\n",
    "               ax= ax[1])\n",
    "\n",
    "ax[1].set_title(\"DOIs Distribution\")\n",
    "ax[1].set_xticks([])\n",
    "ax[1].set_yticks([])\n",
    "ax[1].set_xbound(lower=-75, upper=75)\n",
    "ax[1].set_ybound(lower=-70, upper=70)\n",
    "\n",
    "# make legend\n",
    "h = handles[:5]\n",
    "h_fin = patches.Rectangle(h[0].get_xy(), h[0].get_width(), h[0].get_height())\n",
    "h_fin.set_color('white')\n",
    "h.append(h_fin)\n",
    "l = labels[:5]\n",
    "l.append(\"... (all dois are not listed)\")\n",
    "ax[1].legend(h, l, bbox_to_anchor=(1.05, 0, 1.1, 1), mode=\"expand\", ncol=1)\n",
    "\n",
    "plt.savefig(\"exploration1.svg\", dpi=600, bbox_inches='tight')\n",
    "plt.show()"
   ]
  },
  {
   "cell_type": "markdown",
   "metadata": {},
   "source": [
    "## Visualize Data Splitting depending on the Prediction Task Performed"
   ]
  },
  {
   "cell_type": "code",
   "execution_count": 18,
   "metadata": {
    "scrolled": true
   },
   "outputs": [
    {
     "ename": "ValueError",
     "evalue": "`legend` must be 'brief', 'full', or False",
     "output_type": "error",
     "traceback": [
      "\u001b[0;31m---------------------------------------------------------------------------\u001b[0m",
      "\u001b[0;31mValueError\u001b[0m                                Traceback (most recent call last)",
      "\u001b[0;32m<ipython-input-18-6f7c38eb37c0>\u001b[0m in \u001b[0;36m<module>\u001b[0;34m\u001b[0m\n\u001b[1;32m      4\u001b[0m sns.scatterplot(data=tsne_df, x=\"TSNE 1\", y=\"TSNE 2\", \n\u001b[1;32m      5\u001b[0m                 \u001b[0mhue\u001b[0m\u001b[0;34m=\u001b[0m\u001b[0;34m\"Random Split\"\u001b[0m\u001b[0;34m,\u001b[0m \u001b[0mlegend\u001b[0m\u001b[0;34m=\u001b[0m\u001b[0;32mTrue\u001b[0m\u001b[0;34m,\u001b[0m\u001b[0;34m\u001b[0m\u001b[0;34m\u001b[0m\u001b[0m\n\u001b[0;32m----> 6\u001b[0;31m                 alpha=0.8, palette='bright', linewidth=0.1, ax = ax[0])\n\u001b[0m\u001b[1;32m      7\u001b[0m \u001b[0;34m\u001b[0m\u001b[0m\n\u001b[1;32m      8\u001b[0m \u001b[0max\u001b[0m\u001b[0;34m[\u001b[0m\u001b[0;36m0\u001b[0m\u001b[0;34m]\u001b[0m\u001b[0;34m.\u001b[0m\u001b[0mset_title\u001b[0m\u001b[0;34m(\u001b[0m\u001b[0;34m\"Random Test/Train Split\"\u001b[0m\u001b[0;34m)\u001b[0m\u001b[0;34m\u001b[0m\u001b[0;34m\u001b[0m\u001b[0m\n",
      "\u001b[0;32m/site/rp/work/projects/DD/Anaconda4AI/anaconda3/envs/torch_env/lib/python3.6/site-packages/seaborn/relational.py\u001b[0m in \u001b[0;36mscatterplot\u001b[0;34m(x, y, hue, style, size, data, palette, hue_order, hue_norm, sizes, size_order, size_norm, markers, style_order, x_bins, y_bins, units, estimator, ci, n_boot, alpha, x_jitter, y_jitter, legend, ax, **kwargs)\u001b[0m\n\u001b[1;32m   1406\u001b[0m         \u001b[0max\u001b[0m \u001b[0;34m=\u001b[0m \u001b[0mplt\u001b[0m\u001b[0;34m.\u001b[0m\u001b[0mgca\u001b[0m\u001b[0;34m(\u001b[0m\u001b[0;34m)\u001b[0m\u001b[0;34m\u001b[0m\u001b[0;34m\u001b[0m\u001b[0m\n\u001b[1;32m   1407\u001b[0m \u001b[0;34m\u001b[0m\u001b[0m\n\u001b[0;32m-> 1408\u001b[0;31m     \u001b[0mp\u001b[0m\u001b[0;34m.\u001b[0m\u001b[0mplot\u001b[0m\u001b[0;34m(\u001b[0m\u001b[0max\u001b[0m\u001b[0;34m,\u001b[0m \u001b[0mkwargs\u001b[0m\u001b[0;34m)\u001b[0m\u001b[0;34m\u001b[0m\u001b[0;34m\u001b[0m\u001b[0m\n\u001b[0m\u001b[1;32m   1409\u001b[0m \u001b[0;34m\u001b[0m\u001b[0m\n\u001b[1;32m   1410\u001b[0m     \u001b[0;32mreturn\u001b[0m \u001b[0max\u001b[0m\u001b[0;34m\u001b[0m\u001b[0;34m\u001b[0m\u001b[0m\n",
      "\u001b[0;32m/site/rp/work/projects/DD/Anaconda4AI/anaconda3/envs/torch_env/lib/python3.6/site-packages/seaborn/relational.py\u001b[0m in \u001b[0;36mplot\u001b[0;34m(self, ax, kws)\u001b[0m\n\u001b[1;32m    966\u001b[0m         \u001b[0mself\u001b[0m\u001b[0;34m.\u001b[0m\u001b[0mlabel_axes\u001b[0m\u001b[0;34m(\u001b[0m\u001b[0max\u001b[0m\u001b[0;34m)\u001b[0m\u001b[0;34m\u001b[0m\u001b[0;34m\u001b[0m\u001b[0m\n\u001b[1;32m    967\u001b[0m         \u001b[0;32mif\u001b[0m \u001b[0mself\u001b[0m\u001b[0;34m.\u001b[0m\u001b[0mlegend\u001b[0m\u001b[0;34m:\u001b[0m\u001b[0;34m\u001b[0m\u001b[0;34m\u001b[0m\u001b[0m\n\u001b[0;32m--> 968\u001b[0;31m             \u001b[0mself\u001b[0m\u001b[0;34m.\u001b[0m\u001b[0madd_legend_data\u001b[0m\u001b[0;34m(\u001b[0m\u001b[0max\u001b[0m\u001b[0;34m)\u001b[0m\u001b[0;34m\u001b[0m\u001b[0;34m\u001b[0m\u001b[0m\n\u001b[0m\u001b[1;32m    969\u001b[0m             \u001b[0mhandles\u001b[0m\u001b[0;34m,\u001b[0m \u001b[0m_\u001b[0m \u001b[0;34m=\u001b[0m \u001b[0max\u001b[0m\u001b[0;34m.\u001b[0m\u001b[0mget_legend_handles_labels\u001b[0m\u001b[0;34m(\u001b[0m\u001b[0;34m)\u001b[0m\u001b[0;34m\u001b[0m\u001b[0;34m\u001b[0m\u001b[0m\n\u001b[1;32m    970\u001b[0m             \u001b[0;32mif\u001b[0m \u001b[0mhandles\u001b[0m\u001b[0;34m:\u001b[0m\u001b[0;34m\u001b[0m\u001b[0;34m\u001b[0m\u001b[0m\n",
      "\u001b[0;32m/site/rp/work/projects/DD/Anaconda4AI/anaconda3/envs/torch_env/lib/python3.6/site-packages/seaborn/relational.py\u001b[0m in \u001b[0;36madd_legend_data\u001b[0;34m(self, ax)\u001b[0m\n\u001b[1;32m    585\u001b[0m         \u001b[0;32mif\u001b[0m \u001b[0mverbosity\u001b[0m \u001b[0;32mnot\u001b[0m \u001b[0;32min\u001b[0m \u001b[0;34m[\u001b[0m\u001b[0;34m\"brief\"\u001b[0m\u001b[0;34m,\u001b[0m \u001b[0;34m\"full\"\u001b[0m\u001b[0;34m]\u001b[0m\u001b[0;34m:\u001b[0m\u001b[0;34m\u001b[0m\u001b[0;34m\u001b[0m\u001b[0m\n\u001b[1;32m    586\u001b[0m             \u001b[0merr\u001b[0m \u001b[0;34m=\u001b[0m \u001b[0;34m\"`legend` must be 'brief', 'full', or False\"\u001b[0m\u001b[0;34m\u001b[0m\u001b[0;34m\u001b[0m\u001b[0m\n\u001b[0;32m--> 587\u001b[0;31m             \u001b[0;32mraise\u001b[0m \u001b[0mValueError\u001b[0m\u001b[0;34m(\u001b[0m\u001b[0merr\u001b[0m\u001b[0;34m)\u001b[0m\u001b[0;34m\u001b[0m\u001b[0;34m\u001b[0m\u001b[0m\n\u001b[0m\u001b[1;32m    588\u001b[0m \u001b[0;34m\u001b[0m\u001b[0m\n\u001b[1;32m    589\u001b[0m         \u001b[0mlegend_kwargs\u001b[0m \u001b[0;34m=\u001b[0m \u001b[0;34m{\u001b[0m\u001b[0;34m}\u001b[0m\u001b[0;34m\u001b[0m\u001b[0;34m\u001b[0m\u001b[0m\n",
      "\u001b[0;31mValueError\u001b[0m: `legend` must be 'brief', 'full', or False"
     ]
    },
    {
     "data": {
      "image/png": "[encoded data removed]",
      "text/plain": [
       "<Figure size 1440x360 with 4 Axes>"
      ]
     },
     "metadata": {},
     "output_type": "display_data"
    }
   ],
   "source": [
    "fig, ax = plt.subplots(1, 4, figsize=(20, 5))\n",
    "\n",
    "# Random split task\n",
    "sns.scatterplot(data=tsne_df, x=\"TSNE 1\", y=\"TSNE 2\", \n",
    "                hue=\"Random Split\", legend=True,\n",
    "                alpha=0.8, palette='bright', linewidth=0.1, ax = ax[0])\n",
    "\n",
    "ax[0].set_title(\"Random Test/Train Split\")\n",
    "ax[0].set_xticks([])\n",
    "ax[0].set_yticks([])\n",
    "ax[0].set_xbound(lower=-75, upper=75)\n",
    "ax[0].set_ybound(lower=-70, upper=70)\n",
    "ax[0].legend(bbox_to_anchor=(0, -0.2, 1, 1), ncol=2, mode=\"expand\")\n",
    "\n",
    "# DOI split task\n",
    "sns.kdeplot(data=tsne_df, x=\"TSNE 1\", y=\"TSNE 2\", \n",
    "            hue=\"DOI Split\", \n",
    "            fill=False, thresh=0.01,\n",
    "            palette ='bright', gridsize=100, alpha = 0.8,\n",
    "            ax = ax[1])\n",
    "\n",
    "sns.scatterplot(data=tsne_df, x=\"TSNE 1\", y=\"TSNE 2\", \n",
    "                hue=\"DOI Split\", legend=True,\n",
    "                alpha=0.8, \n",
    "                palette='bright', linewidth=0.1,\n",
    "                ax = ax[1])\n",
    "\n",
    "ax[1].set_title(\"Test/Train Split : DOI Hold-out\")\n",
    "ax[1].set_xticks([])\n",
    "ax[1].set_yticks([])\n",
    "ax[1].set_xbound(lower=-75, upper=75)\n",
    "ax[1].set_ybound(lower=-70, upper=70)\n",
    "ax[1].legend(bbox_to_anchor=(0, -0.2, 1, 1), ncol=2, mode=\"expand\")\n",
    "\n",
    "# Substrate split task\n",
    "sns.kdeplot(data=tsne_df, x=\"TSNE 1\", y=\"TSNE 2\", \n",
    "            hue=\"Subtrate Split\", \n",
    "            fill=False, thresh=0.05,\n",
    "            palette ='bright', gridsize=300, alpha = 0.8,\n",
    "            levels=5, ax = ax[2])\n",
    "\n",
    "sns.scatterplot(data=tsne_df, x=\"TSNE 1\", y=\"TSNE 2\", \n",
    "                hue=\"Subtrate Split\", legend=True,\n",
    "                alpha=0.8, palette='bright', linewidth=0.1, ax = ax[2])\n",
    "\n",
    "ax[2].set_title(\"Test/Train Split : Substrate Hold-out\")\n",
    "ax[2].set_xticks([])\n",
    "ax[2].set_yticks([])\n",
    "ax[2].set_xbound(lower=-75, upper=75)\n",
    "ax[2].set_ybound(lower=-70, upper=70)\n",
    "ax[2].legend(bbox_to_anchor=(0, -0.2, 1, 1),ncol=2, mode=\"expand\")\n",
    "\n",
    "# Coupling Reagent Class - Split Task\n",
    "sns.kdeplot(data=tsne_df, x=\"TSNE 1\", y=\"TSNE 2\", \n",
    "            hue=\"Coupling Reagent Split\", \n",
    "            fill=False, thresh=0.05,\n",
    "            palette ='bright', gridsize=300, alpha = 0.8,\n",
    "            levels=5, ax = ax[3])\n",
    "\n",
    "sns.scatterplot(data=tsne_df, x=\"TSNE 1\", y=\"TSNE 2\", \n",
    "                hue=\"Coupling Reagent Split\", legend=True,\n",
    "                alpha=0.8, palette='bright', linewidth=0.1, ax = ax[3])\n",
    "\n",
    "ax[3].set_title(\"Test/Train Split : Coupling Reagent Class Hold-out\")\n",
    "ax[3].set_xticks([])\n",
    "ax[3].set_yticks([])\n",
    "ax[3].set_xbound(lower=-75, upper=75)\n",
    "ax[3].set_ybound(lower=-70, upper=70)\n",
    "ax[3].legend(bbox_to_anchor=(0, -0.2, 1, 1), ncol=2, mode=\"expand\")\n",
    "\n",
    "fig.tight_layout()\n",
    "\n",
    "plt.savefig(\"exploration2.svg\", dpi=600, bbox_inches='tight')\n",
    "plt.show()"
   ]
  },
  {
   "cell_type": "markdown",
   "metadata": {},
   "source": [
    "## Visualize Data Spliitng on a Restricetd Chemical Space"
   ]
  },
  {
   "cell_type": "code",
   "execution_count": null,
   "metadata": {},
   "outputs": [],
   "source": [
    "# Restricted to one type of Coupling Partner :\n",
    "Boron_df = tsne_df[tsne_df[\"Coupling Reagent Split\"] == \"Test Set\"]\n",
    "Not_Boron_df = tsne_df[tsne_df[\"Coupling Reagent Split\"] == \"Train Set\"]"
   ]
  },
  {
   "cell_type": "code",
   "execution_count": null,
   "metadata": {},
   "outputs": [],
   "source": [
    "ax = plt.figure(figsize=(5, 5))\n",
    "\n",
    "# plot Boron data point and density\n",
    "sns.kdeplot(data=Boron_df, x=\"TSNE 1\", y=\"TSNE 2\",\n",
    "            fill=True, thresh=0.05,\n",
    "            color='blue', gridsize=100,\n",
    "            alpha = 0.4, linewidth=50,\n",
    "           levels =5)\n",
    "\n",
    "ax = sns.scatterplot(data=Boron_df, x=\"TSNE 1\", y=\"TSNE 2\", \n",
    "                hue=\"Random Split\",\n",
    "                alpha=0.8, \n",
    "                palette='bright', linewidth=0.1)\n",
    "\n",
    "legend = ax.get_legend()\n",
    "labels = [] if legend is None else [str(x._text) for x in legend.texts]\n",
    "handles = legend.legendHandles\n",
    "\n",
    "# plot not used data points\n",
    "ax2 = sns.scatterplot(data=Not_Boron_df, x=\"TSNE 1\", y=\"TSNE 2\", \n",
    "                legend=True, alpha=0.2, \n",
    "                color='gray', linewidth=0.1)\n",
    "\n",
    "# make common legend\n",
    "legend2 = ax2.get_legend()\n",
    "h3 = legend2.legendHandles[0]\n",
    "h3.set_color(\"gray\")\n",
    "ax2.get_legend().remove()\n",
    "h = [handles[0], handles[1], h3]\n",
    "l = [\"Boronic in Train Set\", \"Boronic in Test Set\", \"Other Coupling Reagents\"]\n",
    "\n",
    "# set figure titles and legend\n",
    "ax.set_title(\"Random Test/Train Split\\n Restricted to Boronic Coupling Partners\")\n",
    "ax.set_xticks([])\n",
    "ax.set_yticks([])\n",
    "ax.set_xbound(lower=-75, upper=75)\n",
    "ax.set_ybound(lower=-70, upper=70)\n",
    "ax.legend(h, l, bbox_to_anchor=(1.6, 1.02), \n",
    "             ncol=1, title=\"Data type\")\n",
    "\n",
    "plt.savefig(\"exploration_restricted.svg\", dpi=600, bbox_inches='tight')\n",
    "plt.show()"
   ]
  }
 ],
 "metadata": {
  "kernelspec": {
   "display_name": "torch_env",
   "language": "python",
   "name": "torch_env"
  },
  "language_info": {
   "codemirror_mode": {
    "name": "ipython",
    "version": 3
   },
   "file_extension": ".py",
   "mimetype": "text/x-python",
   "name": "python",
   "nbconvert_exporter": "python",
   "pygments_lexer": "ipython3",
   "version": "3.6.10"
  },
  "varInspector": {
   "cols": {
    "lenName": 16,
    "lenType": 16,
    "lenVar": 40
   },
   "kernels_config": {
    "python": {
     "delete_cmd_postfix": "",
     "delete_cmd_prefix": "del ",
     "library": "var_list.py",
     "varRefreshCmd": "print(var_dic_list())"
    },
    "r": {
     "delete_cmd_postfix": ") ",
     "delete_cmd_prefix": "rm(",
     "library": "var_list.r",
     "varRefreshCmd": "cat(var_dic_list()) "
    }
   },
   "types_to_exclude": [
    "module",
    "function",
    "builtin_function_or_method",
    "instance",
    "_Feature"
   ],
   "window_display": false
  }
 },
 "nbformat": 4,
 "nbformat_minor": 5
}
