{
 "cells": [
  {
   "cell_type": "code",
   "execution_count": 3,
   "id": "2f651057",
   "metadata": {},
   "outputs": [],
   "source": [
    "import seaborn as sns\n",
    "import matplotlib.pyplot as plt\n",
    "import pandas as pd\n",
    "import numpy as np"
   ]
  },
  {
   "cell_type": "code",
   "execution_count": 24,
   "id": "3532a5af",
   "metadata": {},
   "outputs": [
    {
     "name": "stdout",
     "output_type": "stream",
     "text": [
      "num reactions =  2203\n"
     ]
    }
   ],
   "source": [
    "# yields\n",
    "yields = [\"<10%\", \"10-29%\", \"30-49%\", \"50-69%\", \"70-79%\", \"80-89%\", \"90-100%\"]\n",
    "yields_count =  [ 25, 78, 243, 569, 419, 436, 433]\n",
    "num_reactions =  np.sum(yields_count)\n",
    "yields_norm = [100*25, 100*78/2,\n",
    "               100*243/2, 100*569/2,\n",
    "               100*419, 100*436,\n",
    "               100*433]\n",
    "yields_norm = yields_norm/num_reactions\n",
    "\n",
    "#publications\n",
    "year = [i for i in range(1986, 2022)]\n",
    "num_reactions = [5, 0, 7, 1, 0, 2, 7, 1, 6,\n",
    "             0, 0, 0, 8, 0, 6, 4, 3, 12, \n",
    "             7, 5, 8, 21, 134, 56, 29 , 61,\n",
    "             118, 84, 109, 228, 374, 200, 257,\n",
    "             145, 136, 169]\n",
    "print(\"num reactions = \" , np.sum(num_publis))"
   ]
  },
  {
   "cell_type": "code",
   "execution_count": 25,
   "id": "d46775c7",
   "metadata": {},
   "outputs": [],
   "source": [
    "data_yields = pd.DataFrame(data=yields, columns=[\"Yield\"])\n",
    "data_yields[\"Occurence\"] = yields_count\n",
    "data_yields[\"Normalized Occurence (%)\"] = yields_norm"
   ]
  },
  {
   "cell_type": "code",
   "execution_count": 26,
   "id": "5383b167",
   "metadata": {},
   "outputs": [
    {
     "data": {
      "text/plain": [
       "79.80027235587835"
      ]
     },
     "execution_count": 26,
     "metadata": {},
     "output_type": "execute_result"
    }
   ],
   "source": [
    "np.sum(yields_norm)"
   ]
  },
  {
   "cell_type": "code",
   "execution_count": 27,
   "id": "dfa97d3d",
   "metadata": {},
   "outputs": [
    {
     "data": {
      "image/png": "[encoded data removed]",
      "text/plain": [
       "<Figure size 432x180 with 1 Axes>"
      ]
     },
     "metadata": {
      "needs_background": "light"
     },
     "output_type": "display_data"
    }
   ],
   "source": [
    "fig = plt.figure(figsize=(6,2.5))\n",
    "sns.barplot(data=data_yields, x=\"Yield\", y=\"Normalized Occurence (%)\", palette=\"rocket\")\n",
    "plt.savefig('sci_finder_yield.svg', dpi=300, format='svg',\n",
    "        bbox_inches='tight')\n",
    "plt.show()"
   ]
  },
  {
   "cell_type": "code",
   "execution_count": 28,
   "id": "741436a6",
   "metadata": {},
   "outputs": [],
   "source": [
    "data_year = pd.DataFrame(data=year, columns=[\"Year of Publication\"])\n",
    "data_year[\"Number or Reactions\"] = num_reactions"
   ]
  },
  {
   "cell_type": "code",
   "execution_count": 38,
   "id": "7458ae8f",
   "metadata": {},
   "outputs": [
    {
     "data": {
      "image/png": "[encoded data removed]",
      "text/plain": [
       "<Figure size 432x180 with 1 Axes>"
      ]
     },
     "metadata": {
      "needs_background": "light"
     },
     "output_type": "display_data"
    }
   ],
   "source": [
    "fig = plt.figure(figsize=(6,2.5))\n",
    "\n",
    "sns.barplot(data=data_year, x=\"Year of Publication\", y=\"Number or Reactions\", palette=\"viridis\")\n",
    "plt.xticks(rotation='vertical', size = 7)\n",
    "plt.savefig('sci_finder_year.svg', dpi=300, format='svg',\n",
    "        bbox_inches='tight')\n",
    "plt.show()"
   ]
  },
  {
   "cell_type": "code",
   "execution_count": 15,
   "id": "ec915cb3",
   "metadata": {},
   "outputs": [],
   "source": [
    "yields = [\"<10%\", \"10-29%\", \"30-49%\", \"50-69%\", \"70-79%\", \"80-89%\", \"90-100%\"]\n",
    "yields_lim = [0, 10, 29, 49, 69, 79, 89, 100]\n",
    "yields_count =  [ 25, 78, 243, 569, 419, 436, 433]"
   ]
  },
  {
   "cell_type": "code",
   "execution_count": 19,
   "id": "7c71deae",
   "metadata": {},
   "outputs": [],
   "source": [
    "Y = [np.random.randint(yields_lim[i], yields_lim[i+1]) for i in range(len(yields_count)) for j in range(yields_count[i])]"
   ]
  },
  {
   "cell_type": "code",
   "execution_count": 24,
   "id": "7dd5a933",
   "metadata": {},
   "outputs": [
    {
     "name": "stderr",
     "output_type": "stream",
     "text": [
      "/usr/local/anaconda3/envs/dft_for_sm/lib/python3.9/site-packages/seaborn/_decorators.py:36: FutureWarning: Pass the following variable as a keyword arg: x. From version 0.12, the only valid positional argument will be `data`, and passing other arguments without an explicit keyword will result in an error or misinterpretation.\n",
      "  warnings.warn(\n"
     ]
    },
    {
     "data": {
      "text/plain": [
       "<AxesSubplot:>"
      ]
     },
     "execution_count": 24,
     "metadata": {},
     "output_type": "execute_result"
    },
    {
     "data": {
      "image/png": "[encoded data removed]",
      "text/plain": [
       "<Figure size 432x288 with 1 Axes>"
      ]
     },
     "metadata": {
      "needs_background": "light"
     },
     "output_type": "display_data"
    }
   ],
   "source": [
    "sns.violinplot(Y, cut=0)"
   ]
  },
  {
   "cell_type": "code",
   "execution_count": 25,
   "id": "bad193bf",
   "metadata": {},
   "outputs": [
    {
     "ename": "ValueError",
     "evalue": "low >= high",
     "output_type": "error",
     "traceback": [
      "\u001b[0;31m---------------------------------------------------------------------------\u001b[0m",
      "\u001b[0;31mValueError\u001b[0m                                Traceback (most recent call last)",
      "\u001b[0;32m/var/folders/c8/7pbzw0r912n01vr9fgdmzhx00000gn/T/ipykernel_74615/719518803.py\u001b[0m in \u001b[0;36m<module>\u001b[0;34m\u001b[0m\n\u001b[0;32m----> 1\u001b[0;31m \u001b[0mL\u001b[0m \u001b[0;34m=\u001b[0m \u001b[0;34m[\u001b[0m\u001b[0mnp\u001b[0m\u001b[0;34m.\u001b[0m\u001b[0mrandom\u001b[0m\u001b[0;34m.\u001b[0m\u001b[0mrandint\u001b[0m\u001b[0;34m(\u001b[0m\u001b[0myields_lim\u001b[0m\u001b[0;34m,\u001b[0m \u001b[0;36m10\u001b[0m\u001b[0;34m)\u001b[0m \u001b[0;32mfor\u001b[0m \u001b[0mi\u001b[0m \u001b[0;32min\u001b[0m \u001b[0mrange\u001b[0m\u001b[0;34m(\u001b[0m\u001b[0mlen\u001b[0m\u001b[0;34m(\u001b[0m\u001b[0myields_count\u001b[0m\u001b[0;34m)\u001b[0m\u001b[0;34m)\u001b[0m \u001b[0;32mfor\u001b[0m \u001b[0mj\u001b[0m \u001b[0;32min\u001b[0m \u001b[0mrange\u001b[0m\u001b[0;34m(\u001b[0m\u001b[0myields_count\u001b[0m\u001b[0;34m[\u001b[0m\u001b[0mi\u001b[0m\u001b[0;34m]\u001b[0m\u001b[0;34m)\u001b[0m\u001b[0;34m]\u001b[0m\u001b[0;34m\u001b[0m\u001b[0;34m\u001b[0m\u001b[0m\n\u001b[0m",
      "\u001b[0;32m/var/folders/c8/7pbzw0r912n01vr9fgdmzhx00000gn/T/ipykernel_74615/719518803.py\u001b[0m in \u001b[0;36m<listcomp>\u001b[0;34m(.0)\u001b[0m\n\u001b[0;32m----> 1\u001b[0;31m \u001b[0mL\u001b[0m \u001b[0;34m=\u001b[0m \u001b[0;34m[\u001b[0m\u001b[0mnp\u001b[0m\u001b[0;34m.\u001b[0m\u001b[0mrandom\u001b[0m\u001b[0;34m.\u001b[0m\u001b[0mrandint\u001b[0m\u001b[0;34m(\u001b[0m\u001b[0myields_lim\u001b[0m\u001b[0;34m,\u001b[0m \u001b[0;36m10\u001b[0m\u001b[0;34m)\u001b[0m \u001b[0;32mfor\u001b[0m \u001b[0mi\u001b[0m \u001b[0;32min\u001b[0m \u001b[0mrange\u001b[0m\u001b[0;34m(\u001b[0m\u001b[0mlen\u001b[0m\u001b[0;34m(\u001b[0m\u001b[0myields_count\u001b[0m\u001b[0;34m)\u001b[0m\u001b[0;34m)\u001b[0m \u001b[0;32mfor\u001b[0m \u001b[0mj\u001b[0m \u001b[0;32min\u001b[0m \u001b[0mrange\u001b[0m\u001b[0;34m(\u001b[0m\u001b[0myields_count\u001b[0m\u001b[0;34m[\u001b[0m\u001b[0mi\u001b[0m\u001b[0;34m]\u001b[0m\u001b[0;34m)\u001b[0m\u001b[0;34m]\u001b[0m\u001b[0;34m\u001b[0m\u001b[0;34m\u001b[0m\u001b[0m\n\u001b[0m",
      "\u001b[0;32mmtrand.pyx\u001b[0m in \u001b[0;36mnumpy.random.mtrand.RandomState.randint\u001b[0;34m()\u001b[0m\n",
      "\u001b[0;32m_bounded_integers.pyx\u001b[0m in \u001b[0;36mnumpy.random._bounded_integers._rand_int64\u001b[0;34m()\u001b[0m\n",
      "\u001b[0;32m_bounded_integers.pyx\u001b[0m in \u001b[0;36mnumpy.random._bounded_integers._rand_int64_broadcast\u001b[0;34m()\u001b[0m\n",
      "\u001b[0;31mValueError\u001b[0m: low >= high"
     ]
    }
   ],
   "source": [
    "L = [np.random.randint(yields_lim, 10) for i in range(len(yields_count)) for j in range(yields_count[i])]"
   ]
  },
  {
   "cell_type": "code",
   "execution_count": null,
   "id": "df5f8670",
   "metadata": {},
   "outputs": [],
   "source": []
  },
  {
   "cell_type": "code",
   "execution_count": null,
   "id": "d51ea1b0",
   "metadata": {},
   "outputs": [],
   "source": []
  }
 ],
 "metadata": {
  "kernelspec": {
   "display_name": "Python 3 (ipykernel)",
   "language": "python",
   "name": "python3"
  },
  "language_info": {
   "codemirror_mode": {
    "name": "ipython",
    "version": 3
   },
   "file_extension": ".py",
   "mimetype": "text/x-python",
   "name": "python",
   "nbconvert_exporter": "python",
   "pygments_lexer": "ipython3",
   "version": "3.9.7"
  }
 },
 "nbformat": 4,
 "nbformat_minor": 5
}
