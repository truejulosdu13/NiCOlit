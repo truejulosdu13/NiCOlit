{
 "cells": [
  {
   "cell_type": "code",
   "execution_count": null,
   "metadata": {
    "scrolled": true
   },
   "outputs": [],
   "source": [
    "import pandas as pd\n",
    "import json\n",
    "import os\n",
    "\n",
    "import sys\n",
    "sys.path.append('../')\n",
    "\n",
    "import dft_descriptors.numbering_CO as nb\n",
    "from rdkit import Chem\n",
    "from dft_descriptors.dft_featurize import *\n",
    "from dft_descriptors.prepocessing import preprocess\n",
    "\n",
    "from aqc_utils.molecule import molecule\n",
    "from aqc_utils.db_functions import *\n",
    "from aqc_utils.openbabel_functions import *\n",
    "\n",
    "import hashlib\n",
    "import logging\n",
    "logging.basicConfig(level=logging.INFO)"
   ]
  },
  {
   "cell_type": "code",
   "execution_count": null,
   "metadata": {},
   "outputs": [],
   "source": [
    "df = pd.read_csv(\"../data_csv/NiCOlit.csv\", sep = ',')\n",
    "df = df[df[\"Reactant Smile (C-O)\"].isna() == False]"
   ]
  },
  {
   "cell_type": "code",
   "execution_count": null,
   "metadata": {},
   "outputs": [],
   "source": [
    "df = preprocess(df)\n",
    "df = df[df[\"Mechanism\"] != 'Review']"
   ]
  },
  {
   "cell_type": "code",
   "execution_count": null,
   "metadata": {},
   "outputs": [],
   "source": [
    "#Need to create to tables with numbered AL and numbered Bases by \"shared atoms\""
   ]
  },
  {
   "cell_type": "code",
   "execution_count": null,
   "metadata": {
    "scrolled": true
   },
   "outputs": [],
   "source": [
    "mol_df = db_select_molecules()\n",
    "#mol_df.to_csv(\"../data_csv/mol_df.csv\", sep=',',index=False)\n",
    "#mol_df = pd.read_csv(\"../data_csv/mol_df.csv\", sep=',')"
   ]
  },
  {
   "cell_type": "code",
   "execution_count": null,
   "metadata": {
    "scrolled": true
   },
   "outputs": [],
   "source": [
    "sub_df = generates_descriptors(mol_df, \"LewisAcid\")"
   ]
  },
  {
   "cell_type": "code",
   "execution_count": null,
   "metadata": {
    "scrolled": true
   },
   "outputs": [],
   "source": [
    "df = pd.read_csv('../data_csv/AL_dft.csv', sep = ',', index_col=0)\n",
    "df"
   ]
  },
  {
   "cell_type": "code",
   "execution_count": null,
   "metadata": {},
   "outputs": [],
   "source": [
    "df = df.append(sub_df)\n",
    "df = df[df.duplicated(keep = 'first') == False]"
   ]
  },
  {
   "cell_type": "code",
   "execution_count": null,
   "metadata": {},
   "outputs": [],
   "source": [
    "df"
   ]
  },
  {
   "cell_type": "code",
   "execution_count": null,
   "metadata": {},
   "outputs": [],
   "source": [
    "#df.to_csv('../data_csv/AL_dft.csv', sep=',', index=True)"
   ]
  },
  {
   "cell_type": "code",
   "execution_count": null,
   "metadata": {},
   "outputs": [],
   "source": [
    "df = pd.read_csv('../data_csv/ligand_dft.csv', sep = ',', index_col=0)\n",
    "idx_to_drop = []\n",
    "i = 0\n",
    "for smi in df.index.to_list():\n",
    "    if smi in sub_df.index.to_list():\n",
    "        idx_to_drop.append(smi)\n",
    "    i+=1\n",
    "\n",
    "#idx_to_drop.append(\"CC(N1c2ccccc2N(C1CC1N(C)c2c(N1C(C)C)cccc2)C)C\")\n",
    "#idx_to_drop.append(\"CN1C(CC2N(C(C)C)c3c(N2C(C)C)cccc3)N(c2c1cccc2)C\")\n",
    "df = df.drop(labels=idx_to_drop, axis=0)"
   ]
  },
  {
   "cell_type": "code",
   "execution_count": null,
   "metadata": {
    "scrolled": true
   },
   "outputs": [],
   "source": [
    "df = df.append(sub_df)\n",
    "#df.to_csv('../data_csv/ligand_dft.csv', sep=',', index=True)"
   ]
  },
  {
   "cell_type": "code",
   "execution_count": null,
   "metadata": {},
   "outputs": [],
   "source": [
    "df"
   ]
  },
  {
   "cell_type": "code",
   "execution_count": null,
   "metadata": {
    "scrolled": true
   },
   "outputs": [],
   "source": [
    "df = df.append(sub_df)\n",
    "df = df[df.duplicated(keep='first')== False]\n",
    "df"
   ]
  },
  {
   "cell_type": "code",
   "execution_count": null,
   "metadata": {},
   "outputs": [],
   "source": [
    "#sub_df.to_csv('../data_csv/AX_dft.csv', index= True)"
   ]
  },
  {
   "cell_type": "code",
   "execution_count": null,
   "metadata": {},
   "outputs": [],
   "source": [
    "df = df.append(sub_df)\n",
    "df = df[df.duplicated(keep='first')== False]\n",
    "df"
   ]
  },
  {
   "cell_type": "code",
   "execution_count": null,
   "metadata": {},
   "outputs": [],
   "source": [
    "df.to_csv('../data_csv/ligand_dft.csv', sep=',', index=True)"
   ]
  },
  {
   "cell_type": "code",
   "execution_count": null,
   "metadata": {},
   "outputs": [],
   "source": [
    "dft_set = {'gaussian_config': {'theory': 'b3lyp',\n",
    "                               'light_basis_set': '6-31G*',\n",
    "                               'heavy_basis_set': 'LANL2DZ',\n",
    "                               'generic_basis_set': 'genecp',\n",
    "                               'max_light_atomic_number': 36},\n",
    "               'gaussian_tasks': ['opt b3lyp/6-31G* scf=(xqc,tight)',\n",
    "                                  'freq b3lyp/6-31G* volume NMR pop=NPA density=current Geom=AllCheck Guess=Read',\n",
    "                                  'TD(NStates=10, Root=1) b3lyp/6-31G* volume pop=NPA density=current Geom=AllCheck Guess=Read'],\n",
    "               'max_num_conformers': 1,\n",
    "               'class': '',\n",
    "               'subclass': '',\n",
    "               'type': '',\n",
    "               'subtype': ''}"
   ]
  },
  {
   "cell_type": "code",
   "execution_count": null,
   "metadata": {},
   "outputs": [],
   "source": [
    "dft_set['gaussian_config']"
   ]
  },
  {
   "cell_type": "code",
   "execution_count": null,
   "metadata": {},
   "outputs": [],
   "source": [
    "data_df = pd.read_csv('../data_csv/Data_test11032021.csv', sep = ',') \n",
    "data_df = pp.preprocess(data_df)\n",
    "data_df = data_df[data_df['Ligand effectif'].notna()]\n",
    "data_df = data_df[data_df['Ligand effectif'] != 'NoLigand']\n",
    "unik_lig = np.unique(data_df[\"Ligand effectif\"])"
   ]
  },
  {
   "cell_type": "code",
   "execution_count": null,
   "metadata": {},
   "outputs": [],
   "source": [
    "can_smis = np.unique([Chem.CanonSmiles(smi) for smi in unik_lig])"
   ]
  },
  {
   "cell_type": "code",
   "execution_count": null,
   "metadata": {},
   "outputs": [],
   "source": []
  }
 ],
 "metadata": {
  "kernelspec": {
   "display_name": "Python 3",
   "language": "python",
   "name": "python3"
  },
  "language_info": {
   "codemirror_mode": {
    "name": "ipython",
    "version": 3
   },
   "file_extension": ".py",
   "mimetype": "text/x-python",
   "name": "python",
   "nbconvert_exporter": "python",
   "pygments_lexer": "ipython3",
   "version": "3.7.7"
  }
 },
 "nbformat": 4,
 "nbformat_minor": 5
}
