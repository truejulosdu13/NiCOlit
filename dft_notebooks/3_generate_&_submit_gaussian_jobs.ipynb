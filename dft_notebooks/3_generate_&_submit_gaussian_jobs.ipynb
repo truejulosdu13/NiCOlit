{
 "cells": [
  {
   "cell_type": "markdown",
   "id": "e47a90ce",
   "metadata": {},
   "source": [
    "# Import packages"
   ]
  },
  {
   "cell_type": "code",
   "execution_count": 1,
   "id": "f3eeafd6",
   "metadata": {},
   "outputs": [],
   "source": [
    "import pandas as pd\n",
    "import sys\n",
    "sys.path.append('../')\n",
    "import numpy as np\n",
    "from aqc_utils.molecule import molecule\n",
    "from aqc_utils.slurm_manager import slurm_manager\n",
    "from aqc_utils.helper_classes import slurm_status\n",
    "from dft_descriptors import prepocessing as pp\n",
    "import logging\n",
    "from rdkit import Chem\n",
    "logging.basicConfig(level=logging.INFO)"
   ]
  },
  {
   "cell_type": "markdown",
   "id": "fd294cc9",
   "metadata": {},
   "source": [
    "# Initialize the slurm manager\n",
    "\n",
    "Slurm manager is going to manage what jobs you have currently running, or created. It caches your information, so you can kill the notebook, turn-off your computer, go on vacation, and pick it up later. It will remember which jobs you haven't retrieved from the cluster, etc.\n",
    "\n",
    "Note: it won't ask you for login unless you execute a method that requires remote access"
   ]
  },
  {
   "cell_type": "code",
   "execution_count": 2,
   "id": "10c3185a",
   "metadata": {},
   "outputs": [
    {
     "name": "stderr",
     "output_type": "stream",
     "text": [
      "INFO:aqc_utils.slurm_manager:Creating connection to hermite.chimie.ens.fr as jschleinitz\n",
      "INFO:paramiko.transport:Connected (version 2.0, client OpenSSH_8.2p1)\n",
      "INFO:paramiko.transport:Authentication (password) successful!\n",
      "INFO:aqc_utils.slurm_manager:Connected to hermite.chimie.ens.fr as jschleinitz is True.\n"
     ]
    }
   ],
   "source": [
    "sm=slurm_manager(user='jschleinitz', host='hermite.chimie.ens.fr')\n",
    "sm.connect()"
   ]
  },
  {
   "cell_type": "markdown",
   "id": "09c521c0",
   "metadata": {},
   "source": [
    "# Provide smiles string(s)\n",
    "and copy into them into my_smiles variable. It's a list of strings (a Python list can be of any size), the smiles are extracted for the csv resulting form the step 2 numbering the molecules."
   ]
  },
  {
   "cell_type": "code",
   "execution_count": 3,
   "id": "7b28b022",
   "metadata": {},
   "outputs": [],
   "source": [
    "react_nb = pd.read_csv(\"../data/Data_test11262021.csv\", sep=',')"
   ]
  },
  {
   "cell_type": "code",
   "execution_count": 6,
   "id": "90fc4228",
   "metadata": {},
   "outputs": [],
   "source": [
    "data_df = pp.preprocess(react_nb)\n",
    "L = data_df[\"Lewis Acid\"].unique()\n",
    "L = list(L)\n",
    "L.remove('nan')\n",
    "L.remove('NoLewisAcid')"
   ]
  },
  {
   "cell_type": "markdown",
   "id": "9c3ebf25",
   "metadata": {},
   "source": [
    "# Initialize the molecules and generate conformations\n",
    "We will use some for loops to loop over the smiles, only one conformation will be taken for each molecules in this work"
   ]
  },
  {
   "cell_type": "code",
   "execution_count": 7,
   "id": "225806f5",
   "metadata": {},
   "outputs": [
    {
     "name": "stderr",
     "output_type": "stream",
     "text": [
      "INFO:aqc_utils.molecule:Initializing molecule with canonical smiles: [Li]c1ccccc1\n",
      "INFO:aqc_utils.molecule:Creating initial geometry with option 'best'.\n",
      "INFO:aqc_utils.molecule:Initial geometry created successfully.\n",
      "INFO:aqc_utils.molecule:Initializing molecule with canonical smiles: [Li]c1ccccc1C\n",
      "INFO:aqc_utils.molecule:Creating initial geometry with option 'best'.\n",
      "INFO:aqc_utils.molecule:Initial geometry created successfully.\n",
      "INFO:aqc_utils.molecule:Initializing molecule with canonical smiles: Cc1cc(C)c(c(c1)C)[Li]\n",
      "INFO:aqc_utils.molecule:Creating initial geometry with option 'best'.\n",
      "INFO:aqc_utils.molecule:Initial geometry created successfully.\n",
      "INFO:aqc_utils.molecule:Initializing molecule with canonical smiles: CC(c1ccc(cc1)[Li])(C)C\n",
      "INFO:aqc_utils.molecule:Creating initial geometry with option 'best'.\n"
     ]
    },
    {
     "name": "stdout",
     "output_type": "stream",
     "text": [
      "[Li]c1ccccc1\n",
      "[Li]c1ccccc1C\n",
      "[Li]c1c(C)cc(C)cc1C\n",
      "[Li]c1ccc(C(C)(C)C)cc1\n"
     ]
    },
    {
     "name": "stderr",
     "output_type": "stream",
     "text": [
      "INFO:aqc_utils.molecule:Initial geometry created successfully.\n",
      "INFO:aqc_utils.molecule:Initializing molecule with canonical smiles: COc1ccc(cc1)[Li]\n",
      "INFO:aqc_utils.molecule:Creating initial geometry with option 'best'.\n"
     ]
    },
    {
     "name": "stdout",
     "output_type": "stream",
     "text": [
      "[Li]c1ccc(OC)cc1\n"
     ]
    },
    {
     "name": "stderr",
     "output_type": "stream",
     "text": [
      "INFO:aqc_utils.molecule:Initial geometry created successfully.\n",
      "INFO:aqc_utils.molecule:Initializing molecule with canonical smiles: CC([Si](Oc1ccc(cc1)[Li])(C)C)(C)C\n",
      "INFO:aqc_utils.molecule:Creating initial geometry with option 'best'.\n"
     ]
    },
    {
     "name": "stdout",
     "output_type": "stream",
     "text": [
      "[Li]c1ccc(O[Si](C)(C)C(C)(C)C)cc1\n"
     ]
    },
    {
     "name": "stderr",
     "output_type": "stream",
     "text": [
      "INFO:aqc_utils.molecule:Initial geometry created successfully.\n",
      "INFO:aqc_utils.molecule:Initializing molecule with canonical smiles: COCOc1ccccc1[Li]\n",
      "INFO:aqc_utils.molecule:Creating initial geometry with option 'best'.\n"
     ]
    },
    {
     "name": "stdout",
     "output_type": "stream",
     "text": [
      "[Li]c1ccccc1OCOC\n"
     ]
    },
    {
     "name": "stderr",
     "output_type": "stream",
     "text": [
      "INFO:aqc_utils.molecule:Initial geometry created successfully.\n",
      "INFO:aqc_utils.molecule:Initializing molecule with canonical smiles: CN(c1ccc(cc1)[Li])C\n",
      "INFO:aqc_utils.molecule:Creating initial geometry with option 'best'.\n"
     ]
    },
    {
     "name": "stdout",
     "output_type": "stream",
     "text": [
      "[Li]c1ccc(N(C)C)cc1\n"
     ]
    },
    {
     "name": "stderr",
     "output_type": "stream",
     "text": [
      "INFO:aqc_utils.molecule:Initial geometry created successfully.\n",
      "INFO:aqc_utils.molecule:Initializing molecule with canonical smiles: [Li]c1cccc2c1cccc2\n",
      "INFO:aqc_utils.molecule:Creating initial geometry with option 'best'.\n",
      "INFO:aqc_utils.molecule:Initial geometry created successfully.\n",
      "INFO:aqc_utils.molecule:Initializing molecule with canonical smiles: [Li]c1ccc(cc1)O[Si](C)(C)C\n",
      "INFO:aqc_utils.molecule:Creating initial geometry with option 'best'.\n"
     ]
    },
    {
     "name": "stdout",
     "output_type": "stream",
     "text": [
      "[Li]c1cccc2ccccc12\n",
      "[Li]c1ccc(O[Si](C)(C)C)cc1\n"
     ]
    },
    {
     "name": "stderr",
     "output_type": "stream",
     "text": [
      "INFO:aqc_utils.molecule:Initial geometry created successfully.\n",
      "INFO:aqc_utils.molecule:Initializing molecule with canonical smiles: [Li]c1cccc(c1)O[Si](C(C)(C)C)(C)C\n",
      "INFO:aqc_utils.molecule:Creating initial geometry with option 'best'.\n"
     ]
    },
    {
     "name": "stdout",
     "output_type": "stream",
     "text": [
      "[Li]c1cccc(O[Si](C)(C)C(C)(C)C)c1\n"
     ]
    },
    {
     "name": "stderr",
     "output_type": "stream",
     "text": [
      "INFO:aqc_utils.molecule:Initial geometry created successfully.\n",
      "INFO:aqc_utils.molecule:Initializing molecule with canonical smiles: Cn1cccc1[Li]\n",
      "INFO:aqc_utils.molecule:Creating initial geometry with option 'best'.\n",
      "INFO:aqc_utils.molecule:Initial geometry created successfully.\n",
      "INFO:aqc_utils.molecule:Initializing molecule with canonical smiles: Cn1c([Li])cc2c1cccc2\n",
      "INFO:aqc_utils.molecule:Creating initial geometry with option 'best'.\n",
      "INFO:aqc_utils.molecule:Initial geometry created successfully.\n",
      "INFO:aqc_utils.molecule:Initializing molecule with canonical smiles: [Li]c1ccc2c(c1)n(C)cc2\n",
      "INFO:aqc_utils.molecule:Creating initial geometry with option 'best'.\n",
      "INFO:aqc_utils.molecule:Initial geometry created successfully.\n",
      "INFO:aqc_utils.molecule:Initializing molecule with canonical smiles: CCn1c2ccccc2c2c1cc([Li])cc2\n",
      "INFO:aqc_utils.molecule:Creating initial geometry with option 'best'.\n"
     ]
    },
    {
     "name": "stdout",
     "output_type": "stream",
     "text": [
      "[Li]c1cccn1C\n",
      "[Li]c1cc2ccccc2n1C\n",
      "[Li]c1ccc2ccn(C)c2c1\n",
      "[Li]c1ccc2c3ccccc3n(CC)c2c1\n"
     ]
    },
    {
     "name": "stderr",
     "output_type": "stream",
     "text": [
      "INFO:aqc_utils.molecule:Initial geometry created successfully.\n",
      "INFO:aqc_utils.molecule:Initializing molecule with canonical smiles: CCCCCCCCC=C[Li]\n",
      "INFO:aqc_utils.molecule:Creating initial geometry with option 'best'.\n"
     ]
    },
    {
     "name": "stdout",
     "output_type": "stream",
     "text": [
      "[Li]C=CCCCCCCCC\n"
     ]
    },
    {
     "name": "stderr",
     "output_type": "stream",
     "text": [
      "INFO:aqc_utils.molecule:Initial geometry created successfully.\n",
      "INFO:aqc_utils.molecule:Initializing molecule with canonical smiles: [Li]C1=CCCCC1\n",
      "INFO:aqc_utils.molecule:Creating initial geometry with option 'best'.\n",
      "INFO:aqc_utils.molecule:Initial geometry created successfully.\n",
      "INFO:aqc_utils.molecule:Initializing molecule with canonical smiles: [Li]C1CC1\n",
      "INFO:aqc_utils.molecule:Creating initial geometry with option 'best'.\n",
      "INFO:aqc_utils.molecule:Initial geometry created successfully.\n",
      "INFO:aqc_utils.molecule:Initializing molecule with canonical smiles: [Li]C\n",
      "INFO:aqc_utils.molecule:Creating initial geometry with option 'best'.\n",
      "INFO:aqc_utils.molecule:Initial geometry created successfully.\n",
      "INFO:aqc_utils.molecule:Initializing molecule with canonical smiles: [Li][Zn](c1ccccc1)(C)(C)(C)[Li]\n",
      "INFO:aqc_utils.molecule:Creating initial geometry with option 'best'.\n"
     ]
    },
    {
     "name": "stdout",
     "output_type": "stream",
     "text": [
      "[Li]C1=CCCCC1\n",
      "[Li]C1CC1\n",
      "[Li]C\n",
      "[Li][Zn]([Li])(C)(C)(C)c1ccccc1\n"
     ]
    },
    {
     "name": "stderr",
     "output_type": "stream",
     "text": [
      "INFO:aqc_utils.molecule:Initial geometry created successfully.\n",
      "INFO:aqc_utils.molecule:Initializing molecule with canonical smiles: Cc1ccccc1[Zn](C)(C)(C)([Li])[Li]\n",
      "INFO:aqc_utils.molecule:Creating initial geometry with option 'best'.\n"
     ]
    },
    {
     "name": "stdout",
     "output_type": "stream",
     "text": [
      "[Li][Zn]([Li])(C)(C)(C)c1ccccc1C\n"
     ]
    },
    {
     "name": "stderr",
     "output_type": "stream",
     "text": [
      "INFO:aqc_utils.molecule:Initial geometry created successfully.\n",
      "INFO:aqc_utils.molecule:Initializing molecule with canonical smiles: Cc1cccc(c1)[Zn](C)(C)(C)([Li])[Li]\n",
      "INFO:aqc_utils.molecule:Creating initial geometry with option 'best'.\n"
     ]
    },
    {
     "name": "stdout",
     "output_type": "stream",
     "text": [
      "[Li][Zn]([Li])(C)(C)(C)c1cccc(C)c1\n"
     ]
    },
    {
     "name": "stderr",
     "output_type": "stream",
     "text": [
      "INFO:aqc_utils.molecule:Initial geometry created successfully.\n",
      "INFO:aqc_utils.molecule:Initializing molecule with canonical smiles: Cc1ccc(cc1)[Zn](C)(C)(C)([Li])[Li]\n",
      "INFO:aqc_utils.molecule:Creating initial geometry with option 'best'.\n"
     ]
    },
    {
     "name": "stdout",
     "output_type": "stream",
     "text": [
      "[Li][Zn]([Li])(C)(C)(C)c1ccc(C)cc1\n"
     ]
    },
    {
     "name": "stderr",
     "output_type": "stream",
     "text": [
      "INFO:aqc_utils.molecule:Initial geometry created successfully.\n",
      "INFO:aqc_utils.molecule:Initializing molecule with canonical smiles: COc1ccc(cc1)[Zn](C)(C)(C)([Li])[Li]\n",
      "INFO:aqc_utils.molecule:Creating initial geometry with option 'best'.\n"
     ]
    },
    {
     "name": "stdout",
     "output_type": "stream",
     "text": [
      "[Li][Zn]([Li])(C)(C)(C)c1ccc(OC)cc1\n"
     ]
    },
    {
     "name": "stderr",
     "output_type": "stream",
     "text": [
      "INFO:aqc_utils.molecule:Initial geometry created successfully.\n",
      "INFO:aqc_utils.molecule:Initializing molecule with canonical smiles: [Li][Zn](c1cccc2c1cccc2)(C)(C)(C)[Li]\n",
      "INFO:aqc_utils.molecule:Creating initial geometry with option 'best'.\n",
      "INFO:aqc_utils.molecule:Initial geometry created successfully.\n"
     ]
    },
    {
     "name": "stdout",
     "output_type": "stream",
     "text": [
      "[Li][Zn]([Li])(C)(C)(C)c1cccc2ccccc12\n"
     ]
    },
    {
     "name": "stderr",
     "output_type": "stream",
     "text": [
      "INFO:aqc_utils.molecule:Initializing molecule with canonical smiles: Br[Mg]c1ccc(cc1)C\n",
      "INFO:aqc_utils.molecule:Creating initial geometry with option 'best'.\n",
      "INFO:aqc_utils.molecule:Initial geometry created successfully.\n",
      "INFO:aqc_utils.molecule:Initializing molecule with canonical smiles: Br[Zn]c1ccc(cc1)C\n",
      "INFO:aqc_utils.molecule:Creating initial geometry with option 'best'.\n"
     ]
    },
    {
     "name": "stdout",
     "output_type": "stream",
     "text": [
      "Cc1ccc([Mg]Br)cc1\n",
      "Cc1ccc([Zn]Br)cc1\n"
     ]
    },
    {
     "name": "stderr",
     "output_type": "stream",
     "text": [
      "INFO:aqc_utils.molecule:Initial geometry created successfully.\n",
      "INFO:aqc_utils.molecule:Initializing molecule with canonical smiles: Cl[Mg]c1ccc(cc1)C\n",
      "INFO:aqc_utils.molecule:Creating initial geometry with option 'best'.\n",
      "INFO:aqc_utils.molecule:Initial geometry created successfully.\n",
      "INFO:aqc_utils.molecule:Initializing molecule with canonical smiles: I[Mg]c1ccc(cc1)C\n",
      "INFO:aqc_utils.molecule:Creating initial geometry with option 'best'.\n"
     ]
    },
    {
     "name": "stdout",
     "output_type": "stream",
     "text": [
      "Cc1ccc([Mg]Cl)cc1\n",
      "Cc1ccc([Mg]I)cc1\n"
     ]
    },
    {
     "name": "stderr",
     "output_type": "stream",
     "text": [
      "INFO:aqc_utils.molecule:Initial geometry created successfully.\n",
      "INFO:aqc_utils.molecule:Initializing molecule with canonical smiles: Br[Mg]c1ccccc1\n",
      "INFO:aqc_utils.molecule:Creating initial geometry with option 'best'.\n",
      "INFO:aqc_utils.molecule:Initial geometry created successfully.\n",
      "INFO:aqc_utils.molecule:Initializing molecule with canonical smiles: Br[Mg]c1ccc(cc1)C(C)C\n",
      "INFO:aqc_utils.molecule:Creating initial geometry with option 'best'.\n"
     ]
    },
    {
     "name": "stdout",
     "output_type": "stream",
     "text": [
      "Br[Mg]c1ccccc1\n",
      "CC(C)c1ccc([Mg]Br)cc1\n"
     ]
    },
    {
     "name": "stderr",
     "output_type": "stream",
     "text": [
      "INFO:aqc_utils.molecule:Initial geometry created successfully.\n",
      "INFO:aqc_utils.molecule:Initializing molecule with canonical smiles: Br[Mg]c1ccc(cc1)C(C)(C)C\n",
      "INFO:aqc_utils.molecule:Creating initial geometry with option 'best'.\n"
     ]
    },
    {
     "name": "stdout",
     "output_type": "stream",
     "text": [
      "CC(C)(C)c1ccc([Mg]Br)cc1\n"
     ]
    },
    {
     "name": "stderr",
     "output_type": "stream",
     "text": [
      "INFO:aqc_utils.molecule:Initial geometry created successfully.\n",
      "INFO:aqc_utils.molecule:Initializing molecule with canonical smiles: Br[Mg]c1cccc(c1)C\n",
      "INFO:aqc_utils.molecule:Creating initial geometry with option 'best'.\n",
      "INFO:aqc_utils.molecule:Initial geometry created successfully.\n",
      "INFO:aqc_utils.molecule:Initializing molecule with canonical smiles: Br[Mg]c1ccccc1C\n",
      "INFO:aqc_utils.molecule:Creating initial geometry with option 'best'.\n",
      "INFO:aqc_utils.molecule:Initial geometry created successfully.\n"
     ]
    },
    {
     "name": "stdout",
     "output_type": "stream",
     "text": [
      "Cc1cccc([Mg]Br)c1\n",
      "Cc1ccccc1[Mg]Br\n"
     ]
    },
    {
     "name": "stderr",
     "output_type": "stream",
     "text": [
      "INFO:aqc_utils.molecule:Initializing molecule with canonical smiles: COc1ccc(cc1)[Mg]Br\n",
      "INFO:aqc_utils.molecule:Creating initial geometry with option 'best'.\n"
     ]
    },
    {
     "name": "stdout",
     "output_type": "stream",
     "text": [
      "COc1ccc([Mg]Br)cc1\n"
     ]
    },
    {
     "name": "stderr",
     "output_type": "stream",
     "text": [
      "INFO:aqc_utils.molecule:Initial geometry created successfully.\n",
      "INFO:aqc_utils.molecule:Initializing molecule with canonical smiles: Br[Mg]c1ccc(cc1)N(C)C\n",
      "INFO:aqc_utils.molecule:Creating initial geometry with option 'best'.\n"
     ]
    },
    {
     "name": "stdout",
     "output_type": "stream",
     "text": [
      "CN(C)c1ccc([Mg]Br)cc1\n"
     ]
    },
    {
     "name": "stderr",
     "output_type": "stream",
     "text": [
      "INFO:aqc_utils.molecule:Initial geometry created successfully.\n",
      "INFO:aqc_utils.molecule:Initializing molecule with canonical smiles: Br[Mg]c1cc(C)cc(c1)C\n",
      "INFO:aqc_utils.molecule:Creating initial geometry with option 'best'.\n",
      "INFO:aqc_utils.molecule:Initial geometry created successfully.\n",
      "INFO:aqc_utils.molecule:Initializing molecule with canonical smiles: COc1cc(OC)cc(c1)[Mg]Br\n",
      "INFO:aqc_utils.molecule:Creating initial geometry with option 'best'.\n"
     ]
    },
    {
     "name": "stdout",
     "output_type": "stream",
     "text": [
      "Cc1cc(C)cc([Mg]Br)c1\n",
      "COc1cc(OC)cc([Mg]Br)c1\n"
     ]
    },
    {
     "name": "stderr",
     "output_type": "stream",
     "text": [
      "INFO:aqc_utils.molecule:Initial geometry created successfully.\n",
      "INFO:aqc_utils.molecule:Initializing molecule with canonical smiles: Br[Mg]c1ccc(cc1)C(F)(F)F\n",
      "INFO:aqc_utils.molecule:Creating initial geometry with option 'best'.\n"
     ]
    },
    {
     "name": "stdout",
     "output_type": "stream",
     "text": [
      "FC(F)(F)c1ccc([Mg]Br)cc1\n"
     ]
    },
    {
     "name": "stderr",
     "output_type": "stream",
     "text": [
      "INFO:aqc_utils.molecule:Initial geometry created successfully.\n",
      "INFO:aqc_utils.molecule:Initializing molecule with canonical smiles: [K+]\n",
      "INFO:aqc_utils.molecule:Creating initial geometry with option 'best'.\n",
      "INFO:aqc_utils.molecule:Initial geometry created successfully.\n",
      "INFO:aqc_utils.molecule:Initializing molecule with canonical smiles: [Cs]OC(=O)O[Cs]\n",
      "INFO:aqc_utils.molecule:Creating initial geometry with option 'best'.\n",
      "INFO:aqc_utils.molecule:Initial geometry created successfully.\n",
      "INFO:aqc_utils.molecule:Initializing molecule with canonical smiles: [Li]Cl\n",
      "INFO:aqc_utils.molecule:Creating initial geometry with option 'best'.\n",
      "INFO:aqc_utils.molecule:Initial geometry created successfully.\n",
      "INFO:aqc_utils.molecule:Initializing molecule with canonical smiles: Cl[Mg]Cl\n",
      "INFO:aqc_utils.molecule:Creating initial geometry with option 'best'.\n",
      "INFO:aqc_utils.molecule:Initial geometry created successfully.\n",
      "INFO:aqc_utils.molecule:Initializing molecule with canonical smiles: Cl[Cs]\n",
      "INFO:aqc_utils.molecule:Creating initial geometry with option 'best'.\n",
      "INFO:aqc_utils.molecule:Initial geometry created successfully.\n",
      "INFO:aqc_utils.molecule:Initializing molecule with canonical smiles: C[Mg]Br\n",
      "INFO:aqc_utils.molecule:Creating initial geometry with option 'best'.\n",
      "INFO:aqc_utils.molecule:Initial geometry created successfully.\n",
      "INFO:aqc_utils.molecule:Initializing molecule with canonical smiles: CC[Mg]Br\n",
      "INFO:aqc_utils.molecule:Creating initial geometry with option 'best'.\n",
      "INFO:aqc_utils.molecule:Initial geometry created successfully.\n",
      "INFO:aqc_utils.molecule:Initializing molecule with canonical smiles: Br[Mg]C1CCCCC1\n",
      "INFO:aqc_utils.molecule:Creating initial geometry with option 'best'.\n"
     ]
    },
    {
     "name": "stdout",
     "output_type": "stream",
     "text": [
      "[K+]\n",
      "O=C(O[Cs])O[Cs]\n",
      "[Li]Cl\n",
      "Cl[Mg]Cl\n",
      "Cl[Cs]\n",
      "C[Mg]Br\n",
      "CC[Mg]Br\n",
      "Br[Mg]C1CCCCC1\n"
     ]
    },
    {
     "name": "stderr",
     "output_type": "stream",
     "text": [
      "INFO:aqc_utils.molecule:Initial geometry created successfully.\n",
      "INFO:aqc_utils.molecule:Initializing molecule with canonical smiles: Br[Mg]Cc1ccccc1\n",
      "INFO:aqc_utils.molecule:Creating initial geometry with option 'best'.\n"
     ]
    },
    {
     "name": "stdout",
     "output_type": "stream",
     "text": [
      "Br[Mg]Cc1ccccc1\n"
     ]
    },
    {
     "name": "stderr",
     "output_type": "stream",
     "text": [
      "INFO:aqc_utils.molecule:Initial geometry created successfully.\n",
      "INFO:aqc_utils.molecule:Initializing molecule with canonical smiles: C[Mg]I\n",
      "INFO:aqc_utils.molecule:Creating initial geometry with option 'best'.\n",
      "INFO:aqc_utils.molecule:Initial geometry created successfully.\n",
      "INFO:aqc_utils.molecule:Initializing molecule with canonical smiles: FC(S(=O)(=O)O[Sc](OS(=O)(=O)C(F)(F)F)OS(=O)(=O)C(F)(F)F)(F)F\n",
      "INFO:aqc_utils.molecule:Creating initial geometry with option 'best'.\n"
     ]
    },
    {
     "name": "stdout",
     "output_type": "stream",
     "text": [
      "C[Mg]I\n",
      "O=S(=O)(O[Sc](OS(=O)(=O)C(F)(F)F)OS(=O)(=O)C(F)(F)F)C(F)(F)F\n"
     ]
    },
    {
     "name": "stderr",
     "output_type": "stream",
     "text": [
      "INFO:aqc_utils.molecule:Initial geometry created successfully.\n",
      "INFO:aqc_utils.molecule:Initializing molecule with canonical smiles: CC(O[Ti](OC(C)C)(OC(C)C)OC(C)C)C\n",
      "INFO:aqc_utils.molecule:Creating initial geometry with option 'best'.\n"
     ]
    },
    {
     "name": "stdout",
     "output_type": "stream",
     "text": [
      "CC(C)O[Ti](OC(C)C)(OC(C)C)OC(C)C\n"
     ]
    },
    {
     "name": "stderr",
     "output_type": "stream",
     "text": [
      "INFO:aqc_utils.molecule:Initial geometry created successfully.\n",
      "INFO:aqc_utils.molecule:Initializing molecule with canonical smiles: Cl[Al](Cl)Cl\n",
      "INFO:aqc_utils.molecule:Creating initial geometry with option 'best'.\n",
      "INFO:aqc_utils.molecule:Initial geometry created successfully.\n",
      "INFO:aqc_utils.molecule:Initializing molecule with canonical smiles: Br[Mg]c1c(C)cccc1C\n",
      "INFO:aqc_utils.molecule:Creating initial geometry with option 'best'.\n",
      "INFO:aqc_utils.molecule:Initial geometry created successfully.\n",
      "INFO:aqc_utils.molecule:Initializing molecule with canonical smiles: Br[Mg]c1c(C)cc(cc1C)C\n",
      "INFO:aqc_utils.molecule:Creating initial geometry with option 'best'.\n",
      "INFO:aqc_utils.molecule:Initial geometry created successfully.\n",
      "INFO:aqc_utils.molecule:Initializing molecule with canonical smiles: Cl[Mg]c1ccccc1\n",
      "INFO:aqc_utils.molecule:Creating initial geometry with option 'best'.\n",
      "INFO:aqc_utils.molecule:Initial geometry created successfully.\n"
     ]
    },
    {
     "name": "stdout",
     "output_type": "stream",
     "text": [
      "Cl[Al](Cl)Cl\n",
      "Cc1cccc(C)c1[Mg]Br\n",
      "Cc1cc(C)c([Mg]Br)c(C)c1\n",
      "Cl[Mg]c1ccccc1\n"
     ]
    },
    {
     "name": "stderr",
     "output_type": "stream",
     "text": [
      "INFO:aqc_utils.molecule:Initializing molecule with canonical smiles: [Na]OC(=O)O[Na]\n",
      "INFO:aqc_utils.molecule:Creating initial geometry with option 'best'.\n",
      "INFO:aqc_utils.molecule:Initial geometry created successfully.\n",
      "INFO:aqc_utils.molecule:Initializing molecule with canonical smiles: F[Cs]\n",
      "INFO:aqc_utils.molecule:Creating initial geometry with option 'best'.\n",
      "INFO:aqc_utils.molecule:Initial geometry created successfully.\n",
      "INFO:aqc_utils.molecule:Initializing molecule with canonical smiles: [Na]I\n",
      "INFO:aqc_utils.molecule:Creating initial geometry with option 'best'.\n",
      "INFO:aqc_utils.molecule:Initial geometry created successfully.\n",
      "INFO:aqc_utils.molecule:Initializing molecule with canonical smiles: C[Si](Cl)(C)C\n",
      "INFO:aqc_utils.molecule:Creating initial geometry with option 'best'.\n",
      "INFO:aqc_utils.molecule:Initial geometry created successfully.\n",
      "INFO:aqc_utils.molecule:Initializing molecule with canonical smiles: Cl[Zn]Cl\n",
      "INFO:aqc_utils.molecule:Creating initial geometry with option 'best'.\n",
      "INFO:aqc_utils.molecule:Initial geometry created successfully.\n",
      "INFO:aqc_utils.molecule:Initializing molecule with canonical smiles: CC[N+](CC)(CC)CC\n",
      "INFO:aqc_utils.molecule:Creating initial geometry with option 'best'.\n",
      "INFO:aqc_utils.molecule:Initial geometry created successfully.\n"
     ]
    },
    {
     "name": "stdout",
     "output_type": "stream",
     "text": [
      "O=C(O[Na])O[Na]\n",
      "F[Cs]\n",
      "[Na]I\n",
      "C[Si](C)(C)Cl\n",
      "Cl[Zn]Cl\n",
      "CC[N+](CC)(CC)CC\n"
     ]
    },
    {
     "name": "stderr",
     "output_type": "stream",
     "text": [
      "INFO:aqc_utils.molecule:Initializing molecule with canonical smiles: [Na]OP(=O)(O[Na])O\n",
      "INFO:aqc_utils.molecule:Creating initial geometry with option 'best'.\n",
      "INFO:aqc_utils.molecule:Initial geometry created successfully.\n",
      "INFO:aqc_utils.molecule:Initializing molecule with canonical smiles: [Na]OP(=O)(O[Na])O[Na]\n",
      "INFO:aqc_utils.molecule:Creating initial geometry with option 'best'.\n"
     ]
    },
    {
     "name": "stdout",
     "output_type": "stream",
     "text": [
      "O=P(O)(O[Na])O[Na]\n",
      "O=P(O[Na])(O[Na])O[Na]\n"
     ]
    },
    {
     "name": "stderr",
     "output_type": "stream",
     "text": [
      "INFO:aqc_utils.molecule:Initial geometry created successfully.\n",
      "INFO:aqc_utils.molecule:Initializing molecule with canonical smiles: [Rb+]\n",
      "INFO:aqc_utils.molecule:Creating initial geometry with option 'best'.\n",
      "INFO:aqc_utils.molecule:Initial geometry created successfully.\n",
      "INFO:aqc_utils.molecule:Initializing molecule with canonical smiles: [Li]OC(=O)O[Li]\n",
      "INFO:aqc_utils.molecule:Creating initial geometry with option 'best'.\n",
      "INFO:aqc_utils.molecule:Initial geometry created successfully.\n",
      "INFO:aqc_utils.molecule:Initializing molecule with canonical smiles: [Cs]OC(=O)C(C)(C)C\n",
      "INFO:aqc_utils.molecule:Creating initial geometry with option 'best'.\n"
     ]
    },
    {
     "name": "stdout",
     "output_type": "stream",
     "text": [
      "[Rb+]\n",
      "[Li]OC(=O)O[Li]\n",
      "CC(C)(C)C(=O)O[Cs]\n"
     ]
    },
    {
     "name": "stderr",
     "output_type": "stream",
     "text": [
      "INFO:aqc_utils.molecule:Initial geometry created successfully.\n",
      "INFO:aqc_utils.molecule:Initializing molecule with canonical smiles: F[Cu]F\n",
      "INFO:aqc_utils.molecule:Creating initial geometry with option 'best'.\n",
      "INFO:aqc_utils.molecule:Initial geometry created successfully.\n",
      "INFO:aqc_utils.molecule:Initializing molecule with canonical smiles: CCCC[N+](CCCC)(CCCC)CCCC\n",
      "INFO:aqc_utils.molecule:Creating initial geometry with option 'best'.\n"
     ]
    },
    {
     "name": "stdout",
     "output_type": "stream",
     "text": [
      "F[Cu]F\n",
      "CCCC[N+](CCCC)(CCCC)CCCC\n"
     ]
    },
    {
     "name": "stderr",
     "output_type": "stream",
     "text": [
      "INFO:aqc_utils.molecule:Initial geometry created successfully.\n",
      "INFO:aqc_utils.molecule:Initializing molecule with canonical smiles: Br[Cu]Br\n",
      "INFO:aqc_utils.molecule:Creating initial geometry with option 'best'.\n",
      "INFO:aqc_utils.molecule:Initial geometry created successfully.\n",
      "INFO:aqc_utils.molecule:Initializing molecule with canonical smiles: O=S1(=O)O[Cu]O1\n",
      "INFO:aqc_utils.molecule:Creating initial geometry with option 'best'.\n",
      "INFO:aqc_utils.molecule:Initial geometry created successfully.\n",
      "INFO:aqc_utils.molecule:Initializing molecule with canonical smiles: [Cu]I\n",
      "INFO:aqc_utils.molecule:Creating initial geometry with option 'best'.\n",
      "INFO:aqc_utils.molecule:Initial geometry created successfully.\n",
      "INFO:aqc_utils.molecule:Initializing molecule with canonical smiles: F[Mg]F\n",
      "INFO:aqc_utils.molecule:Creating initial geometry with option 'best'.\n",
      "INFO:aqc_utils.molecule:Initial geometry created successfully.\n",
      "INFO:aqc_utils.molecule:Initializing molecule with canonical smiles: F[Ag]\n",
      "INFO:aqc_utils.molecule:Creating initial geometry with option 'best'.\n",
      "INFO:aqc_utils.molecule:Initial geometry created successfully.\n",
      "INFO:aqc_utils.molecule:Initializing molecule with canonical smiles: F[Fe](F)F\n",
      "INFO:aqc_utils.molecule:Creating initial geometry with option 'best'.\n",
      "INFO:aqc_utils.molecule:Initial geometry created successfully.\n",
      "INFO:aqc_utils.molecule:Initializing molecule with canonical smiles: F[Zn]F\n",
      "INFO:aqc_utils.molecule:Creating initial geometry with option 'best'.\n",
      "INFO:aqc_utils.molecule:Initial geometry created successfully.\n",
      "INFO:aqc_utils.molecule:Initializing molecule with canonical smiles: [Cs+]\n",
      "INFO:aqc_utils.molecule:Creating initial geometry with option 'best'.\n",
      "INFO:aqc_utils.molecule:Initial geometry created successfully.\n",
      "INFO:aqc_utils.molecule:Initializing molecule with canonical smiles: [Na]OC(C)(C)C\n",
      "INFO:aqc_utils.molecule:Creating initial geometry with option 'best'.\n",
      "INFO:aqc_utils.molecule:Initial geometry created successfully.\n",
      "INFO:aqc_utils.molecule:Initializing molecule with canonical smiles: [Li]OC(C)(C)C\n",
      "INFO:aqc_utils.molecule:Creating initial geometry with option 'best'.\n"
     ]
    },
    {
     "name": "stdout",
     "output_type": "stream",
     "text": [
      "Br[Cu]Br\n",
      "O=S1(=O)O[Cu]O1\n",
      "[Cu]I\n",
      "F[Mg]F\n",
      "F[Ag]\n",
      "F[Fe](F)F\n",
      "F[Zn]F\n",
      "[Cs+]\n",
      "CC(C)(C)O[Na]\n",
      "[Li]OC(C)(C)C\n"
     ]
    },
    {
     "name": "stderr",
     "output_type": "stream",
     "text": [
      "INFO:aqc_utils.molecule:Initial geometry created successfully.\n",
      "INFO:aqc_utils.molecule:Initializing molecule with canonical smiles: OB(c1ccccc1)O\n",
      "INFO:aqc_utils.molecule:Creating initial geometry with option 'best'.\n",
      "INFO:aqc_utils.molecule:Initial geometry created successfully.\n"
     ]
    },
    {
     "name": "stdout",
     "output_type": "stream",
     "text": [
      "OB(O)c1ccccc1\n"
     ]
    },
    {
     "name": "stderr",
     "output_type": "stream",
     "text": [
      "INFO:aqc_utils.molecule:Initializing molecule with canonical smiles: CC(=O)O[Cu]OC(=O)C\n",
      "INFO:aqc_utils.molecule:Creating initial geometry with option 'best'.\n",
      "INFO:aqc_utils.molecule:Initial geometry created successfully.\n"
     ]
    },
    {
     "name": "stdout",
     "output_type": "stream",
     "text": [
      "CC(=O)O[Cu]OC(C)=O\n"
     ]
    },
    {
     "name": "stderr",
     "output_type": "stream",
     "text": [
      "INFO:aqc_utils.molecule:Initializing molecule with canonical smiles: C[Al](C)C\n",
      "INFO:aqc_utils.molecule:Creating initial geometry with option 'best'.\n",
      "INFO:aqc_utils.molecule:Initial geometry created successfully.\n",
      "INFO:aqc_utils.molecule:Initializing molecule with canonical smiles: F[Sr]F\n",
      "INFO:aqc_utils.molecule:Creating initial geometry with option 'best'.\n",
      "INFO:aqc_utils.molecule:Initial geometry created successfully.\n",
      "INFO:aqc_utils.molecule:Initializing molecule with canonical smiles: COc1cccc(c1)[Zn](C)(C)(C)([Li])[Li]\n",
      "INFO:aqc_utils.molecule:Creating initial geometry with option 'best'.\n"
     ]
    },
    {
     "name": "stdout",
     "output_type": "stream",
     "text": [
      "C[Al](C)C\n",
      "F[Sr]F\n",
      "[Li][Zn]([Li])(C)(C)(C)c1cccc(OC)c1\n"
     ]
    },
    {
     "name": "stderr",
     "output_type": "stream",
     "text": [
      "INFO:aqc_utils.molecule:Initial geometry created successfully.\n",
      "INFO:aqc_utils.molecule:Initializing molecule with canonical smiles: CN(c1ccc(cc1)[Zn](C)(C)(C)([Li])[Li])C\n",
      "INFO:aqc_utils.molecule:Creating initial geometry with option 'best'.\n"
     ]
    },
    {
     "name": "stdout",
     "output_type": "stream",
     "text": [
      "[Li][Zn]([Li])(C)(C)(C)c1ccc(N(C)C)cc1\n"
     ]
    },
    {
     "name": "stderr",
     "output_type": "stream",
     "text": [
      "INFO:aqc_utils.molecule:Initial geometry created successfully.\n",
      "INFO:aqc_utils.molecule:Initializing molecule with canonical smiles: [Li][Zn](c1ccc(cc1)CCO[Si](C(C)(C)C)(C)C)(C)(C)(C)[Li]\n",
      "INFO:aqc_utils.molecule:Creating initial geometry with option 'best'.\n"
     ]
    },
    {
     "name": "stdout",
     "output_type": "stream",
     "text": [
      "[Li][Zn]([Li])(C)(C)(C)c1ccc(CCO[Si](C)(C)C(C)(C)C)cc1\n"
     ]
    },
    {
     "name": "stderr",
     "output_type": "stream",
     "text": [
      "INFO:aqc_utils.molecule:Initial geometry created successfully.\n",
      "INFO:aqc_utils.molecule:Initializing molecule with canonical smiles: C[Si](C(C)(C)C)(OCc1ccc(cc1)[Zn](C)(C)(C)([Li])[Li])C\n",
      "INFO:aqc_utils.molecule:Creating initial geometry with option 'best'.\n"
     ]
    },
    {
     "name": "stdout",
     "output_type": "stream",
     "text": [
      "[Li][Zn]([Li])(C)(C)(C)c1ccc(CO[Si](C)(C)C(C)(C)C)cc1\n"
     ]
    },
    {
     "name": "stderr",
     "output_type": "stream",
     "text": [
      "INFO:aqc_utils.molecule:Initial geometry created successfully.\n",
      "INFO:aqc_utils.molecule:Initializing molecule with canonical smiles: CC1(OCCO1)c1ccc(cc1)[Zn](C)(C)(C)([Li])[Li]\n",
      "INFO:aqc_utils.molecule:Creating initial geometry with option 'best'.\n"
     ]
    },
    {
     "name": "stdout",
     "output_type": "stream",
     "text": [
      "[Li][Zn]([Li])(C)(C)(C)c1ccc(C2(C)OCCO2)cc1\n"
     ]
    },
    {
     "name": "stderr",
     "output_type": "stream",
     "text": [
      "INFO:aqc_utils.molecule:Initial geometry created successfully.\n",
      "INFO:aqc_utils.molecule:Initializing molecule with canonical smiles: [Li][Zn](c1ccc(cc1)c1ccccc1)(C)(C)(C)[Li]\n",
      "INFO:aqc_utils.molecule:Creating initial geometry with option 'best'.\n"
     ]
    },
    {
     "name": "stdout",
     "output_type": "stream",
     "text": [
      "[Li][Zn]([Li])(C)(C)(C)c1ccc(-c2ccccc2)cc1\n"
     ]
    },
    {
     "name": "stderr",
     "output_type": "stream",
     "text": [
      "INFO:aqc_utils.molecule:Initial geometry created successfully.\n",
      "INFO:aqc_utils.molecule:Initializing molecule with canonical smiles: CCC[N+](CCC)(CCC)CCC\n",
      "INFO:aqc_utils.molecule:Creating initial geometry with option 'best'.\n",
      "INFO:aqc_utils.molecule:Initial geometry created successfully.\n"
     ]
    },
    {
     "name": "stdout",
     "output_type": "stream",
     "text": [
      "CCC[N+](CCC)(CCC)CCC\n"
     ]
    },
    {
     "name": "stderr",
     "output_type": "stream",
     "text": [
      "INFO:aqc_utils.molecule:Initializing molecule with canonical smiles: C[N+](C)(C)C\n",
      "INFO:aqc_utils.molecule:Creating initial geometry with option 'best'.\n",
      "INFO:aqc_utils.molecule:Initial geometry created successfully.\n",
      "INFO:aqc_utils.molecule:Initializing molecule with canonical smiles: [Li]I\n",
      "INFO:aqc_utils.molecule:Creating initial geometry with option 'best'.\n",
      "INFO:aqc_utils.molecule:Initial geometry created successfully.\n",
      "INFO:aqc_utils.molecule:Initializing molecule with canonical smiles: [Li]OC(=O)C(C)(C)C\n",
      "INFO:aqc_utils.molecule:Creating initial geometry with option 'best'.\n"
     ]
    },
    {
     "name": "stdout",
     "output_type": "stream",
     "text": [
      "C[N+](C)(C)C\n",
      "[Li]I\n",
      "[Li]OC(=O)C(C)(C)C\n"
     ]
    },
    {
     "name": "stderr",
     "output_type": "stream",
     "text": [
      "INFO:aqc_utils.molecule:Initial geometry created successfully.\n",
      "INFO:aqc_utils.molecule:Initializing molecule with canonical smiles: Br[Mg]Br\n",
      "INFO:aqc_utils.molecule:Creating initial geometry with option 'best'.\n",
      "INFO:aqc_utils.molecule:Initial geometry created successfully.\n",
      "INFO:aqc_utils.molecule:Initializing molecule with canonical smiles: Br[Mg]c1ccc(cc1)N(c1ccccc1)c1ccccc1\n",
      "INFO:aqc_utils.molecule:Creating initial geometry with option 'best'.\n"
     ]
    },
    {
     "name": "stdout",
     "output_type": "stream",
     "text": [
      "Br[Mg]Br\n",
      "Br[Mg]c1ccc(N(c2ccccc2)c2ccccc2)cc1\n"
     ]
    },
    {
     "name": "stderr",
     "output_type": "stream",
     "text": [
      "INFO:aqc_utils.molecule:Initial geometry created successfully.\n",
      "INFO:aqc_utils.molecule:Initializing molecule with canonical smiles: Br[Mg]c1ccc2c(c1)cccc2\n",
      "INFO:aqc_utils.molecule:Creating initial geometry with option 'best'.\n"
     ]
    },
    {
     "name": "stdout",
     "output_type": "stream",
     "text": [
      "Br[Mg]c1ccc2ccccc2c1\n"
     ]
    },
    {
     "name": "stderr",
     "output_type": "stream",
     "text": [
      "INFO:aqc_utils.molecule:Initial geometry created successfully.\n",
      "INFO:aqc_utils.molecule:Initializing molecule with canonical smiles: O[Na]\n",
      "INFO:aqc_utils.molecule:Creating initial geometry with option 'best'.\n",
      "INFO:aqc_utils.molecule:Initial geometry created successfully.\n",
      "INFO:aqc_utils.molecule:Initializing molecule with canonical smiles: CCO[Na]\n",
      "INFO:aqc_utils.molecule:Creating initial geometry with option 'best'.\n",
      "INFO:aqc_utils.molecule:Initial geometry created successfully.\n",
      "INFO:aqc_utils.molecule:Initializing molecule with canonical smiles: Cl[Mg]C[Si](C)(C)C\n",
      "INFO:aqc_utils.molecule:Creating initial geometry with option 'best'.\n"
     ]
    },
    {
     "name": "stdout",
     "output_type": "stream",
     "text": [
      "O[Na]\n",
      "CCO[Na]\n",
      "C[Si](C)(C)C[Mg]Cl\n"
     ]
    },
    {
     "name": "stderr",
     "output_type": "stream",
     "text": [
      "INFO:aqc_utils.molecule:Initial geometry created successfully.\n",
      "INFO:aqc_utils.molecule:Initializing molecule with canonical smiles: Br[Mg]C=C\n",
      "INFO:aqc_utils.molecule:Creating initial geometry with option 'best'.\n",
      "INFO:aqc_utils.molecule:Initial geometry created successfully.\n",
      "INFO:aqc_utils.molecule:Initializing molecule with canonical smiles: CC1(C)COB(OC1)c1ccccc1\n",
      "INFO:aqc_utils.molecule:Creating initial geometry with option 'best'.\n"
     ]
    },
    {
     "name": "stdout",
     "output_type": "stream",
     "text": [
      "C=C[Mg]Br\n",
      "CC1(C)COB(c2ccccc2)OC1\n"
     ]
    },
    {
     "name": "stderr",
     "output_type": "stream",
     "text": [
      "INFO:aqc_utils.molecule:Initial geometry created successfully.\n",
      "INFO:aqc_utils.molecule:Initializing molecule with canonical smiles: Cc1ccc(cc1)B1OCC(CO1)(C)C\n",
      "INFO:aqc_utils.molecule:Creating initial geometry with option 'best'.\n"
     ]
    },
    {
     "name": "stdout",
     "output_type": "stream",
     "text": [
      "Cc1ccc(B2OCC(C)(C)CO2)cc1\n"
     ]
    },
    {
     "name": "stderr",
     "output_type": "stream",
     "text": [
      "INFO:aqc_utils.molecule:Initial geometry created successfully.\n",
      "INFO:aqc_utils.molecule:Initializing molecule with canonical smiles: CN(c1ccc(cc1)B1OCC(CO1)(C)C)C\n",
      "INFO:aqc_utils.molecule:Creating initial geometry with option 'best'.\n"
     ]
    },
    {
     "name": "stdout",
     "output_type": "stream",
     "text": [
      "CN(C)c1ccc(B2OCC(C)(C)CO2)cc1\n"
     ]
    },
    {
     "name": "stderr",
     "output_type": "stream",
     "text": [
      "INFO:aqc_utils.molecule:Initial geometry created successfully.\n",
      "INFO:aqc_utils.molecule:Initializing molecule with canonical smiles: FC(c1ccc(cc1)B1OCC(CO1)(C)C)(F)F\n",
      "INFO:aqc_utils.molecule:Creating initial geometry with option 'best'.\n",
      "INFO:aqc_utils.molecule:Initial geometry created successfully.\n"
     ]
    },
    {
     "name": "stdout",
     "output_type": "stream",
     "text": [
      "CC1(C)COB(c2ccc(C(F)(F)F)cc2)OC1\n"
     ]
    },
    {
     "name": "stderr",
     "output_type": "stream",
     "text": [
      "INFO:aqc_utils.molecule:Initializing molecule with canonical smiles: CC(C[Al](c1ccccc1)CC(C)C)C\n",
      "INFO:aqc_utils.molecule:Creating initial geometry with option 'best'.\n"
     ]
    },
    {
     "name": "stdout",
     "output_type": "stream",
     "text": [
      "CC(C)C[Al](CC(C)C)c1ccccc1\n"
     ]
    },
    {
     "name": "stderr",
     "output_type": "stream",
     "text": [
      "INFO:aqc_utils.molecule:Initial geometry created successfully.\n",
      "INFO:aqc_utils.molecule:Initializing molecule with canonical smiles: [Li][Al](c1ccccc1)(C)(C)C\n",
      "INFO:aqc_utils.molecule:Creating initial geometry with option 'best'.\n"
     ]
    },
    {
     "name": "stdout",
     "output_type": "stream",
     "text": [
      "[Li][Al](C)(C)(C)c1ccccc1\n"
     ]
    },
    {
     "name": "stderr",
     "output_type": "stream",
     "text": [
      "INFO:aqc_utils.molecule:Initial geometry created successfully.\n",
      "INFO:aqc_utils.molecule:Initializing molecule with canonical smiles: C[Al](c1ccccc1)C\n",
      "INFO:aqc_utils.molecule:Creating initial geometry with option 'best'.\n"
     ]
    },
    {
     "name": "stdout",
     "output_type": "stream",
     "text": [
      "C[Al](C)c1ccccc1\n"
     ]
    },
    {
     "name": "stderr",
     "output_type": "stream",
     "text": [
      "INFO:aqc_utils.molecule:Initial geometry created successfully.\n",
      "INFO:aqc_utils.molecule:Initializing molecule with canonical smiles: CC(C[Al](c1ccccc1C)CC(C)C)C\n",
      "INFO:aqc_utils.molecule:Creating initial geometry with option 'best'.\n"
     ]
    },
    {
     "name": "stdout",
     "output_type": "stream",
     "text": [
      "Cc1ccccc1[Al](CC(C)C)CC(C)C\n"
     ]
    },
    {
     "name": "stderr",
     "output_type": "stream",
     "text": [
      "INFO:aqc_utils.molecule:Initial geometry created successfully.\n",
      "INFO:aqc_utils.molecule:Initializing molecule with canonical smiles: CC(C[Al](c1ccc(c(c1)C)C)CC(C)C)C\n",
      "INFO:aqc_utils.molecule:Creating initial geometry with option 'best'.\n",
      "INFO:aqc_utils.molecule:Initial geometry created successfully.\n"
     ]
    },
    {
     "name": "stdout",
     "output_type": "stream",
     "text": [
      "Cc1ccc([Al](CC(C)C)CC(C)C)cc1C\n"
     ]
    },
    {
     "name": "stderr",
     "output_type": "stream",
     "text": [
      "INFO:aqc_utils.molecule:Initializing molecule with canonical smiles: COc1ccc(cc1)[Al](CC(C)C)CC(C)C\n",
      "INFO:aqc_utils.molecule:Creating initial geometry with option 'best'.\n",
      "INFO:aqc_utils.molecule:Initial geometry created successfully.\n"
     ]
    },
    {
     "name": "stdout",
     "output_type": "stream",
     "text": [
      "COc1ccc([Al](CC(C)C)CC(C)C)cc1\n"
     ]
    },
    {
     "name": "stderr",
     "output_type": "stream",
     "text": [
      "INFO:aqc_utils.molecule:Initializing molecule with canonical smiles: CC(C[Al](c1ccc(cc1)C(F)(F)F)CC(C)C)C\n",
      "INFO:aqc_utils.molecule:Creating initial geometry with option 'best'.\n"
     ]
    },
    {
     "name": "stdout",
     "output_type": "stream",
     "text": [
      "CC(C)C[Al](CC(C)C)c1ccc(C(F)(F)F)cc1\n"
     ]
    },
    {
     "name": "stderr",
     "output_type": "stream",
     "text": [
      "INFO:aqc_utils.molecule:Initial geometry created successfully.\n",
      "INFO:aqc_utils.molecule:Initializing molecule with canonical smiles: CC(C[Al](c1c(C)cccc1C)CC(C)C)C\n",
      "INFO:aqc_utils.molecule:Creating initial geometry with option 'best'.\n",
      "INFO:aqc_utils.molecule:Initial geometry created successfully.\n"
     ]
    },
    {
     "name": "stdout",
     "output_type": "stream",
     "text": [
      "Cc1cccc(C)c1[Al](CC(C)C)CC(C)C\n"
     ]
    },
    {
     "name": "stderr",
     "output_type": "stream",
     "text": [
      "INFO:aqc_utils.molecule:Initializing molecule with canonical smiles: COc1cc(OC)cc(c1)[Al](CC(C)C)CC(C)C\n",
      "INFO:aqc_utils.molecule:Creating initial geometry with option 'best'.\n",
      "INFO:aqc_utils.molecule:Initial geometry created successfully.\n"
     ]
    },
    {
     "name": "stdout",
     "output_type": "stream",
     "text": [
      "COc1cc(OC)cc([Al](CC(C)C)CC(C)C)c1\n"
     ]
    },
    {
     "name": "stderr",
     "output_type": "stream",
     "text": [
      "INFO:aqc_utils.molecule:Initializing molecule with canonical smiles: CC(C[Al](c1ccc(cc1)F)CC(C)C)C\n",
      "INFO:aqc_utils.molecule:Creating initial geometry with option 'best'.\n"
     ]
    },
    {
     "name": "stdout",
     "output_type": "stream",
     "text": [
      "CC(C)C[Al](CC(C)C)c1ccc(F)cc1\n"
     ]
    },
    {
     "name": "stderr",
     "output_type": "stream",
     "text": [
      "INFO:aqc_utils.molecule:Initial geometry created successfully.\n",
      "INFO:aqc_utils.molecule:Initializing molecule with canonical smiles: CC(C[Al](CC(C)C)C#C[Si](C(C)C)(C(C)C)C(C)C)C\n",
      "INFO:aqc_utils.molecule:Creating initial geometry with option 'best'.\n"
     ]
    },
    {
     "name": "stdout",
     "output_type": "stream",
     "text": [
      "CC(C)C[Al](C#C[Si](C(C)C)(C(C)C)C(C)C)CC(C)C\n"
     ]
    },
    {
     "name": "stderr",
     "output_type": "stream",
     "text": [
      "INFO:aqc_utils.molecule:Initial geometry created successfully.\n",
      "INFO:aqc_utils.molecule:Initializing molecule with canonical smiles: CC(C[Al](C=C(C)C)CC(C)C)C\n",
      "INFO:aqc_utils.molecule:Creating initial geometry with option 'best'.\n"
     ]
    },
    {
     "name": "stdout",
     "output_type": "stream",
     "text": [
      "CC(C)=C[Al](CC(C)C)CC(C)C\n"
     ]
    },
    {
     "name": "stderr",
     "output_type": "stream",
     "text": [
      "INFO:aqc_utils.molecule:Initial geometry created successfully.\n",
      "INFO:aqc_utils.molecule:Initializing molecule with canonical smiles: c1ccc(cc1)[Al](c1ccccc1)c1ccccc1\n",
      "INFO:aqc_utils.molecule:Creating initial geometry with option 'best'.\n"
     ]
    },
    {
     "name": "stdout",
     "output_type": "stream",
     "text": [
      "c1ccc([Al](c2ccccc2)c2ccccc2)cc1\n"
     ]
    },
    {
     "name": "stderr",
     "output_type": "stream",
     "text": [
      "INFO:aqc_utils.molecule:Initial geometry created successfully.\n",
      "INFO:aqc_utils.molecule:Initializing molecule with canonical smiles: CC1(C)COB(OC1)c1ccc(cc1)F\n",
      "INFO:aqc_utils.molecule:Creating initial geometry with option 'best'.\n"
     ]
    },
    {
     "name": "stdout",
     "output_type": "stream",
     "text": [
      "CC1(C)COB(c2ccc(F)cc2)OC1\n"
     ]
    },
    {
     "name": "stderr",
     "output_type": "stream",
     "text": [
      "INFO:aqc_utils.molecule:Initial geometry created successfully.\n",
      "INFO:aqc_utils.molecule:Initializing molecule with canonical smiles: CC(O[Al](OC(C)(C)C)OC(C)(C)C)(C)C\n",
      "INFO:aqc_utils.molecule:Creating initial geometry with option 'best'.\n"
     ]
    },
    {
     "name": "stdout",
     "output_type": "stream",
     "text": [
      "CC(C)(C)O[Al](OC(C)(C)C)OC(C)(C)C\n"
     ]
    },
    {
     "name": "stderr",
     "output_type": "stream",
     "text": [
      "INFO:aqc_utils.molecule:Initial geometry created successfully.\n",
      "INFO:aqc_utils.molecule:Initializing molecule with canonical smiles: FB(F)F\n",
      "INFO:aqc_utils.molecule:Creating initial geometry with option 'best'.\n",
      "INFO:aqc_utils.molecule:Initial geometry created successfully.\n",
      "INFO:aqc_utils.molecule:Initializing molecule with canonical smiles: BrB(Br)Br\n",
      "INFO:aqc_utils.molecule:Creating initial geometry with option 'best'.\n",
      "INFO:aqc_utils.molecule:Initial geometry created successfully.\n",
      "INFO:aqc_utils.molecule:Initializing molecule with canonical smiles: FC(S(=O)(=O)O[Y](OS(=O)(=O)C(F)(F)F)OS(=O)(=O)C(F)(F)F)(F)F\n",
      "INFO:aqc_utils.molecule:Creating initial geometry with option 'best'.\n",
      "INFO:aqc_utils.molecule:Initial geometry created successfully.\n"
     ]
    },
    {
     "name": "stdout",
     "output_type": "stream",
     "text": [
      "FB(F)F\n",
      "BrB(Br)Br\n",
      "O=S(=O)(O[Y](OS(=O)(=O)C(F)(F)F)OS(=O)(=O)C(F)(F)F)C(F)(F)F\n"
     ]
    },
    {
     "name": "stderr",
     "output_type": "stream",
     "text": [
      "INFO:aqc_utils.molecule:Initializing molecule with canonical smiles: FC(S(=O)(=O)O[Al](OS(=O)(=O)C(F)(F)F)OS(=O)(=O)C(F)(F)F)(F)F\n",
      "INFO:aqc_utils.molecule:Creating initial geometry with option 'best'.\n"
     ]
    },
    {
     "name": "stdout",
     "output_type": "stream",
     "text": [
      "O=S(=O)(O[Al](OS(=O)(=O)C(F)(F)F)OS(=O)(=O)C(F)(F)F)C(F)(F)F\n"
     ]
    },
    {
     "name": "stderr",
     "output_type": "stream",
     "text": [
      "INFO:aqc_utils.molecule:Initial geometry created successfully.\n",
      "INFO:aqc_utils.molecule:Initializing molecule with canonical smiles: FC(S(=O)(=O)O[Zn]OS(=O)(=O)C(F)(F)F)(F)F\n",
      "INFO:aqc_utils.molecule:Creating initial geometry with option 'best'.\n"
     ]
    },
    {
     "name": "stdout",
     "output_type": "stream",
     "text": [
      "O=S(=O)(O[Zn]OS(=O)(=O)C(F)(F)F)C(F)(F)F\n"
     ]
    },
    {
     "name": "stderr",
     "output_type": "stream",
     "text": [
      "INFO:aqc_utils.molecule:Initial geometry created successfully.\n",
      "INFO:aqc_utils.molecule:Initializing molecule with canonical smiles: CCB(CC)CC\n",
      "INFO:aqc_utils.molecule:Creating initial geometry with option 'best'.\n"
     ]
    },
    {
     "name": "stdout",
     "output_type": "stream",
     "text": [
      "CCB(CC)CC\n"
     ]
    },
    {
     "name": "stderr",
     "output_type": "stream",
     "text": [
      "INFO:aqc_utils.molecule:Initial geometry created successfully.\n",
      "INFO:aqc_utils.molecule:Initializing molecule with canonical smiles: COB(OC)OC\n",
      "INFO:aqc_utils.molecule:Creating initial geometry with option 'best'.\n",
      "INFO:aqc_utils.molecule:Initial geometry created successfully.\n"
     ]
    },
    {
     "name": "stdout",
     "output_type": "stream",
     "text": [
      "COB(OC)OC\n"
     ]
    },
    {
     "name": "stderr",
     "output_type": "stream",
     "text": [
      "INFO:aqc_utils.molecule:Initializing molecule with canonical smiles: CC(O[Zr](OC(C)(C)C)(OC(C)(C)C)OC(C)(C)C)(C)C\n",
      "INFO:aqc_utils.molecule:Creating initial geometry with option 'best'.\n"
     ]
    },
    {
     "name": "stdout",
     "output_type": "stream",
     "text": [
      "CC(C)(C)O[Zr](OC(C)(C)C)(OC(C)(C)C)OC(C)(C)C\n"
     ]
    },
    {
     "name": "stderr",
     "output_type": "stream",
     "text": [
      "INFO:aqc_utils.molecule:Initial geometry created successfully.\n",
      "INFO:aqc_utils.molecule:Initializing molecule with canonical smiles: CC(O[Y](OC(C)C)OC(C)C)C\n",
      "INFO:aqc_utils.molecule:Creating initial geometry with option 'best'.\n",
      "INFO:aqc_utils.molecule:Initial geometry created successfully.\n"
     ]
    },
    {
     "name": "stdout",
     "output_type": "stream",
     "text": [
      "CC(C)O[Y](OC(C)C)OC(C)C\n"
     ]
    },
    {
     "name": "stderr",
     "output_type": "stream",
     "text": [
      "INFO:aqc_utils.molecule:Initializing molecule with canonical smiles: CC(=O)O[Ag]\n",
      "INFO:aqc_utils.molecule:Creating initial geometry with option 'best'.\n",
      "INFO:aqc_utils.molecule:Initial geometry created successfully.\n",
      "INFO:aqc_utils.molecule:Initializing molecule with canonical smiles: Cl[Zr](Cl)(Cl)Cl\n",
      "INFO:aqc_utils.molecule:Creating initial geometry with option 'best'.\n",
      "INFO:aqc_utils.molecule:Initial geometry created successfully.\n"
     ]
    },
    {
     "name": "stdout",
     "output_type": "stream",
     "text": [
      "CC(=O)O[Ag]\n",
      "Cl[Zr](Cl)(Cl)Cl\n"
     ]
    }
   ],
   "source": [
    "mols = []\n",
    "for smile in L:\n",
    "    print(smile)\n",
    "    mols.append(molecule(smile, max_num_conformers=1))"
   ]
  },
  {
   "cell_type": "markdown",
   "id": "a702571b",
   "metadata": {},
   "source": [
    "###### Draw some molecules"
   ]
  },
  {
   "cell_type": "code",
   "execution_count": 8,
   "id": "0ccbf815",
   "metadata": {},
   "outputs": [],
   "source": [
    "#mols[0].draw(0)"
   ]
  },
  {
   "cell_type": "markdown",
   "id": "100f5719",
   "metadata": {},
   "source": [
    "# Create gaussian job for each conformation"
   ]
  },
  {
   "cell_type": "code",
   "execution_count": 9,
   "id": "4d7c91a6",
   "metadata": {},
   "outputs": [
    {
     "name": "stderr",
     "output_type": "stream",
     "text": [
      "WARNING:aqc_utils.slurm_manager:Molecule [Li]c1ccccc1 already exists with the same Gaussian config with tags ['JS_substrate']. Not creating jobs.\n",
      "WARNING:aqc_utils.slurm_manager:Molecule [Li]c1ccccc1C already exists with the same Gaussian config with tags ['JS_substrate']. Not creating jobs.\n",
      "WARNING:aqc_utils.slurm_manager:Molecule Cc1cc(C)c(c(c1)C)[Li] already exists with the same Gaussian config with tags ['JS_substrate']. Not creating jobs.\n",
      "WARNING:aqc_utils.slurm_manager:Molecule CC(c1ccc(cc1)[Li])(C)C already exists with the same Gaussian config with tags ['JS_substrate']. Not creating jobs.\n",
      "WARNING:aqc_utils.slurm_manager:Molecule COc1ccc(cc1)[Li] already exists with the same Gaussian config with tags ['JS_substrate']. Not creating jobs.\n",
      "WARNING:aqc_utils.slurm_manager:Molecule CC([Si](Oc1ccc(cc1)[Li])(C)C)(C)C already exists with the same Gaussian config with tags ['JS_substrate']. Not creating jobs.\n",
      "WARNING:aqc_utils.slurm_manager:Molecule COCOc1ccccc1[Li] already exists with the same Gaussian config with tags ['JS_substrate']. Not creating jobs.\n",
      "WARNING:aqc_utils.slurm_manager:Molecule CN(c1ccc(cc1)[Li])C already exists with the same Gaussian config with tags ['JS_substrate']. Not creating jobs.\n",
      "WARNING:aqc_utils.slurm_manager:Molecule [Li]c1cccc2c1cccc2 already exists with the same Gaussian config with tags ['JS_substrate']. Not creating jobs.\n",
      "WARNING:aqc_utils.slurm_manager:Molecule [Li]c1ccc(cc1)O[Si](C)(C)C already exists with the same Gaussian config with tags ['JS_substrate']. Not creating jobs.\n",
      "WARNING:aqc_utils.slurm_manager:Molecule [Li]c1cccc(c1)O[Si](C(C)(C)C)(C)C already exists with the same Gaussian config with tags ['JS_substrate']. Not creating jobs.\n",
      "WARNING:aqc_utils.slurm_manager:Molecule Cn1cccc1[Li] already exists with the same Gaussian config with tags ['JS_substrate']. Not creating jobs.\n",
      "WARNING:aqc_utils.slurm_manager:Molecule Cn1c([Li])cc2c1cccc2 already exists with the same Gaussian config with tags ['JS_substrate']. Not creating jobs.\n",
      "WARNING:aqc_utils.slurm_manager:Molecule [Li]c1ccc2c(c1)n(C)cc2 already exists with the same Gaussian config with tags ['JS_substrate']. Not creating jobs.\n",
      "WARNING:aqc_utils.slurm_manager:Molecule CCn1c2ccccc2c2c1cc([Li])cc2 already exists with the same Gaussian config with tags ['JS_substrate']. Not creating jobs.\n",
      "WARNING:aqc_utils.slurm_manager:Molecule CCCCCCCCC=C[Li] already exists with the same Gaussian config with tags ['JS_substrate']. Not creating jobs.\n",
      "WARNING:aqc_utils.slurm_manager:Molecule [Li]C1=CCCCC1 already exists with the same Gaussian config with tags ['JS_substrate']. Not creating jobs.\n",
      "WARNING:aqc_utils.slurm_manager:Molecule [Li]C1CC1 already exists with the same Gaussian config with tags ['JS_substrate']. Not creating jobs.\n",
      "WARNING:aqc_utils.slurm_manager:Molecule [Li]C already exists with the same Gaussian config with tags ['JS_substrate']. Not creating jobs.\n",
      "WARNING:aqc_utils.slurm_manager:Molecule [Li][Zn](c1ccccc1)(C)(C)(C)[Li] already exists with the same Gaussian config with tags ['JS_substrate']. Not creating jobs.\n",
      "WARNING:aqc_utils.slurm_manager:Molecule Cc1ccccc1[Zn](C)(C)(C)([Li])[Li] already exists with the same Gaussian config with tags ['JS_substrate']. Not creating jobs.\n",
      "WARNING:aqc_utils.slurm_manager:Molecule Cc1cccc(c1)[Zn](C)(C)(C)([Li])[Li] already exists with the same Gaussian config with tags ['JS_substrate']. Not creating jobs.\n",
      "WARNING:aqc_utils.slurm_manager:Molecule Cc1ccc(cc1)[Zn](C)(C)(C)([Li])[Li] already exists with the same Gaussian config with tags ['JS_substrate']. Not creating jobs.\n",
      "WARNING:aqc_utils.slurm_manager:Molecule COc1ccc(cc1)[Zn](C)(C)(C)([Li])[Li] already exists with the same Gaussian config with tags ['JS_substrate']. Not creating jobs.\n",
      "WARNING:aqc_utils.slurm_manager:Molecule [Li][Zn](c1cccc2c1cccc2)(C)(C)(C)[Li] already exists with the same Gaussian config with tags ['JS_substrate']. Not creating jobs.\n",
      "WARNING:aqc_utils.slurm_manager:Molecule Br[Mg]c1ccc(cc1)C already exists with the same Gaussian config with tags ['JS_substrate']. Not creating jobs.\n",
      "WARNING:aqc_utils.slurm_manager:Molecule Br[Zn]c1ccc(cc1)C already exists with the same Gaussian config with tags ['JS_substrate']. Not creating jobs.\n",
      "WARNING:aqc_utils.slurm_manager:Molecule Cl[Mg]c1ccc(cc1)C already exists with the same Gaussian config with tags ['JS_substrate']. Not creating jobs.\n",
      "WARNING:aqc_utils.slurm_manager:Molecule I[Mg]c1ccc(cc1)C already exists with the same Gaussian config with tags ['JS_substrate']. Not creating jobs.\n",
      "WARNING:aqc_utils.slurm_manager:Molecule Br[Mg]c1ccccc1 already exists with the same Gaussian config with tags ['JS_substrate']. Not creating jobs.\n",
      "WARNING:aqc_utils.slurm_manager:Molecule Br[Mg]c1ccc(cc1)C(C)C already exists with the same Gaussian config with tags ['JS_substrate']. Not creating jobs.\n",
      "WARNING:aqc_utils.slurm_manager:Molecule Br[Mg]c1ccc(cc1)C(C)(C)C already exists with the same Gaussian config with tags ['JS_substrate']. Not creating jobs.\n",
      "WARNING:aqc_utils.slurm_manager:Molecule Br[Mg]c1cccc(c1)C already exists with the same Gaussian config with tags ['JS_substrate']. Not creating jobs.\n",
      "WARNING:aqc_utils.slurm_manager:Molecule Br[Mg]c1ccccc1C already exists with the same Gaussian config with tags ['JS_substrate']. Not creating jobs.\n",
      "WARNING:aqc_utils.slurm_manager:Molecule COc1ccc(cc1)[Mg]Br already exists with the same Gaussian config with tags ['JS_substrate']. Not creating jobs.\n",
      "WARNING:aqc_utils.slurm_manager:Molecule Br[Mg]c1ccc(cc1)N(C)C already exists with the same Gaussian config with tags ['JS_substrate']. Not creating jobs.\n",
      "WARNING:aqc_utils.slurm_manager:Molecule Br[Mg]c1cc(C)cc(c1)C already exists with the same Gaussian config with tags ['JS_substrate']. Not creating jobs.\n",
      "WARNING:aqc_utils.slurm_manager:Molecule COc1cc(OC)cc(c1)[Mg]Br already exists with the same Gaussian config with tags ['JS_substrate']. Not creating jobs.\n",
      "WARNING:aqc_utils.slurm_manager:Molecule Br[Mg]c1ccc(cc1)C(F)(F)F already exists with the same Gaussian config with tags ['JS_substrate']. Not creating jobs.\n",
      "WARNING:aqc_utils.slurm_manager:Molecule [K+] already exists with the same Gaussian config with tags ['JS_substrate']. Not creating jobs.\n",
      "INFO:aqc_utils.gaussian_input_generator:Generating Gaussian input files for 1 conformations.\n",
      "WARNING:aqc_utils.slurm_manager:A job with exactly the same parameters, molecule [Cs]OC(=O)O[Cs], conformation 0, workflow ('opt b3lyp/genecp scf=(xqc,tight)', 'freq b3lyp/genecp volume NMR pop=NPA density=current Geom=AllCheck Guess=Read', 'TD(NStates=10, Root=1) b3lyp/genecp volume pop=NPA density=current Geom=AllCheck Guess=Read') already exists. Not creating a duplicate\n"
     ]
    },
    {
     "name": "stdout",
     "output_type": "stream",
     "text": [
      "CCs2O3_59bf_conf_0\n"
     ]
    },
    {
     "name": "stderr",
     "output_type": "stream",
     "text": [
      "WARNING:aqc_utils.slurm_manager:Molecule [Li]Cl already exists with the same Gaussian config with tags ['JS_substrate']. Not creating jobs.\n",
      "WARNING:aqc_utils.slurm_manager:Molecule Cl[Mg]Cl already exists with the same Gaussian config with tags ['JS_substrate']. Not creating jobs.\n",
      "INFO:aqc_utils.gaussian_input_generator:Generating Gaussian input files for 1 conformations.\n",
      "WARNING:aqc_utils.slurm_manager:A job with exactly the same parameters, molecule Cl[Cs], conformation 0, workflow ('opt b3lyp/genecp scf=(xqc,tight)', 'freq b3lyp/genecp volume NMR pop=NPA density=current Geom=AllCheck Guess=Read', 'TD(NStates=10, Root=1) b3lyp/genecp volume pop=NPA density=current Geom=AllCheck Guess=Read') already exists. Not creating a duplicate\n"
     ]
    },
    {
     "name": "stdout",
     "output_type": "stream",
     "text": [
      "ClCs_4698_conf_0\n"
     ]
    },
    {
     "name": "stderr",
     "output_type": "stream",
     "text": [
      "WARNING:aqc_utils.slurm_manager:Molecule C[Mg]Br already exists with the same Gaussian config with tags ['JS_substrate']. Not creating jobs.\n",
      "WARNING:aqc_utils.slurm_manager:Molecule CC[Mg]Br already exists with the same Gaussian config with tags ['JS_substrate']. Not creating jobs.\n",
      "WARNING:aqc_utils.slurm_manager:Molecule Br[Mg]C1CCCCC1 already exists with the same Gaussian config with tags ['JS_substrate']. Not creating jobs.\n",
      "WARNING:aqc_utils.slurm_manager:Molecule Br[Mg]Cc1ccccc1 already exists with the same Gaussian config with tags ['JS_substrate']. Not creating jobs.\n",
      "WARNING:aqc_utils.slurm_manager:Molecule C[Mg]I already exists with the same Gaussian config with tags ['JS_substrate']. Not creating jobs.\n",
      "INFO:aqc_utils.gaussian_input_generator:Generating Gaussian input files for 1 conformations.\n",
      "WARNING:aqc_utils.slurm_manager:A job with exactly the same parameters, molecule FC(S(=O)(=O)O[Sc](OS(=O)(=O)C(F)(F)F)OS(=O)(=O)C(F)(F)F)(F)F, conformation 0, workflow ('opt b3lyp/6-31G* scf=(xqc,tight)', 'freq b3lyp/6-31G* volume NMR pop=NPA density=current Geom=AllCheck Guess=Read', 'TD(NStates=10, Root=1) b3lyp/6-31G* volume pop=NPA density=current Geom=AllCheck Guess=Read') already exists. Not creating a duplicate\n"
     ]
    },
    {
     "name": "stdout",
     "output_type": "stream",
     "text": [
      "C3F9O9S3Sc_630d_conf_0\n"
     ]
    },
    {
     "name": "stderr",
     "output_type": "stream",
     "text": [
      "WARNING:aqc_utils.slurm_manager:Molecule CC(O[Ti](OC(C)C)(OC(C)C)OC(C)C)C already exists with the same Gaussian config with tags ['JS_substrate']. Not creating jobs.\n",
      "WARNING:aqc_utils.slurm_manager:Molecule Cl[Al](Cl)Cl already exists with the same Gaussian config with tags ['JS_substrate']. Not creating jobs.\n",
      "WARNING:aqc_utils.slurm_manager:Molecule Br[Mg]c1c(C)cccc1C already exists with the same Gaussian config with tags ['JS_substrate']. Not creating jobs.\n",
      "WARNING:aqc_utils.slurm_manager:Molecule Br[Mg]c1c(C)cc(cc1C)C already exists with the same Gaussian config with tags ['JS_substrate']. Not creating jobs.\n",
      "WARNING:aqc_utils.slurm_manager:Molecule Cl[Mg]c1ccccc1 already exists with the same Gaussian config with tags ['JS_substrate']. Not creating jobs.\n",
      "WARNING:aqc_utils.slurm_manager:Molecule [Na]OC(=O)O[Na] already exists with the same Gaussian config with tags ['JS_substrate']. Not creating jobs.\n",
      "WARNING:aqc_utils.slurm_manager:Molecule F[Cs] already exists with the same Gaussian config with tags ['JS_substrate']. Not creating jobs.\n",
      "WARNING:aqc_utils.slurm_manager:Molecule [Na]I already exists with the same Gaussian config with tags ['JS_substrate']. Not creating jobs.\n",
      "WARNING:aqc_utils.slurm_manager:Molecule C[Si](Cl)(C)C already exists with the same Gaussian config with tags ['JS_substrate']. Not creating jobs.\n",
      "WARNING:aqc_utils.slurm_manager:Molecule Cl[Zn]Cl already exists with the same Gaussian config with tags ['JS_substrate']. Not creating jobs.\n",
      "WARNING:aqc_utils.slurm_manager:Molecule CC[N+](CC)(CC)CC already exists with the same Gaussian config with tags ['JS_substrate']. Not creating jobs.\n",
      "WARNING:aqc_utils.slurm_manager:Molecule [Na]OP(=O)(O[Na])O already exists with the same Gaussian config with tags ['JS_substrate']. Not creating jobs.\n",
      "INFO:aqc_utils.gaussian_input_generator:Generating Gaussian input files for 1 conformations.\n",
      "WARNING:aqc_utils.slurm_manager:A job with exactly the same parameters, molecule [Na]OP(=O)(O[Na])O[Na], conformation 0, workflow ('opt b3lyp/6-31G* scf=(xqc,tight)', 'freq b3lyp/6-31G* volume NMR pop=NPA density=current Geom=AllCheck Guess=Read', 'TD(NStates=10, Root=1) b3lyp/6-31G* volume pop=NPA density=current Geom=AllCheck Guess=Read') already exists. Not creating a duplicate\n"
     ]
    },
    {
     "name": "stdout",
     "output_type": "stream",
     "text": [
      "Na3O4P_3517_conf_0\n"
     ]
    },
    {
     "name": "stderr",
     "output_type": "stream",
     "text": [
      "WARNING:aqc_utils.slurm_manager:Molecule [Rb+] already exists with the same Gaussian config with tags ['JS_substrate']. Not creating jobs.\n",
      "INFO:aqc_utils.gaussian_input_generator:Generating Gaussian input files for 1 conformations.\n",
      "WARNING:aqc_utils.slurm_manager:A job with exactly the same parameters, molecule [Li]OC(=O)O[Li], conformation 0, workflow ('opt b3lyp/6-31G* scf=(xqc,tight)', 'freq b3lyp/6-31G* volume NMR pop=NPA density=current Geom=AllCheck Guess=Read', 'TD(NStates=10, Root=1) b3lyp/6-31G* volume pop=NPA density=current Geom=AllCheck Guess=Read') already exists. Not creating a duplicate\n"
     ]
    },
    {
     "name": "stdout",
     "output_type": "stream",
     "text": [
      "CLi2O3_05d7_conf_0\n"
     ]
    },
    {
     "name": "stderr",
     "output_type": "stream",
     "text": [
      "INFO:aqc_utils.gaussian_input_generator:Generating Gaussian input files for 1 conformations.\n",
      "WARNING:aqc_utils.slurm_manager:A job with exactly the same parameters, molecule [Cs]OC(=O)C(C)(C)C, conformation 0, workflow ('opt b3lyp/genecp scf=(xqc,tight)', 'freq b3lyp/genecp volume NMR pop=NPA density=current Geom=AllCheck Guess=Read', 'TD(NStates=10, Root=1) b3lyp/genecp volume pop=NPA density=current Geom=AllCheck Guess=Read') already exists. Not creating a duplicate\n"
     ]
    },
    {
     "name": "stdout",
     "output_type": "stream",
     "text": [
      "C5H9CsO2_dcc4_conf_0\n"
     ]
    },
    {
     "name": "stderr",
     "output_type": "stream",
     "text": [
      "WARNING:aqc_utils.slurm_manager:Molecule F[Cu]F already exists with the same Gaussian config with tags ['JS_substrate']. Not creating jobs.\n",
      "WARNING:aqc_utils.slurm_manager:Molecule CCCC[N+](CCCC)(CCCC)CCCC already exists with the same Gaussian config with tags ['JS_substrate']. Not creating jobs.\n",
      "WARNING:aqc_utils.slurm_manager:Molecule Br[Cu]Br already exists with the same Gaussian config with tags ['JS_substrate']. Not creating jobs.\n",
      "WARNING:aqc_utils.slurm_manager:Molecule O=S1(=O)O[Cu]O1 already exists with the same Gaussian config with tags ['JS_substrate']. Not creating jobs.\n",
      "WARNING:aqc_utils.slurm_manager:Molecule [Cu]I already exists with the same Gaussian config with tags ['JS_substrate']. Not creating jobs.\n",
      "WARNING:aqc_utils.slurm_manager:Molecule F[Mg]F already exists with the same Gaussian config with tags ['JS_substrate']. Not creating jobs.\n",
      "WARNING:aqc_utils.slurm_manager:Molecule F[Ag] already exists with the same Gaussian config with tags ['JS_substrate']. Not creating jobs.\n",
      "WARNING:aqc_utils.slurm_manager:Molecule F[Fe](F)F already exists with the same Gaussian config with tags ['JS_substrate']. Not creating jobs.\n",
      "WARNING:aqc_utils.slurm_manager:Molecule F[Zn]F already exists with the same Gaussian config with tags ['JS_substrate']. Not creating jobs.\n",
      "WARNING:aqc_utils.slurm_manager:Molecule [Cs+] already exists with the same Gaussian config with tags ['JS_substrate']. Not creating jobs.\n",
      "WARNING:aqc_utils.slurm_manager:Molecule [Na]OC(C)(C)C already exists with the same Gaussian config with tags ['JS_substrate']. Not creating jobs.\n",
      "WARNING:aqc_utils.slurm_manager:Molecule [Li]OC(C)(C)C already exists with the same Gaussian config with tags ['JS_substrate']. Not creating jobs.\n",
      "WARNING:aqc_utils.slurm_manager:Molecule OB(c1ccccc1)O already exists with the same Gaussian config with tags ['JS_substrate']. Not creating jobs.\n",
      "INFO:aqc_utils.gaussian_input_generator:Generating Gaussian input files for 1 conformations.\n",
      "WARNING:aqc_utils.slurm_manager:A job with exactly the same parameters, molecule CC(=O)O[Cu]OC(=O)C, conformation 0, workflow ('opt b3lyp/6-31G* scf=(xqc,tight)', 'freq b3lyp/6-31G* volume NMR pop=NPA density=current Geom=AllCheck Guess=Read', 'TD(NStates=10, Root=1) b3lyp/6-31G* volume pop=NPA density=current Geom=AllCheck Guess=Read') already exists. Not creating a duplicate\n"
     ]
    },
    {
     "name": "stdout",
     "output_type": "stream",
     "text": [
      "C4H6CuO4_1c52_conf_0\n"
     ]
    },
    {
     "name": "stderr",
     "output_type": "stream",
     "text": [
      "WARNING:aqc_utils.slurm_manager:Molecule C[Al](C)C already exists with the same Gaussian config with tags ['JS_substrate']. Not creating jobs.\n",
      "INFO:aqc_utils.gaussian_input_generator:Generating Gaussian input files for 1 conformations.\n",
      "WARNING:aqc_utils.slurm_manager:A job with exactly the same parameters, molecule F[Sr]F, conformation 0, workflow ('opt b3lyp/genecp scf=(xqc,tight)', 'freq b3lyp/genecp volume NMR pop=NPA density=current Geom=AllCheck Guess=Read', 'TD(NStates=10, Root=1) b3lyp/genecp volume pop=NPA density=current Geom=AllCheck Guess=Read') already exists. Not creating a duplicate\n"
     ]
    },
    {
     "name": "stdout",
     "output_type": "stream",
     "text": [
      "F2Sr_c851_conf_0\n"
     ]
    },
    {
     "name": "stderr",
     "output_type": "stream",
     "text": [
      "WARNING:aqc_utils.slurm_manager:Molecule COc1cccc(c1)[Zn](C)(C)(C)([Li])[Li] already exists with the same Gaussian config with tags ['JS_substrate']. Not creating jobs.\n",
      "WARNING:aqc_utils.slurm_manager:Molecule CN(c1ccc(cc1)[Zn](C)(C)(C)([Li])[Li])C already exists with the same Gaussian config with tags ['JS_substrate']. Not creating jobs.\n",
      "WARNING:aqc_utils.slurm_manager:Molecule [Li][Zn](c1ccc(cc1)CCO[Si](C(C)(C)C)(C)C)(C)(C)(C)[Li] already exists with the same Gaussian config with tags ['JS_substrate']. Not creating jobs.\n",
      "WARNING:aqc_utils.slurm_manager:Molecule C[Si](C(C)(C)C)(OCc1ccc(cc1)[Zn](C)(C)(C)([Li])[Li])C already exists with the same Gaussian config with tags ['JS_substrate']. Not creating jobs.\n",
      "WARNING:aqc_utils.slurm_manager:Molecule CC1(OCCO1)c1ccc(cc1)[Zn](C)(C)(C)([Li])[Li] already exists with the same Gaussian config with tags ['JS_substrate']. Not creating jobs.\n",
      "WARNING:aqc_utils.slurm_manager:Molecule [Li][Zn](c1ccc(cc1)c1ccccc1)(C)(C)(C)[Li] already exists with the same Gaussian config with tags ['JS_substrate']. Not creating jobs.\n",
      "WARNING:aqc_utils.slurm_manager:Molecule CCC[N+](CCC)(CCC)CCC already exists with the same Gaussian config with tags ['JS_substrate']. Not creating jobs.\n",
      "WARNING:aqc_utils.slurm_manager:Molecule C[N+](C)(C)C already exists with the same Gaussian config with tags ['JS_substrate']. Not creating jobs.\n",
      "WARNING:aqc_utils.slurm_manager:Molecule [Li]I already exists with the same Gaussian config with tags ['JS_substrate']. Not creating jobs.\n",
      "WARNING:aqc_utils.slurm_manager:Molecule [Li]OC(=O)C(C)(C)C already exists with the same Gaussian config with tags ['JS_substrate']. Not creating jobs.\n",
      "WARNING:aqc_utils.slurm_manager:Molecule Br[Mg]Br already exists with the same Gaussian config with tags ['JS_substrate']. Not creating jobs.\n",
      "WARNING:aqc_utils.slurm_manager:Molecule Br[Mg]c1ccc(cc1)N(c1ccccc1)c1ccccc1 already exists with the same Gaussian config with tags ['JS_substrate']. Not creating jobs.\n",
      "WARNING:aqc_utils.slurm_manager:Molecule Br[Mg]c1ccc2c(c1)cccc2 already exists with the same Gaussian config with tags ['JS_substrate']. Not creating jobs.\n",
      "WARNING:aqc_utils.slurm_manager:Molecule O[Na] already exists with the same Gaussian config with tags ['JS_substrate']. Not creating jobs.\n",
      "WARNING:aqc_utils.slurm_manager:Molecule CCO[Na] already exists with the same Gaussian config with tags ['JS_substrate']. Not creating jobs.\n",
      "WARNING:aqc_utils.slurm_manager:Molecule Cl[Mg]C[Si](C)(C)C already exists with the same Gaussian config with tags ['JS_substrate']. Not creating jobs.\n",
      "WARNING:aqc_utils.slurm_manager:Molecule Br[Mg]C=C already exists with the same Gaussian config with tags ['JS_substrate']. Not creating jobs.\n",
      "WARNING:aqc_utils.slurm_manager:Molecule CC1(C)COB(OC1)c1ccccc1 already exists with the same Gaussian config with tags ['JS_substrate']. Not creating jobs.\n",
      "WARNING:aqc_utils.slurm_manager:Molecule Cc1ccc(cc1)B1OCC(CO1)(C)C already exists with the same Gaussian config with tags ['JS_substrate']. Not creating jobs.\n",
      "WARNING:aqc_utils.slurm_manager:Molecule CN(c1ccc(cc1)B1OCC(CO1)(C)C)C already exists with the same Gaussian config with tags ['JS_substrate']. Not creating jobs.\n",
      "WARNING:aqc_utils.slurm_manager:Molecule FC(c1ccc(cc1)B1OCC(CO1)(C)C)(F)F already exists with the same Gaussian config with tags ['JS_substrate']. Not creating jobs.\n",
      "WARNING:aqc_utils.slurm_manager:Molecule CC(C[Al](c1ccccc1)CC(C)C)C already exists with the same Gaussian config with tags ['JS_substrate']. Not creating jobs.\n",
      "WARNING:aqc_utils.slurm_manager:Molecule [Li][Al](c1ccccc1)(C)(C)C already exists with the same Gaussian config with tags ['JS_substrate']. Not creating jobs.\n",
      "WARNING:aqc_utils.slurm_manager:Molecule C[Al](c1ccccc1)C already exists with the same Gaussian config with tags ['JS_substrate']. Not creating jobs.\n",
      "WARNING:aqc_utils.slurm_manager:Molecule CC(C[Al](c1ccccc1C)CC(C)C)C already exists with the same Gaussian config with tags ['JS_substrate']. Not creating jobs.\n",
      "WARNING:aqc_utils.slurm_manager:Molecule CC(C[Al](c1ccc(c(c1)C)C)CC(C)C)C already exists with the same Gaussian config with tags ['JS_substrate']. Not creating jobs.\n",
      "WARNING:aqc_utils.slurm_manager:Molecule COc1ccc(cc1)[Al](CC(C)C)CC(C)C already exists with the same Gaussian config with tags ['JS_substrate']. Not creating jobs.\n",
      "WARNING:aqc_utils.slurm_manager:Molecule CC(C[Al](c1ccc(cc1)C(F)(F)F)CC(C)C)C already exists with the same Gaussian config with tags ['JS_substrate']. Not creating jobs.\n",
      "WARNING:aqc_utils.slurm_manager:Molecule CC(C[Al](c1c(C)cccc1C)CC(C)C)C already exists with the same Gaussian config with tags ['JS_substrate']. Not creating jobs.\n",
      "WARNING:aqc_utils.slurm_manager:Molecule COc1cc(OC)cc(c1)[Al](CC(C)C)CC(C)C already exists with the same Gaussian config with tags ['JS_substrate']. Not creating jobs.\n",
      "WARNING:aqc_utils.slurm_manager:Molecule CC(C[Al](c1ccc(cc1)F)CC(C)C)C already exists with the same Gaussian config with tags ['JS_substrate']. Not creating jobs.\n",
      "WARNING:aqc_utils.slurm_manager:Molecule CC(C[Al](CC(C)C)C#C[Si](C(C)C)(C(C)C)C(C)C)C already exists with the same Gaussian config with tags ['JS_substrate']. Not creating jobs.\n",
      "WARNING:aqc_utils.slurm_manager:Molecule CC(C[Al](C=C(C)C)CC(C)C)C already exists with the same Gaussian config with tags ['JS_substrate']. Not creating jobs.\n",
      "WARNING:aqc_utils.slurm_manager:Molecule c1ccc(cc1)[Al](c1ccccc1)c1ccccc1 already exists with the same Gaussian config with tags ['JS_substrate']. Not creating jobs.\n",
      "WARNING:aqc_utils.slurm_manager:Molecule CC1(C)COB(OC1)c1ccc(cc1)F already exists with the same Gaussian config with tags ['JS_substrate']. Not creating jobs.\n",
      "WARNING:aqc_utils.slurm_manager:Molecule CC(O[Al](OC(C)(C)C)OC(C)(C)C)(C)C already exists with the same Gaussian config with tags ['JS_substrate']. Not creating jobs.\n",
      "WARNING:aqc_utils.slurm_manager:Molecule FB(F)F already exists with the same Gaussian config with tags ['JS_substrate']. Not creating jobs.\n",
      "WARNING:aqc_utils.slurm_manager:Molecule BrB(Br)Br already exists with the same Gaussian config with tags ['JS_substrate']. Not creating jobs.\n",
      "WARNING:aqc_utils.slurm_manager:Molecule FC(S(=O)(=O)O[Y](OS(=O)(=O)C(F)(F)F)OS(=O)(=O)C(F)(F)F)(F)F already exists with the same Gaussian config with tags ['JS_substrate']. Not creating jobs.\n",
      "WARNING:aqc_utils.slurm_manager:Molecule FC(S(=O)(=O)O[Al](OS(=O)(=O)C(F)(F)F)OS(=O)(=O)C(F)(F)F)(F)F already exists with the same Gaussian config with tags ['JS_substrate']. Not creating jobs.\n",
      "WARNING:aqc_utils.slurm_manager:Molecule FC(S(=O)(=O)O[Zn]OS(=O)(=O)C(F)(F)F)(F)F already exists with the same Gaussian config with tags ['JS_substrate']. Not creating jobs.\n",
      "WARNING:aqc_utils.slurm_manager:Molecule CCB(CC)CC already exists with the same Gaussian config with tags ['JS_substrate']. Not creating jobs.\n",
      "WARNING:aqc_utils.slurm_manager:Molecule COB(OC)OC already exists with the same Gaussian config with tags ['JS_substrate']. Not creating jobs.\n",
      "WARNING:aqc_utils.slurm_manager:Molecule CC(O[Zr](OC(C)(C)C)(OC(C)(C)C)OC(C)(C)C)(C)C already exists with the same Gaussian config with tags ['JS_substrate']. Not creating jobs.\n",
      "WARNING:aqc_utils.slurm_manager:Molecule CC(O[Y](OC(C)C)OC(C)C)C already exists with the same Gaussian config with tags ['JS_substrate']. Not creating jobs.\n",
      "WARNING:aqc_utils.slurm_manager:Molecule CC(=O)O[Ag] already exists with the same Gaussian config with tags ['JS_substrate']. Not creating jobs.\n",
      "WARNING:aqc_utils.slurm_manager:Molecule Cl[Zr](Cl)(Cl)Cl already exists with the same Gaussian config with tags ['JS_substrate']. Not creating jobs.\n"
     ]
    }
   ],
   "source": [
    "for mol in mols:\n",
    "    sm.create_jobs_for_molecule(mol, workflow_type=\"equilibrium\")"
   ]
  },
  {
   "cell_type": "code",
   "execution_count": 10,
   "id": "c2aa4b1c",
   "metadata": {
    "scrolled": false
   },
   "outputs": [
    {
     "data": {
      "text/html": [
       "<div>\n",
       "<style scoped>\n",
       "    .dataframe tbody tr th:only-of-type {\n",
       "        vertical-align: middle;\n",
       "    }\n",
       "\n",
       "    .dataframe tbody tr th {\n",
       "        vertical-align: top;\n",
       "    }\n",
       "\n",
       "    .dataframe thead th {\n",
       "        text-align: right;\n",
       "    }\n",
       "</style>\n",
       "<table border=\"1\" class=\"dataframe\">\n",
       "  <thead>\n",
       "    <tr style=\"text-align: right;\">\n",
       "      <th>status</th>\n",
       "      <th>done</th>\n",
       "      <th>failed</th>\n",
       "      <th>incomplete</th>\n",
       "      <th>submitted</th>\n",
       "      <th>uploaded</th>\n",
       "    </tr>\n",
       "    <tr>\n",
       "      <th>can</th>\n",
       "      <th></th>\n",
       "      <th></th>\n",
       "      <th></th>\n",
       "      <th></th>\n",
       "      <th></th>\n",
       "    </tr>\n",
       "  </thead>\n",
       "  <tbody>\n",
       "    <tr>\n",
       "      <th>BrB(Br)Br</th>\n",
       "      <td>0</td>\n",
       "      <td>0</td>\n",
       "      <td>0</td>\n",
       "      <td>0</td>\n",
       "      <td>1</td>\n",
       "    </tr>\n",
       "    <tr>\n",
       "      <th>Br[Cu]Br</th>\n",
       "      <td>0</td>\n",
       "      <td>0</td>\n",
       "      <td>0</td>\n",
       "      <td>0</td>\n",
       "      <td>1</td>\n",
       "    </tr>\n",
       "    <tr>\n",
       "      <th>Br[Mg]Br</th>\n",
       "      <td>0</td>\n",
       "      <td>0</td>\n",
       "      <td>0</td>\n",
       "      <td>0</td>\n",
       "      <td>1</td>\n",
       "    </tr>\n",
       "    <tr>\n",
       "      <th>Br[Mg]C1CCCCC1</th>\n",
       "      <td>0</td>\n",
       "      <td>0</td>\n",
       "      <td>0</td>\n",
       "      <td>0</td>\n",
       "      <td>1</td>\n",
       "    </tr>\n",
       "    <tr>\n",
       "      <th>Br[Mg]Cc1ccccc1</th>\n",
       "      <td>0</td>\n",
       "      <td>0</td>\n",
       "      <td>0</td>\n",
       "      <td>0</td>\n",
       "      <td>1</td>\n",
       "    </tr>\n",
       "    <tr>\n",
       "      <th>...</th>\n",
       "      <td>...</td>\n",
       "      <td>...</td>\n",
       "      <td>...</td>\n",
       "      <td>...</td>\n",
       "      <td>...</td>\n",
       "    </tr>\n",
       "    <tr>\n",
       "      <th>c1ccc(cc1)c1ccc2c(c1)c1cc(ccc1o2)c1ccccc1</th>\n",
       "      <td>0</td>\n",
       "      <td>1</td>\n",
       "      <td>0</td>\n",
       "      <td>0</td>\n",
       "      <td>0</td>\n",
       "    </tr>\n",
       "    <tr>\n",
       "      <th>c1ccc2c(c1)OCC2</th>\n",
       "      <td>0</td>\n",
       "      <td>1</td>\n",
       "      <td>0</td>\n",
       "      <td>0</td>\n",
       "      <td>0</td>\n",
       "    </tr>\n",
       "    <tr>\n",
       "      <th>c1ccc2c(c1)cc1c(c2)oc2c1cc1ccccc1c2</th>\n",
       "      <td>0</td>\n",
       "      <td>1</td>\n",
       "      <td>0</td>\n",
       "      <td>0</td>\n",
       "      <td>0</td>\n",
       "    </tr>\n",
       "    <tr>\n",
       "      <th>c1ccc2c(c1)ccc1c2c2c(o1)ccc1c2cccc1</th>\n",
       "      <td>0</td>\n",
       "      <td>0</td>\n",
       "      <td>0</td>\n",
       "      <td>0</td>\n",
       "      <td>1</td>\n",
       "    </tr>\n",
       "    <tr>\n",
       "      <th>c1ccc2c(c1)oc1c2cccc1</th>\n",
       "      <td>0</td>\n",
       "      <td>1</td>\n",
       "      <td>0</td>\n",
       "      <td>0</td>\n",
       "      <td>0</td>\n",
       "    </tr>\n",
       "  </tbody>\n",
       "</table>\n",
       "<p>524 rows × 5 columns</p>\n",
       "</div>"
      ],
      "text/plain": [
       "status                                     done  failed  incomplete  \\\n",
       "can                                                                   \n",
       "BrB(Br)Br                                     0       0           0   \n",
       "Br[Cu]Br                                      0       0           0   \n",
       "Br[Mg]Br                                      0       0           0   \n",
       "Br[Mg]C1CCCCC1                                0       0           0   \n",
       "Br[Mg]Cc1ccccc1                               0       0           0   \n",
       "...                                         ...     ...         ...   \n",
       "c1ccc(cc1)c1ccc2c(c1)c1cc(ccc1o2)c1ccccc1     0       1           0   \n",
       "c1ccc2c(c1)OCC2                               0       1           0   \n",
       "c1ccc2c(c1)cc1c(c2)oc2c1cc1ccccc1c2           0       1           0   \n",
       "c1ccc2c(c1)ccc1c2c2c(o1)ccc1c2cccc1           0       0           0   \n",
       "c1ccc2c(c1)oc1c2cccc1                         0       1           0   \n",
       "\n",
       "status                                     submitted  uploaded  \n",
       "can                                                             \n",
       "BrB(Br)Br                                          0         1  \n",
       "Br[Cu]Br                                           0         1  \n",
       "Br[Mg]Br                                           0         1  \n",
       "Br[Mg]C1CCCCC1                                     0         1  \n",
       "Br[Mg]Cc1ccccc1                                    0         1  \n",
       "...                                              ...       ...  \n",
       "c1ccc(cc1)c1ccc2c(c1)c1cc(ccc1o2)c1ccccc1          0         0  \n",
       "c1ccc2c(c1)OCC2                                    0         0  \n",
       "c1ccc2c(c1)cc1c(c2)oc2c1cc1ccccc1c2                0         0  \n",
       "c1ccc2c(c1)ccc1c2c2c(o1)ccc1c2cccc1                0         1  \n",
       "c1ccc2c(c1)oc1c2cccc1                              0         0  \n",
       "\n",
       "[524 rows x 5 columns]"
      ]
     },
     "execution_count": 10,
     "metadata": {},
     "output_type": "execute_result"
    }
   ],
   "source": [
    "sm.get_job_stats(split_by_can=True)"
   ]
  },
  {
   "cell_type": "code",
   "execution_count": 11,
   "id": "1637eca0",
   "metadata": {},
   "outputs": [
    {
     "name": "stderr",
     "output_type": "stream",
     "text": [
      "INFO:aqc_utils.slurm_manager:Submitting 0 jobs.\n"
     ]
    }
   ],
   "source": [
    "sm.submit_jobs()"
   ]
  },
  {
   "cell_type": "code",
   "execution_count": 12,
   "id": "be5c852a",
   "metadata": {
    "scrolled": true
   },
   "outputs": [
    {
     "data": {
      "text/html": [
       "<div>\n",
       "<style scoped>\n",
       "    .dataframe tbody tr th:only-of-type {\n",
       "        vertical-align: middle;\n",
       "    }\n",
       "\n",
       "    .dataframe tbody tr th {\n",
       "        vertical-align: top;\n",
       "    }\n",
       "\n",
       "    .dataframe thead th {\n",
       "        text-align: right;\n",
       "    }\n",
       "</style>\n",
       "<table border=\"1\" class=\"dataframe\">\n",
       "  <thead>\n",
       "    <tr style=\"text-align: right;\">\n",
       "      <th></th>\n",
       "      <th>RUNNING</th>\n",
       "    </tr>\n",
       "  </thead>\n",
       "  <tbody>\n",
       "    <tr>\n",
       "      <th>jobs</th>\n",
       "      <td>5</td>\n",
       "    </tr>\n",
       "  </tbody>\n",
       "</table>\n",
       "</div>"
      ],
      "text/plain": [
       "      RUNNING\n",
       "jobs        5"
      ]
     },
     "execution_count": 12,
     "metadata": {},
     "output_type": "execute_result"
    }
   ],
   "source": [
    "sm.squeue()"
   ]
  }
 ],
 "metadata": {
  "kernelspec": {
   "display_name": "Python 3 (ipykernel)",
   "language": "python",
   "name": "python3"
  },
  "language_info": {
   "codemirror_mode": {
    "name": "ipython",
    "version": 3
   },
   "file_extension": ".py",
   "mimetype": "text/x-python",
   "name": "python",
   "nbconvert_exporter": "python",
   "pygments_lexer": "ipython3",
   "version": "3.9.7"
  }
 },
 "nbformat": 4,
 "nbformat_minor": 5
}
