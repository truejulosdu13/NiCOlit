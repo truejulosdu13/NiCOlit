{
 "cells": [
  {
   "cell_type": "code",
   "execution_count": 79,
   "id": "d526616f",
   "metadata": {},
   "outputs": [],
   "source": [
    "import pandas as pd\n",
    "import numpy as np\n",
    "from sklearn.metrics import r2_score, mean_absolute_error, mean_squared_error\n",
    "from descriptors import dft_featurisation as dft_ft\n",
    "from descriptors import preprocessing as pp\n",
    "from sklearn.neighbors import KNeighborsRegressor\n",
    "from sklearn.pipeline import Pipeline\n",
    "from sklearn.metrics import r2_score\n",
    "from analysis import analysis_train_set_size, random_split, stratified_split "
   ]
  },
  {
   "cell_type": "code",
   "execution_count": 80,
   "id": "cf94914d",
   "metadata": {},
   "outputs": [],
   "source": [
    "df_1 = pd.read_csv('results/random_split_fp_descriptors_test_size_0.2')\n",
    "df_2 = pd.read_csv('results/random_split_dft_descriptors_test_size_0.2')\n",
    "df_3 = pd.read_csv('results/random_split_rxnfp_descriptors_test_size_0.2')"
   ]
  },
  {
   "cell_type": "code",
   "execution_count": 81,
   "id": "6ce2067b",
   "metadata": {},
   "outputs": [
    {
     "name": "stdout",
     "output_type": "stream",
     "text": [
      "0.0015816125024520626\n",
      "0.3719023014778473\n"
     ]
    }
   ],
   "source": [
    "df_u = df_3.copy()\n",
    "N = int(len(df_u)/10)\n",
    "R2 = []\n",
    "MAE = []\n",
    "RMSE = []\n",
    "for i in range(10):\n",
    "    df = df_u[i*N:(i+1)*N]\n",
    "    R2.append(r2_score(df[\"Yields\"], df[\"Predicted Yields\"]))\n",
    "    MAE.append(mean_absolute_error(df[\"Yields\"], df[\"Predicted Yields\"]))\n",
    "    RMSE.append(mean_squared_error(df[\"Yields\"], df[\"Predicted Yields\"]))\n",
    "print(np.var(R2))\n",
    "print(np.mean(R2))"
   ]
  },
  {
   "cell_type": "code",
   "execution_count": 82,
   "id": "fca37a69",
   "metadata": {},
   "outputs": [],
   "source": [
    "df_dft = pd.read_csv(\"data/NiCOlit.csv\", sep = ',')\n",
    "df_dft = pp.preprocess(df_dft)\n",
    "X_dft, y_dft, DOI_dft, mechanisms_dft, origins_dft, sub_dft, lig_dft = dft_ft.process_dataframe_dft(df_dft, data_path=\"data/utils/\", origin=False)"
   ]
  },
  {
   "cell_type": "code",
   "execution_count": 83,
   "id": "eb6521d0",
   "metadata": {},
   "outputs": [],
   "source": [
    "estimators = [('predictor', KNeighborsRegressor(n_neighbors=1))]\n",
    "pipe = Pipeline(estimators)\n",
    "metric = r2_score"
   ]
  },
  {
   "cell_type": "code",
   "execution_count": 100,
   "id": "e92664ac",
   "metadata": {},
   "outputs": [],
   "source": [
    "R2 = []\n",
    "for i in range(1,20):\n",
    "    values, baseline_values, model_values, stratification_values, additional_stratification_values = random_split(X_dft, y_dft, origins_dft, mechanisms_dft, predictor=KNeighborsRegressor(n_neighbors=i),\n",
    "                                                                                                              n_iterations=10)\n",
    "    display_df =  pd.DataFrame(zip(values, baseline_values, model_values, stratification_values, additional_stratification_values), \n",
    "                           columns = ['Yields', 'Baseline', 'Predicted Yields', 'Origin', 'Coupling Partner'])\n",
    "    R2.append(r2_score(display_df[\"Yields\"], display_df[\"Predicted Yields\"]))"
   ]
  },
  {
   "cell_type": "code",
   "execution_count": 103,
   "id": "5d63e606",
   "metadata": {},
   "outputs": [
    {
     "data": {
      "text/plain": [
       "[<matplotlib.lines.Line2D at 0x7f7d5d5a1a90>]"
      ]
     },
     "execution_count": 103,
     "metadata": {},
     "output_type": "execute_result"
    },
    {
     "data": {
      "image/png": "[encoded data removed]",
      "text/plain": [
       "<Figure size 432x288 with 1 Axes>"
      ]
     },
     "metadata": {
      "needs_background": "light"
     },
     "output_type": "display_data"
    }
   ],
   "source": [
    "import matplotlib.pyplot as plt\n",
    "plt.plot(R2)"
   ]
  },
  {
   "cell_type": "code",
   "execution_count": 104,
   "id": "3802e3d7",
   "metadata": {},
   "outputs": [
    {
     "data": {
      "text/plain": [
       "4"
      ]
     },
     "execution_count": 104,
     "metadata": {},
     "output_type": "execute_result"
    }
   ],
   "source": [
    "R2.index(max(R2))"
   ]
  },
  {
   "cell_type": "code",
   "execution_count": 105,
   "id": "50dd8203",
   "metadata": {},
   "outputs": [
    {
     "data": {
      "text/plain": [
       "0.2669695488904458"
      ]
     },
     "execution_count": 105,
     "metadata": {},
     "output_type": "execute_result"
    }
   ],
   "source": [
    "R2[0]"
   ]
  },
  {
   "cell_type": "code",
   "execution_count": 106,
   "id": "75ed0f94",
   "metadata": {},
   "outputs": [
    {
     "data": {
      "text/plain": [
       "0.43287567253725456"
      ]
     },
     "execution_count": 106,
     "metadata": {},
     "output_type": "execute_result"
    }
   ],
   "source": [
    "R2[4]"
   ]
  },
  {
   "cell_type": "code",
   "execution_count": 110,
   "id": "b8232455",
   "metadata": {},
   "outputs": [
    {
     "data": {
      "text/plain": [
       "702"
      ]
     },
     "execution_count": 110,
     "metadata": {},
     "output_type": "execute_result"
    }
   ],
   "source": [
    "list(df_dft[\"origin\"]).count(\"Optimisation\")"
   ]
  },
  {
   "cell_type": "code",
   "execution_count": 111,
   "id": "9b6355f0",
   "metadata": {},
   "outputs": [
    {
     "data": {
      "text/plain": [
       "704"
      ]
     },
     "execution_count": 111,
     "metadata": {},
     "output_type": "execute_result"
    }
   ],
   "source": [
    "list(df_dft[\"origin\"]).count(\"Scope\")"
   ]
  },
  {
   "cell_type": "code",
   "execution_count": null,
   "id": "0dc89470",
   "metadata": {},
   "outputs": [],
   "source": []
  }
 ],
 "metadata": {
  "kernelspec": {
   "display_name": "Python 3 (ipykernel)",
   "language": "python",
   "name": "python3"
  },
  "language_info": {
   "codemirror_mode": {
    "name": "ipython",
    "version": 3
   },
   "file_extension": ".py",
   "mimetype": "text/x-python",
   "name": "python",
   "nbconvert_exporter": "python",
   "pygments_lexer": "ipython3",
   "version": "3.9.7"
  }
 },
 "nbformat": 4,
 "nbformat_minor": 5
}
